{
  "cells": [
    {
      "cell_type": "markdown",
      "metadata": {
        "id": "view-in-github",
        "colab_type": "text"
      },
      "source": [
        "<a href=\"https://colab.research.google.com/github/amanda-eames/music_recommendation_system/blob/main/Music_Recommendation_System_Full_Code.ipynb\" target=\"_parent\"><img src=\"https://colab.research.google.com/assets/colab-badge.svg\" alt=\"Open In Colab\"/></a>"
      ]
    },
    {
      "cell_type": "markdown",
      "metadata": {
        "id": "DyAjEw4OHmDb"
      },
      "source": [
        "# **Music Recommendation System**"
      ]
    },
    {
      "cell_type": "markdown",
      "source": [
        "## **Problem Definition**\n",
        "\n",
        "### **The Context:**\n",
        "\n",
        " - In the present-day technology-centric society, customers demand a personalized experience. The entertainment industry is rapidly expanding, and there are multiple platforms that offer instant access to content, making it crucial for these platforms to assist users in discovering content that they enjoy. Companies like Spotify rely on identifying their customers' content preferences to increase user engagement on their platform. Spotify's intelligent recommendation system, which suggests songs based on users' likes and dislikes, has been instrumental in the company's significant growth in the market.\n",
        "\n",
        "### **The objective:**\n",
        "\n",
        " - Build a recommendation system to suggest the top 10 songs for a user based on the liklihood they will listen to the song\n",
        "\n",
        "### **The key questions:**\n",
        "\n",
        "- __data assement:__ need to understand the amount of data, the distribution of the data, account for any missing values, develop a data asset that can be used by each model.\n",
        "- __metric for measuring performance__: based on our goal what metric should be used to assess model performance. \n",
        "- __exploration of models__: what models should we explore.\n",
        "- __parameter tuning__: we should optimise a model by hyperparameter tuning to ensure we are getting the best performance for each model. \n",
        "- __model assessment__: based on the models explored, what model can best meet the objective.\n",
        "\n",
        "### **The problem formulation**:\n",
        "\n",
        "- To describe the problem in general terms, we have:  \n",
        "  $N$ users  \n",
        "  $M$ songs  \n",
        "  $L_{ij}$ as the likelihood of $i$ matching with $j$  \n",
        "  The goal:  \n",
        "  Produce an estimation $\\hat{L_{ij}}$ for all $i,j$  \n",
        "  such that $\\hat{L_{ij}} ≈ L_{ij}$ for all $i,j$\n",
        "\n",
        "\n"
      ],
      "metadata": {
        "id": "FMCaC7Q_tq1m"
      }
    },
    {
      "cell_type": "markdown",
      "metadata": {
        "id": "BVUiyhYTHS1t"
      },
      "source": [
        "## **Data Dictionary**\n",
        "\n",
        "The core data is the Taste Profile Subset released by the Echo Nest as part of the Million Song Dataset. There are two files in this dataset. The first file contains the details about the song id, titles, release, artist name, and the year of release. The second file contains the user id, song id, and the play count of users.\n",
        "\n",
        "__song_data__\n",
        "\n",
        "|attibute_name | description |\n",
        "| --- | ---|\n",
        "|song_id | A unique id given to every song|\n",
        "|title | Title of the song |\n",
        "|release | Name of the released album|\n",
        "|artist_name | Name of the artist | \n",
        "|year | Year of release |\n",
        "\n",
        "__count_data__\n",
        "\n",
        "|attribute_name | description |\n",
        "| --- | ---|\n",
        "|user _id | A unique id given to the user |\n",
        "|song_id | A unique id given to the song |\n",
        "|play_count | Number of times the song was played |\n",
        "\n",
        "## **Data Source**\n",
        "http://millionsongdataset.com/"
      ]
    },
    {
      "cell_type": "markdown",
      "metadata": {
        "id": "NRJtXkTrHxMQ"
      },
      "source": [
        "### **Importing Libraries and the Dataset**"
      ]
    },
    {
      "cell_type": "code",
      "execution_count": null,
      "metadata": {
        "id": "6SRzOPXI2Efn",
        "colab": {
          "base_uri": "https://localhost:8080/"
        },
        "outputId": "f84f607d-0f27-4c29-ed9f-711a6068d0aa"
      },
      "outputs": [
        {
          "output_type": "stream",
          "name": "stdout",
          "text": [
            "Mounted at /content/drive\n"
          ]
        }
      ],
      "source": [
        "# Mounting the drive\n",
        "from google.colab import drive\n",
        "drive.mount('/content/drive')"
      ]
    },
    {
      "cell_type": "code",
      "execution_count": null,
      "metadata": {
        "id": "R4YvKrpzId3K"
      },
      "outputs": [],
      "source": [
        "# Used to ignore the warning given as output of the code\n",
        "import warnings \n",
        "warnings.filterwarnings('ignore')\n",
        "\n",
        "# Basic libraries of python for numeric and dataframe computations\n",
        "import pandas as pd \n",
        "import numpy as np\n",
        "\n",
        "# Import Matplotlib the Basic library for data visualization\n",
        "import matplotlib.pyplot as plt \n",
        "\n",
        "# Import seaborn - Slightly advanced library for data visualization\n",
        "import seaborn as sns\n",
        "\n",
        "# Import the required library to compute the cosine similarity between two vectors\n",
        "from sklearn.metrics.pairwise import cosine_similarity\n",
        "\n",
        "# Import defaultdict from collections A dictionary output that does not raise a key error\n",
        "from collections import defaultdict \n",
        "\n",
        "# Impoort mean_squared_error : a performance metrics in sklearn\n",
        "from sklearn.metrics import mean_squared_error"
      ]
    },
    {
      "cell_type": "markdown",
      "metadata": {
        "id": "bUGKX140wf-S"
      },
      "source": [
        "### **Load the dataset**"
      ]
    },
    {
      "cell_type": "code",
      "execution_count": null,
      "metadata": {
        "id": "si6ulhIYImck"
      },
      "outputs": [],
      "source": [
        "# Importing the datasets\n",
        "df_song_data = pd.read_csv('/content/drive/MyDrive/song_data.csv')\n",
        "df_song_count = pd.read_csv('/content/drive/MyDrive/count_data.csv')"
      ]
    },
    {
      "cell_type": "markdown",
      "metadata": {
        "id": "12TKB2M7XyC6"
      },
      "source": [
        "### **Understanding the data by viewing a few observations**"
      ]
    },
    {
      "cell_type": "code",
      "execution_count": null,
      "metadata": {
        "id": "GCLzBuYiXlPM",
        "colab": {
          "base_uri": "https://localhost:8080/",
          "height": 459
        },
        "outputId": "773e456e-4c83-4928-d86b-c6934324416b"
      },
      "outputs": [
        {
          "output_type": "execute_result",
          "data": {
            "text/plain": [
              "              song_id                                              title  \\\n",
              "0  SOQMMHC12AB0180CB8                                       Silent Night   \n",
              "1  SOVFVAK12A8C1350D9                                        Tanssi vaan   \n",
              "2  SOGTUKN12AB017F4F1                                  No One Could Ever   \n",
              "3  SOBNYVR12A8C13558C                                      Si Vos Querés   \n",
              "4  SOHSBXH12A8C13B0DF                                   Tangle Of Aspens   \n",
              "5  SOZVAPQ12A8C13B63C  Symphony No. 1 G minor \"Sinfonie Serieuse\"/All...   \n",
              "6  SOQVRHI12A6D4FB2D7                                   We Have Got Love   \n",
              "7  SOEYRFT12AB018936C                                  2 Da Beat Ch'yall   \n",
              "8  SOPMIYT12A6D4F851E                                            Goodbye   \n",
              "9  SOJCFMH12A8C13B0C2                         Mama_ mama can't you see ?   \n",
              "\n",
              "                                release  \\\n",
              "0                 Monster Ballads X-Mas   \n",
              "1                           Karkuteillä   \n",
              "2                                Butter   \n",
              "3                               De Culo   \n",
              "4  Rene Ablaze Presents Winter Sessions   \n",
              "5      Berwald: Symphonies Nos. 1/2/3/4   \n",
              "6             Strictly The Best Vol. 34   \n",
              "7                               Da Bomb   \n",
              "8                             Danny Boy   \n",
              "9  March to cadence with the US marines   \n",
              "\n",
              "                                      artist_name  year  \n",
              "0                                Faster Pussy cat  2003  \n",
              "1                                Karkkiautomaatti  1995  \n",
              "2                                  Hudson Mohawke  2006  \n",
              "3                                     Yerba Brava  2003  \n",
              "4                                      Der Mystic     0  \n",
              "5                                David Montgomery     0  \n",
              "6                              Sasha / Turbulence     0  \n",
              "7                                      Kris Kross  1993  \n",
              "8                                    Joseph Locke     0  \n",
              "9  The Sun Harbor's Chorus-Documentary Recordings     0  "
            ],
            "text/html": [
              "\n",
              "  <div id=\"df-9c1b1242-00da-4dbe-abaa-32329a703e66\">\n",
              "    <div class=\"colab-df-container\">\n",
              "      <div>\n",
              "<style scoped>\n",
              "    .dataframe tbody tr th:only-of-type {\n",
              "        vertical-align: middle;\n",
              "    }\n",
              "\n",
              "    .dataframe tbody tr th {\n",
              "        vertical-align: top;\n",
              "    }\n",
              "\n",
              "    .dataframe thead th {\n",
              "        text-align: right;\n",
              "    }\n",
              "</style>\n",
              "<table border=\"1\" class=\"dataframe\">\n",
              "  <thead>\n",
              "    <tr style=\"text-align: right;\">\n",
              "      <th></th>\n",
              "      <th>song_id</th>\n",
              "      <th>title</th>\n",
              "      <th>release</th>\n",
              "      <th>artist_name</th>\n",
              "      <th>year</th>\n",
              "    </tr>\n",
              "  </thead>\n",
              "  <tbody>\n",
              "    <tr>\n",
              "      <th>0</th>\n",
              "      <td>SOQMMHC12AB0180CB8</td>\n",
              "      <td>Silent Night</td>\n",
              "      <td>Monster Ballads X-Mas</td>\n",
              "      <td>Faster Pussy cat</td>\n",
              "      <td>2003</td>\n",
              "    </tr>\n",
              "    <tr>\n",
              "      <th>1</th>\n",
              "      <td>SOVFVAK12A8C1350D9</td>\n",
              "      <td>Tanssi vaan</td>\n",
              "      <td>Karkuteillä</td>\n",
              "      <td>Karkkiautomaatti</td>\n",
              "      <td>1995</td>\n",
              "    </tr>\n",
              "    <tr>\n",
              "      <th>2</th>\n",
              "      <td>SOGTUKN12AB017F4F1</td>\n",
              "      <td>No One Could Ever</td>\n",
              "      <td>Butter</td>\n",
              "      <td>Hudson Mohawke</td>\n",
              "      <td>2006</td>\n",
              "    </tr>\n",
              "    <tr>\n",
              "      <th>3</th>\n",
              "      <td>SOBNYVR12A8C13558C</td>\n",
              "      <td>Si Vos Querés</td>\n",
              "      <td>De Culo</td>\n",
              "      <td>Yerba Brava</td>\n",
              "      <td>2003</td>\n",
              "    </tr>\n",
              "    <tr>\n",
              "      <th>4</th>\n",
              "      <td>SOHSBXH12A8C13B0DF</td>\n",
              "      <td>Tangle Of Aspens</td>\n",
              "      <td>Rene Ablaze Presents Winter Sessions</td>\n",
              "      <td>Der Mystic</td>\n",
              "      <td>0</td>\n",
              "    </tr>\n",
              "    <tr>\n",
              "      <th>5</th>\n",
              "      <td>SOZVAPQ12A8C13B63C</td>\n",
              "      <td>Symphony No. 1 G minor \"Sinfonie Serieuse\"/All...</td>\n",
              "      <td>Berwald: Symphonies Nos. 1/2/3/4</td>\n",
              "      <td>David Montgomery</td>\n",
              "      <td>0</td>\n",
              "    </tr>\n",
              "    <tr>\n",
              "      <th>6</th>\n",
              "      <td>SOQVRHI12A6D4FB2D7</td>\n",
              "      <td>We Have Got Love</td>\n",
              "      <td>Strictly The Best Vol. 34</td>\n",
              "      <td>Sasha / Turbulence</td>\n",
              "      <td>0</td>\n",
              "    </tr>\n",
              "    <tr>\n",
              "      <th>7</th>\n",
              "      <td>SOEYRFT12AB018936C</td>\n",
              "      <td>2 Da Beat Ch'yall</td>\n",
              "      <td>Da Bomb</td>\n",
              "      <td>Kris Kross</td>\n",
              "      <td>1993</td>\n",
              "    </tr>\n",
              "    <tr>\n",
              "      <th>8</th>\n",
              "      <td>SOPMIYT12A6D4F851E</td>\n",
              "      <td>Goodbye</td>\n",
              "      <td>Danny Boy</td>\n",
              "      <td>Joseph Locke</td>\n",
              "      <td>0</td>\n",
              "    </tr>\n",
              "    <tr>\n",
              "      <th>9</th>\n",
              "      <td>SOJCFMH12A8C13B0C2</td>\n",
              "      <td>Mama_ mama can't you see ?</td>\n",
              "      <td>March to cadence with the US marines</td>\n",
              "      <td>The Sun Harbor's Chorus-Documentary Recordings</td>\n",
              "      <td>0</td>\n",
              "    </tr>\n",
              "  </tbody>\n",
              "</table>\n",
              "</div>\n",
              "      <button class=\"colab-df-convert\" onclick=\"convertToInteractive('df-9c1b1242-00da-4dbe-abaa-32329a703e66')\"\n",
              "              title=\"Convert this dataframe to an interactive table.\"\n",
              "              style=\"display:none;\">\n",
              "        \n",
              "  <svg xmlns=\"http://www.w3.org/2000/svg\" height=\"24px\"viewBox=\"0 0 24 24\"\n",
              "       width=\"24px\">\n",
              "    <path d=\"M0 0h24v24H0V0z\" fill=\"none\"/>\n",
              "    <path d=\"M18.56 5.44l.94 2.06.94-2.06 2.06-.94-2.06-.94-.94-2.06-.94 2.06-2.06.94zm-11 1L8.5 8.5l.94-2.06 2.06-.94-2.06-.94L8.5 2.5l-.94 2.06-2.06.94zm10 10l.94 2.06.94-2.06 2.06-.94-2.06-.94-.94-2.06-.94 2.06-2.06.94z\"/><path d=\"M17.41 7.96l-1.37-1.37c-.4-.4-.92-.59-1.43-.59-.52 0-1.04.2-1.43.59L10.3 9.45l-7.72 7.72c-.78.78-.78 2.05 0 2.83L4 21.41c.39.39.9.59 1.41.59.51 0 1.02-.2 1.41-.59l7.78-7.78 2.81-2.81c.8-.78.8-2.07 0-2.86zM5.41 20L4 18.59l7.72-7.72 1.47 1.35L5.41 20z\"/>\n",
              "  </svg>\n",
              "      </button>\n",
              "      \n",
              "  <style>\n",
              "    .colab-df-container {\n",
              "      display:flex;\n",
              "      flex-wrap:wrap;\n",
              "      gap: 12px;\n",
              "    }\n",
              "\n",
              "    .colab-df-convert {\n",
              "      background-color: #E8F0FE;\n",
              "      border: none;\n",
              "      border-radius: 50%;\n",
              "      cursor: pointer;\n",
              "      display: none;\n",
              "      fill: #1967D2;\n",
              "      height: 32px;\n",
              "      padding: 0 0 0 0;\n",
              "      width: 32px;\n",
              "    }\n",
              "\n",
              "    .colab-df-convert:hover {\n",
              "      background-color: #E2EBFA;\n",
              "      box-shadow: 0px 1px 2px rgba(60, 64, 67, 0.3), 0px 1px 3px 1px rgba(60, 64, 67, 0.15);\n",
              "      fill: #174EA6;\n",
              "    }\n",
              "\n",
              "    [theme=dark] .colab-df-convert {\n",
              "      background-color: #3B4455;\n",
              "      fill: #D2E3FC;\n",
              "    }\n",
              "\n",
              "    [theme=dark] .colab-df-convert:hover {\n",
              "      background-color: #434B5C;\n",
              "      box-shadow: 0px 1px 3px 1px rgba(0, 0, 0, 0.15);\n",
              "      filter: drop-shadow(0px 1px 2px rgba(0, 0, 0, 0.3));\n",
              "      fill: #FFFFFF;\n",
              "    }\n",
              "  </style>\n",
              "\n",
              "      <script>\n",
              "        const buttonEl =\n",
              "          document.querySelector('#df-9c1b1242-00da-4dbe-abaa-32329a703e66 button.colab-df-convert');\n",
              "        buttonEl.style.display =\n",
              "          google.colab.kernel.accessAllowed ? 'block' : 'none';\n",
              "\n",
              "        async function convertToInteractive(key) {\n",
              "          const element = document.querySelector('#df-9c1b1242-00da-4dbe-abaa-32329a703e66');\n",
              "          const dataTable =\n",
              "            await google.colab.kernel.invokeFunction('convertToInteractive',\n",
              "                                                     [key], {});\n",
              "          if (!dataTable) return;\n",
              "\n",
              "          const docLinkHtml = 'Like what you see? Visit the ' +\n",
              "            '<a target=\"_blank\" href=https://colab.research.google.com/notebooks/data_table.ipynb>data table notebook</a>'\n",
              "            + ' to learn more about interactive tables.';\n",
              "          element.innerHTML = '';\n",
              "          dataTable['output_type'] = 'display_data';\n",
              "          await google.colab.output.renderOutput(dataTable, element);\n",
              "          const docLink = document.createElement('div');\n",
              "          docLink.innerHTML = docLinkHtml;\n",
              "          element.appendChild(docLink);\n",
              "        }\n",
              "      </script>\n",
              "    </div>\n",
              "  </div>\n",
              "  "
            ]
          },
          "metadata": {},
          "execution_count": 4
        }
      ],
      "source": [
        "# See top 10 records of count_df data\n",
        "df_song_data.head(10)"
      ]
    },
    {
      "cell_type": "code",
      "execution_count": null,
      "metadata": {
        "id": "tV1ed0ApXpu3",
        "colab": {
          "base_uri": "https://localhost:8080/",
          "height": 363
        },
        "outputId": "d9fcf532-9dbd-4dcc-c668-a0acedb05691"
      },
      "outputs": [
        {
          "output_type": "execute_result",
          "data": {
            "text/plain": [
              "   Unnamed: 0                                   user_id             song_id  \\\n",
              "0           0  b80344d063b5ccb3212f76538f3d9e43d87dca9e  SOAKIMP12A8C130995   \n",
              "1           1  b80344d063b5ccb3212f76538f3d9e43d87dca9e  SOBBMDR12A8C13253B   \n",
              "2           2  b80344d063b5ccb3212f76538f3d9e43d87dca9e  SOBXHDL12A81C204C0   \n",
              "3           3  b80344d063b5ccb3212f76538f3d9e43d87dca9e  SOBYHAJ12A6701BF1D   \n",
              "4           4  b80344d063b5ccb3212f76538f3d9e43d87dca9e  SODACBL12A8C13C273   \n",
              "5           5  b80344d063b5ccb3212f76538f3d9e43d87dca9e  SODDNQT12A6D4F5F7E   \n",
              "6           6  b80344d063b5ccb3212f76538f3d9e43d87dca9e  SODXRTY12AB0180F3B   \n",
              "7           7  b80344d063b5ccb3212f76538f3d9e43d87dca9e  SOFGUAY12AB017B0A8   \n",
              "8           8  b80344d063b5ccb3212f76538f3d9e43d87dca9e  SOFRQTD12A81C233C0   \n",
              "9           9  b80344d063b5ccb3212f76538f3d9e43d87dca9e  SOHQWYZ12A6D4FA701   \n",
              "\n",
              "   play_count  \n",
              "0           1  \n",
              "1           2  \n",
              "2           1  \n",
              "3           1  \n",
              "4           1  \n",
              "5           5  \n",
              "6           1  \n",
              "7           1  \n",
              "8           1  \n",
              "9           1  "
            ],
            "text/html": [
              "\n",
              "  <div id=\"df-4f62c991-f2b3-436a-bc83-4013ad5ff065\">\n",
              "    <div class=\"colab-df-container\">\n",
              "      <div>\n",
              "<style scoped>\n",
              "    .dataframe tbody tr th:only-of-type {\n",
              "        vertical-align: middle;\n",
              "    }\n",
              "\n",
              "    .dataframe tbody tr th {\n",
              "        vertical-align: top;\n",
              "    }\n",
              "\n",
              "    .dataframe thead th {\n",
              "        text-align: right;\n",
              "    }\n",
              "</style>\n",
              "<table border=\"1\" class=\"dataframe\">\n",
              "  <thead>\n",
              "    <tr style=\"text-align: right;\">\n",
              "      <th></th>\n",
              "      <th>Unnamed: 0</th>\n",
              "      <th>user_id</th>\n",
              "      <th>song_id</th>\n",
              "      <th>play_count</th>\n",
              "    </tr>\n",
              "  </thead>\n",
              "  <tbody>\n",
              "    <tr>\n",
              "      <th>0</th>\n",
              "      <td>0</td>\n",
              "      <td>b80344d063b5ccb3212f76538f3d9e43d87dca9e</td>\n",
              "      <td>SOAKIMP12A8C130995</td>\n",
              "      <td>1</td>\n",
              "    </tr>\n",
              "    <tr>\n",
              "      <th>1</th>\n",
              "      <td>1</td>\n",
              "      <td>b80344d063b5ccb3212f76538f3d9e43d87dca9e</td>\n",
              "      <td>SOBBMDR12A8C13253B</td>\n",
              "      <td>2</td>\n",
              "    </tr>\n",
              "    <tr>\n",
              "      <th>2</th>\n",
              "      <td>2</td>\n",
              "      <td>b80344d063b5ccb3212f76538f3d9e43d87dca9e</td>\n",
              "      <td>SOBXHDL12A81C204C0</td>\n",
              "      <td>1</td>\n",
              "    </tr>\n",
              "    <tr>\n",
              "      <th>3</th>\n",
              "      <td>3</td>\n",
              "      <td>b80344d063b5ccb3212f76538f3d9e43d87dca9e</td>\n",
              "      <td>SOBYHAJ12A6701BF1D</td>\n",
              "      <td>1</td>\n",
              "    </tr>\n",
              "    <tr>\n",
              "      <th>4</th>\n",
              "      <td>4</td>\n",
              "      <td>b80344d063b5ccb3212f76538f3d9e43d87dca9e</td>\n",
              "      <td>SODACBL12A8C13C273</td>\n",
              "      <td>1</td>\n",
              "    </tr>\n",
              "    <tr>\n",
              "      <th>5</th>\n",
              "      <td>5</td>\n",
              "      <td>b80344d063b5ccb3212f76538f3d9e43d87dca9e</td>\n",
              "      <td>SODDNQT12A6D4F5F7E</td>\n",
              "      <td>5</td>\n",
              "    </tr>\n",
              "    <tr>\n",
              "      <th>6</th>\n",
              "      <td>6</td>\n",
              "      <td>b80344d063b5ccb3212f76538f3d9e43d87dca9e</td>\n",
              "      <td>SODXRTY12AB0180F3B</td>\n",
              "      <td>1</td>\n",
              "    </tr>\n",
              "    <tr>\n",
              "      <th>7</th>\n",
              "      <td>7</td>\n",
              "      <td>b80344d063b5ccb3212f76538f3d9e43d87dca9e</td>\n",
              "      <td>SOFGUAY12AB017B0A8</td>\n",
              "      <td>1</td>\n",
              "    </tr>\n",
              "    <tr>\n",
              "      <th>8</th>\n",
              "      <td>8</td>\n",
              "      <td>b80344d063b5ccb3212f76538f3d9e43d87dca9e</td>\n",
              "      <td>SOFRQTD12A81C233C0</td>\n",
              "      <td>1</td>\n",
              "    </tr>\n",
              "    <tr>\n",
              "      <th>9</th>\n",
              "      <td>9</td>\n",
              "      <td>b80344d063b5ccb3212f76538f3d9e43d87dca9e</td>\n",
              "      <td>SOHQWYZ12A6D4FA701</td>\n",
              "      <td>1</td>\n",
              "    </tr>\n",
              "  </tbody>\n",
              "</table>\n",
              "</div>\n",
              "      <button class=\"colab-df-convert\" onclick=\"convertToInteractive('df-4f62c991-f2b3-436a-bc83-4013ad5ff065')\"\n",
              "              title=\"Convert this dataframe to an interactive table.\"\n",
              "              style=\"display:none;\">\n",
              "        \n",
              "  <svg xmlns=\"http://www.w3.org/2000/svg\" height=\"24px\"viewBox=\"0 0 24 24\"\n",
              "       width=\"24px\">\n",
              "    <path d=\"M0 0h24v24H0V0z\" fill=\"none\"/>\n",
              "    <path d=\"M18.56 5.44l.94 2.06.94-2.06 2.06-.94-2.06-.94-.94-2.06-.94 2.06-2.06.94zm-11 1L8.5 8.5l.94-2.06 2.06-.94-2.06-.94L8.5 2.5l-.94 2.06-2.06.94zm10 10l.94 2.06.94-2.06 2.06-.94-2.06-.94-.94-2.06-.94 2.06-2.06.94z\"/><path d=\"M17.41 7.96l-1.37-1.37c-.4-.4-.92-.59-1.43-.59-.52 0-1.04.2-1.43.59L10.3 9.45l-7.72 7.72c-.78.78-.78 2.05 0 2.83L4 21.41c.39.39.9.59 1.41.59.51 0 1.02-.2 1.41-.59l7.78-7.78 2.81-2.81c.8-.78.8-2.07 0-2.86zM5.41 20L4 18.59l7.72-7.72 1.47 1.35L5.41 20z\"/>\n",
              "  </svg>\n",
              "      </button>\n",
              "      \n",
              "  <style>\n",
              "    .colab-df-container {\n",
              "      display:flex;\n",
              "      flex-wrap:wrap;\n",
              "      gap: 12px;\n",
              "    }\n",
              "\n",
              "    .colab-df-convert {\n",
              "      background-color: #E8F0FE;\n",
              "      border: none;\n",
              "      border-radius: 50%;\n",
              "      cursor: pointer;\n",
              "      display: none;\n",
              "      fill: #1967D2;\n",
              "      height: 32px;\n",
              "      padding: 0 0 0 0;\n",
              "      width: 32px;\n",
              "    }\n",
              "\n",
              "    .colab-df-convert:hover {\n",
              "      background-color: #E2EBFA;\n",
              "      box-shadow: 0px 1px 2px rgba(60, 64, 67, 0.3), 0px 1px 3px 1px rgba(60, 64, 67, 0.15);\n",
              "      fill: #174EA6;\n",
              "    }\n",
              "\n",
              "    [theme=dark] .colab-df-convert {\n",
              "      background-color: #3B4455;\n",
              "      fill: #D2E3FC;\n",
              "    }\n",
              "\n",
              "    [theme=dark] .colab-df-convert:hover {\n",
              "      background-color: #434B5C;\n",
              "      box-shadow: 0px 1px 3px 1px rgba(0, 0, 0, 0.15);\n",
              "      filter: drop-shadow(0px 1px 2px rgba(0, 0, 0, 0.3));\n",
              "      fill: #FFFFFF;\n",
              "    }\n",
              "  </style>\n",
              "\n",
              "      <script>\n",
              "        const buttonEl =\n",
              "          document.querySelector('#df-4f62c991-f2b3-436a-bc83-4013ad5ff065 button.colab-df-convert');\n",
              "        buttonEl.style.display =\n",
              "          google.colab.kernel.accessAllowed ? 'block' : 'none';\n",
              "\n",
              "        async function convertToInteractive(key) {\n",
              "          const element = document.querySelector('#df-4f62c991-f2b3-436a-bc83-4013ad5ff065');\n",
              "          const dataTable =\n",
              "            await google.colab.kernel.invokeFunction('convertToInteractive',\n",
              "                                                     [key], {});\n",
              "          if (!dataTable) return;\n",
              "\n",
              "          const docLinkHtml = 'Like what you see? Visit the ' +\n",
              "            '<a target=\"_blank\" href=https://colab.research.google.com/notebooks/data_table.ipynb>data table notebook</a>'\n",
              "            + ' to learn more about interactive tables.';\n",
              "          element.innerHTML = '';\n",
              "          dataTable['output_type'] = 'display_data';\n",
              "          await google.colab.output.renderOutput(dataTable, element);\n",
              "          const docLink = document.createElement('div');\n",
              "          docLink.innerHTML = docLinkHtml;\n",
              "          element.appendChild(docLink);\n",
              "        }\n",
              "      </script>\n",
              "    </div>\n",
              "  </div>\n",
              "  "
            ]
          },
          "metadata": {},
          "execution_count": 5
        }
      ],
      "source": [
        "# See top 10 records of song_df data\n",
        "df_song_count.head(10)"
      ]
    },
    {
      "cell_type": "markdown",
      "metadata": {
        "id": "bvKb5FHcXzcN"
      },
      "source": [
        "### **Let us check the data types and and missing values of each column**"
      ]
    },
    {
      "cell_type": "code",
      "execution_count": null,
      "metadata": {
        "id": "yyoHc_cnX19J",
        "colab": {
          "base_uri": "https://localhost:8080/"
        },
        "outputId": "d1403727-47d7-4eab-c126-f3fa2b58d87c"
      },
      "outputs": [
        {
          "output_type": "stream",
          "name": "stdout",
          "text": [
            "<class 'pandas.core.frame.DataFrame'>\n",
            "RangeIndex: 1000000 entries, 0 to 999999\n",
            "Data columns (total 5 columns):\n",
            " #   Column       Non-Null Count    Dtype \n",
            "---  ------       --------------    ----- \n",
            " 0   song_id      1000000 non-null  object\n",
            " 1   title        999985 non-null   object\n",
            " 2   release      999995 non-null   object\n",
            " 3   artist_name  1000000 non-null  object\n",
            " 4   year         1000000 non-null  int64 \n",
            "dtypes: int64(1), object(4)\n",
            "memory usage: 38.1+ MB\n"
          ]
        }
      ],
      "source": [
        "# See the info of the count_df data\n",
        "df_song_data.info()"
      ]
    },
    {
      "cell_type": "code",
      "execution_count": null,
      "metadata": {
        "id": "rz3zDx_LX42y",
        "colab": {
          "base_uri": "https://localhost:8080/"
        },
        "outputId": "49cdc01b-47f4-4217-b87f-36735b7ed8e7"
      },
      "outputs": [
        {
          "output_type": "stream",
          "name": "stdout",
          "text": [
            "<class 'pandas.core.frame.DataFrame'>\n",
            "RangeIndex: 2000000 entries, 0 to 1999999\n",
            "Data columns (total 4 columns):\n",
            " #   Column      Dtype \n",
            "---  ------      ----- \n",
            " 0   Unnamed: 0  int64 \n",
            " 1   user_id     object\n",
            " 2   song_id     object\n",
            " 3   play_count  int64 \n",
            "dtypes: int64(2), object(2)\n",
            "memory usage: 61.0+ MB\n"
          ]
        }
      ],
      "source": [
        "# See the info of the song_df data\n",
        "df_song_count.info()"
      ]
    },
    {
      "cell_type": "code",
      "source": [
        "df_song_count.isna().sum()"
      ],
      "metadata": {
        "colab": {
          "base_uri": "https://localhost:8080/"
        },
        "id": "SLtKbX5K98zG",
        "outputId": "845503ec-daa4-4f6a-dbbd-4f2b2b5e1a7e"
      },
      "execution_count": null,
      "outputs": [
        {
          "output_type": "execute_result",
          "data": {
            "text/plain": [
              "Unnamed: 0    0\n",
              "user_id       0\n",
              "song_id       0\n",
              "play_count    0\n",
              "dtype: int64"
            ]
          },
          "metadata": {},
          "execution_count": 8
        }
      ]
    },
    {
      "cell_type": "markdown",
      "metadata": {
        "id": "Ze2TlWxpYadn"
      },
      "source": [
        "#### **Observations and Insights:**\n",
        "\n",
        "* __song_data__: song_id, title, release and artist_name are all object types and year is an int64. These are the expected data types. There is some missing data 15 records for the title and 5 for the release. \n",
        "\n",
        "* __song_count__:user_id and song_id are of object type and play_count is an int64 these are expected datatypes. The column Unamed 0, does not provide any value will be dropped. There is also no missing values for song_count\n"
      ]
    },
    {
      "cell_type": "code",
      "execution_count": null,
      "metadata": {
        "id": "oTeurvID2T9U"
      },
      "outputs": [],
      "source": [
        "# Left merge the count_df and song_df data on \"song_id\". Drop duplicates from song_df data simultaneously\n",
        "merge_df = pd.merge(df_song_count, df_song_data.drop_duplicates(['song_id']), on=\"song_id\", how=\"left\")\n",
        "\n",
        "# Drop the column 'Unnamed: 0'\n",
        "merge_df = merge_df.drop(['Unnamed: 0'], axis = 1)\n",
        "\n",
        "## Name the obtained dataframe as \"df\"\n",
        "df = merge_df.copy()"
      ]
    },
    {
      "cell_type": "code",
      "source": [
        "df.info()"
      ],
      "metadata": {
        "colab": {
          "base_uri": "https://localhost:8080/"
        },
        "id": "239CEruy9nVd",
        "outputId": "079ee03d-ae44-4954-91bd-8f7d29cc50da"
      },
      "execution_count": null,
      "outputs": [
        {
          "output_type": "stream",
          "name": "stdout",
          "text": [
            "<class 'pandas.core.frame.DataFrame'>\n",
            "Int64Index: 2000000 entries, 0 to 1999999\n",
            "Data columns (total 7 columns):\n",
            " #   Column       Dtype \n",
            "---  ------       ----- \n",
            " 0   user_id      object\n",
            " 1   song_id      object\n",
            " 2   play_count   int64 \n",
            " 3   title        object\n",
            " 4   release      object\n",
            " 5   artist_name  object\n",
            " 6   year         int64 \n",
            "dtypes: int64(2), object(5)\n",
            "memory usage: 122.1+ MB\n"
          ]
        }
      ]
    },
    {
      "cell_type": "code",
      "source": [
        "df.isna().sum()"
      ],
      "metadata": {
        "colab": {
          "base_uri": "https://localhost:8080/"
        },
        "id": "BPX9BLDO-LEY",
        "outputId": "a6d155dc-8745-43bc-9419-aec8eda76d3c"
      },
      "execution_count": null,
      "outputs": [
        {
          "output_type": "execute_result",
          "data": {
            "text/plain": [
              "user_id        0\n",
              "song_id        0\n",
              "play_count     0\n",
              "title          0\n",
              "release        0\n",
              "artist_name    0\n",
              "year           0\n",
              "dtype: int64"
            ]
          },
          "metadata": {},
          "execution_count": 11
        }
      ]
    },
    {
      "cell_type": "markdown",
      "metadata": {
        "id": "yWeY9ZT43XFX"
      },
      "source": [
        "**Think About It:** As the user_id and song_id are encrypted. Can they be encoded to numeric features?\n",
        "\n",
        "__Yes__ we can encode for user_id and song_id and make them numerical features "
      ]
    },
    {
      "cell_type": "code",
      "execution_count": null,
      "metadata": {
        "id": "oxeoOVxh2T9U",
        "colab": {
          "base_uri": "https://localhost:8080/",
          "height": 206
        },
        "outputId": "79a21d4a-1e7c-41cb-f4d2-e3a4781022fc"
      },
      "outputs": [
        {
          "output_type": "execute_result",
          "data": {
            "text/plain": [
              "   user_id  song_id  play_count            title  \\\n",
              "0    54961      153           1         The Cove   \n",
              "1    54961      413           2  Entre Dos Aguas   \n",
              "2    54961      736           1         Stronger   \n",
              "3    54961      750           1   Constellations   \n",
              "4    54961     1188           1     Learn To Fly   \n",
              "\n",
              "                         release    artist_name  year  \n",
              "0             Thicker Than Water   Jack Johnson     0  \n",
              "1            Flamenco Para Niños  Paco De Lucia  1976  \n",
              "2                     Graduation     Kanye West  2007  \n",
              "3              In Between Dreams   Jack Johnson  2005  \n",
              "4  There Is Nothing Left To Lose   Foo Fighters  1999  "
            ],
            "text/html": [
              "\n",
              "  <div id=\"df-0e814578-f81d-4e02-af06-9cf51e2ca558\">\n",
              "    <div class=\"colab-df-container\">\n",
              "      <div>\n",
              "<style scoped>\n",
              "    .dataframe tbody tr th:only-of-type {\n",
              "        vertical-align: middle;\n",
              "    }\n",
              "\n",
              "    .dataframe tbody tr th {\n",
              "        vertical-align: top;\n",
              "    }\n",
              "\n",
              "    .dataframe thead th {\n",
              "        text-align: right;\n",
              "    }\n",
              "</style>\n",
              "<table border=\"1\" class=\"dataframe\">\n",
              "  <thead>\n",
              "    <tr style=\"text-align: right;\">\n",
              "      <th></th>\n",
              "      <th>user_id</th>\n",
              "      <th>song_id</th>\n",
              "      <th>play_count</th>\n",
              "      <th>title</th>\n",
              "      <th>release</th>\n",
              "      <th>artist_name</th>\n",
              "      <th>year</th>\n",
              "    </tr>\n",
              "  </thead>\n",
              "  <tbody>\n",
              "    <tr>\n",
              "      <th>0</th>\n",
              "      <td>54961</td>\n",
              "      <td>153</td>\n",
              "      <td>1</td>\n",
              "      <td>The Cove</td>\n",
              "      <td>Thicker Than Water</td>\n",
              "      <td>Jack Johnson</td>\n",
              "      <td>0</td>\n",
              "    </tr>\n",
              "    <tr>\n",
              "      <th>1</th>\n",
              "      <td>54961</td>\n",
              "      <td>413</td>\n",
              "      <td>2</td>\n",
              "      <td>Entre Dos Aguas</td>\n",
              "      <td>Flamenco Para Niños</td>\n",
              "      <td>Paco De Lucia</td>\n",
              "      <td>1976</td>\n",
              "    </tr>\n",
              "    <tr>\n",
              "      <th>2</th>\n",
              "      <td>54961</td>\n",
              "      <td>736</td>\n",
              "      <td>1</td>\n",
              "      <td>Stronger</td>\n",
              "      <td>Graduation</td>\n",
              "      <td>Kanye West</td>\n",
              "      <td>2007</td>\n",
              "    </tr>\n",
              "    <tr>\n",
              "      <th>3</th>\n",
              "      <td>54961</td>\n",
              "      <td>750</td>\n",
              "      <td>1</td>\n",
              "      <td>Constellations</td>\n",
              "      <td>In Between Dreams</td>\n",
              "      <td>Jack Johnson</td>\n",
              "      <td>2005</td>\n",
              "    </tr>\n",
              "    <tr>\n",
              "      <th>4</th>\n",
              "      <td>54961</td>\n",
              "      <td>1188</td>\n",
              "      <td>1</td>\n",
              "      <td>Learn To Fly</td>\n",
              "      <td>There Is Nothing Left To Lose</td>\n",
              "      <td>Foo Fighters</td>\n",
              "      <td>1999</td>\n",
              "    </tr>\n",
              "  </tbody>\n",
              "</table>\n",
              "</div>\n",
              "      <button class=\"colab-df-convert\" onclick=\"convertToInteractive('df-0e814578-f81d-4e02-af06-9cf51e2ca558')\"\n",
              "              title=\"Convert this dataframe to an interactive table.\"\n",
              "              style=\"display:none;\">\n",
              "        \n",
              "  <svg xmlns=\"http://www.w3.org/2000/svg\" height=\"24px\"viewBox=\"0 0 24 24\"\n",
              "       width=\"24px\">\n",
              "    <path d=\"M0 0h24v24H0V0z\" fill=\"none\"/>\n",
              "    <path d=\"M18.56 5.44l.94 2.06.94-2.06 2.06-.94-2.06-.94-.94-2.06-.94 2.06-2.06.94zm-11 1L8.5 8.5l.94-2.06 2.06-.94-2.06-.94L8.5 2.5l-.94 2.06-2.06.94zm10 10l.94 2.06.94-2.06 2.06-.94-2.06-.94-.94-2.06-.94 2.06-2.06.94z\"/><path d=\"M17.41 7.96l-1.37-1.37c-.4-.4-.92-.59-1.43-.59-.52 0-1.04.2-1.43.59L10.3 9.45l-7.72 7.72c-.78.78-.78 2.05 0 2.83L4 21.41c.39.39.9.59 1.41.59.51 0 1.02-.2 1.41-.59l7.78-7.78 2.81-2.81c.8-.78.8-2.07 0-2.86zM5.41 20L4 18.59l7.72-7.72 1.47 1.35L5.41 20z\"/>\n",
              "  </svg>\n",
              "      </button>\n",
              "      \n",
              "  <style>\n",
              "    .colab-df-container {\n",
              "      display:flex;\n",
              "      flex-wrap:wrap;\n",
              "      gap: 12px;\n",
              "    }\n",
              "\n",
              "    .colab-df-convert {\n",
              "      background-color: #E8F0FE;\n",
              "      border: none;\n",
              "      border-radius: 50%;\n",
              "      cursor: pointer;\n",
              "      display: none;\n",
              "      fill: #1967D2;\n",
              "      height: 32px;\n",
              "      padding: 0 0 0 0;\n",
              "      width: 32px;\n",
              "    }\n",
              "\n",
              "    .colab-df-convert:hover {\n",
              "      background-color: #E2EBFA;\n",
              "      box-shadow: 0px 1px 2px rgba(60, 64, 67, 0.3), 0px 1px 3px 1px rgba(60, 64, 67, 0.15);\n",
              "      fill: #174EA6;\n",
              "    }\n",
              "\n",
              "    [theme=dark] .colab-df-convert {\n",
              "      background-color: #3B4455;\n",
              "      fill: #D2E3FC;\n",
              "    }\n",
              "\n",
              "    [theme=dark] .colab-df-convert:hover {\n",
              "      background-color: #434B5C;\n",
              "      box-shadow: 0px 1px 3px 1px rgba(0, 0, 0, 0.15);\n",
              "      filter: drop-shadow(0px 1px 2px rgba(0, 0, 0, 0.3));\n",
              "      fill: #FFFFFF;\n",
              "    }\n",
              "  </style>\n",
              "\n",
              "      <script>\n",
              "        const buttonEl =\n",
              "          document.querySelector('#df-0e814578-f81d-4e02-af06-9cf51e2ca558 button.colab-df-convert');\n",
              "        buttonEl.style.display =\n",
              "          google.colab.kernel.accessAllowed ? 'block' : 'none';\n",
              "\n",
              "        async function convertToInteractive(key) {\n",
              "          const element = document.querySelector('#df-0e814578-f81d-4e02-af06-9cf51e2ca558');\n",
              "          const dataTable =\n",
              "            await google.colab.kernel.invokeFunction('convertToInteractive',\n",
              "                                                     [key], {});\n",
              "          if (!dataTable) return;\n",
              "\n",
              "          const docLinkHtml = 'Like what you see? Visit the ' +\n",
              "            '<a target=\"_blank\" href=https://colab.research.google.com/notebooks/data_table.ipynb>data table notebook</a>'\n",
              "            + ' to learn more about interactive tables.';\n",
              "          element.innerHTML = '';\n",
              "          dataTable['output_type'] = 'display_data';\n",
              "          await google.colab.output.renderOutput(dataTable, element);\n",
              "          const docLink = document.createElement('div');\n",
              "          docLink.innerHTML = docLinkHtml;\n",
              "          element.appendChild(docLink);\n",
              "        }\n",
              "      </script>\n",
              "    </div>\n",
              "  </div>\n",
              "  "
            ]
          },
          "metadata": {},
          "execution_count": 12
        }
      ],
      "source": [
        "# Apply label encoding for \"user_id\" and \"song_id\"\n",
        "from sklearn.preprocessing import LabelEncoder\n",
        "\n",
        "le = LabelEncoder()\n",
        "\n",
        "df['user_id'] = le.fit_transform(df['user_id'])\n",
        "df['song_id'] = le.fit_transform(df['song_id'])\n",
        "\n",
        "df.head()"
      ]
    },
    {
      "cell_type": "markdown",
      "metadata": {
        "id": "6Q9EFYwj35Ju"
      },
      "source": [
        "**Think About It:** As the data also contains users who have listened to very few songs and vice versa, is it required to filter the data so that it contains users who have listened to a good count of songs and vice versa?\n",
        "\n",
        "__Tresholds__ \n",
        "\n",
        "It is important to reduce the data set by setting thresholds based on the minimal interaction from users and songs. \n",
        "* __90 songs__: meaning users must have interacted with 90 songs\n",
        "* __120 users__: require that the songs have been listen to be at least 120 users.   "
      ]
    },
    {
      "cell_type": "markdown",
      "source": [
        "A dataset of size 2000000 rows x 7 columns can be quite large and may require a lot of computing resources to process. This can lead to long processing times and can make it difficult to train and evaluate your model efficiently.\n",
        "In order to address this issue, it may be necessary to trim down your dataset to a more manageable size."
      ],
      "metadata": {
        "id": "gcY5LKAQvk9J"
      }
    },
    {
      "cell_type": "code",
      "execution_count": null,
      "metadata": {
        "id": "7GGH9TW0_9uX"
      },
      "outputs": [],
      "source": [
        "# Get the column containing the users\n",
        "users = df.user_id\n",
        "# Create a dictionary from users to their number of songs\n",
        "ratings_count = dict()\n",
        "for user in users:\n",
        "    # If we already have the user, just add 1 to their rating count\n",
        "    if user in ratings_count:\n",
        "        ratings_count[user] += 1\n",
        "    # Otherwise, set their rating count to 1\n",
        "    else:\n",
        "        ratings_count[user] = 1    "
      ]
    },
    {
      "cell_type": "code",
      "execution_count": null,
      "metadata": {
        "id": "-cc6mOK7_9uX"
      },
      "outputs": [],
      "source": [
        "# We want our users to have listened at least 90 songs\n",
        "RATINGS_CUTOFF = 90\n",
        "remove_users = []\n",
        "for user, num_ratings in ratings_count.items():\n",
        "    if num_ratings < RATINGS_CUTOFF:\n",
        "        remove_users.append(user)\n",
        "df = df.loc[~df.user_id.isin(remove_users)]"
      ]
    },
    {
      "cell_type": "code",
      "execution_count": null,
      "metadata": {
        "id": "B5BS-Wk5_9uY"
      },
      "outputs": [],
      "source": [
        "# Get the column containing the songs\n",
        "songs = df.song_id\n",
        "# Create a dictionary from songs to their number of users\n",
        "ratings_count = dict()\n",
        "for song in songs:\n",
        "    # If we already have the song, just add 1 to their rating count\n",
        "    if song in ratings_count:\n",
        "        ratings_count[song] += 1\n",
        "    # Otherwise, set their rating count to 1\n",
        "    else:\n",
        "        ratings_count[song] = 1    "
      ]
    },
    {
      "cell_type": "code",
      "execution_count": null,
      "metadata": {
        "id": "_nCtGwGO_9uY"
      },
      "outputs": [],
      "source": [
        "# We want our song to be listened by atleast 120 users to be considred\n",
        "# We want our song to be listened by atleast 120 users to be considred\n",
        "RATINGS_CUTOFF = 120\n",
        "remove_songs = []\n",
        "for song, num_ratings in ratings_count.items():\n",
        "    if num_ratings < RATINGS_CUTOFF:\n",
        "        remove_songs.append(song)\n",
        "df_final= df.loc[~df.song_id.isin(remove_songs)]"
      ]
    },
    {
      "cell_type": "code",
      "execution_count": null,
      "metadata": {
        "id": "8qaKeoMcGpad"
      },
      "outputs": [],
      "source": [
        "# Drop records with play_count more than(>) 5\n",
        "df_final=df_final[df_final.play_count<=5]"
      ]
    },
    {
      "cell_type": "code",
      "execution_count": null,
      "metadata": {
        "id": "aL1JZ00o5JtQ",
        "colab": {
          "base_uri": "https://localhost:8080/"
        },
        "outputId": "6934c73e-5c62-4bcd-d5d2-30b2ff3b6c16"
      },
      "outputs": [
        {
          "output_type": "execute_result",
          "data": {
            "text/plain": [
              "(117876, 7)"
            ]
          },
          "metadata": {},
          "execution_count": 18
        }
      ],
      "source": [
        "# Check the shape of the data\n",
        "df_final.shape"
      ]
    },
    {
      "cell_type": "code",
      "source": [
        "print(remove_users)"
      ],
      "metadata": {
        "colab": {
          "base_uri": "https://localhost:8080/"
        },
        "id": "va5CTbp_ASLd",
        "outputId": "55ff24ce-a0e3-4d43-f729-93fafa160957"
      },
      "execution_count": null,
      "outputs": [
        {
          "output_type": "stream",
          "name": "stdout",
          "text": [
            "[54961, 39877, 56522, 40874, 45012, 22570, 66678, 47087, 46575, 54498, 63855, 59353, 20639, 70730, 6647, 50286, 3204, 38632, 19147, 74048, 48241, 19194, 13178, 42347, 57055, 5416, 44537, 12898, 58003, 18808, 43278, 70892, 73298, 9415, 21487, 76143, 63872, 359, 24533, 20082, 43942, 34420, 60317, 53867, 12635, 33130, 68660, 45949, 35629, 49202, 54615, 49608, 38327, 45988, 70816, 75935, 3540, 18971, 7798, 49235, 72300, 65206, 22784, 41940, 17679, 58071, 384, 47801, 29430, 7952, 54091, 72841, 9670, 37560, 69683, 6937, 35957, 19076, 44618, 2282, 38800, 26436, 54164, 6285, 30346, 25492, 15550, 14046, 47803, 70178, 25651, 70000, 52925, 44648, 22447, 6872, 42650, 37000, 24267, 53923, 56544, 21274, 40553, 39887, 27881, 68345, 58076, 19568, 6888, 4351, 70647, 17831, 64176, 40543, 17192, 49395, 55758, 37086, 68099, 24524, 28077, 68048, 41638, 75095, 57655, 69800, 4383, 10723, 66723, 12383, 10374, 69499, 56100, 35178, 25875, 1957, 69331, 11205, 6962, 1106, 54985, 66587, 70769, 37218, 73336, 14733, 24905, 21914, 21022, 5364, 76260, 31007, 31739, 54038, 10626, 16375, 45100, 41920, 70127, 49462, 46974, 67544, 52602, 7580, 13742, 44630, 23039, 15529, 74957, 65917, 29269, 42736, 38260, 51929, 21723, 45910, 58637, 20336, 44165, 62889, 46036, 57842, 19069, 68752, 61220, 28120, 56716, 68474, 67003, 53778, 37800, 4221, 71509, 35744, 57332, 71948, 55381, 37453, 5106, 64929, 59211, 24735, 58257, 42949, 12207, 60893, 31951, 52915, 63309, 45974, 22571, 24049, 70205, 2930, 56359, 46710, 19680, 69790, 27069, 16796, 24651, 63590, 65943, 49832, 28913, 3571, 30503, 24889, 36997, 7759, 24111, 12026, 74600, 61684, 37380, 67139, 35057, 32798, 19107, 31193, 19814, 47024, 21859, 70354, 24978, 31691, 27042, 25062, 65657, 67545, 42056, 6555, 19022, 71814, 17033, 67884, 75358, 6875, 68028, 1576, 44723, 71505, 29278, 46762, 66062, 2931, 16962, 22540, 19916, 22815, 26967, 13485, 32958, 45354, 69741, 35736, 29819, 23627, 6056, 5683, 30576, 17278, 24213, 11130, 65909, 9824, 41720, 68747, 25374, 33165, 69827, 73575, 73475, 31938, 12223, 75569, 13133, 68134, 16374, 49514, 52163, 14759, 30697, 75100, 4037, 35564, 66788, 39566, 19035, 60626, 69675, 10768, 32094, 15324, 17000, 50337, 8115, 10275, 7699, 4710, 42893, 22888, 47116, 26205, 41666, 43040, 18642, 28101, 58921, 20864, 15219, 22429, 50294, 54103, 58939, 57705, 23431, 8815, 55281, 55704, 57006, 2544, 6432, 3679, 59302, 62934, 2570, 55789, 37818, 35281, 57909, 12919, 60532, 3833, 45705, 50430, 69860, 59919, 22960, 59443, 26064, 63215, 19348, 60795, 8077, 20380, 16955, 18966, 22279, 49179, 4218, 16353, 35867, 66173, 41899, 16935, 69190, 24546, 58291, 12059, 43715, 16233, 11128, 71716, 75000, 35296, 21129, 12437, 49, 51271, 13190, 30955, 64338, 1114, 75482, 64871, 34187, 74938, 43123, 54935, 54627, 16058, 8808, 48108, 33848, 48883, 53950, 19617, 38857, 7310, 31810, 46478, 23600, 4130, 30950, 65509, 61927, 24185, 66308, 41758, 72966, 8208, 16716, 37381, 45480, 16292, 68364, 15860, 24375, 2477, 58797, 34074, 24782, 16914, 29301, 46427, 27948, 41985, 57343, 18199, 54337, 33304, 59763, 67816, 6705, 37753, 54419, 37055, 25107, 53444, 38728, 66796, 7644, 68619, 74773, 40201, 23445, 18318, 41515, 58775, 994, 31416, 14393, 1656, 61580, 25510, 27537, 48420, 10004, 66488, 50338, 16585, 24158, 31103, 59140, 59195, 62274, 54982, 43963, 57479, 32912, 15852, 55412, 53619, 8884, 21773, 58679, 69421, 57604, 4948, 46808, 22524, 18385, 16771, 48294, 11856, 3377, 5672, 61159, 6749, 38579, 8529, 25850, 3822, 18162, 69183, 12268, 62871, 2828, 20224, 63134, 30666, 36731, 3216, 57000, 53971, 33102, 6961, 47304, 54949, 23560, 54146, 39303, 75288, 3001, 55637, 55070, 64200, 23335, 39206, 34403, 63816, 11065, 45081, 65007, 46383, 47900, 5594, 17455, 70135, 38796, 56212, 49056, 65287, 39908, 46679, 51559, 18379, 61316, 32714, 63035, 73724, 44438, 54413, 49509, 64603, 47091, 41419, 63817, 41035, 24779, 11656, 66174, 48616, 36577, 2146, 74145, 67333, 63011, 63000, 21348, 39382, 57898, 41556, 41000, 39758, 53607, 23749, 6401, 36864, 439, 57329, 65290, 48869, 44195, 53918, 12642, 36708, 76020, 15641, 56192, 53451, 15470, 46832, 75113, 30936, 10586, 22751, 16695, 66525, 27862, 4332, 32896, 13917, 21199, 29399, 23612, 21865, 52226, 42709, 4506, 52919, 38468, 1850, 12602, 51984, 25306, 63769, 68170, 35388, 45286, 68081, 36785, 66720, 17441, 64928, 29738, 16033, 67677, 49447, 73203, 68499, 66943, 58760, 34575, 14734, 12007, 61524, 11546, 72806, 32716, 40199, 20151, 21413, 43178, 43992, 25185, 9598, 61371, 61457, 45224, 59566, 12527, 1822, 42192, 56823, 34981, 55114, 53666, 46403, 33810, 4, 70652, 27591, 72958, 35264, 7496, 29761, 70608, 26275, 8569, 32285, 12273, 3734, 56644, 56904, 67461, 51267, 56006, 60010, 33786, 64330, 39738, 50904, 5730, 29111, 37056, 76100, 8760, 33323, 21128, 65661, 46303, 7278, 36696, 49974, 2217, 60510, 26157, 58971, 12480, 51443, 12671, 44895, 62654, 63558, 21577, 16297, 47462, 27483, 35142, 3208, 14806, 18256, 67222, 6099, 60060, 40930, 39469, 28166, 32510, 19351, 40666, 36342, 51379, 17590, 8425, 17459, 17789, 64429, 70999, 71513, 66038, 65975, 56567, 57965, 41042, 26028, 19056, 15627, 54977, 60631, 47968, 28347, 22308, 55669, 20912, 73319, 7914, 34418, 44263, 74241, 16646, 48914, 65160, 778, 61548, 15009, 54053, 27199, 29320, 52764, 42812, 15163, 56246, 38559, 38558, 29809, 23147, 64407, 8761, 21958, 2030, 73372, 64624, 40104, 17371, 39612, 59121, 6475, 47033, 54325, 33256, 63415, 55629, 37708, 21001, 45359, 29249, 33201, 31324, 8616, 71890, 36487, 6073, 72697, 1624, 38125, 4145, 21882, 12329, 16538, 38709, 29504, 4863, 19447, 33546, 23117, 73557, 49763, 55555, 23754, 16972, 25883, 37389, 19964, 2205, 16708, 161, 33926, 18852, 55887, 23753, 32333, 60986, 20935, 19646, 15749, 75666, 24514, 14607, 38370, 33298, 5283, 46454, 74828, 42686, 58980, 48643, 19098, 55106, 4335, 2490, 18860, 62507, 54896, 70976, 40127, 47209, 65275, 66949, 59374, 62016, 3820, 29286, 7731, 46788, 71289, 33273, 13416, 26316, 34496, 4273, 57675, 59281, 3101, 74435, 45999, 47818, 75292, 28952, 48331, 46770, 4238, 52743, 31800, 49711, 74688, 60166, 27369, 12085, 52684, 60835, 51720, 10795, 15245, 68200, 33037, 70985, 27850, 60757, 54567, 70344, 34492, 70418, 75276, 56798, 6537, 8928, 33058, 23764, 50168, 63809, 74128, 74508, 31138, 42798, 18135, 56876, 43491, 38019, 27871, 29229, 52003, 60596, 20537, 1487, 31880, 12701, 54216, 67871, 49333, 40391, 74, 3737, 45079, 72006, 74015, 26087, 74698, 53668, 46999, 33383, 51402, 49063, 16942, 67995, 60550, 19754, 34497, 61294, 54065, 51864, 66575, 62907, 56921, 71692, 48521, 13683, 12564, 9350, 31601, 7810, 19612, 71731, 66479, 29086, 5061, 60735, 28579, 53704, 51999, 57028, 30805, 29166, 68924, 31848, 56930, 73996, 52125, 31903, 5805, 56461, 20908, 8917, 75797, 50189, 56031, 12773, 46189, 10905, 71076, 25057, 10320, 30683, 51657, 66768, 10729, 25671, 13670, 28628, 11632, 49708, 63898, 27016, 41101, 18337, 31356, 13298, 67456, 27186, 50913, 40596, 63729, 12867, 26851, 9194, 15188, 13853, 44599, 66034, 42349, 14460, 60456, 16128, 1244, 3728, 66180, 14637, 59500, 66422, 10233, 13027, 50403, 74074, 53447, 31081, 52102, 17212, 44234, 45242, 1095, 2653, 71381, 63316, 61559, 41837, 64487, 111, 72488, 74433, 55456, 38357, 6197, 25801, 29012, 71307, 59873, 53198, 45618, 55583, 32032, 33842, 19702, 37341, 42052, 3895, 40051, 60705, 18395, 60525, 67840, 5781, 7308, 19551, 44340, 64187, 21517, 13766, 57416, 32103, 55104, 69687, 35438, 30478, 29457, 49049, 56456, 72432, 31852, 44293, 34890, 70185, 32707, 58428, 59265, 15390, 20419, 30487, 70218, 66031, 21550, 71762, 29759, 16014, 42254, 16741, 57037, 6852, 58360, 36300, 53180, 8466, 3919, 56007, 859, 5839, 11549, 63283, 8697, 71690, 58966, 15122, 29591, 7985, 40187, 26738, 75368, 34785, 47904, 23863, 75240, 24105, 30005, 55164, 67990, 28132, 55721, 56046, 76242, 28014, 55346, 1996, 45314, 900, 44883, 36494, 18556, 75686, 38595, 53546, 34583, 7190, 24539, 75607, 29897, 72094, 75505, 53012, 19839, 20821, 47084, 63912, 54661, 32764, 59706, 46617, 40261, 24694, 51963, 23015, 52085, 23571, 59591, 35386, 31002, 3515, 59557, 57076, 29576, 10106, 47128, 20280, 26170, 58171, 29426, 26995, 29689, 4602, 7986, 15214, 68949, 76318, 35718, 10805, 38070, 38404, 18393, 53834, 71778, 63127, 76030, 56347, 45156, 44718, 14155, 42369, 11216, 67622, 37020, 6717, 65529, 76000, 55212, 16671, 12447, 28622, 18035, 31991, 55420, 73554, 58646, 75535, 44694, 41468, 2813, 2291, 14613, 71968, 27802, 63471, 22875, 36641, 21152, 42616, 48121, 75171, 5876, 16334, 4378, 6760, 61621, 2663, 60720, 35290, 2120, 19735, 35135, 22341, 57038, 60085, 73145, 1444, 22657, 6748, 7164, 7035, 22223, 70759, 16257, 69343, 61495, 40877, 1972, 24208, 7889, 25368, 29396, 29613, 76348, 36399, 73428, 1962, 10332, 27121, 28393, 1680, 38386, 49431, 43230, 13310, 6415, 52490, 4997, 21175, 37460, 67254, 4600, 20362, 65539, 66809, 10179, 21640, 42263, 7538, 75151, 21269, 39308, 28300, 53903, 26691, 67725, 18466, 1271, 3120, 24822, 24286, 21312, 5210, 1631, 35603, 2393, 47961, 51523, 14959, 43352, 40984, 3130, 20126, 32519, 40175, 61618, 45120, 76131, 70294, 22372, 46355, 33708, 25516, 67034, 66118, 4570, 74368, 71603, 61016, 30984, 32971, 1178, 3301, 327, 63077, 62807, 72698, 38391, 19775, 1498, 39732, 6926, 5696, 16570, 64518, 34295, 56422, 13222, 51427, 55322, 72978, 58367, 66933, 16049, 52449, 42642, 17646, 52047, 75714, 9798, 68142, 2097, 17443, 15626, 70275, 58843, 3653, 960, 51159, 27192, 35036, 32326, 50506, 14587, 30007, 64788, 73037, 46647, 28569, 71037, 13672, 62348, 35171, 50437, 3957, 67069, 31592, 75866, 64847, 8031, 7484, 25831, 67162, 42236, 56721, 37037, 3727, 41713, 10960, 18362, 14761, 42117, 9239, 9011, 70255, 9629, 49623, 68087, 61440, 14196, 46571, 62039, 27906, 64766, 47016, 52992, 56410, 75519, 2823, 31780, 29805, 5979, 34731, 45942, 47613, 38572, 12932, 26082, 44271, 56481, 52965, 2081, 65976, 71547, 14063, 68060, 61443, 63334, 43377, 70045, 21056, 13848, 29980, 75313, 48746, 60058, 72967, 63513, 9290, 1583, 64725, 12232, 26061, 27974, 6546, 52363, 27580, 49814, 53836, 17340, 19317, 38368, 74499, 63840, 10181, 11341, 41077, 19471, 4211, 52062, 14859, 47576, 4556, 12305, 24030, 27110, 26757, 13199, 66218, 12790, 20004, 35870, 7529, 62017, 59315, 48678, 14627, 48157, 72851, 16911, 65411, 57264, 17256, 27093, 54084, 52471, 10061, 45117, 55859, 44798, 68192, 23651, 47847, 31010, 75766, 48478, 62041, 30051, 48067, 54585, 23712, 11159, 64420, 16594, 47150, 13466, 27870, 57712, 43496, 58026, 4899, 23809, 46439, 64604, 64592, 18624, 21588, 44176, 21058, 5636, 56806, 59540, 20879, 28321, 49517, 46734, 27452, 47272, 25784, 60385, 11870, 33681, 34719, 55817, 9235, 18944, 28758, 56160, 737, 52043, 2763, 36299, 56120, 44990, 55012, 28173, 26019, 44006, 60230, 5459, 32970, 17824, 33960, 45095, 3044, 33044, 22725, 28744, 44053, 29751, 10710, 60115, 59308, 54573, 7919, 66673, 48453, 36684, 60836, 5302, 26415, 43092, 70635, 62965, 36445, 34001, 37434, 60352, 26174, 34797, 43057, 53190, 10572, 50062, 5601, 14029, 40316, 17681, 6447, 42801, 69788, 13364, 51584, 25082, 69593, 38324, 34601, 74639, 15760, 10088, 66417, 29438, 33480, 56135, 18006, 69215, 46487, 53492, 16933, 38968, 45817, 61277, 12991, 31455, 32783, 60939, 54731, 18198, 74613, 12722, 31890, 40539, 30731, 1532, 72384, 12103, 42503, 260, 14381, 69245, 8788, 52701, 33084, 59358, 75105, 71110, 38984, 51400, 49387, 18837, 33816, 59724, 1570, 43059, 42280, 65155, 9365, 65122, 37214, 63626, 58465, 40882, 17135, 5697, 21653, 36122, 68920, 38609, 61204, 45255, 332, 17586, 32430, 55365, 5792, 35119, 4605, 25647, 44771, 35572, 52930, 42129, 13498, 6582, 16885, 2829, 22451, 22804, 18438, 13786, 13964, 64756, 11883, 73492, 66310, 17742, 44, 562, 21004, 37363, 17914, 15299, 30724, 24829, 58487, 5580, 63606, 8136, 717, 41818, 5608, 16861, 8427, 67033, 51329, 23468, 55362, 71394, 34732, 49568, 68612, 2789, 56539, 49372, 33565, 26309, 72637, 46096, 36928, 61857, 50805, 71092, 47526, 7896, 71650, 19018, 44055, 65633, 34726, 74357, 48140, 16889, 59565, 803, 64367, 74976, 60513, 75404, 49428, 69665, 65544, 3664, 67718, 54139, 60411, 44136, 25384, 22837, 42604, 44395, 1489, 53315, 57819, 51155, 65581, 52479, 13214, 30030, 66977, 27491, 40233, 48671, 23324, 66159, 3254, 71232, 37990, 74815, 25694, 13770, 50370, 53569, 4965, 20610, 17476, 31454, 43684, 12257, 48386, 54762, 66121, 6083, 27190, 25553, 17720, 42480, 61678, 23330, 61270, 61825, 25271, 56994, 69954, 75047, 64239, 42895, 19530, 69648, 12778, 20615, 63489, 66875, 45663, 24320, 29080, 23675, 15265, 67062, 70755, 54417, 8849, 58038, 16369, 54831, 37209, 63845, 70555, 47167, 5004, 2000, 39541, 55991, 39120, 38475, 28707, 62257, 59480, 31842, 56926, 76027, 4524, 1510, 41542, 28928, 29536, 11334, 66210, 53111, 49544, 61948, 71585, 45890, 72856, 41798, 75415, 76195, 75296, 6210, 42267, 9243, 44910, 63242, 30918, 16518, 53986, 51084, 28435, 53229, 56870, 37029, 13986, 44140, 33405, 51976, 44686, 42064, 60113, 73619, 49725, 56858, 41579, 36881, 3196, 69955, 20660, 60396, 3970, 26768, 74905, 58008, 72484, 68537, 1474, 66548, 6643, 58630, 54448, 8681, 71328, 75378, 72454, 36787, 27821, 42705, 46194, 35336, 253, 62227, 20139, 31327, 27439, 65993, 9588, 30728, 23647, 17464, 42693, 34275, 31941, 4385, 11005, 35708, 72867, 22049, 74656, 9599, 38481, 8886, 19450, 52877, 69335, 68146, 16016, 6498, 17070, 72483, 47397, 24720, 61560, 74212, 24536, 41343, 25540, 10564, 16859, 10001, 69138, 75967, 34237, 14919, 67650, 16694, 30192, 25111, 11160, 44141, 56846, 40077, 21392, 49102, 46758, 68874, 52653, 42193, 53183, 51450, 61875, 59054, 58462, 5007, 25300, 14124, 66127, 72526, 67868, 11479, 16505, 55690, 57249, 68610, 48482, 70472, 757, 18882, 30941, 43382, 18810, 61986, 41336, 5861, 1667, 24680, 11476, 3899, 7898, 5995, 65131, 13839, 50079, 37216, 61904, 47868, 14260, 47753, 27561, 44210, 19939, 70140, 63088, 26407, 239, 5620, 49268, 67243, 37162, 32125, 64524, 72910, 57622, 44280, 67644, 45589, 40273, 37320, 53308, 22549, 43993, 70383, 50814, 69759, 75579, 65056, 23182, 30910, 50987, 5502, 9417, 61296, 62652, 76056, 41298, 35881, 28425, 54026, 74513, 36327, 64704, 14033, 69761, 9498, 13728, 15613, 75362, 1884, 64104, 57427, 74490, 63914, 65059, 59176, 46562, 40281, 68370, 30031, 72326, 66507, 17247, 3087, 67170, 41058, 62800, 974, 6617, 12242, 21662, 6956, 6363, 74113, 24271, 43415, 50463, 44714, 65676, 65554, 60163, 6148, 68504, 39227, 71148, 31930, 56207, 27619, 45239, 29210, 9855, 35309, 7311, 60845, 38617, 9221, 13585, 64015, 16588, 22052, 19357, 53769, 21897, 42624, 41622, 15846, 7124, 24985, 72550, 13110, 4777, 75602, 22582, 15213, 29359, 44769, 65268, 20401, 71989, 6264, 51327, 68661, 73447, 61251, 40625, 34725, 28145, 15084, 71822, 15972, 46696, 58984, 71988, 22383, 43111, 67639, 76304, 21476, 63618, 62320, 51048, 51110, 72777, 66597, 17097, 49472, 11219, 75697, 16626, 9690, 24668, 15507, 67496, 19719, 21459, 52283, 8780, 61077, 50351, 4725, 621, 74467, 39968, 45496, 75209, 65173, 61435, 37058, 8442, 63882, 36284, 18034, 13790, 12530, 74301, 35220, 39893, 71296, 33602, 46104, 15973, 29746, 769, 57830, 71336, 2842, 6778, 23563, 18564, 28206, 31898, 6469, 42929, 31854, 43867, 72004, 52175, 4606, 42332, 18420, 64240, 38624, 9233, 73709, 64120, 48228, 21377, 21860, 74821, 16005, 28446, 62541, 44580, 32027, 68564, 32873, 51065, 10501, 67388, 62593, 2738, 35607, 46981, 3924, 1153, 37326, 35070, 125, 37356, 7009, 72779, 30275, 4742, 43232, 16745, 17473, 4282, 36203, 22185, 60702, 49854, 10062, 24852, 14402, 60850, 10631, 71465, 21159, 58221, 64153, 57203, 676, 41701, 29109, 50641, 29266, 25000, 50896, 40903, 19224, 21258, 46725, 30082, 56484, 43506, 73017, 2092, 24340, 8269, 5340, 60882, 24206, 71976, 27260, 67853, 17344, 75462, 27657, 10239, 1458, 53423, 3473, 29177, 70868, 67138, 67922, 50426, 3845, 14293, 17576, 3092, 38102, 2271, 32257, 56878, 35467, 64462, 64246, 70375, 47133, 61377, 1921, 38767, 65935, 44002, 31033, 34962, 47954, 45634, 41540, 8541, 1062, 65895, 12209, 54595, 32157, 75417, 31407, 13872, 43330, 46011, 15384, 70855, 23501, 51426, 75153, 9227, 58652, 20181, 16569, 5427, 1197, 48535, 41598, 58628, 27251, 35396, 10596, 42945, 4271, 63591, 26003, 36810, 64813, 41090, 6740, 30734, 75919, 27464, 34730, 74065, 47893, 11458, 18831, 4553, 22822, 75025, 51111, 16253, 58597, 35647, 62667, 14896, 45119, 57464, 46913, 12844, 38457, 65127, 63822, 63662, 576, 34823, 45404, 49377, 4292, 61696, 47933, 24249, 27142, 43184, 17118, 53078, 55347, 32452, 53068, 22909, 22670, 38744, 66274, 16710, 30360, 69282, 57388, 72067, 63311, 13269, 68449, 56059, 54296, 44356, 37447, 38306, 42377, 46817, 26532, 13451, 56686, 629, 41830, 27980, 9231, 52937, 5635, 58711, 56196, 74264, 5923, 48710, 48640, 30964, 58864, 65246, 56957, 7037, 39318, 32808, 40045, 15802, 16937, 74151, 63159, 63524, 41326, 21304, 56794, 56471, 19823, 50885, 27122, 72351, 15211, 66804, 56950, 16820, 6783, 43857, 62526, 14219, 52410, 35891, 19248, 14968, 76164, 66519, 49662, 76229, 4806, 40300, 10036, 44608, 33840, 38864, 69455, 32475, 50593, 48551, 64125, 53825, 14451, 1586, 39085, 8622, 23934, 64027, 63479, 26563, 23007, 30920, 26631, 74844, 42993, 50839, 63404, 26311, 22886, 73312, 48194, 14355, 56470, 47835, 64506, 483, 17023, 9019, 71080, 44485, 2072, 54210, 45609, 255, 62686, 7942, 18669, 28324, 30913, 40279, 1639, 32597, 33473, 72396, 68026, 49021, 45396, 44072, 11435, 44720, 50857, 41965, 75268, 3296, 14190, 61806, 4147, 35687, 8162, 57568, 42891, 10627, 20190, 40827, 19042, 35067, 38771, 10842, 58569, 42336, 50556, 54333, 46459, 26959, 18557, 33676, 46255, 38105, 16666, 55371, 26792, 22753, 64577, 66786, 3651, 47239, 18749, 18604, 3360, 21861, 56277, 58388, 7870, 12601, 56738, 47154, 29462, 3605, 16188, 45587, 56681, 21513, 39329, 42299, 33213, 11233, 35129, 1243, 76231, 34218, 41959, 52984, 73403, 48118, 46799, 47959, 9409, 24562, 16705, 217, 22583, 52920, 5945, 75252, 59418, 50292, 56149, 1662, 43006, 57486, 10244, 11218, 72496, 24177, 45499, 20470, 51852, 43277, 52474, 31513, 33484, 20341, 45577, 35189, 35594, 36872, 18716, 19591, 56395, 43165, 264, 52468, 72865, 29009, 45980, 64313, 58719, 16208, 71944, 57354, 42076, 14823, 57542, 24411, 45479, 30978, 47491, 15899, 70399, 40987, 58089, 1310, 57362, 11635, 14879, 14514, 50222, 34255, 42107, 52714, 37532, 10886, 53227, 31041, 34468, 28420, 4732, 73466, 10272, 51582, 51769, 69154, 10682, 22441, 37769, 28800, 11184, 47857, 36410, 38021, 26677, 11015, 67584, 16643, 32067, 49528, 15373, 18998, 12987, 73484, 22296, 6038, 69621, 12028, 10076, 35482, 13543, 29932, 60533, 59548, 22030, 75650, 30284, 37505, 68227, 72438, 39565, 5964, 52135, 38180, 64463, 51368, 63190, 71537, 70598, 13666, 55158, 75845, 55444, 54922, 30370, 62096, 22194, 76016, 42324, 31969, 75884, 16027, 25517, 14909, 28022, 74879, 58737, 50690, 42793, 15218, 65440, 71566, 46733, 4526, 63004, 44327, 41132, 25859, 67975, 37105, 4464, 48208, 31667, 63588, 26307, 45718, 42046, 23388, 34703, 70455, 46481, 25810, 29557, 59631, 37977, 63978, 67211, 10788, 16923, 48198, 16948, 7105, 35016, 69336, 46010, 67193, 36830, 29747, 43920, 71544, 11849, 20773, 13891, 33479, 19625, 32839, 56637, 61979, 68800, 34259, 53121, 71608, 15059, 45259, 51517, 49937, 51336, 74898, 10678, 73970, 48564, 34525, 49723, 42488, 8078, 72466, 52943, 58667, 28404, 7763, 22987, 27919, 43163, 33785, 24515, 15798, 54648, 50054, 11322, 65543, 68125, 14388, 20637, 72147, 28237, 24162, 65733, 60440, 38323, 34695, 53922, 27550, 5476, 71001, 12840, 75233, 39928, 54914, 35848, 3322, 11585, 47471, 29763, 73305, 1838, 36438, 58772, 75506, 22169, 67303, 41919, 63703, 42768, 65850, 69502, 1156, 37807, 11562, 7653, 29304, 20335, 5563, 47238, 20759, 44278, 24148, 33230, 52968, 68482, 11013, 69989, 17533, 41732, 15307, 64430, 75508, 42321, 29658, 31108, 43542, 67229, 68570, 61338, 65549, 41091, 28143, 30655, 61274, 8490, 35801, 19372, 18000, 50135, 64235, 7702, 8543, 70847, 44992, 26656, 37979, 13342, 39639, 14965, 38561, 69001, 26524, 44030, 11394, 15308, 61659, 60189, 59605, 46115, 68280, 9450, 45441, 8114, 70942, 14903, 50104, 45998, 45543, 58914, 74463, 17653, 34753, 59169, 31736, 53006, 68314, 7336, 13036, 51710, 45411, 63230, 16171, 65178, 53312, 42223, 47132, 42406, 52634, 74059, 66316, 73076, 49072, 51993, 4154, 18212, 59533, 6895, 63411, 41942, 8030, 19085, 51160, 1844, 17432, 64938, 54423, 58592, 16769, 14257, 51924, 72169, 37648, 49704, 7977, 26725, 70637, 64162, 22474, 65017, 73212, 56250, 26822, 14745, 6728, 20460, 47787, 54753, 21556, 75300, 15302, 59057, 35996, 61265, 8924, 18275, 44026, 74102, 34502, 71903, 7827, 71305, 69414, 42184, 17308, 64798, 60161, 32380, 59821, 15409, 44046, 26877, 75312, 43265, 24216, 38524, 33014, 28333, 36554, 6679, 43194, 33053, 9285, 30075, 26905, 2514, 47726, 11589, 74660, 74784, 48235, 67307, 41923, 29542, 57380, 65342, 58105, 25960, 9749, 29090, 64184, 49998, 699, 12718, 8898, 46905, 70176, 45075, 37482, 49515, 14100, 22823, 3160, 10506, 4371, 54402, 34705, 10388, 52752, 401, 30748, 66856, 13983, 31633, 37099, 36889, 36358, 59109, 9822, 34037, 46377, 25717, 31836, 52960, 37540, 2651, 33314, 57752, 19950, 23325, 62338, 23511, 21039, 41128, 11427, 28383, 11364, 62461, 38094, 61066, 50632, 46843, 48301, 31318, 4235, 10404, 26894, 23083, 4207, 9154, 21816, 56995, 72591, 59377, 17937, 3796, 48097, 48576, 67357, 48537, 29872, 22630, 22739, 34273, 48104, 15471, 65600, 46438, 57413, 19200, 68618, 26268, 67201, 51574, 29784, 58274, 775, 27468, 53944, 37433, 75219, 65679, 34409, 14314, 64980, 22011, 64923, 71933, 31945, 11136, 28291, 51591, 22337, 47200, 76096, 70930, 53976, 67833, 42946, 61387, 44279, 56402, 27818, 59434, 53010, 12962, 51510, 27938, 21283, 1047, 19266, 10754, 60451, 40022, 13022, 15758, 36602, 4325, 21534, 31595, 18058, 70864, 26129, 50707, 11583, 74936, 53741, 34599, 18442, 40339, 48268, 21248, 17460, 32233, 18343, 33597, 1772, 34571, 16434, 43636, 57468, 27807, 69352, 20723, 9780, 53912, 7031, 9146, 53089, 16452, 25584, 74407, 25147, 19211, 73223, 52967, 11580, 34976, 55426, 39790, 74504, 30571, 41456, 39661, 49785, 12917, 4836, 11812, 55737, 53041, 53453, 59189, 36935, 38504, 75649, 25880, 57387, 19842, 32974, 41592, 29418, 35834, 47082, 75444, 38593, 36853, 54207, 64612, 62294, 6453, 36149, 43911, 43321, 5180, 4696, 51549, 58078, 72731, 52543, 38696, 38121, 74929, 27994, 9269, 15089, 12351, 44505, 45430, 27480, 62948, 15281, 72713, 15423, 33852, 19290, 2680, 50773, 42313, 23354, 45897, 49805, 1868, 38255, 57008, 49954, 33292, 28560, 20496, 64780, 42362, 55951, 18612, 73393, 59329, 59679, 70426, 7758, 14210, 59502, 21263, 46601, 46374, 16451, 68563, 57455, 1934, 49355, 24483, 72976, 35072, 30121, 20813, 249, 63067, 6515, 2968, 32170, 66711, 9506, 60330, 38638, 50232, 7182, 41845, 59256, 14132, 1885, 76162, 69552, 27547, 3068, 34701, 39915, 21431, 12725, 41973, 66835, 23698, 55568, 15635, 15797, 39274, 32307, 57127, 74919, 55370, 60441, 60687, 69620, 70663, 4833, 16726, 25529, 13292, 74157, 4094, 6819, 10128, 48629, 24537, 69153, 70196, 19703, 65058, 55745, 63168, 1542, 11100, 65452, 69557, 52656, 69856, 40398, 33736, 59201, 50241, 73468, 5994, 10800, 19537, 12649, 55586, 41405, 68037, 40687, 66613, 15655, 41989, 69068, 50948, 48900, 71451, 29769, 5522, 37196, 36583, 50279, 51505, 48406, 28543, 36725, 15396, 10297, 23957, 14340, 67579, 56136, 70725, 58979, 24911, 61501, 71160, 45091, 45291, 1831, 64565, 14744, 59979, 33712, 63269, 41430, 37375, 62850, 11087, 40217, 60467, 22016, 72090, 49523, 39131, 49113, 73960, 2245, 14267, 26828, 49810, 5050, 65520, 22829, 54737, 46994, 71230, 23278, 70557, 18154, 18665, 72567, 7390, 1660, 50909, 66494, 7735, 67684, 60878, 31448, 59242, 74658, 55573, 25455, 13593, 5322, 58082, 74614, 15894, 53813, 29114, 61000, 31616, 43566, 70430, 61565, 52384, 26359, 48569, 21777, 63571, 49107, 18541, 27356, 42550, 50892, 74143, 63919, 2161, 24126, 7939, 10081, 24670, 61781, 719, 37104, 68769, 25556, 10080, 3102, 11653, 23303, 24666, 8297, 47673, 4289, 29505, 27811, 15039, 47348, 51810, 2689, 4079, 56146, 31653, 15694, 60511, 6945, 28528, 8420, 67858, 68559, 47852, 10595, 12838, 1621, 3712, 6196, 36158, 50538, 29295, 60414, 65707, 28909, 16637, 66555, 48396, 73117, 32266, 45199, 47354, 10821, 26655, 42802, 20271, 44760, 73424, 8874, 15424, 73643, 31383, 67571, 55067, 75501, 75760, 72321, 38116, 52178, 16330, 59035, 3913, 32629, 32083, 22939, 46806, 3345, 28722, 25704, 54792, 62737, 58492, 28428, 40806, 57679, 58636, 38956, 53515, 72286, 51094, 74612, 43532, 54642, 4133, 60328, 49101, 32129, 26260, 35703, 49663, 53694, 34182, 54396, 40235, 68100, 25626, 44152, 7419, 55577, 33462, 51855, 24653, 52109, 56449, 66272, 63775, 28854, 6985, 43891, 27124, 47095, 24755, 21143, 59206, 35955, 6278, 51213, 66277, 13802, 67313, 61325, 6152, 20606, 56264, 52088, 57111, 4751, 25467, 60896, 844, 28696, 47554, 14892, 45957, 48231, 31752, 61379, 22400, 61929, 59770, 74199, 28495, 69466, 69269, 54913, 42203, 41475, 61786, 5729, 11995, 459, 42026, 44673, 62531, 5209, 66959, 790, 48200, 66256, 22796, 67363, 27049, 40467, 5183, 30533, 16786, 61765, 50307, 39128, 42030, 17980, 23029, 59461, 163, 45693, 15721, 40688, 26105, 31976, 60993, 52593, 41147, 1443, 24918, 65042, 13724, 21234, 15379, 59044, 9959, 5733, 27090, 18813, 72933, 26315, 12490, 1638, 8250, 74704, 59929, 30789, 64465, 25126, 18007, 9697, 25764, 2202, 53596, 39371, 41196, 32504, 25400, 50696, 18943, 70416, 24509, 54235, 44901, 28701, 67155, 68838, 40433, 6721, 32975, 28059, 15110, 12703, 52790, 46030, 44836, 69526, 15536, 64366, 46054, 16142, 21796, 33463, 47531, 59938, 40428, 74659, 28905, 52961, 18785, 34801, 60968, 37241, 28613, 17673, 67930, 5639, 6893, 65199, 35763, 22248, 9830, 20472, 27628, 19136, 21876, 12714, 59815, 60931, 38574, 3448, 20519, 7332, 40749, 22504, 46749, 65663, 18231, 40711, 8792, 24969, 49929, 49170, 66929, 18431, 56845, 42304, 53159, 9489, 29370, 10578, 40115, 69702, 19676, 26301, 12292, 5431, 69525, 5807, 43220, 31476, 47330, 32659, 26801, 41886, 48012, 8150, 16640, 6364, 59390, 70357, 72997, 7926, 15171, 7576, 57768, 37430, 58325, 29184, 17311, 20218, 40761, 49807, 46942, 66898, 5907, 49902, 5513, 52932, 59781, 3606, 73194, 28112, 45889, 38032, 2329, 15240, 16606, 20692, 63975, 22343, 20717, 49782, 59590, 73985, 29955, 72051, 18306, 38626, 39411, 35415, 69870, 63966, 24575, 50378, 33287, 33417, 4911, 41561, 43948, 46812, 19981, 73946, 1155, 499, 73129, 27977, 1380, 29923, 39178, 51630, 67297, 44003, 34121, 49458, 62399, 19943, 16072, 64925, 8897, 5449, 11093, 17338, 3916, 18338, 9597, 50796, 51987, 17637, 72213, 14669, 34603, 68092, 47259, 39428, 69769, 50525, 51877, 65833, 14522, 74961, 32280, 66911, 74219, 36166, 62622, 46158, 69828, 9503, 2768, 25132, 33979, 40255, 40486, 15376, 38660, 23020, 42266, 5926, 61062, 65470, 12638, 58157, 21939, 16310, 46227, 52440, 12662, 62236, 56433, 67778, 62549, 35148, 9901, 35903, 5596, 19090, 10492, 59280, 52276, 37159, 64376, 43082, 28821, 46702, 23219, 38847, 1488, 69983, 7165, 40685, 12366, 22173, 34120, 49707, 38055, 50406, 50037, 17677, 74044, 39191, 56234, 33253, 27639, 44746, 44471, 66371, 39748, 44022, 44277, 16974, 15318, 26196, 12548, 59780, 45094, 38969, 72392, 18926, 60427, 40360, 48139, 52184, 68534, 7413, 61545, 56669, 26695, 12199, 41849, 45398, 46964, 57523, 22966, 75978, 843, 22408, 48183, 2493, 2344, 23986, 76290, 50708, 60104, 50973, 28760, 45017, 34328, 42229, 53404, 42317, 41465, 46282, 62168, 33174, 61922, 62360, 63081, 392, 8975, 19648, 19097, 57552, 31489, 17180, 41601, 54379, 23052, 8690, 34589, 74527, 3461, 75135, 42335, 69812, 20699, 71932, 11381, 27611, 56935, 5485, 28610, 38983, 20099, 22367, 14711, 55746, 32879, 74274, 56783, 68617, 54735, 31299, 4580, 48674, 38397, 16467, 50749, 50253, 16335, 15452, 25169, 5500, 2879, 17924, 65123, 47833, 56597, 20404, 66535, 64124, 5311, 37175, 66350, 20039, 17589, 67396, 64263, 60255, 58174, 10965, 16652, 4614, 70720, 70372, 12370, 14584, 48487, 71385, 8954, 27117, 29175, 3666, 39976, 530, 51168, 58523, 56269, 58468, 19088, 1694, 47046, 50270, 19271, 37367, 2790, 44998, 50169, 24785, 55609, 4089, 33135, 5493, 68734, 962, 74528, 46070, 26993, 61912, 34176, 48638, 41992, 70646, 38742, 3626, 18848, 10344, 33632, 234, 882, 26832, 57392, 69682, 25701, 24917, 57451, 26865, 61385, 4593, 24955, 8517, 36855, 72418, 23836, 75974, 29215, 67729, 39034, 40773, 30131, 17157, 16329, 55989, 52228, 42119, 59231, 38653, 5545, 3694, 32338, 40259, 57703, 62856, 44329, 73383, 37552, 67757, 49212, 59207, 62988, 13605, 48550, 20567, 73263, 45522, 13337, 27509, 48072, 25689, 67054, 39635, 24127, 32242, 13102, 15204, 65382, 50375, 52046, 40014, 75435, 45568, 38474, 10210, 72904, 35920, 33458, 72216, 22730, 41125, 2189, 35741, 20349, 47086, 38016, 12668, 8154, 53051, 24532, 4850, 3107, 67517, 60468, 53200, 53742, 1947, 22392, 19633, 8176, 5799, 8641, 47301, 41594, 45129, 25094, 34161, 60374, 73363, 52667, 4255, 68296, 10898, 49733, 19710, 34616, 2264, 62612, 49625, 11518, 75665, 36672, 14237, 23577, 44307, 12340, 36973, 66332, 48627, 46294, 63440, 14751, 47677, 30895, 26608, 62671, 58195, 42275, 35754, 65908, 6593, 9732, 16148, 5059, 34901, 72399, 24588, 70313, 74418, 24333, 16699, 35782, 64500, 38534, 62781, 60886, 72442, 29143, 72123, 28266, 5631, 29401, 41514, 63470, 91, 32636, 44812, 49982, 21374, 9056, 50660, 52149, 47040, 60501, 49236, 5053, 1169, 17927, 14221, 52121, 18377, 47767, 48134, 29720, 34007, 71586, 24623, 36464, 62610, 69754, 4640, 19067, 4164, 29843, 28290, 61309, 5366, 13896, 15197, 62973, 8045, 22354, 72872, 60211, 54185, 25426, 27382, 14107, 38721, 8349, 68846, 12405, 13258, 116, 42926, 69177, 15764, 73998, 56684, 62644, 17806, 54141, 37876, 1791, 29713, 21457, 2534, 60039, 33862, 4758, 35660, 75529, 29475, 29351, 946, 29653, 23245, 40769, 23305, 61324, 45511, 13599, 71515, 26426, 38465, 63307, 3378, 53503, 11416, 29655, 49791, 38645, 60138, 22794, 11952, 48922, 69627, 70554, 9866, 18697, 5801, 48712, 3583, 59799, 30863, 67276, 19463, 56757, 61882, 44255, 11916, 64979, 67820, 66352, 6069, 56624, 50271, 24784, 12177, 31168, 27384, 9596, 1378, 50128, 10806, 20387, 58889, 56618, 2638, 50884, 66075, 5728, 197, 36221, 8515, 48151, 47474, 45257, 4006, 12110, 7959, 70103, 14862, 53000, 60944, 3119, 31447, 22511, 58821, 22366, 19257, 59173, 57350, 54773, 29967, 46455, 32661, 3484, 20196, 37299, 1465, 25003, 74738, 76312, 30387, 70727, 47228, 31288, 64387, 55970, 74208, 49760, 40480, 39641, 65839, 47967, 3928, 66763, 2319, 35347, 46922, 62333, 7024, 60755, 61428, 13757, 33513, 24732, 21706, 37817, 30359, 35045, 9061, 54190, 73098, 23883, 27556, 70235, 42880, 14343, 16296, 70371, 52414, 28645, 62307, 7342, 29972, 792, 48016, 60156, 8359, 34968, 42198, 46138, 42498, 13920, 27602, 24869, 63074, 71748, 69727, 38398, 33026, 30337, 30912, 42882, 26615, 8665, 44533, 6343, 65630, 32264, 68785, 41392, 39713, 54680, 3291, 65671, 18657, 3703, 67473, 40915, 36322, 2024, 13564, 17711, 10727, 70586, 69371, 3438, 48020, 67744, 51866, 42544, 54802, 17047, 24856, 32675, 68602, 20418, 19594, 10462, 33670, 67728, 18381, 64070, 46390, 35414, 53074, 67304, 473, 29306, 51464, 15712, 67624, 40880, 37222, 29, 65102, 11847, 22435, 52270, 33370, 63754, 26798, 73040, 9636, 40598, 27085, 69346, 28519, 5187, 3896, 58409, 60033, 54669, 75309, 37361, 17758, 49674, 20310, 46441, 1127, 41288, 74754, 808, 51042, 10447, 43233, 64488, 55796, 69000, 42351, 35679, 44943, 1674, 52285, 6565, 31490, 37974, 60918, 65782, 40033, 68894, 20941, 69729, 17401, 9837, 12388, 18347, 3148, 23696, 69223, 27132, 11040, 28582, 72846, 670, 11408, 59884, 8562, 50765, 71789, 52577, 16909, 6981, 4163, 11787, 15679, 23527, 23702, 73031, 74927, 28850, 30763, 67926, 67432, 3340, 42259, 55985, 36242, 19386, 26476, 9440, 46082, 13784, 70891, 12802, 16676, 26724, 17622, 15314, 52127, 63395, 39981, 10896, 44317, 889, 48727, 42567, 52486, 27691, 75384, 64318, 60071, 14272, 21051, 42497, 30146, 11708, 57270, 45742, 76101, 18274, 75081, 34304, 7212, 72018, 35436, 4501, 66455, 16224, 37388, 40600, 1497, 65421, 26839, 15397, 46813, 65498, 12216, 57420, 75136, 69484, 10554, 55500, 14984, 26074, 40690, 64916, 40055, 62996, 70403, 19354, 42148, 61619, 58209, 54534, 6478, 53345, 36379, 70954, 5591, 62035, 23550, 11117, 14088, 46263, 9138, 21367, 56667, 55862, 3828, 20257, 59291, 32520, 40353, 52869, 11818, 49822, 70589, 13647, 73785, 55954, 63207, 3268, 62942, 57353, 48765, 4188, 55738, 35849, 24161, 57308, 24658, 61307, 3118, 29016, 41286, 50521, 10156, 69699, 31676, 48027, 6849, 40494, 18539, 55741, 8844, 58960, 887, 43587, 40203, 58389, 7244, 48221, 33760, 75369, 54626, 74523, 12694, 62523, 8069, 24151, 17259, 49830, 13013, 22469, 30055, 27496, 55529, 36689, 32427, 61312, 269, 36050, 26210, 20002, 30679, 21104, 54612, 69553, 37862, 46659, 61357, 5860, 72062, 41801, 65597, 54046, 66945, 48222, 19070, 23918, 31243, 45161, 20576, 11139, 1204, 19108, 42671, 25606, 23962, 59437, 66051, 52389, 68165, 13126, 71417, 13734, 33558, 76258, 71545, 50536, 56224, 38683, 44378, 15309, 50044, 10127, 51326, 43173, 59567, 51741, 72511, 59546, 35700, 13772, 28834, 74007, 37219, 44830, 52492, 75753, 2436, 28081, 65763, 8936, 33987, 772, 3803, 62711, 46865, 67186, 58043, 57456, 53425, 66346, 44342, 43611, 75264, 42532, 8217, 31364, 8619, 65448, 49879, 54033, 60146, 17025, 69378, 26186, 24584, 7794, 24849, 22412, 6224, 38366, 40384, 5003, 60901, 48656, 15872, 53024, 56629, 13418, 41575, 65146, 1956, 19258, 8246, 42019, 4666, 57587, 53366, 58818, 35773, 67116, 62193, 22128, 17912, 32282, 59277, 70613, 25235, 10431, 39365, 48377, 21479, 64280, 65260, 22826, 49452, 10909, 15845, 45635, 32635, 50265, 37184, 3356, 5023, 55340, 15350, 22932, 9301, 5359, 9747, 76244, 66659, 18383, 74772, 22974, 1951, 51214, 42754, 70957, 27490, 48793, 61627, 42904, 19307, 59136, 22910, 40636, 74629, 8417, 38923, 32045, 23831, 18997, 52076, 36686, 51115, 27418, 65919, 54640, 39203, 13162, 36690, 66868, 21615, 34781, 70621, 27201, 73880, 38061, 45660, 16019, 12536, 64573, 64808, 62178, 7867, 4818, 12812, 42792, 44015, 26747, 59098, 29053, 31445, 4421, 64428, 27582, 63704, 36450, 40450, 48916, 26637, 25448, 58562, 61141, 12859, 38310, 50436, 57194, 33859, 36094, 37007, 40838, 33919, 15781, 30424, 4822, 74358, 62657, 62849, 31929, 40751, 74703, 36876, 6345, 46996, 38827, 44202, 26772, 31744, 46933, 5123, 60004, 66415, 39868, 27863, 39825, 11215, 43957, 44818, 7224, 25999, 35410, 28662, 55434, 70573, 73344, 69917, 97, 55086, 67360, 68978, 18013, 12270, 57085, 12926, 72499, 26893, 34066, 17573, 19947, 53077, 43426, 48833, 56446, 42339, 5975, 71038, 71677, 54995, 4630, 71832, 11318, 40156, 73105, 46783, 61527, 53544, 51731, 57781, 18331, 8977, 22189, 57103, 51684, 41231, 46550, 39029, 41332, 54108, 36034, 73006, 50356, 71474, 50141, 57908, 8234, 41209, 51009, 52767, 76083, 14624, 42035, 15074, 7170, 55041, 47275, 53168, 4398, 19387, 48642, 15461, 8073, 51171, 75198, 37930, 68355, 45581, 35305, 36288, 60936, 64901, 63659, 29343, 35002, 36459, 22388, 17342, 75525, 6, 34929, 23141, 52716, 6614, 28804, 21012, 41279, 40246, 59539, 4934, 479, 13704, 30653, 71407, 33236, 57158, 3668, 68205, 12492, 5954, 23493, 24540, 25940, 16365, 60170, 28962, 68426, 25687, 48887, 47483, 26743, 12128, 23770, 15767, 50519, 49003, 62429, 36037, 59158, 16867, 71384, 45204, 68182, 5877, 4099, 48954, 3393, 11530, 17567, 45274, 42569, 74805, 25347, 35237, 32805, 67330, 64887, 2185, 43054, 18888, 17855, 64041, 4813, 51265, 66338, 4668, 54779, 22183, 15412, 52578, 21292, 73971, 34139, 21142, 33369, 60834, 25481, 71657, 20905, 23784, 21345, 47194, 30368, 75616, 39033, 33798, 14858, 56553, 51991, 24545, 43484, 72444, 18238, 63623, 64721, 7831, 64817, 66810, 47719, 68304, 44551, 28334, 29075, 27167, 32531, 3756, 68691, 3000, 34312, 40435, 23732, 73398, 6286, 1837, 75442, 34337, 51257, 36989, 33702, 63158, 38277, 54592, 773, 72944, 75129, 38682, 15580, 68784, 1446, 5902, 48007, 39480, 10857, 16554, 64268, 30716, 58884, 2667, 54148, 67372, 69668, 10063, 64328, 68398, 12598, 5394, 39452, 70687, 38853, 36849, 34281, 73958, 63803, 24328, 46951, 33946, 45566, 55907, 57854, 60400, 37163, 53344, 68916, 6652, 55303, 9425, 75187, 41669, 73301, 56266, 65562, 42363, 70888, 70461, 20993, 37925, 43895, 49352, 3308, 66965, 67438, 11108, 60034, 29816, 14927, 10879, 25104, 5177, 73692, 65967, 47420, 70222, 62600, 68204, 44663, 68075, 13695, 54166, 20354, 19486, 39708, 57378, 57872, 29417, 44600, 70729, 4413, 22533, 286, 21546, 41203, 68071, 39848, 37399, 5618, 40909, 52090, 8993, 27458, 1382, 22231, 74606, 56185, 54121, 20775, 63531, 17676, 46219, 59532, 25269, 8051, 64483, 64440, 30435, 5508, 43790, 39961, 38037, 64696, 10164, 2303, 66453, 43211, 42348, 1316, 65942, 6146, 44158, 24124, 37374, 28698, 7928, 15135, 48320, 40106, 24435, 75550, 54331, 69304, 21355, 17991, 28596, 68833, 25502, 52894, 32102, 62708, 12666, 50093, 54723, 47184, 14716, 68815, 74824, 72573, 51472, 26739, 43219, 56331, 15747, 76285, 46945, 70546, 50244, 11592, 500, 67954, 63649, 25405, 40867, 26399, 41858, 43825, 36337, 71209, 23170, 67504, 11934, 67305, 41856, 62459, 42241, 38082, 37634, 6160, 61552, 467, 71403, 75331, 31632, 22696, 46694, 23842, 55922, 20705, 68374, 23990, 46031, 1377, 29635, 15699, 27562, 45786, 66799, 28705, 49960, 50259, 71227, 75096, 25468, 44492, 31272, 28241, 22299, 44925, 4239, 26473, 75016, 52575, 15666, 50030, 74552, 600, 37742, 18983, 26748, 35133, 66676, 51484, 10630, 43562, 34802, 65471, 43127, 21667, 22859, 54287, 36918, 33374, 70363, 26088, 18699, 61134, 60815, 38996, 9030, 70806, 23721, 63102, 31155, 39373, 65483, 62587, 30165, 8009, 60094, 59156, 9964, 43537, 39997, 47650, 58602, 35845, 28644, 22495, 63407, 59515, 16647, 11672, 42356, 52584, 56943, 59586, 32090, 14082, 31171, 64640, 35951, 30831, 32861, 13792, 54729, 54161, 61302, 44120, 54578, 59972, 40891, 15851, 12770, 32928, 34020, 35202, 51459, 1880, 51281, 27683, 8345, 43692, 31853, 62176, 481, 35484, 43866, 6674, 32631, 62602, 59742, 55972, 53915, 3023, 41200, 21333, 49852, 34282, 8958, 56130, 54706, 69585, 33122, 10355, 27521, 20054, 65021, 63499, 58418, 37283, 4358, 60307, 20461, 10247, 1663, 5555, 70772, 14586, 45924, 45681, 42886, 6879, 29632, 28796, 75420, 28336, 51893, 9254, 68856, 63268, 65190, 16447, 50563, 12721, 27242, 59181, 9161, 4587, 7276, 74636, 32702, 24223, 1364, 64165, 7595, 41562, 67793, 67894, 76291, 54725, 48211, 41493, 16757, 52529, 18443, 43590, 36181, 12266, 34302, 25672, 36375, 40005, 47445, 26132, 13033, 5434, 13954, 54051, 50297, 48861, 28647, 1029, 2065, 57151, 26675, 20789, 23253, 73759, 60436, 45038, 35277, 10398, 55537, 223, 40832, 25098, 56128, 71302, 27525, 62029, 66975, 51721, 6650, 50036, 49730, 34172, 39629, 2863, 33034, 49714, 51784, 35221, 38903, 48457, 53872, 54852, 55724, 45339, 51074, 44310, 5948, 15771, 622, 6627, 27208, 43056, 25294, 2791, 61116, 39006, 69160, 23382, 30771, 52078, 62451, 76170, 38039, 3496, 60103, 32750, 52353, 6468, 42580, 35695, 56782, 36788, 46434, 171, 21947, 7422, 4604, 42553, 3170, 57051, 11064, 68250, 64490, 56752, 48928, 8771, 75238, 54032, 35185, 60800, 37623, 64943, 15594, 67516, 18073, 49947, 22856, 57234, 32915, 42534, 36733, 59166, 34331, 63331, 12333, 68491, 36513, 32794, 39647, 40475, 10611, 22547, 55640, 66784, 63147, 56991, 22532, 16443, 67423, 63485, 25133, 62378, 49661, 34820, 44049, 51081, 21303, 72307, 40738, 14591, 31004, 31223, 52833, 17456, 19581, 7379, 5182, 37504, 50468, 23803, 38988, 18730, 5293, 51529, 72412, 24943, 23136, 24407, 67009, 71835, 11319, 41364, 4534, 18353, 52742, 73778, 13348, 72727, 70631, 27928, 28039, 62226, 19178, 40628, 76060, 35345, 8346, 16802, 54687, 7245, 56828, 34485, 31795, 59628, 39262, 12222, 4523, 58758, 6697, 52650, 160, 67604, 31747, 5842, 74085, 58245, 59260, 8947, 1315, 51580, 74739, 4008, 32030, 5271, 70558, 20604, 59718, 46515, 42262, 40424, 71799, 15844, 51262, 58335, 5824, 7406, 315, 11515, 68659, 29502, 55391, 36840, 32923, 7140, 6688, 71793, 29617, 71432, 69581, 42788, 70638, 23650, 48775, 27966, 32228, 7386, 61553, 43387, 19528, 46483, 6216, 31257, 68310, 75639, 531, 4879, 17540, 16256, 41461, 42750, 13884, 59453, 41301, 61279, 27334, 10855, 75057, 8018, 53687, 76169, 75728, 18220, 48425, 15692, 34861, 75061, 72692, 4896, 74911, 28054, 26203, 39703, 2173, 4678, 57081, 24272, 44804, 46538, 35195, 55857, 55088, 73541, 63638, 26447, 11058, 61090, 43379, 47431, 72127, 19572, 26913, 20167, 46322, 29000, 5095, 18584, 4390, 527, 63251, 12407, 11498, 3960, 66515, 28818, 58198, 66028, 48769, 45532, 6954, 46229, 21750, 20022, 33028, 66610, 4627, 2261, 53383, 4127, 4370, 68261, 8860, 55339, 60508, 17791, 9215, 61966, 54691, 38997, 71204, 41292, 33807, 65796, 39222, 64444, 53561, 70237, 25108, 63634, 30758, 7057, 59837, 22104, 11759, 21162, 50140, 52659, 13352, 41335, 49968, 18474, 42297, 10838, 61271, 35009, 67507, 24082, 11286, 63512, 64247, 63527, 66424, 13961, 16782, 72662, 13004, 59613, 49647, 46608, 22776, 64232, 15824, 61494, 14989, 70154, 3032, 33176, 55331, 74050, 31152, 23913, 71099, 40020, 31684, 31552, 66474, 21910, 27046, 63911, 32939, 58538, 71109, 33221, 46979, 68409, 67059, 60778, 11548, 609, 14474, 54182, 64584, 54049, 28783, 19466, 12572, 46958, 57115, 49331, 722, 13434, 64179, 34292, 20430, 48358, 42814, 10831, 4505, 1063, 35553, 24614, 12892, 46381, 4693, 75863, 28524, 11638, 51922, 50190, 15969, 4477, 35932, 51975, 12367, 70817, 73866, 67738, 72588, 59573, 70509, 65963, 21726, 13979, 45857, 67522, 67148, 33340, 62366, 38651, 44116, 9247, 34067, 8571, 386, 52556, 42179, 5253, 48792, 27432, 10410, 74514, 4356, 30551, 6763, 25879, 42779, 6112, 9560, 33882, 8015, 63447, 15022, 34045, 5868, 26349, 42752, 24534, 74092, 36390, 30123, 1816, 4461, 60563, 23204, 68771, 53728, 32300, 50456, 52451, 45074, 43912, 63012, 46210, 39273, 19932, 21592, 27448, 19724, 43428, 28691, 48679, 27231, 38151, 6883, 74581, 67121, 74349, 61337, 9811, 15270, 75942, 29633, 29195, 4558, 2095, 22415, 45304, 28149, 21888, 63607, 66827, 39636, 40607, 32112, 75955, 14437, 5443, 52977, 9447, 1435, 42746, 35350, 4866, 43009, 28004, 26805, 52747, 51500, 3062, 72472, 36812, 41892, 27983, 61383, 43486, 885, 70946, 23085, 15610, 33881, 39520, 26410, 15101, 12323, 7451, 3509, 15013, 20668, 45723, 47202, 21135, 35194, 38480, 64677, 68112, 26057, 75553, 73841, 16922, 21976, 7327, 65599, 47492, 14003, 45194, 39020, 16906, 6238, 17636, 49490, 53148, 70385, 72722, 12339, 43569, 19861, 9265, 62752, 55936, 47680, 44251, 74197, 20609, 15284, 6980, 34996, 69116, 5486, 35593, 44516, 11962, 36147, 50069, 9776, 35720, 74548, 46334, 48418, 1495, 38592, 60802, 50220, 70343, 27149, 13616, 30848, 64001, 9419, 14326, 62700, 4174, 70989, 23041, 12337, 32754, 59020, 21006, 70529, 45345, 4500, 51925, 32354, 37172, 18576, 22576, 13034, 64370, 33038, 30788, 57607, 47585, 50792, 52055, 32717, 34097, 67261, 68230, 26790, 54956, 46618, 41842, 6374, 44316, 42044, 11766, 7968, 72116, 74159, 16739, 71119, 37612, 53262, 28987, 71868, 4409, 45597, 5804, 20051, 31240, 47187, 59359, 43016, 65531, 50983, 22514, 7071, 63542, 18867, 41133, 20479, 75020, 65188, 33089, 30902, 36512, 52671, 69928, 14377, 36704, 46321, 64024, 47018, 5597, 62664, 64505, 48106, 24526, 26111, 32210, 22490, 2935, 35619, 2701, 44313, 47004, 13553, 37679, 36897, 29159, 3620, 34163, 8106, 7184, 41202, 3539, 30256, 32824, 56342, 53500, 49706, 32412, 60938, 49373, 17216, 61605, 65512, 69119, 76234, 63671, 74831, 62083, 31937, 6759, 13506, 2576, 43289, 69980, 18647, 11528, 43490, 7193, 39119, 24460, 35519, 33991, 52023, 46516, 57383, 41990, 40914, 25652, 73314, 17565, 52191, 72389, 73936, 5313, 64958, 58714, 45588, 19787, 26696, 35837, 74670, 27927, 17694, 2816, 26079, 61824, 17529, 29473, 12575, 14491, 36329, 17839, 5166, 59948, 29551, 47452, 25350, 67391, 26448, 73781, 25472, 68487, 48458, 24074, 58246, 7175, 30224, 35815, 56389, 12573, 40326, 68461, 19395, 51230, 40727, 45908, 71048, 17233, 61218, 28507, 73262, 71563, 45343, 35004, 4141, 27587, 57139, 24525, 43666, 18641, 29035, 37811, 45578, 18980, 23531, 25011, 24304, 1918, 37521, 75182, 23359, 4727, 46872, 41774, 56649, 15897, 29991, 351, 61233, 5767, 70959, 5747, 60707, 38044, 47461, 28688, 39933, 34042, 43460, 10118, 49761, 69345, 49646, 26092, 30308, 43234, 26230, 9977, 61688, 2359, 38479, 19712, 48093, 58924, 56216, 60375, 42338, 29340, 6471, 31586, 17678, 31973, 74991, 51430, 66388, 75924, 47674, 47382, 35379, 59259, 58666, 19505, 58930, 47989, 43000, 64086, 71578, 68999, 22813, 11794, 64844, 65356, 66036, 18014, 46420, 10771, 57202, 3043, 59451, 71423, 68876, 36270, 53670, 27120, 53398, 22019, 29559, 12389, 54168, 73226, 57367, 25699, 43677, 46636, 25411, 35298, 53829, 41033, 25507, 65150, 2690, 19872, 29236, 980, 28342, 4262, 48699, 25035, 56011, 13492, 21963, 36896, 1353, 41716, 67128, 24329, 56799, 64540, 37988, 65186, 57160, 68547, 27945, 68608, 72773, 18468, 49684, 68919, 54739, 28602, 4152, 38063, 5930, 62853, 25953, 20371, 57023, 240, 13935, 38679, 32422, 71812, 70261, 7564, 67184, 3716, 37009, 63419, 49574, 21660, 59630, 54005, 23925, 53346, 59993, 55280, 6800, 12539, 32291, 29756, 14276, 27832, 60197, 23246, 25432, 48858, 18144, 38755, 57159, 9458, 74166, 44616, 4930, 17063, 7126, 3748, 70162, 75852, 43865, 21641, 73889, 47962, 3851, 38278, 7205, 10722, 50282, 38262, 19225, 56520, 67635, 73590, 73544, 2382, 65267, 61361, 58518, 29089, 23441, 5339, 62536, 42787, 61707, 62117, 23481, 19059, 24674, 36282, 16272, 17280, 38365, 56860, 22973, 31302, 52054, 6407, 8855, 44958, 60994, 2005, 27332, 27717, 18112, 13900, 691, 29890, 52324, 30263, 22599, 67037, 20092, 25680, 20764, 10190, 34089, 57595, 74026, 38297, 67751, 65423, 62780, 21595, 20152, 66895, 6868, 54513, 7579, 18354, 58981, 20975, 37385, 32325, 11463, 18635, 69710, 50396, 22349, 42676, 45600, 7712, 4764, 10646, 40111, 63843, 49900, 4112, 46317, 75344, 62900, 5879, 63938, 41731, 44457, 38498, 74834, 64193, 29825, 42837, 75403, 67273, 72451, 75526, 76062, 10440, 13320, 52239, 73861, 6048, 69559, 73799, 26985, 50734, 6822, 56380, 40393, 62003, 29068, 66886, 24382, 36699, 66052, 66403, 55179, 28262, 11591, 48045, 53748, 718, 51448, 22847, 15100, 23470, 8813, 29240, 25853, 67821, 36615, 65051, 24315, 11684, 29829, 23904, 71611, 37231, 20743, 13228, 25596, 4021, 56027, 31925, 36523, 38929, 2085, 3048, 32953, 69904, 64114, 45223, 43956, 5369, 73511, 14912, 45452, 59275, 791, 19666, 64955, 40129, 12672, 48863, 40559, 56538, 71813, 2786, 47770, 53857, 7465, 28891, 47173, 57529, 44994, 58582, 68266, 22260, 10058, 27091, 20508, 55502, 61280, 34791, 72800, 24812, 63667, 39109, 48110, 32605, 11192, 26423, 2872, 66785, 1034, 74173, 29569, 48711, 4337, 66953, 3865, 12334, 66702, 11277, 46444, 33300, 10527, 51312, 38050, 60604, 30426, 15346, 1146, 8751, 22142, 19834, 16894, 36829, 5206, 45617, 65568, 69437, 23535, 41628, 21017, 65029, 6289, 50534, 7434, 47242, 43295, 6715, 28255, 27234, 28737, 15565, 646, 28604, 57513, 18513, 49381, 50777, 12133, 66926, 26690, 48217, 776, 26362, 65903, 19146, 21798, 62197, 20188, 75839, 65235, 45501, 19546, 1723, 26131, 69536, 72098, 7338, 11860, 43972, 16406, 15516, 44612, 32766, 71987, 52147, 74288, 17835, 57982, 25916, 42723, 25429, 54657, 55442, 72649, 32701, 34742, 3547, 66982, 76314, 46048, 47342, 57626, 74503, 13486, 40872, 44606, 14961, 37971, 9864, 45891, 15075, 35246, 70912, 16591, 11001, 40, 75251, 54173, 65537, 10401, 47231, 56053, 24395, 52343, 51156, 64987, 13152, 17355, 59822, 72190, 56298, 6622, 4307, 9972, 62826, 44561, 55642, 54284, 55525, 42165, 42951, 43392, 56821, 12976, 43631, 60639, 61762, 53069, 56286, 61039, 15297, 14783, 60926, 61645, 44479, 12137, 34987, 63319, 68147, 41486, 26722, 21077, 17828, 17154, 13376, 61503, 76233, 52885, 4355, 3113, 43089, 64586, 13903, 52245, 25522, 45115, 2945, 24136, 12875, 30471, 61051, 32695, 59190, 49732, 35463, 50405, 19432, 18143, 54508, 7241, 15777, 71959, 17367, 50015, 65617, 75684, 71071, 69306, 7990, 2588, 3769, 5988, 30888, 62500, 73739, 13413, 3314, 42670, 18723, 69616, 49603, 39803, 7023, 19508, 73926, 71635, 39000, 69027, 39945, 2315, 55897, 69910, 49734, 25, 23172, 65080, 38254, 11123, 31672, 37285, 27031, 14375, 9671, 22439, 57843, 4803, 7391, 66096, 4638, 28690, 33696, 41295, 44366, 20270, 3637, 16209, 38848, 40058, 7324, 74570, 51285, 57326, 31527, 36332, 67356, 29922, 47140, 36373, 34773, 40638, 42725, 26518, 71272, 75301, 60772, 21639, 25958, 67058, 58796, 4898, 24229, 61683, 42722, 21533, 63592, 67067, 61852, 5179, 48236, 75142, 14336, 43589, 54646, 53084, 46737, 70298, 34948, 72695, 28270, 65327, 45627, 67070, 72590, 3034, 57760, 46619, 8289, 6100, 11063, 12853, 35777, 71749, 22916, 14345, 54770, 2105, 74427, 6027, 29664, 73727, 32400, 23235, 29072, 15216, 44217, 29420, 24582, 64653, 39283, 75308, 61335, 46467, 3362, 21028, 47881, 112, 51515, 10517, 42862, 49165, 13145, 74487, 68630, 42701, 20989, 22652, 24939, 56770, 15835, 7019, 16464, 65546, 72056, 36994, 52855, 3310, 58164, 35286, 4685, 64329, 52528, 45155, 4328, 51562, 16040, 25827, 9696, 5076, 48588, 70745, 51250, 74014, 73508, 36231, 23087, 55149, 2675, 33892, 2268, 10883, 30247, 61182, 59980, 35107, 63760, 8042, 57726, 12525, 6030, 40863, 40355, 18832, 11073, 67120, 34664, 13377, 19889, 40589, 43606, 15956, 26179, 54670, 48675, 8065, 59789, 11317, 73406, 1671, 71400, 41657, 57015, 56541, 8748, 55773, 46963, 61322, 75671, 68240, 7321, 22045, 31660, 52551, 63567, 46954, 57931, 39593, 754, 21183, 449, 13907, 24501, 45616, 31104, 44303, 29211, 4667, 40195, 71724, 53298, 32111, 34922, 40927, 66722, 55138, 65258, 21140, 21938, 43655, 38387, 43515, 66478, 20849, 4766, 34442, 23043, 46220, 7335, 14625, 42450, 906, 2640, 35505, 14497, 56282, 62726, 53152, 39682, 30917, 61122, 8824, 5495, 70596, 18985, 62194, 13148, 75513, 47159, 10476, 9510, 42513, 45270, 19698, 29020, 49183, 57974, 48799, 61078, 42835, 25565, 58148, 35128, 66427, 17619, 16439, 41170, 65343, 66250, 70423, 71700, 72383, 56301, 12141, 72537, 9264, 46345, 68404, 53862, 45005, 63611, 8572, 61275, 22983, 33566, 74378, 21964, 53237, 63979, 6205, 1448, 48645, 8109, 31741, 31613, 72031, 72552, 3834, 37613, 64320, 10168, 55319, 55383, 3456, 12243, 44483, 16925, 29070, 26380, 38034, 26328, 40170, 40267, 30333, 75701, 64401, 58369, 44509, 47756, 23649, 52489, 16863, 28197, 46016, 36368, 71803, 76140, 36363, 75996, 34828, 76220, 51272, 47260, 37651, 72409, 40577, 34853, 9093, 63324, 21603, 29992, 2537, 30490, 44574, 7137, 3155, 13218, 3782, 63691, 25640, 42541, 15631, 7704, 72295, 26084, 51004, 73843, 40890, 30185, 68629, 40038, 36790, 36617, 58094, 53882, 40060, 71828, 75034, 72840, 18840, 64236, 19104, 64954, 15857, 20019, 49000, 44287, 1878, 69605, 16487, 12352, 21133, 66807, 26115, 32041, 15006, 30462, 22654, 10758, 4937, 13095, 70838, 71426, 43069, 8475, 39465, 36184, 30201, 21891, 72259, 37108, 43822, 14194, 14729, 71077, 64224, 37806, 41937, 23876, 23214, 53512, 28366, 62788, 30547, 46534, 32637, 15540, 55894, 19934, 69964, 21458, 43934, 38270, 23933, 63748, 71726, 33569, 17699, 71512, 145, 52831, 38881, 17851, 2792, 18475, 21535, 42960, 25161, 29102, 14062, 72739, 27264, 52053, 60509, 45802, 48472, 33944, 15597, 34396, 54480, 6139, 50584, 47908, 32524, 5335, 52390, 75743, 44390, 18961, 38428, 75725, 44371, 10360, 33357, 38612, 68275, 29518, 12466, 9709, 57304, 65845, 59193, 42820, 52230, 70503, 15145, 62632, 66948, 8669, 29785, 35614, 3008, 60125, 1881, 34857, 54106, 44976, 31301, 1340, 59735, 46836, 67159, 56312, 13639, 65400, 38535, 26498, 40644, 26509, 46090, 61967, 29049, 697, 49146, 29719, 58390, 11625, 38513, 61515, 71207, 28505, 29823, 62668, 25837, 41168, 50081, 68131, 23682, 39817, 48747, 34940, 15702, 47329, 49040, 24604, 69872, 3214, 16521, 47869, 31317, 2810, 70941, 8221, 56972, 41894, 5685, 45713, 10308, 58297, 49359, 14565, 10628, 46242, 51621, 74588, 21786, 31957, 51038, 37702, 67616, 60426, 12803, 50516, 24716, 14443, 4574, 46312, 24450, 20829, 48741, 32247, 50379, 19644, 73266, 19075, 29770, 42668, 8454, 47014, 30281, 65115, 43037, 75903, 43586, 62613, 56369, 66041, 3219, 8970, 36257, 74133, 32477, 3726, 71774, 39151, 12631, 68796, 11882, 23541, 20489, 13497, 17671, 34318, 66906, 58433, 12276, 13974, 66187, 70514, 66749, 54468, 33318, 8365, 71374, 30884, 36977, 55395, 74367, 29792, 67676, 65353, 68816, 50031, 62215, 12332, 11773, 47580, 9694, 33329, 3935, 32846, 23051, 30559, 72926, 12419, 74323, 39348, 8627, 10103, 29546, 17134, 68717, 34300, 71079, 62388, 22949, 5354, 48111, 15222, 37665, 49196, 53301, 58439, 32207, 37698, 47460, 44678, 48611, 73644, 6971, 68988, 63600, 49817, 45909, 75468, 52989, 13212, 35641, 54891, 20980, 48605, 52604, 2741, 64744, 50209, 21805, 54444, 41194, 40960, 30272, 64008, 26002, 66351, 63289, 30401, 44890, 54713, 20965, 56407, 50203, 63578, 26824, 36079, 61456, 56981, 4052, 68810, 30976, 18128, 30656, 70491, 23392, 2732, 3744, 74094, 39384, 28798, 2658, 5534, 71594, 1551, 46273, 57784, 9650, 65812, 9110, 22257, 72373, 1134, 45918, 60123, 74093, 52263, 66430, 26215, 23464, 14006, 11086, 2106, 60295, 38445, 20360, 56862, 50487, 29894, 35655, 40466, 49275, 73898, 64765, 68138, 17764, 53005, 3946, 19368, 28414, 57177, 8076, 54939, 57738, 54990, 60740, 5439, 50600, 67111, 6786, 36804, 58020, 64608, 7374, 13775, 45089, 75009, 10922, 34635, 40337, 25561, 41445, 70815, 614, 55188, 3171, 19003, 38747, 65704, 3877, 42573, 52572, 44517, 36930, 18580, 67842, 46901, 64062, 45459, 71397, 6427, 62286, 58689, 13720, 23800, 18322, 8268, 39044, 21629, 49794, 27165, 72170, 2805, 7785, 31354, 59279, 2380, 10940, 17632, 10023, 58240, 47314, 3945, 19293, 72106, 13385, 15759, 37002, 15823, 29580, 56112, 4226, 37566, 26492, 70801, 42342, 43577, 55046, 57673, 40994, 24801, 25146, 24099, 32528, 70377, 7887, 60696, 63373, 19398, 45919, 26849, 36259, 50502, 3317, 56352, 11414, 76148, 708, 13955, 47064, 36611, 68401, 2345, 69435, 53887, 11704, 47894, 36468, 65460, 46939, 31049, 59688, 30318, 48923, 41193, 39397, 60260, 4124, 30425, 5196, 48598, 60162, 4277, 29444, 65840, 14835, 68127, 58133, 51964, 49369, 27164, 3788, 67490, 69286, 29650, 2800, 6068, 49729, 7458, 10082, 2285, 12847, 72519, 18490, 32951, 64368, 34449, 46848, 65527, 33353, 35556, 5044, 29525, 47456, 8437, 58603, 41847, 31325, 49028, 24070, 61699, 10747, 24326, 56078, 32316, 44938, 69442, 13631, 14162, 27003, 69613, 45197, 74080, 48050, 25428, 18223, 70704, 37473, 66737, 58724, 21977, 74763, 6168, 66741, 9293, 60557, 19567, 18140, 43498, 35042, 57047, 2460, 24977, 2386, 29204, 60261, 19900, 31094, 63087, 57384, 38618, 40110, 34005, 47608, 8095, 53353, 72652, 57235, 23684, 66055, 46518, 75854, 66150, 20094, 33591, 59030, 4259, 63965, 9644, 75596, 75053, 32842, 35137, 62560, 42530, 15840, 8463, 33508, 67594, 34479, 3635, 72277, 14019, 31549, 75889, 67125, 48495, 4716, 32366, 65913, 22528, 10411, 40528, 36541, 62002, 55312, 59583, 67294, 74268, 37950, 58500, 30887, 1261, 51190, 47631, 46722, 15178, 66239, 30228, 71723, 33283, 26702, 19023, 3523, 10054, 13552, 40715, 30664, 52934, 21691, 51593, 70001, 33112, 30268, 44447, 7716, 44661, 64536, 4645, 75273, 52827, 9579, 50484, 10201, 50668, 27746, 2744, 35663, 28563, 27463, 69146, 31441, 4888, 62568, 58437, 16563, 27833, 57340, 20158, 3621, 19778, 4265, 51579, 22675, 48021, 49924, 58426, 27742, 59637, 38205, 65273, 53653, 61249, 38732, 15726, 68172, 63030, 48997, 27890, 29567, 40697, 28591, 37724, 56497, 46293, 29781, 39434, 44539, 41055, 29163, 33687, 69843, 10845, 35094, 8846, 26966, 68151, 29662, 59081, 60742, 8513, 8703, 68727, 65171, 60699, 25437, 39037, 38809, 6794, 173, 29120, 28650, 58427, 41068, 6296, 32230, 72248, 33325, 63778, 18708, 22413, 30688, 30507, 31413, 56595, 70332, 34594, 33258, 5688, 55400, 47877, 34482, 33144, 58617, 28376, 65272, 68721, 27112, 48497, 58358, 54793, 69440, 18700, 18536, 429, 23625, 64393, 24102, 33240, 43789, 21239, 43558, 33097, 34208, 14815, 50670, 43572, 34424, 4869, 29778, 19304, 65998, 69744, 26319, 75908, 18501, 70236, 46558, 134, 39766, 47885, 15622, 13006, 20967, 70511, 13093, 61671, 68501, 54510, 62655, 9408, 72356, 53919, 5559, 11089, 68945, 49340, 72952, 36870, 64970, 54441, 25965, 48074, 70682, 25744, 25205, 55436, 26625, 50164, 63409, 32095, 60141, 39666, 13477, 16608, 51689, 39606, 25125, 2290, 19129, 74741, 2326, 31460, 71917, 36298, 43771, 46251, 51253, 27511, 73734, 47205, 42175, 42057, 2458, 34119, 69115, 71856, 42556, 9439, 9275, 23617, 35285, 49915, 12312, 29213, 55884, 57973, 6902, 53602, 16614, 188, 19370, 76061, 1362, 6181, 36268, 41199, 50756, 43113, 40523, 67040, 54269, 37712, 5614, 27282, 71320, 33664, 16102, 70550, 49689, 24499, 57900, 46012, 52727, 41910, 38965, 41136, 22872, 54747, 10161, 24441, 45218, 22920, 18405, 61861, 6223, 9441, 70740, 18626, 8002, 13679, 38292, 48862, 16838, 27634, 18060, 7199, 44004, 54758, 45783, 52223, 8041, 64583, 2478, 23404, 59968, 57503, 39624, 67228, 42981, 22386, 36157, 45449, 67923, 16286, 15963, 51920, 16833, 2155, 53796, 49701, 31442, 41610, 50866, 30952, 4070, 72729, 8932, 52685, 4023, 37442, 44270, 18107, 21971, 57327, 8216, 64796, 67560, 22711, 8460, 10198, 10430, 20913, 63363, 5648, 21060, 25457, 2755, 73621, 46039, 61938, 17214, 50669, 62785, 8967, 35902, 63673, 18386, 13989, 53380, 14531, 72422, 61469, 7385, 61327, 14230, 71631, 17833, 46424, 18574, 42839, 54159, 1534, 42153, 60682, 26303, 6456, 21002, 16400, 13811, 39518, 18300, 19517, 17412, 68528, 42950, 28750, 60900, 42780, 69528, 40003, 8310, 26294, 12744, 53911, 43429, 48641, 36908, 43416, 32489, 1108, 67681, 39956, 51875, 2603, 70256, 53248, 50744, 37729, 5204, 18891, 4067, 42804, 6930, 76236, 64251, 38434, 38213, 62592, 53273, 54925, 51713, 36653, 41694, 15740, 68421, 66529, 65256, 34707, 37166, 60903, 30422, 31799, 54876, 54040, 21555, 6000, 23418, 46986, 12837, 75314, 20502, 24380, 16236, 60369, 35575, 15378, 12627, 25994, 27814, 61461, 71867, 16756, 54326, 58190, 34810, 36766, 40957, 73884, 27576, 42611, 66608, 39081, 49422, 16581, 72701, 24814, 51063, 11662, 39989, 34397, 51890, 30998, 23146, 5268, 31847, 32898, 38813, 20729, 49722, 9281, 45763, 6825, 63903, 25567, 46656, 68854, 37705, 59460, 20293, 40105, 18277, 63146, 3485, 74121, 6585, 55472, 73536, 44298, 6202, 5217, 74643, 4308, 25695, 36279, 50431, 294, 28332, 52116, 53219, 28080, 46095, 19356, 42807, 18768, 15249, 57991, 372, 10119, 16062, 73992, 15646, 45054, 65109, 1672, 34429, 54839, 6102, 63449, 22720, 65598, 30661, 9533, 57522, 49967, 26715, 30956, 48180, 26603, 67137, 62537, 36797, 10238, 40387, 52725, 70161, 1223, 74313, 70334, 36415, 21812, 72892, 20540, 66502, 2708, 52549, 66215, 50527, 66686, 17014, 43026, 37229, 48492, 41715, 75818, 34570, 27894, 75298, 15508, 52554, 51328, 11377, 37208, 38794, 71674, 35451, 5991, 17762, 11399, 3974, 43007, 15985, 49885, 20079, 32634, 62887, 75220, 9038, 30454, 34538, 55751, 67425, 71211, 36011, 66178, 30972, 72257, 56326, 59568, 43011, 42073, 3550, 17076, 57169, 34952, 15773, 62567, 57941, 22245, 52001, 72113, 322, 12637, 63156, 48237, 6590, 27588, 25537, 65071, 4812, 56144, 63423, 31885, 72564, 4158, 1526, 42041, 7638, 22034, 71416, 56354, 9674, 52697, 42166, 72909, 55670, 221, 53948, 14549, 36063, 19935, 70094, 9881, 46132, 47096, 60515, 23205, 73542, 59316, 20570, 51157, 41228, 57577, 28895, 66485, 55290, 19095, 4927, 61847, 39446, 59077, 61962, 66438, 56510, 18790, 21612, 18032, 37147, 72001, 9244, 59407, 6313, 34427, 44848, 62962, 9013, 50352, 20287, 7061, 51904, 43450, 50631, 27613, 27338, 8313, 62704, 63325, 67934, 34238, 34849, 47870, 20056, 23813, 25628, 54817, 43433, 52899, 41462, 31268, 7541, 46697, 60177, 52277, 61612, 27797, 61219, 73598, 40681, 37213, 74899, 1079, 25906, 804, 46113, 27781, 34744, 6918, 73530, 42896, 18489, 7424, 19603, 17810, 41072, 68749, 42452, 48415, 33481, 13951, 73711, 63505, 68754, 24714, 49123, 29220, 16703, 40720, 51775, 26919, 64241, 72025, 34274, 63294, 13119, 2759, 51017, 37801, 43567, 6820, 59369, 61685, 40893, 42846, 1213, 49718, 69974, 50137, 9291, 5843, 48084, 40900, 65241, 57025, 31310, 26519, 17352, 33746, 33451, 18260, 52553, 21266, 11816, 18534, 18062, 66853, 45422, 15834, 53023, 35394, 12297, 62911, 12380, 66006, 45169, 7923, 43254, 32277, 75027, 40629, 49656, 6492, 48907, 5547, 66314, 32968, 33063, 2767, 28646, 6658, 32874, 3810, 68324, 36296, 61083, 71233, 62860, 8999, 15294, 54941, 43673, 62648, 57222, 29010, 60579, 6866, 57246, 35001, 57831, 70876, 24232, 2210, 58194, 71752, 67314, 60392, 51804, 28261, 8422, 15056, 73241, 53505, 18371, 18122, 38669, 35962, 33069, 20897, 30795, 61451, 13244, 10963, 49511, 56951, 51871, 70168, 38321, 50779, 20016, 30026, 4126, 59793, 59926, 51480, 37496, 31059, 26327, 39750, 35260, 6983, 72934, 38856, 655, 55154, 50322, 48708, 25858, 27852, 26701, 55576, 42988, 19415, 38181, 58610, 54882, 68223, 76310, 56288, 65298, 10246, 23544, 16215, 54241, 23505, 31524, 5121, 32195, 43191, 67888, 10515, 73525, 16343, 19297, 36457, 33950, 29030, 54676, 23265, 69225, 62136, 52256, 53861, 11807, 73021, 43552, 2176, 47703, 70632, 2610, 23131, 56032, 54787, 19374, 25071, 45553, 43955, 52266, 5658, 19196, 9446, 37123, 27469, 18915, 56294, 40352, 36587, 33952, 35353, 41363, 35936, 75515, 68789, 50914, 33874, 7266, 29241, 66231, 55019, 37335, 47001, 40750, 50729, 47504, 59517, 17947, 26081, 35431, 47530, 57391, 2598, 39524, 497, 13349, 31232, 38922, 57219, 16798, 57912, 74916, 48556, 24091, 67978, 66501, 3775, 52744, 6136, 23643, 43378, 68829, 15402, 53889, 28957, 35443, 12762, 28989, 33812, 43003, 3011, 69444, 20788, 456, 59738, 16178, 27157, 73831, 30319, 72792, 52706, 23603, 10869, 34402, 7779, 49182, 27342, 56054, 10555, 37013, 64069, 36431, 26467, 9850, 75576, 52561, 1716, 60777, 37522, 25033, 22566, 62302, 67354, 56425, 60917, 21784, 67518, 62243, 5381, 73423, 10680, 14083, 1483, 27633, 10274, 29074, 72995, 71949, 56119, 4962, 28401, 50644, 118, 57339, 28966, 6310, 59129, 4419, 67707, 31556, 4582, 57453, 7909, 35391, 63236, 50400, 28599, 48960, 9758, 24332, 455, 45981, 72084, 17226, 2649, 23765, 44918, 11266, 42438, 8307, 70177, 45751, 9943, 73767, 29124, 20445, 70064, 1588, 57254, 27310, 9322, 39572, 61410, 54927, 37467, 19643, 47062, 44792, 65481, 20141, 2516, 18071, 20416, 2864, 44284, 64948, 50808, 48119, 15577, 59116, 57406, 58047, 62796, 39891, 12267, 68184, 3142, 21387, 29732, 62895, 70035, 14567, 7624, 65829, 59661, 61802, 40289, 36607, 18736, 69707, 8746, 14434, 34540, 56524, 31450, 19449, 16210, 57558, 29804, 73162, 44576, 63018, 74843, 56633, 21078, 27086, 21314, 30274, 17264, 62217, 36292, 7634, 10889, 33884, 12449, 6745, 35677, 53324, 37686, 2888, 22361, 75471, 71202, 75445, 53878, 56945, 29520, 66039, 73710, 72280, 29493, 12428, 57271, 4034, 60688, 62920, 320, 17648, 76112, 31787, 6267, 31933, 67161, 76099, 55498, 66335, 27141, 23774, 49872, 30328, 43296, 75807, 53176, 13827, 61947, 44040, 25674, 66205, 33336, 54496, 9730, 33835, 75204, 27189, 73862, 18232, 11600, 11735, 32836, 62382, 56022, 19238, 3594, 3231, 40439, 62791, 22691, 8461, 56243, 51316, 42269, 8734, 30671, 37126, 71043, 60551, 29122, 75929, 3647, 5058, 68195, 1568, 48696, 53942, 12384, 13331, 73669, 6134, 57585, 69174, 69697, 8358, 32075, 15603, 12096, 9734, 68544, 28068, 12667, 22820, 39870, 13799, 36099, 2506, 6170, 38967, 23605, 50082, 42885, 48740, 34872, 59172, 68634, 29813, 46539, 3002, 23692, 16344, 70421, 57720, 63629, 43436, 15160, 16611, 20323, 2392, 44698, 72411, 5912, 2926, 72899, 12255, 36250, 4175, 35946, 71591, 10602, 49527, 4816, 48665, 9547, 6243, 59187, 49005, 434, 19523, 29350, 67964, 29620, 3184, 3333, 13953, 15034, 22969, 6809, 70911, 69751, 23061, 50368, 11024, 53489, 18278, 24938, 51007, 29323, 62426, 56189, 58876, 16958, 62669, 18065, 62007, 44440, 74768, 21103, 64646, 66908, 24295, 20544, 66876, 60954, 51642, 32811, 71199, 63429, 38554, 59758, 53294, 731, 30681, 63844, 14376, 26883, 62132, 15512, 1854, 24298, 3965, 20305, 38824, 68055, 57640, 31859, 74147, 15274, 54212, 47930, 44946, 47394, 38012, 45202, 35358, 46146, 60225, 40699, 36262, 34884, 7169, 13505, 67621, 67245, 11082, 50791, 42440, 65628, 62383, 51867, 44324, 68886, 65229, 48811, 72975, 16690, 62306, 30325, 2369, 49226, 71058, 2882, 69891, 56024, 785, 35765, 57458, 37640, 66787, 42461, 10693, 61157, 45296, 76341, 69586, 414, 70865, 62166, 57337, 43986, 23608, 48615, 37490, 65098, 44341, 74786, 4389, 49864, 61915, 38062, 19242, 72125, 36505, 75637, 9924, 28986, 60206, 53039, 36133, 75511, 32812, 37364, 54493, 66979, 51767, 12645, 14563, 18805, 3743, 1516, 42863, 3047, 24444, 34241, 15185, 69810, 39846, 26617, 49980, 26184, 33432, 20761, 33749, 69538, 1196, 6504, 20757, 4139, 11046, 60531, 14640, 76025, 11838, 9144, 43284, 18709, 45082, 72122, 59216, 23549, 21657, 47533, 13132, 11194, 2158, 49990, 54037, 45004, 73169, 40366, 354, 68706, 35349, 29127, 47451, 71654, 38239, 14981, 64111, 68910, 14231, 19863, 18583, 57581, 64186, 22775, 17055, 39570, 35804, 60819, 5973, 62222, 69060, 52991, 16190, 24618, 26397, 16886, 65449, 3849, 42055, 69113, 32227, 69090, 11978, 43718, 31908, 58188, 5518, 38831, 63863, 64971, 12044, 10113, 75655, 15042, 12462, 32398, 13625, 69853, 64285, 29959, 51688, 9055, 54191, 34319, 14963, 7181, 58497, 36755, 31480, 17319, 48904, 26746, 13703, 66234, 67060, 13189, 63776, 18548, 64815, 10649, 16020, 19142, 75956, 17001, 15300, 40520, 9175, 56724, 9897, 38006, 5570, 32841, 47218, 25323, 33104, 11676, 58963, 73441, 69985, 61845, 20423, 44605, 17439, 5454, 7788, 28934, 37765, 76181, 3369, 7594, 39185, 29913, 11256, 9347, 7054, 16779, 32239, 49370, 43399, 68580, 61648, 28724, 45720, 12997, 76125, 39858, 4194, 45485, 40405, 33312, 21609, 34075, 65307, 64634, 47157, 6997, 25793, 49857, 23646, 71927, 57639, 73627, 10953, 39180, 49910, 65795, 22685, 56432, 58244, 52822, 19699, 15047, 24463, 24806, 21670, 57325, 53498, 13673, 50582, 75406, 5529, 19102, 69783, 6911, 61101, 73602, 30092, 74955, 39342, 6991, 5974, 33210, 10721, 59355, 52137, 31757, 8547, 55089, 64080, 67379, 66707, 3131, 7420, 17067, 56897, 46168, 48839, 1757, 42877, 12558, 9075, 40591, 28621, 8215, 55356, 75065, 5151, 17587, 35648, 75138, 64385, 2440, 17040, 50420, 9274, 60503, 39957, 14252, 5969, 66813, 60852, 2573, 27447, 72539, 38926, 67981, 74722, 35168, 23873, 45465, 21240, 43965, 74423, 75386, 189, 57563, 51891, 63086, 9379, 55091, 8501, 149, 22569, 39861, 21902, 56521, 12182, 25942, 52733, 59268, 23601, 51334, 50917, 73192, 22090, 57080, 18753, 14366, 60661, 36255, 39563, 40879, 17402, 26425, 54601, 14417, 25040, 72313, 51886, 25345, 52356, 49534, 46907, 68180, 15884, 43890, 48254, 19403, 28242, 49803, 74351, 69494, 34009, 65283, 44629, 8806, 2718, 22557, 26251, 11840, 21144, 51594, 12039, 67142, 73526, 50296, 55904, 19893, 52218, 26750, 66615, 69241, 37440, 38987, 70227, 12399, 38776, 69039, 13389, 75410, 3498, 49802, 42581, 63481, 33734, 22844, 55898, 57676, 76218, 46423, 61576, 63540, 58231, 9132, 31435, 63546, 5718, 14709, 74690, 22483, 10147, 7844, 70810, 1902, 55809, 18827, 66997, 45384, 55450, 22616, 52588, 36773, 65624, 31486, 44636, 64881, 7895, 46500, 2787, 42150, 46973, 65376, 10070, 76288, 64903, 45596, 31706, 52696, 51631, 5774, 3613, 46330, 2260, 3973, 27990, 61693, 37004, 3406, 10504, 38135, 4148, 45806, 28790, 75195, 69234, 49742, 36162, 52095, 61884, 52905, 15589, 6890, 71427, 41661, 48234, 5847, 4082, 75895, 37487, 16441, 72144, 50750, 28298, 31222, 49576, 29787, 24543, 6034, 20407, 44391, 30557, 57130, 37587, 46239, 59157, 54324, 8409, 75837, 59730, 44526, 29553, 7935, 73635, 25746, 52409, 38779, 35308, 26395, 11240, 59294, 62638, 1931, 14977, 74568, 39731, 67963, 37574, 69120, 23299, 69817, 42865, 62857, 66199, 34341, 8935, 55261, 65982, 59733, 54629, 61897, 30479, 45427, 1883, 74509, 19214, 71852, 30631, 70490, 46346, 34669, 11370, 74684, 34837, 73132, 67287, 9637, 72663, 35447, 610, 22611, 42402, 51869, 34562, 33953, 31522, 27385, 24299, 50938, 61012, 47610, 65165, 66440, 44653, 41753, 15991, 16619, 33182, 21066, 49999, 59931, 56848, 26043, 41050, 25509, 54932, 21961, 242, 50086, 16194, 62633, 45967, 40059, 67986, 56152, 66716, 55727, 56440, 73388, 70024, 53126, 63883, 30516, 19593, 4853, 19058, 66070, 55484, 68121, 58671, 69871, 42755, 24412, 71140, 26729, 24500, 62762, 23703, 38111, 40419, 62835, 64183, 46187, 74620, 49044, 42036, 31634, 39680, 54085, 40604, 31351, 74363, 57596, 44823, 34747, 61491, 58851, 21491, 74287, 48176, 40125, 10797, 1064, 53375, 16300, 36108, 6041, 12249, 28581, 2728, 55660, 70981, 70602, 18479, 45207, 65720, 30864, 68454, 9267, 55353, 16672, 59029, 26983, 52580, 62754, 6743, 13255, 13756, 13488, 64652, 16073, 75324, 39558, 30965, 23427, 60466, 45883, 4750, 72895, 52301, 1841, 67782, 17378, 38532, 54314, 34, 14564, 17786, 51519, 70900, 25838, 5565, 71125, 57667, 37760, 67942, 67325, 34264, 7618, 69546, 64836, 25528, 42385, 27620, 25346, 67041, 67628, 9157, 31375, 45862, 8070, 50438, 74496, 14618, 73335, 41760, 11617, 50014, 67215, 40285, 44664, 53140, 71702, 5610, 36614, 71524, 16506, 7988, 47769, 75925, 71711, 28475, 20827, 60922, 24791, 35268, 20955, 24118, 63358, 32055, 32484, 26369, 56180, 37133, 54285, 70693, 67572, 20625, 43253, 63100, 46256, 4944, 41011, 180, 39247, 37711, 63744, 69577, 8337, 71051, 2059, 28892, 14379, 70219, 26515, 36175, 52487, 59073, 17519, 50269, 16947, 31763, 206, 19806, 62006, 4730, 69055, 6195, 4795, 13836, 75245, 52988, 38073, 66693, 39117, 35466, 409, 3137, 33491, 25129, 29684, 18453, 33806, 12629, 29135, 59119, 37703, 37394, 13712, 19745, 72163, 40622, 47734, 66001, 75137, 15277, 25124, 672, 58359, 73300, 25114, 38141, 12641, 34918, 19331, 55559, 32732, 48786, 46612, 30117, 66262, 9666, 50651, 66505, 8516, 38186, 43543, 68169, 74799, 216, 53330, 64264, 13423, 30485, 58290, 34248, 57239, 30971, 45318, 931, 2694, 39228, 7642, 38495, 60064, 45494, 16995, 48503, 46510, 25750, 25408, 63583, 76334, 5395, 66816, 74253, 14042, 16888, 6090, 41379, 59867, 1046, 74923, 7313, 39657, 60645, 65939, 39150, 10533, 43175, 19709, 32432, 33083, 68046, 3246, 27979, 50449, 36937, 70907, 23152, 66774, 68101, 44965, 20014, 12978, 51462, 60602, 17607, 1818, 33294, 23443, 14527, 34178, 318, 65811, 31923, 61368, 68105, 21526, 2771, 57956, 64684, 46098, 7084, 58121, 65301, 54700, 48322, 36510, 12529, 8974, 14693, 22957, 74168, 9401, 30065, 57959, 18021, 72191, 27627, 29374, 51165, 60332, 68959, 20369, 2618, 32006, 3875, 18229, 22393, 34395, 41606, 6552, 4877, 64915, 61706, 4299, 11955, 23566, 17585, 10881, 25194, 42013, 13883, 45393, 50572, 40808, 11846, 6543, 46947, 9541, 51974, 73152, 72086, 28140, 63180, 40332, 6581, 32934, 53479, 21738, 63273, 56334, 40057, 68573, 41198, 29535, 67344, 6532, 19791, 53888, 20366, 60988, 60235, 1002, 68520, 30695, 59525, 61854, 47840, 17064, 17202, 40041, 32492, 54628, 41735, 9515, 25957, 66160, 60619, 50774, 13749, 44380, 10743, 46750, 42637, 38335, 37642, 17408, 11436, 62915, 24147, 60898, 23892, 8659, 68220, 60973, 15775, 1963, 41027, 14386, 62198, 49300, 3681, 58811, 70249, 9755, 37774, 25178, 34407, 61749, 26956, 39236, 36244, 19886, 42868, 68991, 21844, 55357, 49110, 31022, 72951, 5041, 28016, 12463, 15374, 41772, 48731, 23054, 57718, 38249, 20458, 54951, 37671, 13741, 6774, 13090, 67958, 70111, 61918, 48846, 34372, 64843, 21176, 72059, 20121, 11551, 56647, 67428, 73469, 60209, 19831, 33319, 72481, 55919, 41603, 31146, 35000, 61343, 42724, 45514, 58424, 59489, 31390, 20486, 20785, 22293, 19166, 41678, 24132, 10741, 17647, 42289, 66944, 14888, 2625, 11430, 21793, 30532, 48162, 60929, 47214, 62254, 3766, 74251, 14270, 45985, 34944, 26810, 1618, 37948, 11914, 20577, 4492, 75493, 6651, 65103, 25637, 62402, 20994, 22239, 74713, 75961, 2731, 59465, 24504, 19251, 24281, 53556, 60691, 26206, 44439, 71063, 64542, 13391, 58449, 48894, 33018, 71222, 10211, 12002, 16661, 25676, 56826, 5282, 62753, 43797, 62266, 8049, 50628, 18735, 649, 23447, 41230, 28584, 63559, 71311, 10502, 8227, 13181, 69256, 24721, 73033, 17554, 33119, 32837, 59681, 48076, 40633, 17901, 55569, 1356, 67001, 36608, 73596, 1993, 56274, 17990, 2175, 48906, 7049, 18186, 70409, 57530, 66286, 35434, 15708, 15863, 30170, 52720, 378, 56435, 59478, 63953, 35034, 16738, 24009, 68507, 50928, 17598, 68273, 8922, 24065, 64345, 16809, 23911, 25120, 73261, 27488, 54936, 39896, 50933, 72559, 29974, 18912, 4095, 54694, 23676, 70456, 14629, 16109, 56645, 19264, 62326, 64286, 17173, 62721, 3450, 74484, 33583, 26838, 3003, 7227, 39548, 72510, 10342, 66631, 21385, 56311, 27572, 68166, 49557, 5272, 5344, 16034, 40124, 71704, 49533, 42251, 51506, 38830, 52963, 40309, 23366, 38945, 71691, 24892, 75703, 39725, 45114, 47254, 40048, 68682, 2437, 18577, 56151, 55787, 49665, 63080, 70496, 25977, 42898, 54863, 74445, 4529, 18767, 11941, 12579, 22405, 17133, 72690, 73191, 23446, 53999, 22057, 1549, 35941, 12120, 313, 16373, 19747, 31814, 36963, 74125, 34027, 158, 48168, 57505, 38417, 75752, 63058, 18527, 50927, 50344, 70896, 74203, 74910, 20500, 13987, 47740, 50566, 25156, 27249, 33457, 49779, 56348, 21722, 37657, 47188, 30719, 45752, 21934, 4988, 64876, 72921, 74436, 54732, 9341, 2655, 17719, 23752, 72581, 7907, 59379, 68864, 30973, 64889, 65955, 60578, 72401, 23465, 54716, 6391, 19662, 53334, 70665, 4706, 68459, 33963, 56096, 56244, 33933, 67418, 38843, 37095, 71254, 12087, 59495, 44577, 62081, 57017, 37406, 21996, 6550, 74464, 74691, 44961, 68393, 46673, 33261, 21673, 40135, 61070, 75106, 59589, 74506, 70515, 18949, 16932, 41482, 38566, 19906, 41098, 34374, 28794, 1130, 32223, 27407, 72291, 52844, 30151, 61887, 57997, 76223, 31983, 70330, 41748, 40297, 63647, 12882, 31165, 44507, 13681, 41359, 57684, 21393, 9919, 40823, 47267, 64558, 59220, 7663, 26059, 37598, 15057, 65578, 4252, 76102, 42797, 30518, 21221, 36767, 70250, 52741, 23153, 67114, 39886, 55022, 40347, 68588, 5604, 18706, 31239, 47579, 46120, 33372, 55514, 6438, 29054, 55176, 51288, 48443, 76026, 22271, 8156, 13168, 3073, 34332, 7429, 61115, 26789, 30064, 17770, 56525, 31265, 33503, 54871, 35650, 63569, 6095, 61094, 14930, 2877, 43273, 59892, 25655, 15707, 39752, 27, 26382, 56125, 29687, 526, 29814, 28009, 22207, 39949, 12495, 28879, 11839, 47103, 63172, 35537, 42444, 28632, 27784, 39160, 18259, 45421, 38733, 36355, 20353, 32592, 46088, 58922, 35464, 720, 56680, 35155, 62793, 16778, 33829, 67002, 49540, 45132, 11348, 30594, 12189, 12225, 22919, 41891, 47691, 70180, 40892, 37738, 6125, 40455, 3871, 8255, 45134, 60637, 63587, 48686, 34553, 47281, 41570, 38977, 11284, 49017, 57082, 75133, 30610, 14045, 67836, 71126, 48169, 46414, 2539, 11125, 34528, 13523, 25091, 37114, 52339, 64703, 45402, 19402, 50585, 28452, 52813, 17238, 31065, 40642, 7587, 51711, 60817, 38668, 57108, 41996, 13972, 62650, 33771, 20907, 72189, 346, 2112, 42654, 49314, 60935, 67617, 40698, 21210, 43062, 31391, 48877, 16165, 49583, 12930, 34667, 5049, 30483, 41221, 73784, 6016, 26278, 11326, 53743, 68216, 18999, 51671, 71132, 40408, 39358, 49848, 4092, 54029, 58728, 17940, 58742, 20038, 58184, 43902, 38582, 63493, 41212, 52966, 39859, 50681, 56599, 50606, 23727, 43381, 8878, 3098, 2928, 31096, 35554, 63686, 57704, 24493, 16632, 51639, 72863, 38279, 52688, 14929, 37355, 52982, 37510, 7902, 33454, 34137, 32796, 69957, 29645, 4714, 20350, 22072, 50526, 61113, 75783, 8542, 37942, 7180, 44932, 17487, 36123, 73318, 61241, 43126, 34827, 5165, 67550, 60124, 70320, 4300, 48257, 60313, 28419, 21778, 22860, 10875, 45675, 67576, 18044, 41547, 22651, 23024, 35812, 48831, 426, 46807, 38460, 19250, 61490, 2031, 26346, 62751, 45670, 25177, 49341, 22975, 1042, 58292, 66805, 3601, 43020, 49919, 32878, 47986, 62538, 14392, 8201, 58313, 51388, 2129, 31200, 65784, 65254, 55099, 53609, 17195, 68001, 14576, 2509, 65593, 76179, 34211, 46129, 3838, 15377, 42032, 43610, 70561, 74238, 19234, 14785, 64310, 72620, 65333, 48944, 2633, 15796, 10798, 2630, 58959, 63996, 27100, 74960, 29993, 48171, 63356, 11478, 40348, 6361, 70547, 23017, 42543, 40099, 17451, 30548, 66481, 47215, 38425, 55905, 50249, 15385, 6727, 1846, 19141, 31725, 73439, 5056, 13332, 26606, 35864, 43579, 1762, 13628, 59541, 12819, 41535, 45940, 46417, 76206, 68054, 11145, 36742, 64288, 74454, 16390, 31942, 32959, 46653, 65904, 8189, 12567, 49984, 38631, 55592, 34642, 4842, 41235, 35432, 2029, 47617, 19731, 55366, 70831, 40165, 53374, 66932, 13567, 2627, 58904, 64937, 50725, 9283, 69147, 64352, 30915, 45832, 27303, 29458, 38405, 52859, 6376, 57776, 31228, 71729, 25498, 32903, 41079, 30081, 1399, 14224, 2379, 56116, 64178, 8802, 56740, 37582, 29610, 75286, 58228, 58608, 23352, 43647, 10452, 3962, 25471, 19694, 7445, 7878, 45757, 32104, 58344, 11362, 31638, 73997, 26216, 61414, 57311, 5626, 55900, 4977, 57767, 39483, 55360, 10562, 37920, 26813, 59498, 4144, 31574, 63133, 5358, 53520, 50615, 70775, 13050, 20465, 41258, 55729, 24256, 59542, 26533, 64051, 55125, 15215, 33397, 20520, 42405, 11165, 21136, 23096, 10549, 13520, 52941, 15595, 74515, 47053, 25234, 7076, 49703, 19678, 1521, 37901, 17016, 62313, 54426, 20447, 17524, 29406, 69014, 3982, 67931, 70367, 63337, 41761, 39768, 17510, 38284, 35417, 13873, 6144, 67785, 3624, 49322, 47523, 56030, 10011, 57808, 42726, 21433, 12736, 41452, 59514, 4441, 51944, 50942, 21048, 30611, 17856, 67293, 30877, 30404, 16402, 30282, 32476, 47546, 4076, 24992, 66195, 30393, 19038, 16638, 32232, 49217, 26257, 5985, 58835, 11403, 36317, 45516, 28353, 8805, 49367, 28930, 5006, 39695, 56123, 49138, 23258, 51367, 47175, 62073, 27722, 51878, 50000, 63999, 15957, 71147, 20509, 55220, 11225, 27631, 3413, 53750, 13221, 30419, 65345, 43593, 20227, 53287, 73797, 50642, 59989, 2381, 16419, 38655, 7006, 68811, 15727, 3676, 22827, 66376, 14411, 22537, 68444, 12314, 69873, 13994, 36757, 64259, 21138, 1888, 30323, 63833, 71519, 35490, 71969, 33035, 32337, 28066, 18605, 34036, 3736, 45612, 43446, 74140, 65745, 36920, 35908, 23613, 73291, 71805, 6931, 30948, 57026, 24804, 17724, 4767, 33837, 73197, 43887, 36346, 61091, 17057, 24456, 3778, 67053, 6394, 44445, 53230, 17332, 69357, 21557, 20671, 25632, 5413, 337, 1225, 237, 62163, 64892, 8396, 55691, 39490, 40002, 33310, 26678, 5978, 70130, 52162, 38163, 61128, 29347, 37722, 51888, 42745, 67658, 47177, 74764, 61448, 38160, 18249, 51248, 32374, 69825, 60873, 36039, 41861, 4294, 73637, 55180, 67269, 21470, 46192, 34382, 18100, 27442, 21427, 10851, 40017, 76155, 11084, 55293, 20170, 44107, 10018, 57471, 65138, 5588, 22353, 12095, 11881, 72724, 43093, 19033, 10241, 38162, 31984, 61506, 42365, 61008, 39242, 44518, 21560, 38556, 31831, 34923, 20563, 9589, 68676, 2332, 66246, 48442, 48101, 36152, 23268, 47170, 38145, 16557, 6249, 49622, 16476, 58611, 29672, 70419, 34920, 4692, 41544, 21315, 26368, 63285, 71996, 14149, 48239, 19321, 874, 8292, 55074, 46041, 35832, 62864, 72440, 38444, 69364, 64450, 41323, 55433, 74602, 76255, 58790, 14753, 57174, 58885, 49368, 39068, 5544, 10249, 73715, 72100, 70145, 45057, 28726, 8584, 25466, 10559, 6979, 32076, 8608, 35509, 61372, 14684, 60284, 74472, 32834, 21558, 14646, 60386, 57696, 35549, 12201, 32342, 70866, 32633, 49385, 71496, 9478, 36498, 31449, 38232, 59299, 6988, 28473, 36129, 57324, 34821, 68680, 27747, 55756, 36405, 31825, 40464, 32486, 25825, 40018, 57504, 13044, 45694, 43463, 9746, 27178, 55186, 51555, 16991, 24928, 43307, 56744, 31745, 50701, 28991, 67554, 74106, 71899, 32936, 26676, 34200, 48334, 2164, 53437, 70297, 28617, 57856, 24503, 63964, 53323, 70123, 64865, 12010, 72988, 25904, 6965, 42572, 60021, 39796, 65828, 2280, 28067, 4295, 21962, 6909, 7738, 71945, 26440, 33264, 16407, 48160, 2372, 7284, 716, 7971, 46912, 66271, 37580, 15793, 74644, 75580, 9876, 29043, 72164, 39040, 51061, 1661, 20110, 58041, 23731, 54952, 73618, 23225, 15225, 18759, 60341, 6871, 39332, 26355, 37079, 13542, 39648, 15556, 17072, 70721, 43571, 56485, 44472, 28995, 27865, 33105, 46488, 14109, 47882, 58952, 30648, 75730, 1705, 5185, 75560, 62947, 49786, 46952, 61651, 28044, 28263, 49651, 7155, 53443, 53814, 74448, 40529, 34953, 73579, 4236, 75951, 23124, 21164, 63091, 8117, 43067, 71763, 16057, 24962, 14021, 34432, 62118, 16522, 41176, 63785, 40367, 12310, 43884, 43600, 66905, 71686, 41473, 25604, 74356, 11156, 30022, 34063, 11175, 63923, 60416, 57398, 46073, 29476, 61057, 10479, 4279, 4343, 22748, 35373, 15244, 38580, 20504, 40951, 19169, 30546, 15960, 22828, 59610, 69770, 7325, 12793, 57657, 485, 56888, 9967, 72696, 6946, 11141, 59351, 15095, 53466, 11068, 70568, 17837, 1714, 61293, 36734, 9351, 12191, 67130, 35630, 30606, 69028, 16423, 56728, 57412, 2331, 10507, 8554, 70650, 33542, 32743, 28375, 21901, 25438, 67714, 17753, 42765, 3304, 20165, 15078, 8512, 33818, 21399, 29517, 36508, 68448, 52579, 55446, 10038, 33958, 59795, 47367, 5558, 57187, 75118, 48532, 41265, 75036, 6002, 55208, 39018, 31060, 43470, 18257, 36528, 13706, 2410, 12555, 28510, 60862, 63028, 26843, 3873, 17664, 69127, 58660, 1296, 8700, 38303, 24142, 54910, 8865, 54823, 62984, 67337, 48224, 40560, 49053, 71056, 256, 28032, 31290, 41510, 70846, 66267, 56720, 9726, 48099, 17544, 18147, 71679, 24565, 68123, 69821, 16596, 11465, 5212, 58392, 75287, 41153, 46418, 31656, 12829, 59475, 7075, 54349, 76207, 8689, 23585, 72324, 13981, 19295, 62245, 42978, 70292, 290, 22629, 42372, 24679, 31443, 47142, 39917, 32462, 26713, 38852, 65817, 139, 28229, 24200, 11305, 30171, 29757, 59087, 9071, 48784, 36907, 1313, 14542, 37578, 63615, 42817, 28269, 18694, 67856, 11337, 2826, 33617, 53009, 8335, 58145, 14957, 21688, 59067, 23565, 52334, 73373, 48158, 57241, 57181, 34013, 24035, 49739, 14126, 57556, 46929, 71612, 15523, 70229, 51806, 53271, 23927, 17945, 64826, 9518, 71775, 30358, 62337, 38708, 9319, 52505, 12497, 72843, 72802, 33286, 7934, 57761, 71213, 7398, 12816, 17358, 26344, 64791, 75860, 26629, 17816, 38165, 13651, 31877, 48501, 73289, 51463, 6634, 67685, 35051, 8267, 32015, 56742, 18849, 34745, 73842, 1351, 12842, 8556, 44959, 53865, 13169, 3201, 9292, 59105, 7555, 70949, 69329, 32431, 9422, 23919, 39851, 35590, 65493, 27207, 15588, 41002, 56206, 24344, 67050, 10396, 59971, 17658, 13634, 55914, 36521, 49882, 64481, 4807, 13849, 54132, 50230, 46027, 42566, 37926, 40492, 20289, 3267, 50610, 66058, 8110, 57095, 8231, 35471, 50931, 15339, 47278, 54771, 37186, 70972, 16228, 46491, 68194, 65250, 60036, 3953, 70877, 28191, 25334, 64718, 68971, 35385, 43286, 21959, 55292, 12280, 17088, 16566, 42024, 35478, 52794, 62758, 13833, 44370, 4240, 42417, 64978, 5686, 29657, 24611, 37689, 71526, 47031, 41080, 74325, 3157, 29477, 12304, 57826, 1887, 55027, 25603, 3525, 43820, 75840, 2235, 13254, 8099, 48970, 43344, 41844, 8102, 17994, 75392, 38845, 8595, 71142, 46683, 57211, 52269, 76338, 27692, 69905, 72687, 26125, 76174, 17957, 62049, 11107, 39195, 16311, 2055, 8329, 191, 15328, 46215, 9878, 59760, 23515, 64311, 43851, 41120, 1603, 15930, 50643, 20085, 75302, 39035, 65584, 49299, 61555, 24873, 45431, 63317, 39174, 22567, 47892, 64947, 62597, 47268, 10296, 47964, 36975, 41745, 34425, 11379, 47620, 75977, 5078, 18266, 30791, 41846, 61072, 71393, 53297, 62241, 35424, 17148, 9998, 21316, 27655, 3781, 45604, 9166, 59725, 45498, 6995, 29162, 2087, 9295, 9842, 72569, 10962, 66681, 31037, 5310, 68655, 13496, 37176, 61789, 17523, 42096, 23952, 24719, 43195, 44220, 46450, 51136, 15137, 53756, 16878, 46990, 62815, 37945, 64117, 52215, 66551, 30113, 53630, 43763, 58001, 13399, 33091, 17716, 26930, 69381, 45103, 30441, 15989, 52515, 42411, 24570, 55297, 40993, 43810, 68638, 45225, 61353, 38979, 20142, 8729, 29490, 10774, 48800, 25204, 65389, 48384, 6656, 7355, 40266, 72329, 50314, 71693, 53357, 31528, 61025, 34240, 17143, 30312, 22228, 26610, 19759, 3742, 53776, 76322, 6001, 18372, 53525, 65692, 10056, 48664, 26010, 17098, 11350, 68694, 5051, 24433, 11936, 47035, 37302, 10673, 2737, 2866, 66572, 1610, 20551, 1703, 34316, 45311, 68360, 53677, 73837, 8666, 73620, 70192, 72719, 35082, 36198, 43061, 7728, 25047, 178, 8093, 58045, 55722, 67279, 39953, 45961, 60373, 6742, 59066, 6255, 55869, 60250, 14643, 64568, 19494, 47713, 10305, 22466, 25503, 110, 55432, 5609, 11898, 45423, 25031, 48932, 72858, 46578, 74883, 14235, 57107, 36201, 34835, 23870, 57793, 42712, 6020, 3977, 73907, 62301, 466, 11499, 29656, 23243, 2341, 68726, 2262, 68438, 69418, 70928, 62543, 24316, 9135, 26387, 32254, 8021, 975, 51024, 74638, 4543, 15267, 46670, 33808, 7592, 9880, 9720, 12475, 48272, 2593, 17941, 46135, 33351, 58504, 54864, 52022, 19897, 70464, 55997, 75779, 12768, 3698, 20870, 24436, 67809, 38429, 50325, 74060, 51249, 38789, 34434, 75050, 39252, 71378, 50127, 68467, 7790, 39386, 76301, 56654, 3991, 39668, 75172, 34265, 24950, 47258, 67477, 34327, 3209, 71652, 13356, 2519, 1584, 55035, 59829, 43480, 75157, 71299, 10051, 36064, 45174, 33815, 61318, 6566, 22003, 69128, 49595, 73392, 53155, 9386, 1805, 74181, 19120, 53020, 13894, 49640, 58779, 58774, 39113, 69673, 57034, 74401, 10283, 37777, 68820, 23281, 67726, 59911, 47917, 35249, 13855, 29275, 23444, 26360, 64419, 48325, 62514, 34051, 30527, 72005, 3695, 44411, 23851, 33390, 18614, 72041, 27445, 36072, 42375, 35596, 13370, 70524, 59423, 61365, 31968, 37168, 28278, 63233, 61972, 27250, 8892, 69824, 58900, 16429, 23945, 37118, 9309, 71892, 16011, 54778, 73505, 36984, 1282, 374, 64731, 714, 32204, 14305, 51643, 31307, 67225, 41513, 35198, 8782, 2074, 48772, 6584, 38751, 55042, 53535, 36424, 30190, 20375, 52893, 73490, 69323, 40025, 46356, 29252, 43721, 20334, 16851, 52866, 17643, 67929, 45145, 75071, 17628, 20762, 2615, 54923, 17784, 16352, 49062, 61058, 25752, 9, 21779, 42389, 12443, 51550, 35446, 69599, 52008, 71146, 14032, 51406, 43505, 13795, 49631, 4342, 32060, 46844, 45595, 45833, 13382, 32588, 57157, 58520, 66222, 52670, 45580, 46946, 40191, 32050, 16279, 43675, 18664, 31468, 18309, 35014, 1099, 14308, 2276, 4270, 60763, 41549, 18825, 44094, 54664, 76017, 19597, 11457, 73522, 49464, 67347, 39889, 32496, 40840, 32237, 26910, 34060, 3302, 41608, 39039, 47571, 32382, 63460, 4155, 881, 30893, 34526, 49899, 56279, 74666, 59271, 2963, 50053, 31015, 50231, 54478, 73638, 40415, 999, 38005, 30245, 31392, 30867, 12759, 46869, 14537, 16338, 27568, 60650, 9926, 56280, 15776, 42873, 58614, 38408, 71897, 46169, 64155, 4993, 42287, 6383, 54544, 424, 4821, 8272, 22693, 21851, 71761, 19506, 22028, 75702, 62896, 20055, 48940, 56760, 24365, 9950, 3522, 21230, 51169, 35839, 36843, 33232, 52029, 47507, 38014, 55438, 23982, 45249, 45779, 14067, 17194, 52874, 63538, 73397, 17906, 54765, 42374, 5944, 30378, 62327, 6328, 60038, 38257, 62150, 12435, 10055, 31509, 54757, 30944, 26366, 31285, 31056, 46706, 9740, 17002, 7383, 6207, 6695, 11862, 9937, 36171, 51566, 22971, 56771, 49289, 33580, 25789, 31203, 48462, 52736, 25213, 4687, 8980, 51451, 58915, 64522, 31607, 32062, 1073, 12784, 31604, 46233, 27930, 46567, 60758, 1269, 13291, 25230, 22665, 5207, 35598, 10331, 74022, 72517, 68469, 36571, 72582, 11570, 13246, 28442, 18883, 60915, 66302, 7060, 49089, 37158, 38909, 72115, 59463, 21563, 2480, 59404, 21591, 19587, 13143, 6491, 44831, 33196, 22148, 40176, 69641, 28678, 33386, 14153, 16752, 40364, 31599, 63705, 65129, 7828, 48083, 24336, 70660, 28935, 30242, 51596, 995, 35450, 8066, 27410, 32785, 52072, 73337, 6592, 48560, 76028, 21209, 53657, 28884, 39996, 39231, 12421, 66323, 66986, 43390, 52338, 23638, 61766, 25819, 70234, 25219, 56837, 41175, 2986, 51231, 57018, 16528, 2295, 76154, 23471, 9858, 24587, 27552, 35808, 71672, 7251, 21744, 35433, 12857, 39632, 48545, 31262, 60227, 38149, 29985, 34123, 41530, 34733, 65644, 65931, 59414, 32768, 9004, 69838, 59134, 33863, 67811, 5219, 62380, 38565, 73520, 15024, 66134, 30854, 69580, 38501, 40759, 30861, 24772, 47836, 16179, 8827, 74321, 7816, 37779, 39718, 44596, 16530, 63908, 29346, 27973, 62433, 47932, 26248, 1022, 10793, 37882, 75782, 54591, 20960, 38980, 50223, 60712, 19852, 54163, 40375, 69092, 48216, 37733, 56388, 37816, 9941, 22731, 10694, 2818, 33915, 32790, 64574, 16054, 49132, 52089, 52032, 10685, 13373, 17498, 10497, 16235, 44665, 39441, 66279, 64190, 10016, 55731, 47979, 11685, 26962, 17407, 2054, 40167, 22285, 28163, 70845, 72447, 21619, 32096, 32183, 49804, 15987, 64217, 62026, 29898, 49502, 53777, 67823, 10333, 44048, 20238, 17680, 35887, 12112, 70901, 28431, 35261, 47615, 65262, 13461, 13928, 57364, 12720, 18763, 31346, 8645, 21090, 69057, 10279, 64063, 55406, 11514, 33972, 44627, 24108, 5330, 20839, 21543, 54160, 6684, 23710, 31949, 52297, 70005, 52156, 2127, 23744, 66098, 40040, 62982, 3428, 65538, 37452, 59334, 41443, 45512, 27637, 57602, 29008, 53446, 52467, 50592, 57859, 62216, 57460, 19490, 62356, 6179, 12360, 46369, 51184, 44807, 53060, 10992, 41787, 73915, 5406, 25607, 58363, 56406, 22880, 61188, 56677, 33333, 41568, 55110, 48635, 65940, 70947, 38947, 48313, 54244, 7500, 74372, 6261, 17844, 16527, 41687, 15562, 68911, 63124, 24945, 16749, 64072, 53382, 2584, 50524, 53355, 44837, 1325, 29262, 28831, 2897, 55210, 68361, 30364, 26004, 66698, 57724, 7972, 36943, 6998, 16702, 69720, 40797, 47071, 17199, 3800, 16677, 12108, 30994, 66289, 47118, 65124, 68808, 23850, 14588, 63925, 73061, 72296, 26787, 73585, 36502, 39897, 3576, 59083, 28147, 983, 30623, 55153, 55278, 40902, 36756, 15657, 52294, 8257, 15592, 57417, 43242, 25761, 62282, 55886, 37042, 10732, 50699, 25246, 4814, 15430, 9773, 36501, 42717, 24834, 38590, 9125, 18857, 23895, 11193, 32058, 67485, 30176, 35040, 51227, 59748, 38573, 19589, 6752, 6598, 23452, 74386, 72990, 28687, 51773, 14278, 25816, 21106, 19690, 28668, 58571, 29832, 30588, 8795, 38185, 40377, 72260, 6358, 3480, 14158, 25291, 7218, 57298, 20487, 62131, 64341, 25097, 75571, 8220, 42974, 74724, 14987, 35723, 4834, 22097, 7512, 70038, 13610, 73436, 59456, 41673, 58913, 19927, 5830, 27473, 10638, 35552, 49801, 50822, 3292, 60955, 59111, 34486, 16824, 38354, 37662, 14315, 17246, 52620, 26033, 38369, 61840, 1061, 12883, 72435, 69233, 71914, 46610, 63431, 68307, 17781, 53109, 27975, 20595, 53794, 9567, 6735, 62183, 60450, 43030, 18304, 40026, 1298, 21630, 44415, 22389, 75964, 31751, 59908, 57706, 52275, 9427, 52872, 2023, 43085, 72575, 24466, 10558, 35507, 11008, 35731, 16578, 21732, 10714, 43691, 9835, 200, 19377, 55445, 26763, 64113, 52802, 11827, 60201, 52718, 45655, 25692, 7551, 65552, 69994, 1523, 4784, 53359, 14094, 71847, 33123, 16636, 50763, 16720, 73016, 3429, 594, 8209, 40481, 75712, 74028, 19378, 13726, 63878, 62771, 19887, 70593, 28198, 14464, 60744, 49679, 66946, 29693, 74947, 22186, 54306, 60422, 47757, 57175, 64005, 73934, 34477, 22162, 57800, 48918, 29388, 7961, 12977, 67713, 14842, 32174, 15264, 46687, 53594, 21892, 71701, 30003, 15495, 58402, 36163, 59402, 5905, 16734, 32910, 36187, 60338, 4737, 36826, 52021, 59448, 16832, 56276, 61295, 69799, 14746, 8080, 70505, 35334, 35488, 16174, 33693, 8062, 71491, 13526, 24781, 14228, 58683, 60982, 51019, 63258, 15583, 39827, 49911, 41004, 32503, 65325, 57441, 41841, 47633, 35196, 10614, 29623, 39124, 69902, 14663, 7849, 72150, 16053, 7331, 12041, 59640, 48680, 44113, 14302, 75983, 37992, 44817, 23046, 62271, 29331, 45078, 75891, 45260, 28432, 17616, 58457, 342, 74584, 53961, 44027, 52617, 37743, 68666, 7762, 57588, 37555, 53061, 6483, 28358, 30501, 66530, 68776, 16902, 27756, 46866, 548, 53100, 939, 8239, 12745, 71928, 34727, 55259, 73476, 6788, 70993, 19222, 69106, 21178, 19830, 31077, 52434, 50115, 12752, 31328, 20747, 33246, 66114, 31230, 26685, 25979, 67008, 57093, 40541, 12321, 17324, 27734, 62422, 52042, 69205, 57162, 12681, 20632, 61292, 57050, 24995, 34478, 67841, 65187, 53662, 27302, 72457, 72464, 63619, 30534, 7247, 45803, 5046, 33010, 17138, 20929, 46726, 70095, 30189, 1367, 69347, 21275, 71124, 74926, 64701, 5067, 8850, 29589, 67301, 61569, 52637, 23249, 73287, 11059, 71195, 69230, 57594, 65450, 59348, 44101, 55272, 6870, 48986, 12661, 40216, 4022, 64270, 18606, 39655, 26166, 54372, 75543, 17899, 74796, 17234, 62717, 72012, 29840, 4760, 20990, 73605, 68538, 72738, 4309, 52565, 17588, 27088, 9414, 1593, 63854, 23248, 16131, 34204, 61583, 26406, 30794, 5693, 24916, 26941, 595, 2195, 3777, 33910, 41401, 488, 14857, 135, 12084, 69775, 65253, 5936, 40717, 32544, 62244, 13581, 53508, 48966, 35897, 1847, 66581, 13865, 3320, 37024, 24319, 66577, 32040, 71480, 60045, 64526, 68465, 38606, 21349, 25122, 50412, 32687, 65911, 55324, 19469, 72871, 72410, 61692, 42240, 24041, 44610, 67317, 13138, 45607, 21702, 25341, 53688, 2673, 75451, 39134, 8249, 34796, 8833, 37849, 41238, 13226, 35637, 71824, 56055, 14068, 34602, 42964, 1406, 11715, 62827, 22512, 68343, 48975, 10619, 54151, 6562, 9628, 52092, 68569, 42615, 23101, 67369, 32742, 14111, 33686, 35713, 11560, 59917, 62358, 50903, 57647, 36772, 18413, 10822, 49224, 57557, 20455, 42092, 23194, 61413, 7781, 73354, 37803, 15483, 24567, 62881, 4646, 54791, 44347, 19522, 31988, 39688, 62464, 22418, 37327, 68036, 57272, 7698, 884, 73632, 65101, 5865, 41635, 60594, 32671, 18365, 14655, 13557, 65588, 73999, 63849, 48089, 49025, 65288, 49728, 66233, 13109, 47994, 53932, 49943, 74590, 43641, 63829, 52472, 70309, 9520, 66156, 15869, 26900, 9068, 21419, 46367, 42003, 36335, 49853, 53007, 52433, 7368, 20091, 31913, 11477, 36047, 32473, 11768, 57765, 7259, 50152, 67082, 24776, 57289, 18764, 6557, 17954, 41949, 41683, 75145, 75272, 17229, 19786, 71872, 54584, 12870, 10679, 11167, 3701, 41724, 64413, 44997, 15187, 31148, 24262, 71504, 60217, 5859, 58745, 47386, 58362, 21018, 11028, 20183, 41036, 14258, 25249, 58820, 63346, 57389, 18072, 74744, 44567, 71485, 17293, 52771, 32938, 35995, 58056, 66814, 69403, 75806, 3415, 16244, 5371, 58552, 47138, 27936, 35905, 25021, 25531, 7432, 35441, 39062, 75041, 5085, 10817, 26577, 72790, 46024, 35728, 39502, 54076, 29588, 51723, 12467, 2273, 73331, 2347, 66002, 74461, 53392, 64255, 20135, 55439, 15780, 39175, 11843, 42114, 62552, 14878, 1080, 38140, 24279, 55921, 25189, 50204, 75285, 32014, 13835, 28469, 35354, 58524, 44827, 47477, 47889, 13654, 50061, 51287, 38591, 2722, 62508, 33494, 63683, 48388, 36564, 61982, 56820, 73899, 50997, 31369, 61287, 26249, 2400, 19400, 67171, 1057, 67850, 68641, 20029, 13362, 28026, 60840, 43017, 17320, 47388, 6182, 57948, 25543, 25867, 28692, 7085, 36509, 37093, 62276, 65959, 16729, 4339, 45334, 19261, 70701, 13715, 33445, 63850, 70099, 73806, 30491, 50290, 53339, 4452, 14674, 9042, 7007, 23160, 51016, 19856, 66141, 65314, 20874, 8324, 27078, 71055, 50620, 8776, 73919, 56490, 21238, 5858, 27271, 22659, 62569, 25635, 4957, 63278, 46692, 32818, 23864, 44306, 42441, 58749, 53274, 48789, 3211, 69628, 11588, 42844, 20740, 38176, 771, 54569, 7943, 35212, 55463, 24195, 23667, 61603, 67497, 56714, 34977, 71425, 49086, 24907, 15434, 19891, 62253, 24257, 64371, 8728, 70485, 64873, 1205, 13930, 38036, 60588, 6520, 56734, 23264, 27449, 54665, 7322, 75440, 8318, 492, 37347, 52805, 16926, 60785, 51611, 18717, 9804, 40197, 45684, 17334, 30415, 20247, 12155, 54352, 54600, 43976, 18601, 37933, 31742, 12022, 47211, 18812, 23458, 2253, 61816, 59209, 47245, 48919, 40291, 11105, 53201, 48667, 1688, 21439, 37792, 37852, 7014, 47746, 37619, 29865, 70265, 12995, 66429, 7149, 2208, 54734, 23034, 7736, 50301, 72762, 65430, 50828, 21993, 58945, 5235, 42952, 74592, 32602, 74013, 52255, 29345, 25020, 56081, 11723, 34564, 7525, 3010, 37676, 35214, 42033, 35557, 42771, 9059, 21659, 55061, 48974, 50624, 1527, 35030, 57838, 18515, 14472, 34413, 30380, 15172, 68908, 15528, 29189, 7561, 47045, 64237, 62256, 15421, 40430, 64216, 48724, 75448, 30209, 10177, 60057, 27998, 30475, 66560, 8992, 4525, 20541, 74227, 73264, 34709, 1239, 13798, 31539, 72364, 71102, 74664, 1806, 17787, 40413, 47800, 22473, 5426, 50947, 73047, 3705, 51276, 6605, 56051, 14544, 3691, 35588, 73219, 61745, 71363, 33828, 2408, 50384, 67336, 38600, 26324, 12582, 27070, 13239, 38748, 53242, 22303, 13595, 29106, 16456, 35149, 36915, 16137, 8920, 66783, 58122, 61776, 30556, 67339, 54460, 50042, 27507, 19092, 18296, 21663, 67110, 38018, 16770, 72426, 30439, 6320, 9899, 29910, 26227, 11202, 27371, 21936, 40816, 41943, 5895, 45049, 37193, 24269, 67185, 22190, 6806, 69600, 59708, 4026, 54405, 52347, 11598, 14246, 21305, 44789, 24014, 47469, 63110, 76345, 45016, 5349, 69778, 63552, 13390, 69149, 54838, 45234, 1547, 5782, 33788, 34325, 62036, 38861, 21906, 8086, 17470, 63836, 677, 32355, 67509, 29036, 67486, 35652, 32865, 46086, 54445, 61201, 23970, 58149, 43245, 25106, 5548, 67200, 6059, 72054, 59022, 19753, 64455, 15571, 68683, 26083, 58220, 72818, 4028, 16398, 61608, 50591, 543, 14055, 2970, 46889, 30073, 53832, 43464, 68722, 37415, 30283, 49873, 29336, 36581, 11897, 24379, 13444, 3717, 61932, 10330, 36240, 67878, 42300, 56020, 15905, 24389, 38663, 51544, 36664, 47415, 40730, 5837, 31433, 12704, 51351, 12985, 32169, 60454, 74964, 54950, 52583, 27590, 54576, 54245, 22858, 33666, 76103, 56623, 63663, 30122, 63825, 13426, 34101, 74609, 15118, 14380, 27816, 56961, 22674, 52562, 1524, 50654, 26986, 0, 68912, 58059, 56194, 43213, 60830, 36148, 29489, 27248, 36045, 7026, 1605, 22278, 11180, 13401, 271, 59210, 31270, 43229, 50596, 36668, 40215, 21506, 7211, 36356, 45605, 37289, 59537, 46038, 72398, 66838, 41189, 75509, 35232, 9433, 20424, 19819, 33081, 64471, 745, 60358, 34998, 35906, 33813, 5306, 49473, 70429, 3330, 69638, 59642, 48018, 40130, 3597, 42523, 5577, 33779, 26272, 64109, 54312, 42969, 61426, 8020, 51933, 15235, 35516, 30958, 3882, 27283, 12864, 42031, 66475, 70986, 54853, 57938, 35383, 28620, 50504, 51479, 27868, 20948, 52814, 59023, 57621, 30344, 22573, 59792, 6122, 17522, 13280, 53224, 40970, 47778, 72034, 72082, 7104, 4397, 10925, 6882, 58957, 43511, 18553, 30231, 3410, 41968, 22465, 23342, 14971, 65884, 76052, 43350, 29422, 6855, 56512, 55550, 1016, 20342, 11450, 24043, 36465, 72940, 41912, 8465, 32505, 6373, 70398, 69698, 53828, 3007, 10670, 34957, 68927, 32978, 20306, 20480, 15879, 73062, 8284, 5657, 70676, 67180, 35823, 12750, 62097, 21915, 66099, 42922, 50076, 20013, 19188, 26291, 34435, 72033, 32550, 65713, 6974, 5292, 17397, 36290, 75488, 29573, 63094, 73208, 9473, 41933, 44996, 12613, 74995, 23687, 22221, 30167, 19942, 33902, 10282, 65601, 58406, 20286, 34714, 5977, 42458, 24423, 35702, 3517, 52544, 8457, 57125, 46043, 2695, 3386, 39471, 28184, 15068, 49050, 13101, 67165, 7570, 72140, 45863, 28825, 37799, 46792, 32578, 66994, 45666, 20269, 8937, 43015, 75348, 56201, 60865, 60011, 22976, 72870, 75439, 13667, 56091, 37908, 28134, 58663, 56362, 75538, 73477, 23862, 71039, 20884, 56208, 45922, 5724, 39405, 18862, 67851, 52260, 18117, 21832, 64569, 73681, 65731, 76254, 24248, 68962, 35798, 69260, 55706, 43635, 49855, 71972, 31280, 1590, 1539, 55202, 2336, 62565, 7381, 68870, 45679, 22534, 62985, 15608, 69603, 44480, 41289, 44709, 42493, 72095, 9065, 26965, 4362, 58135, 32981, 10895, 2538, 13208, 10652, 58113, 72561, 43756, 9147, 55378, 34481, 8885, 16254, 2136, 44164, 75391, 42853, 9137, 43596, 39313, 13274, 30991, 11121, 44106, 1103, 64672, 895, 48434, 4138, 26632, 50332, 36048, 41726, 25326, 32393, 47544, 61646, 64422, 58761, 49652, 47199, 49219, 73666, 20125, 47704, 55961, 75887, 51018, 65494, 23808, 32343, 38485, 5153, 10748, 18241, 62283, 53563, 50916, 34936, 13982, 63371, 51446, 36479, 16856, 6142, 21438, 16492, 17693, 6969, 44102, 18291, 16069, 22488, 1991, 3524, 64457, 63163, 30253, 70860, 48192, 44529, 75424, 28516, 46918, 67672, 73504, 69231, 26923, 71006, 55087, 34812, 65074, 8951, 72657, 14866, 64797, 17261, 15441, 29863, 66828, 6489, 19454, 7200, 63150, 20488, 48154, 1649, 32206, 21364, 67105, 39395, 56089, 12143, 5966, 54545, 19096, 43573, 41355, 75803, 49906, 48934, 43646, 12382, 37398, 16268, 34530, 42669, 55308, 72880, 71792, 70392, 28021, 355, 24039, 53680, 24771, 47349, 25289, 40299, 55364, 16430, 10478, 12046, 70360, 33517, 47599, 67905, 12277, 4735, 28941, 35578, 24695, 2389, 25196, 31936, 62311, 46709, 124, 3842, 41751, 39114, 13061, 11835, 72621, 11261, 3863, 57395, 60220, 51498, 56188, 73905, 75744, 73415, 4437, 1165, 15303, 41824, 37621, 72282, 23935, 275, 68535, 46664, 35654, 61001, 74857, 71487, 5227, 22678, 24245, 8412, 19379, 18838, 75514, 55309, 72587, 36663, 36131, 52956, 39004, 64149, 46218, 40213, 38283, 12908, 2988, 63361, 33167, 16465, 63557, 65847, 44762, 39250, 3018, 36981, 8296, 6219, 67932, 21912, 5465, 65233, 51235, 57962, 45358, 23488, 75612, 21930, 75459, 47542, 40799, 33129, 5351, 25891, 47401, 74245, 50382, 14831, 46152, 45171, 57404, 74347, 44196, 51838, 5233, 51442, 59262, 61556, 73176, 28719, 48979, 60424, 37644, 3950, 57083, 43754, 18525, 40665, 16303, 59397, 59794, 52302, 12176, 307, 16010, 72907, 15975, 11968, 46101, 54366, 65735, 10709, 10643, 69661, 58596, 44481, 69375, 10468, 45154, 58604, 6545, 24303, 45676, 2134, 27391, 22032, 75008, 3411, 971, 20646, 71848, 59069, 61449, 19093, 25924, 68952, 32617, 43168, 24715, 74706, 51303, 39792, 21596, 878, 54202, 47468, 61574, 31425, 63972, 73549, 23602, 5541, 38764, 39305, 56933, 7123, 21853, 55404, 53745, 47315, 5350, 38413, 58633, 16865, 62210, 66293, 56187, 74312, 24511, 12801, 18115, 25061, 69098, 16664, 46216, 14856, 60552, 23290, 37903, 71458, 41552, 71782, 39637, 27140, 28845, 75196, 76279, 55610, 30684, 38970, 21607, 63257, 52331, 61871, 65723, 23865, 48336, 69005, 42767, 43051, 26412, 64691, 54879, 48670, 17629, 58559, 43074, 21208, 62156, 32882, 74440, 27768, 10087, 57540, 29830, 33146, 27678, 46400, 30969, 27560, 47099, 15997, 71112, 36316, 48812, 70851, 52691, 62727, 17766, 32391, 36821, 3551, 21189, 40595, 30140, 21317, 37999, 49537, 34301, 34038, 34174, 53337, 7874, 67192, 3138, 68473, 34683, 37351, 54109, 35811, 31474, 36652, 35108, 16772, 56655, 17904, 35422, 7441, 29879, 49585, 31723, 56805, 41851, 18408, 62112, 66612, 48891, 30977, 57179, 55925, 65655, 63335, 45472, 33576, 25995, 53788, 41502, 27806, 48303, 56722, 37507, 554, 73310, 35044, 35540, 28108, 14296, 25925, 57921, 65585, 70508, 24122, 22376, 47337, 61827, 58058, 1285, 70832, 47556, 56547, 58734, 8039, 38059, 31092, 40658, 64346, 10871, 64423, 20118, 39756, 54003, 37493, 13448, 75999, 13996, 26370, 19605, 23027, 32609, 34671, 23478, 61767, 23839, 59045, 37397, 11095, 14420, 42888, 32082, 35508, 29599, 4472, 70982, 44704, 28187, 71621, 72184, 68202, 50217, 34095, 50206, 14070, 17094, 34090, 25991, 52545, 64699, 29797, 8579, 42699, 44246, 56088, 1376, 68626, 44702, 58607, 15323, 49710, 22176, 13674, 36680, 26916, 54145, 12622, 55589, 59485, 30264, 46000, 14259, 42783, 67361, 14814, 11842, 15725, 7839, 11112, 69104, 64633, 39574, 16590, 66374, 9464, 10354, 19128, 24645, 54452, 20117, 45063, 1341, 39259, 932, 23348, 8614, 71772, 14874, 53618, 24381, 60966, 27399, 56018, 41037, 51174, 33801, 32956, 51144, 32007, 20078, 29207, 71658, 69514, 70979, 49203, 75149, 71091, 37321, 54167, 31796, 15602, 76086, 45471, 37846, 765, 28715, 30172, 41157, 22838, 1344, 38390, 6858, 46531, 35069, 38944, 29296, 57963, 15934, 49002, 33180, 55892, 47042, 3012, 55924, 27138, 43368, 72225, 23006, 50543, 28398, 46310, 53627, 70269, 37295, 29375, 24665, 25812, 18607, 10703, 66101, 11527, 66135, 38290, 72129, 33534, 38919, 67663, 36394, 72688, 24579, 40039, 57788, 29419, 12132, 55430, 62663, 54501, 54504, 40016, 62556, 71186, 30107, 65087, 60016, 34049, 49117, 45436, 24799, 67246, 73218, 41344, 2234, 30645, 32828, 11328, 41116, 38359, 45525, 43886, 12422, 43801, 26837, 49437, 48876, 47929, 43364, 26642, 11369, 49070, 22156, 282, 8836, 27955, 57652, 34268, 35861, 10079, 73588, 53626, 45585, 22230, 30047, 10336, 14533, 4336, 72986, 67691, 76058, 68628, 20374, 39658, 60051, 42025, 38155, 71190, 31934, 32858, 39722, 33955, 49357, 18050, 40380, 72211, 52793, 17942, 13522, 66245, 32654, 13057, 19945, 48726, 6080, 70699, 31711, 5114, 53573, 27719, 47377, 42208, 4780, 16325, 15429, 50497, 44098, 45043, 312, 20945, 66092, 10125, 75214, 52668, 28003, 17109, 870, 67172, 12331, 55132, 20830, 63875, 49504, 60356, 51557, 5519, 64976, 70991, 6764, 19985, 73164, 18833, 69152, 51646, 5607, 66398, 49406, 61170, 11601, 53317, 16340, 39723, 60556, 53521, 57073, 21783, 32692, 15086, 75819, 66495, 75773, 35842, 38585, 37247, 68094, 3659, 65319, 40548, 57136, 54651, 58014, 61981, 63722, 4451, 44086, 20494, 21170, 7297, 24601, 46547, 27158, 39969, 74120, 11762, 62938, 66263, 55977, 69467, 41076, 40641, 26553, 2108, 5583, 61152, 67948, 31080, 60457, 2501, 47574, 65983, 50989, 28553, 16871, 41412, 48220, 23336, 1977, 6665, 36016, 14038, 60474, 38023, 13561, 43319, 6019, 73096, 15455, 51055, 75003, 73769, 32994, 36748, 55221, 2783, 48534, 25112, 64375, 20843, 18672, 49319, 75992, 20623, 73358, 34706, 65536, 28770, 17155, 65738, 47362, 55140, 49023, 52560, 22795, 76250, 10098, 27097, 56710, 62116, 8103, 69669, 31627, 56777, 73100, 58138, 55116, 17910, 10204, 13166, 13139, 1515, 35776, 48352, 49127, 12124, 69276, 26542, 16271, 25459, 31981, 21952, 56302, 63603, 31396, 59357, 7011, 7, 74705, 75244, 2080, 26997, 43107, 69653, 47149, 36542, 31555, 9728, 64097, 1394, 18351, 23678, 16502, 29888, 35657, 10446, 2591, 29605, 65823, 35671, 11906, 31935, 65426, 65843, 7070, 47644, 33131, 25036, 57715, 60049, 69308, 12992, 19844, 69392, 49570, 34507, 35694, 59243, 9990, 13502, 51914, 17618, 61355, 36320, 74413, 26793, 58375, 55794, 26402, 71888, 43938, 33169, 18632, 55078, 15527, 75414, 44070, 76145, 18018, 51760, 30862, 33690, 66966, 74377, 47570, 75230, 41649, 59472, 57154, 30160, 69368, 2212, 60517, 27844, 6601, 34563, 17472, 62045, 54057, 27710, 56082, 74493, 27150, 53799, 5262, 26607, 26504, 62387, 14740, 34547, 6076, 44757, 1895, 38542, 65203, 57492, 48557, 21411, 49510, 70011, 43084, 28990, 5893, 50977, 61746, 34158, 66903, 54970, 41492, 36441, 34160, 909, 55820, 67561, 15125, 33231, 7979, 47534, 19851, 17883, 74908, 40407, 2110, 24443, 43585, 43795, 52608, 42124, 72586, 75614, 55987, 74737, 69135, 27967, 50704, 23826, 21241, 2546, 15541, 49612, 63885, 26612, 12227, 24143, 55888, 4528, 7341, 73417, 12921, 66523, 8783, 52708, 12154, 65924, 9099, 32493, 11686, 58589, 23801, 49151, 67613, 6681, 53422, 3398, 62666, 13606, 15103, 70208, 19443, 59835, 39807, 19571, 49396, 28767, 67353, 69238, 9692, 20803, 20209, 6512, 9914, 18281, 43118, 19049, 5197, 15875, 44735, 2209, 27281, 26339, 17984, 8677, 26737, 26480, 33079, 50298, 17561, 73652, 35510, 74941, 49334, 61079, 18693, 25790, 73387, 48691, 13147, 66727, 34454, 25830, 11475, 6747, 5634, 4220, 32875, 42154, 21276, 29409, 46339, 3332, 69849, 70469, 38720, 7230, 7855, 57987, 64550, 6861, 39838, 15448, 36795, 65571, 15226, 58969, 5333, 53226, 29492, 19925, 26586, 25608, 60654, 3650, 17621, 24239, 50327, 72022, 67771, 17582, 17620, 14408, 29263, 7557, 51577, 29526, 27819, 4613, 6654, 16446, 70379, 59061, 19815, 7471, 4213, 685, 7473, 48177, 39910, 49306, 3985, 54334, 42514, 13021, 44671, 21351, 67258, 16848, 19429, 5773, 69758, 60409, 20144, 19039, 57079, 66694, 5521, 40131, 7138, 56562, 17640, 51573, 54588, 52682, 29209, 65184, 1328, 23262, 57701, 45192, 66852, 6874, 57104, 26299, 4632, 59248, 3959, 65202, 67526, 41555, 8443, 75952, 1410, 63720, 50413, 5286, 71911, 1386, 49338, 41248, 44586, 37605, 46517, 55271, 39340, 64082, 66544, 820, 6378, 38710, 10873, 57744, 4197, 33791, 33621, 19696, 38492, 39221, 35193, 2952, 30362, 48477, 13483, 14076, 34155, 47127, 72439, 33521, 65025, 7656, 62844, 65798, 60110, 74611, 5851, 65770, 47854, 58906, 6008, 51344, 30041, 19371, 42641, 3876, 63078, 45028, 74068, 48102, 19133, 47107, 54959, 26835, 18948, 33922, 44810, 19874, 50091, 71825, 38686, 54551, 7613, 25950, 73228, 23334, 67629, 33186, 45490, 34140, 68496, 56796, 911, 46071, 40784, 3402, 3305, 60977, 74711, 5444, 17399, 5768, 8743, 2674, 42598, 23220, 1460, 57084, 40071, 4885, 33367, 42065, 73881, 10044, 56604, 12798, 7962, 18511, 30188, 59729, 2066, 75191, 12067, 72733, 18102, 66341, 6377, 56394, 45125, 24866, 20663, 1546, 5045, 66104, 65170, 22887, 41902, 33143, 49010, 55335, 67007, 65990, 3024, 64359, 53296, 51578, 11696, 68511, 49690, 55239, 41917, 45211, 57771, 46362, 66582, 65844, 58529, 44902, 54200, 1721, 29315, 12889, 45483, 50447, 13847, 70803, 12294, 6755, 42181, 71809, 55196, 28413, 18835, 2704, 71105, 40819, 17559, 54503, 6021, 29970, 36669, 54275, 19011, 23350, 25844, 8852, 9949, 74008, 60096, 9014, 56855, 33993, 6567, 50950, 28898, 55258, 62939, 20156, 38860, 39011, 16252, 27477, 2406, 37914, 61052, 14828, 72000, 4222, 14327, 69822, 9403, 36193, 53427, 32152, 34636, 33441, 14264, 15364, 60969, 62819, 13380, 50659, 44237, 45923, 36109, 62024, 22765, 23, 14467, 21357, 69292, 72827, 45788, 58326, 9857, 16667, 13898, 23390, 30037, 69864, 4427, 12023, 31085, 24635, 12433, 10796, 61956, 40712, 783, 18512, 12663, 27605, 63224, 66540, 68822, 57032, 3241, 30194, 60787, 33216, 19207, 65506, 49347, 45823, 48805, 56008, 34416, 25449, 39598, 18076, 14043, 2777, 6317, 2957, 6609, 23065, 72088, 28111, 38899, 48428, 73819, 50060, 50055, 59391, 67032, 63463, 69594, 68735, 75812, 39367, 64984, 28121, 26127, 60003, 61352, 32894, 53754, 43407, 24063, 28377, 64772, 36310, 22500, 69131, 10258, 11254, 54114, 8165, 70958, 72775, 66007, 38502, 35964, 49997, 71447, 25084, 5650, 46568, 65516, 62427, 21833, 28202, 71172, 41081, 18093, 51764, 47253, 39246, 59025, 47898, 39093, 47706, 57820, 74362, 40582, 13789, 75960, 10770, 57232, 634, 35958, 26749, 66441, 22267, 41428, 58634, 26726, 47032, 27417, 25806, 36462, 9577, 57840, 47552, 62312, 7543, 70023, 33114, 65962, 29314, 35381, 45097, 31066, 45466, 48666, 16316, 5520, 16281, 56278, 54917, 60615, 23429, 17056, 26334, 39712, 3569, 43694, 35926, 14604, 30928, 739, 9789, 46316, 51339, 59399, 10443, 4086, 52804, 48182, 41587, 18187, 44797, 65589, 42665, 28703, 37879, 21400, 16706, 3061, 19955, 55028, 32819, 62851, 56902, 65422, 18523, 67311, 74827, 4579, 52751, 48039, 33600, 839, 39584, 30739, 19306, 69545, 36902, 49100, 28164, 41034, 38432, 74516, 68689, 4333, 42692, 15130, 49769, 27902, 75584, 35841, 7380, 61103, 73995, 31566, 5953, 28931, 16473, 38478, 59809, 18082, 2631, 44739, 67280, 7234, 21570, 45688, 71452, 8856, 74109, 4856, 50334, 8306, 65727, 33642, 41785, 47041, 26751, 23179, 4097, 3337, 21307, 56260, 47627, 73282, 11221, 59527, 49520, 33219, 70800, 22903, 18196, 19825, 63766, 62836, 66528, 16988, 15734, 69504, 42982, 73566, 72766, 60351, 56507, 24422, 71106, 70433, 40441, 40434, 5289, 14092, 16238, 45955, 14105, 10720, 5937, 20469, 31912, 53855, 63877, 50570, 19215, 39836, 18119, 18030, 42051, 65192, 5892, 45539, 552, 26547, 71028, 63049, 45698, 30931, 74311, 49109, 24797, 73294, 64695, 35793, 68700, 5336, 23936, 28982, 75645, 66984, 27770, 22222, 21997, 48528, 2916, 52316, 37607, 28558, 29186, 28453, 59609, 3733, 61266, 8410, 44321, 63115, 37664, 52884, 52715, 49277, 39972, 71342, 46666, 49813, 64932, 28939, 56106, 52601, 9892, 52070, 27487, 54289, 60964, 28774, 25573, 23867, 68235, 28734, 74441, 8235, 49303, 72253, 58281, 25238, 25045, 577, 55003, 25549, 13295, 22953, 34484, 27168, 14009, 66257, 9069, 38280, 30954, 74070, 16548, 69693, 70086, 19908, 57810, 54323, 66923, 60167, 49993, 21166, 23494, 41387, 36964, 52677, 9974, 24960, 60668, 42478, 47069, 26906, 72017, 42931, 30981, 39623, 6199, 4657, 43634, 47186, 49641, 42778, 49378, 165, 23135, 51995, 28212, 63188, 29506, 4013, 30016, 20297, 37515, 60708, 40068, 47375, 16075, 39781, 25892, 33032, 25172, 11687, 62165, 47478, 17108, 48639, 59676, 291, 40385, 55130, 31355, 14678, 55601, 37754, 28462, 67532, 45034, 17917, 35795, 62573, 73303, 21403, 51384, 26782, 76127, 65849, 12431, 4907, 70232, 23351, 20867, 43079, 2867, 75851, 58642, 76325, 12743, 6077, 61562, 42180, 15547, 32586, 11665, 64771, 73682, 9909, 70723, 42442, 63728, 47568, 57155, 15518, 67583, 68419, 55457, 4224, 65820, 42443, 37282, 62067, 49942, 69024, 41800, 5753, 21700, 46895, 25569, 29697, 70700, 64602, 66538, 18558, 38119, 1812, 18415, 64670, 68003, 64046, 4731, 60081, 56839, 68022, 63718, 48031, 22894, 32625, 66925, 33411, 13642, 13615, 48780, 31993, 9957, 39553, 20060, 8709, 61356, 41704, 60135, 268, 28318, 60673, 57094, 59841, 54942, 27715, 56242, 53253, 54719, 36106, 22551, 13577, 656, 9642, 48873, 72612, 8657, 36323, 27512, 40134, 17501, 22144, 60880, 25079, 37046, 31868, 58191, 17008, 16243, 42404, 17413, 31221, 64029, 44659, 74719, 57641, 11654, 12453, 41009, 9663, 23110, 74079, 65668, 35273, 75749, 39256, 28956, 57176, 1553, 72368, 71583, 46469, 73564, 4515, 44491, 70283, 61453, 48432, 29332, 56605, 4180, 5048, 21041, 26185, 50160, 29379, 54538, 35879, 69978, 38810, 47169, 68678, 29067, 4177, 67746, 56748, 55812, 30134, 26559, 1634, 22258, 31485, 31206, 16367, 65758, 68113, 2983, 49823, 52349, 4190, 71587, 13977, 32673, 11640, 68941, 49055, 30342, 23402, 2571, 74138, 10880, 63476, 20299, 75735, 18373, 53752, 54292, 63856, 72635, 22839, 66978, 53651, 28180, 74628, 1955, 74189, 56504, 72728, 59462, 12683, 66511, 57613, 39819, 31074, 47654, 22272, 71122, 38509, 27274, 53973, 14147, 26816, 27434, 43626, 62102, 52066, 36834, 74999, 30062, 56258, 54022, 9537, 25935, 30085, 7586, 52661, 20464, 56643, 67552, 73877, 66869, 11517, 32816, 28001, 30498, 36243, 70314, 54192, 71018, 38529, 8187, 46221, 29952, 10782, 46888, 51537, 52853, 46205, 52675, 64058, 52699, 65715, 29962, 7091, 63388, 76268, 10882, 58248, 11544, 1678, 31518, 48129, 20772, 23579, 30776, 28312, 27347, 1330, 40282, 10513, 65775, 23093, 66527, 11994, 1004, 31214, 38760, 17536, 11239, 53381, 1259, 12107, 39775, 28412, 40013, 14133, 59864, 19931, 16928, 26857, 74388, 69981, 38222, 3135, 20263, 37005, 24243, 12, 59340, 46199, 46592, 30473, 27163, 70239, 72167, 33512, 61199, 21388, 70653, 60745, 20343, 27965, 73848, 67167, 67727, 37790, 63698, 16927, 68183, 25430, 67468, 53983, 71220, 7423, 24408, 1528, 47446, 10968, 29156, 201, 2753, 9900, 31393, 5334, 73002, 75707, 37445, 7363, 54169, 69042, 17557, 26921, 14743, 811, 4824, 38685, 76043, 63968, 21336, 61907, 19294, 48153, 33238, 7305, 73964, 59345, 57966, 26145, 1044, 31559, 30306, 37557, 52340, 15874, 14844, 67508, 40748, 54483, 24114, 5929, 26284, 68349, 8741, 66996, 69519, 43755, 53802, 48064, 61787, 74981, 68289, 47060, 49115, 32404, 45746, 25470, 30043, 14708, 55545, 143, 68611, 56852, 187, 38772, 23534, 47827, 55265, 20964, 25716, 27879, 75464, 64390, 28115, 38711, 61537, 39646, 16680, 43653, 60825, 21696, 29190, 45440, 1986, 60737, 433, 23267, 11488, 73918, 26958, 31855, 2200, 28910, 17682, 45858, 47251, 64206, 42133, 75225, 12101, 62113, 34221, 13048, 45394, 44674, 56719, 17738, 605, 49770, 37647, 2906, 14192, 32074, 63050, 23616, 12818, 11712, 8441, 23154, 48813, 74497, 6246, 14205, 71564, 38463, 58213, 19340, 54262, 60920, 63680, 49318, 44274, 64991, 55705, 37900, 71981, 52325, 68119, 50680, 13047, 92, 46527, 9416, 66571, 22201, 58015, 39463, 64398, 49613, 37030, 74064, 75706, 36478, 63602, 59458, 5925, 30820, 22069, 67747, 59005, 1352, 41064, 56002, 12640, 53621, 36665, 34175, 62799, 41280, 1215, 47358, 7152, 70823, 56290, 67004, 52189, 26312, 67673, 36412, 53960, 1374, 24242, 15630, 10048, 2974, 65550, 25023, 26523, 60693, 60902, 34645, 22134, 51610, 60301, 17079, 40552, 10390, 56340, 26836, 53541, 17704, 29788, 7626, 21841, 13171, 62588, 68967, 25307, 19417, 38636, 14993, 66653, 3595, 65252, 69532, 49581, 12545, 76186, 27092, 18418, 23104, 38319, 35190, 76029, 73342, 57245, 28603, 51209, 60793, 68621, 8245, 18166, 62740, 50748, 58990, 61162, 14737, 39670, 20481, 9912, 49753, 49611, 20071, 32685, 25597, 14781, 50197, 58641, 42932, 67404, 22773, 20103, 35041, 5245, 6529, 21917, 36706, 48185, 31345, 9606, 59898, 49828, 62125, 9428, 63338, 49767, 1024, 28037, 48628, 39667, 58123, 69171, 1459, 51125, 76067, 6277, 25967, 20573, 45293, 8164, 20984, 65880, 72053, 45030, 26025, 14792, 58232, 23190, 49465, 25788, 5275, 63913, 51632, 14566, 39560, 68867, 55159, 33126, 66721, 34928, 66731, 16307, 68506, 28217, 4569, 53673, 9521, 2445, 36365, 16295, 24250, 12221, 52890, 73077, 2725, 57225, 6711, 54155, 16095, 53711, 66971, 3471, 64957, 68615, 9595, 43953, 5818, 14285, 21310, 73560, 41524, 40074, 29638, 61423, 17748, 502, 630, 8946, 40325, 58991, 65835, 69114, 32334, 22842, 38027, 60020, 60368, 39276, 41659, 46067, 40276, 4924, 54610, 40800, 53507, 75776, 69102, 66071, 36401, 4191, 27279, 3289, 43320, 76243, 8327, 41656, 55251, 28590, 25659, 21030, 75491, 5612, 75524, 15912, 15801, 51881, 54919, 1088, 51585, 3581, 23898, 9716, 71360, 32601, 5378, 51485, 10937, 43076, 20391, 28704, 61849, 48037, 71730, 65166, 46368, 19394, 7741, 28142, 20133, 33080, 6116, 74672, 11187, 6704, 54304, 46338, 15696, 45672, 31525, 65916, 66636, 56707, 8717, 39743, 7110, 62603, 1752, 75721, 23328, 69614, 73201, 42069, 6693, 39069, 15511, 66164, 4949, 36497, 54440, 32271, 31031, 41126, 8223, 17773, 54374, 3358, 19110, 70988, 69217, 16370, 15967, 61635, 1581, 30845, 72185, 41206, 42027, 14677, 34905, 41224, 56632, 9442, 68011, 43238, 27387, 37379, 50617, 16737, 4923, 59616, 53030, 57812, 23877, 70629, 41434, 71335, 20659, 16908, 46105, 5398, 68158, 446, 33706, 43849, 75108, 68865, 58494, 16160, 72424, 30811, 33225, 1299, 48681, 15513, 68155, 45500, 49558, 18317, 24823, 73010, 24655, 43125, 75271, 54358, 75023, 31964, 28728, 57011, 28064, 47027, 14325, 18095, 64553, 57583, 66913, 41006, 45570, 42278, 17953, 73268, 19846, 51350, 72786, 40513, 8545, 30892, 28276, 28756, 58042, 64511, 30289, 68645, 49424, 39047, 45438, 32181, 54858, 5296, 26364, 5327, 61013, 53231, 71482, 28194, 40230, 42897, 27665, 23230, 62547, 63534, 15353, 6729, 14776, 18310, 57844, 11813, 37239, 10560, 22243, 16603, 17778, 52722, 27243, 46614, 50801, 5410, 42415, 58137, 5675, 51836, 71532, 38815, 76249, 64107, 14789, 23460, 42283, 11044, 67665, 16999, 16339, 64999, 13525, 22575, 61751, 50208, 76163, 33683, 13823, 41281, 69636, 30448, 20919, 12949, 47402, 75660, 43423, 15040, 1807, 51897, 12673, 12066, 25513, 37413, 72702, 24675, 41833, 64541, 13620, 41776, 46716, 65854, 60801, 69361, 31931, 59004, 33574, 42288, 57423, 16332, 51556, 57806, 9680, 58226, 33107, 19975, 12166, 24496, 14245, 57259, 71703, 21980, 23393, 74426, 13372, 49262, 72969, 66311, 61883, 28019, 44388, 73327, 38797, 41052, 18394, 37858, 15821, 69262, 75625, 52452, 5402, 41185, 51359, 60173, 41370, 70408, 28700, 40796, 875, 66888, 72793, 24236, 66411, 50560, 4736, 72431, 61632, 64619, 39899, 47514, 37958, 52422, 73830, 53450, 43108, 48394, 896, 30898, 74575, 51036, 75869, 74618, 20241, 69618, 21920, 65853, 21222, 27370, 48782, 20880, 65612, 46387, 74183, 46882, 44521, 58356, 24616, 67537, 14036, 12493, 23251, 58278, 20077, 1195, 21250, 20653, 65957, 7549, 7192, 75568, 50968, 61198, 1530, 16730, 73623, 42210, 24098, 4100, 13272, 17351, 49033, 59858, 73928, 61664, 25214, 69218, 9411, 35377, 55873, 51302, 37437, 7375, 59400, 40226, 352, 76271, 43868, 21867, 42387, 42087, 65490, 26979, 59715, 636, 73399, 1620, 11877, 56518, 14812, 4171, 764, 67589, 13107, 40661, 16753, 49013, 17955, 26329, 20149, 70494, 6040, 57995, 35515, 65276, 62175, 36885, 14811, 33442, 48915, 21847, 44076, 19062, 29233, 37561, 41895, 72238, 12761, 73834, 36846, 70126, 6457, 65682, 62639, 40194, 57723, 10540, 8316, 19811, 25944, 1280, 45307, 17644, 4004, 59424, 61640, 48397, 5982, 508, 25683, 3999, 34692, 29039, 44061, 1843, 5749, 40721, 68040, 5079, 57996, 64118, 3104, 28741, 5146, 36132, 61631, 29990, 5236, 49508, 35497, 48355, 5411, 7295, 52495, 51572, 46305, 59509, 5304, 10987, 46463, 13176, 65326, 39577, 25311, 60487, 19420, 16463, 18890, 65540, 59945, 29675, 347, 49477, 6462, 45623, 40283, 32947, 46906, 36956, 54987, 18342, 4798, 3224, 68135, 24405, 34949, 43819, 31788, 28159, 58814, 8048, 23126, 68353, 27625, 50936, 13261, 3435, 27652, 34014, 24485, 21265, 10024, 26761, 32547, 26785, 14478, 2171, 15739, 35253, 20497, 60195, 59890, 60992, 1889, 13856, 69543, 31865, 108, 56831, 11297, 46997, 63827, 28858, 57292, 62559, 73009, 15132, 39239, 18661, 47293, 39352, 66695, 57403, 10222, 47555, 10111, 60130, 23226, 30765, 12965, 69101, 26862, 69489, 73937, 54912, 40274, 35937, 54140, 45281, 8891, 32416, 40785, 61921, 69023, 40881, 26282, 46123, 56907, 67350, 60221, 50003, 50005, 42484, 45454, 42431, 50432, 47409, 33931, 34056, 15719, 67788, 58023, 1342, 46296, 9617, 23339, 73265, 67781, 53264, 43996, 31728, 75642, 20939, 56300, 27025, 27395, 21810, 61757, 1216, 40597, 60417, 9047, 28932, 12045, 59499, 63675, 36670, 44690, 24773, 55191, 28866, 18423, 35945, 11693, 66179, 39142, 17739, 75847, 61156, 66363, 15998, 21567, 74809, 32399, 63213, 46873, 8667, 52880, 21736, 57759, 55440, 26879, 24288, 27072, 47180, 51015, 67027, 73677, 45754, 37531, 59593, 36722, 74733, 39569, 55109, 51012, 25872, 57779, 51091, 74316, 36693, 50865, 7724, 20514, 28226, 9718, 42094, 26223, 76251, 4811, 38766, 13702, 59536, 73868, 27517, 75427, 62172, 34886, 51089, 31826, 63957, 48798, 58085, 70020, 36456, 60791, 24882, 7203, 34598, 56559, 48219, 73095, 57555, 71291, 35876, 49221, 18977, 59538, 32795, 44527, 46029, 15553, 32020, 63229, 65278, 40936, 63435, 65711, 41151, 14621, 38129, 75932, 53157, 5424, 47602, 18721, 25181, 11706, 58647, 71838, 11081, 54418, 61030, 3511, 62656, 45598, 35021, 23775, 59422, 9470, 16847, 33226, 8575, 51789, 29327, 59068, 35222, 47521, 24888, 12376, 13304, 12600, 53191, 35177, 63023, 72007, 10707, 50860, 67920, 62707, 2060, 45944, 52709, 32001, 35037, 56955, 45141, 8807, 62014, 45189, 57344, 61844, 314, 3981, 56756, 31823, 22458, 15509, 42546, 3543, 34690, 29405, 20916, 33277, 63063, 14738, 59439, 26540, 34058, 25817, 27133, 12953, 25042, 47012, 63142, 64870, 16567, 54812, 28167, 26781, 74696, 20027, 12751, 38642, 29378, 73801, 21568, 3300, 40331, 652, 12785, 28889, 74345, 20728, 32483, 34362, 66493, 47440, 29149, 39601, 5524, 54113, 20831, 73883, 70452, 50952, 65789, 67819, 38110, 32638, 36136, 37224, 32454, 16612, 61939, 52381, 37564, 25151, 67182, 7343, 19333, 6860, 66892, 15713, 56405, 46887, 64512, 22728, 47748, 29530, 44314, 61112, 33288, 17595, 51340, 16321, 52532, 54072, 51420, 38089, 45020, 54248, 54123, 48766, 54007, 20816, 48032, 6497, 34631, 43167, 49080, 57861, 23232, 39599, 65869, 4465, 66899, 27329, 32527, 69610, 26699, 32457, 61934, 64741, 32804, 36715, 36003, 21693, 10847, 44123, 72201, 61803, 39349, 5727, 58391, 15893, 72546, 54702, 35686, 43512, 1350, 41655, 69865, 32628, 10599, 61429, 46771, 49501, 39651, 31871, 43908, 45241, 11347, 54881, 48511, 56554, 5474, 34704, 70446, 42915, 10417, 70948, 67543, 20596, 47913, 32672, 33002, 54457, 72478, 4436, 60203, 63209, 34180, 8525, 20294, 44908, 74811, 55237, 20979, 56514, 49112, 56877, 38400, 58958, 18015, 8473, 13474, 15081, 24542, 40624, 59707, 12282, 46607, 17007, 4205, 6990, 74319, 27893, 76071, 23690, 75375, 34511, 72341, 61656, 75618, 41020, 23186, 21233, 57357, 5770, 21013, 37536, 46184, 19221, 52412, 11396, 13852, 22597, 44091, 54237, 13580, 12734, 18960, 72631, 19895, 72215, 29164, 2577, 66390, 45661, 50677, 6173, 5506, 26094, 48701, 75796, 13398, 43827, 10706, 73800, 28036, 45849, 7216, 1017, 37523, 13278, 43816, 75798, 2715, 27884, 48544, 38985, 46049, 6818, 2126, 4819, 51166, 1100, 49310, 46045, 18336, 45894, 20243, 3276, 46308, 49939, 42252, 28251, 47848, 54790, 71145, 70080, 25440, 52787, 46426, 51955, 263, 72941, 23610, 9088, 29965, 16954, 57114, 68168, 9986, 993, 1845, 47270, 66201, 69461, 26271, 41008, 40767, 51906, 27798, 46505, 21418, 6097, 42, 15864, 32669, 67541, 74006, 43142, 65182, 4981, 51123, 26112, 67529, 20512, 730, 19879, 54308, 43150, 4402, 73932, 5655, 42539, 51844, 74348, 57775, 18179, 38596, 22640, 47508, 32056, 50097, 53592, 55739, 34317, 34989, 47607, 5487, 30959, 62250, 32000, 4435, 30642, 51649, 48337, 24171, 36682, 66604, 13463, 32745, 57934, 34450, 70266, 2896, 55598, 5680, 76252, 14870, 44703, 27015, 2821, 19071, 59834, 16403, 27701, 6730, 57172, 33524, 39501, 30650, 26698, 38346, 38482, 25014, 51458, 1804, 75134, 46396, 60681, 61843, 16274, 72797, 35880, 21412, 8839, 22217, 12483, 36419, 74025, 18174, 8893, 65511, 23221, 33341, 33585, 57221, 51206, 16797, 11623, 36117, 32737, 37967, 37710, 59251, 49007, 49152, 20111, 61895, 31687, 73954, 37392, 61821, 50634, 16893, 64997, 38294, 22253, 66457, 61748, 17591, 59902, 57967, 27567, 55591, 6884, 46232, 67965, 16126, 6186, 76227, 16411, 20878, 61630, 41071, 43686, 12647, 13262, 53146, 76324, 36685, 36226, 46147, 52383, 37412, 70526, 41625, 1149, 3326, 59143, 22639, 61384, 39286, 60895, 35063, 74310, 11722, 63, 8315, 27663, 61964, 38868, 43823, 28010, 37431, 3689, 47466, 39173, 59600, 55938, 63201, 49288, 34064, 21564, 51425, 36616, 2465, 51749, 57256, 52587, 74267, 3563, 29845, 41793, 50891, 38736, 65027, 18803, 20155, 3586, 17102, 62801, 21819, 46134, 43516, 72465, 74605, 39263, 12302, 27431, 24913, 67715, 48270, 21148, 37558, 71946, 19520, 56129, 66833, 7221, 70611, 32833, 34941, 74900, 57428, 20327, 70822, 62662, 15354, 8474, 33850, 70819, 33393, 33715, 49042, 34847, 33408, 68845, 62653, 14346, 74209, 27268, 68441, 1861, 38667, 48302, 24531, 10261, 76201, 40107, 17020, 73853, 37746, 65650, 67971, 57224, 54458, 73888, 39125, 75921, 75853, 69801, 75132, 20150, 44506, 43829, 61174, 6485, 10060, 62870, 41728, 30299, 3987, 9654, 61809, 50652, 62219, 16478, 65003, 46037, 24529, 39581, 59065, 27227, 68572, 56834, 64369, 51467, 44974, 37438, 62042, 41487, 28360, 34520, 34524, 33332, 17935, 9213, 16836, 29945, 17715, 71256, 69124, 53863, 2855, 30996, 46623, 43495, 42298, 62868, 66951, 12999, 57207, 64831, 19316, 52626, 43482, 47714, 51661, 33464, 4257, 45703, 46222, 53141, 16864, 9600, 5005, 70774, 4114, 73030, 65398, 43033, 11556, 21699, 66381, 17690, 36426, 63046, 18397, 18074, 60622, 48034, 50472, 39010, 17603, 73444, 62818, 49800, 26878, 45861, 50458, 59492, 72121, 61497, 49638, 18040, 2269, 4912, 41415, 61770, 19409, 4691, 61730, 73828, 21371, 50821, 73018, 55054, 27553, 5161, 32024, 15554, 19978, 72799, 73185, 18487, 23716, 26968, 46280, 62604, 36278, 22006, 13641, 37670, 40095, 35401, 68814, 54408, 21940, 19074, 42761, 46397, 54482, 72514, 9385, 34185, 44215, 1664, 38158, 51079, 44047, 60803, 46876, 73535, 48962, 24583, 16610, 74623, 19507, 18254, 55254, 21795, 48994, 53683, 71123, 27420, 55316, 36033, 76302, 20131, 53974, 71098, 36025, 14727, 42509, 54461, 73055, 75069, 37195, 52523, 59003, 16531, 45591, 53239, 24385, 53866, 68023, 33844, 58762, 73285, 61132, 11775, 61717, 29230, 52775, 55025, 39974, 62832, 20021, 72338, 14581, 9550, 54561, 10365, 72795, 35696, 54868, 11905, 46085, 35480, 48156, 59196, 17891, 32511, 57567, 9609, 52428, 46018, 44951, 8621, 18319, 17785, 34455, 37635, 42344, 6473, 28400, 35643, 29772, 6826, 20568, 69322, 8332, 8181, 26470, 51153, 18240, 52056, 6955, 54616, 6273, 67394, 10114, 63340, 67513, 24075, 53804, 74876, 2361, 6242, 64447, 35360, 13501, 34863, 6298, 3334, 52359, 15755, 60278, 49685, 70351, 36444, 21721, 6887, 65372, 49230, 16829, 32543, 48263, 31386, 8587, 15406, 70898, 45212, 3541, 54883, 75114, 12153, 53881, 25786, 38472, 18684, 41250, 42855, 59966, 48631, 1383, 49409, 27038, 17666, 38974, 9063, 33041, 73385, 39403, 14913, 25706, 72377, 30207, 44916, 20456, 8243, 71646, 23797, 10428, 15035, 44896, 10892, 72428, 18734, 11472, 32613, 71162, 63985, 10002, 76217, 56126, 68565, 53702, 76085, 55510, 25028, 9424, 22782, 34644, 6535, 26034, 71683, 57546, 54360, 49541, 69193, 60949, 63893, 41565, 74667, 28238, 63772, 59823, 46385, 55784, 75771, 14175, 73674, 9724, 17103, 22561, 37839, 1050, 15228, 7405, 36303, 23076, 21207, 73651, 37137, 74231, 1241, 63184, 66413, 67937, 34138, 41526, 14786, 35819, 60659, 68490, 8480, 41850, 71607, 41680, 8484, 51833, 75255, 61473, 54428, 7283, 14793, 1059, 51560, 59115, 64571, 75014, 36435, 22938, 35332, 71350, 26300, 62304, 10550, 55287, 36823, 52542, 37581, 46824, 11132, 6768, 71154, 56657, 44519, 9463, 58593, 36983, 71261, 36347, 31699, 47321, 27216, 10676, 43145, 33187, 63406, 28056, 69679, 15167, 26882, 75297, 22825, 31132, 70303, 2886, 16264, 23286, 69021, 6947, 63410, 58976, 70926, 48107, 70756, 14632, 19919, 20657, 54364, 55652, 73411, 22623, 26421, 54742, 27733, 47112, 10408, 39534, 9240, 19181, 38840, 16382, 8414, 72173, 71438, 20143, 57463, 1051, 10912, 25193, 16635, 46318, 18485, 54671, 21695, 47047, 74730, 17242, 48946, 45993, 16009, 9997, 75121, 74789, 1023, 29158, 39852, 68451, 72632, 9145, 56424, 51349, 38031, 45064, 53765, 40500, 10413, 74510, 5267, 59215, 21157, 73446, 14774, 63644, 10288, 55427, 35078, 44455, 69988, 19588, 47694, 31209, 53637, 27968, 44988, 13336, 28303, 52680, 28162, 13950, 8058, 33514, 28171, 68850, 74701, 15890, 61930, 23553, 39767, 57790, 25943, 48953, 25768, 74103, 147, 67879, 20095, 36330, 43729, 16916, 19781, 43128, 30782, 63360, 59551, 35715, 74663, 57632, 16801, 43025, 16470, 39050, 16941, 298, 30212, 18108, 50267, 50899, 5239, 39696, 702, 40363, 62994, 51488, 8212, 17707, 46581, 41232, 4420, 56843, 61130, 21009, 36792, 69344, 17376, 44722, 32356, 10197, 15885, 48275, 10341, 30729, 34384, 44013, 62188, 24149, 60067, 50722, 7710, 106, 30396, 15774, 68786, 44273, 21278, 15129, 72911, 57517, 4665, 4286, 23969, 48716, 75, 14832, 26903, 69752, 21063, 37672, 59396, 41736, 74512, 69554, 13740, 68522, 33778, 30808, 30749, 23391, 13657, 74105, 5489, 1872, 12396, 71780, 13837, 33841, 23329, 74922, 17291, 32694, 42889, 45265, 63640, 12244, 35810, 23619, 64351, 8240, 26411, 17219, 71247, 49788, 26053, 47936, 12499, 608, 14157, 64074, 45951, 68259, 45036, 21527, 36924, 24226, 41881, 15134, 9384, 5345, 62580, 76007, 26814, 51948, 4998, 72230, 21114, 34092, 43257, 50910, 68742, 9548, 70198, 47921, 34617, 29474, 3165, 70473, 55342, 15838, 30061, 67940, 42296, 11680, 33562, 403, 1158, 74273, 18609, 18005, 58805, 10237, 44242, 47356, 13282, 31878, 75864, 52946, 60329, 52864, 16250, 61865, 32411, 66500, 477, 535, 31971, 15087, 20558, 43743, 74492, 65212, 19847, 46810, 17167, 25414, 31115, 9895, 43781, 57036, 72917, 36020, 1135, 72227, 7806, 54798, 55595, 31746, 58445, 70353, 67500, 71030, 32145, 9853, 74782, 25796, 41922, 21397, 44248, 70992, 38234, 29586, 40713, 18741, 66181, 72894, 8858, 42137, 61053, 25462, 17426, 39515, 59796, 40684, 9826, 30193, 71655, 54850, 4231, 75821, 13010, 41305, 61407, 24078, 47591, 32304, 70407, 50234, 8721, 38399, 72265, 66866, 30277, 76171, 71718, 54581, 35984, 39557, 2156, 11152, 11889, 19277, 70863, 54311, 6563, 8918, 8321, 24442, 30796, 56817, 43834, 59047, 64443, 36931, 5700, 11263, 70410, 26912, 59909, 44241, 3051, 72503, 37894, 30598, 57003, 68806, 6703, 37878, 16811, 289, 53953, 19913, 70084, 18800, 11053, 61346, 15521, 26335, 7154, 23974, 51447, 43521, 13556, 49642, 61870, 27721, 22371, 35452, 54597, 74551, 30812, 7045, 63367, 15454, 33184, 33009, 28273, 65279, 64708, 73555, 29491, 14571, 58840, 14670, 32336, 29130, 39205, 13293, 22944, 14777, 13103, 35387, 68977, 30213, 38198, 14229, 8759, 75661, 17380, 38743, 65508, 58298, 68064, 13443, 68804, 70513, 44064, 42464, 64395, 63467, 43546, 75993, 36944, 21828, 5764, 54926, 56245, 73367, 52703, 26342, 31039, 9966, 72039, 70459, 6004, 43581, 14114, 52642, 3230, 23483, 58519, 12974, 13252, 4535, 52367, 30048, 22102, 8819, 56947, 47830, 63818, 8863, 43225, 8691, 70465, 22092, 11985, 42185, 1938, 63139, 35898, 36825, 51809, 1189, 1500, 69235, 65968, 15711, 26212, 36694, 61575, 72508, 75976, 72854, 42660, 45771, 33163, 70424, 21945, 146, 7351, 49149, 10316, 67250, 7416, 15705, 68051, 3751, 21341, 64547, 5716, 29123, 26984, 69095, 27113, 39580, 62409, 62139, 16241, 73717, 62475, 33465, 54606, 44044, 55411, 41410, 25735, 14334, 75031, 19997, 2306, 1999, 30701, 71501, 69509, 58178, 66710, 64055, 60432, 68294, 3121, 10379, 42037, 62562, 32465, 23167, 51176, 9183, 70337, 22241, 56271, 25945, 63759, 36073, 73051, 40671, 30446, 69793, 26712, 63782, 76266, 44425, 39755, 21201, 75611, 43170, 26534, 14350, 75319, 48426, 7893, 47288, 43475, 36796, 20146, 5793, 66890, 58340, 27542, 44914, 67231, 14425, 2335, 7550, 19100, 32037, 1052, 25601, 41229, 14997, 14167, 2959, 22420, 8059, 27001, 24477, 61, 19516, 43918, 52640, 47117, 64795, 65312, 68236, 10839, 45264, 72236, 39677, 22140, 48145, 22999, 13146, 34605, 68566, 5796, 20944, 64794, 57247, 8789, 55986, 41566, 57009, 74355, 19375, 60995, 7862, 26575, 58579, 23018, 6970, 35761, 27700, 32211, 29885, 60888, 16821, 6403, 20089, 38635, 54018, 51601, 19452, 44582, 66831, 76107, 33209, 51114, 9781, 60380, 62395, 34146, 34279, 33727, 2070, 29796, 23685, 52649, 27305, 72560, 20138, 15348, 251, 27671, 36591, 29847, 9580, 8830, 27760, 43709, 69064, 45289, 69342, 61662, 24323, 71990, 23887, 69867, 5323, 51932, 54488, 4720, 23663, 19458, 133, 6157, 34179, 73968, 27320, 11594, 29002, 10841, 45041, 31598, 56940, 19276, 36344, 75089, 67573, 39481, 37550, 33175, 64220, 55653, 40747, 66327, 24795, 23294, 49448, 49064, 71008, 51722, 76004, 56615, 31770, 60310, 17383, 10648, 3324, 72745, 19459, 3198, 66355, 42090, 74249, 28399, 63896, 18504, 1726, 26799, 43980, 56946, 71262, 45467, 438, 10887, 7752, 76126, 20529, 60158, 52388, 53848, 40938, 27920, 12179, 54929, 9929, 30693, 7643, 29729, 44737, 16834, 71999, 37129, 2230, 54090, 57418, 8061, 69918, 35538, 8737, 20748, 61203, 42989, 24657, 63107, 1076, 55515, 72309, 19113, 22387, 56154, 9141, 71382, 15046, 24893, 19845, 20995, 22496, 40542, 75485, 63295, 51851, 73614, 27796, 57334, 39275, 54068, 69382, 39472, 32517, 48297, 2574, 31373, 12048, 68103, 5407, 19940, 71623, 36946, 30785, 67818, 57549, 35638, 44283, 12939, 69780, 45428, 10194, 27462, 71364, 10762, 39248, 24071, 29400, 30383, 2508, 31135, 19790, 3444, 9296, 56844, 17983, 50618, 65635, 56275, 70770, 68059, 9733, 62554, 50039, 29988, 22906, 40826, 42593, 53455, 22454, 68007, 42131, 44763, 54944, 37893, 75968, 70504, 47490, 26283, 72930, 34527, 7100, 31473, 20695, 10255, 10704, 26630, 48215, 63658, 51779, 28755, 83, 5629, 5284, 17099, 4448, 50367, 18311, 64475, 7824, 65710, 3006, 51680, 707, 5684, 6433, 19918, 42858, 69574, 45717, 63784, 61221, 13439, 70116, 12009, 29882, 55337, 57405, 19859, 66802, 43328, 65476, 28533, 72134, 36345, 33659, 16193, 63079, 62623, 24632, 58136, 75606, 62808, 76114, 45385, 1000, 10791, 30392, 63655, 13134, 70336, 42766, 49645, 12135, 30226, 61736, 18264, 44693, 2227, 16023, 60127, 35610, 9321, 38825, 9399, 13452, 66044, 37337, 32950, 43839, 31174, 27219, 61257, 55958, 52750, 11057, 69708, 56426, 70098, 32474, 55277, 63455, 46001, 19810, 3249, 1302, 2349, 32512, 62206, 58243, 75559, 63907, 20326, 5122, 1537, 34133, 16458, 14197, 2523, 58053, 25911, 72826, 6767, 69112, 18488, 13053, 7593, 68052, 44803, 17884, 63852, 12060, 27238, 35666, 58620, 44621, 30352, 276, 39249, 12610, 12054, 15466, 23910, 46471, 12065, 40627, 58323, 46433, 51082, 42062, 5237, 58051, 13238, 45686, 31367, 9306, 65666, 9731, 45497, 60088, 66336, 66570, 46241, 75810, 36418, 15552, 11368, 46302, 42935, 9151, 5976, 31804, 32564, 37275, 74049, 60344, 61705, 44420, 830, 74420, 4317, 29764, 69861, 17112, 38611, 21643, 28444, 14683, 12037, 73093, 8688, 70479, 71858, 64333, 10913, 46940, 72223, 62140, 5163, 47246, 5288, 69811, 11248, 34258, 8264, 10463, 59033, 64473, 69169, 51667, 23595, 39426, 39984, 9191, 71938, 19708, 73378, 34799, 26974, 69889, 20770, 53886, 24684, 63556, 32, 29639, 8995, 56556, 26030, 12678, 45747, 66883, 67895, 30381, 72375, 15990, 37873, 58807, 29239, 22943, 40602, 62893, 24681, 26332, 17782, 54708, 12275, 67555, 8479, 32944, 57133, 62924, 47080, 52392, 22363, 12586, 36044, 60539, 53316, 16624, 57307, 23592, 11323, 28545, 19865, 35645, 47498, 51526, 27424, 14026, 26570, 35056, 25443, 69408, 18913, 55759, 50113, 57635, 52817, 10662, 33078, 52380, 14028, 61127, 61099, 64112, 11301, 61158, 12868, 64048, 14651, 64726, 61641, 21462, 1423, 18090, 62023, 42838, 66640, 22786, 49420, 64361, 4010, 61869, 70540, 70643, 14795, 25336, 42747, 44487, 19987, 44766, 55935, 29748, 67565, 38986, 66372, 33162, 6754, 42350, 60765, 30445, 52232, 70495, 40526, 11415, 21414, 1332, 24178, 58385, 31185, 48585, 71816, 18180, 72603, 6355, 13763, 37567, 63386, 63889, 21519, 48520, 21887, 15539, 19635, 37318, 13195, 21260, 57605, 4072, 26904, 62272, 2307, 17058, 31717, 66158, 56200, 41442, 48210, 16750, 59370, 57746, 29924, 55760, 51898, 44238, 20706, 29642, 21966, 58088, 2779, 75990, 56004, 51129, 56356, 28275, 43751, 25747, 40999, 31972, 68674, 44863, 23860, 23491, 20693, 21293, 54431, 75970, 56397, 41171, 40744, 34377, 6371, 40906, 44019, 73084, 39398, 26513, 62051, 35635, 8767, 44729, 56335, 24734, 22948, 49851, 16066, 17612, 37867, 6984, 28374, 70311, 43397, 28002, 66095, 38917, 41702, 6061, 28946, 74210, 20066, 46419, 17490, 30613, 31365, 9576, 52067, 41085, 43565, 1466, 17948, 40907, 2239, 1433, 2713, 60794, 37562, 52857, 19009, 24887, 14304, 75745, 9868, 46580, 76138, 73515, 48917, 58225, 70764, 6455, 67918, 57317, 31179, 37771, 53604, 64552, 62143, 1144, 49249, 15123, 28522, 49467, 55775, 5917, 23295, 7459, 8735, 832, 34623, 7289, 51037, 2051, 55064, 867, 73695, 4972, 34322, 18893, 73851, 44205, 59754, 23301, 17713, 41095, 75163, 61366, 59950, 17985, 51386, 45009, 367, 14639, 49522, 58104, 55393, 1874, 56147, 18087, 38258, 5080, 39291, 72436, 23122, 9769, 35986, 20673, 60366, 3277, 10371, 24983, 2575, 22921, 48091, 14444, 30076, 49593, 19489, 67919, 26663, 11636, 37362, 8635, 16245, 71316, 58695, 26511, 46072, 44037, 27551, 51228, 38266, 47732, 57230, 47771, 2707, 36065, 75090, 15728, 6138, 24662, 36557, 72400, 33409, 3275, 22414, 72157, 66275, 28903, 53993, 57642, 34760, 20057, 21590, 53539, 56577, 39387, 1626, 54566, 45124, 41890, 735, 10020, 32741, 53890, 70536, 6698, 38924, 72939, 43534, 51138, 10944, 22908, 27841, 59594, 53018, 39449, 42079, 71528, 63742, 39621, 16511, 62845, 62814, 17649, 50391, 27963, 63523, 4951, 60646, 61805, 28938, 52611, 39685, 53215, 20720, 8906, 24247, 16684, 36225, 69475, 35965, 21703, 31651, 45025, 67627, 14357, 11246, 29488, 44681, 22297, 62342, 12665, 30000, 9590, 43509, 60942, 1486, 44489, 63075, 31965, 67205, 75907, 33342, 51604, 71214, 69293, 42818, 46856, 16526, 8879, 48609, 61179, 22417, 57335, 225, 27096, 16223, 70762, 348, 9326, 74993, 40061, 8537, 69436, 28281, 62494, 26807, 26784, 7387, 23636, 47094, 73004, 11861, 56436, 22137, 52499, 71644, 21072, 16197, 10226, 54814, 57273, 72337, 41223, 872, 22098, 72264, 39224, 54720, 22378, 36263, 4488, 11155, 8248, 13912, 38877, 50719, 54299, 71588, 50397, 42490, 12031, 72271, 8026, 11714, 47712, 28391, 27592, 26340, 57871, 55285, 2286, 75683, 53289, 74642, 34333, 68907, 42689, 60580, 42448, 2192, 64663, 5552, 40783, 34517, 34750, 21173, 45722, 64939, 70165, 8017, 56641, 52987, 4510, 72803, 265, 31042, 9188, 15865, 55639, 54813, 31758, 24702, 67212, 49616, 13902, 49934, 40573, 6074, 67699, 47597, 74748, 52973, 40649, 6844, 56442, 20256, 37203, 21931, 14112, 2122, 51795, 22704, 46465, 59942, 75072, 73000, 52527, 33901, 33380, 30764, 40613, 34795, 66685, 45799, 33529, 35445, 14765, 61362, 53899, 18258, 58624, 19065, 45651, 24275, 76109, 3917, 25971, 26459, 58836, 13788, 61323, 20030, 31677, 63490, 9925, 54799, 12005, 52738, 71069, 58484, 37223, 25211, 71802, 48429, 71860, 71901, 4414, 52834, 34622, 5355, 1143, 73764, 20459, 70043, 38849, 49041, 46411, 69015, 29718, 25845, 72807, 51435, 49858, 61403, 70688, 28008, 46200, 57215, 857, 31620, 8842, 64321, 21539, 33469, 38020, 8034, 1722, 46941, 53655, 51672, 2927, 70848, 67248, 31646, 33344, 32598, 49171, 57729, 38446, 9279, 28250, 25803, 47361, 69696, 70594, 45191, 22402, 7843, 52444, 9143, 59617, 63138, 35742, 22662, 56968, 31120, 12476, 23729, 53290, 65255, 15210, 16682, 49185, 68515, 7631, 29292, 9499, 32711, 75239, 36496, 64579, 1090, 49267, 12643, 64818, 29105, 38961, 23484, 65443, 13055, 38371, 68108, 60098, 63992, 30467, 3385, 12012, 54832, 22411, 40825, 70428, 46399, 28445, 5695, 21800, 63737, 59820, 75463, 33821, 42116, 3228, 47727, 31062, 28521, 1504, 19636, 39909, 14779, 73639, 71984, 24084, 38698, 62437, 22645, 53054, 60856, 21498, 70874, 71293, 6751, 955, 46978, 61466, 13106, 8739, 59959, 47735, 45544, 5038, 26551, 11830, 56773, 68417, 17126, 20565, 56453, 72203, 28571, 22510, 15670, 20981, 40237, 29281, 73626, 40565, 46845, 7064, 20917, 61093, 525, 37465, 49214, 9472, 61839, 2542, 50354, 31801, 58091, 63613, 29026, 47078, 70328, 25308, 35513, 6490, 46667, 33363, 25921, 1544, 24439, 20691, 60418, 47888, 73038, 31186, 7609, 68000, 4926, 65179, 35967, 46572, 62619, 51832, 43106, 3343, 61081, 32540, 19322, 73487, 5935, 29029, 69971, 68677, 59868, 68111, 8544, 61487, 35664, 67587, 34532, 12395, 42149, 6466, 67556, 55932, 34173, 32344, 39450, 71192, 28746, 11998, 70361, 39992, 23706, 58782, 74862, 10830, 23840, 22703, 31630, 46648, 20810, 12544, 72832, 62670, 1819, 24357, 60520, 49094, 70384, 74864, 18344, 1363, 60677, 26640, 9323, 33697, 62725, 36366, 28422, 7766, 39942, 50721, 46544, 12708, 36028, 30371, 4935, 22385, 46506, 54937, 30071, 61317, 51014, 21707, 45158, 4316, 71681, 6960, 57743, 19060, 64159, 1797, 52645, 75878, 53870, 74952, 55908, 71469, 38835, 40256, 4576, 43217, 67839, 29460, 68524, 19614, 23237, 13653, 70316, 5453, 37134, 54153, 14426, 72495, 57400, 2474, 43473, 1830, 5874, 50142, 39724, 72532, 7477, 73462, 46253, 14206, 10117, 16805, 8104, 7151, 54175, 10591, 20127, 31710, 63314, 68242, 46874, 61044, 9214, 39991, 47113, 533, 20918, 53945, 27529, 75817, 22977, 17843, 50541, 42876, 75667, 67124, 19044, 15766, 62961, 14371, 38972, 22600, 47678, 68732, 61858, 56750, 42921, 74296, 2748, 16372, 1012, 15066, 8312, 48278, 68989, 22656, 18593, 50300, 40177, 44691, 70739, 16709, 20304, 12311, 47886, 69731, 31531, 56229, 66027, 16843, 64050, 7219, 56959, 2287, 841, 62027, 65247, 27538, 27896, 8159, 69785, 55996, 39145, 52974, 69717, 69857, 69259, 10784, 12967, 6886, 23440, 25486, 54511, 52145, 54425, 46003, 46701, 25961, 16949, 13284, 76269, 39720, 62040, 34099, 6631, 42281, 66146, 65866, 36569, 3163, 55469, 18025, 41325, 49806, 38914, 34841, 18869, 22941, 48041, 59380, 69903, 68260, 47255, 63906, 53027, 76299, 16151, 6022, 65718, 27314, 64654, 70549, 44670, 6290, 52953, 53771, 69831, 5670, 73329, 71893, 9921, 60854, 57348, 44266, 73094, 54079, 75574, 35888, 10174, 63430, 51676, 71133, 10624, 31044, 75733, 73776, 47011, 49078, 10816, 724, 45762, 64546, 20614, 402, 71464, 34411, 58153, 15665, 64566, 28188, 67977, 34512, 43909, 50321, 30200, 37204, 53991, 62185, 32072, 4003, 58773, 57888, 70826, 6638, 55246, 15831, 76222, 71753, 22590, 693, 39323, 61262, 38423, 37902, 64509, 24388, 15401, 54563, 67370, 50439, 33438, 52166, 13524, 64748, 2549, 59167, 47134, 17960, 21846, 42832, 58576, 27693, 33394, 30156, 75055, 21711, 87, 58829, 15275, 31812, 39918, 23844, 48659, 33567, 34788, 51401, 11208, 58616, 63807, 49719, 35200, 51648, 15288, 15252, 16587, 10955, 69422, 52631, 54869, 43765, 46181, 59888, 54459, 70664, 49696, 9015, 56665, 27595, 37040, 27694, 5397, 44642, 42653, 3037, 62151, 50590, 74677, 76082, 5687, 24056, 36769, 41219, 3146, 52776, 52506, 31837, 14249, 50583, 38098, 41867, 23584, 44305, 32256, 36481, 42215, 7802, 17631, 10173, 33554, 75046, 13708, 7770, 52456, 5213, 4391, 29817, 1281, 35339, 1, 44161, 15619, 33928, 53992, 10950, 65559, 64342, 2180, 65695, 43362, 36594, 10263, 22314, 33381, 53761, 35368, 55166, 45180, 52838, 15410, 20359, 72365, 9678, 17488, 18931, 18247, 23881, 63437, 66885, 30038, 11760, 72866, 21340, 28988, 22998, 1802, 31266, 49586, 22122, 16765, 53299, 12116, 1966, 45599, 48991, 58746, 29330, 48438, 17489, 62344, 11940, 63899, 51501, 13963, 44993, 12185, 22650, 19977, 49888, 43864, 29011, 41467, 39562, 22456, 59053, 7646, 942, 72778, 4204, 37128, 69786, 74397, 27549, 2781, 27799, 49977, 10427, 37369, 33016, 26565, 43859, 38608, 46228, 73326, 8192, 71114, 21627, 58988, 26539, 24309, 22736, 13885, 47561, 19821, 60245, 31343, 6507, 47008, 28627, 36349, 27139, 45288, 44740, 69439, 30321, 60500, 24863, 27293, 70915, 9778, 47250, 43757, 53578, 48053, 32866, 21820, 53672, 18416, 71212, 1501, 17463, 7507, 32523, 66950, 6837, 39638, 59419, 63579, 32297, 63125, 14561, 76283, 72864, 64478, 13019, 45164, 44132, 54621, 25488, 22112, 47066, 50747, 10910, 11306, 47528, 6052, 34263, 64639, 36090, 65514, 35712, 42990, 38545, 63712, 71383, 26262, 24826, 42028, 23263, 58386, 37456, 46268, 55131, 3363, 69658, 33420, 8817, 53914, 36467, 14406, 10292, 61436, 6862, 7036, 49282, 20518, 76046, 1953, 24417, 69570, 63265, 31734, 38995, 67029, 46546, 52876, 6190, 39828, 34778, 68354, 40923, 51366, 53527, 62251, 15671, 71238, 20631, 58096, 33553, 40977, 10130, 20853, 2782, 36466, 43787, 17150, 64269, 7805, 51215, 61535, 72076, 69247, 31068, 56137, 7812, 20042, 52686, 36046, 65572, 45934, 61320, 53277, 34134, 68714, 62929, 66935, 19762, 24585, 67412, 6845, 68410, 10986, 39654, 24414, 25137, 61171, 27603, 33599, 16348, 5750, 39921, 12979, 37681, 55118, 16440, 11826, 21454, 45646, 18988, 20484, 31101, 62190, 4301, 17894, 23807, 74819, 10169, 52728, 67449, 55264, 45310, 55081, 8996, 38134, 24094, 31760, 39894, 34893, 15158, 14524, 16270, 51405, 34735, 68015, 29768, 68633, 22384, 64807, 75367, 72667, 10546, 66290, 52016, 60971, 44071, 6559, 9497, 75632, 13305, 59903, 63002, 37127, 51959, 71971, 28279, 6171, 62579, 47500, 11289, 6653, 19764, 48651, 52921, 40851, 70858, 3890, 425, 25725, 15165, 47467, 73773, 31996, 68322, 4319, 44728, 54464, 39051, 14897, 4840, 50491, 67657, 60269, 45741, 21125, 39435, 54047, 3868, 18648, 51988, 30338, 76191, 11300, 8672, 45984, 61963, 71516, 45877, 50993, 1182, 13895, 41441, 50191, 10186, 44377, 39210, 32136, 24722, 35791, 61516, 75125, 6618, 41257, 62196, 21366, 24966, 42345, 72172, 50715, 5298, 63541, 11037, 39107, 21951, 10530, 4611, 9020, 68163, 40982, 70156, 66647, 30890, 19500, 75087, 16742, 17442, 22695, 57283, 47616, 17182, 7428, 57461, 73063, 7421, 63544, 51790, 12436, 33385, 71201, 17404, 72908, 35475, 14121, 63621, 72959, 43355, 31027, 33783, 68358, 61577, 70393, 60182, 51487, 57437, 14526, 71439, 37917, 35935, 48715, 25776, 49441, 56866, 70990, 22116, 35393, 71664, 27374, 19760, 75254, 35825, 66190, 20062, 53966, 31233, 58546, 65981, 30542, 9199, 60718, 66343, 39721, 59519, 30584, 7819, 66936, 61517, 41707, 60298, 17888, 73735, 33741, 70397, 1447, 4497, 24076, 7457, 30612, 71370, 45416, 71346, 58095, 33755, 70186, 1782, 53589, 38620, 69784, 7400, 53782, 2082, 59634, 26730, 52770, 31133, 18131, 21091, 33724, 10569, 14433, 51717, 57361, 39782, 41124, 29099, 17314, 71269, 46526, 49746, 21179, 68578, 16308, 38138, 23654, 26666, 65, 21450, 40117, 22648, 73368, 18332, 7791, 3272, 18592, 71277, 9797, 9568, 44892, 8386, 32448, 24520, 68696, 19130, 7021, 6528, 58241, 59194, 46982, 17375, 25491, 69880, 61808, 13242, 57553, 52981, 1789, 4431, 57120, 59184, 12596, 36662, 56469, 47826, 61674, 8675, 33055, 23555, 18815, 55102, 14211, 53579, 23963, 15005, 31176, 2266, 40959, 12945, 48676, 11507, 38503, 5896, 1545, 41819, 10801, 65352, 64238, 39149, 21262, 48115, 24649, 53019, 4905, 1858, 26817, 11360, 27897, 25276, 58300, 43044, 8022, 7357, 34958, 21286, 38420, 13020, 56776, 45123, 75322, 64996, 76319, 61558, 12644, 62384, 12448, 46828, 20633, 57541, 64408, 9963, 40551, 28708, 59588, 68879, 51482, 64867, 6184, 16127, 34053, 71831, 2556, 21007, 37047, 47856, 16874, 15849, 50958, 76151, 76277, 14654, 38665, 1137, 70412, 13223, 9241, 60412, 70299, 49856, 41066, 74736, 70574, 40991, 19738, 55593, 69642, 33109, 32557, 56739, 5266, 663, 72109, 21804, 45576, 62436, 14649, 61754, 17934, 48350, 59037, 34081, 40409, 52507, 12772, 4318, 54580, 40963, 69497, 50390, 19639, 20378, 61069, 42519, 58329, 31069, 52186, 68790, 68826, 18452, 53135, 33074, 29333, 12984, 13761, 1503, 57426, 30285, 8632, 9993, 52048, 69251, 55255, 13985, 66751, 236, 23385, 64022, 30842, 20771, 72355, 24510, 3339, 840, 56465, 43396, 28380, 32265, 53430, 16247, 64667, 10426, 68970, 6950, 45159, 17972, 32853, 37331, 19595, 69085, 47814, 51318, 8499, 73794, 50309, 44133, 39468, 34351, 18924, 19165, 2899, 21111, 60120, 56228, 44650, 5392, 4945, 67409, 66900, 53786, 66260, 36836, 9107, 2815, 56014, 66498, 13200, 27748, 37563, 51799, 37352, 57630, 25433, 34202, 36914, 56630, 59766, 37837, 40072, 8983, 23333, 9280, 46285, 69805, 49913, 34839, 26703, 8036, 71421, 57787, 22546, 70684, 31838, 47280, 7826, 74278, 32782, 41046, 15672, 25842, 57459, 56058, 42776, 34641, 35853, 65920, 9739, 3400, 75497, 34235, 49966, 23270, 19233, 39220, 17170, 9841, 40680, 992, 44433, 4444, 75481, 63873, 30246, 43969, 18823, 17052, 19119, 13340, 54523, 42881, 35558, 1278, 15886, 65110, 44935, 71776, 51363, 73900, 26597, 37685, 57401, 72636, 19158, 42132, 47181, 66353, 73381, 73712, 53506, 43452, 51962, 44563, 52214, 1710, 68209, 72787, 70580, 67056, 65081, 73636, 6753, 52461, 44374, 54039, 38403, 57958, 59750, 62693, 63787, 15532, 7094, 26572, 21647, 56899, 37524, 32821, 65980, 10777, 75431, 47210, 61381, 72433, 18083, 60257, 32753, 20240, 6487, 2297, 55310, 64942, 58206, 68799, 15116, 30210, 64454, 70110, 26297, 19437, 38118, 74089, 15463, 47614, 18666, 53768, 55878, 3903, 54036, 49126, 64768, 25646, 17689, 54800, 34506, 13678, 68753, 73751, 54721, 57365, 50313, 55523, 71737, 15892, 38897, 45153, 67018, 13141, 35113, 28438, 56549, 61919, 20403, 50123, 3299, 50200, 22130, 55033, 69850, 44854, 31271, 41358, 22885, 4639, 7647, 43783, 36249, 71113, 53058, 73418, 55597, 19860, 49697, 32409, 47502, 69887, 34491, 35165, 38002, 64983, 5542, 43733, 23760, 44110, 44184, 958, 9684, 16319, 26937, 2416, 60276, 38364, 6352, 9377, 50118, 51399, 31766, 40037, 67176, 38673, 47592, 25582, 20219, 18360, 18551, 33911, 29733, 11667, 39774, 657, 45810, 26351, 35022, 43303, 71362, 1222, 16516, 49668, 71194, 44931, 12241, 75610, 62803, 33865, 29966, 51347, 53629, 62466, 19621, 9375, 56316, 46932, 31608, 17617, 44644, 10597, 68088, 44325, 51728, 33943, 26819, 74958, 67633, 2279, 73903, 64743, 32286, 4009, 73959, 61835, 41749, 50410, 41987, 12211, 71734, 62214, 24290, 11926, 40158, 33579, 5479, 28429, 47679, 54089, 34198, 59606, 21868, 43615, 5362, 18560, 34046, 28352, 46020, 37262, 29971, 7427, 51376, 18829, 37062, 45521, 25460, 69482, 51158, 71243, 37545, 23064, 62160, 19590, 49955, 17685, 37830, 73461, 17384, 27301, 72065, 23818, 16704, 74381, 68422, 21982, 17823, 50422, 66003, 49849, 5037, 75158, 68818, 32835, 59510, 2875, 9665, 6301, 18172, 22467, 2298, 43053, 17327, 30066, 71666, 27999, 18170, 11153, 63155, 9808, 47799, 45007, 61071, 76183, 38788, 50594, 37096, 2143, 46751, 36549, 18389, 44569, 7662, 33308, 34323, 37533, 48706, 46225, 71865, 53964, 53509, 8809, 19236, 10590, 49811, 72755, 48374, 57653, 37530, 45425, 55804, 51268, 67740, 8713, 63865, 56069, 10000, 35103, 65611, 50552, 38601, 35689, 8692, 12074, 57879, 6540, 46829, 13232, 8647, 38514, 51553, 67399, 63252, 65797, 54274, 27744, 33171, 31762, 49231, 5846, 61687, 75143, 30166, 52539, 70587, 6078, 74533, 14449, 14964, 59964, 13428, 27099, 18049, 74478, 13719, 75437, 75801, 28427, 50105, 33887, 20422, 68178, 36620, 586, 34689, 9844, 20386, 42264, 27839, 20876, 2515, 39082, 19717, 40140, 61028, 39869, 12359, 56049, 69645, 71033, 27787, 58729, 27187, 42870, 5250, 6072, 62865, 21228, 27557, 35496, 57188, 23628, 69186, 63858, 13939, 18809, 15020, 9958, 21904, 47126, 30746, 27045, 34595, 3704, 31071, 68062, 2047, 40294, 58322, 67160, 72901, 30469, 14323, 48341, 59531, 33154, 21337, 23010, 21488, 23717, 75770, 22406, 58880, 71181, 44983, 65355, 45745, 33252, 26831, 12989, 15827, 7162, 56153, 68247, 10713, 58932, 23542, 53762, 25158, 48533, 46226, 57515, 29134, 76303, 42841, 40716, 23326, 22700, 2726, 58481, 53082, 70565, 18843, 52526, 28517, 21818, 34608, 69755, 58139, 29976, 43419, 33082, 35088, 68201, 73115, 55931, 32464, 59702, 74090, 20796, 69279, 32244, 16276, 69350, 59258, 37078, 49172, 62123, 70112, 24861, 10393, 39170, 18746, 34560, 26886, 51887, 35156, 3792, 43075, 1741, 31707, 64257, 13840, 9572, 33787, 75077, 67017, 20492, 66881, 66855, 10340, 3565, 64804, 52998, 16428, 67332, 27130, 54872, 52418, 71936, 43924, 71471, 47774, 2635, 50625, 52516, 4986, 2288, 15234, 37201, 48573, 74192, 42239, 32003, 21749, 65702, 53236, 37470, 48733, 36842, 39895, 22109, 36970, 65397, 37996, 11784, 19545, 57648, 17660, 50650, 56672, 22727, 62280, 74184, 43535, 28660, 66029, 13192, 16747, 33578, 21229, 46686, 53476, 46474, 21648, 63823, 5641, 57524, 41854, 21585, 65363, 55764, 46447, 55564, 22177, 51865, 43643, 4120, 45875, 65475, 13597, 34392, 64339, 23539, 19342, 72857, 31429, 49808, 68909, 19259, 57531, 49088, 23763, 12343, 14448, 74725, 48023, 23189, 64412, 19599, 41164, 48246, 34793, 23847, 30291, 7920, 41900, 75831, 5341, 35364, 58050, 29342, 35481, 46553, 55971, 5795, 42811, 74399, 7629, 69631, 60535, 71166, 48507, 28499, 8629, 35210, 73629, 69432, 65669, 61945, 35324, 52052, 23512, 30126, 14123, 54575, 40438, 32784, 53518, 49280, 7032, 30829, 58049, 70615, 32563, 32937, 65921, 59685, 18994, 51465, 57033, 38486, 33776, 70204, 61370, 65938, 36923, 2044, 39460, 61673, 2071, 48170, 28556, 50004, 15952, 72834, 62022, 21342, 70069, 48648, 13841, 58942, 66154, 32177, 17362, 71616, 50373, 53285, 52944, 48729, 21932, 39925, 59162, 1564, 68744, 13082, 19361, 75413, 38447, 55967, 30414, 50445, 6127, 34899, 9888, 25013, 73107, 45243, 22039, 57727, 43530, 71688, 13339, 65412, 67921, 25340, 71493, 215, 1147, 3258, 50656, 57444, 13472, 15023, 10301, 41784, 27386, 51493, 57180, 55619, 74254, 50295, 4711, 46254, 32901, 74535, 15131, 6725, 14943, 56859, 7953, 67046, 44397, 42599, 73810, 13626, 24001, 55944, 11559, 27198, 57352, 2426, 65647, 47522, 8384, 35924, 29615, 22769, 2063, 37674, 51518, 8648, 19433, 47122, 19153, 30762, 64629, 2334, 39808, 28000, 47705, 46585, 50029, 66592, 12336, 47788, 46165, 29363, 53555, 66677, 42474, 26437, 48797, 33615, 48163, 17289, 70552, 72593, 74655, 38661, 31109, 6213, 57198, 39025, 34184, 19768, 68984, 60495, 43898, 5619, 26277, 41403, 24116, 9338, 18879, 14382, 63089, 27324, 46611, 23707, 61441, 39343, 58677, 50452, 74178, 58442, 1552, 64694, 17802, 44498, 6370, 63007, 69747, 36042, 37031, 27291, 65390, 9614, 5160, 22161, 11682, 860, 23047, 73750, 10689, 44995, 49503, 58435, 33555, 41268, 63031, 56452, 40427, 4345, 24492, 74230, 9522, 46359, 42688, 37759, 74167, 53220, 25700, 59669, 36730, 2579, 24800, 64212, 46897, 73589, 21010, 43218, 3260, 2714, 17390, 29855, 49073, 46821, 72682, 14732, 38812, 45827, 24749, 43981, 6517, 7793, 6236, 7526, 24748, 49927, 2207, 71208, 41560, 45950, 13056, 13846, 40073, 61793, 9753, 13229, 16059, 52632, 1055, 47073, 19999, 33711, 43280, 29466, 73144, 76149, 74851, 37815, 19208, 69020, 35551, 21137, 24311, 37763, 57140, 34871, 33990, 37655, 65274, 55032, 58590, 31639, 27653, 68009, 48317, 61442, 32534, 54532, 3520, 70119, 32548, 28697, 50415, 30295, 55730, 25998, 49983, 71593, 3933, 38741, 50424, 24946, 22884, 39843, 76074, 5786, 8204, 43185, 34336, 22981, 17718, 1727, 57730, 7851, 9195, 73351, 8464, 37781, 37090, 53510, 46760, 4074, 64409, 71894, 56662, 31032, 20564, 15290, 9799, 8707, 46630, 20232, 3329, 37121, 977, 10589, 61831, 34833, 75213, 61106, 40653, 13288, 29015, 11278, 66476, 21005, 31701, 27440, 58431, 32611, 15283, 70278, 60753, 50260, 11946, 13154, 6033, 15909, 10920, 36568, 56636, 25599, 49316, 4375, 53570, 56841, 55503, 4278, 1677, 48935, 18510, 3599, 74176, 59058, 38382, 55257, 3364, 23686, 70164, 61235, 61508, 33108, 63104, 47653, 1472, 42437, 9540, 46655, 68642, 61742, 11497, 48197, 5934, 19576, 23886, 74329, 12347, 689, 7277, 17341, 36151, 25329, 18683, 67900, 47519, 56132, 11885, 10095, 56292, 36022, 75140, 32379, 4352, 23257, 17270, 38931, 8563, 68434, 41439, 41741, 8096, 64404, 1689, 71198, 5732, 505, 44558, 13718, 61952, 52482, 46267, 8375, 73391, 40114, 5231, 3376, 28759, 13128, 56797, 52693, 59049, 72407, 1221, 24284, 38745, 16141, 14025, 47414, 16017, 33486, 41706, 4170, 48802, 61305, 36276, 8658, 51495, 35472, 57526, 23924, 4748, 52279, 17272, 42647, 23709, 70395, 42583, 56922, 32312, 59389, 68936, 40333, 53697, 55193, 48761, 47147, 10442, 26178, 44744, 2839, 31488, 65830, 3200, 8553, 5027, 36367, 39765, 70978, 13007, 2857, 8206, 47860, 32016, 2299, 39488, 6062, 64276, 71992, 14688, 28356, 29519, 16490, 70925, 55816, 75243, 59698, 22118, 49402, 50856, 5318, 3519, 29765, 45383, 26261, 21769, 50151, 12454, 48815, 12605, 11021, 42864, 52629, 24736, 13008, 74265, 23556, 62698, 65367, 30408, 45433, 23843, 47628, 29508, 60199, 52882, 1811, 53830, 1824, 27222, 52264, 7774, 61538, 28721, 41718, 38758, 73502, 19346, 67123, 70829, 18567, 5370, 46883, 58739, 28050, 74156, 59118, 34415, 4880, 29940, 1360, 639, 18382, 43144, 62444, 66471, 33581, 54738, 19037, 40580, 28827, 60595, 65607, 74123, 47291, 56184, 22530, 8873, 55866, 16185, 30986, 68668, 60229, 53400, 56289, 66657, 10352, 61714, 36275, 73211, 46281, 21538, 45881, 16471, 24181, 29255, 51917, 34068, 50757, 32555, 6103, 6087, 64265, 54134, 32806, 56093, 53523, 26118, 39108, 64229, 16985, 69369, 61732, 24101, 364, 27345, 44933, 33049, 70916, 46682, 36950, 60224, 59247, 13322, 35889, 45896, 16789, 57520, 42014, 71794, 57849, 66163, 8171, 47754, 23854, 653, 2761, 28484, 24972, 16905, 13969, 19784, 9010, 20828, 4329, 68834, 18271, 2049, 63732, 32948, 740, 42630, 60868, 56743, 11409, 65541, 32134, 7127, 43811, 40019, 3870, 47775, 51586, 16565, 52395, 65391, 38427, 19574, 73073, 12897, 28828, 57619, 59445, 15306, 47541, 76050, 54531, 37370, 11950, 44486, 16489, 61763, 8505, 27872, 33431, 63915, 27515, 53860, 11522, 75824, 11803, 46684, 22254, 21584, 23211, 36651, 61960, 5720, 24231, 29223, 24815, 71253, 59743, 42421, 38734, 15061, 14044, 23630, 22509, 27270, 71902, 40725, 49265, 62677, 57947, 43322, 67267, 51822, 40390, 7403, 24036, 4267, 58432, 66434, 64459, 7436, 19881, 50951, 43628, 29908, 68533, 16287, 10386, 52502, 73576, 61942, 57190, 27659, 73965, 75928, 55276, 51139, 65084, 48112, 76032, 18863, 33906, 47148, 15543, 46341, 48559, 23960, 12774, 8372, 23514, 8303, 24743, 53591, 39664, 41440, 44045, 57506, 10278, 40336, 51112, 61148, 9873, 31011, 9487, 72256, 10691, 43548, 62524, 38168, 24180, 74042, 54829, 11154, 66170, 25201, 9969, 43418, 25757, 62756, 43580, 205, 21344, 23300, 39137, 40578, 29598, 22125, 6439, 36134, 13944, 75360, 21894, 43853, 51128, 69130, 72553, 69100, 33625, 16775, 24920, 10416, 60591, 4119, 47262, 57550, 49644, 37448, 7640, 45590, 45071, 8486, 31920, 33388, 67703, 39370, 23899, 6805, 23019, 26047, 64469, 21285, 25424, 29299, 50771, 62019, 71108, 28544, 75710, 6225, 57702, 11356, 20096, 51714, 18884, 65269, 9282, 56285, 59092, 22526, 67899, 58819, 56381, 67092, 51623, 19757, 45474, 13781, 3789, 13, 75327, 40448, 61021, 26375, 27296, 41070, 52971, 42158, 30056, 2249, 54659, 29060, 20363, 67455, 20638, 49213, 22048, 27006, 33331, 22564, 5178, 58284, 11564, 69019, 15419, 48996, 31087, 67437, 21169, 10491, 1896, 26389, 43716, 63551, 42579, 74214, 45816, 27831, 65198, 40200, 9304, 20123, 72252, 36387, 49715, 55821, 73673, 67535, 65204, 52721, 76323, 65672, 28929, 71905, 37928, 73491, 10420, 58738, 35990, 62921, 58381, 63605, 45039, 37073, 33847, 39076, 37217, 63327, 24998, 72897, 39090, 58346, 37913, 15537, 43818, 73909, 27361, 8, 39467, 44436, 40701, 15026, 63987, 40618, 2967, 52314, 2236, 28246, 74896, 34029, 47503, 54543, 27718, 46695, 10444, 53341, 32583, 63801, 43354, 41127, 7969, 44619, 17251, 52541, 34500, 53338, 14635, 615, 42462, 35244, 57905, 15181, 62509, 42552, 16050, 27311, 72374, 12127, 56199, 35927, 53967, 56382, 67953, 12455, 56328, 24467, 49071, 63926, 9134, 56600, 54112, 1901, 33732, 61931, 34386, 25705, 3126, 48344, 43494, 68379, 44525, 50174, 39459, 3553, 42518, 12856, 57794, 24832, 4415, 74942, 35624, 62431, 68162, 69332, 60218, 36339, 14442, 67202, 67306, 9192, 33539, 60889, 28317, 25708, 57953, 40086, 3786, 17083, 54302, 19691, 75963, 38866, 40418, 19446, 62555, 37569, 36370, 72596, 47844, 7542, 65446, 4844, 26727, 26117, 2820, 34262, 3388, 67843, 60106, 66080, 57250, 45410, 62681, 4545, 3603, 18297, 53228, 16213, 25698, 36384, 68518, 18312, 48685, 26035, 25475, 74482, 28824, 41866, 15208, 67109, 12909, 29497, 38345, 34588, 9225, 17240, 56064, 73980, 66514, 52513, 48768, 65594, 53486, 8921, 62532, 69944, 18272, 39607, 67169, 67453, 5713, 57899, 13076, 99, 13011, 9631, 4260, 13750, 47802, 29918, 66361, 5316, 4321, 30243, 56787, 72812, 41612, 68238, 61973, 18491, 51358, 44953, 48658, 2218, 73060, 26151, 44984, 45336, 29151, 15598, 32537, 54878, 63789, 31956, 11555, 2613, 65749, 9077, 58566, 6066, 37265, 54221, 49228, 29178, 53205, 43266, 27024, 49731, 73655, 22836, 51118, 42648, 55470, 35612, 66877, 62822, 73559, 69691, 28030, 5556, 30182, 31316, 72521, 42963, 69852, 25696, 36308, 42997, 75364, 6811, 24343, 44042, 1520, 51625, 35627, 69351, 57924, 69258, 16656, 15785, 26396, 2153, 48689, 23819, 16445, 40904, 44522, 24176, 25180, 52819, 3767, 73315, 56885, 68312, 36765, 59230, 67074, 59550, 59668, 55084, 50274, 68018, 25666, 7725, 51936, 48454, 17084, 36712, 69338, 21452, 57056, 43855, 40510, 17117, 11659, 27861, 30945, 30407, 33587, 64392, 27679, 32752, 51791, 34024, 66896, 37661, 67422, 27214, 6935, 30147, 15186, 49106, 72423, 2572, 48762, 32161, 75379, 16503, 74693, 12246, 7268, 76104, 47566, 27039, 32180, 21067, 67723, 1001, 34509, 48207, 62930, 56900, 76211, 73864, 43625, 43004, 38009, 75103, 67057, 34546, 59096, 59410, 29309, 64838, 3901, 68760, 26778, 17296, 44109, 21679, 36154, 67882, 9782, 69624, 34808, 67403, 72317, 32607, 52547, 43746, 26560, 37997, 13318, 1908, 6047, 11140, 2705, 1371, 59284, 25713, 53707, 36017, 62238, 32735, 68513, 69415, 45835, 43403, 31636, 19832, 9586, 10863, 74370, 42985, 1704, 48872, 45871, 22756, 5442, 30826, 152, 74039, 60990, 12659, 23238, 37691, 67795, 14690, 42115, 67342, 34734, 47513, 9388, 41019, 26567, 66229, 39545, 43478, 55781, 27594, 26582, 40082, 36267, 72497, 31986, 46966, 58622, 48276, 33297, 62763, 67448, 30149, 36150, 65455, 51389, 13697, 25639, 74553, 22649, 61878, 10481, 56217, 54668, 47623, 9973, 66402, 42214, 43228, 31846, 38938, 18976, 23040, 36630, 6678, 74866, 36845, 35918, 9840, 44677, 64068, 73420, 31541, 16577, 64649, 10451, 50212, 62919, 57385, 10242, 72617, 45295, 6928, 46957, 53125, 64304, 68276, 63326, 71663, 1690, 25320, 27284, 48319, 49433, 41044, 2991, 48695, 29646, 41695, 1737, 51317, 28382, 48593, 48488, 20009, 41693, 66670, 63032, 2559, 32224, 11269, 17230, 69893, 34896, 70206, 43847, 2473, 8225, 59008, 71820, 62635, 18226, 18307, 8320, 28782, 20847, 20583, 19360, 22379, 41665, 58152, 69264, 64685, 49580, 32712, 45874, 63739, 14079, 19973, 43499, 48308, 74580, 61829, 28038, 70007, 67310, 24522, 55097, 74937, 53925, 39631, 76049, 7188, 2145, 60277, 44900, 3056, 2634, 20515, 44799, 1177, 67593, 43556, 30989, 16896, 46462, 14548, 31070, 34887, 39589, 46449, 40392, 11454, 37021, 22182, 55841, 36783, 23589, 24093, 46837, 5360, 14689, 55563, 54594, 33211, 12034, 1417, 74823, 23347, 25164, 22086, 70796, 69579, 29073, 43578, 57565, 14078, 60242, 20856, 11200, 68034, 28157, 26207, 7393, 73675, 56865, 43935, 60847, 19016, 49930, 37955, 39133, 23128, 31946, 30590, 57945, 15498, 49052, 38309, 7373, 28215, 68891, 39965, 2845, 20566, 66278, 16713, 73809, 64290, 26049, 29392, 32369, 17938, 58342, 55928, 10666, 10383, 74306, 29360, 37130, 17624, 16735, 9182, 2793, 69908, 54934, 57191, 71669, 51647, 47223, 3099, 49884, 27856, 63241, 62186, 44322, 36006, 41299, 55320, 10823, 18444, 35710, 69488, 57834, 10205, 64730, 64228, 49921, 53431, 66738, 42980, 17863, 18237, 30752, 12091, 64921, 7349, 52284, 34470, 71011, 13157, 35073, 19692, 647, 14429, 48911, 71907, 32203, 8568, 32167, 45489, 25544, 40155, 53143, 65167, 41425, 22928, 69950, 24682, 36023, 31695, 14061, 28100, 29078, 42451, 35621, 66872, 58787, 20364, 14673, 50587, 61965, 36966, 15474, 51590, 15083, 8453, 62510, 33864, 44825, 41689, 66650, 36901, 5133, 28455, 16930, 56791, 61679, 31790, 46360, 54827, 35127, 40318, 69911, 19915, 59298, 12560, 55318, 59091, 15744, 5941, 16625, 65886, 10257, 21858, 37654, 35707, 52995, 61480, 69688, 39341, 26050, 36213, 12577, 18934, 3247, 28063, 26992, 18288, 6183, 31587, 35709, 32009, 47699, 40763, 69501, 7906, 70924, 21727, 70248, 28487, 28872, 49339, 65954, 45911, 6423, 67979, 65760, 68333, 55065, 11313, 58809, 207, 42659, 63211, 26818, 58867, 41999, 31412, 62520, 45127, 36009, 42716, 71075, 40609, 67501, 66305, 19025, 42190, 24744, 32118, 20005, 52791, 11421, 40940, 26086, 70680, 69657, 6843, 61245, 24636, 71475, 60951, 25259, 61075, 64013, 36987, 3907, 62658, 60679, 4129, 61581, 70605, 68365, 31340, 16740, 2278, 50483, 48759, 67381, 63095, 19531, 72789, 11621, 73668, 67466, 8157, 68279, 16584, 10432, 47002, 53616, 2132, 20608, 47025, 52573, 35255, 45947, 18930, 10528, 74788, 17486, 52681, 25463, 55692, 12524, 9513, 29446, 6409, 13690, 67716, 29875, 60811, 59761, 74326, 53391, 8082, 58421, 46552, 41378, 12295, 39065, 57580, 54890, 64801, 34539, 38035, 68819, 67043, 25377, 8988, 15501, 64933, 42684, 63980, 49516, 44276, 32568, 34391, 28223, 52591, 24354, 24391, 4263, 18067, 76121, 39278, 28547, 3433, 71962, 70512, 52172, 15082, 42127, 65819, 75021, 72050, 53582, 56551, 12591, 33959, 65933, 60377, 34649, 27815, 44360, 2435, 3797, 45069, 2119, 58436, 6119, 4712, 35813, 39900, 57740, 734, 6353, 13664, 61433, 67800, 27644, 32988, 74443, 5797, 21677, 40328, 26646, 57851, 62789, 50392, 30391, 12742, 19047, 56221, 27534, 19390, 9501, 69168, 25947, 58155, 26281, 29145, 24312, 21764, 74158, 75418, 62488, 27892, 38958, 28729, 35681, 13956, 42706, 17936, 71007, 13367, 22432, 57766, 8964, 33752, 47920, 48381, 63751, 20651, 8650, 52167, 30136, 75774, 36075, 55386, 25657, 61633, 1637, 55947, 43090, 3058, 20279, 19637, 46743, 486, 15917, 26896, 19157, 24643, 35154, 1270, 8551, 59662, 52034, 59141, 24973, 31786, 19278, 45372, 16586, 7333, 44860, 1796, 55107, 31940, 1890, 72126, 46609, 44589, 26760, 17485, 5549, 66593, 58069, 45333, 44495, 66499, 49784, 31551, 37450, 67133, 69121, 48461, 61284, 2716, 26287, 62059, 33268, 60186, 52729, 23217, 41225, 28299, 12906, 27842, 36732, 64561, 14838, 23171, 59731, 47919, 8838, 12691, 60222, 2801, 19492, 74530, 3100, 31139, 53350, 41276, 43073, 27788, 43916, 18814, 9852, 36848, 22256, 14322, 2340, 36125, 34367, 58430, 71550, 5525, 74324, 69405, 41398, 22430, 50489, 34154, 27524, 489, 12823, 49886, 16803, 58129, 75604, 37303, 17542, 63109, 64372, 15545, 9086, 66867, 75691, 37591, 56084, 4484, 39301, 36658, 32365, 47634, 52712, 43104, 22613, 12358, 28997, 76193, 46972, 75291, 68435, 38959, 41346, 5900, 46860, 72155, 60455, 16453, 33006, 30633, 72120, 15295, 27706, 9259, 72206, 9695, 32360, 16593, 20881, 47744, 56173, 21261, 56575, 21889, 71149, 73082, 73911, 25348, 76199, 25905, 7109, 43375, 11541, 36396, 37899, 19382, 34684, 72027, 54893, 24802, 59558, 58985, 16327, 19329, 20080, 16924, 39542, 48840, 62956, 13206, 13880, 6606, 54596, 2019, 9460, 102, 57586, 28886, 49413, 4053, 21150, 52119, 3261, 2719, 1038, 25593, 71466, 52481, 26446, 55800, 12877, 19744, 76059, 11060, 373, 52241, 61867, 29257, 28257, 2684, 62617, 32900, 37340, 43456, 66073, 73174, 30499, 1706, 12424, 50409, 71000, 39391, 47183, 30382, 75432, 70728, 45708, 23173, 75492, 64671, 2144, 1482, 64617, 57692, 63770, 9971, 9429, 69380, 17813, 5118, 12289, 74674, 36482, 9770, 3580, 56171, 25898, 2464, 63564, 58852, 46742, 13465, 61637, 63790, 34431, 47494, 39162, 55507, 6209, 63887, 1003, 63026, 40122, 25039, 25176, 4658, 62897, 55975, 31423, 46445, 310, 5530, 32444, 18139, 57314, 53409, 10658, 14301, 41609, 61669, 61036, 56487, 29909, 33177, 38550, 54283, 73352, 65063, 18885, 41839, 75473, 54774, 49444, 10464, 52107, 58035, 5441, 62576, 61447, 46540, 40271, 65468, 64253, 24517, 48707, 19283, 30677, 43489, 40839, 4101, 6018, 40911, 34358, 14875, 7207, 64308, 2733, 74747, 70061, 32746, 54618, 73512, 71395, 57167, 20276, 66356, 67240, 32612, 18686, 74556, 50559, 68436, 22236, 55372, 57709, 63339, 27836, 11151, 62054, 61080, 46650, 71115, 40222, 57785, 37018, 58004, 3555, 20902, 23163, 633, 13521, 74222, 65271, 73772, 75906, 5287, 58536, 29794, 65236, 52348, 3091, 66772, 21813, 55565, 11920, 64809, 32541, 63345, 57300, 52719, 58022, 68090, 54662, 19608, 16078, 7508, 32065, 35517, 37519, 65662, 46496, 59686, 18680, 30980, 65406, 603, 25649, 65318, 41927, 39692, 5600, 33826, 52019, 38331, 8546, 11829, 4019, 46785, 48853, 35295, 33255, 74949, 68010, 63612, 47575, 41810, 4738, 54393, 9879, 59806, 68837, 56969, 50043, 51372, 67476, 45450, 23783, 60871, 43640, 40804, 49255, 58992, 53021, 22560, 29093, 53548, 27295, 916, 52235, 67144, 49090, 72014, 61186, 15001, 70964, 60241, 30883, 74221, 37479, 61326, 38583, 8687, 62255, 11374, 60006, 20686, 58093, 5195, 70137, 23490, 6248, 42075, 68873, 33907, 7472, 10551, 18289, 22200, 19556, 37192, 54699, 63179, 21298, 24459, 7116, 14748, 27954, 73231, 46759, 17391, 51954, 28286, 8909, 24620, 74148, 43991, 40544, 33475, 5347, 18219, 20307, 56931, 52508, 26866, 48206, 27518, 67244, 3422, 27668, 46565, 33996, 18563, 75875, 13175, 9514, 50503, 4823, 751, 17905, 13303, 7608, 8718, 53758, 18024, 33456, 48825, 20175, 65441, 69795, 41065, 1518, 72081, 41896, 39728, 67773, 31716, 60592, 20889, 75005, 38317, 75800, 63282, 41303, 54117, 21578, 72239, 42618, 76336, 20963, 35186, 57372, 35406, 54846, 24085, 12460, 74038, 8653, 18942, 13392, 2621, 38435, 53858, 22055, 31399, 64627, 18123, 6713, 62722, 30409, 57260, 23921, 74906, 22542, 26000, 57433, 47710, 30417, 18111, 40682, 54471, 27344, 30816, 21690, 47036, 12061, 39751, 64961, 46535, 49302, 241, 42651, 56434, 34453, 43661, 18055, 18425, 41763, 15690, 56045, 55103, 29052, 3067, 67514, 73068, 34082, 66750, 47973, 74566, 43644, 47226, 11099, 26998, 5011, 44904, 75545, 63001, 21272, 29429, 34737, 12563, 14195, 72500, 7261, 6952, 71206, 30376, 43012, 45963, 26208, 55295, 45353, 1794, 38071, 75283, 29246, 50268, 22574, 10086, 6560, 31211, 8953, 8926, 71348, 69438, 9555, 6155, 58580, 39410, 70791, 14601, 62191, 73180, 71424, 64724, 52823, 56498, 63506, 14156, 49360, 59149, 44824, 56583, 62457, 50985, 21416, 46714, 18363, 9114, 70083, 18163, 74647, 14992, 57149, 67365, 47395, 70288, 43267, 58382, 37959, 71174, 15742, 18341, 75930, 12016, 51393, 72533, 46258, 69970, 4978, 59494, 14724, 36082, 9148, 3271, 12391, 58899, 25352, 36953, 37891, 19501, 65699, 9084, 73741, 60572, 49223, 25394, 59344, 39504, 66559, 26418, 32949, 8282, 9803, 17273, 25335, 4603, 211, 56009, 74020, 4654, 13078, 35620, 1715, 15479, 17535, 67925, 53395, 64664, 45556, 74593, 49400, 26162, 37207, 19780, 41691, 73683, 28793, 8127, 34324, 10314, 29007, 26441, 59721, 37067, 10207, 6131, 11678, 3064, 35682, 18908, 37786, 37845, 12354, 45278, 66097, 71935, 29182, 28213, 1820, 37889, 5113, 62782, 32445, 51460, 38526, 24742, 18599, 11996, 14294, 5060, 50490, 12851, 49122, 10399, 50074, 48753, 30390, 25864, 35623, 62442, 49790, 56749, 11844, 55699, 75479, 12350, 41744, 72659, 31498, 56811, 68889, 38625, 6126, 13701, 42144, 31719, 7730, 74914, 45244, 69647, 26578, 18483, 69940, 6733, 25319, 17708, 35327, 58100, 53833, 46590, 40845, 54613, 21099, 24786, 24307, 45112, 6815, 45505, 44945, 752, 33247, 64164, 20672, 64555, 27804, 73924, 61502, 64816, 49870, 42690, 19473, 12398, 6458, 52154, 9816, 71986, 26550, 72974, 20869, 21381, 35877, 60047, 31341, 37625, 32351, 10455, 44889, 54380, 56542, 46436, 39693, 39380, 19137, 36194, 36142, 63128, 64061, 57323, 55508, 70945, 62570, 52948, 23980, 43179, 7623, 11494, 73278, 74337, 73567, 11468, 8845, 1248, 73334, 53194, 53457, 57075, 66744, 19659, 29063, 74760, 65746, 36205, 1194, 49188, 58928, 63736, 31808, 50568, 18217, 48546, 31982, 25115, 69413, 52665, 48403, 21503, 62000, 55267, 31350, 53757, 42972, 10667, 32906, 55466, 21759, 49121, 1387, 57910, 11748, 31537, 39105, 24594, 14370, 11677, 50315, 67316, 34895, 26172, 13685, 74825, 21014, 42965, 18502, 31218, 50323, 11307, 22313, 52660, 4290, 60322, 61971, 9616, 73503, 60026, 3596, 3117, 9432, 27023, 66652, 16555, 26516, 68328, 11888, 39158, 55304, 54319, 70689, 73168, 29121, 40810, 53954, 64011, 27033, 74228, 715, 39061, 23509, 59446, 39698, 18432, 23084, 53907, 18269, 32709, 21057, 39903, 3575, 2387, 63614, 54704, 18572, 6799, 63249, 21346, 64995, 838, 68942, 35248, 54639, 61701, 64397, 15073, 75267, 66537, 34109, 60523, 37747, 51797, 43374, 38093, 51738, 1595, 34004, 55533, 52897, 43287, 52500, 930, 50377, 73982, 10773, 17433, 59507, 29321, 41385, 47051, 49301, 68498, 19536, 55858, 54088, 4861, 41835, 64173, 54186, 37334, 53181, 68356, 73913, 12878, 56330, 35005, 50215, 65779, 59882, 68928, 17913, 24072, 4475, 15870, 45376, 9412, 18045, 50902, 1914, 7174, 48304, 27253, 5869, 39417, 27325, 62374, 46117, 33371, 46711, 38588, 20338, 67717, 63750, 46077, 70751, 38000, 33831, 29250, 70677, 59937, 72661, 7784, 17626, 22120, 10458, 4326, 15770, 9915, 65052, 44934, 23944, 44752, 9206, 62332, 2479, 21864, 1226, 16283, 14608, 53837, 19894, 6187, 44970, 31406, 30001, 67315, 64100, 29450, 40280, 34028, 68475, 15437, 21617, 3566, 11782, 48527, 14168, 55017, 61626, 25970, 61452, 20961, 17496, 63627, 34967, 22306, 61885, 14819, 44077, 34522, 52253, 19638, 56625, 62685, 47838, 27528, 8715, 25006, 35985, 60410, 43087, 68375, 62088, 25668, 8274, 44275, 72804, 40093, 53028, 31395, 53107, 54654, 71804, 5652, 45780, 47357, 63291, 57021, 19239, 36032, 65357, 49594, 9469, 39447, 31990, 31467, 25179, 7566, 40028, 36985, 32345, 37227, 57030, 67998, 28287, 38599, 6623, 44999, 20617, 32216, 2407, 7371, 10531, 36976, 64572, 68561, 26398, 33263, 4121, 31594, 37678, 19078, 54300, 25192, 17156, 37082, 38322, 5223, 4029, 25413, 25862, 20344, 21037, 54008, 50746, 62413, 8455, 69659, 40522, 16698, 58573, 75256, 34993, 47430, 30632, 48851, 73701, 14298, 5108, 9286, 2001, 7438, 51715, 43424, 43335, 11480, 13067, 8143, 19752, 60548, 26765, 49740, 20930, 64088, 18802, 52321, 69882, 27812, 37291, 6506, 8585, 73840, 70706, 67335, 22777, 15468, 19423, 27180, 53635, 59283, 49821, 35769, 54633, 30875, 59577, 6043, 25559, 7815, 3129, 22985, 7088, 53735, 4858, 29575, 3421, 21561, 67408, 39856, 21465, 628, 10542, 49037, 72531, 20593, 64668, 6850, 49246, 43299, 15367, 34094, 16491, 13296, 52762, 65090, 52612, 62316, 38238, 66688, 65753, 30535, 68020, 51258, 68835, 67329, 29372, 37240, 42235, 69050, 22423, 7869, 25297, 29849, 20116, 17709, 59512, 18407, 1899, 51067, 12458, 49103, 23092, 56227, 37953, 59836, 23209, 52157, 65180, 40094, 65263, 65292, 21675, 16267, 63390, 67377, 63039, 667, 59914, 44012, 63198, 8847, 27940, 6663, 40901, 32645, 60072, 53995, 20043, 76270, 50001, 63162, 3016, 29061, 34994, 33259, 39686, 44808, 25779, 14705, 72197, 27502, 6660, 61478, 26873, 45138, 55227, 54948, 21052, 70097, 39307, 17668, 62917, 1944, 66418, 73952, 48087, 35321, 41022, 25734, 58349, 43642, 34266, 47924, 73202, 45044, 30992, 21318, 17772, 31621, 62493, 53898, 28861, 1658, 20059, 6010, 28186, 35338, 19384, 14880, 20463, 42383, 67262, 18101, 70238, 49332, 2056, 11168, 11039, 33046, 30361, 9524, 76022, 63950, 63318, 36035, 33160, 48587, 37132, 24193, 28451, 69273, 58716, 42657, 64678, 29302, 6200, 19315, 75715, 7863, 35725, 37516, 33790, 24021, 72205, 21493, 30880, 26753, 30935, 53648, 23959, 45177, 7912, 11575, 6006, 63700, 23145, 56239, 73521, 27010, 41464, 67510, 5845, 58327, 26955, 53410, 44385, 74944, 67955, 22000, 11070, 15752, 17136, 70950, 10780, 73357, 12081, 72607, 63208, 31889, 73041, 71955, 71559, 20543, 47055, 17887, 61409, 50648, 39104, 11964, 49104, 74675, 36540, 66632, 32580, 6191, 912, 10972, 68186, 63864, 71941, 203, 72501, 3176, 11543, 37254, 10032, 55983, 60428, 75199, 67283, 30405, 23206, 39514, 28205, 10319, 73706, 31733, 72049, 17343, 53124, 60728, 41997, 9492, 16712, 19840, 55546, 54197, 37246, 48721, 62529, 29619, 3914, 30119, 66800, 19684, 69239, 45534, 64189, 73389, 69330, 7142, 37350, 3652, 35402, 52478, 55171, 66992, 33052, 43527, 73065, 68066, 44777, 32700, 48147, 44912, 38605, 36784, 54690, 58726, 25814, 45445, 69094, 34460, 48526, 55479, 21509, 55016, 8866, 17068, 17179, 45070, 75593, 28515, 16153, 53173, 11030, 66326, 46678, 31748, 69026, 38022, 4999, 9484, 16157, 38340, 28448, 55917, 52012, 22211, 21440, 39922, 23133, 29941, 38171, 5368, 71268, 50153, 75257, 61700, 75631, 5294, 69132, 61464, 29578, 65316, 51216, 68583, 61492, 74833, 52535, 23964, 6499, 15462, 57742, 71662, 51808, 60405, 22707, 35258, 14073, 33995, 35316, 10028, 29119, 54847, 71153, 19827, 48014, 501, 33809, 62661, 50666, 63141, 16984, 42277, 37962, 7797, 11411, 10387, 65653, 74302, 59032, 61282, 38990, 51899, 37501, 73680, 56640, 34626, 73188, 50427, 76105, 9197, 40619, 13084, 46779, 18633, 39416, 45027, 47589, 73348, 68863, 36490, 70444, 69355, 70026, 29856, 4306, 57088, 48232, 65072, 76159, 43545, 63633, 47941, 49709, 65698, 60648, 12265, 46178, 59598, 75601, 37182, 51655, 8371, 35203, 13978, 25621, 53715, 70893, 4015, 11649, 58954, 63099, 11808, 60670, 50863, 10039, 25633, 23981, 75814, 70814, 51293, 15639, 74948, 31578, 44906, 53003, 17650, 26662, 28308, 16648, 51103, 61143, 17315, 21739, 50477, 40830, 72408, 19723, 43383, 3354, 39339, 55115, 55112, 38951, 36297, 53660, 28869, 63245, 61185, 39462, 50561, 56923, 41764, 48339, 8370, 54083, 71473, 5255, 43612, 7616, 54487, 69694, 57654, 28518, 16989, 270, 9466, 23853, 28877, 71908, 30077, 62941, 2099, 20943, 54280, 71527, 31079, 15428, 32470, 46174, 23434, 5726, 27697, 13807, 10176, 7509, 60268, 45791, 70820, 19727, 22018, 12713, 10256, 53283, 44359, 55326, 14668, 35280, 29097, 25357, 2762, 40504, 56376, 19871, 60589, 66401, 65114, 48480, 18211, 53326, 45785, 13842, 51834, 38195, 5509, 13403, 9532, 50953, 38982, 29931, 48606, 49076, 71575, 61689, 46959, 29165, 54142, 18424, 6441, 54361, 15762, 29344, 33118, 57999, 64115, 73904, 12907, 37271, 61303, 72226, 18569, 69886, 50500, 8138, 19922, 71682, 63880, 49161, 20048, 32622, 31160, 59432, 62880, 61463, 41166, 22214, 50684, 60906, 2511, 55995, 50616, 45322, 18788, 44788, 31775, 45102, 23846, 11327, 30800, 30087, 40112, 350, 48395, 73653, 18733, 48513, 13936, 25504, 27257, 55532, 64012, 37735, 72403, 35626, 16393, 36698, 61719, 7286, 6324, 31703, 20086, 21259, 36486, 50051, 14659, 68736, 51181, 33285, 7167, 31309, 12365, 5174, 24686, 13905, 51345, 43584, 50679, 73593, 40356, 9647, 73775, 53977, 6726, 2883, 74571, 63369, 38308, 39192, 28780, 69771, 39053, 17335, 74959, 51180, 25548, 12114, 37409, 27545, 10200, 14177, 73108, 54643, 4542, 17761, 35913, 44545, 4571, 42617, 49024, 49241, 17038, 4958, 68408, 17845, 25318, 36511, 75428, 9774, 72512, 66171, 47152, 8818, 61349, 28881, 48379, 11581, 13700, 28386, 24237, 39793, 27065, 4802, 46099, 66915, 29649, 51150, 58186, 51547, 65207, 53497, 59137, 21576, 3442, 9158, 28772, 39614, 71015, 17521, 43894, 13589, 65513, 75155, 1784, 47567, 40260, 7760, 64918, 12159, 380, 28155, 43334, 15491, 47299, 75734, 40204, 20462, 9717, 29723, 30296, 15099, 50110, 6380, 24310, 25431, 2013, 25566, 37480, 62987, 15716, 60885, 68730, 262, 35894, 27125, 33989, 68858, 4311, 21115, 26153, 54097, 18313, 18535, 16207, 31535, 45504, 44552, 65742, 62317, 2710, 10537, 49408, 62237, 666, 68331, 75946, 1839, 11647, 15189, 76129, 73158, 44367, 74970, 38993, 24692, 1441, 49272, 22832, 29947, 13186, 71904, 54224, 8923, 74985, 11149, 33205, 28256, 71569, 63167, 33804, 63056, 33315, 47975, 30834, 20011, 43520, 57173, 19654, 24858, 56664, 24378, 15015, 9024, 62966, 72838, 59488, 33322, 5423, 28940, 45287, 58619, 51218, 39709, 58643, 13026, 54219, 20709, 1701, 17255, 17605, 75748, 72179, 40218, 27827, 66616, 28203, 40414, 36601, 2590, 51360, 32881, 14299, 52133, 37736, 6054, 36707, 50686, 45327, 30659, 56205, 61048, 48933, 24033, 70839, 70160, 4392, 71964, 11639, 37154, 74034, 58357, 73366, 63933, 59788, 71790, 71712, 11657, 58413, 23591, 71534, 30525, 54250, 44768, 28551, 75527, 59131, 6827, 34838, 74391, 46971, 32321, 61643, 55957, 32556, 38578, 19407, 63826, 22174, 32891, 28501, 68128, 48829, 46637, 12193, 56809, 10650, 44180, 16513, 5741, 14833, 41427, 51383, 48390, 34284, 3081, 6829, 36959, 49610, 41857, 26234, 56594, 21589, 37368, 3939, 23926, 32357, 20421, 30774, 25751, 39226, 66273, 34242, 62099, 48728, 25808, 24138, 35820, 9542, 61518, 70879, 38730, 4149, 52664, 50564, 18465, 1072, 64244, 24150, 58824, 16136, 64956, 65634, 6645, 76204, 73246, 69700, 41796, 32425, 39711, 42568, 26330, 23086, 76166, 21478, 65674, 57778, 75623, 41422, 66658, 48131, 57286, 39074, 50554, 44208, 63609, 1005, 60499, 73416, 62232, 2296, 12341, 10146, 48655, 3574, 61205, 12746, 55930, 35170, 65106, 51282, 73474, 68827, 67006, 1265, 4014, 20883, 55018, 29471, 20417, 33767, 38091, 70010, 11451, 35099, 32302, 57248, 51788, 5218, 71506, 4554, 11798, 13993, 9756, 51381, 33418, 32417, 33634, 50711, 33449, 41630, 63111, 3746, 30039, 8200, 12616, 24495, 10952, 52933, 55247, 61747, 5230, 244, 52317, 54966, 37051, 25773, 5992, 60439, 64964, 18758, 335, 36407, 3478, 66451, 56671, 39038, 14611, 58748, 12576, 39234, 22927, 70675, 16562, 67748, 42376, 4108, 6359, 15064, 58911, 3013, 64812, 22525, 2796, 344, 34128, 33291, 13810, 40262, 32199, 50858, 30713, 29600, 38992, 13117, 19244, 3607, 40338, 16004, 69401, 75304, 45844, 4245, 22188, 58309, 36416, 9682, 53689, 42840, 16123, 5911, 57096, 67741, 20093, 18585, 32139, 10346, 68228, 71862, 38358, 36289, 1320, 14596, 20368, 8328, 36237, 8978, 57739, 24259, 66050, 75882, 40677, 45760, 63800, 65518, 60035, 1422, 6250, 27877, 31127, 1157, 44969, 25895, 26296, 4786, 64750, 11944, 25740, 52625, 755, 15247, 69141, 76065, 73086, 49134, 54649, 73690, 60091, 54888, 14436, 14945, 16943, 1865, 70882, 60714, 3327, 39602, 12781, 53347, 16460, 34702, 57022, 8075, 38823, 57351, 34708, 25085, 11230, 12786, 62075, 246, 70055, 31287, 40837, 49555, 72176, 68937, 47670, 51828, 6787, 14475, 11483, 70159, 38252, 29986, 40592, 1200, 54206, 7005, 53722, 11235, 62997, 20136, 60985, 34293, 37688, 53522, 8841, 76272, 39126, 63396, 38314, 38681, 40939, 10671, 3837, 64534, 4894, 75208, 13879, 20561, 57122, 24121, 72918, 2661, 71937, 50530, 47943, 55867, 15848, 18069, 34972, 19578, 74153, 74338, 70167, 73376, 75688, 74765, 38895, 40777, 7315, 51818, 5746, 23396, 7201, 10570, 24560, 36832, 23757, 20607, 37667, 43662, 18439, 71312, 72294, 61851, 38456, 60921, 22925, 64965, 71709, 22149, 12163, 28450, 22746, 49618, 63594, 48439, 75657, 58061, 63643, 53487, 74950, 61899, 12299, 42139, 25199, 2947, 59961, 10947, 16920, 4762, 52204, 53384, 42575, 30757, 42084, 49765, 11404, 17361, 46283, 32582, 10317, 51247, 62324, 4565, 58215, 22951, 70326, 3391, 31190, 75809, 45764, 15714, 7614, 43, 53172, 31987, 38706, 30798, 69244, 56606, 48261, 3431, 69738, 31381, 47863, 66380, 43439, 53434, 35121, 71341, 76256, 52104, 1834, 55194, 52416, 538, 49285, 10429, 14822, 67946, 37410, 12301, 41816, 53675, 29322, 40967, 53456, 56374, 69701, 68577, 9818, 45615, 5248, 18046, 10675, 56808, 39550, 32940, 54070, 33726, 4539, 50454, 33737, 35565, 60611, 40962, 75718, 70944, 38890, 44143, 65026, 41154, 56492, 66611, 9887, 8976, 30591, 14802, 17015, 68097, 42919, 61609, 19451, 35836, 27367, 16425, 48212, 29563, 18001, 19410, 30751, 37599, 23275, 66152, 14882, 29515, 70897, 30841, 55976, 7119, 66109, 65569, 11823, 67175, 18497, 41814, 72118, 56358, 2138, 19525, 55001, 15812, 6156, 53414, 68032, 65504, 26700, 57848, 40737, 73091, 71003, 20601, 69170, 39027, 38075, 67957, 17963, 70057, 60692, 69103, 4418, 43533, 19600, 64489, 52552, 67959, 36488, 23277, 11568, 28546, 14150, 24366, 31584, 13151, 35732, 52017, 58849, 63735, 37978, 48942, 73608, 67341, 58654, 52366, 65379, 59104, 18518, 17528, 33242, 65387, 22865, 48614, 63061, 4837, 45643, 5225, 11512, 3518, 49992, 1009, 74714, 21339, 7886, 72885, 8405, 9390, 8353, 19231, 13344, 58676, 20477, 47664, 68558, 58759, 9704, 60779, 56864, 6885, 45842, 16689, 8449, 63403, 45812, 61661, 19607, 47311, 64713, 24634, 60325, 69664, 20252, 50494, 551, 44460, 72362, 35271, 49672, 28168, 51953, 18794, 24994, 4382, 71570, 33823, 59663, 57439, 8354, 53088, 55168, 38182, 41925, 38361, 72242, 41182, 69219, 38892, 54611, 4547, 18656, 74877, 1676, 16139, 65737, 22227, 19655, 73986, 53531, 23038, 10485, 40109, 46015, 62574, 66145, 26766, 28661, 69406, 47319, 7852, 33750, 44334, 46019, 40119, 30494, 41975, 21095, 15815, 75980, 28035, 47506, 56648, 56415, 48486, 72847, 49259, 8994, 11554, 63120, 2873, 75073, 67547, 38676, 32889, 40842, 34447, 923, 34361, 5167, 70869, 36191, 10215, 71283, 74082, 70798, 25442, 54056, 30825, 22323, 42050, 5651, 60789, 22721, 40010, 22088, 31895, 1086, 41084, 40913, 25990, 63126, 18559, 24305, 7370, 38954, 51730, 42489, 71495, 19548, 29023, 7987, 52365, 61096, 7777, 27492, 65132, 54188, 40206, 15407, 13431, 43669, 19389, 66315, 71449, 51108, 22273, 48523, 58700, 54650, 42821, 51816, 21728, 44888, 52298, 58110, 57614, 36638, 36429, 36338, 64177, 53207, 34016, 25380, 36269, 18581, 42361, 62018, 30706, 62164, 59647, 22289, 50453, 2860, 65057, 43002, 64911, 49659, 9525, 28170, 22687, 11979, 73942, 51817, 16273, 31805, 58417, 74798, 22053, 53467, 67570, 32308, 2862, 60666, 2252, 10917, 30905, 56427, 66024, 8598, 24264, 67113, 11619, 74258, 32034, 68766, 56580, 43554, 36442, 8843, 69608, 57035, 59034, 75045, 28345, 12486, 10878, 6859, 9686, 45096, 25592, 44269, 24763, 7050, 22862, 29183, 37244, 18478, 38805, 57894, 17768, 58081, 59314, 53764, 32536, 60948, 60943, 42072, 16792, 48436, 18114, 24453, 36388, 56357, 66129, 32301, 1209, 68269, 59481, 18215, 55464, 51644, 23045, 38700, 13220, 12651, 40269, 53746, 74653, 41096, 13957, 31105, 67525, 53869, 51188, 32942, 18202, 27315, 7989, 51054, 69681, 16855, 49560, 36833, 68787, 41312, 39970, 25794, 73431, 19054, 13194, 32155, 16940, 68002, 9250, 50193, 63562, 21000, 23823, 12308, 47286, 41366, 29324, 18561, 73338, 70595, 17505, 48931, 515, 45165, 74812, 23276, 58476, 28294, 25303, 28047, 10435, 43696, 45328, 23748, 44534, 19553, 10874, 63186, 33568, 22507, 54860, 67441, 20735, 17832, 53234, 37481, 55554, 71840, 73434, 56232, 66902, 41729, 35010, 8644, 21325, 1735, 59151, 12760, 168, 43182, 13776, 54884, 14435, 10208, 40183, 75704, 29307, 15266, 51827, 25149, 48267, 8507, 59272, 50787, 50184, 27800, 44117, 19695, 58804, 49270, 27193, 48785, 2834, 21040, 71931, 19661, 8823, 45710, 44020, 7808, 15891, 21407, 64260, 1813, 22063, 18348, 39760, 26042, 41812, 33672, 35831, 56706, 27505, 18194, 25399, 35533, 3537, 504, 48927, 12324, 10049, 11984, 75475, 46591, 7945, 68517, 59376, 37139, 51618, 15925, 72977, 73577, 24361, 8822, 35201, 14809, 21683, 49535, 303, 74243, 29749, 49416, 74595, 55057, 19995, 62718, 20049, 41362, 72219, 38436, 63639, 34898, 32908, 25489, 15800, 59368, 69261, 67288, 76349, 7092, 35806, 60254, 952, 63043, 50233, 31989, 21494, 58235, 37215, 36319, 3598, 2580, 30682, 42667, 30911, 71601, 71286, 46776, 29034, 4920, 41277, 3468, 36183, 58018, 2117, 45250, 12747, 48178, 43256, 20450, 20584, 51419, 60820, 36389, 35335, 74280, 6876, 69537, 43704, 59722, 44073, 65436, 23734, 63648, 50901, 72817, 987, 15227, 36421, 64636, 26124, 518, 18892, 16882, 4566, 54247, 4567, 47489, 62689, 40240, 44309, 48854, 3994, 1124, 28555, 9713, 9558, 26891, 474, 7377, 2442, 32532, 36860, 63328, 13854, 35344, 72233, 16777, 14281, 35523, 10929, 23656, 13633, 42138, 65659, 18543, 31090, 44262, 57197, 62516, 8548, 74591, 30727, 9621, 22037, 34624, 24817, 1284, 18856, 32705, 24103, 42638, 54788, 37836, 76002, 45996, 64278, 59228, 17254, 11425, 15241, 183, 26453, 7220, 35952, 36153, 12406, 24404, 40214, 45555, 74777, 27783, 69907, 46899, 51492, 56675, 57514, 70056, 28362, 38553, 2419, 64053, 51755, 44182, 24240, 35435, 71470, 17506, 58131, 13471, 51325, 68665, 60941, 41159, 11674, 44016, 26496, 49748, 22692, 12612, 40898, 1950, 76072, 11429, 76080, 68067, 48649, 48105, 37391, 35278, 49604, 55441, 31478, 58377, 64752, 74761, 15124, 67812, 13388, 36750, 73011, 21130, 31311, 8019, 31024, 12260, 22787, 70889, 31897, 36353, 47842, 67601, 67769, 33699, 33761, 69446, 47366, 29835, 28856, 57002, 1069, 23614, 32558, 12195, 23416, 4247, 38316, 33337, 28320, 64049, 49194, 28282, 16621, 73359, 45792, 72320, 38907, 19330, 45650, 54223, 1096, 29531, 4217, 29498, 73116, 54130, 46573, 24005, 25759, 67323, 70789, 61041, 23059, 32774, 55030, 27094, 33577, 29484, 32341, 42470, 51564, 11718, 10162, 16320, 3082, 51222, 34643, 42195, 25774, 12820, 34421, 9122, 42103, 11031, 13550, 66660, 73497, 68337, 31759, 4503, 74646, 57633, 31208, 11736, 57509, 34209, 17951, 72948, 4540, 67090, 13558, 49737, 41972, 39905, 36277, 62770, 45542, 38343, 19733, 44743, 7780, 16214, 62157, 60362, 38103, 62065, 29943, 26911, 47723, 57243, 67968, 56028, 23835, 48700, 32389, 3721, 20313, 45446, 76198, 18192, 12757, 74314, 59013, 57214, 30639, 29700, 54777, 57903, 22455, 54259, 72075, 13435, 12263, 69366, 65561, 37199, 14316, 68330, 70895, 30833, 75848, 728, 27059, 75381, 59212, 26392, 34215, 7384, 75397, 45550, 46891, 7502, 12958, 26252, 11582, 6789, 30300, 14069, 57045, 1141, 67451, 57519, 10731, 40221, 16154, 26270, 14657, 28181, 65971, 20845, 4404, 75068, 70100, 57533, 19721, 73594, 48310, 66244, 32186, 67549, 64154, 50035, 52916, 67505, 40857, 54522, 28791, 40498, 41960, 34059, 71795, 6323, 8033, 41903, 3707, 72886, 19928, 50745, 43930, 35896, 72853, 3328, 21080, 65857, 25927, 64556, 11516, 42685, 7077, 43508, 15007, 45026, 34006, 68095, 59508, 42393, 21158, 11279, 62034, 66803, 17385, 38957, 7042, 47562, 26054, 37317, 48327, 74852, 63223, 36403, 26457, 13164, 12152, 66373, 4577, 35747, 67945, 62674, 61003, 12609, 747, 15497, 55647, 28407, 54623, 27754, 17712, 43997, 59375, 68767, 32996, 69898, 20523, 26740, 18616, 53633, 44654, 4754, 54227, 69809, 47217, 42501, 72467, 3042, 10967, 41525, 30572, 19163, 15018, 53811, 12726, 14794, 1347, 22877, 20409, 7318, 74240, 40350, 32615, 7489, 19911, 16794, 16341, 34365, 15756, 75591, 71771, 69122, 67077, 37336, 52099, 52480, 54495, 16969, 62396, 48227, 9007, 73835, 68763, 72162, 69252, 64453, 4826, 50980, 63931, 55703, 37034, 30966, 17370, 16827, 49480, 23316, 27530, 74559, 9712, 6098, 42903, 9287, 30979, 24746, 46204, 61336, 47085, 14341, 73170, 24194, 34308, 759, 22196, 33803, 60381, 18195, 50038, 48720, 22262, 34891, 64940, 65251, 74797, 17862, 71851, 40889, 65141, 42479, 10956, 71185, 39412, 28025, 6269, 11405, 40503, 35479, 33086, 72721, 17663, 41108, 8195, 45782, 18631, 33467, 68779, 14362, 74873, 59879, 73438, 53284, 25464, 32652, 9535, 21632, 12650, 45728, 30577, 49914, 51050, 4172, 37614, 5943, 65221, 49566, 18230, 70532, 48621, 61514, 49432, 54602, 59798, 32576, 55384, 38738, 2765, 55241, 43083, 12184, 21896, 39118, 55073, 23985, 59797, 18655, 39837, 72675, 64758, 11596, 12617, 57770, 68926, 36657, 62820, 63533, 49139, 41191, 32933, 55580, 70805, 40004, 56237, 64172, 62833, 45137, 19960, 65505, 71040, 27322, 69307, 67642, 1339, 10137, 55139, 12198, 16038, 25718, 7527, 36811, 27962, 13623, 10240, 13659, 71367, 53540, 67224, 6495, 56869, 71415, 46421, 9496, 71282, 72808, 11510, 2089, 33584, 26069, 60507, 2773, 2724, 72097, 75857, 63733, 63204, 4652, 75894, 37474, 18252, 46246, 50131, 13732, 27471, 47168, 67374, 18091, 4928, 6741, 70467, 50134, 48599, 29853, 44548, 1405, 23743, 57671, 34287, 70079, 4649, 54442, 54954, 2919, 40632, 10785, 66266, 31055, 6300, 62498, 22689, 74422, 37116, 19280, 36701, 24705, 55534, 2057, 46541, 17754, 75183, 44043, 58870, 32704, 213, 6086, 65134, 17987, 48063, 39815, 19737, 18248, 61018, 41103, 35439, 71408, 66040, 3814, 41651, 10085, 32086, 53442, 3688, 56001, 28328, 73804, 9923, 41696, 29146, 25103, 67143, 49405, 66397, 61253, 69390, 15304, 66377, 247, 2599, 36713, 35313, 24872, 26484, 29884, 9297, 62093, 25251, 14059, 41113, 63955, 24371, 37057, 51073, 40608, 25650, 65018, 44464, 46371, 70163, 66524, 63114, 47434, 27905, 54795, 21536, 34809, 38523, 212, 22814, 71720, 47333, 57165, 74131, 37153, 9270, 28649, 38690, 16424, 10632, 20171, 58877, 6927, 60838, 57490, 33651, 6241, 25729, 2459, 44515, 34030, 34691, 2238, 5791, 34541, 64882, 62672, 34625, 6500, 14145, 40594, 21492, 46042, 32079, 34428, 33897, 5259, 48283, 59079, 71278, 49933, 24221, 48376, 29677, 46640, 63071, 75534, 59264, 6920, 42908, 57145, 40689, 72741, 7811, 42526, 23407, 2552, 66074, 73346, 57338, 76108, 26786, 16461, 67824, 37236, 39906, 65248, 55111, 31907, 57507, 68965, 57233, 20499, 22145, 11259, 44765, 30460, 11382, 52622, 42505, 62392, 53282, 60345, 33172, 17347, 47834, 49250, 933, 15561, 12508, 64946, 28822, 14368, 51164, 44747, 9362, 73066, 38939, 44822, 53575, 74626, 71620, 73966, 42753, 62290, 18218, 76019, 88, 73901, 33313, 54449, 2617, 50921, 50050, 55785, 48003, 26935, 48431, 70015, 43258, 51998, 62432, 58854, 58471, 15255, 74973, 27674, 16362, 53036, 35420, 26295, 15522, 15447, 47855, 41376, 75249, 74190, 59846, 69937, 5403, 14864, 72796, 25218, 73153, 19736, 59342, 54433, 72707, 3189, 16701, 66220, 20246, 27765, 58813, 17481, 512, 24191, 23983, 68719, 72413, 63719, 33506, 27256, 38925, 25972, 55345, 74328, 37677, 68429, 10637, 16536, 24019, 38634, 15141, 40313, 40160, 32011, 63973, 73404, 64382, 24878, 37500, 54824, 29221, 73489, 12284, 14143, 34964, 20061, 27670, 69575, 36140, 49353, 23180, 34114, 73295, 31226, 57741, 27752, 33618, 66439, 18011, 7382, 38804, 2018, 70312, 70713, 32288, 31006, 13204, 15041, 54045, 32043, 20254, 27709, 60090, 20169, 12905, 14110, 55934, 28373, 3760, 33183, 65320, 22401, 53580, 16781, 36593, 37877, 64773, 59493, 45090, 37014, 60367, 1217, 17356, 56528, 63173, 10512, 67936, 33150, 59017, 55752, 16427, 4132, 39315, 44942, 14012, 14486, 75997, 33364, 9222, 22805, 18178, 6620, 39591, 53452, 11571, 16191, 32765, 68803, 8348, 46855, 42917, 2978, 51119, 66088, 17110, 8137, 33526, 50558, 63793, 12589, 34091, 29443, 8091, 4583, 56450, 72402, 67797, 70516, 3560, 30620, 8119, 4233, 50421, 30561, 53552, 19632, 37518, 9806, 21694, 10252, 17946, 40021, 27340, 26932, 53275, 55585, 49438, 42366, 53823, 66641, 9870, 38640, 44666, 17422, 69216, 7359, 39245, 9402, 74234, 16618, 60585, 57901, 18434, 56925, 47365, 21195, 11786, 33550, 29005, 58306, 72139, 56546, 14803, 75597, 27922, 50100, 41717, 55791, 17956, 75001, 29361, 56041, 37122, 30020, 17578, 56627, 27792, 2513, 27307, 66408, 37417, 63288, 37896, 21297, 2453, 56586, 1208, 75646, 19674, 61416, 25152, 2843, 2199, 5421, 47543, 55230, 36120, 14119, 61389, 63666, 18637, 71574, 9939, 45240, 40976, 23139, 41684, 42310, 49430, 72545, 5260, 5249, 23097, 6948, 40342, 18270, 21165, 2159, 9820, 48279, 72077, 64458, 66987, 71050, 75791, 21096, 74869, 68946, 67557, 1451, 64256, 46319, 27474, 4562, 17177, 75123, 67251, 57521, 45389, 44785, 38563, 18023, 4975, 36127, 40871, 57087, 3573, 26693, 72577, 31167, 70381, 60065, 64927, 23138, 2009, 44528, 11212, 50371, 44834, 41481, 6501, 9890, 38229, 18396, 19512, 10740, 14289, 75556, 20962, 46600, 41711, 17279, 7937, 2, 35140, 1767, 33043, 73607, 31150, 19050, 35871, 43658, 7435, 10781, 5438, 66288, 45825, 49390, 13709, 16592, 24967, 66484, 21672, 11469, 65270, 14861, 69075, 7973, 12053, 27247, 50612, 22307, 71791, 4322, 36839, 73267, 20063, 38952, 12306, 3028, 48961, 14541, 55172, 51742, 228, 41161, 67127, 15624, 32883, 48318, 60797, 33019, 58572, 42957, 45067, 57078, 5578, 72187, 2039, 6797, 42740, 70147, 3235, 51439, 3672, 4536, 5844, 64006, 18659, 71035, 55974, 57680, 4474, 9185, 61715, 27047, 53067, 64075, 72346, 19012, 14760, 55226, 72875, 31376, 11650, 51375, 19045, 64271, 65800, 51663, 25630, 70781, 55348, 7012, 71685, 11717, 69582, 41634, 12309, 43198, 13122, 58352, 13926, 40568, 30290, 25390, 61665, 41825, 63416, 5169, 33552, 50312, 49978, 68387, 44926, 72429, 23530, 1587, 18282, 17421, 60431, 24471, 48866, 30257, 26806, 28005, 23187, 48562, 28092, 16326, 18953, 68885, 25778, 75998, 37954, 34022, 42968, 24982, 25922, 22559, 643, 21081, 30109, 14827, 3636, 74293, 3723, 20701, 41105, 28179, 34148, 32664, 7664, 26417, 6494, 41490, 11705, 2094, 75038, 67538, 71321, 4193, 8770, 75202, 44351, 68720, 41621, 34950, 52429, 27489, 5828, 21236, 1829, 42730, 57421, 60703, 72758, 11963, 42358, 7065, 12880, 75874, 66793, 76037, 4870, 28619, 60275, 6522, 40974, 58450, 69463, 47867, 42570, 6440, 53388, 5473, 56883, 57804, 47655, 15029, 65395, 43453, 67429, 55288, 68640, 54201, 68144, 34406, 74242, 20774, 74998, 65986, 5012, 15729, 55333, 8521, 15853, 55567, 73178, 57682, 63093, 69091, 44767, 49548, 63192, 34551, 54766, 37762, 40220, 19989, 67324, 3281, 6687, 43802, 370, 35672, 25641, 2364, 72609, 68245, 64789, 33605, 66213, 19089, 22443, 68110, 37527, 27859, 44620, 9648, 13640, 34003, 33120, 61291, 64167, 72530, 75583, 51778, 56052, 46657, 33000, 14089, 45629, 51304, 54013, 59117, 36728, 5175, 37600, 52488, 49454, 35910, 63777, 40706, 21, 34865, 45368, 20721, 52531, 30860, 60296, 69772, 57753, 44209, 18776, 7430, 38735, 27508, 73573, 55499, 29651, 17923, 66815, 27685, 75237, 68758, 29154, 3749, 28766, 40335, 43784, 23370, 28830, 10280, 52243, 49492, 8848, 64202, 13083, 18461, 64073, 23486, 37539, 7835, 11009, 11732, 75647, 17549, 76221, 65859, 31319, 76157, 56793, 18644, 59392, 4106, 54598, 45332, 74891, 47390, 71053, 71218, 74652, 21709, 21529, 58926, 58499, 56168, 55327, 64596, 19343, 41322, 16081, 16240, 3440, 43775, 63860, 35542, 44454, 75872, 39650, 15896, 8854, 22581, 51793, 60540, 29174, 46013, 73044, 1750, 72214, 36204, 55667, 74651, 74649, 74536, 72443, 25476, 72141, 31782, 29191, 8029, 1019, 62122, 75859, 11110, 22922, 34585, 47565, 9060, 64740, 68866, 8125, 19300, 10625, 2346, 29555, 9748, 63057, 53477, 49034, 56813, 52379, 34514, 54110, 56903, 18602, 32749, 11578, 20237, 32029, 76092, 35993, 44547, 42146, 19202, 16037, 63448, 57783, 15094, 1121, 43950, 31157, 41916, 50146, 26085, 35169, 26665, 21324, 20478, 70349, 40493, 28809, 19456, 45006, 46425, 57992, 12632, 12459, 7063, 52768, 52288, 5681, 8903, 52419, 22407, 75040, 49724, 62072, 1122, 55941, 54388, 66111, 26225, 45187, 69676, 22035, 37372, 28426, 51598, 59051, 45797, 29964, 73863, 45582, 74495, 47636, 52233, 64560, 22213, 24073, 11481, 36538, 27899, 25969, 28084, 73078, 72920, 1776, 53052, 61592, 56400, 61828, 15117, 73672, 27617, 1323, 30220, 51548, 59871, 17175, 73281, 11637, 40079, 36553, 36517, 39842, 73167, 34877, 55682, 43380, 55778, 28550, 10737, 71727, 4085, 36817, 21809, 67454, 14, 38126, 57925, 61439, 66008, 32299, 57762, 21760, 54768, 76053, 25095, 41967, 50887, 45140, 59703, 23665, 18703, 38999, 15601, 32931, 73473, 65085, 24809, 52329, 27981, 57101, 13028, 61230, 22212, 38911, 25939, 72972, 49699, 58067, 26263, 16535, 37387, 75026, 72419, 57435, 27479, 41804, 31909, 61953, 50845, 5353, 24462, 43518, 67376, 62261, 28965, 32446, 121, 21184, 26005, 73700, 40447, 52879, 61842, 52281, 20088, 56851, 7108, 26266, 32164, 52521, 17165, 72602, 69819, 24711, 24348, 38536, 47927, 66452, 20003, 55700, 59720, 54105, 1617, 75122, 52525, 18339, 5915, 43468, 24058, 21251, 14318, 1117, 65297, 47910, 27183, 20115, 70181, 43039, 5735, 61074, 62446, 63502, 30899, 24260, 31170, 20202, 10730, 36085, 48500, 514, 31028, 34815, 24478, 13759, 53772, 32918, 43292, 71391, 4774, 71081, 52854, 41383, 17266, 56083, 29227, 51928, 52739, 2084, 57013, 57926, 29859, 64374, 48408, 8912, 56015, 37259, 25067, 49940, 18627, 57700, 11294, 9029, 57802, 54786, 40995, 30924, 26946, 62359, 44859, 56753, 51802, 32119, 41451, 68206, 30102, 4483, 64175, 22978, 2034, 25868, 46877, 44839, 69084, 54730, 54811, 32151, 41936, 48668, 52014, 32682, 57906, 5014, 16226, 38806, 41958, 72968, 10467, 48703, 13294, 29977, 75844, 32091, 70268, 32914, 153, 17597, 49181, 29482, 53251, 50802, 63897, 57564, 26219, 17295, 75654, 58521, 6641, 30418, 28305, 17231, 57773, 6444, 25869, 11413, 57070, 38773, 63084, 62723, 71353, 50703, 25277, 2137, 74583, 64864, 51842, 8434, 42394, 22963, 3633, 27830, 21751, 75763, 21422, 70636, 4244, 49912, 47174, 3390, 35204, 4146, 33530, 43670, 4862, 48209, 21026, 60337, 22205, 30468, 43224, 65501, 4353, 44496, 51291, 65466, 5755, 73451, 38948, 27785, 31123, 3493, 34740, 55627, 73220, 11007, 22489, 52627, 1293, 56214, 11806, 11928, 42939, 4403, 55008, 23417, 46464, 73083, 5043, 42311, 43832, 1920, 65217, 20316, 65149, 60984, 48920, 72057, 75877, 42483, 25984, 26226, 33434, 41887, 18104, 44100, 68248, 9707, 12674, 60809, 64136, 13121, 56977, 13680, 36654, 17995, 37197, 41948, 52272, 8477, 42202, 63537, 25980, 19339, 14778, 20442, 38183, 21070, 54344, 21353, 24062, 17702, 75959, 44512, 9127, 53533, 5787, 72340, 59, 53892, 53408, 35343, 21015, 28848, 33202, 21362, 10456, 20236, 29025, 55461, 37426, 16899, 75092, 59851, 47538, 5299, 69111, 32456, 10778, 23130, 45186, 49688, 7817, 46323, 61775, 63469, 30108, 70078, 71314, 57554, 11091, 14999, 41187, 55483, 762, 29358, 54500, 39433, 73725, 3373, 55852, 40249, 12113, 33048, 41418, 68775, 60476, 19524, 19440, 13086, 6395, 1333, 69523, 8625, 53368, 45624, 35, 4331, 71155, 23108, 67227, 20814, 35081, 39987, 36443, 76274, 55702, 56584, 11113, 63330, 50850, 63981, 8285, 68039, 68173, 68073, 16183, 75495, 50442, 47776, 8680, 1450, 32854, 10350, 72849, 31025, 58868, 49738, 42359, 40153, 61110, 67145, 8787, 54476, 59257, 24519, 56651, 32738, 75217, 8183, 20550, 13343, 23368, 51607, 29059, 38975, 19312, 57662, 7450, 4036, 21757, 60005, 21807, 49376, 49363, 53693, 48252, 65351, 63961, 41827, 30025, 13045, 7210, 71659, 43541, 2698, 35356, 15674, 50177, 64303, 71883, 21402, 3854, 68996, 3634, 5466, 51686, 50357, 69477, 19875, 46163, 24639, 32314, 29219, 15946, 11237, 14268, 71402, 6137, 76275, 39295, 51567, 43544, 35757, 38090, 1668, 10250, 53550, 45492, 35449, 43386, 44820, 28589, 70843, 52942, 22433, 52086, 56035, 6509, 70327, 14722, 71497, 61740, 39030, 45473, 71983, 26013, 18927, 53844, 55939, 36397, 11645, 71857, 34959, 14335, 63716, 70073, 6166, 25148, 18209, 71288, 12327, 18587, 6198, 36110, 61799, 49542, 37150, 68191, 30489, 43160, 21246, 44023, 41078, 39440, 68679, 29930, 56517, 38299, 24274, 49793, 65946, 47369, 34348, 36899, 5841, 64498, 44075, 46278, 32554, 61431, 74471, 17360, 68861, 76205, 69678, 71956, 65373, 32185, 29734, 22536, 10126, 6268, 28586, 14940, 26654, 8609, 8121, 29356, 39484, 8730, 22304, 55361, 27778, 65265, 59976, 14620, 65803, 42632, 57512, 30216, 66534, 16533, 54149, 4772, 74142, 44821, 6530, 47308, 27640, 52522, 13669, 72145, 23999, 59807, 65883, 64272, 2449, 58124, 30813, 8446, 45941, 1393, 19099, 15927, 74751, 33509, 76262, 37861, 5135, 24931, 70712, 40772, 14839, 55694, 47465, 69045, 38960, 54050, 39920, 22026, 43576, 31326, 10254, 17373, 61399, 46671, 8408, 5159, 44838, 53280, 4185, 74692, 63119, 19770, 22210, 63890, 70047, 10645, 24688, 34288, 13780, 51113, 2692, 4897, 44074, 55823, 33047, 46896, 14704, 9948, 48305, 39528, 62581, 66217, 45892, 47486, 68263, 48886, 74346, 30096, 27043, 50119, 59711, 35947, 56726, 39769, 4200, 37366, 16294, 75169, 75670, 48343, 30294, 65576, 52165, 70527, 1428, 44282, 72618, 32728, 9048, 24032, 65619, 74322, 41767, 13494, 74320, 53040, 69655, 74818, 8678, 17184, 34988, 24656, 1048, 17107, 19005, 72366, 69125, 52267, 64472, 33604, 22846, 3053, 73923, 50067, 72565, 22397, 35048, 19299, 52274, 16631, 12578, 57833, 72744, 13796, 38491, 12607, 20724, 23365, 3655, 36043, 46533, 6085, 30901, 22021, 32983, 47951, 10696, 66406, 68540, 69979, 52193, 17869, 36351, 18391, 24376, 52663, 3382, 18710, 29807, 54953, 66633, 55923, 44452, 51289, 60780, 55544, 67709, 22625, 11630, 1247, 35227, 19585, 4792, 68346, 63976, 62179, 62064, 58509, 35526, 48223, 2936, 42176, 55795, 75357, 17842, 72003, 19007, 45811, 17325, 10832, 17919, 67735, 41083, 25331, 24895, 39182, 51370, 50726, 72212, 4167, 70523, 68391, 41342, 13924, 12658, 35153, 25026, 3133, 38393, 65882, 30500, 9018, 12769, 71422, 75577, 68407, 58837, 61290, 18364, 11525, 36777, 32172, 430, 36422, 46881, 39914, 50869, 1389, 64056, 14053, 37506, 40757, 67502, 33805, 46066, 67789, 13329, 601, 53614, 24836, 6192, 39164, 32263, 35535, 51763, 30801, 33197, 15395, 72544, 2659, 6124, 20582, 36056, 71963, 14193, 21610, 64343, 17834, 59808, 55979, 66009, 10116, 68585, 28109, 48248, 55848, 3617, 70338, 12541, 26733, 69993, 38893, 50248, 49621, 16762, 9218, 44297, 44601, 13071, 25726, 58269, 44656, 43409, 38223, 26122, 15206, 55435, 32461, 29886, 44162, 39054, 33338, 17890, 21524, 66198, 54357, 14908, 13359, 43308, 54451, 36040, 49677, 37305, 20873, 27684, 12073, 68934, 59219, 69633, 34073, 8536, 14239, 52212, 32995, 38067, 59513, 9593, 60052, 46925, 32877, 72146, 19132, 11606, 73930, 17900, 58951, 53459, 58276, 58361, 55160, 68646, 59441, 45929, 43186, 75582, 58302, 32992, 10300, 22984, 46850, 18325, 52781, 71156, 959, 59885, 4917, 3835, 67991, 23410, 9767, 22459, 37922, 51739, 8495, 22772, 54116, 32719, 12237, 6912, 34531, 8900, 66958, 30529, 36334, 26168, 47690, 2170, 47381, 63681, 36413, 13864, 15621, 7707, 20311, 19583, 12689, 75868, 60544, 16260, 36380, 43395, 13484, 48608, 65625, 13942, 52069, 34363, 50733, 51461, 76152, 42987, 63994, 55982, 67870, 59839, 23917, 32862, 55969, 63194, 49559, 57661, 12693, 67669, 32509, 70506, 31705, 63941, 1645, 6793, 45201, 33774, 31372, 46754, 35300, 73581, 55487, 571, 54271, 9859, 68586, 965, 21669, 44968, 55927, 4365, 66306, 36274, 9095, 36293, 516, 42694, 65492, 26256, 16953, 7242, 40916, 42496, 65201, 57902, 73642, 47953, 17271, 48983, 71615, 56451, 46961, 27596, 23802, 18378, 3443, 43791, 59223, 62517, 32005, 15810, 62761, 33224, 39771, 30704, 51997, 49175, 25669, 70520, 73238, 17858, 31100, 18582, 40009, 68521, 59241, 74686, 33200, 72626, 27774, 9111, 72101, 19602, 25037, 72193, 50258, 67623, 74474, 43437, 71861, 56591, 51952, 39950, 8570, 60734, 44005, 65902, 36229, 68464, 8233, 41932, 29975, 36115, 52258, 20324, 14275, 27017, 69934, 40990, 17292, 7721, 73069, 71399, 60848, 11016, 47839, 20578, 59678, 16879, 1627, 42177, 30017, 46333, 1097, 49244, 12134, 49001, 34687, 68282, 20752, 72654, 34779, 5099, 27904, 74599, 38274, 3432, 38832, 72008, 54491, 67498, 60998, 30060, 55043, 36283, 47875, 72643, 53204, 5331, 45407, 77, 41496, 41255, 5814, 20435, 5188, 59203, 37586, 27731, 53910, 44257, 15662, 74758, 68701, 1104, 32539, 43503, 9763, 3818, 31668, 18625, 46327, 12845, 23177, 26452, 14852, 46800, 19493, 58532, 1740, 4663, 15563, 47335, 34110, 25049, 7191, 53873, 30510, 30018, 70191, 19833, 14528, 30668, 58861, 43485, 28280, 202, 57371, 45035, 4995, 71131, 69326, 75630, 42161, 53981, 54138, 64688, 62535, 18182, 54971, 22688, 53841, 31606, 7017, 24915, 71539, 65985, 74924, 68929, 44441, 49210, 56336, 25710, 63135, 63383, 21313, 15833, 71073, 26645, 52950, 8462, 53524, 17151, 62490, 44145, 74520, 56253, 26201, 61376, 26391, 27834, 61724, 61667, 74545, 9248, 5776, 12540, 56127, 16351, 18530, 49440, 28736, 68336, 24446, 66010, 48484, 60739, 29848, 40065, 43366, 39596, 29045, 58159, 32294, 14723, 39645, 17871, 57886, 13191, 68709, 73856, 73628, 9203, 53990, 46002, 69137, 3221, 17411, 51950, 74451, 47665, 6636, 49683, 27050, 66072, 53685, 66414, 9423, 31405, 26119, 57665, 30, 24824, 30714, 18469, 67289, 24119, 41054, 50251, 39198, 62109, 8305, 3801, 33912, 27923, 44948, 73131, 59727, 50272, 15391, 29648, 49392, 59366, 35601, 36222, 4250, 39701, 7454, 11991, 71708, 69711, 29582, 72491, 27481, 27276, 45729, 22785, 25229, 50820, 75192, 54622, 24353, 28331, 27273, 60353, 35840, 60887, 6253, 8100, 73137, 40212, 53588, 43903, 59490, 1218, 929, 8586, 1007, 26190, 23036, 7933, 22192, 19707, 27419, 34586, 70400, 31569, 71863, 63097, 41574, 76351, 24541, 3665, 12264, 61244, 35183, 278, 36098, 42482, 60565, 48398, 27435, 57681, 30353, 6262, 54744, 17484, 12377, 56699, 50908, 50393, 53063, 25609, 16663, 27895, 57436, 58686, 1021, 15814, 40507, 58179, 72218, 60406, 3534, 55725, 65603, 4449, 52146, 62086, 74794, 63276, 67108, 59596, 68684, 32362, 67774, 11213, 17538, 25554, 5854, 43206, 2961, 39333, 1992, 24017, 26501, 46157, 15113, 16560, 55184, 20028, 56105, 47752, 5083, 32830, 10066, 67233, 23789, 35066, 65191, 70374, 28409, 57501, 63121, 8229, 42571, 24302, 59944, 69830, 16685, 12940, 20546, 66972, 22809, 6276, 68728, 64377, 43477, 53714, 46287, 9406, 29371, 69592, 75674, 48096, 23848, 8663, 11032, 44913, 45261, 13517, 21215, 16007, 18440, 35231, 19561, 27903, 22891, 16097, 48516, 68189, 54258, 53136, 779, 70493, 54728, 1814, 44222, 10172, 9622, 57562, 30830, 8623, 73855, 48654, 18542, 20763, 50455, 21468, 17687, 42522, 19199, 6421, 70308, 29914, 38697, 69764, 19796, 49038, 13235, 68366, 51674, 50187, 71676, 20194, 75539, 47601, 69767, 16289, 2656, 43199, 48989, 26165, 36679, 13207, 16774, 41165, 29445, 13299, 8604, 59845, 31915, 33628, 70376, 45299, 61905, 54529, 71743, 16129, 34080, 23462, 65678, 22929, 70591, 30747, 40775, 21974, 60055, 31778, 38133, 2323, 69354, 12392, 55774, 20433, 33356, 26137, 26408, 49669, 55169, 41559, 2554, 66294, 35229, 52010, 9268, 56156, 74342, 14027, 22007, 51077, 47819, 30150, 2526, 1384, 16285, 57559, 67271, 1277, 29951, 2639, 46479, 28075, 21637, 18757, 28655, 2472, 950, 21442, 66496, 74129, 31932, 5538, 10495, 24704, 38510, 42715, 54903, 37576, 20388, 2997, 14592, 2809, 33956, 60781, 29037, 72781, 61259, 44144, 2485, 63515, 10712, 11134, 73676, 54081, 50515, 66836, 43901, 60892, 18793, 71819, 29806, 70243, 42958, 4064, 69583, 75969, 14364, 51198, 68297, 29057, 60154, 57988, 58815, 62548, 50509, 52730, 65125, 20738, 56315, 50108, 41944, 71229, 26258, 13635, 10013, 74004, 51850, 43766, 51645, 15298, 29895, 41075, 60542, 35407, 69148, 71368, 33278, 72052, 21435, 71159, 29380, 47853, 16199, 11241, 45176, 876, 15993, 62270, 74010, 17122, 67061, 9224, 52141, 16401, 31276, 48143, 20255, 65094, 22301, 45851, 21602, 17841, 35562, 26235, 66826, 34640, 52820, 39983, 34939, 131, 25903, 3557, 57777, 3492, 7047, 64121, 35729, 2987, 50192, 5736, 43758, 4150, 20262, 46274, 51883, 69649, 1238, 11666, 38702, 73703, 65534, 54281, 49757, 62056, 47003, 14610, 26874, 69275, 56383, 74625, 52957, 2366, 63070, 37311, 32193, 11587, 25586, 11729, 1300, 5494, 60099, 6151, 58946, 72306, 67129, 48038, 13546, 31916, 75548, 61704, 51346, 63082, 53779, 44779, 4699, 24792, 73568, 4789, 55762, 41699, 15334, 36906, 73973, 52979, 68057, 41371, 61420, 33763, 24867, 45058, 56220, 71255, 61783, 71638, 4189, 57637, 19905, 27494, 16381, 31012, 51098, 8752, 6571, 37155, 40340, 17564, 27052, 6700, 43154, 74174, 36852, 71751, 32126, 40023, 2688, 54974, 19958, 41773, 23137, 33747, 70241, 12105, 52007, 30736, 48167, 4313, 21352, 74967, 4664, 49281, 49582, 48258, 73817, 61400, 27335, 9681, 42456, 49075, 25767, 64493, 50047, 925, 29107, 8938, 56964, 3824, 54865, 68292, 13820, 52441, 59007, 19475, 59528, 39007, 1759, 67198, 944, 54828, 60430, 45131, 72979, 16571, 39089, 27029, 46262, 38943, 3927, 27171, 7995, 69144, 17836, 1496, 24140, 27349, 72655, 22076, 51829, 55307, 73852, 62739, 45960, 74872, 73882, 18359, 45256, 22518, 36458, 57496, 46839, 24350, 73339, 68468, 19729, 53716, 14144, 4936, 22972, 71349, 51923, 40416, 36910, 31400, 21146, 28464, 9676, 40765, 22370, 34054, 20361, 39485, 32880, 15142, 8134, 3932, 18760, 64221, 64243, 48548, 42284, 56917, 59824, 19032, 41723, 57268, 43317, 19967, 47831, 52453, 48591, 10683, 43454, 75520, 19117, 45412, 23931, 23626, 52850, 13554, 23852, 30603, 34043, 36687, 59124, 45424, 41310, 45351, 46549, 72463, 69108, 30206, 8238, 5276, 52330, 55674, 54617, 72178, 65289, 57296, 71343, 47256, 34712, 45695, 73377, 41962, 17065, 1725, 26711, 58670, 68207, 13023, 52401, 23951, 61995, 295, 18094, 72069, 11931, 51983, 16186, 25279, 46124, 24230, 62874, 15703, 38113, 44957, 18216, 33204, 63483, 28666, 34593, 29810, 15710, 6824, 43937, 32892, 47443, 45136, 20911, 7633, 12777, 33705, 63674, 343, 3227, 62205, 50809, 52863, 65374, 30769, 11642, 70667, 65627, 23623, 41449, 72208, 38781, 44197, 24654, 68990, 18629, 43722, 49964, 49657, 60446, 18773, 1396, 55269, 43869, 61108, 46943, 44989, 47234, 41448, 43740, 74309, 33527, 32979, 60769, 28917, 27584, 13042, 68246, 67641, 34050, 59701, 69522, 70394, 24154, 37178, 59978, 53244, 61726, 37439, 7674, 13607, 29622, 38042, 16317, 24603, 9834, 3459, 13512, 25877, 50201, 30524, 7056, 37292, 26051, 35674, 40718, 45313, 31048, 64790, 65991, 68082, 70335, 19937, 36721, 24718, 46911, 34548, 73571, 36088, 54830, 19550, 3747, 18958, 10686, 32902, 22881, 27972, 67764, 24355, 53705, 35485, 65805, 13687, 3288, 51673, 6104, 17189, 59469, 15261, 34792, 68433, 69609, 8862, 10926, 6088, 55294, 45579, 40091, 65649, 32515, 20358, 66771, 62861, 12088, 7068, 73713, 63085, 10441, 9851, 54061, 73912, 7059, 1738, 51410, 15312, 42401, 30174, 20245, 43517, 66919, 14747, 38483, 23210, 50920, 68939, 24677, 18521, 3177, 32591, 39865, 42517, 27328, 47798, 21834, 18865, 32235, 44566, 46432, 45702, 68457, 54178, 5840, 54749, 75962, 62760, 29081, 60590, 26199, 23875, 43862, 42947, 47595, 76276, 21599, 71995, 1761, 18546, 56420, 53214, 50040, 26628, 62691, 12873, 1308, 75205, 54371, 43833, 72931, 10092, 10306, 17461, 64203, 42899, 53279, 73481, 41853, 18847, 50150, 60164, 13160, 39389, 1056, 38818, 59036, 72671, 58697, 72485, 49891, 33281, 24025, 67705, 47326, 19994, 50273, 31286, 64504, 14715, 9802, 7706, 11446, 67035, 10112, 41010, 23389, 35058, 73705, 56661, 28562, 66842, 52407, 61796, 2219, 71759, 25611, 2840, 13909, 30421, 66735, 25932, 13115, 73157, 49439, 30154, 8965, 11074, 68545, 58168, 2958, 61049, 20896, 52421, 59384, 14214, 61928, 66054, 6553, 33233, 56418, 8226, 73917, 35547, 25506, 22058, 63952, 68950, 36650, 23943, 21446, 48329, 40193, 54133, 51142, 51873, 53106, 13937, 55235, 14851, 46768, 67679, 60394, 57449, 6226, 56781, 31545, 16866, 19993, 7605, 44585, 61019, 53468, 5719, 70857, 76203, 45088, 57916, 54989, 60289, 22578, 13965, 8605, 24576, 69623, 9208, 23564, 1746, 39789, 10021, 34152, 70359, 26549, 37720, 7294, 4938, 30163, 2551, 69198, 24592, 20750, 53348, 65174, 3049, 13374, 47075, 69086, 11050, 26949, 54911, 75985, 45620, 25679, 5734, 19121, 34932, 60122, 20191, 63170, 62783, 51912, 10359, 17876, 26487, 47312, 7590, 64538, 30298, 30637, 42399, 25664, 30363, 34422, 15333, 27825, 64909, 59913, 63424, 17907, 30315, 27976, 66328, 25832, 64905, 62513, 46965, 58112, 32621, 24358, 17574, 68631, 58236, 40678, 3687, 28672, 76116, 43162, 7925, 46631, 6333, 25781, 7861, 55093, 64799, 62105, 15806, 8111, 18110, 41664, 46389, 75547, 11907, 14288, 40343, 70223, 29047, 49180, 44625, 61923, 28585, 25063, 30466, 57310, 12175, 46642, 13619, 50499, 15321, 72417, 7537, 18608, 62931, 11857, 28493, 59680, 75080, 52404, 4797, 4237, 75746, 35746, 17090, 41087, 37887, 13952, 30926, 40794, 14319, 53843, 55185, 37449, 24258, 28389, 76309, 34340, 22373, 37693, 37998, 4846, 36610, 39538, 66773, 2434, 67967, 5878, 9902, 9683, 65451, 22614, 11709, 67424, 12361, 12922, 24912, 75458, 51603, 20536, 34848, 10757, 9246, 9795, 21741, 33161, 43871, 15743, 47010, 38759, 49539, 50826, 21626, 30672, 34387, 31227, 49824, 17129, 2471, 11710, 22952, 46861, 57828, 3844, 39727, 12833, 36304, 75293, 11702, 1915, 11344, 70153, 42663, 15485, 1148, 76280, 30908, 14905, 11181, 41390, 35265, 43742, 51903, 71769, 65502, 48080, 49591, 15564, 52837, 62598, 35973, 40928, 11577, 67742, 62571, 69555, 5990, 36847, 11172, 39260, 70927, 62696, 28686, 49351, 45959, 17539, 16900, 50009, 37755, 35608, 24368, 10769, 49632, 14014, 27294, 11045, 961, 30509, 62940, 24131, 4746, 67284, 60336, 35039, 13193, 40024, 41531, 73812, 56775, 32370, 56956, 32551, 43513, 18387, 74375, 75411, 58881, 64582, 35062, 25337, 64156, 8451, 62167, 69496, 25721, 74645, 72305, 74634, 3600, 60280, 309, 41976, 52540, 67924, 71829, 62594, 33070, 11957, 20688, 34974, 39508, 30251, 39232, 11466, 1981, 9984, 21490, 52599, 18105, 38451, 60991, 26635, 75059, 34537, 12846, 1783, 30199, 56314, 75933, 46300, 38615, 62842, 50760, 23967, 67012, 13479, 23355, 39982, 2101, 19732, 30670, 27210, 50795, 44899, 33461, 41645, 60857, 21227, 76136, 30737, 12029, 38647, 73101, 13489, 33544, 28840, 3108, 46250, 46537, 10206, 59997, 49081, 19563, 29560, 14104, 63076, 34677, 68823, 18817, 19019, 11138, 26341, 3325, 14453, 1632, 32530, 17331, 19577, 855, 28403, 70872, 68653, 71699, 27533, 50691, 12018, 46970, 27060, 68400, 27087, 14510, 38950, 361, 67608, 31713, 23031, 50124, 66504, 54362, 21279, 38865, 22208, 57631, 51543, 9775, 37617, 71767, 4202, 51858, 58491, 2662, 55205, 63656, 698, 23438, 16504, 8875, 57318, 9316, 63054, 71446, 49861, 12439, 60883, 19527, 18956, 2003, 23107, 56341, 15090, 37349, 12478, 10096, 43116, 63237, 41263, 42934, 66106, 41642, 43132, 56875, 53727, 53681, 68176, 29625, 21597, 381, 21821, 55075, 30280, 75879, 65392, 1049, 8763, 9115, 35458, 75587, 6716, 75380, 49114, 13532, 74622, 58266, 59482, 40965, 25915, 71553, 40593, 42159, 10325, 61910, 70690, 24007, 49839, 65118, 67405, 21290, 71234, 30399, 53158, 69454, 54946, 25829, 58731, 3609, 13738, 25461, 66762, 53936, 31293, 19391, 64225, 28670, 13014, 29461, 72107, 55551, 2365, 63747, 45437, 11133, 48567, 57368, 21752, 13149, 2776, 3806, 41590, 8005, 55142, 16145, 75385, 25087, 39172, 14081, 9342, 50464, 10672, 51263, 19046, 61250, 55068, 60248, 74501, 12983, 22292, 69943, 9823, 15862, 10475, 66811, 10914, 69270, 8260, 48888, 52337, 1101, 9591, 69527, 37653, 72199, 41479, 27569, 33510, 5738, 13375, 43155, 26852, 52555, 3836, 18428, 47525, 54750, 10959, 60389, 21852, 1886, 70387, 68430, 4868, 22843, 1894, 57229, 71135, 63420, 52081, 28114, 59127, 45687, 75253, 66820, 13433, 3514, 58648, 24228, 38859, 48047, 58207, 43203, 42068, 35294, 13947, 37541, 25159, 42557, 49962, 550, 39671, 31408, 71912, 42469, 57294, 28573, 30458, 56332, 5013, 19086, 42355, 54001, 30940, 34394, 57624, 72487, 1733, 47640, 5671, 7173, 27317, 70766, 18456, 49294, 8896, 31244, 60283, 48531, 74984, 2850, 48921, 43302, 11116, 42066, 60462, 39653, 15361, 28494, 8725, 43027, 16314, 904, 67992, 49890, 75102, 44796, 42625, 51930, 39811, 49692, 5932, 799, 67985, 48255, 69088, 9668, 69134, 65209, 27235, 13932, 57532, 58927, 38194, 51882, 12317, 62992, 52808, 71895, 24970, 39012, 22457, 31387, 47808, 18818, 66510, 66477, 37125, 58508, 64785, 3964, 16414, 5759, 21038, 20626, 17790, 30687, 2452, 40640, 45711, 40567, 65159, 18499, 68748, 60630, 11474, 28823, 34108, 11336, 41956, 71502, 53955, 42134, 44474, 47472, 64680, 33969, 75496, 38544, 54967, 29171, 72957, 74838, 66893, 60824, 14181, 1709, 73187, 74538, 28304, 4871, 32730, 10715, 7078, 74895, 69046, 57511, 35053, 2889, 38170, 4140, 21523, 65161, 61655, 3149, 22479, 40080, 13029, 15566, 70534, 66789, 12903, 74341, 58907, 72765, 27482, 55504, 49971, 39148, 1739, 62209, 5646, 13868, 65722, 38581, 16008, 12473, 32895, 15104, 6536, 12050, 35164, 62533, 72737, 31720, 2852, 26245, 66329, 39834, 28972, 46009, 27947, 32353, 4887, 31862, 64042, 51782, 74191, 71418, 13801, 5904, 57200, 45378, 44421, 7408, 53195, 31361, 14582, 54432, 55988, 4439, 10099, 67049, 7089, 13319, 57274, 46335, 32143, 2703, 3486, 58664, 46662, 73161, 44871, 62108, 6833, 33090, 10151, 8123, 24717, 7715, 56653, 25656, 53197, 66016, 49655, 21687, 41929, 74285, 54630, 33106, 27535, 33309, 59773, 62211, 33317, 29995, 53905, 98, 53276, 30570, 31199, 51533, 23681, 8148, 16938, 8982, 71885, 44338, 10580, 16895, 62495, 70563, 69972, 18113, 18137, 26161, 3409, 17162, 37910, 41536, 35705, 8580, 42012, 68388, 67355, 6164, 61504, 45541, 58687, 26876, 4916, 58974, 64388, 49195, 67112, 7033, 38811, 30886, 25280, 17840, 75340, 21905, 69161, 30839, 76160, 63757, 48001, 61054, 41060, 24261, 11272, 36789, 36782, 57570, 13648, 72161, 28725, 69173, 21495, 19001, 45893, 19220, 63488, 59833, 30526, 57330, 34782, 10185, 35656, 75261, 65176, 32138, 64993, 56598, 103, 10135, 33239, 58120, 9066, 324, 71281, 32502, 29782, 41457, 33982, 64851, 2412, 28653, 53031, 10271, 13312, 68485, 30539, 75767, 61022, 15871, 65157, 26728, 39282, 15278, 68171, 56953, 11802, 51121, 71005, 38512, 59578, 31635, 19756, 26704, 13661, 61520, 58063, 29715, 7144, 71267, 69040, 13665, 50562, 8804, 6701, 13187, 51183, 31431, 21957, 44511, 63059, 16576, 69847, 75758, 54064, 51252, 13360, 26032, 30809, 69505, 62828, 59749, 27102, 34720, 49836, 72060, 34515, 63758, 37110, 46380, 13729, 38937, 59857, 54254, 73613, 29421, 17350, 11791, 25551, 36130, 62695, 47407, 44405, 75808, 63812, 67136, 39879, 23812, 24175, 34597, 61095, 62449, 16261, 1372, 20799, 42738, 10787, 8527, 40186, 4983, 16997, 23576, 59235, 26357, 51658, 71413, 11195, 2042, 3127, 19544, 54541, 2555, 5706, 8145, 18638, 70649, 69070, 48351, 45787, 73120, 71061, 16556, 51508, 23725, 4195, 8430, 65370, 38407, 61046, 68712, 33916, 56363, 453, 42743, 9615, 66139, 41788, 22759, 19174, 47741, 46660, 24638, 71906, 710, 42196, 27079, 41963, 60489, 8683, 57989, 18244, 35337, 66445, 73171, 22942, 27425, 45157, 43393, 18715, 37639, 43932, 10603, 30033, 53137, 30840, 37148, 34620, 64399, 35175, 36333, 72965, 66228, 43652, 52978, 34757, 70286, 41676, 44122, 6163, 60783, 27769, 16063, 60799, 33057, 15928, 41930, 10927, 71926, 41862, 1615, 5887, 22982, 41195, 12052, 35147, 53035, 7776, 46960, 37358, 4719, 20322, 1579, 38902, 14721, 54816, 73200, 17017, 13130, 20727, 21531, 48433, 18972, 33941, 42535, 68981, 57341, 14015, 25140, 76090, 56646, 15582, 52398, 40231, 74573, 52025, 61868, 66617, 43745, 42010, 60180, 71725, 13976, 56912, 21758, 11351, 13354, 39155, 43941, 67692, 834, 49425, 57847, 48138, 7417, 53167, 55810, 39526, 46329, 52496, 53441, 12733, 66854, 31169, 31832, 47413, 3513, 32751, 73260, 57983, 45033, 30139, 30229, 19123, 53514, 38395, 66362, 39225, 6784, 41882, 27699, 39999, 21363, 41471, 49471, 51821, 62071, 11264, 48159, 32667, 61988, 57315, 42499, 24293, 68543, 21620, 50302, 49133, 18243, 44159, 36727, 36454, 63846, 72896, 11825, 14122, 53482, 32488, 11302, 25536, 61925, 18996, 3671, 32803, 39254, 6089, 19184, 73008, 47695, 16101, 40499, 38421, 64396, 18990, 20702, 17201, 45983, 66579, 49766, 74333, 1821, 59382, 73207, 65437, 73494, 32930, 61392, 13514, 18921, 12412, 53304, 12147, 29100, 12597, 5102, 57411, 52737, 53232, 27351, 69956, 58776, 32130, 62267, 61649, 59337, 50772, 47671, 54875, 14361, 23495, 33427, 26450, 65765, 33166, 11896, 57419, 45303, 24789, 1636, 40547, 31955, 61855, 45382, 11267, 48865, 43196, 63169, 56936, 29144, 31817, 36916, 66733, 36137, 19755, 65480, 28048, 45323, 11648, 34854, 56057, 74946, 73829, 66490, 29852, 17144, 40937, 55678, 38649, 56387, 28370, 70747, 70627, 71582, 73333, 28483, 63810, 8930, 58068, 47583, 71337, 25282, 13114, 73273, 57518, 29155, 54656, 48623, 68143, 873, 54703, 30616, 72743, 18460, 73028, 59881, 38872, 62885, 10243, 1036, 67915, 43680, 24552, 40755, 44384, 22550, 69283, 49293, 10041, 16758, 29024, 31315, 23834, 7204, 9170, 26497, 37957, 31297, 60349, 9467, 72874, 4708, 52980, 7635, 22009, 40587, 3693, 57291, 27355, 71371, 38156, 59904, 39919, 44679, 66533, 22475, 57911, 63685, 42048, 9454, 33299, 23030, 28020, 54693, 35130, 48881, 14782, 21350, 9706, 36524, 76094, 3186, 39143, 48673, 7560, 75732, 66102, 74750, 66258, 49531, 34381, 668, 10859, 36573, 56582, 69209, 31891, 59046, 52220, 58806, 42257, 23260, 140, 60111, 55352, 28765, 37028, 51704, 14973, 34561, 62990, 56159, 33497, 65175, 1321, 42781, 51901, 30481, 58339, 46289, 25257, 30766, 57010, 24186, 72869, 50361, 60228, 54489, 8559, 72929, 58888, 34495, 40227, 12058, 56430, 74108, 57885, 47108, 24107, 16312, 44063, 27597, 75166, 27107, 69228, 63664, 32857, 1932, 68439, 45886, 33564, 9263, 36597, 29915, 75483, 63869, 38341, 45821, 10557, 10328, 33997, 64032, 8733, 58715, 47750, 74792, 4315, 49461, 24555, 15970, 57004, 7490, 1916, 32756, 11731, 786, 30938, 12047, 29673, 16225, 72406, 36169, 70358, 62518, 70659, 8887, 26514, 38169, 33611, 66541, 56493, 74395, 54386, 35794, 52858, 6303, 464, 46606, 49961, 38272, 54409, 32848, 44330, 58398, 14865, 26431, 57756, 50533, 27388, 67814, 70707, 18970, 26714, 9027, 25264, 60491, 22062, 58144, 39958, 8660, 74630, 59775, 41097, 15983, 52493, 2500, 74084, 43854, 36605, 9947, 19899, 48264, 6256, 55223, 3771, 70757, 58204, 23891, 67489, 61607, 67151, 8599, 58568, 25847, 31491, 10600, 67219, 37866, 46353, 55005, 67710, 29602, 15139, 10755, 52448, 51137, 266, 8389, 39617, 29243, 32036, 60371, 39021, 25861, 21775, 44285, 70132, 40821, 40150, 47000, 64941, 29248, 66605, 1840, 39622, 15415, 28182, 2421, 41905, 23400, 38521, 23414, 72188, 9118, 74585, 4713, 43134, 58768, 12049, 72388, 55999, 22562, 24172, 71733, 46834, 4314, 16665, 22486, 22811, 73553, 4943, 13875, 55955, 74170, 32893, 43479, 38349, 72608, 10858, 37752, 563, 23174, 40814, 28062, 48467, 73518, 26350, 21254, 73788, 29766, 50380, 50817, 38678, 58844, 56325, 55890, 21631, 51536, 11003, 74775, 8044, 31306, 54685, 46191, 5850, 46176, 75669, 45413, 36850, 60321, 30602, 21616, 56509, 892, 53583, 62180, 26472, 62499, 60205, 22997, 2798, 60979, 7156, 17087, 65696, 40575, 74404, 60142, 37960, 18549, 57213, 67207, 46025, 13975, 47747, 7865, 70002, 76214, 24605, 51307, 16508, 19912, 27331, 20402, 61997, 65323, 18610, 20432, 5065, 62011, 36272, 11280, 19442, 5094, 60318, 20292, 73591, 25032, 43874, 26884, 46297, 49920, 11878, 22708, 5571, 51301, 49200, 632, 25365, 51874, 70572, 56429, 37843, 51535, 4994, 8790, 33402, 21420, 32859, 33022, 24518, 34751, 31644, 4722, 28642, 55129, 56337, 53485, 43151, 43367, 6572, 66325, 10202, 1162, 26037, 60236, 17417, 69037, 24886, 45933, 14575, 71274, 67503, 68466, 65496, 50041, 15647, 18464, 41508, 41988, 23482, 26960, 31016, 62184, 1971, 53838, 42475, 44852, 27711, 13263, 50969, 19660, 27803, 62208, 70296, 67174, 56990, 27266, 32747, 36957, 67106, 31046, 72105, 48995, 27228, 46288, 11236, 55553, 45347, 46950, 60319, 865, 49526, 69925, 40869, 32064, 34077, 8378, 4055, 25309, 54894, 66253, 30646, 69139, 11111, 36775, 16074, 33218, 29608, 55557, 65918, 33745, 42555, 37690, 28485, 23298, 15682, 55870, 68462, 26510, 19127, 46004, 35453, 69178, 66321, 62278, 35717, 59595, 62171, 59160, 5343, 31145, 8309, 52755, 37819, 56952, 37181, 21621, 72594, 73925, 71876, 51025, 45538, 32173, 58177, 50819, 40265, 2933, 34271, 47306, 40137, 51434, 67854, 65092, 50145, 51719, 12144, 60183, 45768, 55123, 39855, 44142, 59670, 44357, 30690, 24847, 47966, 37485, 58397, 24031, 61826, 45706, 39862, 37383, 50671, 5145, 60493, 26611, 32967, 65810, 24559, 42911, 17049, 51300, 53631, 11366, 37249, 22631, 27156, 50388, 51284, 45002, 67191, 15638, 52262, 52151, 18537, 58146, 74517, 3918, 5471, 49191, 70264, 17207, 30433, 40933, 1357, 46594, 42445, 60134, 45258, 46068, 58256, 21613, 59126, 16655, 31456, 29453, 11308, 47518, 66668, 74884, 38576, 12646, 50626, 25283, 13583, 34493, 54996, 22180, 29167, 57148, 21542, 52623, 574, 59408, 60498, 413, 61652, 42334, 74335, 38288, 29741, 1795, 67886, 55397, 29464, 40952, 5148, 37838, 68562, 9761, 5039, 21280, 24764, 43029, 25381, 5458, 48025, 61006, 53774, 726, 48504, 71168, 36575, 64683, 60147, 6808, 72518, 52251, 825, 65725, 8385, 1531, 19029, 18436, 71606, 74855, 7514, 69052, 69072, 76329, 66679, 18213, 57100, 40242, 47475, 49957, 56984, 4225, 18118, 3644, 32668, 18850, 23302, 30241, 25682, 18284, 44477, 59765, 68877, 11937, 44461, 17111, 68768, 7306, 56916, 29161, 15936, 54195, 58875, 47715, 56713, 4467, 6271, 53708, 55964, 50514, 42232, 36702, 38109, 12705, 37868, 61540, 72130, 18328, 28706, 67390, 73493, 7897, 28408, 19175, 8146, 57263, 26927, 44174, 36533, 61163, 5475, 66196, 9445, 43883, 51090, 57939, 3269, 55197, 55561, 63143, 3361, 69766, 45956, 70736, 16144, 30560, 42833, 60844, 13120, 39422, 57373, 26868, 16807, 16232, 72915, 14183, 34834, 69083, 1198, 62564, 10362, 35311, 19613, 71581, 58923, 19028, 70321, 64589, 32197, 55750, 57500, 8714, 75786, 4125, 60404, 75822, 56847, 33645, 52783, 61319, 12353, 52524, 24831, 14935, 61402, 56303, 34167, 36625, 11137, 35106, 21098, 70221, 25620, 12766, 72415, 37641, 56548, 72336, 8611, 7846, 12075, 38598, 23518, 25703, 55392, 38564, 37585, 6880, 39684, 26658, 23272, 277, 14558, 20128, 16524, 54743, 27822, 38301, 27147, 70102, 56181, 71456, 6611, 59560, 11393, 37643, 47978, 40062, 37739, 53557, 20817, 19716, 44544, 43753, 39110, 42395, 17514, 7991, 34376, 59986, 61585, 61536, 59075, 74380, 25863, 47083, 34903, 10313, 75024, 50638, 57566, 40327, 19198, 60193, 805, 44186, 57668, 5270, 41243, 67648, 38648, 34754, 24683, 31813, 48646, 6649, 61144, 48824, 34925, 55455, 68567, 70322, 15544, 4953, 55874, 58848, 64563, 13588, 38876, 24419, 9687, 68514, 53206, 18986, 9777, 9882, 36209, 12712, 52898, 17860, 56029, 50107, 61771, 9008, 16167, 72905, 55734, 13333, 69724, 37041, 4208, 34118, 35852, 28714, 42558, 59921, 33316, 61334, 69388, 39474, 71801, 23878, 43917, 9938, 65604, 11986, 37421, 41294, 28477, 50114, 62540, 50623, 70046, 72009, 8133, 20454, 15150, 63434, 49754, 60273, 21975, 5073, 66969, 27151, 44429, 40745, 66717, 68272, 19792, 48778, 62912, 23722, 49654, 7841, 55717, 5244, 40096, 5585, 65453, 35029, 26531, 19262, 70468, 36118, 25088, 45515, 17027, 24373, 65185, 19052, 58479, 4049, 43434, 30024, 38493, 18426, 48410, 25733, 21766, 51369, 18495, 46894, 45092, 8178, 17369, 74304, 1010, 65210, 13424, 40442, 35628, 16119, 72861, 65596, 50753, 38994, 16564, 19864, 50159, 76172, 12138, 63678, 24507, 26183, 63566, 712, 14605, 32922, 35173, 67351, 32397, 39453, 11484, 45559, 1833, 5526, 16597, 24100, 32513, 2892, 24904, 40102, 29928, 30652, 32339, 58321, 3111, 55349, 13967, 48563, 42364, 17697, 58028, 70213, 49308, 18540, 39429, 68478, 27404, 55726, 16808, 25590, 54462, 13733, 15263, 34186, 6445, 32330, 59040, 51879, 14226, 68943, 8167, 63837, 68647, 53075, 69317, 43961, 56385, 37514, 20648, 72862, 33764, 4137, 15460, 15625, 46247, 18824, 54010, 39335, 23499, 35581, 72316, 8433, 45409, 24018, 28018, 52100, 45554, 57424, 32797, 13170, 69740, 41545, 5200, 17368, 4838, 66191, 12669, 10075, 54515, 30755, 41433, 24787, 22677, 22281, 12993, 25642, 41978, 6921, 42400, 20348, 17779, 27478, 23796, 52437, 54916, 9152, 74462, 55861, 141, 27735, 23554, 23558, 26409, 41361, 33504, 14096, 15065, 44583, 28160, 13881, 57092, 23827, 50173, 19282, 21991, 76188, 59321, 45913, 72198, 34912, 13888, 23448, 15014, 63064, 74460, 43161, 45276, 43351, 20023, 51151, 56971, 61033, 1479, 35874, 17012, 15953, 12821, 57627, 18839, 32435, 49027, 25893, 50518, 33250, 28093, 30699, 26936, 32115, 30349, 182, 66599, 68222, 36286, 12414, 2940, 68632, 60151, 11174, 54385, 1988, 44553, 29085, 52975, 257, 35235, 20988, 64106, 40862, 48787, 46840, 36097, 76168, 45284, 2697, 17239, 71627, 8256, 2528, 26860, 12707, 61397, 29411, 13127, 47982, 1413, 46597, 65078, 63555, 1053, 24558, 74615, 42600, 42834, 75012, 11185, 60664, 7567, 12036, 58114, 53791, 37151, 66639, 35822, 2454, 34205, 49959, 73786, 37183, 73615, 9333, 35555, 36326, 24192, 55527, 11392, 52606, 8423, 22356, 2995, 33947, 5514, 43732, 16783, 6091, 50207, 48880, 13210, 16220, 48204, 7535, 29716, 8797, 31402, 65867, 32109, 49759, 71886, 27912, 12690, 61437, 66084, 57394, 65503, 72629, 55151, 72180, 47563, 75941, 33875, 31872, 61165, 40209, 22529, 75949, 46154, 35774, 29920, 24790, 25902, 29142, 35267, 40926, 1202, 14867, 39401, 1402, 37072, 63694, 49636, 8122, 41106, 36119, 34990, 27838, 23633, 29341, 71561, 19034, 73453, 31124, 64850, 75609, 61084, 60608, 418, 38778, 47473, 68014, 46391, 13100, 31119, 7908, 38092, 37315, 44450, 18962, 38053, 15269, 52900, 71549, 48450, 72522, 57016, 44223, 51374, 53174, 62363, 10290, 32165, 18155, 21987, 21086, 56795, 36432, 12001, 32281, 67450, 11445, 67079, 48048, 66354, 35413, 50285, 12279, 45946, 46791, 48581, 23487, 32845, 24502, 28235, 46802, 51290, 61594, 2231, 11177, 17386, 50183, 37726, 19740, 39444, 75717, 20786, 30385, 31453, 19534, 45995, 65280, 17024, 70427, 40801, 31953, 68596, 21725, 18761, 67743, 2328, 69590, 44057, 14470, 13663, 74539, 13205, 7257, 35400, 73818, 67546, 35206, 74980, 19284, 1548, 19565, 75317, 55497, 15279, 72255, 39063, 56620, 44038, 47658, 50864, 20058, 25162, 7463, 64360, 54340, 23759, 66442, 61119, 23411, 60364, 72002, 30586, 55156, 21020, 14843, 65334, 42410, 54968, 38077, 64403, 34457, 18121, 41709, 23323, 18562, 28803, 36493, 62731, 74494, 67095, 44920, 36138, 47643, 12648, 59027, 61242, 35172, 37425, 70108, 53597, 18667, 56682, 56986, 42384, 65984, 5415, 58908, 39218, 1857, 10165, 27824, 26741, 15904, 33793, 19917, 39673, 10160, 13383, 24092, 61485, 52615, 11622, 55355, 67695, 63287, 897, 61283, 46166, 24207, 26229, 20730, 57873, 46375, 61339, 44564, 38414, 43665, 41074, 68315, 12117, 14430, 47043, 64442, 60816, 38326, 73099, 39993, 5226, 59093, 35929, 43385, 43507, 44409, 12300, 42070, 57969, 9387, 65694, 48828, 45478, 46354, 73317, 13308, 30080, 74160, 29803, 60656, 48243, 36245, 26130, 8280, 17627, 3321, 24885, 13211, 67869, 17147, 2924, 44645, 59953, 73440, 8000, 49505, 22362, 17868, 44960, 63946, 9582, 31997, 51900, 63904, 57059, 64060, 432, 40378, 55761, 8053, 14837, 58062, 69556, 54993, 70281, 10108, 44428, 3879, 46693, 73371, 5699, 13727, 11669, 68906, 66691, 21840, 35257, 55813, 58316, 38842, 11671, 25253, 54263, 49327, 45051, 56676, 66961, 26794, 12457, 25665, 41413, 73815, 54818, 74455, 36898, 17777, 3147, 52754, 25110, 28433, 27997, 21035, 43814, 66861, 51637, 2969, 17420, 6017, 71196, 19041, 73048, 48416, 30339, 6603, 68323, 55478, 57141, 34227, 25325, 63051, 60359, 55465, 19596, 17775, 53399, 37572, 70617, 13988, 46078, 16850, 48735, 56980, 2769, 31671, 27136, 26099, 72960, 42633, 15459, 29793, 1370, 58681, 64531, 24553, 70670, 15811, 22991, 64219, 3530, 52103, 45798, 31057, 16773, 14284, 15832, 35949, 68983, 31368, 71842, 13584, 9659, 50613, 52227, 51531, 51905, 19573, 39464, 15825, 26180, 2647, 17964, 66662, 52702, 74537, 2067, 31371, 33430, 14840, 35307, 46898, 45150, 15693, 55588, 45056, 49215, 57691, 23477, 19476, 69314, 56712, 16331, 30350, 24701, 11876, 74752, 30369, 4458, 3244, 73361, 42061, 35216, 11641, 2902, 4698, 43708, 60978, 40972, 64406, 15651, 10543, 2062, 19890, 20756, 58477, 9317, 52287, 34766, 57589, 12057, 46033, 51748, 32662, 1933, 39946, 18520, 38896, 34170, 67247, 28607, 75662, 21756, 45903, 7578, 19134, 60025, 33142, 25591, 65038, 47265, 67612, 72523, 14503, 5885, 22396, 30891, 35376, 32860, 48051, 30040, 18946, 70067, 44206, 13818, 2687, 2736, 3934, 34748, 75833, 42224, 54143, 51030, 12149, 2317, 34229, 8094, 45678, 10223, 60741, 60046, 55407, 16070, 25099, 25027, 19484, 61118, 63446, 7938, 13919, 18190, 39704, 7171, 34150, 40760, 60469, 29133, 47532, 50467, 72441, 53738, 29712, 42396, 19006, 39833, 66265, 11997, 37328, 34458, 20642, 1748, 39424, 21145, 52059, 46862, 6465, 19399, 12737, 13396, 44842, 21850, 821, 48618, 46713, 43136, 44319, 64275, 65419, 14950, 20176, 32932, 9455, 28043, 32270, 31558, 64781, 37834, 14455, 21242, 21356, 12507, 37478, 37713, 7858, 16132, 52387, 43398, 13579, 13843, 57574, 18153, 39509, 55300, 74968, 69126, 65741, 8276, 8550, 28673, 44696, 25709, 31700, 50742, 23307, 31339, 35599, 38533, 55105, 44587, 38152, 46955, 47070, 903, 19914, 46017, 72063, 2600, 11376, 25724, 62439, 47130, 363, 36145, 55641, 59021, 32085, 40546, 72831, 7486, 642, 148, 24880, 47399, 6993, 17921, 10089, 63714, 72761, 57414, 66076, 41024, 58459, 68405, 26775, 74017, 26435, 31320, 54251, 10229, 20857, 32196, 53278, 40710, 4940, 26600, 9962, 59693, 963, 21480, 15070, 49908, 44422, 24481, 61412, 69721, 56941, 36376, 47294, 45355, 74977, 2541, 6402, 14291, 27654, 59347, 65605, 61570, 43174, 41527, 6258, 29138, 26999, 22612, 66843, 7114, 31567, 51437, 68553, 22073, 32508, 61482, 56569, 49578, 65697, 11029, 28694, 34817, 39271, 15979, 14494, 63310, 59386, 57178, 72580, 3366, 24134, 44791, 37464, 60770, 26590, 59130, 65049, 35403, 20047, 29539, 58752, 54978, 46429, 68551, 16079, 33501, 8971, 19619, 11290, 45943, 34196, 21658, 29568, 24214, 75871, 61363, 55833, 73343, 31901, 3622, 69949, 122, 3715, 72983, 61709, 33557, 36281, 37422, 67575, 7941, 6037, 66219, 52996, 76084, 37384, 42610, 53719, 39201, 30355, 60987, 75608, 21587, 10592, 6108, 63780, 37652, 47125, 71739, 62155, 12611, 41417, 47661, 73118, 64839, 32997, 49634, 21214, 62445, 32909, 9564, 50635, 37517, 1334, 42354, 62235, 39619, 74791, 44669, 33133, 18822, 45704, 68390, 26479, 53402, 63857, 58305, 60866, 17366, 43710, 24486, 66970, 72132, 7394, 21522, 45146, 47841, 20613, 65519, 59947, 65348, 56005, 72387, 76133, 69242, 62776, 9124, 55328, 35997, 44396, 6765, 3770, 34041, 8851, 5707, 38024, 28189, 63323, 42473, 58882, 64885, 5189, 52777, 69471, 49166, 76063, 35272, 30904, 40070, 28236, 33896, 10068, 4749, 13077, 35245, 7176, 71087, 31650, 22905, 25096, 46235, 36005, 35511, 3506, 29637, 66619, 58850, 30700, 19828, 1765, 42775, 37611, 63181, 75487, 38293, 74132, 41438, 43241, 16118, 47197, 36991, 20712, 2352, 64123, 7072, 24474, 72079, 70244, 60607, 19245, 31924, 67772, 9700, 42845, 47785, 7317, 2370, 5756, 37985, 71540, 48692, 25909, 491, 8793, 30211, 441, 69835, 48349, 74518, 18458, 27333, 73019, 64601, 32293, 13236, 19301, 66909, 34247, 35079, 15761, 16957, 29846, 66916, 66014, 69544, 74382, 64686, 8445, 17797, 23218, 35561, 47305, 47309, 46917, 48843, 52406, 20026, 5129, 56287, 70681, 9434, 68724, 38497, 21267, 28508, 47372, 2814, 7231, 919, 25029, 63993, 5281, 59352, 9437, 35174, 39194, 36080, 22261, 75890, 64907, 12070, 9708, 32156, 35855, 19880, 16085, 64776, 73159, 30496, 41832, 17333, 66865, 47244, 28901, 53066, 65861, 14060, 27433, 848, 539, 44264, 28651, 72247, 51438, 61620, 18203, 65865, 1190, 47916, 73299, 66957, 48179, 14540, 19835, 62959, 27720, 41627, 26512, 46458, 54984, 67761, 4609, 69457, 2861, 68893, 7603, 69006, 22220, 19616, 23907, 15028, 38216, 9039, 22345, 70017, 4081, 5909, 37411, 55651, 63336, 28795, 72437, 8301, 56784, 49653, 30754, 2151, 62816, 3284, 21580, 1462, 62660, 27826, 62448, 65553, 49163, 29775, 14552, 68446, 5240, 64451, 1875, 70090, 26529, 55952, 43271, 27184, 31870, 19542, 46482, 33031, 38826, 781, 22038, 36395, 2628, 32767, 44963, 69561, 24397, 50381, 23106, 48512, 66491, 53166, 60841, 68118, 8628, 11440, 11271, 167, 32215, 25263, 46818, 49307, 43931, 42360, 861, 15787, 8214, 26428, 14653, 44851, 38790, 39522, 59218, 62152, 41489, 35854, 4963, 16683, 67898, 64974, 69726, 12615, 29698, 37791, 61210, 46064, 43264, 26424, 39346, 5889, 18, 17726, 71922, 39578, 54232, 12403, 70396, 20707, 71472, 23691, 74814, 58073, 57069, 61566, 28778, 3248, 29969, 19873, 38454, 22918, 50469, 28335, 28314, 57494, 70612, 18399, 50122, 51457, 16203, 49831, 14277, 66400, 51200, 14505, 15579, 17381, 14407, 37951, 48407, 40978, 70125, 33062, 50645, 38312, 45502, 60711, 25012, 40932, 68295, 48848, 41521, 28640, 21042, 11763, 40931, 56145, 3217, 44541, 43336, 25355, 44554, 4502, 9961, 8630, 53132, 46185, 4168, 48752, 55094, 14164, 67480, 16877, 54804, 56639, 35304, 24369, 29198, 8342, 842, 49019, 70482, 53119, 37306, 33098, 58823, 26856, 38251, 32127, 40399, 5602, 41648, 32480, 14131, 26422, 61591, 40474, 49772, 73345, 34145, 75412, 58448, 9679, 70767, 40630, 10248, 11785, 39935, 44168, 75336, 45418, 9839, 73641, 32132, 15069, 46524, 59981, 25226, 21916, 2446, 59178, 32573, 50077, 55398, 53117, 2937, 61498, 64975, 53354, 21634, 48541, 51385, 28612, 70533, 27159, 46741, 71773, 62688, 75148, 46094, 71221, 65740, 22589, 2177, 47476, 45906, 1228, 47450, 22087, 52064, 27585, 69236, 73102, 31291, 28713, 44712, 72615, 39962, 27810, 75179, 27853, 45645, 28911, 35722, 49483, 21954, 25627, 64697, 29524, 68600, 33423, 27135, 67759, 65331, 49394, 12146, 35230, 64735, 56371, 1251, 3349, 42231, 13323, 51729, 70639, 44389, 2150, 47517, 10891, 46412, 25373, 60082, 58293, 15895, 24624, 17306, 7772, 7950, 991, 53246, 63568, 45246, 25896, 26474, 64336, 570, 68921, 61045, 15155, 27883, 70862, 64962, 6667, 71096, 64757, 10234, 36922, 70714, 51682, 36460, 59853, 26988, 29737, 12986, 32069, 25753, 17499, 70674, 2375, 24897, 75888, 18826, 58583, 48745, 30223, 4230, 52160, 65324, 74076, 18853, 67787, 14396, 2764, 74488, 56996, 56896, 44510, 69053, 14461, 63038, 22450, 39995, 31495, 26197, 13707, 75926, 5116, 48314, 57839, 42009, 54367, 60760, 24081, 38920, 44128, 44749, 28832, 68463, 12042, 70356, 43100, 52807, 47850, 38707, 73586, 16280, 2848, 16919, 23090, 25474, 35969, 26385, 23680, 49159, 58343, 2310, 58665, 56596, 10470, 14742, 46514, 15868, 50532, 23102, 58090, 1558, 15609, 68098, 42872, 15732, 1408, 54455, 2975, 9320, 65825, 23412, 74770, 11012, 53327, 65439, 50550, 20726, 4801, 64131, 26973, 11751, 50778, 39761, 17303, 4038, 39675, 2068, 33488, 10622, 65560, 68428, 14672, 14515, 59312, 39478, 15472, 52161, 67829, 28876, 46583, 56735, 48939, 67479, 27600, 56327, 1681, 19672, 25580, 63539, 53676, 68130, 774, 63761, 37386, 46295, 33899, 38949, 26776, 4051, 15356, 20892, 9153, 68489, 43204, 34558, 43306, 75825, 42954, 60244, 18731, 36886, 1563, 46975, 42791, 15746, 72746, 41291, 6075, 22232, 29126, 20317, 15584, 36391, 56694, 41636, 10634, 38783, 73732, 50350, 52446, 16026, 50336, 74909, 76041, 19302, 47345, 70880, 47918, 22755, 2681, 49057, 68792, 60643, 27098, 55443, 18866, 38236, 45325, 43681, 20580, 40406, 75115, 46822, 59935, 52399, 61331, 22520, 23508, 64305, 26909, 24595, 58054, 69362, 31505, 28148, 38981, 50277, 27036, 15866, 33471, 53645, 32219, 17041, 3136, 48549, 30596, 47829, 38217, 67997, 31242, 69524, 72462, 29776, 30685, 51106, 17880, 42508, 14170, 74046, 49251, 58478, 64737, 65614, 66358, 50717, 74111, 72026, 69879, 67548, 28406, 15628, 51466, 46804, 43412, 46179, 25720, 4471, 42272, 8043, 20545, 61364, 33179, 38130, 20288, 52886, 51308, 67025, 71710, 38637, 31106, 67646, 10818, 48539, 63881, 31263, 61941, 4199, 33523, 52585, 26719, 20072, 56165, 62778, 72078, 4656, 74236, 29287, 2277, 17349, 1718, 51992, 3604, 12000, 27409, 66719, 54102, 12238, 62476, 12248, 13279, 34471, 52207, 54094, 15231, 49266, 21880, 27924, 62463, 26109, 26948, 58210, 73963, 74601, 12303, 42636, 6055, 74043, 72742, 56679, 18692, 71356, 46624, 26175, 20938, 69813, 55350, 45356, 9366, 48864, 13797, 3548, 22946, 48969, 60092, 64144, 49051, 40330, 59812, 33121, 29854, 31366, 37312, 21025, 32213, 70012, 25101, 26596, 6807, 7556, 39587, 45805, 59777, 57957, 3441, 71387, 5126, 8959, 14707, 74987, 27623, 59501, 67416, 26181, 35670, 868, 1989, 27403, 26541, 46040, 68931, 2905, 33305, 32385, 46324, 30593, 53474, 55401, 21408, 53376, 85, 13179, 52848, 9766, 34106, 1836, 10687, 33691, 46304, 54307, 51373, 65219, 30191, 16350, 33877, 75595, 40985, 52425, 21822, 54020, 15783, 20557, 42962, 63037, 15198, 33296, 74437, 21444, 74790, 11550, 34882, 18932, 5806, 55117, 14447, 11956, 30129, 43904, 32472, 23670, 71869, 33358, 71768, 70691, 14902, 31626, 71490, 19693, 37346, 74956, 70483, 3507, 59756, 54, 20449, 51605, 17974, 69399, 24038, 71462, 71401, 43226, 72289, 33794, 72660, 67892, 20008, 27444, 57237, 65645, 43043, 14020, 7410, 6442, 27011, 28214, 69863, 32986, 39595, 7339, 28443, 945, 26029, 59611, 38275, 68177, 40817, 6795, 51396, 32963, 44066, 19156, 70910, 22252, 48289, 12130, 52633, 47560, 23426, 65402, 65000, 70914, 56570, 44387, 19968, 16115, 2960, 6804, 35721, 36562, 54796, 35256, 38008, 18326, 42608, 51708, 19380, 55716, 50551, 46121, 68332, 23771, 40184, 45280, 1760, 73123, 34542, 69742, 12397, 29391, 60174, 8383, 20225, 12151, 22641, 27346, 7412, 36623, 31097, 35404, 33692, 45536, 24697, 37455, 49827, 72210, 24360, 17571, 29667, 73719, 43066, 64855, 40517, 46083, 76192, 25931, 73321, 1412, 71536, 72263, 60448, 15310, 29514, 57866, 73728, 503, 11579, 14615, 30772, 75570, 12063, 8367, 33272, 50832, 19125, 54332, 14199, 69080, 56095, 74277, 31452, 56080, 8540, 62683, 10605, 5297, 40663, 67909, 70053, 55136, 71993, 13739, 37457, 21969, 23229, 22937, 33254, 21572, 65521, 15246, 3529, 42681, 11750, 38137, 56396, 50736, 7966, 36199, 15709, 74842, 40847, 55661, 54012, 7360, 30597, 19413, 44178, 3487, 38933, 7944, 37174, 43324, 36599, 15060, 26460, 55535, 8407, 63862, 27751, 23902, 56611, 3857, 54093, 28351, 58512, 67832, 67011, 67183, 38047, 62774, 72993, 64610, 38462, 1731, 31344, 58463, 44832, 27126, 21682, 19657, 6340, 74457, 59471, 11929, 34822, 15411, 37472, 58080, 284, 65457, 47895, 11273, 2040, 19359, 69549, 9932, 6708, 71022, 36027, 40754, 2822, 16143, 47874, 36057, 43148, 18938, 55485, 59360, 25799, 16869, 71760, 70074, 14698, 75185, 9210, 75460, 68715, 35046, 45700, 36584, 30761, 71013, 62092, 29071, 70716, 50280, 7932, 45408, 46927, 3660, 74526, 40223, 56343, 47675, 8567, 20602, 70672, 27457, 47584, 50874, 20198, 65929, 14274, 75633, 28292, 58808, 46948, 61668, 20697, 66518, 3453, 25367, 59185, 33873, 29004, 57306, 29717, 48368, 63798, 64953, 69074, 52194, 67660, 10437, 29891, 40866, 46348, 45193, 32781, 40236, 24857, 20684, 65243, 12874, 48702, 19291, 42178, 10293, 73902, 13560, 52860, 1983, 252, 52835, 76165, 50218, 28348, 30222, 73448, 58587, 23965, 13645, 24927, 41584, 73685, 38337, 72016, 13450, 45744, 74330, 48295, 20372, 16931, 75112, 73022, 26922, 22331, 17703, 6109, 62595, 32010, 4794, 7048, 6135, 72703, 31661, 8497, 55772, 7955, 1734, 36791, 46053, 60077, 69965, 41262, 19554, 20641, 7679, 24827, 51126, 25579, 9220, 72275, 34660, 62713, 4788, 8907, 51986, 23609, 12348, 5220, 3158, 52477, 71171, 17992, 35460, 32099, 2990, 65759, 34582, 38675, 7356, 39590, 12568, 53008, 15293, 8871, 58755, 7879, 48205, 1589, 63504, 21848, 65640, 33689, 9116, 13009, 60950, 63814, 70539, 26075, 51260, 49588, 75751, 46633, 10835, 70584, 1675, 1199, 27996, 64922, 28117, 45032, 32650, 73647, 2531, 46170, 54960, 55840, 51365, 61950, 68625, 59426, 55675, 45564, 24729, 9635, 37085, 64322, 379, 67523, 56322, 1517, 63598, 3370, 44687, 21998, 29561, 36645, 68968, 23756, 12077, 57432, 20666, 34783, 37699, 49865, 28859, 11969, 68960, 68841, 70414, 56353, 51709, 1054, 50482, 28576, 37419, 5821, 47355, 51057, 6527, 65153, 10324, 63934, 17145, 4700, 12121, 57599, 64637, 8997, 43215, 36875, 58075, 71900, 28598, 12484, 17854, 65877, 11850, 5864, 31128, 20206, 62349, 40171, 57896, 68027, 73112, 60581, 46331, 21281, 65414, 60395, 73058, 72903, 73005, 1102, 74255, 60304, 13778, 20861, 9085, 60638, 58626, 19115, 9813, 3185, 27275, 43852, 70821, 63839, 66520, 22771, 44191, 19438, 23631, 53998, 28788, 22160, 27982, 64557, 743, 61507, 71445, 74718, 1327, 31675, 19923, 71369, 76130, 46987, 27206, 74617, 47971, 4913, 5737, 32840, 5507, 6604, 5156, 40457, 36105, 46854, 50205, 70092, 7559, 41040, 70731, 58543, 75957, 49417, 52114, 4618, 56468, 18412, 26987, 10425, 2904, 18571, 73045, 39719, 45776, 63581, 27421, 39132, 42559, 11147, 35960, 1203, 11859, 12111, 37976, 52687, 28441, 14476, 69434, 36659, 62133, 35012, 25395, 31397, 68898, 72984, 30196, 43208, 41604, 28826, 6989, 58857, 12861, 39944, 56689, 34230, 47991, 22094, 38571, 38028, 32630, 40164, 30638, 46641, 50723, 31922, 63303, 35047, 1015, 25343, 65892, 50664, 49866, 422, 64832, 64417, 22150, 68453, 64641, 16108, 59571, 54552, 56708, 48323, 75421, 1926, 7994, 36962, 24953, 39077, 17577, 30566, 41650, 38858, 46736, 4157, 31237, 16025, 50732, 16659, 12004, 5057, 8290, 37111, 38096, 29437, 56268, 8037, 60911, 17287, 11960, 46815, 53542, 43121, 53590, 36716, 21334, 11338, 31730, 43071, 55542, 15156, 37961, 40368, 59430, 35781, 66226, 29841, 38785, 6357, 17695, 60492, 65595, 58086, 7947, 19355, 55948, 1078, 19314, 30543, 67596, 49745, 76202, 35061, 36211, 32268, 61819, 62430, 23804, 73205, 30239, 46005, 12371, 39476, 61194, 11953, 18777, 2498, 61586, 50418, 9139, 46786, 8180, 60628, 21034, 10525, 53797, 33571, 20794, 21742, 39079, 26840, 61278, 58789, 12123, 58577, 68019, 5009, 28542, 17898, 4493, 54905, 6907, 33949, 66147, 5021, 65107, 71078, 56695, 36744, 56401, 15413, 75486, 9673, 43109, 70454, 28125, 50755, 74564, 10971, 67197, 58126, 18811, 22724, 7703, 48604, 50782, 19909, 33378, 58545, 23785, 67542, 68914, 69180, 69777, 75164, 73662, 68424, 60940, 28397, 43474, 49261, 54548, 64325, 6452, 18806, 58982, 1432, 20221, 49427, 62218, 9935, 68107, 40142, 39002, 15567, 27959, 71698, 1212, 18008, 39334, 49758, 51154, 27412, 28631, 70331, 61951, 30759, 5677, 54150, 52368, 23894, 6115, 15945, 37864, 70510, 36170, 63270, 20898, 64007, 58826, 46409, 50967, 17428, 42852, 16001, 69564, 66465, 73640, 12551, 69299, 32775, 46014, 1686, 27762, 33030, 48568, 30847, 22135, 29479, 68299, 11447, 59696, 66682, 24726, 56511, 60293, 25086, 50667, 57737, 74271, 69396, 43994, 51127, 34842, 938, 39954, 61712, 62732, 15332, 34031, 63530, 60904, 18713, 13059, 66558, 23338, 49254, 50710, 35632, 65200, 34845, 34256, 529, 54266, 62033, 41926, 45625, 25964, 9435, 63183, 6573, 68973, 75394, 20885, 48924, 53098, 35083, 40162, 6270, 51068, 63779, 48807, 32209, 30818, 23669, 57795, 60872, 3878, 51652, 63701, 60821, 15315, 10037, 25574, 52164, 35541, 63218, 70671, 69773, 54270, 31380, 68234, 13092, 37484, 68437, 29051, 62841, 11223, 46384, 39884, 42527, 72220, 31178, 63948, 39916, 56769, 37982, 25809, 69078, 10423, 61697, 1471, 46217, 14191, 23551, 59323, 3966, 18846, 26200, 48647, 27436, 61455, 8772, 32559, 1368, 35925, 29064, 22187, 74483, 11071, 10312, 13618, 46272, 28614, 74000, 30909, 11470, 41970, 69278, 55162, 45510, 58929, 40733, 75729, 71667, 31884, 32133, 39749, 73833, 40558, 45443, 70951, 24174, 14573, 13247, 5026, 62891, 23479, 10472, 43549, 69187, 74543, 75422, 44119, 23309, 73330, 72310, 46497, 19325, 59325, 70039, 6964, 24833, 60927, 27714, 10659, 28421, 75896, 67322, 45231, 7447, 45460, 34869, 24321, 75099, 44315, 43838, 2884, 33612, 55501, 20952, 52000, 54631, 13565, 33158, 58107, 21717, 20233, 66998, 7122, 44375, 57678, 56999, 8523, 65136, 50460, 54220, 36990, 12083, 54339, 44348, 68745, 56609, 31881, 47029, 24342, 48326, 51436, 15038, 32251, 62275, 22527, 41177, 64147, 5606, 11056, 5812, 45831, 24626, 75629, 60265, 69779, 69756, 74978, 3069, 69358, 24609, 61946, 38083, 69294, 50372, 56666, 28490, 44268, 7038, 31534, 25663, 22722, 69816, 3577, 63549, 66049, 62766, 21101, 51395, 38627, 74550, 31466, 56443, 46102, 8197, 33440, 36495, 34573, 57164, 1257, 232, 61959, 8424, 12952, 26731, 60102, 26890, 14907, 285, 300, 8294, 10484, 18476, 329, 60750, 46579, 47026, 54776, 6914, 52454, 75761, 60347, 30351, 59401, 56117, 5692, 62733, 56963, 44514, 73826, 13916, 20147, 60239, 14521, 74186, 54535, 15986, 72606, 46761, 5497, 5032, 56183, 35213, 53307, 38065, 826, 16509, 3936, 25616, 11728, 49011, 51078, 58087, 40459, 14080, 53739, 21899, 36884, 1123, 33134, 39540, 2921, 71648, 69942, 69650, 6523, 36661, 24057, 14154, 28637, 30553, 6770, 42419, 9257, 44399, 64866, 41446, 5143, 75430, 74266, 74027, 58890, 31084, 29538, 23909, 7470, 28592, 16379, 56166, 38074, 44124, 14539, 37322, 42381, 18909, 67607, 73023, 58917, 22876, 5667, 15316, 64609, 15504, 7620, 48779, 53216, 54042, 73, 24991, 48804, 64402, 63969, 44272, 55613, 53390, 52836, 69016, 43337, 64659, 69428, 34366, 34025, 23132, 61543, 8668, 68271, 71630, 1032, 60632, 30662, 70792, 63359, 57714, 45737, 51561, 20108, 38153, 33725, 65022, 2491, 11198, 56213, 14004, 48596, 16259, 27593, 12670, 65054, 10948, 4615, 65730, 41384, 57487, 72543, 12848, 42956, 67730, 51530, 46112, 68519, 70471, 66696, 56614, 76253, 26176, 43205, 31267, 14356, 721, 45795, 59728, 71067, 48400, 42108, 29534, 14125, 70592, 16454, 60749, 68378, 31570, 48011, 7690, 31970, 24751, 48218, 38001, 44944, 33920, 46658, 31821, 18782, 35020, 60505, 58205, 15383, 57649, 65034, 18070, 1943, 30042, 48818, 74502, 55053, 2111, 26466, 1098, 21605, 89, 58258, 2825, 2149, 62447, 67902, 14484, 58897, 1314, 75290, 26246, 43667, 37782, 73896, 66022, 27546, 69305, 72830, 13172, 6368, 66918, 65361, 46789, 27362, 23661, 1578, 7364, 25402, 68396, 62162, 74563, 12319, 66667, 74654, 27104, 17727, 10522, 58303, 55083, 53094, 28871, 2482, 18771, 10490, 28942, 914, 51587, 6533, 49829, 18750, 21705, 17798, 2597, 72764, 36052, 47406, 22380, 29440, 42379, 7833, 40064, 659, 12072, 71074, 49026, 4952, 76009, 27845, 20203, 8302, 59850, 2228, 63284, 17354, 41302, 9459, 65756, 66296, 15174, 32546, 49399, 48637, 29905, 58117, 37770, 43169, 42430, 25353, 47849, 17534, 13886, 57184, 339, 8913, 51469, 72956, 27713, 59940, 26386, 53419, 25988, 23637, 41089, 59086, 61037, 49198, 14983, 20065, 1936, 55496, 65709, 57369, 30072, 47676, 51330, 15347, 11492, 23113, 74033, 29410, 48610, 50186, 13250, 30450, 49060, 53473, 64031, 30512, 49979, 19445, 32965, 68762, 68953, 18120, 51931, 35322, 45690, 21792, 13534, 48059, 61834, 21323, 47823, 69842, 57061, 8701, 23280, 49297, 31947, 73133, 17508, 4902, 33548, 72822, 63019, 37097, 30649, 74217, 40324, 48874, 69397, 22315, 56198, 15115, 61411, 49741, 14720, 41497, 31122, 10642, 64618, 26377, 39611, 4031, 62452, 34723, 36515, 74979, 33582, 58214, 67099, 41950, 61731, 58635, 32726, 46632, 55693, 10123, 48704, 35141, 51274, 10964, 23635, 17042, 68035, 41114, 21713, 31767, 4425, 29157, 45846, 40855, 22040, 37378, 64690, 45463, 15837, 61958, 12470, 23718, 57725, 57358, 46291, 51471, 30896, 61236, 41529, 21180, 66580, 64945, 37788, 1449, 62577, 9821, 18004, 69841, 9003, 71329, 53551, 59197, 13816, 28124, 24845, 12413, 12345, 32644, 17435, 10403, 67580, 21467, 20017, 10931, 55492, 44565, 13068, 8902, 53612, 44134, 41993, 40270, 55845, 47110, 61255, 27820, 11753, 42971, 4405, 3608, 20214, 49777, 12796, 12814, 30756, 75937, 26304, 67208, 3780, 2196, 55684, 8652, 50539, 5751, 75681, 22191, 70624, 48452, 22718, 71850, 41734, 7016, 57227, 64456, 24851, 62634, 63154, 517, 22764, 4281, 61838, 44725, 29676, 21092, 21196, 69412, 51102, 67805, 64846, 26017, 37559, 40910, 13112, 7876, 67651, 7290, 11783, 57057, 55338, 70853, 70188, 28657, 39049, 13499, 66033, 26888, 17171, 16634, 56890, 5762, 56602, 49018, 65665, 59683, 20253, 55612, 53429, 21134, 69013, 32150, 58846, 1684, 72823, 11724, 65928, 15230, 54619, 31281, 17267, 75352, 26770, 28172, 42639, 48445, 16426, 21376, 67674, 51803, 5856, 51736, 8481, 14395, 3425, 19789, 59524, 62745, 48822, 75147, 12097, 65691, 70348, 74671, 69267, 18508, 51124, 34906, 7270, 64575, 67430, 58234, 33624, 25092, 11879, 61474, 15923, 55429, 47282, 47145, 10593, 31542, 41290, 51338, 16093, 9298, 43329, 818, 68539, 65281, 9276, 69924, 73688, 16574, 32153, 17045, 31500, 37462, 61136, 65311, 71997, 40084, 72989, 34971, 61525, 45548, 14160, 75658, 59031, 46732, 45387, 4673, 20273, 58314, 34710, 76311, 17127, 30094, 36128, 12994, 54701, 47876, 32200, 32823, 10556, 3630, 64837, 40468, 37432, 17447, 9481, 5393, 71339, 33988, 49881, 14218, 10309, 76245, 74631, 56884, 24347, 39594, 50609, 50627, 44699, 56077, 22106, 10232, 33198, 26938, 1152, 20333, 74237, 24664, 62170, 60061, 74308, 20157, 7498, 8166, 51147, 63246, 24345, 17003, 66870, 8448, 63130, 13992, 36234, 35465, 61811, 22994, 66365, 73430, 36841, 4717, 16418, 44675, 32178, 61779, 33452, 31824, 68318, 7873, 70790, 34846, 41411, 38623, 2353, 18188, 69746, 16043, 47039, 21300, 6616, 7366, 11078, 34113, 24255, 9908, 17445, 42995, 46180, 33970, 15027, 26918, 20640, 11017, 43979, 33649, 55646, 7120, 39041, 33439, 20909, 32460, 40370, 59074, 13601, 21824, 29260, 39702, 16355, 24923, 69885, 56790, 38652, 20226, 3182, 59849, 62169, 33400, 36529, 27056, 60719, 2602, 40668, 40126, 44082, 75900, 25920, 46461, 60925, 24352, 11214, 18751, 4350, 67022, 53929, 44952, 17258, 34303, 8968, 806, 40662, 10227, 64400, 75402, 8821, 75154, 28390, 56193, 64349, 4056, 3963, 6331, 62884, 27809, 39938, 10718, 11102, 71919, 73714, 52057, 40238, 31289, 43978, 33362, 62386, 71562, 20987, 73519, 27258, 5831, 50906, 34261, 16992, 24580, 41380, 54785, 46867, 45727, 3754, 46833, 65151, 48709, 5852, 50363, 29141, 27170, 46803, 38332, 73765, 12485, 17993, 2854, 23657, 13321, 8254, 70749, 39959, 30089, 58830, 10391, 13473, 64647, 41190, 8118, 25344, 48456, 76295, 3739, 26670, 69453, 41215, 5835, 26048, 50567, 73789, 20696, 59654, 62848, 25802, 66863, 12996, 14458, 53842, 59912, 31099, 4297, 25545, 22686, 64860, 32198, 21309, 35970, 54593, 4116, 29288, 63189, 21831, 476, 46654, 8271, 51540, 28711, 10101, 52679, 68316, 17822, 45653, 40812, 50508, 12349, 22017, 9159, 45272, 3915, 62343, 16166, 45527, 74992, 56270, 4083, 70324, 53361, 25287, 11646, 15335, 39770, 20556, 53186, 6379, 24346, 22338, 61212, 46685, 67328, 32144, 50838, 35102, 24392, 75613, 74793, 36600, 40945, 15422, 37060, 48090, 59901, 20229, 56537, 27485, 72819, 304, 64861, 61785, 14187, 62482, 67241, 61216, 63886, 14949, 19622, 67481, 26326, 72269, 70996, 59433, 67134, 64736, 725, 70833, 38674, 58017, 5190, 35486, 66661, 70498, 33802, 28702, 62249, 48849, 75341, 41585, 6315, 17423, 30343, 60658, 35365, 23912, 41602, 16432, 16436, 67901, 10946, 51486, 71744, 25053, 29231, 40154, 16474, 12587, 68883, 62846, 10701, 29601, 20074, 23697, 18477, 17865, 25123, 62394, 25119, 9916, 288, 12515, 1288, 21545, 664, 43952, 50496, 32259, 19892, 7415, 20339, 38869, 56503, 40149, 7263, 58550, 17821, 16133, 57048, 65172, 24046, 65636, 39841, 10078, 72154, 5598, 69487, 57316, 25783, 34472, 27261, 50326, 48718, 13867, 54931, 37032, 70289, 53478, 17277, 75644, 58154, 61877, 18503, 43275, 53393, 42758, 2318, 71177, 6978, 40579, 52843, 819, 4514, 61261, 65791, 64728, 59847, 26456, 64890, 58918, 75510, 25690, 38228, 3265, 25797, 25136, 61064, 34277, 65864, 23125, 20629, 6922, 8720, 70260, 63320, 12709, 49085, 74708, 13675, 7346, 22797, 47398, 71157, 30019, 71517, 72658, 68698, 22879, 49153, 43359, 29404, 10760, 73433, 67754, 67849, 22425, 65533, 7314, 23607, 35921, 11424, 54394, 71139, 73179, 61168, 2529, 3088, 5365, 8211, 17478, 66740, 38143, 30232, 38246, 55830, 67238, 12624, 40174, 8549, 21395, 52254, 55824, 35306, 57126, 11158, 19111, 48287, 45843, 44710, 36563, 41086, 31312, 30634, 15968, 37593, 44538, 30552, 46405, 54015, 6347, 22996, 58498, 35882, 40992, 56531, 72281, 65332, 60554, 3430, 66889, 56501, 50647, 29041, 40502, 70088, 74720, 26972, 30573, 34166, 26821, 47944, 3794, 70544, 54550, 4662, 12076, 67540, 58161, 20053, 27213, 25397, 62932, 37161, 1260, 1561, 4704, 51846, 58380, 39427, 27779, 73253, 44631, 4790, 43668, 29472, 60724, 302, 59581, 43526, 49330, 53062, 53502, 3998, 31191, 70678, 19700, 57573, 68951, 33653, 63582, 50340, 13415, 26302, 22082, 8582, 66767, 71807, 46769, 54030, 69730, 38360, 26901, 6587, 8236, 27298, 30180, 39779, 71721, 60534, 9444, 35208, 32038, 12890, 40637, 869, 44312, 48133, 64803, 40169, 42905, 21050, 64314, 27306, 73452, 41045, 45517, 15887, 15088, 14225, 38515, 22602, 14188, 29467, 43990, 12369, 18462, 56261, 63302, 21194, 16912, 49599, 51445, 8343, 33446, 22897, 73523, 58040, 7773, 40824, 37232, 43063, 64823, 71913, 26735, 7452, 44733, 23714, 37650, 40063, 32653, 52341, 64319, 44759, 56462, 34574, 48617, 38351, 6943, 9451, 5599, 10493, 50465, 22515, 76124, 31075, 50789, 60118, 52318, 7028, 49124, 38973, 53281, 67722, 70575, 9363, 24914, 66291, 24530, 49860, 4753, 2305, 27034, 35038, 40087, 71377, 34356, 69748, 25016, 35100, 33789, 64959, 11917, 22155, 49186, 48885, 14502, 3103, 2965, 48636, 73271, 1691, 74456, 494, 48312, 64416, 6531, 24362, 42925, 73111, 30968, 14185, 52849, 29921, 60179, 20390, 7483, 13316, 49525, 5715, 61602, 71290, 27040, 65226, 30142, 57238, 4096, 70027, 37284, 66206, 42429, 60642, 39298, 60655, 56619, 27632, 47970, 53266, 25456, 12496, 45565, 20836, 7229, 801, 67910, 11148, 14717, 63355, 53192, 16437, 34770, 27579, 50263, 17252, 3193, 59644, 29395, 3063, 4914, 1192, 38220, 64142, 39888, 69445, 38727, 24479, 73386, 29168, 63672, 40098, 5352, 18002, 54233, 58006, 64775, 37202, 7854, 42700, 68896, 36271, 36218, 913, 38520, 1094, 15276, 4636, 26673, 58783, 58130, 581, 5128, 66819, 28969, 18473, 69757, 52618, 62854, 66808, 52938, 45809, 56240, 61422, 18545, 48361, 21187, 8351, 6293, 22043, 21474, 45341, 66797, 5783, 13073, 60093, 12258, 66447, 12271, 27846, 27105, 9911, 59719, 49744, 38921, 40118, 15012, 29818, 29390, 3869, 53712, 46512, 25224, 67939, 68420, 7847, 74468, 72753, 11052, 37075, 8394, 4628, 13259, 12532, 70969, 16846, 9237, 10321, 54435, 73807, 23884, 69874, 35539, 4568, 20296, 70486, 76012, 43792, 24292, 8859, 13051, 28248, 44598, 70242, 42719, 65686, 60470, 52238, 56019, 14752, 21044, 23308, 62012, 15325, 47279, 52305, 57986, 50250, 48081, 70016, 17638, 63389, 64334, 55063, 31141, 39753, 2636, 68042, 72186, 75984, 67188, 38844, 26950, 29087, 56480, 26963, 58109, 43294, 334, 60574, 25038, 10074, 52120, 47872, 49129, 14440, 41817, 44972, 14821, 52536, 12254, 43008, 52829, 53331, 19704, 19750, 48056, 14359, 38256, 52326, 19991, 42614, 800, 36952, 18061, 70522, 71150, 7892, 64821, 40654, 72142, 26692, 40885, 27287, 22896, 71808, 16561, 17330, 31284, 69309, 25015, 11129, 17922, 22716, 30044, 70058, 42040, 19771, 72946, 64425, 26943, 71689, 3602, 49676, 53495, 50264, 38412, 44814, 71264, 19460, 40113, 52396, 67492, 40606, 26845, 53840, 22395, 2846, 74994, 65011, 23992, 66607, 13887, 52354, 19435, 38196, 41586, 34239, 14332, 64230, 48575, 25478, 75973, 71834, 32442, 28361, 39244, 58460, 13629, 37696, 11863, 10524, 13507, 37841, 12461, 5277, 1303, 28994, 47100, 71507, 46599, 1453, 49756, 40703, 48274, 30622, 4466, 54382, 53252, 3079, 9574, 55021, 1940, 8883, 58822, 54907, 56729, 67253, 8399, 25295, 31112, 20100, 67521, 73092, 56043, 47289, 67656, 57850, 60897, 11244, 15745, 40232, 68589, 2038, 56545, 74762, 71656, 4612, 29820, 22607, 62225, 39415, 73977, 15795, 63151, 33738, 51757, 25533, 54976, 37603, 9953, 24157, 7856, 10993, 4619, 36567, 45447, 43188, 66845, 50512, 19383, 54019, 63174, 25454, 13062, 38100, 6176, 58502, 36762, 56631, 52654, 55953, 7719, 69196, 40782, 4423, 62703, 75247, 46386, 59107, 52537, 50395, 26687, 58254, 60483, 14853, 70886, 55505, 34408, 32946, 72505, 69992, 54356, 69210, 9624, 18402, 33610, 43345, 71875, 46809, 4860, 47915, 250, 23880, 39892, 53721, 60001, 73270, 26126, 65974, 9082, 60613, 8344, 4544, 30111, 50702, 49125, 66176, 258, 6817, 39744, 54313, 40955, 22382, 21806, 67568, 44153, 44239, 37987, 7446, 56626, 31182, 62679, 21186, 75160, 48259, 74904, 25005, 25427, 52788, 22850, 53916, 46081, 69562, 63262, 17988, 48307, 73664, 16087, 13150, 29681, 5630, 23364, 6015, 12935, 50890, 68599, 5436, 52292, 35743, 423, 45628, 45052, 645, 14066, 48524, 28919, 2116, 60689, 52094, 51371, 74290, 24728, 14013, 13277, 53385, 53440, 35123, 33731, 72647, 32814, 36547, 34738, 18995, 30413, 28894, 58283, 14008, 27843, 9180, 38296, 3592, 70317, 15238, 21944, 67831, 29554, 41532, 28594, 68371, 75747, 44754, 60379, 18654, 37101, 56704, 41733, 66912, 26144, 52171, 25284, 19611, 32691, 6346, 35437, 48095, 62790, 62572, 38757, 1687, 39084, 31034, 65526, 12140, 65969, 66207, 58661, 42414, 7372, 19305, 71538, 66734, 31709, 44655, 60807, 57801, 15233, 67846, 23436, 9527, 8237, 2982, 15503, 39407, 31259, 36856, 41663, 14660, 46063, 42118, 5462, 1274, 36879, 49145, 2422, 26889, 43462, 18907, 16579, 20690, 35787, 50089, 40650, 37065, 38211, 42584, 28727, 1319, 53131, 40465, 71595, 33087, 1952, 39547, 4745, 60762, 12325, 54456, 29919, 10996, 58183, 22915, 21023, 32514, 35982, 11358, 64868, 37931, 56690, 39615, 14419, 61642, 32340, 29916, 51277, 11542, 42565, 35792, 32920, 3692, 35293, 21453, 55616, 74283, 46757, 19254, 46149, 60331, 29743, 20064, 35405, 51762, 23373, 34836, 66204, 345, 23604, 73838, 44166, 2903, 5968, 9664, 55415, 38336, 60972, 21329, 33942, 9405, 58368, 17892, 37233, 17606, 2548, 34309, 37376, 56592, 66598, 3516, 42848, 3489, 69226, 71188, 32725, 9457, 63746, 68595, 25416, 49781, 13758, 28174, 13285, 38066, 71715, 19962, 69377, 7083, 64888, 28609, 32596, 17440, 70445, 35740, 12904, 9557, 69503, 59958, 53458, 1685, 30784, 684, 16714, 48926, 2833, 3123, 46358, 11020, 61902, 25749, 37491, 16388, 14798, 13539, 58511, 51978, 67089, 54199, 48964, 51474, 20925, 71546, 36999, 11186, 30615, 53116, 65951, 55147, 33999, 76175, 48570, 74962, 51391, 22225, 28781, 28846, 9040, 1665, 14311, 9305, 73916, 60059, 31611, 55856, 21448, 12272, 76078, 41935, 13735, 45508, 23874, 46062, 41924, 49022, 10819, 60599, 23523, 46753, 47135, 53475, 33668, 61207, 59601, 25075, 29376, 39067, 17069, 55960, 8711, 47109, 20893, 7409, 42416, 66357, 18160, 519, 989, 19518, 34983, 24297, 11048, 50095, 5785, 55170, 73182, 19795, 17683, 39223, 52641, 49494, 45106, 72748, 49199, 81, 66227, 56887, 34888, 72680, 28503, 3989, 12817, 7976, 14574, 19963, 56691, 37307, 24050, 40835, 62615, 35359, 39967, 15856, 64992, 17926, 49720, 25693, 10138, 59658, 31596, 46276, 72985, 32569, 24253, 2550, 31398, 31768, 46900, 40908, 37494, 16080, 44407, 12069, 56428, 4626, 63279, 46093, 59800, 61813, 24902, 55689, 25188, 47897, 2083, 50275, 44829, 53975, 57474, 59133, 63401, 11282, 31802, 60999, 23928, 26089, 65973, 18450, 71531, 47274, 58202, 1306, 62296, 50063, 63861, 71187, 64446, 50565, 13676, 32479, 66172, 39521, 46926, 18941, 26942, 20367, 29148, 15632, 57275, 39806, 51130, 390, 38713, 62637, 25048, 62423, 44150, 8590, 72656, 53154, 47196, 28792, 67866, 53403, 66004, 9389, 35550, 20393, 61949, 73379, 35589, 63041, 24020, 6388, 2114, 51323, 31583, 56379, 11252, 20205, 43373, 76240, 25058, 76219, 38525, 8985, 68556, 59587, 68523, 49207, 63202, 49098, 35784, 52534, 23327, 50978, 973, 37469, 73931, 61663, 55203, 53185, 47983, 69558, 32872, 53667, 53049, 49350, 68017, 24685, 12293, 56265, 71072, 16959, 29584, 63498, 70190, 8027, 16875, 31359, 34764, 72784, 7641, 15677, 71009, 13828, 54127, 76128, 4873, 51909, 24754, 17579, 65295, 13131, 14556, 11199, 3611, 39649, 54298, 49177, 36185, 42318, 20032, 68686, 4043, 53709, 53807, 48144, 74783, 15663, 30320, 26929, 60169, 35139, 67767, 35673, 69535, 74836, 52862, 26063, 36417, 5872, 29447, 7940, 66879, 53342, 44947, 22175, 28897, 47596, 1416, 31064, 16204, 66983, 75737, 5254, 23346, 32363, 68552, 14904, 10999, 17444, 67488, 53803, 52806, 52566, 36754, 31204, 50517, 47351, 738, 24996, 35576, 7102, 26951, 33271, 17896, 56905, 63292, 35191, 48905, 65364, 57161, 72468, 55274, 27277, 24139, 631, 52896, 4151, 36371, 51201, 19746, 49988, 1712, 28381, 17795, 59856, 38737, 40610, 32120, 37981, 56788, 41637, 32825, 8664, 34659, 26554, 70607, 47707, 36530, 17517, 47926, 13737, 3680, 23521, 24241, 72648, 42909, 73248, 18904, 59476, 33927, 22075, 10188, 39356, 7685, 65396, 14996, 23574, 34111, 41140, 21127, 49845, 67599, 15469, 35476, 64191, 71292, 25560, 17260, 56063, 64863, 38828, 19421, 2976, 56588, 14007, 61424, 42691, 9861, 11316, 10598, 62483, 27280, 51333, 35583, 46446, 20966, 60271, 54485, 1110, 48419, 69203, 36543, 73204, 25712, 23178, 41404, 19675, 75565, 26211, 34437, 26443, 60438, 28583, 35971, 46224, 71044, 70963, 45302, 76261, 11815, 63005, 3625, 58977, 55252, 64669, 25258, 23640, 48552, 3590, 57539, 53926, 22329, 54641, 61169, 39106, 69073, 2895, 27108, 45045, 26742, 34494, 61944, 18696, 29325, 52952, 38879, 59699, 24798, 10461, 58627, 19547, 2043, 27009, 7298, 34228, 21296, 6177, 48694, 8596, 16514, 8727, 69794, 44326, 24561, 30869, 37865, 61864, 61521, 11993, 71137, 8530, 52589, 31844, 65734, 17965, 62609, 63486, 58419, 49551, 37348, 43411, 53193, 36674, 55662, 14232, 17405, 807, 57452, 8228, 39907, 7949, 33593, 44456, 9100, 6185, 5870, 71121, 26143, 5176, 34389, 58778, 6602, 48017, 25490, 73485, 66030, 36173, 1519, 749, 28954, 73720, 74097, 33795, 75128, 41820, 48893, 53985, 68985, 40463, 53336, 1730, 73364, 35348, 38787, 43413, 26773, 76115, 39583, 25873, 36503, 41914, 60775, 26977, 5445, 39586, 27559, 5356, 44905, 37627, 65144, 30480, 73232, 23644, 57196, 64727, 1279, 63008, 33382, 13482, 32562, 69096, 74742, 40524, 19562, 73858, 10633, 5379, 69996, 11864, 55460, 1823, 22980, 74331, 49389, 40815, 18844, 46365, 48958, 51246, 48776, 40572, 10665, 49491, 55408, 63937, 63876, 617, 5581, 52914, 70028, 13481, 11895, 60407, 27312, 53927, 39199, 50419, 26591, 73894, 67553, 47163, 18639, 38142, 52871, 17004, 47689, 1105, 23578, 13859, 23474, 70217, 15636, 3805, 5363, 66458, 22604, 70785, 11804, 7890, 24069, 67667, 55217, 71498, 27465, 50075, 31896, 70582, 23772, 4422, 13065, 4697, 55002, 25852, 56065, 55458, 10409, 64530, 34934, 67291, 12920, 12697, 59819, 4893, 47283, 31337, 19477, 64759, 40346, 65952, 38164, 64391, 30520, 4688, 58193, 64227, 64645, 12390, 28570, 66794, 34619, 7868, 27263, 47624, 63444, 46689, 54920, 41217, 63518, 34663, 39383, 60048, 31904, 34379, 66873, 42594, 58347, 57981, 10132, 41477, 67865, 63584, 41463, 20, 1912, 64090, 58170, 75316, 58364, 45880, 62757, 43401, 64312, 55622, 18896, 33898, 19021, 50492, 61404, 73190, 65147, 60647, 16486, 32801, 48624, 43216, 75778, 65858, 56889, 64742, 13442, 39656, 52873, 58995, 6263, 8107, 66254, 59934, 24788, 26313, 22195, 73280, 48717, 48421, 26293, 50894, 4793, 51313, 4744, 6419, 18463, 3190, 22461, 75971, 7666, 73229, 53165, 22673, 62539, 57382, 47988, 28900, 53235, 69349, 63347, 7655, 41308, 19341, 14849, 14550, 71747, 40421, 71322, 71552, 31493, 73697, 67996, 64529, 56441, 1623, 38072, 50705, 69450, 57658, 7226, 17971, 65350, 14367, 29253, 44250, 60652, 73563, 34648, 71428, 38587, 23073, 18673, 25766, 53628, 65105, 72906, 75617, 24064, 53142, 54945, 55023, 10661, 36799, 54174, 52083, 14597, 5576, 61489, 19171, 24868, 73993, 31295, 4781, 56894, 57913, 74054, 73196, 43878, 52614, 7693, 45567, 65842, 69298, 65923, 7726, 68918, 31388, 18089, 39421, 33282, 24015, 68548, 57393, 41765, 62401, 55082, 22054, 55711, 7617, 59995, 73857, 39458, 66705, 16499, 42409, 12126, 57121, 13744, 47743, 4984, 7769, 46903, 36472, 28500, 51843, 49342, 55744, 29328, 6153, 68961, 65648, 53064, 15259, 59090, 59772, 19656, 20806, 44361, 15393, 3192, 11442, 74574, 949, 70971, 11874, 28675, 9032, 49039, 28097, 8617, 34627, 69930, 64287, 44294, 35131, 30389, 71059, 15599, 15010, 34233, 59486, 36793, 8491, 42751, 51979, 29132, 16291, 43171, 62903, 36637, 15408, 21785, 76209, 72715, 23528, 45214, 14750, 888, 74353, 3802, 27543, 31910, 11910, 71492, 64197, 54209, 26338, 20895, 8757, 67213, 61496, 57309, 2390, 17541, 69464, 48114, 17468, 53150, 23120, 13215, 26536, 32089, 50347, 7353, 26826, 53189, 47193, 59052, 38508, 67790, 62627, 64209, 10008, 23360, 4922, 51776, 24599, 34504, 8350, 34794, 64146, 67442, 46340, 36527, 65888, 13174, 69441, 39362, 12571, 76039, 46337, 482, 38930, 53875, 319, 59739, 14242, 43605, 3212, 40210, 43747, 18652, 26445, 9260, 15102, 33703, 44437, 40531, 43893, 5644, 55581, 47846, 56505, 66186, 73562, 68264, 60846, 22012, 48464, 31851, 9426, 70443, 17952, 49326, 31572, 28310, 5193, 34556, 13253, 14609, 17035, 157, 59623, 56978, 38677, 58103, 8314, 15292, 33447, 25339, 11452, 48448, 16309, 22147, 48360, 72574, 55584, 41026, 61564, 57131, 46798, 54698, 6897, 72492, 60860, 2946, 36321, 16035, 32809, 68214, 51499, 68008, 59364, 22531, 8601, 57052, 196, 39840, 17382, 15345, 64103, 40120, 5460, 5673, 70246, 54634, 39844, 74668, 44954, 53605, 14508, 38122, 26581, 75335, 60805, 74018, 67320, 28416, 16545, 22735, 15722, 1229, 56163, 48583, 3348, 22347, 62390, 30792, 28554, 10738, 2197, 43240, 44624, 11633, 6516, 63528, 75446, 15637, 32715, 28867, 76297, 31143, 63724, 55803, 57807, 49309, 13596, 22750, 22792, 6325, 13731, 56692, 46649, 43483, 9288, 58048, 40479, 17153, 30027, 40225, 9584, 15855, 22840, 42459, 23127, 37632, 13608, 9849, 44051, 48075, 55998, 6595, 61597, 53669, 34550, 56142, 13094, 33373, 42245, 63149, 74124, 15200, 64523, 48365, 35582, 73146, 75918, 52828, 9884, 26240, 10381, 20703, 30947, 31575, 34919, 62665, 28615, 29537, 10733, 18496, 70943, 8241, 7838, 32371, 8950, 55822, 6773, 71994, 24890, 63129, 35006, 69443, 10235, 10623, 32899, 74317, 67582, 41327, 56482, 13511, 18494, 32921, 64712, 21925, 7246, 65065, 35398, 30373, 68288, 66128, 58224, 6583, 18234, 67857, 42662, 1560, 16448, 37590, 26859, 65956, 32526, 37160, 71970, 66759, 60237, 67654, 49512, 37892, 70346, 46627, 33147, 44188, 49868, 18340, 67626, 12346, 4241, 69374, 4987, 73774, 14703, 43042, 24461, 17140, 63240, 50398, 46492, 2427, 766, 2925, 60694, 46087, 48122, 665, 11268, 33302, 28816, 54756, 59155, 1193, 72943, 12971, 51840, 32507, 65309, 22668, 53996, 47535, 60266, 1567, 53787, 4156, 12797, 20819, 75060, 14485, 3475, 20862, 72231, 28297, 66752, 73007, 75011, 64662, 40934, 64415, 10006, 42634, 48342, 34771, 40372, 24712, 24398, 20801, 21083, 25089, 10433, 3278, 42268, 8990, 42998, 54208, 58896, 12787, 61002, 23573, 15559, 44289, 69995, 60251, 72585, 22492, 63362, 29291, 22658, 44227, 22335, 33472, 70267, 76033, 49946, 68126, 21473, 2046, 24766, 49626, 69061, 43158, 69379, 11055, 72835, 15344, 15287, 58415, 58570, 22505, 28252, 50912, 62611, 18877, 26224, 75898, 33020, 73722, 67407, 55849, 6554, 29092, 3282, 45279, 36629, 42200, 46490, 27456, 60080, 10726, 16617, 72160, 64514, 37343, 35363, 69312, 66137, 35919, 4512, 39642, 7183, 4932, 30837, 15168, 53371, 29393, 69184, 71285, 65535, 7079, 63731, 21789, 75051, 34724, 43648, 40264, 19665, 61850, 44870, 40941, 26614, 74982, 21205, 30723, 35110, 20389, 70230, 25197, 56445, 48781, 13116, 59097, 71086, 63315, 69705, 45743, 23161, 17080, 10338, 15813, 58374, 27921, 8230, 27848, 73313, 69961, 17633, 35869, 13306, 73034, 18722, 19363, 30715, 76034, 35242, 41043, 58474, 62641, 16345, 6460, 59802, 41453, 748, 13464, 50011, 13185, 62030, 3491, 61672, 3395, 22807, 18096, 7786, 62285, 20820, 2020, 37404, 50394, 11314, 9815, 39455, 72246, 28693, 25622, 46167, 37984, 63909, 8406, 4979, 55014, 74177, 40780, 69303, 11855, 18514, 51356, 39754, 6732, 62971, 28107, 25653, 33677, 49628, 39523, 8538, 11345, 59125, 11388, 26834, 16721, 45029, 32241, 20539, 14979, 18532, 58937, 37257, 28916, 57964, 6580, 47257, 33152, 35559, 44628, 52293, 1058, 22357, 59984, 27148, 21855, 61980, 6891, 65652, 7553, 540, 29593, 16234, 32793, 15786, 22548, 51677, 46128, 68597, 53184, 43222, 14664, 59615, 8674, 49065, 11609, 21628, 53766, 21656, 73165, 6050, 57837, 70784, 53046, 65162, 41946, 66125, 44721, 22434, 31008, 23694, 49995, 13923, 33435, 46602, 18251, 35873, 45375, 37937, 74755, 14344, 44919, 70066, 20325, 8539, 11652, 58564, 28293, 1120, 50868, 21836, 14024, 15792, 12825, 3512, 48952, 42110, 32322, 11434, 67620, 50574, 16607, 18963, 18875, 18047, 12901, 13365, 6916, 3089, 35762, 11614, 1744, 24164, 19416, 51830, 1491, 68132, 25526, 44936, 4518, 75278, 31992, 22895, 58052, 55949, 28815, 16466, 16172, 65642, 69876, 5989, 23677, 11201, 14005, 42711, 25389, 5517, 39087, 44198, 67887, 64989, 6132, 5709, 11733, 44885, 39618, 49887, 57978, 65743, 15033, 37189, 7829, 50694, 33675, 48607, 49488, 27032, 32324, 25171, 39498, 8299, 13995, 72072, 24455, 1418, 29735, 6081, 43875, 52370, 26568, 64516, 3472, 43201, 36060, 20920, 13025, 6212, 33775, 72576, 57971, 65148, 54736, 68654, 55270, 38569, 54071, 51186, 61505, 73975, 27672, 74662, 40860, 11371, 56003, 7668, 51226, 67436, 57480, 17309, 568, 59200, 7913, 46131, 69823, 34008, 27416, 68302, 3894, 17089, 42002, 63165, 6518, 35115, 73760, 25286, 1644, 55990, 50311, 1237, 69030, 18698, 4701, 31201, 63219, 31610, 369, 41273, 20932, 16601, 31038, 26990, 34761, 36068, 54509, 71406, 62837, 4346, 56711, 61289, 19728, 26333, 64787, 11828, 55664, 22679, 58996, 59695, 5243, 59801, 8435, 36103, 2469, 57166, 30437, 38889, 36695, 60116, 59629, 1565, 58526, 53622, 54341, 71034, 40053, 411, 75210, 1373, 38918, 47269, 58781, 47972, 14389, 56037, 42250, 25254, 51966, 71175, 16681, 66569, 62008, 68797, 36643, 76142, 50018, 10351, 64431, 62811, 54856, 68855, 2076, 6865, 54873, 14227, 39375, 72319, 27364, 27174, 34070, 71334, 67199, 22622, 73687, 10534, 53601, 71934, 23383, 66655, 36049, 15873, 44776, 72476, 53824, 36873, 69271, 38597, 33639, 38791, 71604, 40202, 38221, 45608, 21825, 21097, 20153, 33606, 48714, 16507, 62, 26320, 71182, 49969, 69760, 44864, 523, 53751, 70122, 74534, 67103, 11720, 11067, 26167, 10193, 22111, 37821, 42082, 44092, 16368, 49349, 23666, 39729, 37191, 60577, 39710, 28123, 58655, 29431, 53047, 32421, 40873, 19422, 7691, 17436, 6245, 16477, 24544, 74875, 23162, 7711, 24052, 51441, 5532, 54342, 7513, 65881, 18950, 68114, 50949, 21516, 44750, 54120, 25625, 46084, 63368, 24739, 26593, 72194, 23736, 326, 22283, 30927, 63055, 64004, 40954, 19687, 60365, 28512, 46884, 42495, 25820, 29641, 71453, 3116, 1698, 67611, 37268, 30922, 71629, 27427, 25956, 51970, 53572, 67659, 50706, 54242, 35616, 5149, 57979, 47572, 2859, 65958, 43068, 23405, 28574, 43538, 72845, 34656, 25420, 20669, 74477, 36224, 21472, 64233, 53076, 10719, 73540, 37761, 11586, 53463, 47758, 24322, 54806, 25777, 39832, 25369, 30141, 19265, 56321, 60387, 44288, 47273, 40515, 7650, 46605, 66019, 50226, 20211, 61815, 68497, 340, 28652, 70709, 48584, 38836, 27255, 34763, 44819, 2766, 68527, 2587, 16970, 17217, 27988, 9765, 34296, 38603, 23510, 55626, 69651, 28461, 6362, 71258, 48136, 64249, 30673, 41557, 41423, 37468, 60334, 64729, 15161, 31614, 29258, 22619, 25372, 20392, 40924, 73875, 41287, 21253, 64284, 60378, 64066, 8699, 42860, 65802, 9965, 45352, 33398, 60191, 67220, 69916, 16475, 69353, 60447, 46357, 53420, 53397, 71687, 21856, 58547, 28465, 64643, 16872, 33155, 60079, 49875, 14490, 63221, 43318, 44862, 3112, 74416, 1562, 24768, 17728, 21622, 37783, 48561, 41472, 584, 51563, 67574, 44504, 12393, 60894, 21654, 53900, 24586, 38231, 65930, 39549, 76350, 33629, 45610, 30152, 58606, 67440, 5661, 32348, 34098, 20985, 38426, 33851, 58685, 22788, 60335, 43072, 61332, 24476, 66386, 61024, 36794, 72704, 40692, 30436, 43290, 65766, 20384, 22321, 62735, 66385, 49774, 30970, 50284, 25714, 39374, 29961, 38218, 1666, 68185, 54329, 36190, 36921, 4620, 71224, 27443, 33532, 35998, 47816, 31791, 45329, 75573, 13528, 25290, 2505, 61894, 43727, 49426, 36239, 8778, 63682, 9653, 57763, 9931, 17244, 60472, 47891, 63771, 21510, 2339, 32876, 6608, 33307, 43736, 69476, 49923, 24415, 75986, 26066, 43135, 12464, 55034, 921, 16396, 70124, 68976, 40108, 28863, 36869, 25886, 69935, 15062, 64258, 57603, 37131, 62321, 50120, 8403, 56898, 13504, 47547, 13137, 42938, 5477, 21273, 2619, 18781, 27128, 28346, 55753, 51352, 74434, 31714, 51421, 22503, 34201, 55119, 40831, 20588, 51520, 28624, 14431, 13614, 14424, 31628, 51568, 31978, 74522, 27503, 68412, 49605, 14871, 3078, 29755, 50811, 15697, 52112, 69337, 64900, 25004, 48510, 59274, 22368, 34065, 4446, 57516, 26494, 23503, 22472, 4007, 10745, 50440, 33354, 49449, 3404, 48963, 51455, 7039, 65618, 723, 24629, 38586, 25292, 50084, 32713, 9662, 9345, 32698, 56412, 44682, 51355, 60133, 71116, 34859, 66963, 12824, 29544, 5993, 53241, 68780, 35085, 65425, 3159, 67447, 75334, 13688, 6613, 52304, 8261, 49497, 33330, 51973, 69034, 46827, 59310, 11182, 20863, 3791, 58259, 74880, 1540, 11459, 30790, 21652, 39154, 40317, 75626, 13662, 6282, 61512, 45435, 14572, 29199, 58510, 56572, 16722, 19670, 8613, 43828, 58765, 10457, 33872, 17733, 70656, 10347, 8769, 979, 16700, 68403, 39762, 53784, 18786, 9156, 68704, 43701, 76182, 64492, 32660, 19155, 6472, 20780, 52139, 53698, 27397, 20674, 72347, 66806, 54373, 24314, 12998, 39028, 54074, 20020, 34768, 68809, 35943, 19813, 52200, 54111, 72759, 29465, 6239, 8098, 28639, 34452, 52153, 21299, 16324, 69530, 26500, 14250, 50576, 21953, 52360, 44614, 70813, 71882, 36771, 45226, 22436, 25273, 45170, 18075, 47410, 33410, 57841, 40563, 9845, 14349, 30248, 4450, 73845, 36824, 12834, 42039, 13611, 34142, 47384, 21119, 66035, 24828, 49362, 49320, 1018, 41730, 36214, 32571, 51178, 31073, 42799, 7307, 5603, 64160, 26899, 43826, 36835, 17250, 72450, 43014, 31000, 51753, 46703, 49965, 5833, 18276, 62914, 44078, 25787, 13287, 12082, 51191, 8624, 35928, 69229, 27373, 24894, 59336, 74169, 53044, 2594, 38202, 10613, 10951, 58118, 32624, 23296, 63794, 29140, 74521, 57183, 23011, 27607, 14189, 36436, 43408, 233, 5920, 70120, 60253, 47341, 7999, 74479, 61911, 10219, 44921, 50178, 7701, 62085, 16469, 62345, 32927, 16903, 27196, 62839, 71613, 46402, 70543, 4305, 71070, 25153, 21154, 75085, 37091, 9833, 43524, 57545, 67952, 2275, 22051, 32919, 31205, 11608, 39095, 26681, 41162, 26236, 29272, 56997, 44488, 6968, 21071, 34911, 49609, 18770, 66396, 29558, 65384, 51120, 19347, 20526, 54392, 35711, 38998, 42471, 29058, 56942, 61889, 73892, 75816, 7673, 6450, 56854, 25227, 45876, 41063, 7347, 59744, 54754, 14682, 73015, 11062, 4298, 58651, 57182, 25763, 61477, 53639, 59893, 54475, 22644, 2494, 40277, 53071, 50083, 65977, 11948, 34666, 32226, 74969, 55000, 32626, 74569, 61567, 16122, 33334, 40228, 35219, 53659, 43744, 13876, 25043, 43360, 48892, 20109, 11921, 11526, 24037, 55405, 63661, 73746, 68871, 17228, 70922, 25673, 24318, 53179, 52231, 61405, 9771, 58261, 62441, 67777, 4950, 69684, 12862, 32722, 59559, 72815, 67196, 72541, 14174, 3365, 20309, 44497, 36714, 64774, 19779, 57199, 17755, 64384, 37537, 3584, 28777, 51097, 75262, 34130, 59435, 37156, 53891, 62079, 21288, 61067, 25985, 38367, 57397, 48123, 48383, 7492, 25546, 11508, 4401, 71027, 21027, 36996, 51343, 72502, 30674, 23419, 28079, 57731, 63113, 28718, 75075, 53083, 4284, 64660, 42596, 30669, 54028, 43913, 49096, 7301, 57719, 52947, 57147, 25066, 6350, 63393, 36863, 9044, 25247, 17130, 63422, 1630, 67495, 22694, 20968, 69791, 72855, 31774, 45083, 59627, 10949, 50343, 65783, 19954, 44349, 58720, 75175, 2837, 70906, 65444, 62743, 14647, 32349, 73150, 20087, 43502, 18467, 39070, 25410, 50799, 32590, 65950, 34400, 65231, 1263, 46629, 14064, 67775, 16114, 59597, 19179, 74055, 43260, 75940, 40224, 69826, 45928, 30470, 41705, 47820, 44973, 20998, 29033, 70918, 7708, 5015, 19533, 69448, 61733, 28076, 32640, 13838, 58578, 17657, 13052, 28763, 22080, 21715, 68761, 37237, 72844, 51705, 22348, 29831, 10397, 73707, 60635, 53997, 22424, 41013, 50940, 33284, 20891, 27217, 59385, 43370, 36647, 59349, 40243, 4559, 38567, 37443, 36572, 32022, 16853, 26136, 25499, 4215, 37475, 18361, 39998, 51583, 55531, 68899, 76146, 65447, 48005, 58187, 43005, 41708, 43560, 70420, 45205, 60445, 6812, 9352, 68944, 18830, 50604, 25846, 52174, 28204, 43052, 30660, 4555, 6683, 30406, 24572, 24234, 25613, 34505, 61739, 36066, 40432, 67862, 73113, 70507, 4832, 57168, 61913, 22672, 61530, 63781, 69749, 3585, 45451, 11691, 35228, 73538, 52569, 70531, 28502, 32666, 24919, 58967, 38219, 25562, 61823, 18878, 71173, 59710, 64326, 33549, 39923, 34433, 16501, 7040, 73483, 38046, 40069, 38562, 61481, 34286, 6304, 13404, 66120, 9344, 2497, 75111, 64628, 45872, 23596, 7536, 70378, 70938, 26926, 51783, 25610, 12104, 29722, 69596, 73013, 63477, 38838, 54797, 32406, 10849, 20749, 9504, 6933, 66844, 59018, 71991, 68005, 44833, 18740, 31731, 54355, 11471, 49826, 6092, 73257, 57857, 50358, 55216, 32221, 6976, 40736, 30057, 816, 44748, 32189, 48770, 8492, 9098, 49068, 33753, 52246, 14598, 38440, 6771, 66952, 39835, 67177, 6493, 46576, 48042, 35527, 67802, 61098, 61874, 20680, 65684, 63670, 50387, 1906, 23028, 37885, 35418, 52902, 69449, 70087, 45736, 13231, 22798, 17029, 54430, 51424, 22863, 11701, 20510, 9657, 14141, 47077, 21666, 16837, 59289, 63391, 40458, 5396, 49726, 52424, 50657, 58682, 31839, 54215, 37829, 49898, 61880, 9714, 56529, 63293, 69914, 6712, 15698, 63354, 40776, 40429, 59070, 11975, 13600, 23425, 37428, 38271, 17345, 10802, 2709, 34909, 35667, 26537, 35602, 19730, 43046, 52990, 19030, 75799, 21884, 396, 3483, 70054, 48903, 18780, 29917, 51104, 12805, 44524, 72, 10861, 7456, 33758, 2237, 57407, 50579, 32952, 69248, 75441, 55423, 68340, 68690, 28634, 60297, 17307, 29739, 12522, 21294, 55224, 23453, 71741, 43940, 43630, 40612, 37495, 1188, 42764, 55802, 37601, 67463, 2607, 8459, 49846, 37637, 11352, 14910, 48184, 8810, 76, 10009, 64267, 37063, 21322, 13213, 2107, 23723, 66000, 12098, 72416, 12385, 36504, 42420, 47185, 54144, 10327, 53295, 18552, 73119, 61680, 16963, 50769, 62058, 61015, 26218, 65428, 62963, 76091, 42627, 47667, 9017, 65336, 42093, 29048, 69540, 24120, 58441, 65788, 4280, 620, 9089, 40334, 48293, 34844, 4479, 22324, 6430, 63122, 71089, 51780, 74465, 54406, 71754, 34743, 17543, 55480, 70202, 5863, 39294, 57342, 9245, 67275, 12178, 3808, 63461, 17241, 29254, 6314, 23828, 24399, 22617, 70742, 37680, 28349, 66736, 57883, 28739, 20970, 42101, 17078, 71637, 45801, 25078, 42710, 48571, 66462, 43582, 23119, 7437, 72619, 48777, 5810, 11232, 58480, 55135, 20737, 16229, 72824, 71673, 19651, 4386, 40696, 70118, 5660, 70273, 37546, 27647, 151, 39936, 38740, 64410, 47201, 60529, 27875, 26648, 33223, 6218, 65592, 42211, 75876, 997, 65927, 59138, 28254, 36463, 25445, 24619, 15166, 5972, 59844, 19904, 69011, 58784, 54528, 19671, 15004, 47772, 43843, 36649, 1935, 55710, 63277, 38664, 64528, 39213, 75722, 63922, 28860, 48015, 40708, 360, 51496, 55095, 55062, 35501, 47520, 32275, 18595, 27926, 26548, 55755, 74489, 28006, 74728, 17248, 4597, 70004, 72475, 31430, 51627, 48166, 48830, 71457, 7074, 44594, 37497, 49032, 69301, 31652, 45549, 29235, 23202, 297, 19586, 65473, 69087, 62960, 72987, 55417, 67720, 53448, 31743, 28865, 55380, 6564, 10852, 59012, 20910, 66124, 9376, 51787, 56375, 13508, 19160, 63101, 19938, 38011, 13357, 39204, 45685, 20015, 30292, 17100, 63695, 47821, 25952, 44097, 57993, 13710, 68029, 35934, 59632, 27426, 20411, 27380, 18935, 948, 57855, 54099, 65489, 32208, 44372, 26222, 45707, 66320, 55488, 27555, 42887, 13752, 11142, 54252, 29031, 40029, 10380, 66563, 29353, 29385, 45528, 59459, 33033, 14932, 38139, 47669, 59991, 10608, 35577, 12055, 47942, 51990, 68582, 31236, 727, 24673, 73625, 56732, 3993, 54895, 49815, 36545, 3757, 5910, 64897, 31960, 66086, 61298, 19496, 33876, 24606, 25973, 75605, 43032, 35890, 36312, 33679, 41149, 45721, 46051, 37844, 13334, 22163, 41073, 48404, 26038, 26056, 69490, 26239, 45689, 52964, 10148, 37918, 35023, 70406, 35976, 23543, 36256, 18775, 51170, 33421, 63561, 22268, 9126, 63394, 21565, 25423, 57933, 58831, 57918, 56355, 55050, 6853, 47408, 63255, 64145, 47454, 39911, 49374, 39001, 45662, 72352, 72509, 40198, 57751, 46069, 19669, 39681, 62314, 8533, 52705, 28095, 51712, 23940, 34412, 51863, 70952, 75321, 31512, 73793, 19679, 38467, 55174, 25299, 25305, 46645, 45648, 34614, 72936, 27352, 55851, 73020, 24837, 13290, 10749, 70695, 74037, 63066, 65914, 25477, 55902, 10911, 36092, 22081, 1954, 52735, 26723, 16822, 23822, 68262, 20220, 12206, 58530, 70148, 40476, 30110, 14034, 66276, 15106, 19664, 71241, 3758, 61421, 19620, 45656, 10840, 57582, 65580, 37359, 71396, 17729, 54826, 43060, 22121, 19650, 24452, 19218, 41498, 35615, 25444, 58943, 37731, 27829, 28559, 6836, 63106, 52063, 31793, 30304, 1201, 42286, 24569, 60015, 41619, 12876, 4347, 12200, 72525, 72551, 56104, 16383, 27254, 70973, 40614, 4012, 47880, 57255, 57150, 2131, 15453, 8311, 29226, 18303, 75390, 6031, 9258, 71242, 23930, 43347, 59154, 44887, 7172, 63635, 15080, 22595, 18679, 1477, 15111, 26732, 46915, 14084, 67558, 27952, 61836, 72343, 49036, 20715, 12652, 12969, 38882, 56496, 59417, 7262, 57611, 61943, 30317, 47940, 28868, 17812, 53571, 26867, 51361, 26620, 29218, 47438, 67343, 6685, 42151, 12518, 50475, 72628, 31283, 55161, 10860, 36603, 454, 66724, 49506, 2250, 69185, 43598, 17572, 23679, 18092, 53493, 44404, 66742, 16386, 55100, 36143, 7328, 62362, 22870, 14817, 30605, 73534, 22683, 49031, 12800, 9168, 42436, 32201, 24308, 70133, 18430, 59466, 26356, 66732, 64302, 65769, 68313, 39780, 31654, 6539, 48253, 57887, 30793, 40791, 24112, 10214, 71152, 28880, 50281, 54781, 5337, 11448, 49874, 37773, 37741, 10406, 59297, 29319, 34122, 25019, 51224, 35184, 59479, 23234, 21270, 41576, 27758, 4359, 54636, 12580, 25022, 761, 59983, 6036, 6542, 18645, 27682, 55615, 61761, 48473, 30230, 28218, 68710, 47364, 50094, 42308, 23526, 17973, 62628, 6327, 6272, 46058, 40288, 54497, 16675, 45838, 50925, 14142, 43047, 38807, 41414, 3675, 61206, 39742, 23905, 51847, 58447, 71590, 26736, 74035, 22793, 23730, 49620, 26292, 43594, 29499, 43461, 58872, 408, 69837, 2915, 36253, 66526, 34220, 13603, 48412, 23473, 11822, 58975, 5084, 13381, 1307, 71622, 68480, 17480, 56048, 7982, 71259, 28411, 66554, 70068, 10897, 50048, 75585, 6648, 20215, 40196, 33425, 34965, 17181, 17146, 4572, 22783, 6966, 21574, 8834, 14520, 39948, 63792, 57301, 67739, 28379, 51116, 56398, 19393, 60736, 53736, 25105, 17815, 41777, 368, 50727, 49335, 73460, 59060, 38863, 60766, 60464, 7511, 26758, 76156, 56568, 55719, 32283, 4520, 51638, 72653, 7055, 16679, 8113, 60028, 3700, 65816, 15748, 65768, 12886, 18691, 28074, 23519, 26039, 41893, 29228, 51815, 24060, 29308, 10364, 1154, 57228, 64599, 19252, 41218, 44971, 18789, 16180, 42157, 70599, 14151, 18778, 64092, 54805, 72046, 46962, 25446, 61788, 43183, 65660, 20446, 27864, 54048, 58425, 48181, 41436, 25285, 484, 53921, 39325, 68021, 42467, 20716, 41156, 44213, 36471, 9764, 69774, 14755, 65848, 64657, 71670, 5279, 20490, 48055, 16124, 14352, 27299, 55838, 65706, 57878, 377, 44211, 7510, 6208, 21765, 54783, 74360, 32420, 46502, 33027, 57359, 58934, 74446, 60226, 8723, 39939, 18152, 28368, 1490, 55243, 32097, 61769, 16313, 69433, 17416, 76150, 70013, 53291, 68367, 56949, 22899, 24899, 3832, 40538, 44784, 53499, 6731, 9985, 58978, 21368, 62972, 73500, 52312, 612, 25266, 66334, 74890, 10508, 62764, 49257, 32047, 21386, 35828, 41023, 50718, 34127, 68603, 74095, 39314, 2174, 45149, 58743, 14384, 13890, 37309, 72633, 39763, 37906, 13072, 58376, 49035, 3898, 59963, 4367, 34375, 23941, 60204, 65076, 49843, 56067, 31434, 17477, 72175, 6915, 35367, 36087, 56333, 69753, 76264, 51075, 72290, 513, 63222, 11971, 15229, 61920, 22883, 2585, 42091, 69214, 51880, 15546, 57750, 32724, 7099, 37823, 67786, 11832, 64681, 42049, 54338, 47479, 25055, 9602, 22697, 73288, 28150, 23932, 55863, 63610, 14830, 26841, 23660, 67217, 61694, 56642, 55648, 4747, 67024, 4065, 28154, 45845, 73183, 61313, 55636, 37969, 60700, 64003, 24146, 53240, 51839, 59694, 53559, 1070, 42001, 34969, 5999, 58645, 37117, 60798, 11611, 56988, 73514, 4364, 22767, 33495, 55574, 76079, 39454, 5955, 49529, 38643, 75594, 60188, 37890, 65321, 26169, 25900, 45379, 38261, 21928, 62645, 28307, 64879, 36967, 26404, 75355, 75303, 70521, 70844, 39369, 56103, 50276, 36717, 69367, 53128, 44572, 10532, 27886, 53043, 16539, 59449, 72598, 63986, 13646, 28616, 50529, 35680, 46699, 37629, 52596, 678, 64037, 6913, 11761, 29577, 70041, 2008, 6174, 19249, 33159, 19279, 24954, 54533, 4990, 20825, 18964, 42976, 58268, 50528, 19352, 43588, 12214, 48188, 43098, 11754, 31738, 51845, 31427, 43080, 39576, 73874, 66546, 35143, 30365, 472, 38150, 35384, 24254, 62361, 72578, 57628, 63380, 3706, 70051, 39610, 30484, 40305, 59250, 55419, 18293, 42188, 30799, 76077, 23399, 19057, 37142, 57836, 75914, 12731, 28802, 51028, 1964, 70919, 6204, 60541, 1457, 65656, 63951, 62025, 15782, 26885, 13551, 13940, 44590, 47247, 2216, 7658, 66626, 22867, 61634, 46949, 18454, 68334, 1283, 50389, 27245, 21646, 68813, 59923, 18783, 62749, 63967, 14477, 44451, 42576, 63828, 9960, 51497, 58893, 41982, 48613, 50163, 25742, 56318, 48626, 57829, 49598, 14462, 39432, 27712, 7225, 59604, 8063, 10453, 68542, 17430, 9552, 74735, 24557, 20511, 39404, 4327, 1785, 37188, 60612, 29470, 39506, 71128, 58353, 58802, 50510, 37589, 61276, 24238, 23009, 393, 25379, 68025, 35923, 47687, 14176, 16091, 7665, 59175, 10988, 44773, 35109, 58296, 71347, 21068, 42204, 41872, 37444, 74417, 40861, 21198, 14360, 5808, 14001, 59759, 45898, 53695, 18900, 67042, 12015, 10699, 60050, 42656, 15826, 13441, 62111, 53113, 24246, 39741, 44542, 63117, 52039, 61628, 58987, 1119, 15937, 62496, 58736, 46674, 36838, 25619, 66466, 56705, 48555, 45994, 27565, 24215, 15438, 353, 34873, 59592, 42894, 16494, 51835, 3711, 18851, 21155, 8373, 35931, 31184, 19109, 9983, 11274, 36398, 55379, 11234, 69348, 75675, 70722, 2113, 49391, 64020, 58690, 58101, 40735, 72747, 66192, 21062, 3229, 50813, 53202, 9723, 55733, 65896, 42590, 18646, 32049, 7755, 30725, 11595, 20947, 30827, 18455, 29013, 44646, 63601, 59768, 65083, 67973, 27589, 35944, 11320, 35568, 28129, 39392, 65747, 42609, 675, 26133, 25585, 17545, 50288, 24512, 46202, 3724, 21724, 55769, 70618, 68975, 75165, 73802, 50365, 70824, 470, 24783, 49323, 49328, 25697, 58223, 6612, 22834, 48382, 64679, 15889, 55558, 45267, 75167, 58902, 3841, 2428, 63707, 23815, 53318, 7334, 52713, 46437, 42007, 27704, 8393, 22585, 15440, 46349, 10976, 54712, 604, 70578, 23250, 26280, 28923, 72600, 44651, 62605, 34313, 57889, 42733, 36447, 51182, 14547, 47370, 19980, 18404, 46719, 5155, 5488, 8047, 46690, 64010, 24088, 6332, 58102, 1835, 53731, 40946, 62325, 42194, 26945, 65205, 56338, 33229, 27960, 64786, 57786, 10583, 38770, 12402, 62882, 49889, 30244, 59636, 10064, 58399, 8258, 1349, 76113, 69315, 4817, 44801, 36556, 21710, 19907, 60603, 73445, 51239, 17734, 61347, 59957, 38157, 74801, 23198, 49850, 11513, 54692, 49809, 54087, 35314, 40456, 60463, 52315, 37728, 14049, 54434, 41688, 69973, 64642, 39378, 43551, 39140, 30169, 15273, 24370, 29481, 25643, 59245, 28340, 8868, 67030, 17558, 61526, 12474, 53433, 28288, 38167, 11805, 21436, 50256, 2592, 39737, 45374, 26907, 55872, 3685, 52084, 16162, 259, 42944, 46819, 69768, 37300, 21105, 356, 68494, 20808, 6051, 4176, 8416, 44941, 32778, 21911, 58173, 1118, 14921, 53831, 40545, 16830, 16146, 9393, 10287, 27051, 73071, 26649, 30773, 47681, 11834, 73956, 60274, 69866, 32375, 22226, 58525, 60837, 6154, 51131, 54421, 47647, 43591, 2179, 26159, 26150, 11088, 38268, 68004, 3830, 12006, 46373, 713, 26011, 2371, 7596, 57297, 19953, 33444, 60832, 40651, 74229, 40758, 14578, 57236, 43835, 1166, 44532, 15654, 29335, 7825, 73910, 67084, 69460, 35875, 27030, 33834, 7462, 21799, 71503, 30775, 18784, 4941, 24841, 1946, 27763, 23547, 53460, 16976, 65667, 41806, 29939, 53906, 20268, 69194, 30173, 41517, 7582, 24218, 51259, 31658, 28289, 53699, 3502, 31784, 7714, 65794, 3840, 58874, 7864, 27925, 69081, 30943, 42549, 18622, 43764, 15649, 42635, 28481, 43077, 49178, 52344, 43349, 58330, 66177, 5191, 36671, 57031, 1959, 50211, 15555, 50923, 61004, 46646, 16056, 24235, 56167, 64033, 42155, 44840, 14093, 51989, 54603, 70528, 72624, 64291, 66115, 40229, 23207, 70131, 19079, 27423, 51477, 55942, 69118, 14165, 27082, 47426, 37854, 7062, 72315, 14041, 28463, 15854, 21047, 49245, 25514, 38230, 70214, 20783, 4093, 45305, 25711, 41838, 64502, 1214, 18743, 69576, 27915, 49972, 41620, 47660, 52911, 10505, 40181, 13058, 69284, 67848, 18183, 73463, 69845, 7160, 20467, 70890, 5478, 26419, 48465, 1116, 49916, 56818, 60458, 1758, 2201, 45139, 49499, 75447, 3313, 30604, 53396, 31698, 69007, 57220, 25077, 52155, 40304, 33759, 30600, 62044, 6274, 61768, 40147, 27964, 58544, 75920, 61164, 41, 29953, 65510, 43309, 57591, 23121, 69071, 5052, 12168, 62352, 52972, 47442, 31144, 2869, 30555, 42428, 8007, 28751, 62706, 13871, 21354, 61121, 55793, 30091, 24145, 7544, 14483, 65338, 27910, 46969, 695, 22841, 32124, 27690, 73247, 5679, 17546, 44502, 72240, 23322, 6429, 15706, 58701, 42171, 59635, 41605, 50851, 6339, 3951, 67864, 42398, 7250, 64635, 36070, 62340, 60721, 41352, 57508, 21768, 36427, 76010, 39073, 39309, 9272, 59221, 53377, 49894, 50929, 68317, 14279, 24413, 53959, 44170, 53333, 15349, 74087, 61150, 65813, 5075, 34615, 32681, 11211, 63943, 49825, 522, 19143, 8205, 44949, 55143, 42042, 57858, 52004, 19761, 46756, 22199, 58763, 20647, 41094, 5112, 56306, 58898, 48359, 37618, 60806, 9207, 410, 15368, 61681, 51885, 38880, 44099, 27889, 21049, 56552, 75599, 6045, 5763, 14128, 58675, 41885, 29463, 12500, 60172, 76001, 45037, 31273, 49953, 6291, 27472, 33607, 6941, 20179, 34956, 12259, 10548, 3787, 42260, 17183, 63921, 20201, 19172, 71535, 12569, 13024, 64800, 39372, 46723, 59411, 7771, 1948, 2832, 62626, 11792, 55344, 65145, 42466, 47641, 41005, 57042, 52458, 52336, 6150, 41809, 70033, 31198, 5772, 48978, 26454, 11865, 14207, 50466, 52408, 55893, 68253, 39860, 25139, 41360, 62146, 39931, 56323, 60190, 71434, 70355, 73407, 33971, 70401, 47907, 72557, 7717, 74403, 34136, 55740, 73537, 40746, 39913, 44571, 15063, 46983, 38076, 55506, 38862, 39326, 69300, 41354, 12676, 16111, 18068, 18974, 59740, 62381, 42687, 4169, 12896, 5389, 22934, 60786, 44494, 26475, 68045, 64842, 53587, 6120, 11644, 42492, 37946, 60660, 51337, 66644, 27651, 31197, 30267, 37571, 9477, 14523, 30879, 12788, 47512, 28855, 24757, 51060, 66155, 28530, 26478, 47914, 26121, 13371, 61650, 9266, 31421, 49325, 22545, 3030, 17253, 41233, 15251, 65215, 75048, 28933, 46644, 27002, 32656, 64714, 32428, 67236, 17532, 65415, 34668, 47824, 57670, 11227, 60354, 10779, 15645, 7073, 29949, 48152, 69058, 50855, 38854, 57431, 69062, 63547, 28963, 20186, 68880, 15958, 3762, 3572, 30093, 12253, 51043, 23123, 28970, 44335, 18982, 42796, 57438, 62246, 60823, 70683, 19969, 56829, 39640, 26267, 38380, 4118, 54849, 14255, 22538, 50553, 13636, 10921, 49292, 4670, 67149, 72794, 23081, 40497, 51565, 67619, 4287, 27992, 39396, 59233, 64763, 732, 8483, 24650, 61900, 23001, 1286, 49455, 22874, 49227, 47716, 58012, 25614, 43926, 29903, 70085, 37221, 36477, 36002, 73506, 65937, 22660, 854, 144, 24513, 62004, 58549, 19668, 64332, 71785, 20264, 55232, 51476, 48850, 8218, 3510, 60864, 6694, 35988, 61561, 60477, 35639, 7440, 50335, 31858, 55011, 37750, 6904, 43176, 12080, 34825, 28716, 48496, 58770, 41245, 52234, 7996, 68, 28520, 29415, 16278, 68344, 26764, 31510, 16077, 6046, 23259, 59828, 419, 43688, 70438, 39745, 62705, 68212, 64841, 16177, 42111, 32733, 38334, 3070, 74954, 1419, 982, 25434, 68211, 1692, 28460, 65486, 2476, 65906, 12316, 15590, 21686, 25661, 45766, 75434, 72279, 13777, 1160, 10566, 12809, 28936, 65060, 15351, 44613, 72093, 52619, 9512, 17388, 32274, 50960, 70301, 5001, 72668, 44295, 35504, 41889, 41897, 24556, 52009, 2183, 71031, 51237, 22653, 3286, 38107, 37923, 51697, 29994, 4592, 57425, 26107, 7645, 60675, 4229, 34364, 33914, 56098, 16173, 7020, 17807, 34441, 4721, 5258, 46061, 65462, 8963, 30849, 24190, 2327, 3019, 11603, 38120, 44478, 28015, 32632, 549, 8193, 20949, 39186, 48857, 2475, 33265, 66043, 68512, 65140, 8905, 28937, 13363, 27612, 21645, 46849, 64581, 14297, 54225, 76293, 30810, 16217, 48002, 60512, 50545, 11683, 68493, 30995, 27486, 73126, 71205, 14619, 62504, 40519, 63767, 45111, 10281, 5463, 73449, 56778, 73121, 11655, 13338, 63418, 70921, 10767, 45860, 28636, 60566, 47709, 17137, 20645, 44331, 34034, 52038, 46842, 27957, 35207, 5575, 32182, 50023, 8509, 1291, 21507, 41822, 71398, 31419, 45614, 48509, 24805, 20182, 9136, 47292, 28073, 14680, 68041, 44911, 49596, 38372, 45878, 42824, 59764, 8750, 12574, 17925, 59483, 66130, 66482, 53243, 831, 29957, 39556, 74410, 55077, 46563, 17967, 47153, 75389, 31348, 43099, 50333, 66656, 61744, 14801, 13063, 5605, 39736, 4849, 30804, 25828, 27916, 73498, 61933, 62976, 47158, 25948, 52892, 61636, 11025, 16328, 21193, 57090, 371, 9328, 62404, 7132, 54404, 45734, 34639, 30032, 52313, 13268, 13456, 23766, 51145, 54101, 49996, 59535, 5951, 70158, 18911, 69984, 1942, 34035, 45324, 40979, 33717, 67021, 19564, 1207, 74803, 6398, 48988, 4942, 12233, 123, 3843, 9660, 42173, 58444, 52811, 51756, 2483, 59677, 7743, 18903, 34681, 13156, 21033, 29981, 60480, 46238, 69211, 55827, 48260, 26827, 75306, 72645, 63247, 2011, 41516, 17846, 45163, 4521, 60403, 12614, 14953, 62158, 42282, 59132, 57561, 63608, 42160, 74939, 69032, 13684, 70441, 72646, 53115, 49092, 54214, 40506, 25041, 74364, 58792, 63819, 11689, 36904, 24762, 28474, 73606, 60155, 12426, 10213, 53300, 557, 4771, 37666, 35751, 59497, 1803, 5866, 66249, 60109, 72490, 44155, 45667, 13135, 45828, 4251, 4486, 57488, 54808, 43815, 52774, 21223, 435, 10093, 65831, 1287, 21398, 36273, 34868, 73940, 18989, 72837, 9360, 37471, 6284, 6934, 12636, 70710, 20954, 20733, 30101, 72599, 22403, 44465, 66348, 2547, 75600, 65944, 38448, 7918, 39448, 8116, 71598, 39773, 13570, 21606, 6107, 11700, 66699, 9632, 39588, 4256, 9649, 30641, 10323, 60315, 12687, 39168, 65875, 12021, 27942, 34678, 20976, 63432, 65586, 34426, 5633, 70390, 70470, 11817, 35375, 19187, 47448, 61225, 72461, 49571, 20718, 7052, 7087, 12164, 50611, 62810, 8908, 65752, 19645, 32329, 51602, 42515, 73693, 40997, 22733, 46413, 60234, 47809, 64539, 73645, 71315, 37164, 12032, 20618, 57216, 14313, 30297, 55572, 37935, 30403, 19984, 53045, 30515, 66553, 69473, 57106, 60768, 8706, 16107, 75988, 51766, 27866, 72616, 54709, 47428, 35487, 66169, 40173, 36627, 67907, 21863, 5388, 50959, 51305, 19763, 46257, 58249, 25572, 35850, 40410, 60256, 15133, 32306, 9760, 53593, 24339, 28902, 58514, 61720, 41381, 27687, 60402, 32925, 34933, 45300, 8388, 71460, 155, 17392, 21600, 42209, 60262, 56715, 63161, 23658, 9033, 38087, 20451, 46055, 14658, 76158, 49354, 8812, 12517, 41797, 24932, 866, 68335, 16483, 42378, 2932, 13369, 57113, 37784, 52815, 67087, 8210, 4088, 43728, 72311, 39876, 16600, 16835, 3381, 56062, 56444, 70559, 74096, 58598, 33324, 30329, 72877, 53634, 11079, 63500, 66630, 53958, 15128, 52512, 14403, 553, 53387, 51099, 14791, 59700, 11407, 26668, 47730, 74139, 20855, 9546, 44894, 66094, 56085, 72110, 13980, 40083, 74650, 65995, 27885, 71045, 70718, 64845, 60874, 2292, 44243, 66583, 14022, 30234, 53306, 12682, 48725, 66113, 62128, 68852, 69815, 32081, 1030, 58141, 12931, 74945, 35239, 9996, 54877, 46625, 142, 39816, 74587, 6910, 38473, 14559, 51322, 60877, 74172, 23914, 20627, 38291, 40047, 16960, 53924, 66697, 50386, 22350, 65748, 8128, 32017, 60586, 60879, 24793, 9828, 70121, 26427, 16266, 279, 11419, 13347, 73859, 19335, 42735, 44966, 19529, 56983, 53263, 22204, 45210, 56804, 69280, 59474, 30506, 59213, 74808, 37252, 48290, 51245, 45964, 40008, 28470, 72962, 8184, 37499, 61957, 16519, 75279, 16662, 55864, 47688, 71920, 3638, 22481, 31963, 2533, 60496, 46765, 74091, 30626, 47717, 1480, 56516, 28207, 38267, 27230, 71557, 11730, 5100, 58912, 64545, 35197, 32608, 48035, 38298, 58414, 17281, 35068, 53351, 2441, 50064, 60767, 53249, 27638, 40049, 31231, 10057, 3521, 10171, 55234, 8179, 38547, 57998, 31465, 9836, 42538, 26045, 22364, 69951, 58338, 10853, 703, 75339, 30428, 73622, 70060, 35980, 43748, 21761, 14638, 58910, 53800, 64283, 41811, 67506, 58751, 63820, 28491, 56906, 66775, 30565, 31089, 57937, 33375, 39904, 10486, 51771, 30334, 14699, 66497, 19474, 11694, 20285, 17483, 12566, 48392, 23343, 611, 54328, 8439, 65062, 29334, 25375, 46485, 52299, 73081, 1778, 6410, 76076, 45247, 68905, 51208, 3795, 15085, 31649, 14666, 69213, 22336, 31850, 51072, 15296, 19998, 45962, 73056, 47635, 21845, 16216, 47577, 68847, 72850, 63942, 11756, 24153, 6101, 40894, 7106, 24971, 7720, 10231, 43481, 45178, 24393, 25762, 64854, 8364, 13248, 51234, 37143, 64910, 52999, 48165, 65028, 33945, 20506, 32641, 5451, 66651, 30574, 72138, 6959, 34181, 25996, 4960, 42325, 67783, 33909, 49519, 17237, 37853, 62878, 5617, 58517, 17223, 53917, 15664, 33355, 41643, 14583, 22912, 45290, 62094, 52851, 23832, 54794, 24394, 41941, 461, 35764, 27661, 14926, 17395, 59985, 16333, 57980, 47557, 54172, 17453, 46116, 72825, 31349, 4581, 60674, 14860, 56901, 69289, 31966, 45969, 34459, 22095, 25583, 75438, 14923, 51225, 31726, 34153, 69033, 57493, 34501, 42772, 21525, 18448, 75972, 22740, 62618, 50266, 46197, 52726, 22818, 36582, 70609, 31436, 65183, 28466, 54775, 5251, 25631, 43842, 19996, 56366, 5326, 19853, 23191, 8984, 16814, 21532, 73976, 49043, 1873, 62692, 42984, 63048, 46279, 4490, 43659, 38477, 41551, 18301, 5017, 70887, 701, 16082, 55228, 34569, 20562, 537, 62114, 55493, 51241, 40161, 27643, 16021, 33636, 32595, 60333, 26898, 33936, 71280, 7696, 42455, 3256, 24278, 14324, 37436, 12411, 60812, 54034, 50006, 24761, 35631, 40584, 64299, 26468, 3162, 49762, 42933, 47987, 23956, 39559, 58516, 66235, 45691, 67566, 40081, 15025, 2914, 24170, 24473, 69402, 55009, 46394, 26068, 49160, 2135, 59776, 30511, 54414, 34900, 3804, 6477, 63851, 72889, 29339, 5721, 58, 52261, 41145, 33, 64930, 8768, 9327, 48054, 68798, 64829, 54014, 4883, 26718, 45087, 54672, 6607, 17403, 69875, 20244, 57072, 36313, 8578, 36681, 75792, 18437, 13716, 7051, 56768, 34552, 17082, 48485, 42095, 13882, 47884, 8400, 58612, 58970, 9613, 52375, 67724, 45602, 23695, 20901, 2154, 32731, 37, 30934, 16322, 25667, 10893, 38511, 14820, 21486, 69324, 42078, 17651, 19185, 12024, 41739, 53692, 7881, 54119, 40740, 46370, 27987, 53577, 10854, 39045, 59716, 63786, 37943, 31517, 63970, 35145, 26018, 57333, 40511, 47090, 27203, 41478, 55517, 74409, 31040, 24550, 1798, 70616, 44193, 18039, 63305, 17075, 43614, 1669, 43803, 28309, 60669, 22264, 48499, 18445, 19419, 50807, 35392, 23618, 1770, 43371, 22738, 733, 5181, 8662, 8904, 33535, 39829, 5216, 72102, 20934, 30985, 73380, 27323, 71719, 30513, 65757, 45166, 4508, 55968, 31856, 74327, 35180, 8593, 72954, 21514, 6668, 44230, 51255, 75640, 48044, 2215, 58072, 12202, 74431, 48142, 24573, 4312, 12533, 64783, 20197, 11249, 10136, 35033, 71454, 19287, 41111, 47237, 12513, 55416, 2758, 73870, 39487, 60849, 21401, 24416, 72425, 74486, 3094, 14893, 23082, 37512, 29503, 51813, 37929, 940, 67662, 32522, 12924, 8083, 70560, 62937, 30288, 23582, 16732, 61040, 26686, 67242, 34245, 12936, 10523, 42270, 69926, 8252, 46513, 15153, 47323, 36988, 22961, 74700, 73419, 6873, 61167, 58429, 51592, 51777, 61042, 32649, 44458, 29587, 58354, 73356, 38867, 20365, 59689, 18446, 45024, 68844, 13000, 57895, 23377, 71853, 29946, 59253, 19801, 37102, 14493, 61573, 25745, 52710, 39795, 11433, 35783, 65610, 47862, 40219, 34973, 8508, 34762, 43457, 66064, 50364, 20400, 56439, 38820, 43841, 44171, 44233, 6709, 23439, 47668, 73059, 13889, 22091, 76212, 70382, 33730, 36364, 27074, 25121, 49671, 75636, 47639, 62642, 64899, 65249, 61315, 58366, 71021, 48288, 19681, 9012, 2536, 56373, 14072, 9735, 29545, 17920, 7871, 14269, 47773, 3114, 17300, 46265, 65821, 36036, 21483, 52308, 62506, 12675, 57659, 57319, 12115, 451, 59723, 2797, 7208, 58238, 54855, 12230, 8698, 40431, 68284, 38424, 55631, 19080, 3206, 71817, 41614, 35911, 31091, 34346, 38106, 65960, 39535, 35361, 42629, 9452, 47996, 3417, 55048, 56399, 8573, 50999, 16302, 6344, 64137, 64675, 52624, 46841, 12278, 67094, 32929, 42867, 74802, 58692, 50882, 60818, 63013, 21811, 13831, 71567, 23788, 59174, 33094, 23746, 2595, 46661, 798, 58493, 74966, 21284, 71529, 53851, 4495, 15431, 44877, 62417, 19557, 12852, 70984, 55329, 55121, 23068, 67640, 59673, 30921, 26070, 17085, 17996, 47790, 33932, 31432, 24184, 42591, 22309, 75215, 56296, 26680, 4845, 23961, 34423, 46489, 46574, 16572, 29170, 44493, 20134, 44240, 31815, 31437, 11092, 18570, 74531, 7197, 19324, 31142, 50072, 54218, 50859, 27660, 49776, 10700, 13219, 28094, 57163, 65776, 75865, 17276, 75784, 21489, 46410, 1091, 6899, 65168, 11629, 22989, 22294, 23622, 32954, 22732, 75944, 36522, 11923, 55004, 60383, 34191, 15331, 69483, 41495, 27900, 52373, 57629, 55301, 22636, 67131, 23074, 20815, 64036, 73216, 13040, 65195, 44964, 56034, 66370, 70569, 15370, 53319, 26664, 2831, 27708, 1309, 37994, 56231, 4548, 36008, 42189, 6211, 12472, 1903, 76064, 46347, 19673, 2337, 62995, 24470, 72087, 45014, 20679, 72070, 49764, 66021, 4601, 51699, 74198, 2414, 1043, 13002, 70065, 61467, 60782, 36383, 58132, 31417, 50148, 17805, 56110, 64732, 33396, 9987, 16768, 40321, 38302, 72597, 48821, 591, 63298, 24952, 34103, 19921, 70310, 16884, 9394, 62055, 69602, 57399, 7131, 25866, 11519, 35117, 46875, 66065, 26020, 14766, 50881, 32957, 49564, 23023, 8955, 16951, 71918, 17803, 39413, 7115, 63916, 59660, 61523, 15008, 1511, 74951, 22, 39409, 63006, 26846, 41444, 30086, 49752, 10260, 8888, 8202, 55715, 53703, 38025, 55299, 65542, 24270, 58707, 36238, 68555, 21124, 33436, 24756, 15358, 34937, 2929, 4769, 56475, 56772, 55066, 52646, 72183, 23742, 42789, 56927, 28049, 43900, 4044, 62462, 50310, 34207, 12102, 29585, 31274, 50833, 41725, 14771, 71014, 53504, 68658, 67156, 58077, 49670, 25332, 63867, 44753, 25899, 15676, 45190, 37205, 75719, 27750, 39511, 63060, 41931, 13538, 23587, 31282, 49273, 70754, 56987, 41843, 36362, 58769, 33614, 39042, 42491, 70150, 29046, 52476, 36071, 29594, 17211, 25174, 71298, 74081, 36640, 27267, 41523, 38175, 1771, 70743, 10862, 41476, 13644, 28959, 48518, 58175, 9896, 31492, 12190, 19689, 40753, 70571, 23845, 23841, 26232, 75911, 22544, 61172, 50871, 31164, 70072, 74262, 31864, 72369, 11495, 12196, 33303, 68972, 33466, 53793, 36425, 36179, 475, 72589, 8494, 9181, 11932, 20628, 63226, 39402, 3416, 15779, 75332, 41616, 69179, 55418, 9356, 35126, 63398, 42655, 3852, 31670, 15037, 4971, 43944, 16688, 45530, 50366, 39379, 48760, 9128, 72262, 25370, 70625, 15618, 48660, 17804, 52753, 30015, 11292, 5958, 35912, 71225, 4017, 27601, 45677, 59554, 30270, 32982, 42120, 48938, 33352, 59100, 30465, 12807, 37993, 46177, 18872, 3696, 22468, 17427, 56601, 16532, 42243, 60223, 43094, 48809, 3677, 37012, 40341, 43487, 1445, 44611, 27698, 59804, 72469, 34721, 51398, 21455, 62119, 30322, 26674, 18689, 7533, 25527, 43365, 68476, 67524, 3629, 3657, 7213, 24327, 35151, 42125, 20859, 1478, 38821, 6839, 20528, 66487, 56255, 2255, 21032, 1027, 43313, 52203, 65528, 36816, 53884, 75119, 60312, 17172, 20746, 65899, 57975, 3559, 24219, 5557, 29485, 73865, 7651, 13281, 14244, 16029, 2415, 28110, 46858, 27154, 15043, 68229, 60062, 31694, 16641, 9381, 45750, 20923, 70063, 53233, 33194, 14553, 16898, 59552, 59619, 2100, 44562, 41710, 50085, 49457, 28509, 53328, 73921, 19043, 49637, 20833, 42506, 21689, 9934, 36007, 21373, 3823, 6951, 35756, 75478, 71675, 8085, 71520, 8471, 46570, 18295, 68687, 31215, 17645, 52673, 20068, 73978, 13785, 67458, 44169, 44706, 21404, 442, 1508, 59977, 23497, 23737, 76352, 20818, 66446, 46816, 3242, 56579, 8514, 25275, 50278, 75861, 6892, 27978, 58423, 60264, 5946, 33641, 22280, 51996, 6835, 55757, 19495, 28161, 55031, 44393, 41803, 50886, 30336, 48300, 22705, 38187, 55937, 43190, 32643, 12937, 43444, 51945, 36202, 75231, 12715, 48226, 34254, 60665, 15741, 18766, 24285, 1305, 42959, 35727, 48474, 29596, 18615, 27454, 10131, 16944, 26451, 18663, 24077, 75377, 5170, 12765, 73400, 48732, 40075, 19126, 41234, 22864, 39345, 20636, 31479, 490, 51532, 45147, 37645, 18222, 38662, 39200, 50547, 64035, 9903, 66103, 9970, 28042, 45116, 858, 19328, 34682, 32114, 43896, 40007, 59645, 70600, 43919, 26123, 43685, 11624, 6640, 68006, 22036, 49495, 68350, 69967, 40875, 25791, 28498, 17827, 44891, 54683, 5036, 6128, 13198, 42542, 71522, 10104, 54526, 61246, 39839, 39241, 40700, 31797, 18897, 69123, 74766, 47663, 2226, 14506, 68308, 1713, 3921, 71184, 41134, 10251, 20217, 64054, 24944, 67411, 69550, 68840, 70411, 69310, 11143, 55617, 57572, 34508, 23561, 61493, 13767, 60788, 74016, 14115, 33740, 59526, 68872, 72712, 6064, 8101, 76337, 15076, 17550, 49617, 22181, 33075, 50457, 75588, 39620, 27835, 65860, 58396, 31550, 4077, 29618, 64665, 38762, 39337, 43674, 11572, 28284, 41393, 61187, 47822, 61208, 22320, 28820, 33476, 23208, 32084, 31562, 17245, 54834, 46755, 75064, 21839, 16052, 22936, 38519, 68550, 62252, 5826, 63989, 37659, 48309, 20860, 66941, 43968, 24949, 28921, 40929, 13943, 36678, 55120, 63624, 58098, 53072, 28819, 48771, 20597, 64250, 1869, 72679, 17746, 22025, 58556, 37604, 16380, 30760, 31163, 34326, 71787, 5816, 27109, 68338, 70588, 15250, 68357, 28537, 11104, 39554, 25330, 27392, 52345, 26847, 56816, 68933, 11565, 746, 74073, 39994, 74934, 11503, 12732, 24810, 48835, 60633, 64218, 9639, 71219, 59969, 65381, 36164, 57569, 4787, 30341, 73630, 36361, 73384, 10141, 63677, 44850, 66436, 72091, 19797, 35938, 18519, 54564, 2169, 36165, 1842, 36887, 11418, 20258, 70788, 73947, 32116, 72323, 63266, 12432, 29397, 21582, 47762, 67346, 22476, 69915, 59420, 56134, 3467, 19353, 40878, 35297, 64143, 49234, 31234, 12379, 8673, 21676, 68122, 61782, 60481, 1975, 7080, 67168, 14452, 38052, 72673, 2356, 6254, 3041, 8636, 70548, 22229, 57645, 9677, 70306, 39663, 56346, 73533, 8402, 65721, 75094, 7053, 14589, 14445, 72566, 11557, 72665, 5372, 19190, 7143, 14758, 61314, 42271, 13315, 59625, 31151, 56863, 54035, 74912, 18375, 68774, 67080, 67216, 57590, 36433, 8376, 40032, 28667, 53809, 15944, 2721, 68351, 49619, 21149, 76024, 37180, 21061, 22954, 25835, 26298, 27688, 23620, 62899, 40180, 58535, 2841, 68241, 61691, 20649, 16725, 15488, 21960, 15176, 44244, 2463, 25941, 7136, 33148, 4357, 42301, 25046, 72493, 63657, 11884, 37835, 39189, 44786, 70793, 15623, 56581, 7232, 56223, 72479, 59339, 37963, 51679, 11410, 10482, 65164, 49847, 45076, 46091, 49893, 48378, 11309, 74180, 59656, 38693, 12438, 65388, 56731, 29205, 65064, 25495, 26058, 2093, 56384, 44592, 15876, 56467, 18367, 5669, 60144, 53856, 68671, 59915, 66313, 37304, 38724, 3222, 56437, 9395, 1717, 47766, 74475, 36592, 7686, 62295, 1455, 7476, 60159, 62712, 63332, 47796, 16455, 60568, 53212, 35470, 48592, 21008, 18969, 71193, 19388, 51892, 15587, 29214, 64830, 61468, 72085, 72839, 30145, 27061, 7903, 56202, 50621, 40307, 56320, 12482, 14404, 31975, 4889, 68849, 4098, 4763, 11765, 22369, 64034, 24484, 69719, 47605, 21043, 16042, 29352, 6757, 18305, 3949, 46735, 15924, 71980, 22419, 20303, 19180, 25570, 18600, 31737, 32214, 66981, 5742, 21499, 42128, 7274, 5141, 71671, 49237, 35698, 25889, 31021, 70155, 15794, 51951, 23255, 16649, 15432, 36738, 62212, 23091, 74354, 18755, 72200, 48956, 47336, 29644, 19924, 17469, 59712, 58780, 71483, 22431, 60185, 55603, 18308, 64139, 15788, 30259, 48189, 50417, 55244, 40402, 32577, 34143, 29771, 28663, 28211, 9374, 6851, 25215, 48790, 23310, 20974, 1985, 5561, 25296, 51001, 15048, 31582, 10735, 13829, 6065, 69833, 11734, 47429, 68226, 41939, 42996, 64770, 45977, 26221, 2405, 55614, 56683, 57792, 55058, 55242, 32844, 67256, 72333, 25418, 15433, 25571, 72852, 5817, 33345, 60112, 74586, 76346, 47171, 43103, 23791, 31501, 13417, 73747, 62303, 18959, 2355, 52319, 12871, 13677, 3686, 661, 10961, 23559, 18738, 70517, 65380, 9805, 60853, 41118, 47146, 19281, 927, 22647, 45626, 67010, 28874, 58200, 57472, 21311, 16346, 31385, 45557, 398, 63753, 55385, 7425, 68576, 22642, 1231, 25594, 75575, 680, 26528, 37068, 54100, 25081, 27115, 10588, 9825, 21059, 52290, 46993, 63596, 70856, 26102, 40491, 70, 73974, 60214, 2293, 35767, 40585, 53225, 48816, 3753, 64525, 33784, 55163, 35477, 47057, 22956, 24737, 20745, 48100, 34469, 15400, 42172, 45535, 58788, 25170, 33139, 71095, 3306, 75116, 39036, 1976, 20940, 2233, 47782, 8740, 64549, 6802, 3263, 27741, 31420, 69105, 28222, 68377, 7271, 3257, 50775, 69913, 6252, 65044, 67807, 27696, 10837, 71189, 49907, 6321, 30021, 53549, 60259, 50883, 30395, 36440, 52173, 71511, 8152, 39977, 72816, 15055, 70799, 49066, 70169, 22044, 60063, 21019, 66140, 59161, 22993, 74785, 39363, 43876, 5987, 74848, 61977, 70211, 787, 16442, 36428, 41754, 13572, 51454, 74715, 55047, 13330, 28486, 73486, 62834, 331, 58079, 62511, 28152, 13960, 58027, 54715, 70961, 22022, 16105, 75109, 24840, 23708, 17318, 65822, 28561, 72453, 31789, 21573, 18185, 60945, 59059, 42520, 55080, 27767, 31722, 7376, 54635, 62561, 43770, 5891, 45021, 55718, 45709, 31530, 38589, 17562, 36969, 31645, 23042, 28787, 4018, 21390, 13516, 41618, 13182, 30497, 38375, 42940, 21113, 382, 21983, 74491, 16242, 22945, 72767, 38871, 45228, 21623, 45569, 72672, 26128, 1695, 8191, 2819, 37798, 39730, 40478, 20534, 29115, 5092, 50531, 52311, 73678, 31560, 4489, 47851, 50873, 35167, 26314, 52190, 57208, 57687, 36423, 17537, 38560, 20933, 23973, 74332, 37895, 66303, 65407, 10276, 47721, 17011, 61862, 51664, 51086, 32574, 53864, 62981, 33243, 18704, 7296, 59319, 15961, 39135, 20010, 76289, 25209, 59692, 4122, 47403, 46985, 69465, 6977, 40425, 2014, 17123, 17838, 75398, 50972, 20140, 34960, 27202, 26558, 39147, 28323, 28449, 63509, 14933, 57576, 5540, 30010, 32025, 41578, 21981, 33744, 35240, 48375, 29365, 37408, 20160, 70585, 29740, 60546, 69533, 76215, 8914, 74244, 49029, 38761, 10958, 45488, 18099, 1381, 58706, 58599, 31499, 20600, 56973, 37135, 26953, 1909, 37010, 59999, 64998, 39555, 59350, 22754, 15140, 1860, 56169, 18020, 66077, 54559, 2246, 75426, 66433, 9090, 16389, 2203, 69220, 30806, 32255, 10708, 39932, 29279, 17692, 16887, 74061, 71645, 36352, 25076, 45989, 63520, 42749, 46727, 51941, 61906, 14633, 6775, 31054, 30447, 15196, 19298, 69133, 14262, 20742, 44444, 52402, 3179, 10908, 36475, 38607, 74295, 33437, 71555, 34488, 74567, 53978, 23939, 25728, 13945, 26269, 19013, 9160, 53171, 75835, 41511, 75174, 70744, 8861, 73471, 12557, 12547, 72477, 55885, 28071, 58631, 15403, 65347, 74903, 19227, 71304, 16158, 37934, 58997, 14333, 15404, 43638, 2462, 14916, 9045, 14253, 9430, 52018, 31047, 27393, 19956, 17771, 17982, 36309, 64779, 8794, 58554, 8089, 5947, 3567, 4369, 57470, 2706, 64908, 16231, 15465, 75461, 12698, 2646, 3134, 66714, 5744, 391, 66472, 22833, 43435, 25327, 57498, 9179, 20040, 39214, 33655, 59056, 19826, 56928, 63123, 1769, 29774, 43570, 33822, 51724, 51403, 10043, 62411, 33961, 21926, 48213, 12565, 43131, 25888, 21382, 64936, 75966, 61034, 50057, 71164, 37723, 17274, 29906, 27169, 50303, 68888, 57917, 68301, 23088, 41017, 67969, 59120, 49222, 66689, 31622, 33399, 60530, 63543, 10109, 52917, 23994, 70144, 59506, 23568, 448, 17005, 37423, 65547, 8469, 26, 62943, 63153, 12593, 16627, 5437, 64666, 5622, 61859, 39088, 27441, 44394, 18919, 45915, 61554, 45206, 75638, 68532, 73085, 55282, 5980, 45309, 45664, 58273, 72020, 34693, 48483, 7916, 42367, 25017, 48574, 65284, 45220, 35059, 13264, 36548, 29839, 46928, 63132, 45829, 44267, 54395, 75074, 52361, 73230, 66395, 68093, 9209, 58315, 66165, 2545, 12595, 23735, 50982, 2794, 56850, 31482, 12274, 72953, 59811, 18176, 73983, 71319, 68581, 71303, 36632, 36114, 41188, 3164, 71924, 50195, 19722, 46350, 33190, 2893, 2654, 8911, 20300, 37570, 18854, 7243, 25239, 38311, 13541, 8185, 69274, 54835, 49386, 63441, 58285, 15394, 63959, 73756, 15720, 40146, 28633, 25959, 26505, 67911, 18861, 54586, 23792, 26863, 70633, 24958, 73279, 1290, 53325, 6777, 40452, 50932, 74849, 38901, 9251, 54154, 20852, 28023, 62643, 61248, 29795, 64441, 46401, 14623, 61615, 47179, 54412, 25208, 48476, 24566, 13773, 49336, 18754, 40211, 13531, 47212, 16860, 658, 31683, 52082, 13341, 19072, 4757, 68157, 69192, 40247, 4161, 7239, 64335, 63791, 29066, 67475, 2611, 6247, 5373, 37980, 47296, 23053, 67389, 68154, 22758, 16363, 56608, 34945, 27290, 42081, 68152, 8708, 73455, 29838, 41740, 54257, 4709, 36868, 27641, 19677, 2168, 60069, 69143, 50407, 26098, 36018, 10981, 68807, 68031, 16431, 1407, 68083, 58176, 65894, 48572, 15898, 33414, 38339, 41848, 68116, 6189, 17131, 52923, 71750, 2785, 60308, 7921, 30112, 68998, 34831, 54542, 9302, 49498, 1650, 35282, 62983, 51919, 63717, 56486, 44189, 31439, 10395, 75653, 67803, 21548, 43877, 61479, 63365, 49087, 39966, 17066, 46326, 45879, 73548, 47947, 70077, 53737, 7801, 34124, 14331, 68369, 76237, 35319, 29973, 43235, 199, 25978, 39359, 66522, 55735, 55521, 29935, 11698, 47815, 76321, 10326, 9169, 41771, 19313, 48191, 58299, 16744, 17493, 51747, 49922, 10343, 37883, 55956, 72982, 37952, 37880, 51902, 5096, 68030, 20345, 28083, 48164, 47206, 36746, 71323, 30836, 67298, 70340, 9303, 17893, 60023, 29821, 48026, 62467, 75708, 2648, 31158, 47412, 18224, 26444, 30823, 54710, 8803, 33843, 37290, 72769, 55578, 37995, 25568, 11520, 21160, 65885, 75881, 74607, 61213, 20842, 57415, 6963, 25675, 42613, 27956, 36891, 19350, 41836, 2241, 58735, 61797, 42619, 40178, 29407, 52225, 61217, 34084, 72801, 37454, 52698, 39499, 46724, 46108, 16541, 1255, 18685, 17168, 69506, 18855, 24277, 38887, 52202, 24975, 69671, 60372, 23066, 46372, 71898, 23575, 32585, 73929, 39494, 1502, 44649, 24325, 56802, 9140, 29547, 10376, 34307, 50305, 73603, 52074, 7439, 57862, 46243, 75366, 52080, 50911, 74343, 15977, 3150, 63884, 52286, 5295, 20924, 55656, 7675, 12588, 57281, 73679, 30872, 69159, 3264, 35329, 8987, 52745, 51927, 67908, 54517, 25155, 14169, 68716, 60290, 73550, 30013, 34652, 8131, 14135, 68954, 45855, 46342, 29018, 14648, 53470, 73124, 18261, 50605, 35676, 57349, 36555, 53112, 48620, 57891, 37074, 1655, 20356, 4341, 49687, 59427, 33117, 15757, 48466, 29862, 8774, 30069, 63697, 38691, 11325, 1467, 8028, 63034, 9623, 36264, 12664, 30558, 68225, 55489, 67694, 46536, 19983, 43139, 4733, 29892, 63349, 9339, 51665, 20130, 25487, 33412, 67670, 3906, 41319, 35283, 44156, 1170, 50790, 21965, 23942, 3872, 25304, 24130, 26643, 70449, 56603, 15931, 15650, 42912, 55467, 73944, 21110, 40396, 560, 52784, 8736, 49242, 56678, 29110, 10582, 15724, 36500, 40460, 63709, 39757, 53909, 37070, 45758, 2466, 53048, 15829, 58741, 28283, 71684, 53092, 62213, 6297, 73064, 8915, 38352, 9860, 33619, 67406, 36751, 62629, 58057, 66322, 95, 46056, 39674, 31086, 41791, 71877, 19854, 42734, 8927, 76089, 53293, 4610, 64723, 61940, 45938, 44604, 12441, 10375, 35341, 8126, 65755, 45346, 22422, 68711, 5082, 46931, 5030, 52548, 62755, 73254, 39032, 9505, 8071, 29456, 613, 62291, 45271, 75280, 46501, 27840, 68741, 36258, 21733, 50966, 57041, 41908, 19040, 27705, 44623, 43137, 36882, 76013, 66281, 10166, 56414, 30303, 23769, 64883, 4232, 35291, 66743, 60089, 19543, 66645, 66591, 43421, 53585, 55973, 4462, 65818, 72019, 56291, 64656, 43492, 11467, 16479, 63997, 63730, 10545, 62202, 66643, 71249, 55325, 12603, 53245, 61269, 34360, 50586, 38131, 66184, 51774, 44261, 7474, 41807, 62744, 16810, 66444, 67319, 58351, 49712, 33050, 29125, 19836, 73699, 5138, 60653, 25313, 58833, 74281, 2244, 74868, 36235, 6479, 29448, 18745, 4617, 8262, 40085, 17093, 74554, 68193, 33768, 38777, 38874, 30732, 60547, 53951, 45865, 60706, 8140, 64705, 47793, 2977, 25914, 12335, 13713, 33151, 64777, 69836, 3074, 32194, 56236, 48871, 40207, 33270, 30718, 2350, 60429, 28896, 39941, 74453, 41875, 52605, 24647, 66, 27326, 17059, 1877, 45130, 8506, 43420, 8779, 39316, 1550, 42920, 24876, 18902, 75042, 60561, 35027, 50462, 71260, 45739, 51503, 54973, 8317, 5338, 13209, 12990, 7853, 70904, 8840, 1572, 21497, 3897, 558, 7008, 72099, 25376, 57363, 585, 71844, 5483, 66976, 58279, 16067, 69735, 7223, 56989, 22502, 46260, 11573, 42906, 54972, 528, 43719, 67443, 60053, 1781, 30118, 37704, 20882, 46853, 76294, 59529, 64030, 72902, 24830, 70812, 14978, 6084, 12514, 22594, 62546, 26970, 49944, 9794, 56919, 32315, 59225, 38962, 30347, 7796, 52473, 63679, 64977, 35914, 70737, 72287, 48836, 32847, 7765, 46275, 3005, 40679, 46366, 18148, 45756, 24900, 65609, 19027, 18165, 55665, 22799, 54718, 37897, 5886, 51725, 68862, 13368, 19816, 23050, 46022, 72558, 20090, 23979, 74162, 4782, 53839, 21551, 40143, 8747, 1151, 7027, 71722, 59848, 40454, 43120, 63532, 32225, 73726, 74676, 30255, 12696, 66517, 54862, 58940, 38499, 57205, 1111, 62265, 63366, 19448, 47781, 53543, 74608, 57044, 8942, 3207, 66185, 34405, 45523, 30643, 18133, 21082, 60743, 25730, 64972, 69869, 59511, 68685, 64337, 33613, 13432, 56934, 30184, 21635, 72258, 63895, 14702, 6319, 32439, 30309, 56842, 58668, 47499, 58753, 26994, 863, 14265, 74913, 55494, 1979, 41115, 12966, 56853, 39099, 6803, 47120, 56155, 70758, 55526, 47432, 2720, 16604, 44364, 59292, 43353, 65139, 25521, 43261, 26288, 54614, 14031, 61546, 6830, 47629, 20394, 6484, 68516, 50416, 32566, 35346, 29194, 59752, 56489, 14065, 12288, 22184, 41805, 15002, 25736, 46092, 6305, 1150, 43262, 19570, 55373, 18598, 19247, 71826, 59996, 9779, 3460, 30538, 52901, 39394, 68699, 69291, 38594, 66798, 22286, 25265, 69250, 19972, 7748, 2910, 14347, 21088, 57710, 38410, 3367, 64755, 15807, 65690, 10688, 44416, 3549, 64293, 44858, 21123, 9494, 966, 74648, 21434, 30541, 60695, 73787, 21746, 40790, 55679, 5676, 35491, 54350, 42507, 18594, 27411, 58968, 16065, 66456, 5199, 53025, 46494, 22014, 4433, 36926, 26842, 53332, 59704, 67132, 42729, 75850, 40947, 19653, 57402, 16540, 8832, 71467, 61181, 19063, 27566, 63815, 13032, 9569, 35275, 58271, 7622, 3245, 76057, 36890, 54066, 28472, 47327, 49664, 67274, 8281, 18695, 33502, 67815, 60609, 7185, 5564, 50155, 57809, 50317, 26931, 52197, 31506, 33976, 56391, 63072, 37869, 5940, 63040, 4196, 39947, 69672, 45784, 22300, 27907, 6121, 62699, 11851, 65565, 7628, 37888, 4296, 33401, 272, 70276, 9862, 10980, 7248, 56473, 55127, 68992, 3285, 39539, 74428, 36102, 16022, 67102, 67487, 46677, 22555, 9611, 32657, 25946, 33904, 23213, 74897, 65420, 32044, 46284, 71409, 41700, 37921, 55649, 31241, 54268, 65685, 61386, 26001, 65013, 49315, 70998, 36798, 35771, 12326, 64432, 61061, 57267, 38178, 9219, 73412, 49015, 23282, 54240, 59956, 48713, 68076, 36589, 39297, 64658, 26490, 15480, 70270, 28089, 14171, 55358, 18314, 24770, 43159, 13144, 11758, 73648, 69022, 35968, 47405, 41242, 22342, 54438, 41722, 46143, 33830, 68415, 62769, 11253, 33328, 75620, 34399, 26337, 46893, 55145, 35493, 1365, 56238, 7041, 45948, 32218, 9046, 28635, 73181, 39461, 70139, 53690, 17200, 6633, 55880, 52252, 73516, 14432, 58337, 62299, 61926, 52413, 68352, 27739, 51980, 15192, 28817, 74233, 68065, 4434, 41692, 39425, 50831, 14799, 15988, 74572, 39419, 67402, 45086, 41647, 15822, 9980, 9054, 49635, 5158, 44035, 73742, 45040, 68604, 63834, 31294, 71414, 8487, 8006, 2954, 35442, 23750, 3210, 9299, 27673, 45692, 4903, 16673, 30960, 51600, 7497, 73507, 61572, 64161, 53360, 66746, 25732, 55098, 12916, 71344, 1525, 5498, 18175, 42707, 34436, 57462, 69736, 52674, 20553, 70776, 46164, 10656, 13266, 55036, 38212, 26348, 33894, 65771, 28964, 39212, 21767, 33360, 850, 21321, 72035, 4964, 10270, 49518, 54675, 27949, 7820, 67597, 55860, 72604, 49833, 12710, 38204, 75076, 73656, 42164, 12780, 62625, 18870, 20275, 45647, 9847, 50316, 53876, 41001, 15363, 63838, 28274, 52683, 26405, 51746, 845, 35838, 52970, 4560, 8016, 74576, 48423, 47156, 39734, 33770, 10833, 34910, 2558, 53624, 24709, 23367, 35563, 21788, 29815, 35146, 25191, 50764, 852, 56571, 65463, 69953, 55671, 43293, 50992, 54983, 19204, 52795, 9507, 25919, 34850, 70197, 43279, 67956, 9325, 65945, 35408, 69047, 51, 34344, 50109, 58740, 47505, 18242, 22681, 61445, 6863, 47539, 74988, 41047, 37124, 50480, 52415, 15995, 25175, 49423, 8130, 38891, 34219, 17262, 41786, 23977, 66211, 74047, 5097, 62716, 11094, 10526, 41977, 68782, 28552, 7951, 66287, 58150, 4478, 3338, 10187, 65358, 67588, 22709, 4519, 45319, 55341, 3323, 26756, 5432, 53808, 50834, 57782, 12685, 70323, 64676, 55495, 31219, 37185, 57636, 4111, 34673, 35236, 14585, 13793, 68794, 68342, 49630, 25166, 341, 60553, 35292, 54577, 26104, 49666, 24600, 44096, 62082, 6722, 48174, 13039, 47549, 1179, 52142, 16687, 72261, 2193, 18482, 68249, 7548, 10155, 13899, 66532, 28710, 7588, 25217, 71476, 20683, 9793, 73322, 1475, 28945, 50709, 32926, 4258, 5573, 52786, 21571, 26744, 75541, 45649, 20073, 41762, 53286, 72229, 57099, 15418, 10180, 51595, 62935, 64745, 48514, 181, 76005, 68868, 3437, 43209, 26622, 42562, 27077, 60924, 67827, 40768, 46892, 5101, 56281, 46529, 14749, 1743, 14543, 13968, 36837, 64856, 970, 31664, 58575, 2448, 11618, 74635, 44469, 3223, 17073, 53641, 42274, 63553, 42907, 68484, 20070, 50143, 29282, 66375, 8602, 40803, 45251, 28926, 7330, 44172, 56622, 47233, 16304, 11243, 3639, 13379, 28864, 19903, 70201, 47899, 66409, 56050, 13535, 71864, 74769, 68783, 54345, 24698, 21923, 49768, 20410, 74374, 60370, 32028, 43964, 27075, 2388, 23988, 18981, 24961, 5645, 10789, 50182, 35817, 53730, 34085, 49867, 46376, 52460, 3031, 21372, 26573, 5625, 70748, 22898, 73749, 58588, 34334, 65606, 70648, 13041, 67338, 55182, 46868, 45432, 61578, 2616, 63232, 61563, 54276, 5516, 68213, 21791, 50103, 66934, 39940, 68738, 25451, 7657, 59487, 45840, 66360, 15578, 8067, 69409, 71463, 18327, 1571, 45936, 39190, 29187, 12434, 16230, 7671, 72136, 65035, 46468, 3582, 52891, 2487, 1654, 22328, 24217, 10178, 6677, 47739, 8899, 44199, 24516, 54398, 1191, 22381, 13783, 40518, 42225, 54479, 33516, 23463, 50818, 68922, 29217, 25731, 49058, 22110, 11245, 63472, 14719, 37588, 16973, 73160, 46392, 44125, 35019, 2225, 3980, 64223, 64405, 74452, 7924, 399, 51232, 45867, 44059, 66214, 60914, 56746, 66561, 39024, 2838, 25116, 35893, 13509, 40401, 43274, 68509, 31869, 38215, 736, 3283, 55403, 63692, 5873, 61032, 61837, 67270, 45390, 27656, 16764, 70228, 18184, 31543, 68670, 61677, 26924, 63879, 25644, 16024, 68187, 41904, 71167, 559, 6869, 5307, 61393, 39479, 54272, 10794, 32960, 40315, 52374, 71823, 744, 47736, 70274, 65751, 68651, 58229, 29670, 60891, 75790, 4473, 3774, 53086, 25349, 10182, 44108, 22621, 65467, 30824, 26241, 28232, 68703, 34157, 73340, 71573, 2377, 75181, 70567, 62228, 25483, 25314, 67872, 4361, 33536, 3115, 41432, 4575, 7129, 26544, 9475, 54236, 2683, 2894, 35279, 214, 45574, 64128, 38453, 48103, 50125, 17740, 72950, 19748, 25739, 49600, 23428, 47015, 45179, 66093, 48266, 73528, 36676, 40320, 71365, 65096, 55815, 66117, 6986, 3371, 62566, 16485, 11769, 2357, 63960, 546, 70875, 52278, 29968, 53149, 14394, 23606, 1174, 61675, 14473, 43250, 24859, 48971, 15858, 41828, 68148, 941, 31702, 31180, 41402, 14263, 31939, 11613, 32171, 8961, 19743, 58678, 13699, 10030, 67563, 58935, 41640, 31840, 69082, 9936, 53208, 24963, 54136, 49547, 10445, 71542, 73355, 62355, 27675, 50383, 73729, 54583, 47619, 29394, 53160, 71239, 6220, 26036, 59186, 67530, 23621, 37789, 69041, 63112, 52647, 29960, 42276, 66085, 73979, 30074, 33704, 40473, 29562, 67861, 58931, 29006, 27413, 31195, 51977, 21190, 28210, 66394, 60343, 73234, 37253, 16237, 58828, 75260, 15847, 69997, 61999, 40241, 75469, 41658, 23003, 46980, 7455, 47955, 3464, 1463, 38235, 71376, 52357, 51687, 25322, 69670, 47733, 50751, 34197, 23498, 55590, 57609, 39336, 3166, 45907, 19296, 63660, 37732, 40883, 29878, 65947, 53810, 41466, 412, 45167, 43595, 61092, 28669, 27360, 59580, 66384, 6257, 65637, 19026, 10990, 57258, 23317, 73895, 74114, 50846, 39726, 1331, 46277, 51894, 4876, 31137, 16000, 67427, 39882, 36570, 36507, 9436, 10970, 45066, 75227, 7253, 27795, 34746, 59965, 32328, 56218, 60522, 55602, 49067, 65987, 11737, 21790, 50470, 34759, 19272, 60684, 43425, 41831, 61601, 65874, 72814, 34832, 27005, 68643, 15799, 73595, 65156, 67272, 536, 23285, 54377, 3183, 46431, 75476, 40159, 24045, 71111, 43928, 63116, 46545, 230, 6232, 65814, 47878, 58211, 35011, 55424, 43907, 19948, 404, 16030, 31777, 45611, 40278, 59891, 32870, 32394, 75382, 17105, 36260, 22717, 3628, 26604, 21361, 15908, 19773, 8330, 41778, 49274, 30530, 42537, 58000, 42330, 70462, 6846, 33101, 52027, 73599, 27540, 51085, 19183, 49903, 46173, 23195, 67141, 375, 2178, 22108, 38033, 36331, 62412, 44866, 74137, 33968, 4991, 26964, 49567, 74289, 33616, 40912, 71386, 50090, 24331, 36803, 60634, 42661, 31879, 16746, 17081, 68327, 76315, 61267, 8796, 13714, 6510, 35591, 9313, 41260, 42295, 61129, 55687, 42485, 62505, 39058, 11981, 67340, 15232, 14159, 61065, 592, 42352, 61299, 71957, 27467, 21827, 66942, 47515, 3719, 56477, 61976, 28764, 30963, 64000, 22890, 31247, 39443, 67796, 22442, 32080, 55945, 75371, 52280, 52459, 65240, 42191, 55807, 58466, 12946, 40043, 13725, 15581, 879, 63511, 49918, 37393, 70794, 49443, 8467, 22084, 50052, 32429, 57302, 37342, 67384, 72584, 30678, 31577, 20379, 7767, 7392, 46476, 56464, 19857, 6244, 56361, 14295, 27083, 5560, 14317, 32639, 75284, 25054, 69107, 41615, 23103, 15911, 72981, 69969, 71306, 30974, 71952, 57303, 47501, 40672, 35844, 274, 28338, 16227, 13821, 50975, 68239, 46186, 9318, 60357, 32989, 17204, 39890, 60729, 54162, 5125, 33257, 15478, 23594, 9476, 62925, 24482, 73546, 27513, 14098, 50535, 50046, 7134, 75909, 20231, 56702, 75622, 6396, 74207, 59516, 48661, 33772, 26566, 39571, 45930, 70669, 9023, 60316, 54571, 33709, 33819, 9645, 57824, 12488, 66468, 55204, 18589, 50188, 2002, 20574, 70499, 22416, 32052, 32188, 58108, 69268, 2817, 11124, 15906, 35525, 17071, 27336, 10077, 29188, 48662, 2734, 41373, 52491, 43164, 23524, 1855, 48286, 67668, 10419, 67122, 52926, 59523, 26373, 75566, 36979, 11157, 41783, 55250, 22067, 507, 4695, 30307, 22892, 44001, 8631, 35714, 44634, 12501, 65413, 56478, 75523, 3389, 25515, 17659, 39707, 9608, 44292, 53567, 24891, 40411, 12491, 33940, 52382, 4672, 17774, 60514, 3954, 43769, 16633, 28981, 4776, 4825, 7112, 58408, 62748, 41053, 29495, 13612, 43140, 317, 47198, 19418, 66480, 2563, 33948, 11106, 67733, 62189, 44149, 35399, 74415, 24505, 69566, 52143, 46916, 39575, 17553, 73948, 60881, 74078, 42086, 26580, 25117, 35086, 36112, 44482, 61908, 68298, 14958, 68488, 48801, 52746, 28641, 47751, 52376, 66059, 42831, 21729, 30859, 14138, 5115, 36059, 38088, 62351, 44845, 5420, 9737, 35807, 1494, 68384, 27645, 56755, 50867, 24044, 10268, 21843, 27152, 45990, 22277, 23538, 44588, 33141, 59361, 12771, 3761, 17209, 17978, 37022, 21601, 7369, 17482, 6596, 20330, 63350, 15212, 44700, 61625, 47050, 44424, 22233, 69163, 10414, 30250, 63572, 20081, 75067, 37279, 18649, 46023, 53217, 45636, 33188, 75724, 68382, 18204, 27666, 62525, 36919, 47172, 62620, 2941, 35883, 13897, 5757, 67026, 66238, 34543, 19582, 14300, 56251, 29310, 42664, 62269, 41721, 42227, 3546, 19167, 34985, 24979, 48595, 9359, 67903, 28527, 10286, 73134, 64085, 38540, 29811, 5019, 15978, 31322, 35076, 30589, 6923, 2913, 60302, 31515, 16776, 75039, 63458, 60690, 7610, 7097, 11340, 40899, 192, 42162, 14248, 17425, 30698, 73762, 16349, 10966, 30990, 58201, 51910, 71442, 65893, 74340, 28325, 565, 14954, 47213, 60194, 21237, 27669, 49812, 16759, 41184, 14236, 44095, 17400, 66606, 42991, 55231, 17106, 64213, 61807, 53267, 49949, 32599, 56736, 62066, 37577, 43892, 53982, 26634, 18253, 76111, 2304, 27703, 58092, 31156, 25581, 33498, 48444, 64129, 35362, 20787, 31331, 18357, 5172, 65461, 1129, 23683, 33640, 20187, 39284, 9699, 69204, 63710, 67559, 62978, 53880, 73610, 13459, 35320, 49206, 50712, 52959, 55374, 70263, 15147, 3908, 45900, 71248, 15444, 8196, 72474, 59562, 15236, 2395, 16849, 41505, 37820, 35613, 44031, 58394, 73816, 35716, 73808, 7761, 58873, 18714, 2417, 59572, 32163, 18173, 70768, 2461, 36265, 40322, 69541, 17943, 59484, 38517, 2451, 24426, 6790, 32482, 25951, 20872, 34978, 18928, 35835, 22869, 72686, 31304, 33563, 46313, 36113, 37255, 16036, 53349, 41455, 21900, 59147, 41197, 18141, 67645, 2402, 54918, 10516, 11226, 15256, 26358, 13774, 63575, 34350, 5788, 3648, 11574, 59296, 73032, 16653, 35597, 20766, 64491, 72071, 62013, 13908, 47656, 69079, 16754, 14077, 54851, 4384, 70174, 66432, 47817, 16987, 17930, 42759, 42721, 37973, 50974, 46593, 3312, 68106, 48565, 69640, 51740, 32913, 51256, 64548, 67916, 28137, 25894, 29424, 65346, 28740, 25484, 66011, 50045, 34440, 58950, 27951, 21562, 30106, 39096, 15604, 66536, 62268, 62298, 17220, 47182, 73409, 29055, 6326, 9380, 46495, 2041, 14091, 19124, 44079, 1211, 66298, 23780, 58134, 20281, 64282, 64503, 63586, 42292, 27891, 73988, 12855, 39237, 68857, 71950, 41329, 12019, 44216, 24951, 54638, 33327, 70006, 18952, 42446, 23821, 64935, 35785, 55708, 33214, 45873, 6847, 57612, 32822, 10850, 29206, 49956, 10191, 45222, 54315, 41567, 37281, 37805, 59188, 35287, 44032, 33228, 60959, 75975, 27986, 15519, 19228, 37332, 45208, 23525, 48245, 814, 44365, 68215, 49842, 21075, 62078, 48092, 31919, 40922, 44453, 29077, 3294, 48612, 35250, 11276, 57007, 41631, 27383, 16422, 57548, 53004, 11741, 12205, 48719, 69447, 21182, 75880, 19467, 20589, 26381, 75802, 62031, 43714, 5192, 52362, 36778, 25878, 53658, 34736, 44732, 66324, 15493, 1768, 73616, 15224, 62958, 35412, 75567, 18352, 49168, 21668, 73990, 18898, 46100, 23719, 43283, 68137, 74146, 38442, 45853, 21212, 11066, 25926, 9809, 64734, 45973, 815, 24733, 20491, 69400, 28260, 17686, 50898, 69066, 44160, 53649, 31161, 12832, 35699, 47418, 34417, 69419, 31026, 3161, 55865, 29901, 65108, 1651, 73382, 59854, 52519, 11947, 9277, 6957, 38381, 11738, 36167, 57077, 65456, 56040, 63749, 75363, 54316, 5020, 45724, 19061, 3528, 47136, 48078, 26154, 16544, 28873, 3656, 34278, 29876, 29137, 41981, 27548, 1431, 63274, 57231, 66748, 1464, 51805, 15652, 21464, 55611, 12872, 34088, 51233, 55686, 46443, 17337, 52935, 19626, 66379, 1856, 2830, 16620, 18471, 56092, 4621, 23284, 32078, 8754, 62153, 11251, 49346, 64717, 32121, 53, 44058, 75066, 52628, 7606, 2360, 61444, 46298, 32843, 3029, 69611, 15352, 68781, 4182, 5305, 3554, 66687, 41420, 63343, 25401, 8931, 52940, 20769, 30135, 58405, 22375, 69295, 10459, 22889, 48602, 50049, 65901, 18084, 15933, 50739, 41564, 20973, 70654, 29318, 17431, 22779, 29027, 21994, 75329, 15443, 59621, 38136, 7015, 34390, 46408, 11283, 27493, 30582, 62095, 60831, 48827, 6746, 53980, 27520, 431, 20429, 60137, 25361, 53055, 56913, 35735, 14805, 62450, 43750, 60131, 12078, 69158, 63009, 54554, 34499, 58989, 68713, 8722, 54193, 49204, 16658, 60617, 11796, 26363, 55981, 70903, 22124, 17852, 32677, 25281, 6316, 31446, 73173, 62944, 59618, 71340, 7746, 31129, 1891, 36124, 29989, 52949, 39857, 14303, 35933, 28102, 22543, 5642, 30738, 31591, 66053, 45573, 17124, 44868, 42373, 50655, 2775, 15194, 57954, 6334, 70226, 64828, 49091, 17301, 48558, 46729, 31013, 62135, 45227, 7329, 29432, 63427, 34298, 22684, 63329, 34874, 18286, 58350, 16616, 62084, 34927, 8493, 4131, 34914, 59365, 58151, 70937, 33416, 70570, 30870, 35999, 75832, 40766, 32570, 20381, 11258, 59933, 66048, 34930, 26661, 56109, 39776, 9051, 47484, 19149, 22219, 70369, 50963, 48870, 71713, 19961, 33782, 60181, 39013, 36912, 25588, 50342, 27794, 15148, 57805, 63589, 58561, 26323, 10674, 75873, 18486, 40778, 27127, 6513, 22206, 72445, 9592, 74604, 8696, 52582, 7591, 39715, 16839, 4854, 61306, 26163, 69990, 53643, 43831, 24984, 8352, 35274, 18086, 52692, 75672, 5960, 69410, 58522, 16376, 63206, 67214, 24334, 1173, 5109, 19286, 26021, 74098, 42757, 3122, 72228, 45405, 55839, 32575, 46451, 998, 38763, 32284, 33531, 65591, 63622, 33643, 65575, 15382, 66208, 64434, 62465, 63010, 32352, 48867, 53322, 40484, 67606, 7141, 33039, 34607, 72168, 5342, 34992, 38894, 19841, 70166, 24981, 33387, 296, 33954, 4682, 13901, 26325, 17509, 12442, 21748, 28749, 74990, 44406, 8577, 34388, 67655, 31576, 34587, 21425, 3055, 2104, 31401, 66760, 42682, 54666, 50682, 29987, 21933, 63521, 27564, 5301, 54604, 1233, 42291, 46967, 57688, 72579, 10216, 39243, 19658, 24640, 37583, 37339, 69680, 28548, 15819, 9349, 30233, 66280, 41337, 38622, 28106, 13410, 58037, 64363, 65137, 35315, 51490, 57156, 31114, 30203, 23991, 65922, 18742, 27539, 38041, 1184, 17037, 23424, 32292, 34320, 58160, 14383, 75416, 39328, 44781, 75079, 36341, 19401, 68605, 43427, 9043, 38817, 66486, 1585, 35159, 59403, 60294, 46995, 72234, 64204, 45682, 11335, 74860, 26771, 3938, 72458, 69459, 64625, 47837, 487, 13857, 47797, 953, 4564, 51035, 14901, 15473, 10752, 14280, 12417, 9253, 62129, 66157, 71223, 18334, 34213, 48794, 6637, 49269, 50740, 41048, 30932, 58263, 3151, 73832, 33985, 964, 66188, 53415, 61340, 19726, 44443, 58609, 52091, 849, 70878, 3931, 58909, 64587, 53238, 36656, 6661, 54446, 24002, 39519, 72363, 12729, 70577, 38054, 23357, 49536, 73039, 53321, 41646, 21343, 43697, 39215, 39156, 39800, 11558, 27166, 57985, 2644, 33068, 5970, 32443, 67697, 47651, 45668, 19425, 59305, 73237, 19498, 35617, 52470, 54080, 25780, 75207, 60600, 71429, 68210, 10100, 20242, 31072, 61721, 20755, 72925, 75542, 32419, 46136, 65305, 7018, 66745, 60041, 25338, 59318, 21132, 67847, 3469, 49546, 23374, 75615, 67237, 71351, 1071, 1469, 16433, 2953, 4674, 44872, 39235, 63616, 20295, 10974, 50991, 13311, 44343, 22360, 65378, 3187, 71308, 18707, 21995, 55575, 19488, 24396, 23700, 36621, 17997, 25102, 36069, 37256, 31623, 5022, 36660, 74669, 15071, 49014, 63741, 57764, 54809, 41876, 42672, 886, 70422, 35179, 41300, 40634, 7082, 59139, 23948, 17610, 48981, 33343, 43055, 24222, 56536, 53494, 66412, 32999, 8283, 61734, 72250, 15943, 39121, 37825, 2583, 12927, 42183, 35064, 20414, 56164, 42810, 63841, 71628, 55993, 28776, 76194, 49601, 16845, 9234, 58065, 44018, 34885, 65484, 42293, 5119, 56693, 57112, 62969, 48401, 15467, 74943, 33245, 73524, 15045, 30078, 323, 30780, 4002, 27162, 23000, 34879, 36940, 3673, 11695, 19487, 48841, 9315, 49682, 26455, 11027, 6944, 5967, 48321, 74779, 15120, 15138, 32495, 56047, 56558, 67048, 45420, 13906, 36978, 50058, 1461, 3888, 48046, 7589, 71742, 31637, 72108, 23369, 44844, 53696, 49950, 44730, 30068, 58944, 16468, 14546, 31428, 58185, 22845, 68673, 18493, 15477, 26944, 45481, 62599, 16748, 6664, 10705, 10792, 57754, 20585, 24554, 63462, 51283, 51062, 19767, 72684, 6414, 19855, 32018, 25811, 45215, 34805, 23378, 49550, 56284, 35989, 58712, 25824, 7888, 46470, 8952, 62147, 1633, 74019, 27608, 57312, 55709, 9006, 16918, 4487, 51947, 65016, 73805, 43143, 7681, 14788, 38147, 54122, 27801, 4395, 55157, 63344, 6105, 47700, 41677, 3545, 44054, 51058, 428, 16559, 60947, 21948, 13384, 21257, 24750, 72064, 9738, 71228, 36180, 24061, 64130, 38991, 45080, 35544, 34311, 42425, 47137, 1809, 15633, 39265, 34980, 51507, 75056, 65890, 47540, 21289, 27233, 54278, 9150, 39351, 64099, 23922, 72042, 3213, 7272, 5382, 20624, 60614, 25358, 64578, 68828, 40412, 56780, 1391, 68955, 47718, 19004, 39573, 6686, 33096, 40417, 12894, 44290, 65790, 25834, 70836, 68672, 40828, 11866, 41863, 58066, 20284, 23590, 50308, 12806, 9917, 41340, 5662, 58400, 32907, 69472, 29501, 74225, 24676, 25118, 70960, 59651, 76340, 58233, 35323, 31985, 50573, 465, 35573, 53930, 73633, 61488, 3384, 2521, 39376, 50995, 63392, 43339, 60485, 74051, 3855, 24999, 24287, 24630, 10918, 1937, 70231, 32033, 39321, 58384, 26060, 13016, 59135, 61344, 48292, 12469, 50810, 27451, 34190, 39048, 63015, 2077, 30036, 23331, 18029, 53821, 39017, 70956, 45712, 55471, 58455, 25293, 22964, 15291, 835, 7970, 14951, 7956, 75333, 3763, 68471, 3556, 29736, 53827, 5592, 26854, 64494, 37243, 38286, 30625, 15280, 34798, 20104, 26812, 52558, 10510, 75088, 15514, 75409, 49379, 64057, 51292, 29663, 5919, 61657, 52810, 10617, 27019, 54368, 74627, 24386, 65700, 59861, 55273, 75823, 5928, 48889, 59293, 32945, 21872, 71592, 32318, 68652, 20145, 51732, 47166, 74983, 32031, 34283, 63217, 10736, 6222, 13366, 74928, 76093, 59943, 4660, 11643, 66556, 52049, 17062, 75598, 74071, 38017, 7281, 4320, 57884, 1876, 10978, 45738, 40035, 66454, 70149, 14602, 45059, 70075, 70809, 18729, 20798, 42621, 75552, 56578, 7206, 49584, 45470, 28920, 39264, 61222, 68252, 36888, 74542, 13165, 6841, 43036, 63482, 74560, 26562, 44846, 56993, 15327, 21466, 17125, 13467, 72241, 58420, 62220, 13405, 28090, 71275, 31806, 44114, 42942, 57251, 46127, 52918, 3153, 9119, 21429, 48945, 25202, 53846, 14914, 33934, 24437, 67038, 46076, 6309, 66399, 6428, 4440, 59932, 71, 57060, 15910, 9652, 40850, 28357, 62120, 40006, 26146, 36343, 21547, 58696, 71887, 706, 16356, 3678, 29373, 45109, 14011, 12519, 75677, 28364, 13123, 33551, 7554, 30707, 16763, 47995, 18370, 18531, 75328, 73296, 36247, 5848, 35087, 54436, 62902, 13462, 4702, 55883, 66671, 66830, 47858, 47334, 1980, 65040, 56867, 43794, 14770, 50443, 17013, 24608, 22437, 48936, 3846, 54359, 41117, 4530, 7894, 60827, 23115, 35618, 37502, 75373, 46378, 62909, 73551, 17178, 28053, 65385, 40657, 65222, 65587, 44413, 32258, 47340, 56377, 33478, 72610, 16113, 20572, 27737, 51335, 29377, 26194, 22446, 52976, 57119, 46773, 32234, 15656, 2650, 73755, 73198, 46747, 7753, 47422, 51856, 18524, 69578, 13736, 40813, 8174, 10269, 13421, 68812, 51140, 43977, 57071, 9371, 2166, 32972, 60252, 4407, 6630, 2989, 65524, 59952, 7323, 18376, 45826, 66576, 61047, 72884, 53401, 16212, 13241, 14985, 1543, 54422, 6796, 70634, 16138, 52058, 65228, 10042, 21579, 42221, 74187, 33088, 23996, 27205, 10575, 31308, 46589, 43983, 19240, 59467, 17889, 43197, 45364, 48233, 46195, 73276, 45868, 20670, 33796, 12315, 14775, 43455, 62701, 28588, 16415, 26855, 74393, 3893, 13440, 4723, 72486, 67286, 48413, 57534, 853, 23075, 64289, 19081, 18876, 59747, 17218, 3109, 14339, 69498, 21197, 46231, 41752, 5921, 40820, 37059, 34347, 59910, 4955, 15011, 45101, 32606, 45406, 21849, 13173, 51823, 35730, 19843, 951, 4432, 14975, 34535, 29056, 49530, 15981, 7505, 69008, 19772, 63585, 67860, 39209, 27316, 44138, 49572, 29616, 68397, 42695, 73885, 15605, 813, 75762, 48373, 51413, 46989, 65717, 51294, 55286, 60761, 15935, 13070, 18618, 49382, 41712, 44684, 55889, 15119, 41102, 54981, 8742, 32917, 12220, 12136, 30366, 13548, 26571, 25236, 54124, 22404, 41519, 2075, 58289, 69782, 9871, 38487, 69481, 1728, 29867, 66549, 46532, 17662, 27470, 1322, 39187, 24440, 27359, 53584, 46731, 26709, 49148, 44346, 67610, 39, 9940, 22470, 64917, 24410, 18951, 61102, 63250, 41018, 74835, 31678, 38725, 26078, 10827, 65673, 9294, 37314, 30851, 13990, 17077, 4087, 55375, 41239, 31248, 56017, 29354, 12702, 53313, 17160, 52041, 60774, 30310, 45023, 46557, 28769, 24610, 54908, 47313, 72970, 8380, 7669, 40581, 23256, 18290, 7992, 42948, 19396, 9976, 48137, 50513, 69207, 43619, 71419, 9619, 59899, 6393, 21862, 59381, 445, 9618, 26589, 8745, 3992, 70763, 3167, 43314, 41249, 13243, 64026, 2385, 16691, 56310, 7980, 22480, 1369, 52951, 71012, 14337, 4644, 15789, 40453, 1092, 53188, 46057, 64638, 73464, 24497, 25907, 13060, 49324, 69117, 66980, 64825, 39277, 67410, 4153, 42973, 38964, 17406, 44543, 5820, 46919, 69931, 64760, 63928, 62601, 69986, 71929, 44719, 26745, 15476, 69288, 20216, 40443, 10935, 43021, 3342, 40462, 7946, 32521, 45848, 59041, 56785, 20685, 9578, 2256, 64673, 2849, 73043, 6039, 6832, 24048, 28467, 53763, 17030, 32190, 41061, 33128, 26895, 51660, 65130, 8685, 51613, 3952, 63264, 9829, 74933, 20493, 17353, 53087, 22907, 75470, 51634, 46953, 49006, 5611, 44383, 4027, 2314, 42121, 44770, 26430, 47303, 23165, 6007, 73753, 70389, 71025, 42357, 32614, 32046, 19241, 11837, 59622, 40705, 43528, 18127, 16222, 54681, 28882, 7236, 24909, 4198, 55743, 24774, 54921, 23430, 67210, 66585, 41283, 54994, 56825, 35802, 45342, 61937, 17409, 70091, 1756, 16784, 8440, 63259, 43247, 29153, 66821, 12654, 63935, 56094, 40263, 8615, 41059, 31475, 63357, 36880, 49633, 58771, 1905, 24377, 71554, 5024, 11206, 5008, 41938, 16202, 14243, 43804, 69429, 71696, 52717, 63098, 35489, 67296, 33638, 62308, 35975, 38097, 72768, 2520, 72992, 16686, 41607, 57748, 25436, 44778, 42786, 44466, 42305, 15486, 12956, 22808, 8450, 20865, 21394, 20332, 54062, 28771, 13430, 38616, 28506, 48033, 14312, 851, 38353, 75723, 6351, 20838, 54695, 28797, 34529, 72249, 57693, 23517, 26803, 56918, 7503, 9955, 9529, 39388, 5949, 40917, 33878, 72732, 23142, 2560, 8744, 21955, 57142, 31521, 506, 42256, 39847, 59311, 8253, 2939, 19176, 69929, 76132, 30258, 68853, 37354, 2186, 54002, 64919, 52761, 4460, 29001, 63522, 7636, 6579, 54840, 33007, 28720, 10224, 74294, 69372, 52756, 51296, 71740, 10473, 2194, 34033, 58591, 65047, 34057, 61149, 29179, 36595, 8339, 73307, 7573, 51146, 31860, 44304, 5385, 66565, 4895, 46930, 53163, 55491, 4805, 58595, 69858, 49173, 41512, 6538, 75117, 73422, 28674, 63774, 6437, 19479, 40311, 7836, 35531, 5464, 7269, 37083, 62659, 10499, 73803, 39129, 50853, 36404, 45904, 42578, 48186, 21383, 47317, 51735, 2052, 69197, 50228, 43767, 25150, 75950, 6639, 33886, 11395, 58553, 4134, 46984, 5440, 54104, 33728, 7672, 23889, 51841, 38010, 15686, 29583, 19337, 25871, 44353, 30002, 74932, 35182, 41069, 55683, 76230, 38313, 72650, 48547, 73036, 65293, 48955, 21306, 74756, 54297, 40067, 34370, 6702, 9856, 17765, 1011, 52818, 54933, 21985, 39662, 40590, 68481, 11333, 48262, 17198, 7830, 65181, 5405, 26800, 68995, 49167, 24047, 61886, 38030, 41823, 31773, 1067, 63399, 1301, 20357, 62829, 5348, 66225, 3084, 63220, 30657, 17977, 20436, 36172, 44468, 41873, 57972, 37270, 3812, 65992, 4071, 70974, 36780, 38792, 41964, 37414, 69883, 53488, 47588, 45575, 25065, 46740, 51039, 19114, 2484, 39431, 23435, 59378, 18369, 61817, 62784, 56211, 32623, 32589, 37171, 26734, 61486, 15941, 46309, 62702, 16986, 38348, 18221, 13216, 2035, 70628, 29435, 11811, 37288, 31561, 15951, 11800, 63304, 11173, 56233, 321, 73499, 68836, 33235, 48993, 31483, 53740, 25523, 67166, 15405, 41271, 58412, 39820, 53103, 68256, 67359, 65675, 44950, 30278, 32838, 33459, 53129, 33592, 43096, 72780, 10884, 63901, 16979, 15162, 67693, 72890, 3867, 39784, 41528, 28993, 36764, 51008, 74579, 40774, 40805, 48280, 19457, 41826, 29290, 74699, 55906, 65996, 29283, 63387, 36393, 17185, 55571, 47360, 55128, 62407, 67768, 55808, 26414, 21441, 58527, 71489, 25805, 46089, 50781, 16305, 12863, 2489, 51319, 49453, 17186, 48435, 35378, 47049, 71231, 28249, 46748, 42602, 75693, 22247, 45232, 12730, 56010, 65567, 19024, 13869, 31313, 6003, 21879, 31389, 71163, 31756, 58125, 13503, 62053, 40674, 7857, 18500, 39929, 30540, 11144, 58542, 534, 38731, 34654, 2431, 25231, 18807, 15959, 9729, 9523, 39705, 65658, 15369, 57242, 65073, 58039, 67179, 61378, 69662, 58488, 59428, 49120, 49981, 64461, 38905, 9324, 22119, 43623, 39016, 63020, 22900, 15456, 17744, 52538, 9130, 48579, 74248, 30332, 23701, 22824, 52574, 47421, 3454, 34765, 16096, 8684, 35752, 60683, 3697, 23611, 37267, 39287, 5809, 59786, 50630, 38318, 9373, 39238, 37418, 20921, 65299, 37548, 35054, 22070, 56954, 63495, 7202, 29083, 51614, 73215, 75521, 15659, 46720, 38621, 51314, 74683, 19453, 33350, 60482, 33560, 9021, 22046, 61460, 23641, 35726, 60249, 13387, 311, 29950, 63508, 76282, 65291, 38575, 64096, 4128, 58863, 16282, 28973, 53257, 30181, 58537, 6666, 66543, 56674, 50976, 14739, 338, 27321, 52411, 7687, 21100, 25371, 9079, 29902, 74610, 63576, 75923, 62589, 58307, 21718, 38045, 44065, 29692, 24296, 27497, 67687, 36532, 22584, 51177, 67906, 8203, 67798, 47912, 74011, 8816, 7575, 25741, 9944, 71707, 33559, 45444, 19803, 23496, 38750, 17634, 55676, 2604, 75490, 36535, 15551, 27055, 27368, 55524, 56148, 70630, 4669, 45640, 43624, 19376, 14212, 18939, 5040, 69029, 20006, 63205, 43236, 17500, 18533, 20395, 6857, 36827, 60962, 43391, 10184, 73435, 69384, 51219, 28733, 58709, 30514, 53096, 10509, 53247, 21972, 29203, 6987, 50194, 57960, 75557, 32993, 66131, 15360, 71226, 25074, 60044, 35122, 55696, 220, 22513, 28116, 19686, 16112, 25962, 61035, 13938, 21661, 9698, 37991, 58503, 14966, 33206, 53987, 18042, 11628, 58239, 8671, 2376, 12160, 66483, 26754, 14784, 61686, 24204, 9355, 10772, 17074, 57089, 8054, 44985, 75216, 31238, 66460, 13425, 25605, 14002, 64234, 57615, 27062, 1109, 20274, 47945, 71979, 17121, 37616, 37033, 27837, 33545, 24401, 7697, 45011, 41450, 14813, 53879, 20052, 28139, 26352, 18791, 3481, 8785, 27745, 1186, 11833, 15313, 58196, 52847, 36013, 17215, 64127, 74856, 74352, 70076, 12594, 51295, 56293, 2247, 12546, 34611, 18547, 8391, 25452, 67000, 63831, 3699, 50138, 69097, 36945, 29403, 5315, 75054, 59876, 39798, 40739, 17691, 38955, 6280, 52397, 75277, 47977, 67776, 292, 452, 64495, 70738, 41253, 51431, 26244, 46244, 30919, 68159, 57543, 21338, 63954, 19320, 29208, 33714, 1922, 36947, 70692, 42910, 74582, 76137, 39924, 3226, 41015, 16221, 64862, 31255, 72536, 53937, 61743, 53016, 4291, 39986, 21708, 33522, 35052, 47905, 38870, 59816, 6382, 12192, 14944, 36096, 48196, 2510, 30781, 316, 42303, 76273, 36212, 42714, 73306, 56872, 22154, 1599, 72627, 62894, 68321, 56079, 39393, 20265, 70780, 1375, 58640, 36318, 56431, 22911, 72639, 53472, 17503, 21684, 14780, 44956, 2858, 5829, 63306, 51311, 61401, 42874, 58584, 14040, 1619, 35885, 10759, 37796, 74398, 34149, 69012, 22852, 52986, 71636, 24480, 50360, 9772, 24087, 1961, 29680, 8032, 17176, 26783, 27950, 41860, 16359, 26671, 34369, 30521, 23778, 50788, 69404, 19154, 55806, 27808, 69048, 74062, 18302, 5328, 32176, 10372, 54060, 16982, 2079, 52216, 27726, 34183, 7001, 209, 13031, 64449, 462, 8633, 5139, 45584, 76200, 47724, 31828, 33474, 20559, 5107, 1904, 2015, 54490, 61818, 73529, 48632, 12269, 29674, 60671, 41871, 27430, 2373, 20812, 44410, 18991, 10361, 38146, 40092, 35125, 74845, 32175, 26007, 11260, 17257, 67472, 44185, 19705, 23227, 38530, 1392, 17163, 15494, 27211, 20119, 17547, 16263, 59818, 30477, 65116, 11103, 7676, 50257, 44775, 18267, 64274, 18881, 49047, 73951, 29665, 32407, 7481, 3407, 56329, 13043, 28779, 52188, 6569, 1800, 39197, 35948, 21878, 40561, 75628, 57845, 56979, 63203, 48332, 48842, 29368, 18724, 73752, 42449, 2439, 48346, 52322, 14994, 37088, 27970, 74597, 54401, 51701, 34032, 36215, 66739, 36254, 41624, 11533, 64595, 495, 47436, 33404, 32820, 47794, 55587, 1826, 43058, 9910, 10500, 4931, 23773, 11954, 10651, 37003, 62057, 25813, 31640, 74030, 541, 65369, 21801, 64762, 19714, 30345, 32231, 49936, 28011, 11942, 4061, 12408, 30691, 52364, 42592, 51640, 45196, 31579, 67756, 25244, 4591, 20791, 42187, 62187, 71757, 54560, 36933, 26147, 69296, 61550, 8072, 4516, 573, 69798, 40998, 26265, 28258, 66624, 75235, 33595, 42819, 55814, 72245, 8522, 44927, 21753, 53617, 22744, 67493, 38418, 40675, 73887, 19255, 52148, 49154, 19036, 70501, 47400, 2321, 42702, 1033, 74400, 58999, 53885, 41447, 32815, 64180, 9488, 41316, 70300, 71158, 46361, 21984, 30629, 23353, 35506, 19739, 30644, 17625, 14876, 47963, 64833, 36031, 75326, 17929, 2938, 66448, 44855, 30601, 56688, 14982, 19051, 11894, 26318, 63804, 44081, 41644, 43807, 21734, 27911, 28842, 21826, 18085, 13184, 51678, 20000, 37579, 43683, 73350, 47380, 29364, 54226, 27575, 43402, 42213, 44915, 30316, 1273, 44828, 52335, 62339, 35524, 29893, 63910, 11977, 33838, 61916, 6082, 31857, 48009, 7965, 27194, 37772, 922, 53053, 9517, 43298, 35585, 61195, 25987, 20834, 57295, 48040, 50577, 26809, 54181, 31511, 22539, 23537, 1653, 14511, 14938, 9928, 16724, 24449, 6227, 30609, 1792, 24, 12494, 36196, 73766, 9768, 69818, 20172, 33036, 44715, 61822, 67380, 50478, 17419, 11990, 51626, 20603, 33137, 15329, 19223, 17555, 31980, 63450, 75351, 63977, 51197, 13692, 2309, 37264, 22334, 43575, 8919, 1786, 2525, 4428, 13592, 15914, 66600, 62110, 3821, 58260, 53943, 30855, 2934, 75063, 69991, 58310, 901, 36619, 54152, 1642, 68339, 29579, 57123, 58659, 24820, 66467, 53110, 58747, 58845, 76117, 39442, 57212, 34860, 12570, 27558, 67734, 24498, 67711, 14161, 17141, 58656, 64931, 34419, 25068, 9534, 14631, 71873, 41261, 2774, 25737, 4024, 17249, 31300, 35289, 28996, 67630, 24877, 45453, 64309, 3445, 22339, 40252, 26502, 35586, 34840, 45770, 63930, 70081, 31994, 41169, 15164, 52557, 48985, 36360, 57914, 40066, 31679, 73189, 40660, 47728, 7107, 49218, 64570, 70711, 45992, 47101, 13751, 56162, 76248, 18774, 47385, 44024, 36612, 31958, 11444, 26527, 30951, 34984, 37052, 55474, 46141, 58262, 75994, 5086, 25419, 9092, 40512, 2729, 3144, 41543, 43414, 55453, 47564, 14895, 50676, 41110, 41898, 7749, 59906, 69063, 75652, 8872, 33543, 46921, 16975, 5883, 4048, 72828, 35163, 4104, 21249, 21245, 1535, 43739, 38613, 41685, 57651, 22831, 2456, 23292, 70484, 57598, 56457, 19769, 13091, 44876, 46320, 35748, 41727, 63918, 21200, 12680, 45, 30104, 55672, 43967, 50239, 25727, 36484, 31977, 46904, 26378, 67398, 50319, 67268, 40490, 31876, 56235, 54399, 58372, 57282, 39503, 22215, 1862, 30519, 7214, 39183, 74822, 29222, 13313, 49442, 60232, 10907, 67392, 14681, 12954, 28829, 42646, 32260, 60017, 50025, 24096, 28805, 583, 15901, 46230, 45148, 40076, 72459, 7821, 16840, 54909, 66937, 21084, 11420, 5811, 23829, 32776, 22068, 41331, 43045, 27909, 60107, 13217, 52005, 36206, 57791, 4160, 8476, 9271, 39347, 51382, 53818, 3253, 31217, 14976, 63599, 49229, 17374, 40704, 976, 54171, 56074, 30486, 376, 46119, 32147, 58730, 34474, 54473, 70783, 58866, 47072, 44036, 65245, 61860, 10864, 60704, 19205, 71597, 17298, 62438, 55604, 74871, 59324, 29925, 37006, 20413, 19688, 72480, 17457, 56652, 49009, 48806, 25938, 64924, 23184, 50614, 17767, 48402, 37277, 28948, 4400, 3379, 15877, 23787, 36336, 34711, 7931, 25963, 45144, 60040, 32471, 64852, 43773, 40723, 8013, 25576, 14887, 41208, 20105, 33623, 58794, 60974, 6397, 59905, 6864, 23485, 50957, 74893, 29264, 38259, 1093, 20643, 11988, 61820, 70641, 33895, 35031, 75466, 42388, 2589, 3335, 26458, 29540, 10217, 23239, 44697, 5871, 2211, 75393, 51071, 21913, 71101, 48577, 12262, 27934, 43987, 32593, 32538, 57799, 54755, 44795, 57331, 34954, 2204, 61833, 12973, 31202, 65310, 20621, 67223, 20850, 30429, 17654, 57135, 30767, 63454, 72963, 3436, 71779, 33275, 47992, 9031, 15049, 10084, 25843, 62530, 5319, 69938, 27944, 57860, 33500, 72640, 73558, 70200, 17966, 72549, 18149, 19068, 43193, 8060, 71484, 26689, 53674, 75494, 14469, 29348, 12739, 14163, 20590, 41174, 3414, 46704, 70003, 74885, 56309, 7478, 74336, 17471, 7883, 16950, 8170, 32441, 28975, 69035, 67385, 69515, 660, 63743, 51100, 45740, 59530, 16575, 9074, 1276, 75006, 37396, 7840, 8273, 75019, 39385, 47811, 21608, 48909, 44640, 55155, 13655, 37542, 42021, 29704, 71468, 45899, 46708, 28436, 69265, 65024, 71024, 52909, 56803, 60727, 69667, 40956, 73088, 9846, 26991, 17800, 62980, 11061, 41416, 52128, 71974, 3316, 58699, 62557, 7495, 26574, 61354, 596, 17568, 70489, 19898, 74261, 21065, 2251, 45395, 45448, 47277, 11540, 21011, 2401, 46270, 34961, 48502, 8421, 10421, 6461, 16100, 75353, 74396, 67154, 26055, 53519, 60575, 37360, 41611, 68091, 45105, 2240, 13270, 2224, 29707, 4210, 6123, 64857, 56697, 43153, 24596, 30743, 75002, 21967, 17808, 23966, 6854, 1066, 48013, 69478, 30961, 12415, 71871, 26214, 44442, 52071, 17032, 39866, 61969, 56733, 10026, 45905, 39582, 15938, 22463, 70566, 46852, 62259, 45301, 31384, 2467, 18620, 16094, 33903, 42941, 41550, 30175, 50880, 40752, 38699, 60105, 49012, 20903, 8929, 31444, 30357, 61476, 57137, 29724, 20319, 74707, 68399, 1264, 208, 15449, 15220, 54964, 40588, 53156, 43723, 49834, 48941, 65545, 39818, 22970, 62647, 16795, 59870, 73259, 29609, 6463, 23949, 61873, 2430, 56351, 67859, 13414, 66112, 30261, 37026, 37220, 37694, 74144, 57443, 24173, 5429, 6682, 22325, 32071, 23056, 15549, 67760, 53650, 990, 42319, 22849, 36000, 59545, 75449, 31979, 60583, 34610, 65317, 73740, 34503, 55007, 4933, 33998, 65997, 50578, 43713, 49398, 12841, 71618, 65303, 60899, 67917, 1911, 32388, 69862, 59946, 11744, 21139, 34306, 60288, 47034, 13921, 74161, 15830, 14496, 39564, 59322, 44975, 10133, 11432, 36749, 20858, 33093, 4480, 21986, 49358, 67835, 40505, 54243, 72998, 25220, 15640, 49606, 66344, 42060, 72174, 58618, 64934, 61711, 33918, 44783, 64215, 19741, 70642, 36227, 75330, 73663, 15533, 46745, 75365, 41186, 20177, 68427, 9634, 12157, 25662, 67804, 34578, 34789, 65128, 40788, 66416, 30186, 11406, 75885, 53795, 17874, 29129, 6032, 15341, 73922, 38855, 21566, 30412, 54301, 34787, 29783, 31001, 73375, 58482, 12506, 75062, 73649, 32665, 19713, 61010, 17830, 27226, 70668, 67235, 66082, 46559, 48859, 15386, 16904, 34915, 26372, 22266, 28272, 35144, 65061, 35766, 56491, 71252, 51668, 1970, 1132, 56364, 72740, 49459, 37924, 43363, 18555, 63690, 45658, 35809, 5983, 917, 45110, 74562, 53972, 67834, 16130, 13449, 65868, 75274, 65824, 52799, 44137, 33125, 48008, 42679, 38406, 12071, 1643, 71295, 47737, 22624, 65622, 9034, 52586, 59643, 58615, 30178, 24051, 59078, 60567, 3295, 64827, 43459, 66627, 17028, 17518, 33140, 32545, 20894, 60748, 68592, 73304, 68495, 17939, 48229, 66920, 15173, 328, 58816, 35503, 5374, 21378, 54632, 67914, 52568, 33518, 63096, 4485, 34253, 75241, 51916, 10389, 40386, 41998, 72924, 22698, 3627, 54899, 33598, 45048, 15730, 42658, 53432, 74394, 17203, 48296, 62945, 6193, 6302, 35532, 25678, 9531, 63364, 73240, 14097, 39457, 67252, 47427, 57597, 60212, 31918, 24289, 29150, 47976, 3819, 60828, 28557, 57266, 50485, 39266, 65488, 1673, 52955, 36182, 39496, 25225, 24660, 809, 8670, 56066, 23733, 67982, 35181, 21650, 47666, 56372, 21410, 67013, 65043, 74882, 44025, 37725, 47621, 63370, 35370, 19139, 33688, 14179, 66684, 8637, 13656, 62879, 38048, 71404, 45181, 7501, 60506, 36808, 10932, 63715, 58515, 74021, 12951, 54021, 22340, 55871, 38784, 65912, 44873, 36328, 68656, 20877, 16515, 35814, 11002, 8916, 18650, 42644, 50768, 35252, 74989, 4491, 37036, 71706, 13513, 76021, 58694, 61348, 4830, 23570, 1536, 72224, 50369, 14418, 75229, 32468, 45357, 4032, 68117, 8288, 5536, 65979, 7756, 15731, 3025, 20212, 45926, 66629, 11967, 70733, 18151, 43760, 52669, 40138, 65019, 64904, 5654, 32287, 68756, 54176, 49130, 49816, 21946, 55013, 55946, 34210, 53725, 12420, 16219, 52185, 59102, 26506, 58625, 35111, 60083, 35395, 6237, 18544, 19649, 60452, 69212, 37310, 68402, 27630, 54697, 25826, 73014, 74481, 60213, 3424, 74892, 33986, 48879, 41794, 56392, 41123, 17604, 10764, 71755, 70564, 73405, 75436, 34577, 53599, 8142, 59753, 50229, 17933, 64226, 48823, 21120, 13658, 14328, 599, 16387, 48411, 17745, 8452, 26237, 56519, 39850, 18406, 72708, 50872, 48899, 66968, 1254, 6449, 14972, 32013, 16163, 69674, 65487, 60606, 15735, 43270, 55044, 68881, 49401, 74578, 50835, 56036, 40400, 76187, 68901, 39824, 6544, 1014, 30857, 37463, 63971, 44129, 29452, 22587, 7612, 76134, 20302, 25421, 71203, 19292, 26317, 66568, 37094, 60624, 12581, 164, 69110, 20569, 36402, 72914, 43010, 38546, 16733, 44633, 32485, 32826, 65786, 69689, 2270, 63560, 43187, 52504, 57012, 71640, 40089, 73302, 62898, 56824, 39672, 3350, 37187, 24490, 9449, 16841, 20890, 46968, 23741, 57375, 36806, 16609, 67083, 70553, 42390, 70104, 4578, 11439, 19000, 26100, 40303, 70778, 31554, 14626, 61140, 30314, 20260, 59790, 42397, 74519, 45917, 15154, 8056, 68915, 27500, 22817, 52303, 75716, 51202, 59895, 64017, 54052, 17313, 60238, 24641, 32911, 54760, 21482, 53969, 24986, 20694, 13227, 60419, 985, 9372, 22806, 40133, 18984, 62389, 4676, 66628, 34078, 18273, 41554, 62346, 59354, 9838, 72182, 1929, 73269, 29079, 63797, 4078, 22803, 48333, 1683, 8589, 20173, 55311, 16299, 57218, 3807, 31827, 26546, 39568, 67988, 64424, 10547, 12468, 3083, 25841, 20185, 72711, 6307, 30537, 67348, 8948, 39626, 16255, 13249, 5562, 23816, 48085, 58116, 25719, 12630, 6813, 74003, 37435, 7723, 41324, 67016, 59746, 14536, 12064, 68133, 41211, 44884, 3881, 57201, 36452, 8387, 43531, 72024, 46766, 2581, 40876, 69156, 52122, 40461, 9913, 25315, 60859, 33468, 45010, 1040, 52144, 65472, 71129, 30832, 21504, 72691, 21869, 47742, 18725, 52024, 61810, 47791, 26872, 39955, 63118, 37371, 25936, 20507, 64593, 18417, 70457, 15030, 29661, 25059, 9991, 13566, 20476, 42201, 42219, 25854, 73501, 47537, 18033, 1227, 32718, 4689, 48240, 31411, 9736, 53144, 68917, 4588, 20033, 69189, 65371, 47777, 58252, 59412, 46628, 26833, 42136, 62487, 54570, 50944, 56256, 75699, 26439, 18214, 64482, 38695, 21161, 20503, 42652, 43430, 61254, 16134, 38057, 21680, 61333, 35065, 71925, 2811, 6206, 26940, 38356, 14071, 26243, 6384, 51299, 12092, 45503, 64533, 36709, 56717, 25167, 26228, 2481, 13910, 57803, 39102, 69076, 5823, 74425, 14570, 13397, 17394, 40472, 17149, 3889, 64095, 41781, 28762, 55367, 45537, 39031, 29571, 51985, 67081, 39543, 65404, 70873, 32240, 56764, 936, 30873, 26461, 45377, 18640, 28301, 19609, 15611, 58181, 63866, 20355, 73239, 7443, 20767, 17036, 38, 75188, 68830, 10149, 55819, 41901, 63433, 51002, 36691, 32105, 58799, 2391, 69643, 37509, 22131, 40988, 67943, 73309, 31568, 3038, 24819, 50210, 47038, 12728, 71266, 69912, 8510, 36195, 29245, 5924, 16028, 17424, 65006, 62279, 24864, 67603, 62370, 47536, 55298, 25595, 38172, 7571, 17290, 8270, 71143, 71916, 72888, 10059, 18138, 65296, 47573, 71215, 66437, 5712, 24838, 70032, 37717, 71735, 24152, 47511, 47779, 34686, 2891, 39059, 24926, 27532, 75070, 59805, 54472, 12660, 46826, 48698, 49691, 56262, 27931, 26238, 47859, 11384, 4283, 15617, 37692, 24700, 10928, 62821, 7732, 13914, 3173, 66764, 71777, 43779, 24183, 138, 61961, 67005, 14240, 75627, 12923, 40533, 74449, 2664, 52800, 4242, 15338, 53920, 60208, 14826, 57608, 35900, 31928, 39477, 51949, 6816, 15675, 51896, 71915, 69227, 26485, 12653, 61533, 36753, 29827, 16583, 51513, 75343, 59335, 21803, 39690, 48284, 20376, 47722, 64383, 35330, 72073, 45991, 72642, 56526, 29686, 75668, 43288, 51045, 25645, 64521, 31917, 70966, 20779, 12934, 15417, 28575, 5408, 61557, 37476, 52846, 12552, 2652, 67625, 43777, 6162, 11491, 69206, 23401, 30100, 19807, 12079, 5933, 11288, 53965, 63065, 50255, 48370, 43105, 59101, 76327, 75518, 64793, 36411, 32792, 42977, 35653, 27531, 52300, 30105, 47887, 15426, 20320, 37881, 62792, 31020, 23423, 66107, 46698, 36161, 38003, 44379, 61741, 69202, 25396, 12285, 32386, 53269, 26871, 33633, 65961, 18677, 45320, 26379, 13622, 23196, 52497, 18263, 6940, 72771, 74406, 57328, 28685, 60342, 65564, 7733, 33511, 71866, 17614, 29963, 39094, 50672, 24420, 7101, 13089, 41573, 13353, 59987, 53081, 44716, 36525, 6194, 6502, 21335, 59624, 39219, 67499, 4921, 64214, 76267, 59967, 28326, 14796, 14216, 58265, 19145, 34026, 51938, 40647, 16200, 43725, 6521, 60114, 68224, 50776, 12516, 73139, 58219, 58673, 19427, 38080, 66557, 7917, 5834, 29271, 38884, 22866, 38630, 49680, 64059, 63920, 32092, 36893, 68309, 19455, 73414, 50213, 42777, 44924, 23025, 16994, 33389, 64254, 22452, 8168, 44431, 12620, 32246, 29630, 47861, 29887, 45767, 53615, 43019, 29196, 18505, 19560, 43443, 48130, 1808, 36646, 45772, 8777, 31216, 18451, 26286, 15311, 33716, 3535, 9559, 16901, 64894, 69709, 24137, 43331, 21747, 64078, 1990, 15921, 18651, 58832, 56701, 1591, 67877, 63617, 28052, 41690, 25612, 57360, 65023, 42380, 58485, 49271, 54189, 36859, 19392, 39747, 75915, 29522, 21076, 46498, 73782, 50862, 32149, 66564, 3397, 5632, 71551, 32497, 45252, 52841, 12511, 39746, 69009, 65608, 11391, 29883, 57699, 1724, 21611, 50797, 63308, 70519, 29095, 54761, 60486, 21817, 73138, 23240, 20753, 68373, 5691, 44344, 12562, 38946, 50252, 28183, 8489, 9620, 45362, 24359, 69922, 69043, 10045, 42386, 11378, 27823, 65712, 52208, 60178, 2424, 43809, 73846, 36710, 32160, 19541, 28747, 66847, 59303, 12815, 4900, 12148, 16876, 75139, 4344, 15243, 72092, 5171, 73545, 42199, 8620, 31053, 30067, 69595, 18181, 39253, 68149, 21485, 2432, 19532, 17881, 29826, 29634, 7700, 9330, 32137, 53940, 27177, 67031, 55006, 36867, 58470, 28396, 70537, 32278, 17714, 52073, 41859, 63646, 45921, 39979, 64598, 16315, 30802, 50653, 36760, 73860, 20120, 76177, 46075, 67700, 8738, 47155, 3923, 45506, 26499, 38450, 47343, 38243, 15913, 45769, 11321, 28439, 37167, 23751, 29065, 43343, 32212, 31496, 22100, 29408, 34510, 50078, 27111, 17006, 53700, 13549, 46718, 25702, 59106, 20936, 27874, 67300, 671, 6838, 55915, 1625, 71178, 69529, 29726, 36692, 2096, 28227, 11891, 59924, 73213, 6707, 72222, 49118, 39364, 56182, 22143, 43813, 14918, 47290, 74075, 24424, 33937, 43656, 46569, 5527, 862, 74118, 58639, 36192, 41029, 24988, 15362, 25415, 43448, 61773, 61176, 23599, 63665, 15804, 71889, 30624, 9792, 65932, 29745, 76118, 66216, 62954, 20560, 63176, 48901, 55539, 15359, 40948, 15193, 11531, 11772, 62855, 65119, 61893, 44638, 56607, 20083, 37023, 1235, 47903, 12451, 68510, 61611, 68695, 22305, 45022, 21772, 14534, 37847, 1640, 34393, 43793, 32535, 56909, 61760, 41507, 76015, 75043, 33485, 37407, 72734, 52177, 57457, 5232, 29244, 22255, 62240, 73370, 37066, 29873, 72153, 34814, 11902, 65646, 30846, 65778, 27095, 22391, 3735, 65193, 12017, 62824, 71359, 65349, 21754, 9554, 17372, 39319, 44546, 18579, 40555, 66618, 15375, 41674, 15954, 41770, 32619, 52803, 1473, 55215, 67239, 50603, 50102, 1601, 12125, 12229, 61772, 20622, 11935, 60282, 69820, 54343, 59982, 13470, 55712, 59769, 46795, 24196, 75130, 66550, 24457, 72055, 43550, 51969, 50954, 33024, 73667, 17570, 8960, 59464, 56101, 40843, 4366, 63811, 69808, 15525, 44772, 44597, 53928, 11841, 30394, 21636, 4891, 41672, 45606, 15097, 13782, 58365, 19434, 11607, 46212, 49287, 60851, 35940, 16106, 33207, 75320, 68414, 5137, 41629, 10984, 23824, 18026, 16819, 7745, 20996, 36688, 33596, 21929, 12425, 17526, 30455, 58791, 21593, 73612, 12250, 38548, 9927, 75299, 20468, 66100, 73458, 21463, 39423, 37373, 44607, 42228, 76119, 12291, 74540, 60030, 3020, 45524, 75156, 59503, 26638, 26202, 74226, 14679, 68772, 49256, 4399, 11707, 29329, 9656, 66708, 28717, 53773, 34189, 4740, 76153, 59110, 71373, 44731, 51088, 2564, 47331, 57377, 62729, 69560, 35035, 63024, 19966, 29439, 14917, 35188, 63773, 36585, 63157, 159, 4635, 15159, 12755, 73565, 41769, 43762, 32684, 68293, 38248, 17809, 45839, 52035, 17552, 70603, 21999, 4841, 21968, 25064, 24591, 36307, 20035, 8090, 14282, 23915, 41660, 48447, 61223, 61133, 11922, 29714, 41424, 36759, 54727, 40446, 60526, 32148, 9543, 73867, 14697, 8576, 29690, 58669, 55165, 394, 23805, 62371, 4969, 12723, 56419, 58892, 3096, 45982, 30742, 56836, 39296, 14086, 22506, 69420, 810, 37683, 10519, 15526, 29866, 26096, 44039, 48847, 9491, 64507, 43973, 55742, 17872, 37098, 62192, 61304, 46924, 75347, 41173, 33234, 41368, 33406, 71940, 10392, 58250, 28131, 71951, 16175, 62174, 619, 74112, 59287, 34579, 48249, 57817, 14736, 4243, 67686, 13301, 47287, 34576, 6133, 47682, 67678, 61107, 13161, 74874, 43285, 76068, 51251, 66588, 59887, 35247, 62142, 21320, 59237, 74107, 66367, 37715, 74154, 51683, 18159, 11809, 9742, 40027, 72848, 3243, 70030, 7859, 72664, 47764, 33981, 52564, 30953, 3341, 8867, 21586, 10031, 38300, 10899, 41377, 45442, 73730, 16971, 2486, 13393, 56663, 18922, 8472, 14500, 59874, 33505, 63438, 55207, 12281, 37280, 63092, 14459, 72061, 40864, 7782, 2398, 43500, 5674, 60471, 14656, 44402, 14593, 70447, 44869, 12240, 1711, 57755, 31680, 66758, 69201, 73768, 6234, 65577, 42883, 67989, 53310, 59405, 34315, 41506, 34083, 54303, 14247, 45914, 43583, 14030, 62747, 29984, 70151, 55390, 8939, 30868, 14872, 73155, 3640, 10973, 46452, 8561, 10641, 27702, 11042, 35521, 23060, 16815, 34790, 5996, 66878, 3829, 26432, 13394, 60946, 9120, 39097, 69164, 13934, 10894, 57935, 28775, 52904, 68843, 21460, 52595, 71488, 5088, 57674, 72756, 45297, 55854, 37048, 15366, 43974, 7010, 51811, 68486, 37608, 8242, 20398, 28028, 68635, 12542, 55688, 24011, 31358, 1219, 11745, 54179, 57644, 70141, 32977, 61596, 8436, 46937, 13017, 56849, 54129, 49883, 58142, 52327, 2641, 19902, 74298, 26420, 43130, 50924, 62777, 34904, 66680, 63693, 25884, 73631, 49569, 16155, 3667, 22553, 72873, 73872, 3197, 20516, 45456, 28136, 7751, 5468, 11275, 30045, 39091, 40132, 40078, 30819, 14412, 67073, 16196, 5956, 63468, 637, 42018, 76326, 29044, 64767, 46480, 45371, 75201, 69737, 15487, 41269, 37081, 21185, 21935, 36781, 648, 75282, 41028, 2543, 30340, 28999, 22061, 23950, 72135, 8656, 32849, 42857, 12836, 60649, 6158, 66300, 46635, 29232, 33477, 18106, 75795, 64354, 53259, 24884, 19323, 54310, 3988, 50429, 36516, 52845, 35886, 68218, 52994, 57571, 76120, 36400, 40707, 24268, 38851, 30770, 30822, 32250, 55926, 69656, 5961, 21837, 59779, 61117, 5640, 71626, 35904, 71568, 3773, 69182, 22105, 75465, 19066, 76216, 90, 18441, 76189, 44221, 32984, 50830, 33192, 15750, 49046, 33127, 50080, 15268, 34685, 986, 44878, 57927, 55797, 67100, 51551, 51096, 32066, 65744, 55811, 51737, 49727, 24898, 44758, 2450, 41852, 1262, 20547, 43712, 31212, 53646, 59064, 63517, 34270, 52351, 36763, 72394, 67564, 51792, 72390, 45644, 27855, 74206, 18097, 11006, 38201, 47359, 11291, 72876, 8498, 36675, 34966, 18410, 55051, 74640, 20781, 3883, 52436, 46668, 14735, 72859, 59563, 38058, 15505, 39026, 57448, 40100, 59108, 64895, 64306, 61753, 43536, 32552, 29084, 45487, 62631, 33637, 7598, 57040, 2979, 10285, 55249, 37402, 49675, 37344, 42000, 9091, 17339, 3900, 4584, 62284, 1426, 47948, 62455, 928, 69796, 32581, 75484, 58688, 686, 73184, 16048, 635, 75263, 60014, 28339, 65427, 36314, 58251, 27629, 46870, 33674, 32159, 29091, 18910, 68141, 7340, 14127, 65891, 22853, 73067, 25493, 53644, 7515, 12955, 15343, 52546, 6524, 58644, 44622, 25302, 19615, 41213, 33867, 28630, 73320, 9800, 55881, 23318, 21177, 11417, 45068, 59602, 26530, 40287, 20213, 50221, 52639, 69948, 71169, 34100, 65964, 53221, 22157, 13453, 43341, 10783, 71026, 9922, 2157, 13858, 51509, 3449, 8956, 3690, 30440, 75265, 62289, 63131, 74315, 34352, 64231, 30438, 27616, 35409, 46542, 55786, 2232, 6467, 54416, 55818, 56013, 22033, 8419, 3505, 19073, 1126, 75943, 4143, 24860, 20024, 45854, 64324, 57525, 36233, 50261, 29259, 41382, 65015, 4030, 18779, 54557, 33631, 67763, 14665, 27027, 29017, 31260, 50012, 59388, 58953, 50685, 16262, 2788, 70933, 21074, 31845, 36536, 49156, 38913, 555, 59142, 40693, 69495, 49252, 38459, 10159, 5265, 56765, 71965, 60231, 40854, 57852, 2444, 72504, 33905, 41458, 64148, 51958, 71982, 70859, 6292, 71954, 35262, 2998, 4563, 12789, 49799, 65936, 2222, 72302, 13730, 29398, 57053, 37595, 30786, 40841, 13650, 15932, 27377, 38208, 13545, 36865, 43086, 69733, 54530, 11422, 47652, 11719, 67345, 19338, 19575, 45338, 37673, 41297, 50713, 34716, 54492, 60465, 74603, 64880, 49158, 15392, 57620, 29688, 545, 32648, 52430, 54346, 28200, 9471, 27738, 30916, 67467, 29958, 51825, 18705, 10291, 48749, 22377, 10654, 44369, 40185, 22713, 7975, 31497, 53311, 30177, 4629, 6644, 38329, 13074, 50888, 17091, 45814, 46188, 38441, 26815, 67331, 74806, 17113, 54400, 70439, 30214, 37045, 59001, 5074, 40935, 7166, 10345, 24163, 63577, 53600, 14048, 34052, 45619, 5152, 73495, 14056, 37656, 32438, 76320, 20793, 73650, 48471, 55387, 65104, 35659, 30464, 55511, 5901, 47931, 41757, 74119, 33191, 73450, 61623, 48929, 51489, 41697, 74122, 72354, 44446, 40205, 55175, 23761, 22153, 34251, 3233, 51203, 72971, 66791, 76044, 37547, 1414, 71781, 3040, 3663, 14810, 73718, 50459, 36644, 69646, 68667, 39510, 19, 74549, 5862, 75826, 47711, 45790, 22485, 71508, 28577, 37553, 75275, 69718, 60475, 20466, 48043, 10610, 54228, 24211, 45217, 32888, 53564, 25439, 8686, 67264, 3891, 46811, 47020, 38192, 14841, 59026, 23747, 16385, 20025, 68254, 74045, 42422, 11821, 47339, 75811, 49552, 9904, 7813, 43119, 27573, 53364, 10565, 30463, 66602, 31519, 17751, 63853, 69237, 63312, 5063, 66420, 42465, 22333, 39408, 43703, 70786, 58723, 68389, 61063, 15126, 9228, 14504, 16176, 30411, 50785, 2973, 74759, 19246, 30476, 35093, 59313, 40527, 43671, 25908, 26623, 10799, 74419, 34880, 74069, 60314, 2368, 7291, 51935, 48684, 1939, 13536, 53820, 16844, 63342, 30783, 38190, 45370, 64853, 33820, 31159, 10621, 20278, 37294, 27309, 66105, 43848, 10503, 57537, 62746, 13860, 18022, 74511, 24141, 51569, 32549, 54261, 40895, 63227, 26672, 10303, 10647, 5643, 57074, 59737, 2754, 25660, 17757, 16580, 42961, 14217, 55052, 45266, 28169, 30983, 7491, 18414, 15387, 50448, 48999, 28839, 5425, 52962, 49877, 24637, 67614, 61272, 12608, 3884, 32373, 70138, 12865, 2338, 47960, 1998, 26134, 68725, 64884, 13046, 34813, 4394, 72630, 25073, 40192, 64722, 11190, 56138, 9625, 179, 6408, 26633, 22010, 8259, 45819, 53790, 22812, 69249, 35077, 37757, 52912, 38078, 43214, 59732, 224, 28955, 3684, 38916, 72023, 21031, 62372, 22065, 74297, 20711, 59229, 66704, 73908, 21890, 63348, 58879, 29721, 11887, 35678, 63353, 10005, 73236, 72927, 12727, 62858, 5010, 49150, 1220, 40436, 49587, 10402, 67581, 41488, 4310, 29386, 14103, 37194, 20434, 20031, 45716, 49469, 51132, 8456, 7552, 65048, 24574, 31536, 55681, 28807, 54477, 8068, 46864, 35534, 8390, 17656, 23776, 10284, 53665, 50139, 52711, 16693, 3552, 32759, 24590, 15282, 63708, 31254, 22462, 5766, 18324, 34195, 62614, 82, 35755, 13632, 65152, 56368, 73244, 31415, 46820, 32772, 31334, 15576, 68281, 16147, 51278, 30252, 6953, 57625, 25453, 12180, 60012, 36745, 56668, 49973, 30988, 75765, 65012, 27137, 25910, 62405, 38384, 42703, 30208, 42923, 60640, 23372, 5539, 42875, 8642, 53258, 29742, 55630, 48340, 47866, 66990, 5062, 20899, 43181, 22508, 59123, 3669, 65941, 26259, 44111, 15816, 38104, 21802, 17731, 59543, 7584, 50511, 37831, 30617, 67961, 11927, 7022, 32042, 32481, 62103, 36469, 56113, 34913, 47481, 75349, 33832, 32478, 28564, 5690, 20084, 20811, 16517, 75289, 31088, 32447, 41460, 9791, 86, 19103, 1025, 75739, 61610, 17661, 34866, 35270, 76088, 15524, 11535, 65953, 31905, 5659, 63962, 61470, 34749, 59522, 63756, 5704, 60202, 42854, 42979, 27414, 9788, 5131, 5554, 69365, 13275, 12401, 60537, 61738, 75180, 44559, 2141, 75846, 51046, 51483, 48024, 2007, 17801, 38285, 50345, 18979, 4707, 26708, 32377, 50021, 75186, 54004, 72080, 41742, 48803, 23420, 20594, 29280, 59626, 37615, 65683, 68743, 33765, 222, 21924, 9129, 24156, 27790, 62177, 18568, 11312, 22702, 40996, 41365, 15715, 45813, 42892, 34285, 76184, 34443, 48951, 33880, 56910, 33489, 62365, 54524, 54943, 56530, 70262, 11814, 61154, 36055, 28745, 27146, 4828, 67680, 24667, 36041, 10657, 23480, 4285, 68012, 59019, 49253, 45367, 64317, 46198, 1968, 48362, 50147, 8889, 65966, 64039, 23726, 3194, 55268, 46587, 29889, 70109, 10668, 41484, 43706, 20681, 61382, 43592, 15336, 30202, 54147, 55940, 55222, 14354, 67158, 22351, 12013, 72382, 56982, 34772, 71836, 35843, 45366, 3925, 58328, 4647, 39980, 45966, 57062, 31494, 46752, 4596, 48657, 33470, 56460, 42045, 7179, 864, 28295, 35574, 31035, 60397, 17601, 3610, 55754, 71332, 73245, 63299, 2026, 67845, 6012, 43555, 28597, 9164, 73543, 61342, 26482, 29277, 63536, 16187, 5913, 41334, 56810, 54955, 58994, 18506, 45292, 64448, 71068, 61778, 20208, 60826, 9583, 53956, 53874, 21927, 55209, 26774, 47271, 74745, 30814, 25113, 18819, 17730, 39978, 61406, 64520, 30449, 44882, 31245, 65394, 53853, 75141, 24625, 30722, 33487, 69356, 56416, 52463, 8147, 8944, 41051, 64898, 14134, 49337, 66621, 10307, 40172, 4681, 2909, 44805, 13491, 53517, 76066, 58019, 56563, 26682, 30517, 51432, 41304, 42130, 54915, 53717, 11901, 73457, 15077, 41782, 33248, 43633, 23032, 28833, 20886, 556, 6814, 3811, 23129, 39717, 349, 65368, 14233, 12623, 38756, 34774, 35909, 27026, 63554, 70029, 3783, 57893, 68287, 28971, 62949, 37064, 66954, 29104, 59649, 16793, 56317, 57226, 47594, 45237, 31753, 44982, 73879, 45168, 39437, 17504, 56673, 44000, 22715, 57043, 14555, 48734, 28329, 59267, 2242, 5962, 47993, 6938, 42290, 136, 44147, 19164, 62528, 29311, 74365, 17502, 29833, 66136, 57124, 60657, 14492, 22216, 61104, 53288, 2313, 67984, 29590, 72489, 64476, 16088, 22522, 53962, 2557, 68765, 1499, 65978, 71978, 38112, 38689, 21581, 7818, 44639, 42521, 13771, 45400, 72994, 40535, 59436, 48723, 55767, 75754, 42847, 72811, 56779, 75015, 3504, 37077, 66858, 26989, 11390, 3156, 926, 56141, 14266, 4159, 40371, 55536, 46159, 17268, 65862, 69333, 40344, 55992, 62838, 43117, 2739, 45592, 51820, 53015, 4919, 23089, 12799, 42326, 52037, 24669, 28837, 72498, 7958, 25485, 57065, 29730, 21089, 31565, 29173, 44256, 67972, 14804, 46122, 19514, 18550, 32289, 40521, 6260, 72380, 40631, 18905, 5621, 44875, 22179, 28471, 64515, 38265, 6312, 42316, 19663, 50843, 35302, 2807, 55178, 129, 12963, 50678, 3499, 7030, 1039, 4388, 42884, 37658, 26975, 49778, 8149, 9400, 10450, 74596, 6823, 71609, 44448, 10262, 65878, 49329, 14365, 47937, 31477, 30957, 13429, 62063, 48795, 8124, 25260, 22276, 56, 40373, 70019, 29451, 25223, 27259, 13691, 70902, 18329, 47551, 907, 60054, 41639, 67230, 69172, 21970, 59664, 73984, 60570, 12372, 8172, 39600, 41130, 42561, 18596, 61238, 53001, 49016, 65681, 62999, 46651, 74318, 13568, 49131, 43333, 64517, 29103, 68887, 36174, 24862, 20605, 35829, 11043, 72456, 28801, 13813, 28457, 33538, 47810, 57663, 46137, 48069, 54369, 29494, 19206, 47586, 33003, 65300, 16880, 53513, 29874, 17061, 26639, 70036, 674, 59547, 45415, 26641, 22882, 20931, 66132, 70626, 19405, 24291, 50289, 43326, 65113, 57288, 13800, 37909, 46364, 62964, 7378, 31682, 24494, 13911, 20722, 7086, 52033, 12633, 74498, 42020, 74215, 74412, 17326, 35569, 28904, 53329, 30293, 56350, 12684, 51653, 71217, 61914, 53598, 31732, 47873, 44467, 28234, 43001, 50353, 68458, 40648, 5367, 60029, 3738, 56965, 56774, 73989, 30054, 7299, 12810, 75173, 33925, 70404, 72156, 62354, 25955, 11493, 62231, 58560, 9278, 47371, 23072, 29709, 20630, 26065, 68217, 30218, 41320, 66047, 55645, 57144, 1267, 6589, 1429, 28051, 34076, 32674, 70432, 69999, 66635, 47144, 4066, 29643, 59751, 35580, 31624, 66182, 55402, 3905, 31275, 35866, 51895, 57290, 68662, 29317, 49963, 1411, 53471, 74165, 32093, 46151, 13136, 26171, 19878, 49361, 48357, 58341, 39008, 74561, 46778, 51629, 61690, 972, 42426, 47044, 66718, 37756, 43095, 3080, 63727, 20041, 6791, 54647, 13527, 71331, 25887, 65626, 4756, 63802, 28209, 53819, 33499, 22680, 20438, 41790, 12981, 66654, 59006, 74485, 46555, 10382, 5072, 41756, 25518, 5853, 24090, 71410, 21745, 54938, 8558, 14120, 62468, 34638, 18321, 28313, 39181, 16039, 12700, 4069, 35745, 29996, 67421, 49397, 74712, 14306, 4457, 2578, 72752, 72420, 69150, 74194, 11770, 32023, 65582, 37405, 47956, 19539, 47059, 37092, 27073, 65777, 11131, 31617, 41330, 73057, 43356, 29695, 42529, 47104, 51654, 27736, 62675, 47195, 67638, 19497, 29808, 45731, 29098, 53034, 13769, 37276, 18634, 74889, 10065, 2686, 9744, 11593, 24487, 24935, 63699, 7287, 62553, 62825, 9106, 62047, 36537, 64292, 74117, 48468, 61722, 40950, 71647, 37071, 29478, 62608, 61848, 53481, 21893, 54318, 50362, 43679, 6766, 44007, 34862, 66299, 7337, 59099, 72414, 69521, 48619, 38780, 16842, 26103, 4274, 55657, 27860, 18063, 74200, 15999, 42878, 70525, 36357, 27341, 30777, 709, 1575, 3408, 69140, 44068, 41792, 39288, 71576, 26024, 15253, 14198, 8791, 39071, 43149, 70345, 43678, 26114, 29703, 4829, 10034, 75354, 12657, 64452, 50019, 31655, 9750, 61202, 36968, 11281, 18591, 61359, 10019, 63413, 64150, 59202, 16498, 13832, 75310, 23242, 50214, 48603, 6446, 44029, 14855, 18858, 22171, 35328, 56700, 1700, 13096, 63191, 4219, 43945, 40865, 10809, 36736, 756, 20222, 47969, 16965, 24097, 58839, 20385, 9480, 48688, 60957, 47284, 45245, 38430, 5346, 68993, 70955, 34653, 1774, 33967, 54415, 22166, 58623, 71420, 32829, 11449, 46885, 7957, 45697, 52036, 2492, 11788, 32616, 42631, 3859, 40729, 43564, 65041, 22242, 66669, 7485, 50158, 7585, 21922, 23063, 33320, 8766, 35860, 33199, 74067, 66927, 22290, 67373, 29861, 894, 21003, 23762, 69376, 20148, 46435, 57284, 10348, 61020, 22445, 32459, 74624, 883, 11473, 36382, 52250, 9236, 54137, 27649, 61097, 47220, 26009, 67970, 18711, 54000, 29454, 8764, 172, 13142, 60733, 52610, 49460, 23181, 56197, 20552, 20719, 60494, 8837, 5130, 57672, 24906, 28648, 44736, 66985, 4775, 44418, 26996, 15701, 45561, 63045, 32279, 14074, 6023, 66754, 10422, 25541, 60309, 65393, 3394, 58998, 20914, 16306, 22610, 67706, 40795, 46797, 41367, 45859, 16337, 32332, 17429, 67928, 26869, 59608, 58505, 53759, 49093, 39733, 15687, 10786, 55748, 50028, 53970, 38672, 9675, 17915, 62009, 15902, 19192, 33965, 45997, 42756, 5278, 41675, 47805, 45808, 38325, 471, 26365, 60433, 5273, 23586, 18078, 63464, 54885, 3722, 38505, 58128, 36648, 34600, 53949, 22913, 71510, 70402, 39516, 71639, 54260, 23552, 58355, 18064, 40743, 1987, 7499, 52077, 50854, 55853, 5025, 33556, 32331, 53386, 37250, 52170, 22791, 62477, 18171, 46746, 39805, 10353, 11626, 68681, 23704, 59922, 70258, 7148, 63723, 8325, 45887, 44083, 36960, 4183, 8052, 52439, 48071, 69802, 12925, 61211, 21109, 76035, 66489, 36448, 35701, 4648, 13617, 53538, 69398, 65005, 11532, 20700, 22449, 51628, 37025, 75589, 31600, 51409, 7285, 47997, 52856, 42174, 57968, 37008, 10175, 7233, 21093, 44672, 42170, 48250, 58212, 52180, 29725, 30640, 9314, 7875, 27759, 72820, 22917, 56792, 37206, 75246, 56297, 55801, 417, 73275, 1949, 28857, 69960, 36723, 70673, 50629, 58754, 9171, 61374, 46511, 59639, 18038, 41180, 47765, 50602, 26797, 21423, 6169, 29139, 6417, 43962, 33769, 69054, 71064, 50425, 23882, 63281, 52769, 29274, 60961, 24465, 24663, 4396, 51408, 7625, 51960, 53370, 45316, 32408, 18010, 66435, 12782, 26204, 14557, 26588, 54889, 38971, 36546, 8247, 23507, 60598, 71571, 27455, 71921, 44540, 50816, 62859, 37427, 64043, 27888, 73779, 51681, 61418, 22986, 4417, 66410, 26429, 19888, 16537, 50622, 48324, 18762, 35299, 34991, 64944, 63947, 66194, 29660, 69607, 59975, 4499, 13386, 22554, 65409, 34917, 31772, 59168, 53883, 34047, 15817, 7904, 22565, 20900, 27084, 36580, 54965, 16857, 46977, 60558, 54599, 13830, 12523, 11004, 22238, 15717, 18280, 21919, 7147, 43880, 26255, 52598, 2214, 17299, 33603, 50646, 9612, 56215, 30237, 28572, 60621, 42206, 58528, 58295, 33241, 69492, 8564, 22310, 32856, 25237, 23615, 19697, 69493, 57880, 39676, 7583, 28476, 50716, 24383, 66506, 75342, 62867, 21835, 47587, 60143, 2160, 37886, 14577, 38015, 8643, 13267, 74863, 50411, 18498, 48687, 49474, 40101, 72274, 25184, 50329, 31585, 69637, 35090, 72973, 12226, 54126, 3670, 58949, 26306, 21094, 17263, 33347, 19540, 50161, 10311, 31003, 72538, 35331, 3785, 58871, 52690, 43687, 53755, 63244, 66423, 63187, 12423, 56247, 41599, 1832, 28392, 66825, 24581, 71118, 9490, 22316, 43248, 17949, 47089, 6503, 18797, 61780, 47347, 66224, 14920, 53845, 12943, 43252, 13317, 54481, 96, 16996, 68851, 40779, 66069, 40152, 38330, 73721, 5593, 53405, 45622, 20453, 1312, 14885, 25968, 1311, 16357, 36093, 7627, 59520, 68053, 35008, 47124, 12247, 32924, 58011, 25388, 52131, 14482, 11521, 40514, 63788, 25366, 16459, 30967, 6330, 4973, 53367, 14018, 53632, 2702, 71379, 50981, 12465, 654, 1699, 73634, 65602, 26091, 2682, 1224, 65736, 3904, 16736, 35661, 26796, 56861, 36822, 8581, 71017, 45986, 767, 17034, 31043, 3238, 45837, 61534, 22123, 19610, 46125, 3387, 25913, 26173, 61723, 50783, 40329, 21456, 44724, 43959, 35215, 43124, 59182, 13804, 33301, 38633, 2443, 2351, 22237, 70968, 49313, 26705, 12363, 35440, 61790, 27292, 12741, 6434, 67602, 26160, 16952, 22064, 73122, 63352, 73962, 47603, 47642, 27523, 59827, 4925, 62802, 24959, 39525, 67367, 72048, 23315, 1335, 37809, 9874, 49797, 9142, 24731, 109, 38449, 46103, 22322, 23954, 21554, 58855, 50355, 35390, 33849, 37538, 68049, 19426, 25025, 27937, 52609, 13324, 11331, 70333, 29549, 2908, 20655, 5309, 59709, 10299, 5789, 58167, 55377, 23156, 39317, 7695, 36929, 57502, 62709, 62335, 39153, 9096, 45735, 13822, 70173, 22352, 35983, 3975, 56170, 46560, 75211, 10304, 76122, 33661, 18868, 62242, 64661, 9461, 43910, 19896, 6067, 48898, 65010, 16642, 1355, 575, 22265, 10867, 61375, 72515, 45273, 60952, 56191, 76333, 59843, 62293, 19077, 46551, 15320, 18586, 62089, 44104, 17669, 65808, 42102, 65328, 32579, 41030, 11083, 64277, 23755, 34451, 21308, 45484, 4961, 65988, 24024, 43146, 70970, 31147, 60713, 49435, 52205, 41104, 66382, 43445, 18678, 36576, 35166, 35665, 2037, 57355, 48650, 55425, 28225, 68947, 4393, 70750, 32990, 44311, 54321, 36434, 27372, 66512, 52181, 59949, 16164, 47702, 18578, 2330, 66063, 8638, 56873, 33939, 6737, 4354, 2527, 58453, 35176, 34633, 73149, 35096, 67426, 60524, 55451, 30133, 75855, 71556, 19217, 24367, 16149, 8825, 1379, 52621, 30554, 7565, 14595, 65093, 73272, 21417, 32689, 65876, 24233, 66368, 24205, 10681, 67880, 56874, 9186, 13547, 22056, 35351, 17475, 64138, 9814, 13225, 58557, 47509, 75010, 45834, 6375, 20235, 68620, 66425, 56703, 4680, 5832, 4910, 45971, 14772, 58891, 17009, 42914, 28812, 24965, 44602, 20731, 12235, 4372, 49991, 1397, 75078, 2265, 11197, 9741, 64710, 30379, 58613, 31067, 37919, 54658, 67464, 12554, 39057, 2868, 65834, 61227, 31414, 22464, 9041, 47480, 28699, 14644, 37293, 37649, 44103, 24617, 76316, 46382, 72192, 73293, 53530, 35269, 11250, 27971, 32627, 34430, 36613, 70368, 73156, 21328, 66459, 10140, 23459, 6508, 6335, 62148, 30388, 9956, 48079, 26046, 54041, 38610, 34444, 17101, 8957, 53636, 11746, 48937, 20664, 50007, 73791, 69151, 3427, 64733, 48029, 58496, 25221, 22742, 22854, 71543, 73509, 64822, 55368, 24628, 31140, 2943, 47346, 13351, 3940, 21886, 8857, 74052, 29612, 28017, 36624, 68987, 28601, 566, 45461, 27327, 23261, 50022, 35514, 38531, 49008, 47697, 76197, 44299, 65002, 65852, 62393, 14946, 55749, 14287, 64477, 52044, 23344, 71541, 2723, 74853, 33900, 56411, 21873, 63902, 19414, 59667, 40139, 34924, 71279, 62575, 28296, 34943, 65726, 29387, 26274, 64028, 24527, 8800, 74260, 29682, 21369, 8363, 908, 37675, 23048, 25034, 21016, 26651, 16051, 7639, 72267, 60126, 51752, 28643, 9016, 59665, 36492, 407, 58507, 49141, 66359, 1945, 69963, 20620, 27993, 45533, 61718, 6454, 26652, 59122, 72058, 41737, 50636, 73796, 73823, 22117, 5132, 23005, 40576, 41883, 48004, 63068, 25496, 49176, 35411, 10394, 21870, 40781, 40157, 45468, 61993, 59652, 55195, 55836, 7187, 10870, 956, 52065, 62435, 43970, 39634, 9539, 43861, 7267, 14941, 37622, 75193, 40686, 37939, 13490, 25342, 47425, 59254, 9368, 47162, 70705, 23968, 65177, 9556, 49878, 11610, 19485, 57660, 20942, 57477, 59575, 7948, 60970, 65401, 68472, 60843, 2643, 42683, 57890, 46564, 52332, 823, 14667, 64700, 32123, 12142, 22873, 2090, 64077, 59282, 38604, 48417, 76036, 43200, 61109, 46621, 26465, 40639, 74907, 3482, 28228, 20868, 45671, 26188, 49783, 7530, 5939, 48943, 36551, 57560, 26093, 62385, 17759, 67413, 30125, 47114, 23345, 21389, 39269, 23529, 74480, 70825, 44308, 3971, 51040, 51026, 66993, 17986, 56958, 15285, 12719, 12944, 186, 32525, 11983, 63949, 21614, 60672, 29200, 60287, 26491, 53268, 63263, 10702, 39280, 66609, 62910, 43361, 46548, 41597, 40495, 72763, 69920, 30835, 22801, 15790, 65767, 55211, 9495, 10606, 20667, 66709, 56378, 34982, 55306, 2553, 31175, 12150, 58395, 29543, 21224, 9528, 9865, 22115, 28853, 33710, 36081, 30667, 63652, 43372, 64134, 49189, 20587, 40001, 34345, 28885, 44179, 20428, 48957, 60000, 20315, 42849, 48070, 59234, 41686, 48519, 46473, 37120, 19867, 24197, 7411, 56209, 66264, 36348, 60087, 22572, 194, 69859, 33492, 55594, 59555, 55150, 34819, 47998, 33269, 9827, 74787, 6094, 50162, 58230, 12618, 54841, 31593, 9581, 28271, 28606, 49111, 54516, 32267, 31532, 52785, 38927, 27828, 8981, 51148, 14612, 26934, 7963, 49419, 56061, 19478, 15242, 38516, 12378, 8535, 5071, 40949, 20069, 30474, 25479, 64158, 69360, 44593, 38207, 36, 593, 3403, 11423, 63300, 52832, 24941, 57381, 54833, 38385, 40031, 10358, 71854, 6672, 70590, 68319, 74077, 30276, 68986, 40268, 19513, 67178, 75643, 57466, 27946, 4551, 19868, 74164, 1871, 3579, 64468, 67731, 2799, 827, 11767, 62204, 60527, 3290, 2740, 73290, 42152, 54579, 4192, 72774, 57892, 10930, 3683, 65329, 40189, 70136, 20440, 57745, 37210, 16140, 48306, 2691, 24227, 57915, 62161, 36604, 59438, 62369, 65158, 70171, 12156, 38942, 59286, 14756, 5029, 31602, 6411, 39527, 53586, 33630, 788, 54928, 39854, 42953, 42606, 31516, 74430, 52498, 44157, 74673, 10363, 50167, 70556, 58106, 59300, 71653, 67750, 42309, 4715, 50986, 31292, 22747, 46596, 71746, 24930, 6392, 5745, 53120, 39420, 50542, 40897, 9661, 31894, 52108, 768, 34780, 42331, 23738, 28808, 65079, 14374, 4643, 15542, 34897, 33773, 7783, 39103, 21226, 66880, 8397, 11330, 75218, 23958, 31724, 53603, 53638, 33453, 74901, 20373, 6060, 14037, 2139, 40943, 66715, 24027, 7117, 43281, 3318, 32491, 69807, 62998, 40482, 28529, 73410, 66123, 35584, 66917, 34618, 34675, 47618, 44816, 29326, 61458, 53560, 40116, 8011, 17210, 6486, 47379, 64707, 74816, 29711, 54376, 43975, 32021, 51238, 63243, 73941, 18973, 3497, 29574, 67867, 11355, 9216, 49393, 62877, 46691, 58469, 22126, 4625, 38723, 61547, 55516, 71764, 638, 47455, 17665, 27475, 19604, 39678, 72322, 41220, 41266, 10418, 19362, 78, 66261, 8731, 39644, 39166, 10936, 2568, 70280, 39116, 61666, 61519, 22042, 46886, 58725, 53320, 65341, 5906, 48061, 40145, 66087, 57019, 55509, 4463, 34665, 24083, 67637, 8379, 56107, 15201, 66284, 25154, 8468, 71107, 44258, 74272, 8222, 65194, 20928, 17722, 72772, 75648, 3152, 66846, 38437, 6413, 18795, 27330, 35606, 49721, 63580, 3768, 18820, 1930, 38199, 42077, 44236, 67683, 3352, 26914, 15427, 48247, 542, 62106, 56076, 63491, 1388, 58046, 48086, 58956, 56056, 19131, 29528, 36550, 56408, 55943, 13105, 73488, 45820, 33824, 43501, 59341, 16392, 45916, 68072, 48082, 46613, 71097, 14636, 19015, 12228, 73297, 58336, 54184, 17700, 31718, 28440, 13746, 70601, 40925, 42145, 60610, 8755, 59038, 52093, 10934, 48493, 12338, 22914, 17732, 23384, 4269, 41952, 46428, 54859, 8207, 9249, 39169, 72760, 32243, 19229, 1317, 52002, 64089, 62616, 47207, 32832, 68773, 9801, 33957, 50071, 40566, 12585, 32760, 25532, 52676, 33879, 28153, 62453, 70497, 23273, 65785, 11506, 69958, 57499, 60569, 45680, 62425, 65716, 36820, 32976, 18718, 48751, 9585, 65792, 73143, 72548, 17305, 41633, 18719, 509, 23634, 53581, 67779, 28849, 52958, 29362, 1427, 2565, 54902, 41038, 68270, 8991, 2363, 36862, 32101, 58905, 5047, 28947, 49383, 1592, 24707, 45673, 25163, 30680, 35120, 54256, 38273, 62805, 72452, 72605, 61725, 15490, 25109, 23293, 47626, 63480, 40345, 55556, 436, 3050, 60983, 22358, 67966, 31225, 23094, 59582, 60756, 51321, 12503, 75032, 23768, 1573, 32620, 42217, 68136, 45652, 18197, 39360, 15661, 34276, 46060, 24571, 34697, 61105, 23739, 67366, 62779, 73702, 52273, 6798, 51745, 8377, 35961, 16546, 65315, 1456, 39697, 49524, 29468, 5202, 61232, 32179, 12970, 45815, 17516, 50780, 8949, 67065, 71093, 5064, 880, 45526, 64045, 62262, 2567, 46508, 49607, 6369, 23976, 18940, 68385, 16397, 38056, 13998, 37638, 40244, 34852, 5546, 11965, 48190, 58270, 32012, 39312, 25785, 51915, 73049, 25600, 22460, 28454, 74881, 3054, 71879, 4741, 70545, 24003, 9757, 15950, 32309, 23166, 43645, 12035, 67994, 16152, 57429, 54848, 60291, 24034, 10027, 52110, 30686, 6161, 15510, 50224, 14834, 66894, 14787, 39830, 42525, 24029, 56324, 57940, 45796, 61234, 62199, 21449, 48299, 20261, 3887, 73994, 36606, 68616, 62927, 14223, 5144, 30103, 65772, 65558, 66393, 41353, 74115, 73792, 38799, 29225, 44212, 45733, 53526, 48972, 33780, 53553, 4212, 57014, 48819, 8079, 37871, 15442, 63870, 55950, 20101, 62873, 53989, 42728, 36241, 45714, 69253, 36900, 59962, 6903, 7482, 12754, 10539, 22620, 43133, 25141, 59164, 32158, 13893, 65781, 23837, 21594, 59534, 19936, 70247, 51394, 76095, 40239, 17243, 40469, 57536, 55291, 47013, 27394, 43860, 32501, 75922, 8962, 55896, 40128, 57186, 71273, 35310, 50034, 42169, 32117, 28677, 73897, 4073, 63642, 26503, 47529, 42408, 65337, 52643, 75692, 30442, 20776, 23598, 11069, 58693, 42674, 24551, 52051, 23955, 51254, 62149, 27991, 67852, 3218, 67752, 48820, 55279, 45363, 27667, 13438, 58856, 41247, 1366, 34807, 72520, 60907, 70962, 6710, 32142, 47444, 32261, 68329, 65872, 40046, 53783, 22628, 72534, 23825, 9669, 42829, 62350, 27817, 19519, 10808, 27563, 7186, 48586, 64564, 33594, 69728, 17026, 36634, 36302, 71605, 37767, 72318, 43872, 80, 45824, 45719, 26120, 39056, 57489, 25210, 40848, 63022, 25748, 43689, 2142, 44373, 34674, 46430, 47939, 25198, 14273, 49380, 19428, 62207, 61197, 7365, 49478, 74820, 51862, 45571, 2162, 35546, 65615, 5414, 33395, 28786, 62596, 75221, 52323, 68574, 32449, 2844, 7304, 37503, 24875, 56203, 66202, 43724, 51651, 13870, 17976, 5450, 42582, 67661, 38439, 2322, 68084, 66566, 53196, 11943, 35333, 20239, 17235, 15481, 21302, 32272, 37136, 26609, 5880, 72506, 62397, 4075, 30852, 29727, 17769, 47545, 14590, 30456, 73906, 20161, 567, 15217, 7469, 1398, 72730, 52613, 10938, 65910, 54469, 67822, 27764, 18132, 13743, 5963, 52672, 3709, 66730, 14790, 40798, 50571, 35816, 25512, 11890, 31181, 57686, 3853, 3180, 31740, 7448, 50493, 4865, 7494, 51051, 12429, 23581, 61137, 1870, 71815, 43966, 66779, 76023, 70252, 70279, 7256, 53314, 2254, 23767, 16002, 9367, 61983, 31863, 54203, 36814, 3266, 30431, 32390, 18660, 5752, 16265, 42123, 76110, 15112, 25575, 43574, 26376, 54265, 16092, 23520, 11776, 36141, 47322, 12086, 13427, 29202, 62062, 9109, 57143, 44121, 29416, 49487, 1580, 65335, 52763, 35683, 48536, 53785, 75581, 50569, 61131, 59450, 49059, 24723, 45613, 64951, 59883, 75777, 68363, 28311, 38144, 29487, 42937, 64648, 55262, 66116, 53822, 57835, 75197, 39163, 24646, 48347, 954, 35428, 20444, 59270, 31050, 39159, 2746, 46634, 47411, 39473, 25857, 14525, 53406, 45866, 3588, 50096, 12749, 36801, 64764, 45953, 58404, 12364, 5205, 20592, 59830, 20992, 43776, 13529, 15718, 54098, 65089, 44501, 18756, 68303, 43830, 5572, 42825, 16743, 36971, 69341, 11401, 27215, 40258, 58601, 15669, 30205, 23058, 39331, 35013, 71103, 74726, 20951, 35007, 30488, 17092, 51524, 75742, 53033, 45263, 1115, 21469, 35863, 25851, 56920, 31507, 27041, 34162, 73731, 67194, 36116, 44701, 12879, 39486, 43263, 55144, 5512, 11367, 66781, 70703, 15031, 51023, 4373, 22723, 6422, 65142, 36392, 10804, 43651, 29606, 61085, 27390, 56345, 4808, 16125, 66871, 42008, 51020, 47749, 55933, 2429, 34487, 65705, 4992, 31353, 54660, 9689, 6366, 24964, 7718, 17792, 67732, 55623, 40365, 68974, 34566, 41088, 17701, 30536, 47510, 53101, 49958, 36414, 36159, 27780, 18957, 4734, 33168, 62408, 13437, 67531, 65708, 46106, 23779, 64588, 58842, 72037, 8304, 35318, 16366, 55543, 27689, 59088, 54043, 44476, 56612, 38552, 58801, 8368, 63439, 4187, 69458, 39625, 44363, 4254, 40437, 47725, 2885, 72285, 9536, 64920, 15050, 47221, 31866, 18828, 63239, 65037, 42126, 4607, 25881, 44660, 36216, 72268, 15021, 45759, 56349, 7396, 20986, 66078, 62391, 6482, 61891, 20777, 44430, 47065, 51624, 61214, 1647, 64711, 34938, 67068, 33718, 8894, 39285, 68050, 5470, 70251, 53484, 9601, 30014, 57722, 42769, 59409, 65133, 64464, 36473, 24125, 2622, 3986, 41888, 55148, 41227, 66269, 65616, 63706, 26148, 36574, 75359, 9036, 10370, 3623, 29369, 43192, 60905, 63808, 52198, 57846, 33059, 33966, 3383, 3911, 54229, 23271, 11933, 44898, 18522, 34986, 23724, 41509, 16629, 65377, 52825, 12038, 25009, 27375, 17583, 35461, 45665, 32184, 12550, 37261, 54231, 52910, 57217, 5689, 58680, 44886, 1236, 23223, 48525, 54363, 64621, 27067, 57293, 70304, 63871, 43929, 26618, 597, 21781, 53250, 12318, 17365, 22857, 64009, 71324, 17717, 48948, 15839, 59814, 22079, 5551, 39665, 69962, 11538, 22766, 57579, 15492, 73316, 41406, 69909, 6723, 70062, 68644, 60717, 34995, 22967, 8799, 40726, 33251, 26305, 17316, 35759, 70620, 76180, 68145, 63321, 67249, 29267, 27319, 62676, 70940, 60136, 33572, 75091, 56000, 8347, 34554, 5401, 72641, 52824, 62195, 42696, 62590, 10167, 31674, 45551, 68805, 31861, 37551, 63496, 22013, 11375, 55984, 27867, 3401, 51826, 63182, 71634, 5938, 21808, 50024, 10834, 73987, 56021, 35427, 61328, 21528, 54900, 74205, 24169, 68456, 26023, 58203, 51619, 34017, 2069, 40764, 61539, 3527, 2532, 6624, 10684, 45185, 66824, 4272, 10810, 1622, 44146, 14338, 29864, 53749, 32703, 67817, 61430, 5984, 75834, 49054, 37940, 19237, 26416, 10357, 20866, 70850, 7404, 46237, 55903, 20531, 3578, 69518, 18245, 6311, 19345, 60965, 26345, 76257, 41522, 24104, 29699, 70685, 54390, 36160, 39531, 52061, 3850, 1720, 28980, 7984, 49484, 18787, 9893, 68994, 63103, 10541, 14321, 35303, 46914, 10460, 71518, 3542, 75423, 580, 8139, 72887, 32966, 54288, 1538, 2985, 66891, 30618, 11597, 37904, 18036, 12109, 68096, 59273, 65926, 5777, 42113, 61459, 58878, 35357, 33889, 69660, 33193, 48363, 36737, 73374, 5280, 53496, 29116, 9655, 47763, 10609, 16181, 23668, 32100, 11537, 3036, 70837, 32680, 68175, 44434, 71141, 13745, 40920, 69743, 23689, 19798, 74211, 53209, 32647, 23079, 19711, 9946, 75337, 32863, 63842, 52211, 5708, 41067, 53894, 3967, 4334, 27389, 26080, 45013, 41984, 22609, 17750, 70071, 11188, 21644, 780, 45458, 38659, 75555, 64300, 71486, 43342, 65282, 21842, 23193, 74547, 17312, 16421, 55039, 4142, 20046, 18658, 36461, 32739, 42392, 63696, 37751, 4186, 2300, 37429, 8945, 52306, 40670, 36324, 8989, 58332, 16060, 52358, 49079, 72232, 2962, 28104, 55620, 18701, 55963, 9189, 48338, 37011, 63178, 54128, 10153, 34672, 19592, 35691, 15818, 11972, 11164, 36768, 66148, 21664, 18936, 25494, 25359, 38320, 15982, 63514, 51861, 36004, 1925, 40182, 43989, 24548, 61752, 22164, 56610, 64644, 73813, 6251, 7407, 4874, 38798, 69319, 18150, 3215, 42439, 11982, 60790, 17120, 30311, 43417, 10877, 51034, 11385, 27343, 40550, 9413, 27028, 46486, 16068, 17864, 26829, 41595, 73824, 33622, 42760, 11363, 45031, 52927, 70290, 20675, 50130, 4820, 29979, 43376, 69389, 69894, 62318, 31690, 16269, 62843, 62061, 33935, 18845, 33742, 18080, 71985, 72613, 24187, 17642, 57818, 49871, 3839, 44200, 60997, 38641, 5285, 59089, 29907, 11033, 33368, 39304, 30432, 32063, 17609, 62697, 45968, 36828, 27119, 66012, 521, 14184, 70025, 24577, 35095, 22146, 33719, 1577, 33132, 10529, 19273, 4867, 35217, 35697, 10094, 76313, 65517, 26012, 4173, 42244, 65949, 10814, 5456, 51380, 67400, 4410, 28789, 31107, 56638, 62673, 65454, 55528, 33921, 56421, 18037, 12210, 28768, 75224, 63322, 47368, 31095, 66860, 66931, 57346, 15092, 56267, 40884, 32019, 38177, 18057, 15681, 2922, 17968, 64912, 23069, 6670, 49579, 16055, 43115, 12941, 15258, 3232, 70105, 1164, 74532, 44787, 58255, 16378, 43384, 65330, 5124, 58727, 20406, 64782, 59128, 37286, 75849, 53356, 1853, 20555, 65227, 51972, 47485, 60909, 8557, 2109, 35416, 13307, 427, 72293, 62624, 73670, 34216, 65548, 22077, 71444, 61380, 62916, 70935, 9721, 63185, 1081, 2165, 56494, 66067, 21698, 65068, 11631, 35724, 12948, 27642, 34775, 2629, 71728, 72829, 49193, 26076, 37508, 54901, 46880, 68739, 7081, 6719, 36526, 31974, 63734, 61617, 21216, 9211, 68731, 68320, 52426, 1493, 70042, 822, 12756, 50099, 16371, 49985, 20650, 68044, 62010, 10690, 71433, 67634, 51264, 31553, 58318, 30331, 56754, 26811, 38484, 55468, 63425, 37338, 47208, 6525, 58275, 66366, 5222, 66330, 76018, 50414, 56370, 52581, 49083, 41971, 26720, 29402, 16669, 32467, 67382, 25378, 21655, 20259, 14877, 54887, 61638, 66589, 21172, 64394, 24659, 7602, 39177, 24547, 72782, 51726, 66947, 26394, 24265, 44780, 27068, 53057, 54857, 6318, 58407, 75829, 57683, 12307, 41743, 31526, 18164, 34567, 17415, 60384, 37989, 59862, 40445, 1337, 43637, 22634, 283, 62974, 39344, 74732, 11873, 16917, 16420, 73396, 34855, 39080, 34203, 29382, 31192, 20308, 27599, 6821, 15660, 75621, 51622, 31712, 22167, 64620, 13458, 63452, 72327, 69814, 69939, 64373, 67368, 14398, 61737, 11242, 25497, 6662, 45055, 41641, 5510, 49573, 39289, 20977, 34071, 7891, 17359, 3661, 33978, 13445, 52484, 46201, 8710, 25992, 67181, 40097, 61043, 44923, 2642, 31362, 8973, 21903, 8340, 39867, 28057, 40248, 66364, 62738, 19243, 51620, 47923, 45104, 56786, 13054, 50878, 54279, 8132, 68895, 65365, 38753, 7344, 54930, 34637, 45108, 19101, 24738, 40376, 24324, 67115, 43301, 6145, 10277, 12655, 74665, 38822, 25228, 75477, 31538, 57616, 34650, 70143, 44235, 46712, 75927, 20448, 55855, 35352, 48214, 11688, 69941, 36560, 46140, 69565, 48580, 64348, 56557, 13455, 60796, 40741, 16825, 58777, 56016, 67533, 76330, 71714, 54024, 16364, 28231, 60680, 41092, 15191, 72676, 3220, 24067, 60771, 31131, 31471, 13578, 62479, 60662, 35536, 36485, 38396, 4622, 17086, 44591, 63783, 30063, 14215, 5467, 61228, 7713, 67491, 3462, 9163, 35892, 26823, 73763, 55152, 6691, 52798, 29694, 37856, 58060, 15380, 33733, 10369, 56447, 5081, 51702, 57728, 15458, 58475, 50870, 305, 1707, 67395, 5722, 3674, 16650, 46586, 75372, 64297, 27089, 61713, 51946, 5881, 30029, 28540, 22835, 49970, 33413, 28679, 12688, 20283, 56838, 22114, 28523, 69615, 44499, 4000, 68069, 21358, 59470, 32323, 65208, 68452, 42731, 8600, 66817, 71029, 38086, 50588, 39874, 38670, 22666, 969, 42994, 67078, 72254, 44056, 33860, 42795, 31336, 22965, 23095, 45015, 34359, 7607, 19555, 31321, 59016, 16046, 68777, 67204, 17776, 58007, 76239, 26820, 69290, 2735, 39115, 60423, 47241, 57708, 41569, 61285, 6338, 20612, 57946, 47417, 22627, 56718, 35799, 15149, 2980, 75696, 40762, 22498, 13035, 42851, 27681, 33751, 50770, 50673, 56613, 54384, 64810, 44201, 42167, 44667, 16104, 43529, 22904, 16121, 30161, 3702, 13412, 52346, 62794, 3826, 41356, 5705, 18799, 40449, 12982, 58393, 6675, 67164, 1318, 10868, 36909, 36934, 70651, 12386, 47864, 69723, 5252, 66700, 21301, 20875, 6431, 51511, 65905, 31279, 72736, 74246, 11777, 31459, 65832, 30423, 31051, 4765, 66318, 67749, 70936, 49463, 66461, 71352, 56737, 32686, 47845, 38912, 31954, 57930, 66183, 60258, 55376, 15207, 8003, 69155, 49743, 753, 13544, 21225, 47318, 42597, 75731, 34739, 29944, 23799, 16394, 44090, 32296, 48925, 57450, 10489, 27004, 52140, 46034, 947, 20991, 30183, 39207, 56985, 30453, 23901, 56590, 23645, 67195, 9378, 55599, 20926, 55799, 25360, 44177, 9999, 48763, 29779, 27285, 67071, 23035, 4216, 17363, 52724, 3175, 65459, 12869, 32810, 3847, 23004, 1923, 45509, 59440, 22172, 397, 66241, 33866, 32980, 53122, 18816, 2223, 4557, 66777, 69166, 51837, 28243, 19569, 27081, 23662, 63764, 54686, 58786, 22778, 38570, 2140, 3729, 26495, 25722, 64470, 28122, 61123, 5615, 55029, 39451, 6281, 31765, 16218, 19800, 39217, 24839, 3930, 53211, 26517, 26522, 51588, 26095, 40702, 19631, 38409, 52607, 32506, 5981, 24987, 32238, 74163, 37718, 70434, 55134, 73938, 34117, 73869, 22288, 49780, 43497, 40789, 1659, 59783, 15751, 23363, 30374, 53428, 75370, 3412, 65359, 38452, 5093, 12446, 75540, 58029, 8758, 48895, 53411, 9346, 40308, 71798, 64467, 5203, 5784, 36354, 52206, 73427, 28343, 34634, 7740, 65143, 35642, 20677, 44632, 15381, 54553, 69897, 31126, 29626, 11912, 56929, 48817, 3646, 25482, 35587, 248, 42806, 72798, 45777, 30398, 55343, 44557, 51428, 20513, 24521, 30011, 210, 1336, 9604, 65754, 71717, 69145, 25691, 1161, 25403, 73258, 23140, 7648, 40509, 53536, 34135, 37038, 72955, 65566, 24568, 30838, 72750, 10983, 69025, 8356, 42890, 19197, 45072, 70031, 53056, 70576, 52509, 54673, 17999, 59331, 42708, 72393, 58197, 2802, 60890, 37313, 12795, 48977, 60726, 62775, 74473, 50998, 42371, 60528, 101, 48791, 33964, 12416, 24427, 54322, 13202, 61990, 7504, 42918, 58192, 71430, 34061, 66347, 41588, 1249, 21569, 47387, 15955, 62680, 48913, 3252, 42022, 45122, 3132, 61184, 57881, 44531, 12843, 70619, 25648, 72570, 39952, 66757, 46460, 33541, 1696, 6390, 36305, 65277, 17323, 42547, 68579, 10015, 65934, 29942, 6063, 33274, 794, 17566, 58454, 50433, 58115, 15667, 65898, 7316, 69044, 58032, 45143, 18529, 33695, 61178, 39179, 42207, 56476, 63597, 65354, 41581, 33994, 6221, 32319, 43048, 59328, 1505, 71435, 18285, 14931, 68639, 19444, 27437, 52766, 22923, 32567, 25070, 49932, 69598, 16657, 69051, 836, 65703, 22152, 74621, 17474, 39930, 32770, 43202, 71839, 46264, 17282, 75266, 35684, 9658, 35567, 24661, 65551, 3880, 50945, 55765, 32217, 56915, 11170, 58370, 7661, 59927, 73482, 71784, 5136, 65120, 46781, 25186, 46598, 20184, 76339, 7744, 57977, 61901, 69195, 8001, 69569, 36590, 59655, 41766, 16089, 58495, 60919, 70782, 23356, 47189, 2504, 44843, 25090, 40603, 27422, 18054, 47441, 63044, 38214, 72030, 70342, 75561, 58016, 31950, 67189, 12804, 20937, 50842, 7814, 75498, 71405, 6739, 898, 26347, 47611, 64966, 71436, 33648, 43259, 9121, 5157, 50663, 11908, 67666, 26469, 4482, 52533, 30330, 39009, 36083, 3536, 42784, 72288, 42370, 46507, 48814, 35223, 64986, 11034, 10954, 20298, 49840, 44705, 42322, 75162, 39530, 25976, 58242, 44259, 50402, 7523, 18081, 44127, 13005, 67605, 2745, 75689, 54058, 72928, 46336, 60233, 36655, 64754, 22712, 64340, 62277, 25138, 17635, 52983, 64687, 2632, 51407, 26507, 9456, 70207, 25792, 46588, 34568, 27618, 48127, 38953, 67465, 74780, 1555, 4246, 1361, 5446, 53859, 67064, 8360, 3809, 6070, 72089, 22781, 33208, 1533, 15916, 13111, 65724, 72391, 54979, 31581, 51204, 20575, 25849, 50875, 59165, 17979, 55126, 19809, 31029, 19805, 46249, 47548, 59452, 9230, 34963, 3075, 74974, 10553, 2409, 31333, 23857, 70885, 27175, 11426, 25954, 19504, 36927, 11576, 13814, 47424, 66834, 6009, 19195, 43693, 57949, 58021, 45003, 5613, 71287, 18682, 29216, 564, 57984, 27353, 30595, 24252, 14405, 64064, 34267, 62288, 72949, 21347, 24042, 24330, 63136, 14898, 33004, 13973, 54170, 11501, 48739, 64132, 51814, 55213, 24189, 9229, 22931, 54722, 51059, 54549, 59326, 1045, 50157, 34699, 22083, 1258, 6588, 32423, 29413, 20223, 38555, 68221, 51696, 63177, 59553, 4659, 71380, 2999, 75664, 45282, 19087, 15948, 24469, 48117, 70212, 63725, 8853, 1556, 41122, 13637, 14603, 33365, 25301, 22359, 6420, 37198, 60842, 69644, 71082, 28730, 910, 56344, 48187, 17981, 61879, 71797, 61735, 8404, 20978, 37296, 16408, 70476, 11303, 35611, 64820, 56175, 37486, 62690, 14058, 70905, 11502, 14087, 17530, 70666, 54348, 54992, 27989, 46652, 56532, 11262, 24409, 63052, 48878, 33054, 7981, 49429, 28985, 68033, 60560, 36295, 69601, 53623, 63894, 41957, 66701, 24123, 53529, 59599, 56488, 21069, 69539, 35571, 68609, 72360, 26777, 6349, 33156, 19982, 50649, 12145, 24349, 43821, 13230, 26198, 2566, 27438, 73277, 53358, 4469, 42524, 69677, 59278, 67295, 1507, 62585, 22477, 69923, 74678, 64323, 7742, 52707, 49844, 34232, 35805, 76123, 66151, 66404, 41210, 38305, 4599, 450, 26481, 46846, 49819, 5653, 29728, 70726, 22015, 50661, 29433, 62591, 67721, 47191, 43906, 41397, 67632, 18747, 38469, 20530, 68445, 36246, 18207, 35205, 50692, 2518, 5317, 6939, 10717, 10571, 41254, 71533, 45369, 30049, 20599, 27114, 14488, 55476, 50693, 11567, 41275, 64355, 1609, 51718, 245, 48354, 62584, 69976, 55369, 22516, 35846, 10145, 41003, 52658, 51133, 53379, 4598, 46311, 60697, 59177, 12188, 48271, 3396, 43676, 45513, 34947, 6042, 15520, 2496, 75248, 57445, 56495, 14854, 34565, 14010, 50640, 2717, 67459, 65687, 49945, 29604, 54397, 75401, 67962, 74224, 50196, 44291, 33891, 56533, 72385, 36451, 7900, 51908, 55792, 12520, 2784, 37080, 59263, 71849, 59889, 64622, 62682, 17294, 30090, 48737, 71558, 31252, 10152, 63378, 36144, 65302, 10236, 19521, 41915, 5890, 27646, 64281, 22763, 34206, 30157, 43389, 8786, 69451, 72297, 22078, 7600, 48890, 43873, 57547, 4494, 49479, 51504, 1297, 2468, 58158, 57117, 1359, 52469, 22608, 15182, 21116, 71947, 61111, 11166, 6898, 56108, 26552, 46183, 36518, 52760, 60958, 65433, 41539, 2289, 31009, 10601, 55389, 56881, 23203, 43207, 52075, 68237, 16013, 57185, 13948, 26933, 40477, 68637, 43272, 15531, 37912, 25024, 67702, 25966, 55473, 23858, 2660, 21651, 62221, 54653, 32061, 10010, 9643, 60032, 76047, 61710, 55723, 6266, 34902, 72361, 44793, 73696, 9081, 57527, 51554, 28327, 55916, 37663, 15093, 39255, 66212, 30402, 69975, 915, 33646, 7540, 35225, 35779, 8941, 65532, 46744, 55314, 67987, 49717, 45350, 20174, 4684, 37568, 58710, 52006, 46456, 67551, 38719, 53480, 58348, 51107, 3060, 9256, 50066, 5256, 19327, 75376, 30236, 13245, 45162, 13999, 69829, 293, 7539, 1434, 63478, 11634, 59295, 49649, 19118, 4115, 27510, 23057, 64537, 11801, 65739, 33923, 20591, 13762, 50956, 41311, 21471, 6111, 55090, 38263, 38834, 18726, 8038, 55113, 17551, 2780, 33071, 27365, 35780, 66962, 67520, 5098, 43752, 23200, 43618, 2274, 34105, 69714, 30929, 49298, 37660, 29812, 48530, 54674, 52903, 2367, 62970, 75586, 73478, 23395, 47459, 17322, 23252, 36437, 27153, 59918, 32678, 58649, 64990, 42823, 73141, 61175, 43936, 60858, 20426, 36938, 9310, 15146, 14988, 59865, 29261, 50471, 72028, 62419, 69846, 41409, 3501, 43034, 15880, 57897, 20427, 31323, 23890, 69703, 19441, 24724, 71665, 17814, 30046, 2324, 58317, 75862, 43954, 7569, 19094, 54378, 35199, 46142, 4537, 18752, 12357, 24004, 5533, 45657, 26393, 47902, 7433, 52801, 66851, 71023, 10438, 46717, 10746, 70732, 32107, 71250, 71633, 45486, 9877, 28748, 10339, 34629, 16512, 44741, 69597, 75772, 59576, 2302, 12537, 74116, 59255, 4179, 35288, 4084, 53302, 45932, 1272, 9113, 7453, 69018, 48644, 71821, 67913, 28415, 3046, 17593, 61475, 30012, 14599, 37700, 60928, 41396, 75177, 61695, 3532, 71197, 42803, 31251, 33496, 1348, 25469, 5264, 5386, 21671, 18588, 5682, 62440, 64510, 37179, 73657, 55482, 33455, 37269, 56566, 55229, 62968, 66090, 13598, 4135, 40849, 52138, 10368, 2188, 6925, 38101, 43138, 41454, 38888, 33856, 15881, 177, 50199, 4253, 26769, 40397, 45642, 32248, 21642, 37115, 20851, 47684, 49749, 66822, 62952, 47389, 28480, 38522, 58585, 21604, 8144, 51053, 63379, 71313, 67051, 2184, 39014, 55549, 24080, 16605, 16551, 7309, 72301, 72681, 59103, 19310, 23116, 32187, 76045, 43410, 19216, 3315, 27995, 35872, 75764, 4042, 72350, 47307, 42500, 46245, 14695, 51801, 74040, 2229, 33407, 51173, 48930, 1917, 37968, 42434, 56587, 53606, 76228, 29349, 3287, 34222, 35455, 57789, 16117, 41112, 71846, 75374, 66683, 47373, 70773, 52734, 43504, 40586, 23144, 9076, 6386, 69049, 4982, 52371, 44368, 72879, 47230, 65216, 22926, 19667, 18134, 24633, 254, 65915, 58895, 53663, 12528, 17599, 4886, 39112, 41375, 6744, 31110, 38007, 72148, 18636, 7621, 36861, 7426, 29455, 15464, 74858, 25131, 76081, 56026, 5120, 32955, 54906, 510, 37200, 28265, 43622, 29629, 162, 11909, 64199, 57551, 65530, 14685, 39826, 51698, 60545, 26880, 17329, 770, 24703, 52355, 29355, 70686, 54234, 3996, 51692, 68795, 16413, 19929, 46620, 51768, 52559, 128, 37170, 13582, 50762, 37273, 50759, 73402, 63261, 1442, 10997, 68764, 41953, 26804, 7832, 8634, 55475, 23997, 1084, 6655, 2727, 27337, 74291, 21326, 42457, 4857, 41459, 1629, 45268, 23673, 60393, 11820, 12583, 2064, 60953, 57279, 12252, 67696, 59338, 2036, 50088, 2865, 32350, 39381, 26870, 52150, 7747, 74392, 4442, 50900, 43984, 26471, 16552, 48353, 37857, 15036, 19870, 51525, 39176, 65225, 53309, 8934, 57063, 60833, 54767, 28315, 69255, 36054, 66083, 22593, 32734, 6435, 51761, 67974, 35566, 41240, 8826, 53199, 53724, 59813, 74235, 47338, 28, 36420, 3587, 60453, 16568, 65856, 2874, 54705, 29899, 35233, 68291, 39456, 55206, 36377, 21206, 415, 32249, 35981, 6908, 45439, 37721, 20832, 10751, 31246, 69851, 19285, 49565, 4881, 70753, 46790, 49624, 5922, 47248, 29798, 59684, 37089, 64535, 58722, 42460, 56190, 66703, 15105, 46774, 20616, 43759, 3710, 26164, 73754, 72243, 460, 70487, 2880, 59309, 5894, 58446, 20826, 17684, 65033, 30451, 62913, 20106, 39628, 39390, 13037, 28578, 48479, 4047, 56895, 71271, 68232, 13224, 34112, 40691, 29754, 64266, 37260, 74774, 54991, 60618, 75965, 57110, 72202, 26027, 24758, 105, 26040, 9420, 42353, 5457, 17285, 21544, 11204, 75387, 5997, 25328, 10385, 13475, 57277, 66663, 50171, 64196, 30987, 17944, 32368, 46938, 56283, 44301, 65442, 49190, 25758, 65491, 1928, 23947, 41520, 36210, 61579, 62038, 61273, 60399, 22552, 74840, 39881, 22004, 63983, 56924, 18611, 49099, 33665, 35954, 14622, 63196, 1995, 56886, 54525, 15974, 59444, 68080, 62273, 14146, 14178, 32236, 42560, 62005, 54519, 25056, 43888, 13613, 54187, 65826, 35895, 74771, 13630, 32192, 33249, 5882, 16868, 60002, 62173, 35055, 18712, 43559, 67891, 64784, 7727, 33861, 59674, 69500, 61500, 47225, 22168, 18925, 4045, 32755, 60636, 51516, 36579, 66849, 31715, 28058, 43028, 72335, 50741, 53935, 59290, 34935, 27887, 57058, 52187, 24713, 1013, 33015, 22719, 52369, 23098, 54679, 15915, 43269, 44549, 33064, 64327, 9502, 33984, 37382, 75168, 14767, 41906, 34926, 35963, 15907, 47493, 35693, 19373, 74150, 42842, 73582, 65434, 70606, 46902, 9354, 26031, 42238, 25912, 27636, 54424, 65623, 27658, 46782, 4276, 5567, 9053, 71694, 37297, 2004, 69854, 70830, 43050, 37932, 30550, 3405, 4184, 57422, 51967, 10294, 56976, 2912, 43472, 54711, 32424, 130, 75564, 48010, 17641, 6381, 63944, 69430, 49345, 64973, 55399, 37682, 75058, 38841, 7804, 7757, 58055, 53182, 75110, 65244, 40357, 40616, 74385, 74421, 45403, 14465, 8160, 67052, 14401, 10904, 56758, 41909, 3172, 63593, 2213, 33662, 65066, 9549, 74859, 74694, 62551, 32670, 61310, 73104, 75838, 62223, 71450, 47249, 57132, 1745, 15629, 37483, 12093, 24089, 11725, 5028, 19358, 62863, 26980, 69059, 6387, 73991, 4946, 33361, 41571, 20656, 15534, 26576, 7466, 37975, 10298, 1960, 46032, 37528, 52224, 46936, 14238, 34464, 13925, 42645, 41480, 43761, 37446, 36866, 47139, 760, 34018, 66037, 68440, 53362, 56616, 12885, 43850, 1790, 13265, 23349, 40489, 44286, 61014, 45085, 9273, 42054, 34728, 20475, 53095, 32943, 42047, 19808, 68325, 28341, 24016, 22729, 52997, 17116, 11207, 31335, 23197, 3969, 75867, 25686, 52045, 64567, 33992, 11026, 36878, 64597, 68300, 1897, 73513, 31887, 34516, 15340, 41789, 8773, 27044, 23037, 69572, 63805, 68825, 33871, 41580, 57535, 66255, 54763, 41911, 22002, 4653, 54073, 18603, 1139, 66914, 48251, 48128, 28069, 53421, 59690, 54574, 2447, 18268, 24053, 65285, 73127, 29983, 31961, 37520, 27755, 5568, 18457, 16472, 19480, 4703, 66531, 36905, 20113, 18889, 1652, 53952, 22270, 10594, 26217, 37716, 19817, 70478, 18206, 29801, 37986, 3470, 24106, 17206, 18250, 51597, 17393, 21681, 23674, 49095, 41339, 68167, 31807, 23228, 50689, 72694, 2163, 27876, 15257, 39700, 27519, 41879, 137, 26978, 45699, 1358, 38084, 66728, 61139, 75152, 2671, 24549, 67947, 16110, 31378, 64702, 3892, 62936, 1596, 9978, 9745, 50557, 57102, 29997, 46801, 35124, 55382, 20824, 9334, 36761, 22355, 37669, 9667, 52812, 11293, 57376, 50247, 63029, 3570, 10514, 75679, 19946, 19083, 74721, 12471, 63574, 18871, 20076, 52485, 58156, 25010, 9392, 73324, 24144, 23461, 44323, 14948, 49074, 3045, 55828, 5390, 50738, 66091, 56502, 60478, 27204, 69765, 51727, 44811, 9028, 36084, 61653, 47581, 50926, 71361, 24167, 66848, 1997, 58567, 56483, 13806, 53164, 10052, 13602, 48669, 25524, 49248, 1485, 19303, 13861, 62694, 33869, 30885, 30658, 3452, 6599, 4594, 24989, 9162, 50619, 2022, 59648, 23143, 11868, 19470, 49485, 62201, 7168, 59603, 27498, 27188, 35032, 13753, 64485, 57600, 58621, 34632, 1729, 7531, 47111, 41775, 48622, 74680, 50918, 61142, 1439, 39627, 64631, 5638, 75788, 50202, 66642, 55909, 66910, 53576, 56195, 73850, 3077, 48834, 34676, 52868, 57210, 2383, 4705, 75843, 56172, 45277, 51538, 27191, 15980, 10436, 8447, 63900, 11658, 18356, 76286, 20754, 51571, 33656, 6680, 75659, 28883, 1559, 15888, 62977, 29877, 67863, 68688, 67349, 57454, 42975, 31544, 50185, 23437, 18688, 64201, 75624, 9358, 18894, 23467, 44647, 8438, 57907, 14579, 65223, 8933, 54898, 74218, 51105, 66712, 62503, 60009, 12089, 15737, 58733, 71057, 7249, 25800, 6659, 46615, 1167, 56114, 36858, 66713, 23781, 8010, 51733, 366, 11380, 10900, 12881, 34079, 15616, 38671, 45902, 44774, 74682, 27229, 10825, 75258, 4445, 25241, 1354, 30923, 9988, 61415, 35662, 74810, 14645, 61192, 34159, 40615, 37832, 34011, 69704, 69508, 12444, 36673, 19210, 61531, 63796, 62840, 74036, 16496, 72159, 1180, 34291, 38049, 17594, 66634, 45978, 13300, 62979, 12628, 75126, 40422, 14554, 18130, 7630, 24313, 26276, 37263, 4424, 14481, 22734, 41652, 18690, 58795, 37734, 18392, 28689, 20266, 70405, 27172, 3968, 25949, 34843, 9783, 43999, 21625, 14900, 23879, 59973, 52694, 8014, 57467, 13159, 75029, 17584, 37848, 59238, 49284, 28388, 11373, 10203, 72471, 69340, 38846, 49789, 16573, 43023, 72308, 59741, 74870, 43717, 44011, 69507, 52350, 17051, 44637, 56319, 10474, 47593, 2248, 50225, 21380, 66859, 58467, 40056, 71786, 76098, 39497, 13643, 48126, 44617, 73274, 75892, 34069, 51522, 15920, 5274, 34741, 61237, 15809, 48693, 66110, 9022, 42601, 53343, 54320, 18236, 27501, 56099, 71660, 50451, 22800, 26585, 13819, 17095, 31612, 36446, 68606, 27610, 54447, 42097, 8219, 33540, 66562, 19910, 34680, 57796, 37855, 15190, 26289, 43070, 50970, 32850, 30302, 64301, 16481, 30023, 38438, 3418, 72945, 71010, 37740, 60408, 62458, 43788, 50522, 4878, 11455, 32413, 29550, 32813, 2948, 68746, 49543, 9407, 56635, 23740, 72842, 36029, 7293, 42163, 54998, 33626, 66232, 29904, 13825, 36871, 28838, 75989, 18422, 7135, 19509, 29298, 25187, 49155, 53369, 33678, 50825, 17512, 47871, 62032, 30636, 24294, 71138, 17970, 23896, 58574, 25267, 34498, 17364, 65417, 66089, 70551, 54947, 7367, 49317, 871, 54156, 46406, 1289, 69834, 71811, 2569, 32788, 54305, 45283, 43081, 8500, 47160, 35498, 29128, 18088, 55835, 5491, 39785, 62341, 51324, 68196, 33448, 8308, 59055, 49538, 24925, 16599, 4908, 13237, 1131, 9630, 59425, 22497, 41470, 8901, 66200, 74086, 67312, 1864, 74299, 44228, 27429, 70440, 33349, 54539, 28033, 62481, 19652, 58208, 35448, 19186, 33537, 20007, 7177, 76224, 67393, 63351, 47683, 23897, 70458, 66991, 45882, 32560, 52913, 5731, 70870, 62070, 28659, 69901, 67534, 51609, 3860, 73646, 17672, 64689, 23283, 63641, 67618, 75480, 27195, 39604, 29118, 38401, 25918, 54009, 43836, 66590, 32916, 11727, 50132, 18748, 40623, 3380, 49614, 67278, 67259, 34156, 43695, 166, 51502, 75124, 20524, 16064, 74149, 67452, 17236, 23629, 59916, 117, 72882, 14606, 49880, 61215, 75295, 3419, 27008, 63175, 42477, 62398, 20959, 46604, 40771, 74813, 58744, 28541, 30903, 52520, 17870, 62563, 67277, 15445, 32885, 48148, 63998, 30803, 11505, 287, 33056, 30058, 35858, 43441, 57485, 33975, 42675, 29954, 16444, 62229, 28045, 71094, 58662, 14728, 68140, 71257, 65039, 27173, 52732, 31379, 24691, 36942, 62926, 13970, 7901, 72571, 52113, 13129, 20535, 52030, 56891, 10969, 10824, 4249, 8835, 19288, 32807, 16816, 44105, 75841, 67446, 64411, 3568, 7528, 51449, 46831, 72237, 38680, 64222, 996, 39823, 67334, 34572, 14757, 24708, 12481, 70835, 36986, 31261, 18390, 8186, 35530, 18798, 70195, 67445, 51423, 4671, 13686, 51309, 44386, 12538, 58282, 22129, 35847, 24775, 50176, 15114, 35640, 52219, 49563, 47252, 7866, 36386, 8392, 23314, 60582, 63414, 23989, 3347, 23311, 35833, 37785, 53656, 7997, 4791, 46269, 27209, 48470, 48990, 62519, 47263, 41955, 56585, 31458, 46998, 56210, 34126, 41099, 63516, 59170, 29019, 22780, 56403, 72999, 55608, 64585, 11500, 60975, 66066, 14202, 71016, 22596, 50450, 58483, 8362, 61777, 41272, 24008, 38928, 3353, 38197, 27176, 18167, 5290, 73757, 3858, 30914, 62480, 30279, 68900, 28027, 35826, 8610, 62991, 71643, 52296, 56365, 5418, 60651, 62986, 46944, 64084, 51152, 38786, 21704, 5998, 4655, 72040, 20425, 2981, 9133, 18330, 16416, 34647, 24865, 61345, 24896, 48455, 58030, 48856, 74134, 52328, 52195, 27453, 74918, 55079, 6548, 37863, 3972, 33908, 26142, 40293, 51101, 42732, 55826, 42782, 2061, 32273, 35859, 6275, 32135, 12400, 40918, 42843, 72217, 13834, 19850, 55911, 64840, 14428, 28253, 19232, 12404, 59878, 60564, 60272, 18161, 41351, 69157, 1825, 7795, 60855, 45326, 47760, 21156, 42016, 49105, 37144, 36135, 22428, 1815, 31906, 26902, 49602, 67397, 28761, 43557, 8300, 19976, 43960, 43943, 73136, 31149, 64261, 51362, 43312, 47911, 31338, 22096, 59477, 54677, 13297, 50965, 68233, 51041, 57024, 49375, 72749, 49798, 50784, 60013, 58180, 59687, 56390, 73147, 69391, 49796, 53038, 62795, 41181, 23504, 31298, 71120, 41345, 21079, 22478, 10047, 28949, 50486, 6597, 6720, 27160, 12899, 20957, 27878, 9817, 3941, 33483, 66792, 29529, 45869, 46404, 59205, 30563, 33680, 6372, 61050, 2900, 41698, 72718, 24421, 65999, 21942, 74470, 55618, 29708, 44260, 7581, 72342, 41119, 66449, 8651, 59301, 8526, 47952, 47243, 8357, 34826, 4011, 21277, 41431, 48391, 63451, 47295, 15596, 47999, 55698, 58308, 42382, 1060, 68179, 28922, 5111, 42433, 34475, 74414, 58920, 185, 52616, 32252, 23588, 30745, 31305, 7198, 20635, 51860, 7915, 6129, 39445, 70179, 39361, 32886, 58539, 19411, 26780, 5965, 63519, 57299, 65339, 9933, 47151, 74886, 58841, 32720, 61076, 73814, 27466, 23183, 11464, 29510, 22410, 48291, 61629, 19412, 511, 33951, 33215, 43749, 26844, 32367, 22141, 49137, 12234, 47625, 29268, 13167, 57877, 33845, 73442, 28456, 39585, 48672, 5031, 231, 41296, 55256, 63832, 67592, 39064, 51807, 14906, 55388, 60425, 9982, 63297, 33025, 63711, 66973, 30578, 46878, 67096, 22023, 66023, 43438, 3273, 37813, 55452, 54125, 13256, 39368, 64294, 53654, 67420, 46688, 65815, 2923, 66193, 1982, 51521, 13085, 56177, 23893, 53501, 40319, 2394, 6828, 20906, 64630, 23164, 46920, 11490, 37631, 52129, 10384, 42816, 1879, 358, 29300, 16120, 27057, 4041, 34125, 55834, 46830, 16161, 750, 22615, 49869, 48422, 34544, 43156, 59285, 32403, 60216, 63510, 13533, 55920, 22244, 12933, 16990, 66864, 44419, 9869, 25839, 61068, 59852, 47419, 69517, 64967, 2757, 71411, 40296, 34657, 16598, 55901, 38245, 68832, 11524, 27680, 47784, 68139, 26233, 30663, 2808, 3798, 6106, 59646, 38179, 38886, 7654, 32384, 35084, 39327, 66333, 27961, 62485, 20251, 63713, 37706, 51109, 52563, 9187, 45321, 5361, 67146, 67519, 71625, 3195, 48634, 41534, 15680, 4956, 69855, 68431, 1513, 57716, 70018, 73600, 18702, 25050, 1077, 47981, 26969, 28482, 30492, 11852, 60573, 14054, 198, 56226, 17859, 41596, 24922, 37833, 69892, 51636, 40314, 25383, 24026, 32298, 31573, 7842, 23476, 63443, 76238, 33528, 11699, 69982, 58705, 9078, 43923, 28681, 72011, 47344, 39853, 35543, 17497, 32436, 24947, 38628, 35495, 61161, 74689, 75318, 8560, 29425, 7709, 34398, 28135, 59239, 43038, 75305, 67039, 22332, 9752, 5208, 64067, 59416, 54625, 14330, 9945, 10581, 3309, 6782, 55910, 57863, 75489, 72813, 14718, 67512, 21268, 64981, 15355, 39871, 58403, 66664, 64802, 51172, 890, 75544, 47391, 48269, 58506, 36598, 70842, 18299, 49700, 68120, 22287, 24066, 8161, 54327, 43958, 64433, 70771, 4724, 15058, 17446, 39963, 24993, 6079, 72455, 63529, 6448, 52247, 29691, 10192, 66426, 46910, 47449, 20473, 28012, 59544, 43808, 73233, 62787, 46493, 30127, 24725, 44183, 11090, 74679, 1751, 8355, 15723, 24811, 55359, 70096, 25392, 50238, 20846, 19082, 15586, 25634, 74710, 4634, 40853, 15127, 26939, 8511, 14358, 13765, 25772, 29844, 50237, 59447, 41146, 74847, 22655, 38551, 62074, 30900, 32729, 17096, 74263, 30889, 20351, 53871, 68831, 42748, 28302, 29176, 6642, 69792, 25069, 114, 46728, 25008, 22426, 55962, 32799, 37511, 38355, 6551, 29603, 32600, 22047, 23375, 5867, 22959, 22202, 39322, 14616, 55520, 37458, 53454, 400, 18053, 63333, 44354, 41668, 33868, 54678, 60641, 67528, 49365, 25321, 52450, 10573, 37610, 28732, 7860, 39060, 48019, 22246, 10739, 833, 54286, 55666, 31229, 24780, 49201, 54069, 66857, 44717, 2907, 73967, 13915, 59333, 25002, 4429, 50473, 32070, 55680, 54845, 25130, 26106, 37965, 38656, 69896, 47590, 48068, 37016, 69629, 2258, 66032, 15949, 7464, 24203, 21213, 22224, 52678, 41670, 67482, 48490, 14726, 21218, 62104, 66769, 17652, 37100, 53661, 67435, 62521, 45755, 52268, 41138, 17878, 9952, 43812, 34217, 37646, 6594, 13478, 67950, 17452, 66521, 72434, 61985, 74541, 66547, 22924, 68587, 6147, 5884, 40986, 59994, 40394, 71579, 47437, 3477, 6625, 65097, 34908, 46956, 40103, 50408, 33376, 71392, 35884, 71884, 6776, 4517, 72379, 54075, 53979, 5484, 6418, 67736, 26384, 19148, 48132, 2125, 54217, 16462, 62501, 75429, 43471, 891, 44085, 60814, 59886, 37808, 43915, 2032, 33443, 7352, 72112, 64379, 35690, 69311, 64208, 21477, 6143, 22592, 3457, 18384, 23185, 22768, 57713, 57129, 58320, 69725, 61698, 17989, 59817, 53938, 1089, 28682, 52922, 3066, 45462, 64279, 8046, 48757, 34584, 45563, 61252, 3926, 34171, 7519, 30159, 29800, 2853, 22471, 37401, 46190, 41874, 6724, 10563, 57097, 13260, 22737, 28330, 39772, 51320, 65045, 14385, 66516, 29710, 13419, 48052, 41626, 6231, 9627, 68016, 17414, 50990, 70203, 6949, 34062, 29294, 69630, 16399, 74616, 69663, 68347, 28177, 14052, 520, 45475, 48285, 54714, 48582, 32708, 60663, 16964, 2751, 7562, 51453, 60311, 59521, 49773, 74371, 5743, 33667, 71910, 73624, 13309, 37859, 42551, 405, 5242, 15195, 28245, 26657, 13537, 15574, 3776, 64098, 56723, 1927, 12950, 34549, 40570, 56628, 29381, 9308, 4324, 67362, 15570, 47745, 19552, 67960, 16602, 59198, 72716, 53372, 54267, 13555, 32603, 25052, 55770, 45715, 65764, 48202, 21271, 42122, 36340, 40652, 40284, 21502, 9357, 1420, 61755, 5, 31224, 34806, 59204, 67653, 35462, 71100, 22448, 16510, 43650, 281, 33195, 4974, 8640, 5959, 67875, 39863, 56472, 48767, 50934, 61774, 38816, 38940, 38373, 40846, 28626, 21949, 39078, 69321, 39608, 44392, 48460, 4102, 62181, 40351, 50293, 43768, 29548, 30871, 11771, 51364, 30326, 48653, 69884, 36552, 67439, 49258, 12212, 18933, 68199, 64298, 25840, 31873, 51196, 56800, 50607, 67072, 15695, 23201, 46857, 68904, 46879, 31166, 45317, 385, 5505, 17931, 21815, 18528, 10552, 64141, 3026, 45852, 73054, 8319, 39927, 30427, 45975, 73957, 51853, 1646, 846, 9954, 42936, 64994, 9979, 57618, 41877, 10407, 34131, 13468, 36954, 26627, 68104, 60709, 44813, 9989, 11675, 61146, 45954, 52271, 62134, 37584, 20474, 7885, 10939, 44358, 55284, 37628, 35605, 28862, 25412, 17467, 15260, 21375, 46379, 72922, 57020, 49291, 41241, 16098, 71240, 69240, 43493, 61247, 25677, 3451, 37177, 67203, 11098, 43632, 50737, 56564, 2191, 8531, 21021, 56880, 58304, 38488, 15500, 16239, 66312, 18526, 43607, 57410, 49135, 61388, 31818, 53305, 31207, 33723, 35827, 71560, 58925, 52821, 35595, 56992, 41341, 9397, 5033, 1253, 70644, 46290, 3720, 6400, 57811, 1409, 50172, 55245, 68443, 56508, 32587, 2847, 24006, 44909, 46363, 61038, 32048, 35865, 55882, 44573, 26156, 46271, 25128, 61639, 48967, 36001, 34612, 17531, 4363, 19715, 29860, 12245, 9370, 42143, 11584, 39122, 62478, 65804, 34414, 31883, 23394, 9784, 13088, 34523, 10265, 20075, 45262, 38712, 55240, 17563, 45195, 43300, 57601, 61017, 10469, 10110, 23169, 33836, 64858, 31188, 39418, 7358, 12775, 71668, 52780, 36802, 35028, 75676, 72540, 25587, 14936, 19309, 76281, 12374, 2411, 72111, 54707, 64122, 15389, 12792, 25865, 65313, 35706, 14047, 66928, 61177, 50955, 13158, 60967, 50481, 17169, 10209, 43451, 19526, 60559, 65308, 19010, 1732, 49108, 73283, 63428, 5664, 53816, 47439, 18398, 36077, 4752, 55621, 20734, 7475, 13808, 38684, 43796, 59082, 15170, 13591, 2676, 51163, 54407, 21540, 16707, 64580, 13959, 43879, 43305, 5701, 25602, 38666, 13791, 48553, 11487, 4513, 3188, 5234, 20956, 49896, 64210, 17737, 23376, 1242, 53613, 7161, 62906, 10050, 31899, 32039, 44339, 2488, 62076, 75738, 10765, 3027, 33698, 61005, 41107, 45426, 70797, 45312, 35049, 58218, 30130, 60340, 30128, 33124, 42147, 30768, 34875, 19818, 16182, 18821, 68277, 32769, 10856, 68751, 29624, 53868, 15003, 74807, 20804, 32053, 25386, 19397, 64091, 37633, 49639, 76278, 60078, 3474, 29197, 54204, 33652, 43519, 42763, 42058, 45133, 22024, 40770, 53817, 6511, 25268, 53080, 51243, 10511, 33520, 70530, 2657, 22020, 9101, 65474, 52530, 8251, 18323, 50840, 63548, 60401, 28387, 47649, 20682, 76097, 64835, 18772, 64607, 28513, 62328, 15091, 18335, 75916, 31136, 29702, 5780, 46835, 7194, 19682, 3071, 21171, 1693, 64135, 1037, 28478, 3816, 2835, 59859, 16542, 11428, 24188, 11229, 26853, 46721, 50688, 31673, 22901, 73927, 68723, 21979, 66237, 45631, 31457, 20658, 41216, 57869, 11120, 32897, 547, 65556, 38557, 48146, 49735, 62578, 5499, 57066, 46079, 56857, 51411, 24937, 41207, 38774, 27459, 30443, 7397, 46520, 13962, 50798, 11945, 76213, 71437, 7517, 8482, 17190, 68109, 29937, 28365, 41986, 54555, 67098, 27054, 34955, 31045, 48022, 6780, 71584, 38233, 24168, 3815, 60132, 2522, 1138, 14894, 6750, 36200, 51412, 41109, 58387, 53070, 31888, 38159, 58490, 45794, 48984, 57575, 37140, 17115, 38095, 28219, 70089, 7090, 37573, 61011, 52457, 72810, 52378, 52040, 42794, 26595, 21838, 2423, 31643, 37827, 23971, 71263, 59810, 6635, 42620, 28244, 9391, 47922, 50806, 10072, 25848, 28199, 16558, 48437, 1256, 53151, 46207, 53029, 33743, 54807, 42341, 39306, 64365, 33366, 49446, 64040, 70658, 31557, 37822, 30709, 64195, 7649, 4859, 2964, 2006, 66922, 20272, 14140, 11085, 56012, 66081, 22521, 39783, 53011, 53210, 24337, 16939, 68416, 2795, 817, 19838, 17520, 6756, 34192, 21481, 55225, 67755, 43947, 42622, 28608, 33428, 44940, 14641, 49348, 440, 59252, 55422, 53732, 299, 24808, 23693, 9646, 42966, 29762, 69952, 30627, 26192, 13559, 72405, 42343, 39740, 13233, 58083, 48385, 3765, 16731, 42548, 1775, 64389, 38687, 48409, 17596, 4057, 41338, 11298, 1065, 17438, 4408, 55056, 58319, 54017, 19538, 23371, 43939, 60667, 60587, 44503, 46584, 60584, 1614, 39475, 6561, 69468, 70365, 1292, 5739, 20790, 8814, 54290, 219, 14378, 40724, 48980, 68231, 72207, 24458, 22249, 41152, 45701, 72821, 63253, 29836, 4683, 76003, 5325, 60792, 59317, 30694, 68174, 54803, 69431, 39990, 76246, 60725, 74800, 25500, 15828, 6575, 75127, 55635, 62264, 69188, 11118, 6093, 51193, 28221, 3009, 54391, 39101, 43422, 72074, 70157, 20689, 15805, 27236, 16318, 69318, 58650, 43251, 47609, 45073, 75170, 15121, 72670, 9633, 8607, 38013, 69257, 73891, 64316, 39975, 9462, 40444, 66142, 35500, 42265, 21475, 63042, 70352, 2021, 5168, 61268, 46595, 46676, 48109, 16410, 13624, 34997, 33729, 3654, 15357, 53710, 24816, 41244, 57269, 32763, 63821, 50198, 34338, 62376, 67615, 69776, 14261, 50766, 71565, 52887, 4785, 3059, 23188, 64606, 40298, 13163, 12895, 64616, 12051, 41829, 17698, 47021, 1026, 19053, 19734, 5822, 24696, 30708, 71326, 73820, 67671, 56304, 37061, 29147, 53893, 17104, 43404, 21521, 54726, 63929, 7163, 56479, 65435, 17458, 20097, 20698, 16438, 68859, 23457, 35956, 4091, 12119, 30581, 36514, 9493, 19462, 10007, 40919, 25890, 69425, 50033, 58227, 39885, 43035, 45236, 5448, 47708, 64380, 56438, 32561, 39350, 24129, 8649, 60443, 9468, 44922, 21256, 30327, 71372, 10985, 56124, 44584, 35456, 9002, 3447, 12535, 37053, 33181, 11022, 53812, 43078, 32405, 20168, 65464, 18737, 68697, 27129, 38099, 38376, 17410, 14139, 61209, 76317, 55414, 3619, 22275, 66595, 2267, 33115, 74270, 52097, 64824, 11486, 63689, 65050, 36176, 27379, 50374, 66756, 71589, 16298, 51080, 71389, 29671, 36252, 42511, 65366, 18031, 5511, 45008, 43599, 12430, 49197, 54335, 94, 74687, 43863, 51527, 63148, 58031, 33589, 60867, 33682, 30630, 30703, 24538, 47404, 36561, 5765, 69281, 27753, 30740, 63507, 45976, 7280, 23580, 66904, 59713, 16692, 38541, 26802, 30197, 69787, 21633, 42237, 62767, 60934, 8702, 18051, 22041, 21461, 66747, 26374, 65827, 10102, 38240, 34758, 53255, 62967, 50446, 57736, 19369, 20195, 22001, 10071, 40166, 51429, 50836, 18769, 72916, 18205, 47063, 44809, 64611, 42785, 55040, 41947, 48449, 1597, 26015, 38344, 68663, 35104, 38518, 72386, 64532, 12717, 12172, 50121, 58708, 28402, 59803, 31220, 2507, 4650, 14499, 63984, 45529, 2058, 51870, 1294, 32757, 21331, 42314, 28434, 26521, 72935, 15919, 50637, 36925, 68802, 69888, 2535, 63073, 2606, 71236, 18225, 68455, 58653, 59831, 75131, 50844, 18228, 19116, 13510, 19483, 45113, 20277, 4527, 46415, 62852, 13824, 32245, 306, 30162, 74411, 40361, 31749, 3420, 57029, 15606, 71806, 45253, 27182, 75052, 38115, 24796, 22958, 12561, 8592, 416, 16342, 67912, 704, 66421, 39875, 39902, 58684, 31689, 54443, 24403, 39138, 46026, 67417, 64116, 45315, 66383, 16791, 72272, 73365, 61792, 30874, 70932, 76144, 190, 10199, 45958, 14881, 71042, 16828, 20644, 35024, 15926, 69456, 11779, 73654, 49862, 57584, 13346, 68244, 50943, 21537, 10813, 75893, 66309, 47812, 72947, 31835, 38431, 71745, 23506, 5375, 7275, 28031, 74723, 53744, 37915, 38908, 59880, 58703, 45952, 7775, 43110, 46352, 53418, 29799, 76031, 22726, 24447, 56730, 66725, 15239, 49695, 50032, 30858, 2993, 50728, 4162, 6810, 39873, 10221, 41821, 40673, 569, 68601, 68102, 68821, 17525, 625, 74619, 32572, 26535, 3641, 29069, 56086, 46805, 5740, 3632, 46477, 27813, 26971, 72595, 72421, 43091, 53059, 14457, 69625, 23993, 58005, 3399, 49925, 28268, 50179, 73839, 7911, 36480, 4586, 21553, 45219, 5754, 27526, 58199, 52259, 30689, 6336, 63958, 50349, 34116, 28752, 26650, 57193, 74702, 8626, 14397, 53175, 41172, 27849, 25654, 10405, 12320, 20760, 69534, 37529, 24372, 59998, 3446, 73798, 41143, 41995, 57904, 24903, 22113, 51022, 9418, 63286, 22580, 24283, 41840, 3085, 30155, 3490, 36228, 57798, 41158, 53747, 35469, 68255, 26044, 27516, 30587, 8880, 40868, 46307, 5663, 17479, 47865, 17608, 32699, 70044, 71345, 62545, 50, 62077, 51087, 694, 63474, 9607, 65780, 2920, 47896, 11353, 26717, 63053, 31830, 47019, 53022, 25417, 51750, 41386, 6973, 41421, 56621, 29285, 26273, 21327, 55122, 23247, 21624, 47068, 18116, 40793, 33700, 55198, 5779, 58531, 51633, 25882, 22394, 14922, 41553, 23868, 53170, 11651, 63475, 54717, 1020, 28875, 28488, 11904, 18098, 48098, 5412, 56455, 74383, 478, 53562, 9854, 65762, 61622, 19472, 55462, 6558, 11265, 16670, 70834, 8639, 62497, 71649, 59907, 55638, 55183, 60139, 9204, 48722, 42741, 68376, 70134, 48195, 47496, 9992, 66197, 46035, 73790, 74740, 45392, 6011, 40483, 15939, 14580, 37272, 35325, 28958, 34621, 53365, 44219, 73777, 19332, 52447, 32935, 32220, 27400, 37842, 3649, 12062, 34357, 23321, 28489, 58721, 72809, 59877, 28458, 73849, 42205, 40050, 66706, 6632, 64108, 10097, 29621, 4511, 18720, 14829, 68198, 28953, 55200, 13649, 14762, 5490, 7402, 74250, 66542, 59076, 34294, 8565, 74637, 46240, 58825, 20318, 36220, 17743, 41671, 5897, 10366, 26564, 71833, 28176, 45151, 9058, 40856, 6992, 73467, 20162, 29731, 12860, 63216, 35241, 15439, 23624, 62491, 48949, 64151, 36091, 34132, 24488, 16090, 24263, 37044, 8426, 39489, 8035, 66812, 46663, 34590, 56360, 14947, 41503, 24843, 60956, 23222, 41546, 43897, 13283, 63272, 14962, 42053, 30198, 11673, 47934, 13927, 23984, 66492, 38507, 46566, 4827, 71366, 626, 48529, 71523, 36051, 10494, 15371, 57593, 71642, 6295, 39167, 56812, 17158, 70373, 72378, 12779, 50633, 44403, 24475, 18617, 6464, 14113, 15900, 29744, 27179, 1112, 1788, 15548, 1183, 14942, 39111, 64886, 28085, 51994, 19138, 3885, 52442, 28549, 10848, 49751, 22139, 662, 18136, 32057, 74009, 65728, 22330, 38114, 16045, 59159, 29169, 71973, 32761, 38379, 14353, 72883, 50941, 64615, 15337, 8415, 7929, 75991, 15560, 63824, 9312, 75713, 7568, 687, 1326, 39022, 2876, 7615, 29780, 38416, 42333, 30377, 48364, 25874, 33757, 44685, 51707, 35625, 43726, 24010, 65579, 44550, 15791, 49660, 29636, 45732, 53611, 39046, 50698, 21692, 71837, 59564, 8418, 24564, 34355, 56178, 32383, 24871, 5002, 14967, 56115, 35112, 50126, 64600, 55330, 44376, 58443, 27901, 38026, 26647, 1304, 9530, 19436, 37949, 40556, 31999, 18472, 7238, 6628, 3817, 34698, 54063, 26543, 14863, 74179, 76210, 69899, 64105, 36491, 5332, 47692, 39973, 27058, 11740, 71891, 4080, 67935, 63859, 34314, 39146, 54484, 68737, 35238, 55321, 38878, 24282, 63888, 16862, 15612, 16823, 10535, 33507, 70908, 38506, 3065, 21771, 43013, 8153, 75035, 47582, 22374, 57204, 41388, 67470, 40617, 33601, 17139, 11311, 32426, 5503, 68470, 26026, 29631, 42468, 27037, 23500, 58334, 14808, 67590, 41201, 29978, 29628, 68425, 69713, 62955, 35158, 8910, 1900, 58798, 42186, 14700, 12498, 55, 72345, 28654, 25552, 22577, 27913, 3745, 26371, 51456, 62141, 7361, 39597, 67045, 22103, 27066, 29777, 6758, 73873, 73052, 16719, 53566, 3181, 67419, 1476, 22664, 50735, 46, 4068, 44408, 62630, 37941, 46923, 46669, 22752, 13587, 31342, 61483, 67157, 47006, 70021, 68957, 12590, 42112, 11899, 32458, 24881, 50580, 67387, 25775, 742, 73425, 11590, 13518, 70708, 10367, 13030, 43311, 75190, 42242, 9050, 51849, 68450, 54294, 52130, 38189, 28888, 9105, 69745, 23312, 12893, 36126, 20159, 12204, 36026, 58312, 64486, 46503, 16966, 12298, 4855, 9638, 27958, 60497, 57732, 25557, 10483, 25160, 30271, 4426, 20301, 11036, 6342, 15072, 72942, 10636, 64198, 59894, 74832, 2181, 18388, 64591, 35788, 73395, 43221, 17736, 8050, 22935, 31629, 16980, 26483, 52420, 15457, 67511, 39802, 67838, 1438, 72725, 50841, 17969, 2457, 46871, 37719, 5778, 61589, 20840, 59028, 29516, 6591, 39821, 46234, 67471, 57209, 52648, 51003, 45188, 3718, 28539, 61896, 57813, 27428, 67126, 65851, 54546, 2972, 27408, 35768, 3033, 55771, 60562, 20346, 55552, 33426, 36578, 36740, 29389, 14995, 73961, 25715, 49686, 16534, 19788, 38350, 10122, 2770, 12504, 11018, 2378, 44069, 23134, 73556, 49466, 52096, 50240, 31258, 17465, 59666, 68086, 42586, 18954, 45060, 23978, 22318, 31727, 47761, 6878, 20457, 20412, 65879, 33547, 64913, 66407, 46398, 14891, 13764, 67118, 64076, 70009, 14423, 54410, 70488, 21073, 36168, 19742, 4939, 32310, 39229, 50786, 56305, 23450, 13015, 4447, 68892, 49225, 17670, 55625, 68571, 21740, 20399, 24747, 45126, 74182, 51141, 3439, 30549, 66832, 58025, 48554, 14118, 49562, 69584, 4726, 18507, 9519, 56499, 27402, 16977, 67187, 57447, 43672, 60075, 7013, 46133, 47780, 57484, 27570, 61190, 59249, 36566, 31962, 5238, 6994, 3948, 24306, 31196, 72045, 72893, 7737, 57192, 8870, 35389, 44050, 55275, 42927, 53079, 24908, 14399, 4040, 35132, 30375, 59146, 45748, 9057, 3741, 50549, 44336, 31959, 57465, 72165, 30400, 28285, 44355, 24317, 59612, 6505, 44929, 31843, 39130, 18066, 16525, 57758, 43705, 4549, 75467, 69056, 52443, 39310, 63212, 16103, 18728, 40961, 63442, 41278, 20713, 58217, 70437, 26752, 25975, 62586, 64761, 40728, 62454, 4809, 3336, 9575, 27244, 39302, 66841, 73671, 40554, 30730, 2730, 39127, 4039, 23908, 73029, 7348, 64720, 13276, 54527, 75017, 5070, 37353, 14099, 25929, 44435, 52518, 35136, 27406, 66463, 25901, 73686, 25855, 28979, 64902, 14372, 14628, 47161, 37872, 47076, 8369, 70315, 27728, 27161, 63492, 25542, 75037, 49192, 2221, 75663, 26247, 19170, 43563, 63745, 44163, 39679, 46021, 10584, 72181, 55133, 24807, 68359, 68483, 32229, 72353, 10520, 70752, 70014, 27185, 65793, 48277, 42859, 45381, 64252, 68729, 73140, 54645, 47731, 43561, 13099, 700, 68593, 34299, 18048, 64426, 41178, 76259, 5173, 44535, 11970, 72083, 51205, 68554, 27622, 46422, 65445, 19971, 11663, 45200, 62809, 48311, 56962, 24489, 2438, 6696, 24968, 54837, 53127, 70884, 27376, 66646, 802, 24848, 38915, 33077, 5582, 28013, 61191, 52435, 75813, 44977, 71443, 57875, 74402, 50523, 48522, 62904, 33515, 74438, 74757, 53729, 74450, 48328, 43805, 73611, 53558, 55363, 49410, 795, 16630, 62957, 27578, 7288, 62087, 10750, 7222, 35134, 11386, 47755, 34513, 62905, 49388, 11485, 73251, 54682, 34141, 39144, 57929, 18947, 17885, 23652, 70022, 25989, 6149, 62946, 1031, 44041, 45434, 74997, 16817, 3984, 26584, 40487, 4890, 11224, 5813, 13845, 22302, 59970, 62020, 64527, 43995, 65458, 54772, 24853, 14363, 73459, 73920, 35234, 53093, 67636, 50752, 38885, 15808, 58501, 56709, 14519, 39804, 22988, 13722, 74837, 47240, 10521, 50020, 36030, 29802, 20210, 71088, 47935, 46823, 44662, 28511, 49948, 32969, 62724, 5091, 31685, 58253, 9796, 25256, 69906, 23002, 20532, 69077, 55707, 30144, 15557, 64651, 37804, 52342, 47645, 8087, 64248, 46223, 19782, 67938, 60616, 20732, 13877, 34019, 10377, 24942, 68203, 68161, 64315, 65870, 24079, 50262, 28813, 64594, 22743, 65032, 73580, 55410, 19642, 67023, 51185, 5269, 75775, 36729, 1506, 6657, 53733, 62310, 64192, 35263, 45183, 52895, 25933, 572, 21501, 16488, 51868, 10653, 25538, 48475, 5543, 69840, 45885, 45397, 50106, 60415, 41714, 62813, 55850, 15399, 36531, 70500, 14222, 43998, 17039, 42666, 9198, 11938, 18056, 10945, 60685, 69426, 42074, 71448, 53528, 27313, 34021, 52867, 76048, 22421, 69604, 23513, 6389, 38769, 73933, 74767, 24794, 52594, 6772, 65383, 65264, 71619, 24040, 74101, 68243, 8431, 27626, 47297, 20340, 46763, 5308, 9049, 36107, 63932, 7350, 51666, 25563, 6053, 73770, 2700, 59261, 69302, 2118, 46208, 17908, 76075, 67808, 49938, 37840, 31666, 17706, 61866, 61138, 68875, 12512, 75098, 40295, 64693, 42218, 28915, 41021, 32106, 34864, 34889, 29441, 57528, 15685, 41538, 32087, 5324, 72460, 20036, 35644, 56222, 10812, 9918, 75499, 23168, 27220, 38639, 2088, 72158, 16968, 26138, 32008, 71766, 59063, 60764, 10744, 70295, 27943, 3997, 74344, 28029, 75222, 45203, 41980, 29014, 7487, 14456, 73206, 26624, 23149, 11853, 46050, 59920, 28504, 19344, 36711, 61390, 37884, 4209, 30410, 7930, 9705, 40323, 51093, 38936, 43817, 33854, 54572, 69571, 41139, 47141, 15108, 5134, 673, 72376, 26353, 6534, 11072, 73584, 48625, 60413, 7558, 53913, 74598, 36378, 2152, 38040, 37226, 45388, 38795, 29224, 12850, 30562, 41746, 52087, 62043, 34851, 40973, 15107, 75388, 30531, 24767, 13183, 55015, 70037, 18262, 12410, 17021, 54870, 23597, 44204, 53105, 66391, 17379, 64950, 37695, 61183, 53490, 20741, 27269, 53789, 48902, 36883, 11342, 50595, 66236, 26158, 32864, 1125, 22968, 34999, 920, 4166, 59011, 66168, 28418, 68257, 15096, 32696, 75781, 72119, 32463, 71855, 10607, 58847, 74384, 40722, 68502, 4107, 45789, 39536, 46851, 16645, 76141, 60007, 37936, 16391, 60355, 55877, 41160, 22950, 50639, 35317, 46521, 45781, 45895, 55541, 45630, 53065, 56914, 10090, 11461, 4455, 16550, 61791, 32710, 34193, 39694, 41437, 35878, 74390, 71459, 41533, 75206, 64698, 27289, 63453, 52386, 63848, 33766, 71732, 184, 43613, 19849, 17174, 66729, 59429, 37875, 28072, 13118, 49795, 16301, 43189, 56158, 8108, 72149, 23415, 4980, 23432, 11310, 51956, 6690, 29003, 15052, 7910, 67285, 37333, 64245, 33212, 36078, 38619, 16945, 5428, 22178, 20687, 30580, 58416, 4063, 54746, 58817, 53850, 21829, 66955, 52028, 29566, 14348, 63917, 61446, 15643, 27695, 36980, 73698, 7044, 65375, 74444, 61830, 59144, 20408, 23849, 75578, 72331, 19464, 43914, 47696, 64769, 54689, 3174, 71216, 26008, 58461, 61264, 61917, 46680, 41907, 27514, 23413, 73209, 36121, 72547, 72283, 45800, 67515, 41918, 52352, 31014, 75517, 48884, 14873, 68115, 12181, 32358, 59180, 7799, 50937, 36683, 72980, 46616, 13066, 49489, 50930, 55071, 1425, 150, 46118, 49629, 23546, 62890, 43737, 49216, 23861, 43682, 52644, 12699, 2187, 22601, 16891, 9551, 66778, 19933, 3958, 64353, 11778, 72349, 40403, 42986, 55187, 57970, 27131, 26331, 29032, 8008, 71960, 16361, 44711, 63090, 25974, 55069, 54556, 60286, 40012, 46395, 61026, 12621, 3912, 72021, 51070, 17696, 26310, 15572, 44253, 11752, 36642, 72068, 9672, 7098, 61522, 28799, 63795, 57105, 53218, 42424, 19634, 20405, 61750, 70339, 59266, 35930, 25272, 11023, 61935, 21409, 8057, 67097, 5665, 696, 19168, 3145, 48705, 45621, 48242, 68622, 37905, 31277, 8594, 28912, 59584, 62121, 29521, 61311, 55037, 57707, 21244, 33073, 46991, 31347, 46643, 48987, 8141, 16890, 44463, 76040, 33433, 15841, 48088, 70215, 29564, 44473, 66539, 61462, 11179, 75768, 69316, 67020, 40844, 58379, 73249, 67873, 45160, 12173, 12724, 2561, 18208, 6188, 39300, 21163, 9404, 18739, 63260, 29338, 65729, 50291, 10923, 16812, 21191, 37019, 29572, 76298, 238, 47487, 41032, 64350, 55994, 16913, 12808, 68890, 30702, 31102, 27288, 61341, 63193, 16956, 17867, 3141, 70370, 5711, 60784, 23362, 13289, 58533, 55413, 16192, 53123, 44008, 4105, 47316, 26322, 31134, 7754, 18193, 60738, 20652, 53254, 42698, 65099, 5758, 12980, 37687, 1492, 41429, 24612, 8765, 66818, 31253, 34188, 29131, 14617, 1440, 42623, 8175, 10574, 47054, 33095, 27212, 68150, 54696, 23786, 72710, 13273, 70779, 4892, 3199, 55844, 36019, 75856, 74058, 6451, 28743, 23937, 42673, 22761, 37324, 38282, 68181, 3990, 5838, 18239, 27286, 72273, 59084, 38117, 62975, 36961, 7178, 44978, 38749, 10942, 64968, 36385, 61670, 45477, 51662, 12418, 29284, 71765, 837, 28350, 73026, 56515, 33857, 23269, 72339, 10022, 11299, 42815, 67631, 73087, 30452, 20999, 8925, 17297, 28337, 2121, 40404, 10356, 51670, 22234, 22893, 49643, 24212, 42640, 54196, 23572, 26684, 58901, 71170, 45308, 20971, 20166, 3956, 3168, 75226, 57735, 35856, 20784, 32077, 28567, 36053, 44181, 33220, 69359, 69246, 2243, 64792, 2836, 47131, 5836, 70107, 22107, 16934, 598, 30676, 43837, 20102, 59039, 64071, 40601, 54748, 46344, 54505, 45531, 14480, 65693, 76328, 26401, 45987, 4303, 25324, 24182, 11402, 27366, 39015, 54507, 33811, 69739, 36941, 61155, 56948, 43327, 71880, 53373, 35430, 26155, 43458, 46109, 44252, 71810, 11739, 41307, 41333, 69491, 56068, 42628, 68074, 4835, 18255, 38584, 70983, 62028, 42564, 74029, 22962, 35992, 14952, 31816, 51135, 65787, 42098, 38829, 20888, 64562, 37459, 35545, 29500, 44412, 33846, 28525, 20586, 3591, 51315, 10318, 69165, 53416, 11361, 19424, 31078, 17763, 31481, 52020, 60281, 37377, 27000, 37810, 5154, 38715, 60073, 12891, 14517, 19785, 23397, 12521, 14630, 54470, 18643, 15620, 32440, 23192, 35312, 76343, 62512, 36266, 29851, 49295, 55548, 72666, 26555, 58718, 33040, 113, 49561, 72678, 56500, 48601, 63963, 8266, 70048, 35739, 29442, 74066, 4966, 9094, 23953, 5228, 75546, 52106, 73027, 50346, 3086, 34280, 61193, 51162, 9067, 58489, 47320, 74589, 1749, 16697, 31776, 65651, 27707, 44151, 49496, 60627, 61056, 28683, 6071, 63199, 72334, 12706, 56176, 12835, 1851, 58099, 6299, 73255, 64460, 8334, 6024, 3922, 53545, 11354, 25030, 44987, 58860, 35758, 56840, 56071, 58440, 31410, 36301, 9685, 20328, 22757, 69968, 24778, 54453, 31394, 10866, 59496, 67830, 65639, 5698, 41813, 32500, 50608, 16760, 40534, 52749, 55895, 22579, 48663, 46080, 56458, 39482, 48173, 21112, 26434, 66974, 55650, 43617, 37636, 69363, 28096, 1607, 65631, 45586, 51354, 6734, 6113, 51000, 22714, 7260, 45583, 54023, 47646, 924, 63763, 25364, 10163, 26400, 4360, 8277, 1919, 21421, 27541, 51083, 12440, 8298, 51481, 39592, 36982, 54239, 58834, 25363, 24374, 65020, 54454, 20823, 52201, 62048, 9906, 61598, 50144, 59010, 58691, 15199, 5501, 4110, 40034, 17187, 28394, 59745, 56893, 75234, 16044, 67299, 23492, 21737, 14320, 7029, 10982, 15054, 52758, 7128, 58972, 73738, 15496, 64152, 60716, 70538, 30607, 69789, 47990, 24390, 45233, 58272, 32706, 44713, 59217, 13271, 7936, 57711, 1848, 72367, 35254, 40286, 63445, 984, 12858, 53625, 59653, 44615, 14652, 73135, 2103, 57475, 66901, 9790, 53852, 64480, 37549, 5312, 50971, 54789, 16897, 33983, 48441, 63417, 13409, 30204, 49384, 56102, 9001, 74369, 56044, 9123, 9565, 2147, 17623, 39845, 64982, 40896, 49279, 45540, 3466, 53671, 7399, 70184, 59455, 47949, 40179, 46047, 61301, 40383, 51279, 4970, 44981, 38602, 10829, 75522, 4967, 38415, 42928, 30356, 48774, 25441, 59015, 16993, 5595, 42104, 49750, 32162, 75603, 27020, 5714, 13817, 40088, 66470, 72638, 63668, 7158, 1075, 10618, 4728, 56815, 69142, 52, 58162, 33306, 22312, 14271, 45856, 14051, 32418, 66464, 62888, 34646, 39659, 21780, 14166, 69589, 72542, 13108, 54351, 55685, 28133, 41682, 43346, 52651, 11930, 52945, 62434, 40379, 38726, 44265, 68268, 42454, 12219, 29837, 55788, 56819, 38461, 68526, 10230, 38464, 73578, 8831, 55477, 29509, 10335, 57257, 63604, 75082, 70008, 64869, 51635, 56589, 74795, 32146, 50581, 67484, 61055, 37966, 30035, 23158, 36936, 71610, 24870, 34557, 65416, 4033, 4864, 30052, 20377, 9688, 8679, 74861, 28531, 6028, 22197, 27300, 7532, 61542, 31792, 35821, 58331, 29896, 72357, 41483, 66578, 70975, 27847, 45935, 48380, 9594, 23728, 29669, 36146, 56560, 69395, 30592, 47300, 49450, 14545, 74888, 24613, 17018, 8654, 75454, 52050, 53162, 53363, 40676, 21107, 27793, 76225, 30778, 10975, 62098, 18169, 53261, 45419, 50546, 47909, 18916, 22643, 49366, 15918, 15575, 24384, 50488, 26308, 70980, 1801, 18929, 44609, 30522, 29303, 21515, 3902, 11854, 45198, 64087, 44738, 50216, 43447, 7493, 28656, 45552, 74104, 68392, 64874, 62364, 48446, 56871, 70702, 52466, 41056, 44937, 33644, 67063, 70929, 52936, 38333, 54537, 9848, 27873, 4288, 51189, 2033, 51266, 35050, 46236, 70939, 7025, 3920, 4412, 6924, 57244, 19812, 46675, 51961, 3538, 55825, 2499, 63248, 17721, 74776, 58119, 5034, 63924, 59825, 9553, 32295, 24468, 26881, 28410, 69469, 57734, 21430, 50743, 9165, 11774, 18987, 46814, 13812, 32789, 41719, 70272, 4843, 11781, 69977, 68085, 14890, 24201, 43325, 10334, 18992, 22699, 25771, 22632, 28319, 70380, 67762, 67949, 2495, 35953, 6172, 59838, 47729, 25135, 32852, 47928, 22770, 67086, 60813, 33066, 55780, 7209, 42063, 22995, 27278, 2824, 25044, 37556, 65523, 50181, 70787, 1941, 51798, 27953, 54420, 47192, 42085, 16852, 20439, 40635, 58785, 18965, 57721, 75120, 57442, 32651, 46162, 11604, 4059, 37424, 45683, 28034, 58373, 19031, 56974, 47965, 18674, 33977, 57261, 5927, 52307, 56143, 261, 47121, 73177, 6117, 15272, 14754, 5798, 38237, 29172, 2803, 71600, 5214, 19640, 9421, 4046, 14446, 60913, 43157, 40275, 6556, 75902, 4561, 44021, 30099, 51911, 2749, 33588, 52483, 63565, 44028, 59473, 6470, 72685, 5150, 11529, 17515, 62768, 24113, 11612, 41518, 61804, 64414, 61398, 56687, 66056, 43711, 64094, 59071, 29459, 57976, 9968, 15842, 73072, 15053, 19482, 30420, 38873, 39551, 13355, 62015, 75948, 43798, 33346, 6889, 55124, 15658, 7545, 9112, 10903, 7362, 30939, 1240, 56087, 67688, 33650, 21990, 70319, 22491, 66337, 42043, 64543, 25242, 12100, 71144, 26759, 48808, 29511, 51212, 45639, 33720, 17221, 9217, 76042, 39777, 52652, 69513, 7479, 10924, 54644, 59306, 54494, 24974, 49775, 50330, 15502, 67647, 41317, 8286, 34002, 27134, 35899, 73684, 36534, 13457, 63484, 67825, 8724, 55092, 3072, 51872, 2123, 21763, 10189, 28843, 7822, 66450, 61395, 71104, 52136, 60908, 73349, 42368, 70995, 60018, 20485, 57769, 64019, 52291, 59955, 61955, 37420, 41537, 65495, 36700, 24940, 6519, 50800, 38803, 24593, 19876, 76106, 41282, 41747, 54637, 31755, 48594, 17302, 12549, 34856, 48517, 51261, 40310, 4302, 58464, 1171, 18403, 59320, 71270, 26653, 26016, 54815, 31422, 1793, 63653, 31210, 55766, 39019, 38081, 74110, 41961, 68190, 8676, 8023, 68842, 53682, 52393, 52123, 5875, 9329, 34881, 66378, 62640, 38174, 44333, 64692, 47324, 21102, 56025, 59014, 7800, 34818, 7659, 56023, 45765, 39533, 17053, 45053, 14509, 389, 34916, 9891, 59179, 70696, 41934, 22209, 37626, 48057, 18796, 21319, 48330, 73074, 47985, 40809, 31588, 58277, 20549, 48430, 49481, 22409, 38883, 44060, 48947, 44475, 11605, 71455, 49513, 72674, 70965, 7764, 2645, 27197, 18575, 37592, 62357, 75870, 31502, 60490, 42967, 13696, 19112, 56038, 34290, 76241, 35372, 29982, 24012, 52455, 22203, 68902, 65841, 33012, 42871, 75897, 21211, 53984, 32434, 57876, 75904, 54843, 1266, 36807, 43522, 21678, 40121, 24431, 52257, 34824, 2620, 7688, 73199, 45455, 16858, 17188, 69313, 63630, 5694, 36076, 31867, 16806, 43122, 12634, 25856, 59327, 6541, 16206, 28738, 4109, 28178, 37138, 45047, 32414, 66149, 33671, 69890, 6406, 54027, 42588, 3979, 63047, 60516, 25248, 2027, 67117, 54213, 10844, 33586, 29565, 31189, 73360, 27476, 127, 47423, 1594, 73658, 37146, 55600, 20420, 55713, 11247, 6769, 50922, 51010, 73214, 28695, 28967, 68286, 7964, 2455, 75572, 3375, 24921, 6936, 39470, 7978, 61073, 61438, 12826, 41593, 34661, 53537, 32059, 1697, 46838, 12118, 46847, 32516, 13469, 45546, 48677, 67876, 31017, 48855, 45726, 53933, 40044, 62456, 34289, 25310, 44175, 6610, 19219, 42533, 59224, 63570, 26599, 38363, 19150, 72104, 16201, 19559, 16198, 49169, 49143, 64893, 30472, 38029, 74135, 39267, 40388, 16083, 38269, 41499, 62101, 72700, 11726, 1616, 12918, 68925, 75307, 36311, 325, 31504, 9205, 41131, 37298, 19431, 72898, 43022, 46681, 73341, 27118, 66175, 31779, 67649, 30575, 41049, 23319, 25629, 34297, 70199, 62124, 35098, 51031, 41591, 65889, 70187, 24901, 13454, 55236, 70194, 39849, 74220, 11789, 67941, 54429, 28024, 1509, 5849, 62287, 14254, 29881, 49895, 44426, 3779, 73496, 45572, 52740, 75680, 4739, 19468, 31882, 40786, 35770, 58886, 58286, 68406, 13922, 29607, 74577, 49987, 19777, 15867, 24165, 62786, 23455, 7692, 74024, 68705, 104, 45093, 1074, 17418, 52124, 19949, 58859, 7722, 66349, 59095, 3465, 60676, 43927, 35074, 55233, 43304, 64439, 9886, 21415, 35017, 67791, 11539, 48113, 19858, 40829, 74915, 6233, 13809, 5931, 66166, 25623, 11441, 46992, 25578, 61654, 31681, 33938, 2871, 53620, 70697, 62100, 22399, 41563, 32697, 37983, 62719, 73821, 15940, 18597, 19749, 29998, 75981, 72913, 38808, 44232, 9693, 40054, 27265, 67364, 5628, 75281, 28618, 55449, 46448, 13717, 40886, 41348, 61599, 21232, 50117, 49627, 69547, 38754, 31487, 34115, 1913, 72266, 30132, 69781, 705, 12758, 19720, 30505, 36519, 41795, 41129, 27144, 5703, 45209, 6906, 10644, 14410, 29238, 5383, 71758, 25206, 50385, 57821, 74188, 741, 70413, 27676, 729, 31605, 35512, 74286, 24013, 23872, 3947, 47224, 18899, 74925, 59343, 62470, 53469, 50915, 44130, 29113, 38388, 10828, 64182, 39043, 76139, 11661, 38489, 21370, 30227, 59363, 21598, 73172, 29824, 582, 46509, 70661, 9610, 12090, 67290, 62377, 65117, 62248, 42105, 65846, 44928, 59214, 12692, 52878, 56807, 44033, 35380, 44641, 11400, 47789, 43663, 46074, 48427, 47638, 62052, 29592, 17796, 42135, 62060, 3714, 16047, 10073, 72568, 65887, 5447, 26279, 40732, 65014, 19048, 42545, 58732, 1133, 72878, 64295, 58894, 15184, 19334, 22535, 63376, 39872, 69619, 67091, 38383, 18895, 64386, 67682, 60625, 3943, 7189, 41012, 36236, 20199, 32320, 44815, 76247, 63267, 8151, 71896, 23866, 28378, 74931, 25539, 56423, 64101, 6026, 30324, 13487, 13590, 13098, 29791, 66389, 51558, 53781, 6360, 7734, 51968, 14129, 1974, 15436, 3658, 31363, 20969, 11749, 59002, 46705, 41589, 34519, 41328, 36813, 3143, 7095, 2693, 46059, 19256, 71294, 20725, 19055, 18804, 20805, 42328, 63956, 40011, 383, 70977, 18732, 50803, 8177, 69750, 19580, 9889, 12543, 73465, 1967, 50837, 66046, 73332, 10761, 37575, 46577, 45807, 19267, 7705, 49451, 74917, 16711, 13874, 55038, 53798, 21866, 21909, 29533, 4323, 3909, 12828, 45749, 39188, 7046, 24086, 66882, 34921, 37211, 73353, 58280, 26442, 14934, 4103, 39561, 34536, 12368, 44692, 44490, 8105, 69606, 36217, 9701, 34012, 40792, 26336, 42005, 62322, 38549, 14495, 13201, 74829, 41309, 41494, 64174, 60145, 75212, 49500, 29507, 7004, 60101, 16668, 24251, 34555, 55351, 8574, 32402, 34858, 71375, 49838, 31374, 46211, 68078, 28665, 5404, 65714, 36628, 22093, 16290, 32002, 45730, 63436, 50404, 59863, 19970, 54277, 48036, 57749, 41991, 48459, 60200, 33663, 26250, 50016, 14816, 71499, 73090, 40374, 57928, 45925, 9108, 1421, 76167, 51286, 43738, 42346, 46044, 67883, 56133, 11793, 28405, 60210, 12910, 11919, 36559, 53026, 51210, 50540, 67562, 75939, 50065, 48393, 34718, 64207, 30925, 22523, 58983, 56727, 69868, 14818, 31382, 53988, 42822, 10225, 3740, 12510, 72328, 52939, 65907, 52295, 32786, 35974, 22633, 35518, 65266, 41121, 9064, 29305, 72868, 2148, 27648, 18142, 31019, 74405, 72791, 29595, 16384, 36703, 37898, 72726, 43102, 3344, 68508, 23022, 35301, 57780, 38209, 35187, 51280, 30828, 967, 30444, 437, 68530, 61027, 45050, 48058, 75500, 48630, 53647, 52765, 9571, 22558, 7003, 69806, 5528, 19930, 71943, 2425, 14342, 61624, 24672, 43348, 15573, 13627, 3359, 15482, 5794, 4976, 55437, 59227, 44345, 9538, 27076, 71909, 33321, 19869, 47946, 58674, 73235, 34628, 59691, 1910, 62281, 28086, 29934, 49975, 62649, 49486, 7258, 8398, 56698, 2010, 45340, 65070, 13892, 16277, 33008, 48748, 60521, 68913, 52101, 53292, 37323, 25190, 26957, 70913, 16787, 132, 74213, 57690, 52590, 19959, 30933, 25072, 54854, 43432, 39083, 35658, 16727, 59659, 6894, 70146, 54582, 4778, 47098, 23720, 13302, 38173, 64170, 44187, 55965, 21743, 60804, 107, 58558, 60421, 75536, 45107, 71325, 41667, 73597, 12056, 20012, 75678, 24224, 41016, 54096, 616, 41928, 4113, 30651, 46153, 66161, 69936, 37451, 35760, 61801, 23151, 56075, 35966, 54375, 39005, 39436, 55846, 17284, 74275, 10660, 51006, 23100, 71052, 2608, 65424, 30993, 62230, 49239, 17491, 12170, 21087, 37668, 21973, 29828, 30569, 75759, 4573, 9474, 20234, 73024, 5584, 25157, 51794, 73893, 30878, 13251, 24910, 38064, 63290, 6165, 18380, 64859, 56565, 35972, 11038, 71572, 49901, 66801, 71333, 48690, 13779, 15763, 45601, 56970, 29050, 54607, 53939, 48597, 75917, 2890, 41183, 3090, 53511, 1958, 32290, 22701, 9242, 70282, 7043, 62144, 20983, 37794, 23379, 24934, 70583, 74216, 48225, 57825, 55289, 37860, 13097, 75750, 6942, 458, 67015, 17114, 75395, 11627, 14692, 30675, 28538, 21814, 68394, 55980, 4631, 70867, 18189, 37609, 43357, 24402, 7103, 52026, 18516, 49174, 75619, 10811, 15286, 57321, 61281, 49205, 67075, 18492, 48543, 19862, 64811, 19683, 8169, 6354, 72473, 16246, 37972, 53931, 47328, 65211, 68077, 68878, 22501, 26110, 2917, 12942, 8374, 35939, 51940, 29750, 35043, 34606, 37620, 38658, 73250, 17213, 64497, 17897, 31819, 20678, 28322, 20837, 42680, 61841, 74507, 48006, 5903, 62830, 75886, 34777, 53904, 27358, 18670, 60776, 47832, 24690, 36325, 40887, 45298, 19974, 59549, 28784, 8762, 71514, 55512, 49818, 58766, 45659, 45836, 28369, 7677, 10576, 4214, 19209, 33060, 9201, 1085, 54157, 70050, 3052, 59304, 25930, 38402, 38688, 9482, 27378, 20267, 5127, 30528, 57961, 50852, 71355, 57116, 23224, 42403, 4228, 67444, 31609, 72751, 13721, 58422, 11976, 23199, 34942, 41653, 26489, 38419, 21287, 15784, 74846, 15221, 6058, 67044, 33890, 10329, 26659, 42836, 40234, 24209, 7319, 7467, 64, 6547, 62953, 60746, 1780, 23489, 50767, 25993, 64709, 17811, 54684, 60839, 1404, 12686, 35426, 63501, 42327, 40605, 45864, 61846, 19140, 10915, 51270, 7577, 71357, 72371, 49615, 8503, 36544, 60157, 32051, 61256, 44603, 37814, 46114, 13460, 11011, 55634, 30717, 72235, 46863, 38184, 11076, 66690, 44734, 59930, 32487, 12203, 64169, 48992, 41983, 26710, 58672, 1628, 73825, 34129, 6626, 26892, 33658, 58383, 31708, 67890, 29337, 23313, 34236, 10448, 70923, 69474, 34592, 75558, 20180, 59939, 68531, 12839, 12328, 48505, 42999, 11824, 14686, 5492, 2623, 29790, 3203, 53085, 33797, 22326, 60187, 31811, 47659, 47685, 23070, 19515, 34224, 62918, 54044, 38378, 48982, 6831, 41426, 12625, 11872, 28684, 54025, 3426, 26193, 33061, 3093, 21505, 66153, 25145, 35991, 2167, 35786, 45414, 9369, 10616, 8244, 4020, 42329, 48230, 29312, 60171, 47030, 36892, 52597, 12068, 70909, 43332, 66567, 17723, 18374, 9942, 61510, 67153, 8979, 57134, 17044, 28384, 36877, 43639, 28479, 19385, 44229, 56937, 26557, 71134, 32381, 69109, 6288, 8287, 61994, 14241, 72204, 47285, 13420, 28925, 67318, 42233, 27686, 14148, 5387, 2743, 40395, 67539, 27339, 34383, 2812, 67226, 33136, 28417, 31357, 17725, 62684, 57717, 2747, 57695, 48633, 34093, 20314, 70425, 15836, 14351, 64126, 37776, 66405, 68306, 57223, 35789, 1747, 74432, 68381, 3015, 7960, 38746, 14427, 56033, 75793, 46976, 30545, 19212, 50219, 7601, 67885, 35651, 13476, 65169, 21428, 53516, 20765, 7768, 26388, 52931, 41884, 7146, 73694, 24855, 55899, 67600, 25684, 65257, 32276, 43921, 58002, 56140, 70106, 24351, 32964, 21192, 67586, 26694, 28623, 25261, 4901, 38814, 49276, 22127, 3303, 7449, 49296, 28220, 28497, 61391, 74136, 9486, 60597, 43129, 65091, 23671, 65008, 12748, 71870, 25356, 9920, 43690, 48282, 53734, 69839, 17548, 47227, 62068, 41267, 65213, 56527, 2901, 61568, 40620, 28447, 65418, 70715, 65075, 65230, 51452, 61321, 20441, 26525, 28984, 68923, 72881, 39691, 53491, 35901, 64079, 14712, 42312, 20714, 61924, 1994, 63755, 74854, 11315, 57923, 41408, 36818, 19122, 47958, 40958, 17847, 66247, 37488, 26850, 60698, 7195, 4624, 29926, 48968, 50175, 24454, 36747, 53684, 57774, 55518, 6526, 6367, 50008, 75910, 72625, 48, 43255, 7778, 21029, 64163, 39609, 48810, 30053, 17861, 38287, 21365, 2699, 395, 71127, 24821, 28119, 52229, 28600, 59199, 52567, 12526, 39517, 28568, 45593, 7684, 39439, 38801, 12215, 14764, 35772, 54821, 57617, 55459, 48199, 72195, 9754, 36372, 1670, 30712, 48755, 26679, 55643, 41192, 4201, 29486, 67209, 51306, 22159, 20758, 59896, 44500, 70225, 21203, 47558, 65304, 2172, 63497, 3544, 174, 48738, 61297, 61243, 29181, 68788, 57440, 10017, 49755, 59491, 20854, 26449, 39268, 34580, 39787, 39937, 15019, 41270, 74685, 9289, 42809, 16936, 24631, 74902, 24335, 62687, 52427, 6676, 22669, 39353, 42612, 58810, 44052, 64437, 34260, 37824, 50847, 52782, 49705, 26598, 33627, 19979, 12656, 19630, 7488, 48950, 21447, 35421, 32780, 35342, 2949, 36086, 18168, 60538, 49045, 66270, 64706, 3614, 52514, 34545, 62233, 20044, 23021, 63025, 74204, 59145, 782, 66162, 68500, 58064, 44414, 53270, 21291, 57064, 72166, 25754, 60549, 18401, 12599, 34330, 22947, 59330, 7461, 16205, 24464, 49286, 39812, 36633, 47938, 19191, 62368, 22830, 63995, 55448, 75049, 14869, 18573, 6476, 15615, 7993, 11924, 12296, 41548, 64614, 43845, 74921, 39605, 21898, 54842, 47052, 65773, 2524, 59413, 67221, 29117, 53462, 17783, 24956, 67801, 62234, 55783, 62471, 43297, 73408, 51217, 25770, 17866, 1969, 18320, 17022, 55513, 8811, 44190, 26887, 54383, 74830, 66770, 51221, 17232, 14309, 61814, 61023, 55096, 36758, 68432, 47550, 4929, 24406, 22427, 31625, 60326, 71500, 56911, 69734, 64747, 75269, 2301, 68043, 47216, 74041, 69998, 62558, 30608, 55305, 8198, 7905, 30367, 9508, 44764, 31058, 7632, 16457, 22816, 8693, 37947, 588, 31833, 45774, 25558, 30865, 41654, 24472, 4783, 22027, 62309, 31546, 51514, 3307, 4729, 23016, 2016, 3708, 11049, 17655, 36735, 57874, 73225, 69486, 627, 57086, 22438, 10154, 32584, 5117, 52462, 72623, 73421, 50919, 42413, 69512, 7240, 3105, 14960, 47396, 66108, 53902, 2433, 24280, 8331, 75533, 70614, 57832, 57446, 74057, 30881, 55913, 31769, 45945, 6718, 76235, 651, 63625, 39406, 54253, 3154, 11191, 60320, 26152, 39529, 73166, 16654, 3856, 33660, 46764, 71975, 46306, 65863, 17495, 29180, 57950, 74524, 25636, 61009, 12964, 7967, 35483, 68702, 54820, 67567, 34214, 14307, 73114, 15738, 16358, 46209, 64047, 49436, 24879, 64814, 61647, 63160, 34199, 55214, 76263, 59734, 60128, 27106, 9722, 39366, 51397, 3503, 42900, 35243, 63374, 18517, 9103, 72535, 64436, 66025, 38193, 49909, 59288, 69652, 15883, 37596, 51404, 46715, 6203, 45417, 23287, 10471, 54589, 73510, 70240, 62107, 10212, 57322, 3764, 70216, 70210, 35915, 14560, 27730, 29552, 4875, 63645, 6140, 29096, 76055, 70172, 53896, 60198, 19502, 31424, 54652, 64018, 70894, 66513, 52152, 40470, 58247, 49403, 74239, 4430, 71136, 76305, 17275, 20922, 1702, 25233, 52169, 69877, 16804, 58767, 47672, 13946, 23233, 15765, 40188, 62678, 15996, 56307, 11845, 39292, 50897, 69803, 71796, 59454, 75590, 26858, 18864, 47178, 63137, 1128, 54222, 41259, 67478, 11119, 73243, 56254, 13878, 72938, 824, 60960, 9087, 36558, 5481, 15585, 681, 36024, 5723, 72556, 63595, 53139, 50893, 52013, 11900, 43442, 28944, 62646, 23782, 32800, 61432, 23923, 50861, 25391, 32688, 72964, 23838, 34755, 64194, 28836, 14373, 27527, 13325, 20337, 3813, 18681, 74292, 76054, 49412, 13569, 45773, 44080, 493, 37035, 64171, 58034, 57285, 10991, 42142, 71479, 61189, 58965, 5569, 934, 60710, 5550, 68341, 54474, 53394, 4538, 39495, 10115, 9587, 5918, 54969, 63637, 12849, 53032, 45118, 3662, 37165, 61086, 42828, 50597, 45213, 22519, 33099, 29789, 33870, 74466, 26006, 34368, 74269, 59960, 40905, 52842, 35622, 31771, 41541, 65214, 1736, 69287, 49648, 53138, 69480, 70802, 44513, 73401, 2942, 42902, 53439, 61419, 67792, 18427, 72124, 63228, 39794, 54291, 56938, 19884, 70435, 56822, 72932, 36061, 2294, 420, 37630, 27772, 19535, 33817, 55313, 20347, 51378, 32154, 1569, 28158, 32269, 44093, 9640, 9172, 38644, 65799, 28757, 60150, 23244, 61224, 496, 65948, 15289, 55190, 26791, 15962, 20581, 71697, 25755, 49414, 76306, 70245, 51005, 13188, 60437, 56540, 50376, 49404, 16751, 11893, 9832, 6834, 11324, 54282, 19381, 39988, 50794, 65573, 71265, 57098, 18346, 75995, 74376, 37606, 67234, 60555, 51765, 66887, 50101, 33974, 33570, 43899, 73443, 70881, 23236, 43088, 43525, 12559, 65925, 56090, 63036, 74657, 5725, 75345, 22706, 70477, 43654, 69, 29999, 7312, 47176, 35579, 59897, 7729, 64025, 39152, 26561, 74389, 45562, 51785, 53177, 11051, 22235, 46416, 18298, 18727, 18975, 15202, 36697, 35529, 4694, 69548, 75146, 21992, 47813, 75830, 64655, 17688, 28943, 3827, 17046, 7807, 6341, 31352, 61263, 42182, 27869, 52969, 45804, 15965, 43514, 10143, 24451, 19084, 7922, 15653, 52826, 6621, 11349, 46528, 64848, 54512, 73050, 28190, 34305, 51512, 44568, 50133, 70113, 21282, 218, 43553, 20331, 75176, 20352, 9340, 17848, 43210, 899, 73224, 61240, 59633, 49082, 40571, 44626, 54078, 9867, 11620, 4498, 50112, 66586, 2263, 39809, 6385, 14687, 56966, 65629, 62583, 45725, 51754, 73660, 28878, 758, 10183, 21174, 15209, 61260, 45830, 38898, 64364, 21956, 51390, 34252, 73217, 52888, 4954, 36854, 63234, 54365, 39537, 72723, 29842, 24166, 65403, 49592, 1648, 29912, 65557, 72516, 4851, 10585, 28040, 15736, 55632, 18265, 25465, 12375, 42220, 25060, 53161, 37766, 38976, 8864, 29483, 44300, 50495, 63636, 918, 70129, 10349, 63397, 64427, 41357, 72128, 73939, 37534, 12763, 2091, 58629, 46554, 44579, 45778, 23013, 36207, 38060, 66839, 10587, 67689, 30215, 42015, 39699, 70854, 45761, 57865, 6110, 59192, 46638, 59276, 52213, 37266, 53417, 76038, 59832, 76332, 61676, 15569, 37141, 51033, 13064, 72036, 68650, 42481, 69797, 42476, 73323, 9226, 48345, 54784, 51541, 23502, 74778, 3234, 29076, 60140, 46107, 68750, 44112, 72143, 23304, 49209, 71695, 3531, 48424, 34329, 68536, 42626, 31597, 16582, 28907, 64119, 14413, 56725, 7599, 7877, 73347, 38085, 8869, 4178, 18480, 62263, 9727, 25393, 29911, 15342, 15966, 4368, 55805, 55798, 42100, 17975, 52865, 44708, 66840, 4261, 30735, 3730, 7145, 3279, 60933, 51220, 23049, 4679, 100, 39141, 115, 56139, 22591, 13177, 34662, 57253, 32723, 24990, 50435, 3976, 3014, 23279, 5087, 18887, 19685, 31696, 9311, 19499, 46097, 33103, 4759, 26526, 36155, 23306, 32962, 19718, 67163, 47037, 43786, 15803, 6896, 32372, 60324, 66692, 56257, 58541, 57171, 1708, 23406, 24652, 73456, 41954, 70040, 1083, 14568, 60152, 26191, 42510, 56555, 68124, 25100, 13586, 51049, 73292, 27035, 51032, 20662, 2540, 2098, 59346, 16755, 75236, 51021, 44401, 20708, 65429, 29383, 8224, 32317, 40557, 14797, 8597, 72900, 52060, 37169, 33244, 26097, 15372, 24160, 63238, 69551, 12502, 14292, 49589, 47901, 66392, 4381, 73876, 45184, 76070, 10067, 13682, 55334, 68477, 55966, 74053, 52168, 69895, 55020, 59226, 65004, 4203, 33149, 20321, 61484, 24578, 23451, 36291, 27200, 38253, 50092, 690, 57606, 46171, 24028, 16116, 57827, 33701, 3106, 26209, 25316, 39716, 48315, 18538, 59383, 76178, 3861, 28118, 14530, 68940, 39157, 43488, 11959, 39797, 36939, 12968, 28233, 60434, 65837, 54486, 27851, 71235, 55146, 45822, 5186, 60460, 73472, 27350, 22745, 23111, 19758, 70562, 59183, 67976, 39240, 56339, 7460, 9751, 5089, 43276, 1008, 53461, 35468, 62736, 62720, 9951, 49590, 71297, 4349, 62415, 67904, 36294, 17959, 49084, 42827, 13805, 3022, 8432, 9062, 64381, 50476, 63225, 31005, 49837, 49673, 8588, 17611, 33713, 60731, 7682, 36917, 75184, 60279, 34867, 21697, 39400, 9875, 11504, 31235, 36186, 9725, 61992, 55959, 47488, 44087, 25688, 40787, 32884, 52695, 75044, 14991, 34446, 69394, 23567, 52372, 74100, 19885, 15942, 27504, 19162, 49713, 63384, 73547, 54183, 46626, 48896, 38389, 44115, 56186, 12716, 23241, 6738, 46259, 66874, 59988, 6365, 41039, 63400, 58438, 51781, 38455, 15517, 67281, 74088, 61125, 7547, 23332, 21978, 27318, 40734, 34010, 37107, 45285, 62046, 75756, 34533, 46793, 30692, 14939, 11713, 75270, 4804, 56741, 22637, 5586, 43152, 23798, 40516, 50658, 31121, 64083, 45638, 1541, 40942, 32690, 43782, 40052, 11496, 51066, 17527, 44318, 75936, 44423, 71958, 75338, 43172, 9300, 1787, 6412, 75084, 66790, 53465, 57936, 11721, 6175, 21941, 44154, 195, 49476, 4470, 44332, 73390, 14569, 25986, 43466, 25870, 23830, 12394, 49892, 69232, 68188, 29088, 21219, 58333, 2601, 48049, 62806, 14694, 46314, 16678, 38692, 48030, 42677, 39759, 37242, 51236, 41779, 61454, 48244, 56908, 66251, 54467, 73761, 32851, 57864, 39791, 9117, 10228, 22240, 51691, 61369, 784, 34226, 7196, 7680, 19269, 16015, 69407, 30721, 1163, 47374, 72706, 24425, 7444, 31130, 19627, 20778, 13081, 69277, 59048, 16211, 43249, 54521, 9035, 6014, 56474, 51275, 60912, 26706, 23814, 39354, 6615, 61728, 15000, 4677, 27221, 13203, 2530, 37308, 14471, 75953, 20370, 64988, 11747, 38752, 30006, 67383, 58378, 66574, 40532, 14518, 41558, 69712, 42234, 12003, 28065, 61588, 34380, 58594, 11231, 36718, 38775, 59367, 27143, 3280, 68503, 5590, 41062, 60593, 40030, 60196, 20067, 3910, 34044, 50823, 7139, 14928, 34752, 5647, 56967, 74661, 28156, 70415, 68590, 31729, 18294, 74867, 59556, 55085, 11077, 66209, 41623, 36951, 24933, 51982, 30564, 58324, 23903, 31686, 15446, 65497, 5986, 38377, 10620, 66042, 48371, 68969, 66995, 23175, 12445, 39687, 45520, 2750, 15499, 24273, 5035, 23920, 16978, 43933, 37403, 11101, 10083, 12187, 40369, 50498, 25508, 55562, 15506, 35692, 18481, 19260, 46767, 13012, 74731, 19404, 7235, 37624, 27396, 19268, 7850, 54957, 74935, 44980, 44135, 39706, 36506, 75474, 30179, 10091, 55219, 2320, 30579, 57067, 43881, 13018, 25795, 46934, 32035, 51854, 30821, 10253, 39643, 58472, 46328, 18043, 64014, 39507, 29289, 71788, 45360, 70287, 38422, 35209, 53897, 67944, 8188, 4800, 14884, 59518, 11000, 27624, 70640, 15769, 32748, 24997, 2102, 62145, 18145, 26022, 26220, 2672, 5357, 65555, 21530, 12236, 36021, 54999, 61180, 54620, 6673, 61881, 69036, 1481, 58853, 10734, 52310, 6356, 43465, 21151, 32498, 56073, 6905, 69221, 9025, 49904, 63628, 10843, 65522, 12427, 30083, 17193, 65237, 26556, 2851, 468, 12477, 38935, 44508, 18129, 5637, 48028, 64021, 64205, 58311, 51744, 16870, 71176, 29880, 21406, 72714, 29513, 47527, 8336, 28968, 15414, 1068, 16910, 30733, 42861, 1252, 21950, 70448, 34713, 63405, 20665, 50804, 40626, 6159, 39202, 62416, 3508, 62715, 11228, 25765, 59585, 62817, 36261, 57578, 61593, 57643, 34448, 52700, 59431, 42585, 28526, 43388, 44484, 61970, 64738, 42762, 66795, 62037, 14969, 9284, 26477, 2881, 49693, 31948, 10790, 25362, 29021, 38132, 40488, 42805, 57305, 66674, 2752, 37109, 62923, 8012, 5748, 49069, 28113, 2870, 29850, 12854, 40669, 30585, 41222, 7121, 76208, 32762, 7694, 62734, 67433, 57990, 58165, 38069, 18554, 31785, 32817, 29858, 60299, 41246, 37152, 59240, 64168, 5775, 74996, 64623, 66292, 22444, 5384, 1142, 24535, 60620, 64650, 56535, 73844, 63214, 58793, 44337, 12239, 1973, 62866, 4799, 60339, 12740, 39324, 30158, 67483, 66428, 46794, 63256, 42800, 74641, 73227, 53378, 38038, 8295, 22005, 52183, 5194, 32777, 66331, 12186, 11989, 60323, 18126, 29434, 15416, 36631, 23044, 70579, 60246, 30665, 16628, 59767, 66850, 71191, 39161, 14201, 44014, 38043, 44560, 33178, 43244, 56939, 5668, 52249, 58658, 9000, 29082, 15079, 57944, 10888, 17911, 14710, 73369, 34670, 3862, 62247, 26579, 644, 65189, 64188, 9337, 1882, 54997, 65046, 75107, 37498, 61812, 55697, 47222, 69069, 53118, 43469, 40530, 14172, 52510, 37780, 46111, 71200, 9719, 4340, 72611, 66753, 48773, 25525, 1892, 60363, 44218, 14768, 66924, 10989, 22851, 54092, 7524, 25182, 64157, 39831, 68594, 48335, 35738, 22710, 74975, 69339, 24491, 26861, 41407, 69568, 5417, 38577, 67255, 15, 8829, 9438, 48868, 2312, 43629, 45912, 49263, 75407, 30434, 38289, 13958, 23216, 64513, 58182, 31404, 2325, 57797, 61584, 34343, 62883, 62710, 51608, 16881, 53713, 36800, 36958, 10664, 14137, 40257, 4387, 74155, 4050, 53187, 74193, 40290, 45248, 54264, 22868, 73574, 50341, 58288, 38850, 4416, 43885, 17348, 8381, 17128, 62091, 33170, 68793, 18358, 46393, 10337, 33707, 30262, 18886, 53770, 46522, 49421, 54317, 50988, 33888, 41582, 4411, 66622, 47298, 28924, 12556, 31303, 46466, 25173, 74972, 73617, 49863, 42494, 73539, 39960, 49876, 2206, 47007, 15535, 19866, 3616, 74746, 53436, 44320, 52666, 29237, 15330, 39270, 66005, 33001, 39669, 24199, 42034, 51937, 19584, 10544, 44880, 45491, 46203, 10400, 43799, 54980, 23403, 19957, 68089, 26961, 24429, 70679, 51913, 63762, 53104, 67758, 27048, 33924, 31314, 37173, 29938, 8232, 51134, 55076, 42830, 53806, 23080, 14970, 75457, 1866, 69327, 47482, 5717, 16615, 57623, 68326, 32335, 50002, 75250, 40858, 28565, 5908, 10273, 63372, 75945, 2358, 18433, 10919, 14706, 55167, 54880, 943, 47061, 53701, 50876, 55522, 65197, 30815, 10488, 24563, 18628, 79, 34694, 35092, 56259, 13862, 45632, 46730, 65112, 9885, 54059, 35192, 70735, 27725, 50730, 35950, 70746, 63650, 1606, 49020, 54205, 27063, 27604, 32869, 67737, 15136, 25080, 55747, 273, 33100, 55607, 10415, 69427, 22618, 2679, 19901, 31662, 68938, 6577, 62993, 23583, 7000, 26602, 5553, 58010, 54054, 4025, 24023, 58838, 72177, 68757, 22344, 69065, 17895, 73394, 31461, 46299, 36012, 24448, 21496, 25142, 15753, 72278, 33855, 43946, 31462, 39633, 45493, 60752, 71300, 59771, 13621, 3825, 64753, 67076, 43316, 65095, 46561, 13079, 27932, 4546, 5329, 1346, 29201, 63231, 877, 17794, 54752, 16135, 16323, 10046, 28141, 73437, 44570, 12356, 31750, 7516, 43440, 75635, 73745, 13850, 74717, 30430, 73604, 32771, 56835, 50299, 15689, 37744, 41600, 50287, 65897, 2220, 69622, 20958, 5579, 5649, 73532, 27363, 18653, 50827, 35548, 65469, 39003, 12902, 59393, 9177, 61087, 35734, 52015, 42004, 57005, 61892, 31580, 25312, 64166, 43698, 39171, 66780, 59697, 11209, 7789, 1113, 11054, 48116, 33450, 60027, 74099, 55302, 49136, 40870, 64715, 52861, 24644, 59990, 67927, 51819, 16086, 72770, 60686, 65613, 17829, 66503, 27354, 38496, 17958, 31082, 20431, 22871, 30148, 35075, 53554, 50824, 59657, 71680, 62741, 70114, 24957, 4641, 52475, 22646, 74259, 51650, 11169, 45469, 13515, 52494, 68348, 23112, 42080, 63382, 60348, 33777, 20598, 2050, 7388, 61800, 19144, 15882, 10195, 23820, 31117, 44683, 69959, 72563, 23536, 9223, 59024, 11764, 17850, 17450, 39513, 41150, 39075, 22008, 47662, 57994, 62750, 63927, 7792, 73106, 41007, 7292, 27007, 18914, 51273, 8719, 32991, 32131, 26520, 20282, 7130, 60243, 62347, 52757, 34786, 64716, 15098, 39714, 51926, 7002, 59925, 47219, 12626, 52132, 37916, 73733, 37775, 67652, 62847, 6405, 12139, 73256, 20800, 2333, 68460, 4847, 39532, 74366, 11966, 55059, 61145, 13573, 54963, 58410, 21720, 41135, 18841, 5472, 39926, 22085, 9573, 39764, 65500, 22661, 3750, 21181, 70657, 63738, 68070, 67844, 24850, 47524, 74878, 26290, 71738, 66240, 44296, 54118, 6842, 26463, 57356, 62527, 5320, 17928, 35224, 26108, 63525, 11951, 50720, 31641, 60031, 63868, 73311, 52603, 7326, 26253, 64344, 65154, 65689, 28103, 18041, 20704, 75028, 34456, 30137, 9872, 75093, 57252, 44595, 9807, 33482, 52403, 23642, 50010, 28354, 18368, 8528, 49475, 69266, 46775, 33647, 12261, 8998, 14479, 40971, 10487, 75223, 9994, 62886, 50848, 56308, 10302, 12030, 3236, 35161, 27577, 30070, 32831, 50754, 50339, 71966, 1608, 39943, 8413, 41632, 36104, 45753, 48682, 75789, 25018, 243, 3589, 15922, 52907, 68479, 39430, 61616, 59050, 8749, 58941, 20415, 443, 49184, 22848, 41284, 6549, 20501, 8566, 75828, 7034, 71180, 463, 28811, 14845, 27357, 66930, 14925, 5535, 59638, 55026, 58800, 36743, 61541, 21559, 37565, 15691, 9465, 36726, 64906, 56833, 41142, 68311, 21443, 53413, 37212, 33575, 33930, 38127, 41808, 17265, 51341, 16543, 8182, 36197, 55918, 56658, 1454, 28430, 46161, 72754, 32395, 21575, 59842, 63830, 16998, 25807, 56466, 14535, 22218, 57920, 64065, 24438, 28091, 62908, 1763, 58084, 357, 63905, 69370, 44856, 16622, 25255, 41855, 44067, 39052, 36489, 17288, 30219, 9544, 47017, 52158, 3731, 14108, 70209, 23320, 14924, 26231, 13705, 31472, 74817, 11329, 40349, 69881, 15109, 70852, 4223, 24055, 1810, 17513, 2342, 55263, 7611, 45558, 63813, 33883, 22568, 44062, 41870, 67218, 73743, 69927, 16718, 27933, 66761, 75097, 58513, 47028, 34975, 57320, 8326, 60153, 53099, 42423, 24400, 52723, 59574, 72358, 63375, 9383, 40485, 64960, 12033, 4532, 27757, 34483, 67, 25769, 55394, 23929, 37543, 47984, 71047, 42294, 62922, 72284, 68958, 36062, 47416, 1145, 8603, 24434, 4206, 36520, 16529, 43597, 69162, 362, 38704, 15568, 58936, 1679, 57430, 25885, 9070, 69470, 31330, 20045, 75433, 33023, 5391, 43734, 54741, 60022, 60382, 15169, 67770, 50444, 70698, 4852, 28950, 60327, 4264, 71318, 8025, 53014, 64969, 71412, 67893, 33781, 75161, 24607, 26141, 47768, 14850, 38739, 19008, 59826, 19944, 26508, 16623, 67810, 37477, 44745, 55829, 46145, 61173, 53203, 51848, 2512, 12961, 36251, 15992, 74546, 21716, 24769, 11892, 19349, 8518, 61100, 75858, 42554, 67434, 75013, 44089, 32396, 56561, 39971, 43949, 66782, 589, 49931, 45884, 70804, 46472, 21202, 26830, 26848, 67431, 52773, 62765, 65196, 70293, 27773, 54780, 75022, 176, 17119, 33800, 10120, 336, 65294, 73110, 5566, 1924, 9787, 24598, 5422, 35097, 204, 31, 12122, 51422, 50236, 32758, 54115, 52748, 51884, 1754, 61975, 57118, 38315, 39500, 24202, 31809, 70719, 23699, 21437, 61644, 47204, 59570, 49935, 73080, 66620, 4181, 52778, 9072, 55137, 23055, 75651, 33153, 21424, 33290, 66015, 52098, 66755, 18016, 25083, 29767, 63945, 24693, 48959, 71641, 57733, 65232, 51392, 30711, 40312, 11163, 37697, 37594, 72528, 18246, 39193, 33391, 61471, 49356, 43905, 21168, 40151, 27598, 56131, 12231, 46193, 74447, 4304, 72038, 64435, 40501, 36306, 73950, 35089, 33735, 36285, 50479, 67784, 59755, 27064, 45519, 41768, 47807, 16497, 29152, 34700, 28395, 4234, 11692, 31571, 9898, 7252, 50428, 22346, 51348, 61373, 31820, 55336, 18449, 37441, 7660, 74300, 65638, 58750, 19793, 35719, 75503, 25333, 6669, 13844, 68383, 68675, 72669, 68423, 32222, 22940, 64751, 62804, 43660, 1268, 39257, 5469, 29423, 33673, 55763, 51187, 41979, 21755, 64896, 37258, 35018, 22132, 23522, 61729, 48489, 57476, 54962, 17818, 41501, 28852, 38374, 28128, 7899, 61549, 45361, 9083, 21036, 73286, 15648, 22603, 41869, 32110, 10025, 18630, 3995, 31841, 27405, 69452, 50474, 59232, 19289, 51831, 43840, 67066, 25480, 22298, 63271, 30817, 23998, 70724, 18566, 2562, 47906, 57757, 30004, 43246, 54082, 32855, 18191, 36913, 28247, 25458, 52906, 53017, 11135, 38978, 44462, 44857, 59682, 37157, 7597, 24648, 9759, 1529, 41395, 32721, 73454, 58586, 15179, 33173, 64926, 52115, 68935, 4839, 8213, 17998, 39311, 21871, 19920, 71062, 32642, 65001, 56550, 36911, 31886, 37513, 12381, 29696, 6229, 65242, 1600, 19706, 51175, 69966, 22676, 28671, 70417, 41141, 49787, 18836, 5452, 42197, 43097, 22029, 46006, 49304, 61682, 14701, 48542, 67415, 16169, 53595, 50306, 30853, 32347, 7066, 3169, 67257, 64273, 60996, 1766, 30523, 35157, 39739, 49545, 17336, 39912, 46261, 35649, 45464, 14136, 72919, 43870, 32676, 14290, 19988, 17882, 68903, 72683, 17164, 54688, 26383, 46407, 20579, 22930, 50793, 17705, 2678, 52111, 8496, 61587, 35818, 19701, 28918, 61088, 31250, 74544, 9883, 19491, 10998, 61987, 75242, 24225, 24506, 24179, 52797, 20822, 38411, 13001, 3752, 10134, 22682, 16785, 1852, 18834, 44381, 60715, 39492, 12251, 4377, 19159, 8726, 21854, 53678, 39072, 14468, 57109, 47266, 42255, 37287, 66988, 48125, 45128, 21921, 57370, 47637, 5656, 50829, 73587, 41617, 6399, 31822, 61784, 70604, 68505, 65570, 66282, 54502, 71004, 57823, 51770, 44362, 73592, 68964, 34651, 74920, 23109, 56513, 23793, 9005, 16032, 9174, 8798, 69031, 74841, 33348, 56150, 2130, 26697, 22071, 9336, 21857, 58993, 56763, 44302, 60024, 3561, 40426, 4996, 50461, 23062, 11080, 51539, 32122, 23688, 56523, 75405, 53968, 68708, 53994, 53826, 56459, 16184, 18009, 42248, 49736, 17749, 43602, 55481, 2025, 50555, 75827, 65286, 3368, 11114, 42447, 63806, 47119, 74734, 16159, 32740, 68024, 19336, 9176, 12099, 49941, 19481, 56543, 45348, 44350, 34249, 54353, 12791, 54782, 76232, 49905, 60165, 38900, 6578, 19837, 57366, 72314, 53352, 73847, 16967, 37795, 75228, 20915, 62090, 59332, 73517, 9516, 17581, 10, 63721, 51244, 18125, 31875, 53256, 34055, 10454, 10568, 52772, 33754, 71818, 14090, 25836, 63016, 18027, 51734, 66068, 46499, 8555, 6201, 61991, 30997, 59372, 74223, 51743, 22050, 24364, 19364, 4348, 61229, 21774, 7604, 4533, 75472, 39261, 34086, 40966, 57922, 20250, 60095, 40354, 43772, 71756, 8173, 11915, 35685, 62154, 69417, 14868, 35704, 61114, 10139, 27880, 43780, 6619, 51685, 29666, 13038, 30273, 74500, 39098, 70994, 67527, 42418, 75346, 17639, 37319, 49247, 57001, 52320, 20107, 73744, 13609, 38494, 39951, 37357, 10692, 20034, 75836, 63632, 42704, 60808, 40859, 20189, 22311, 56751, 36819, 4481, 19510, 19511, 64496, 69666, 53303, 6761, 71237, 29028, 51706, 5409, 1611, 74063, 59153, 73527, 49232, 49243, 32553, 37001, 70741, 64418, 16717, 9238, 61703, 62050, 24338, 25617, 44680, 60937, 17675, 43731, 48124, 22598, 73890, 38537, 66304, 11547, 43540, 13652, 11019, 12830, 5825, 70277, 24301, 65036, 17269, 32998, 9398, 37050, 6568, 828, 5616, 11670, 40144, 75189, 34830, 24068, 73252, 65482, 65386, 34829, 46543, 46475, 42435, 28723, 19308, 10577, 12911, 12450, 6215, 50907, 20329, 2012, 68156, 4001, 65238, 9052, 53133, 46155, 70082, 11238, 16493, 8395, 75954, 23475, 18052, 61702, 38793, 68839, 23381, 54886, 47559, 27791, 47393, 31470, 70034, 37345, 32068, 793, 11332, 35592, 47792, 71431, 2966, 388, 68598, 22317, 66319, 66665, 22274, 33893, 62428, 17389, 50070, 72103, 75741, 47458, 10561, 17667, 13422, 3355, 32054, 30937, 27743, 65574, 5000, 58919, 74001, 51675, 62375, 24842, 59191, 55978, 61974, 42246, 40000, 60100, 13984, 21874, 72788, 39196, 26587, 70581, 9173, 16589, 14955, 48060, 70734, 65306, 32679, 27918, 9307, 26755, 48750, 15301, 27262, 10695, 498, 32073, 12213, 73886, 46772, 16715, 28423, 73075, 62798, 68063, 21167, 48965, 57677, 71327, 57685, 63740, 12224, 49575, 11122, 75931, 38166, 49004, 31464, 58458, 49030, 11203, 29022, 51581, 30720, 25534, 56225, 26716, 35520, 59757, 19430, 8704, 7637, 28146, 1641, 20483, 44897, 7300, 17377, 24597, 10170, 6283, 28899, 56932, 41435, 64358, 640, 9009, 70466, 35907, 29160, 59736, 12197, 50695, 32387, 73943, 74695, 36406, 41031, 75259, 25144, 2281, 61936, 51342, 24117, 42059, 74195, 71977, 60420, 32693, 24128, 13929, 31547, 10629, 49859, 9785, 4266, 28844, 30217, 29556, 52638, 8784, 74459, 9331, 31063, 70662, 67047, 49119, 18028, 26592, 66301, 27939, 9561, 64052, 688, 58534, 54558, 15317, 28810, 51907, 62933, 46530, 41679, 3097, 3076, 55431, 10480, 14438, 50328, 64474, 11569, 48540, 3983, 63526, 4595, 26779, 76006, 21782, 11146, 29297, 57473, 26583, 17043, 13933, 23569, 40382, 55579, 41025, 35026, 44131, 27123, 37602, 66167, 36955, 69804, 33980, 63654, 31278, 2182, 62950, 47698, 44470, 24948, 34688, 52816, 11097, 28638, 37797, 29273, 56660, 68707, 66884, 9863, 58657, 35868, 3458, 5257, 30187, 9509, 33339, 53963, 4755, 10003, 49077, 52242, 18059, 9255, 38347, 51052, 15607, 37301, 52689, 5224, 6443, 60747, 5055, 52176, 62651, 74594, 65583, 62130, 65664, 49290, 50156, 2772, 1082, 45172, 5971, 24671, 1175, 3562, 34907, 62522, 48838, 69386, 49238, 33260, 23548, 30097, 33203, 28992, 14614, 63687, 40833, 56944, 30635, 54733, 10518, 39822, 46442, 3, 36972, 21885, 58013, 70220, 60576, 33116, 21432, 33359, 5623, 12330, 5241, 54988, 26825, 47332, 17494, 25232, 61606, 2637, 54836, 65485, 61551, 53895, 17799, 28061, 73151, 67569, 36095, 76335, 11014, 4690, 13941, 12604, 41504, 30696, 8024, 26688, 12008, 25658, 67585, 9894, 37235, 5419, 27917, 13003, 42643, 44575, 33525, 49482, 50227, 39466, 43227, 50087, 30866, 3759, 9073, 25928, 51298, 5496, 68056, 3331, 34870, 68718, 25007, 6235, 20098, 21665, 34596, 53412, 24687, 45633, 37365, 49220, 31113, 55570, 10158, 69093, 27854, 18210, 57390, 67119, 47612, 46343, 23422, 71614, 23291, 24874, 6972, 46351, 42140, 53610, 9831, 11616, 32973, 60398, 70841, 37907, 60601, 69617, 60932, 46908, 60350, 7823, 14023, 22327, 1755, 72735, 57664, 49521, 65525, 17909, 9443, 57379, 10150, 28496, 74012, 67036, 47, 60678, 72689, 3205, 66584, 32610, 76190, 21360, 70101, 54540, 60519, 33138, 59650, 70610, 72015, 35750, 52550, 41662, 10157, 40574, 33111, 10465, 41321, 70170, 23449, 63874, 75323, 72332, 42089, 28070, 73836, 63494, 43323, 59928, 44192, 1006, 37749, 44867, 43922, 51013, 72029, 2272, 57046, 11743, 73955, 75453, 18157, 13540, 34951, 68492, 10865, 34489, 63381, 43510, 74940, 4117, 39567, 17398, 12287, 175, 49240, 68164, 24621, 67591, 74850, 31615, 55736, 30313, 21649, 72524, 72592, 23794, 937, 12509, 60980, 40836, 64378, 53908, 15254, 52417, 7848, 50674, 67019, 72785, 38203, 70070, 37707, 22101, 60810, 8895, 46622, 10373, 67414, 2283, 23745, 66020, 29480, 16099, 18156, 18447, 14671, 7480, 56121, 75507, 53222, 69479, 8470, 40306, 6801, 46160, 54751, 3793, 53153, 62714, 62260, 25243, 35459, 38079, 22319, 2887, 12767, 978, 23540, 229, 68801, 47129, 26493, 16761, 73221, 62862, 45230, 8519, 42512, 33694, 50348, 17826, 50812, 23869, 73480, 39414, 5247, 27984, 47056, 30568, 17317, 65989, 20751, 3755, 48756, 26928, 63385, 36586, 40888, 17224, 68013, 35987, 35211, 27941, 65632, 70474, 25385, 22819, 5800, 43621, 16696, 38646, 16347, 40163, 19177, 57483, 8828, 25252, 34231, 50544, 5515, 72152, 67664, 18201, 30544, 58237, 18675, 28127, 30807, 62406, 62869, 21714, 56656, 30567, 59000, 8088, 59784, 69385, 16780, 16961, 69573, 561, 6629, 52445, 68274, 63765, 58172, 8502, 44695, 69511, 34223, 66285, 42226, 66967, 76292, 45084, 32450, 17132, 47890, 58009, 55519, 14501, 60701, 55189, 39184, 25530, 55101, 73689, 56295, 59762, 12158, 24135, 75705, 54135, 40250, 54031, 42340, 71617, 66061, 64805, 35797, 61590, 16012, 71245, 14203, 37113, 72131, 62544, 73426, 8972, 39810, 18565, 15673, 45850, 23114, 1557, 9332, 65621, 49415, 47261, 47957, 19311, 31902, 5068, 75656, 10655, 49952, 27775, 23557, 65732, 29193, 33609, 7125, 46332, 18079, 2596, 4459, 42983, 23885, 36074, 13971, 25473, 69208, 51475, 4915, 1403, 48589, 16674, 67028, 48065, 60876, 42472, 36177, 27732, 71441, 11304, 25212, 37149, 44668, 38242, 67896, 49650, 14200, 33590, 5303, 38528, 65399, 23254, 14369, 31893, 6287, 57870, 47433, 42083, 53815, 53854, 18158, 54293, 9410, 54387, 70542, 30999, 2696, 2624, 9563, 29570, 68549, 74201, 25200, 63200, 22151, 11183, 62315, 25425, 59726, 23817, 24418, 11178, 74005, 23067, 8323, 1430, 36315, 51095, 14513, 38717, 41349, 93, 8293, 62319, 7067, 34349, 74894, 18279, 39279, 46582, 52636, 52333, 39136, 66666, 34000, 10742, 46266, 70364, 42168, 71961, 44203, 67494, 10775, 39788, 56386, 5066, 60361, 2677, 34378, 17396, 32518, 33833, 60536, 58456, 36350, 10697, 7302, 2354, 24095, 44352, 8753, 65761, 22635, 64242, 72013, 33814, 56814, 24642, 51800, 33266, 61396, 15600, 38250, 76296, 60723, 61308, 73780, 43707, 28532, 74072, 18345, 43291, 20525, 51957, 45173, 70818, 34463, 69272, 6426, 66248, 62323, 30482, 13240, 12753, 34892, 20178, 68648, 56417, 52438, 61716, 6217, 37076, 22269, 34257, 43406, 13447, 74257, 64211, 66138, 42006, 10315, 65261, 42067, 34717, 19151, 65965, 14489, 60875, 8135, 63171, 46175, 3929, 26361, 58638, 54295, 20739, 2806, 9343, 51353, 46252, 5898, 37278, 22902, 20193, 69002, 5916, 74839, 58903, 50714, 75007, 10635, 10029, 61231, 67232, 20018, 49928, 1324, 2911, 67806, 71117, 44742, 21426, 49841, 47067, 23014, 72348, 31162, 16417, 15768, 67983, 52600, 13563, 16003, 67813, 67375, 37238, 43212, 32004, 40756, 72572, 31900, 4541, 50304, 55876, 7574, 67595, 14400, 36779, 69634, 73716, 2404, 24341, 55777, 19002, 51759, 38148, 41834, 65111, 22606, 8801, 20848, 28847, 63631, 40015, 26413, 61614, 35604, 44986, 60300, 23653, 68047, 50964, 35003, 65069, 24818, 28731, 75912, 34144, 2996, 43730, 73362, 71251, 42577, 69462, 9907, 22170, 51223, 55654, 32361, 6005, 28664, 3864, 69654, 15688, 12167, 67014, 22789, 24602, 7619, 52993, 5574, 34169, 6424, 41815, 26660, 42713, 22494, 35916, 71827, 36993, 45182, 12162, 67474, 18316, 18920, 47622, 57666, 55832, 847, 61351, 7431, 7414, 39880, 35994, 66431, 54198, 3944, 49264, 67135, 62069, 72196, 66126, 32499, 13694, 28605, 42790, 35803, 23900, 30143, 62486, 24244, 27224, 40420, 20710, 10266, 53805, 34609, 47106, 3488, 7678, 5589, 21445, 64878, 13326, 69987, 45175, 9710, 68079, 31874, 28978, 41318, 75455, 38191, 4909, 53260, 54055, 42866, 50111, 47497, 71843, 68997, 48062, 60346, 36626, 60391, 32565, 39092, 33110, 9526, 31563, 61360, 7998, 76087, 34534, 37492, 24363, 37027, 43180, 3955, 33045, 61898, 20661, 47102, 68649, 31564, 28754, 54624, 6671, 32376, 20129, 9396, 17613, 49553, 12606, 63991, 16, 4918, 56409, 42605, 55929, 54131, 50324, 69129, 17227, 52196, 13446, 7880, 67837, 68153, 11150, 28344, 64501, 48172, 73914, 13125, 44088, 48369, 26762, 13080, 69411, 72276, 25760, 27724, 35634, 32346, 23916, 70475, 34490, 35429, 36776, 44427, 9715, 25216, 75232, 8485, 54587, 73736, 73413, 56299, 39801, 24835, 40975, 22487, 18124, 62607, 28593, 45235, 67378, 75700, 6646, 36998, 59112, 25756, 9479, 43547, 5678, 51693, 11460, 18676, 33267, 8882, 13949, 44084, 9202, 75979, 10941, 70451, 54745, 7927, 49792, 13604, 65750, 42486, 59080, 31548, 11742, 71083, 37039, 63459, 23975, 66252, 31093, 27218, 17507, 34729, 47950, 2343, 31697, 57747, 1753, 70623, 55055, 60097, 15859, 19628, 23795, 22638, 5587, 65688, 27782, 59504, 40611, 62515, 63003, 67107, 63940, 33157, 60148, 22605, 51297, 28126, 75673, 71602, 23231, 17304, 308, 3495, 14836, 44523, 36894, 75740, 5229, 12972, 31648, 14883, 23118, 29753, 57646, 14466, 36139, 23077, 25818, 13574, 59152, 60730, 29234, 10753, 20542, 7345, 20835, 41865, 66508, 17556, 64508, 50318, 65479, 23713, 47232, 31098, 10144, 15205, 55024, 70535, 31967, 71054, 43741, 21712, 70795, 10901, 57189, 48481, 56634, 70183, 28230, 65801, 68529, 44794, 65055, 68980, 57951, 53102, 71599, 5888, 60388, 47825, 51694, 67101, 41577, 3255, 62292, 14676, 3618, 38068, 74127, 26367, 38650, 57027, 53720, 25638, 67881, 33825, 9703, 41264, 31781, 51117, 35979, 12915, 49144, 23946, 52908, 8040, 24109, 30195, 8120, 43101, 64445, 42099, 43603, 21053, 35753, 75913, 64877, 34804, 16929, 74359, 48161, 64674, 29869, 58869, 31603, 13966, 7520, 73569, 28185, 68546, 36223, 74247, 47463, 54867, 10496, 47693, 27304, 3463, 23811, 46046, 58486, 57952, 28974, 17161, 55253, 14846, 56313, 31173, 66862, 17060, 19226, 51616, 33756, 51612, 22990, 58962, 23150, 25743, 31125, 23454, 75399, 6329, 4438, 74429, 65774, 43735, 61288, 54874, 31520, 72634, 10322, 48508, 2951, 11755, 27749, 14847, 37793, 34244, 40302, 67799, 55655, 38701, 45019, 49260, 5624, 36677, 32787, 28841, 10977, 14463, 42156, 48256, 20972, 40253, 76008, 70920, 16195, 16482, 12456, 13562, 11171, 27071, 8488, 23906, 30461, 58581, 30741, 66672, 65405, 51416, 74373, 68759, 35226, 75408, 56767, 61147, 40208, 53265, 47879, 38875, 24266, 51478, 41313, 37489, 62534, 25207, 41759, 2259, 45674, 70302, 31463, 48600, 58452, 44849, 6785, 11210, 444, 39683, 53947, 23212, 1828, 33379, 30084, 28977, 63620, 33072, 1582, 8382, 54810, 33392, 48316, 48094, 47088, 28983, 51812, 14889, 51377, 14283, 14422, 52759, 42587, 67780, 69762, 40980, 38471, 16766, 49577, 15683, 711, 68584, 28658, 33962, 48882, 1742, 69832, 14956, 22133, 8158, 42856, 11126, 56454, 63108, 48149, 30397, 62373, 15558, 33415, 59371, 60042, 72583, 2984, 25876, 19408, 62414, 45306, 60192, 52118, 58938, 5142, 18366, 74753, 36188, 38276, 14095, 27012, 34604, 62138, 32088, 54016, 71577, 4761, 22263, 3615, 30876, 35423, 23639, 50165, 64632, 76344, 19883, 36874, 34096, 28851, 18077, 31469, 20554, 41755, 15530, 60184, 22499, 50423, 51918, 42391, 34696, 49147, 3455, 44224, 10477, 15151, 41167, 72330, 34658, 59150, 37554, 52126, 35796, 56241, 53097, 33384, 4642, 5376, 51047, 54077, 75311, 37119, 40643, 33654, 10449, 51942, 31213, 26486, 74303, 36618, 27544, 27914, 12887, 1168, 10069, 35675, 66026, 69224, 52240, 14130, 26264, 56122, 35474, 42589, 38392, 15067, 21131, 1343, 12094, 8278, 35371, 48077, 24115, 57853, 9353, 34269, 66939, 52237, 31036, 14450, 5399, 53753, 61200, 39399, 45518, 61853, 49456, 5261, 19274, 20571, 60175, 43114, 11831, 5435, 67190, 1773, 72151, 37701, 41226, 15177, 32533, 38295, 39652, 39086, 3612, 16006, 10579, 62875, 57170, 57345, 33237, 50996, 44034, 36111, 4550, 48440, 25547, 44782, 193, 54975, 20736, 64081, 51656, 61984, 52385, 17152, 24198, 26140, 20154, 60963, 29659, 2994, 24710, 72430, 68278, 43405, 21735, 683, 51552, 46388, 43449, 27882, 6474, 60605, 39546, 1827, 75634, 57049, 38224, 14691, 20396, 42412, 74141, 11041, 70142, 1345, 73822, 34102, 29929, 51758, 16831, 16258, 67104, 8890, 18470, 12959, 64551, 26952, 41204, 43467, 65126, 24430, 524, 13314, 45547, 57669, 24699, 55192, 12011, 9026, 52809, 55732, 34461, 63891, 60066, 72529, 4380, 21204, 26077, 28060, 71309, 61528, 69878, 43720, 32802, 27858, 17205, 65806, 6877, 72381, 56272, 45965, 12553, 33853, 74379, 13257, 4616, 42540, 11482, 62728, 74408, 42774, 55875, 28680, 28193, 69200, 70233, 62203, 36770, 21451, 55317, 19319, 54562, 74525, 13723, 48515, 43800, 30750, 32987, 15157, 56759, 13760, 68624, 24689, 29760, 11599, 22398, 33021, 10121, 25317, 21405, 9348, 10612, 44536, 21064, 68447, 68418, 7217, 51211, 27677, 10957, 31172, 42323, 63275, 19366, 33092, 5537, 71354, 15971, 53389, 5164, 60306, 33185, 25093, 19152, 65053, 46738, 25387, 48405, 75727, 10776, 2284, 36369, 66259, 51615, 28224, 58111, 64140, 68129, 26139, 29705, 64749, 10876, 69763, 35138, 8940, 53726, 957, 36903, 13400, 64102, 73109, 69328, 63466, 40944, 71390, 45841, 36476, 12913, 55296, 58862, 49994, 29652, 63062, 29868, 50401, 67055, 5215, 75694, 23176, 41613, 60376, 30164, 16084, 57347, 9131, 74697, 5761, 43243, 36932, 5769, 48754, 50697, 46639, 47353, 38527, 52431, 72312, 44657, 48120, 52571, 12174, 33721, 61998, 53652, 18590, 11836, 35830, 73811, 30493, 15489, 60484, 34147, 19326, 4504, 3423, 5140, 41057, 68541, 12290, 35444, 32727, 12794, 11918, 46182, 25917, 67828, 23288, 74965, 61511, 47093, 67352, 40537, 9651, 10724, 66469, 51069, 8458, 72507, 14800, 54336, 48783, 26636, 8966, 41014, 60829, 48135, 13698, 71388, 62224, 70480, 42718, 35733, 32618, 11711, 69191, 12409, 55912, 32415, 5702, 43649, 37069, 27586, 7884, 38718, 4406, 44751, 70052, 6574, 41285, 47378, 36635, 26569, 24825, 52465, 28712, 12322, 71525, 32437, 8775, 51859, 35150, 34243, 24000, 30726, 63377, 51570, 65031, 41750, 66369, 33295, 23398, 40667, 34591, 52635, 68285, 73103, 33419, 70257, 13711, 48837, 20795, 75350, 61888, 2311, 32736, 20950, 75178, 55714, 26182, 1338, 5263, 72860, 31329, 170, 29640, 68305, 60916, 54411, 46784, 21396, 40136, 22762, 40834, 27929, 26721, 20137, 47738, 57146, 25923, 65135, 21877, 6025, 45000, 40953, 64133, 42678, 25435, 4815, 53130, 30619, 34476, 49597, 49658, 46028, 37737, 893, 47190, 38768, 9562, 27522, 73186, 33748, 22774, 44826, 14725, 72209, 70049, 10639, 30850, 74252, 44917, 17511, 41400, 72554, 29251, 25798, 14507, 45637, 36381, 10289, 59208, 2992, 20452, 53178, 10498, 3239, 21907, 227, 56042, 31943, 65088, 9605, 14886, 40496, 12679, 70117, 15778, 57544, 11552, 70460, 47302, 28175, 10033, 25815, 58698, 6488, 71165, 21549, 38722, 27776, 56659, 28536, 49061, 41256, 12711, 29436, 33085, 76011, 71084, 45560, 8263, 5184, 45391, 10677, 18671, 1867, 41347, 11075, 17462, 50724, 13693, 12171, 73945, 47164, 40645, 66776, 65477, 37106, 52464, 31052, 30235, 26195, 75757, 60976, 37748, 30906, 63573, 74953, 18435, 40599, 17387, 74083, 68251, 27935, 21989, 53901, 44903, 2944, 30975, 7872, 62331, 54273, 75537, 36248, 60219, 41374, 34438, 48652, 42531, 43657, 13671, 27716, 61408, 18918, 50905, 11489, 53407, 777, 49681, 15326, 57868, 70350, 36622, 2778, 20782, 31523, 60056, 31153, 12286, 13361, 72961, 36359, 27766, 66339, 30098, 9252, 75958, 57091, 21918, 34630, 63069, 54246, 38307, 17877, 24059, 26187, 15475, 17346, 7534, 17196, 48832, 14998, 40254, 34373, 2133, 7667, 69947, 6178, 50946, 50877, 35800, 12487, 19270, 71953, 32985, 51786, 69715, 51772, 11939, 19503, 69516, 119, 60571, 7683, 62258, 9232, 42432, 43858, 37927, 66018, 1436, 12283, 8552, 62492, 53435, 3874, 21541, 38466, 29112, 17159, 48744, 16595, 60629, 4454, 37103, 4686, 70761, 6917, 50068, 31529, 73175, 15642, 19965, 1395, 59236, 64499, 17875, 75820, 34151, 67719, 66295, 73758, 50598, 41369, 33561, 72836, 11679, 52031, 55701, 13049, 73284, 69424, 12505, 22165, 68380, 73053, 34979, 44010, 18662, 60504, 3831, 59714, 11359, 25670, 13575, 12592, 75315, 17735, 71783, 30079, 73012, 42773, 52068, 44955, 18484, 42879, 21830, 74175, 14102, 56762, 35609, 65086, 33076, 22138, 42813, 65654, 50320, 75726, 68386, 20290, 16553, 73665, 38500, 29414, 59614, 58267, 10259, 34816, 11949, 31076, 30354, 37597, 26644, 10995, 56413, 56393, 38241, 58717, 68560, 30459, 40807, 58264, 73795, 13904, 26062, 32941, 56039, 35116, 62410, 42992, 61968, 58401, 8504, 34353, 10994, 55428, 16728, 75400, 73163, 49311, 29870, 51876, 40389, 26981, 70997, 72555, 47074, 44879, 75549, 3886, 56204, 22060, 25250, 67855, 33326, 3631, 26667, 8820, 63014, 15143, 62137, 55177, 19829, 5246, 49835, 64421, 2316, 35862, 28580, 65362, 19253, 69099, 41082, 45337, 14116, 10933, 23533, 22193, 65855, 13196, 34467, 22291, 45495, 7093, 62772, 13997, 58451, 59875, 43985, 38338, 24753, 4376, 39660, 45098, 53640, 69510, 72066, 39165, 49208, 42970, 66603, 13500, 2028, 40714, 32887, 30583, 10129, 34767, 73035, 7954, 60207, 8969, 72717, 70518, 11509, 48506, 39799, 34168, 44194, 11456, 51669, 15248, 280, 16405, 67371, 60502, 11697, 68664, 57867, 74963, 4906, 18355, 14106, 15152, 6096, 47457, 48141, 856, 74865, 2712, 25398, 26254, 72292, 72133, 45294, 71632, 36752, 44556, 11566, 31540, 21054, 49411, 43627, 17357, 20050, 12217, 66060, 4810, 15850, 14899, 17449, 47701, 47123, 19799, 52117, 50243, 19618, 71210, 14209, 11372, 57469, 37812, 72395, 7750, 28998, 1554, 33005, 37251, 72923, 12165, 75563, 30116, 47392, 4090, 29956, 70481, 47447, 76284, 47143, 46484, 69542, 56801, 66938, 31619, 37087, 41485, 49926, 6481, 52423, 17492, 21379, 59094, 25382, 11162, 26073, 70899, 59457, 16284, 11819, 69038, 10439, 75512, 21252, 61571, 14529, 6714, 71161, 18292, 39066, 7845, 30621, 7983, 2711, 2413, 10310, 5666, 21908, 43476, 53835, 51064, 24627, 26135, 39544, 28887, 3250, 2918, 68258, 37826, 29316, 51418, 9448, 68948, 21391, 51076, 72303, 39216, 40621, 42307, 43699, 13918, 72513, 13345, 3642, 34811, 14256, 33311, 3262, 2582, 57068, 24159, 16168, 12619, 26101, 75769, 70115, 57698, 49986, 3713, 54011, 26795, 64438, 20744, 64181, 38476, 45065, 21787, 10053, 16520, 30930, 59778, 11176, 51199, 50056, 12489, 2612, 641, 54095, 60759, 31111, 48910, 45972, 10756, 55486, 72720, 31187, 74681, 5103, 32905, 32779, 66242, 59569, 69591, 51029, 48414, 54230, 14441, 61890, 14848, 54499, 2348, 10836, 30124, 34404, 36208, 49321, 49048, 72370, 12161, 57482, 26242, 66648, 64484, 70645, 20192, 26072, 48973, 73691, 28785, 40423, 57409, 74633, 20383, 41474, 30153, 44167, 60037, 47079, 60479, 7279, 41293, 54437, 53042, 61286, 64682, 15772, 60084, 8655, 14696, 40731, 47376, 31803, 30095, 25406, 45457, 11339, 30254, 75736, 74565, 25127, 1898, 24854, 46523, 32205, 20517, 62474, 39251, 71032, 20437, 41314, 21108, 59785, 35218, 40569, 7254, 75531, 4035, 48494, 28534, 25245, 43846, 15484, 30882, 12479, 37768, 26403, 29212, 73470, 30844, 70502, 12027, 19606, 41137, 35570, 59717, 53706, 39338, 27241, 32305, 45018, 41252, 60160, 71330, 34559, 66473, 54769, 16813, 57138, 59406, 30628, 74256, 68160, 1028, 73935, 36408, 18400, 14204, 29384, 6259, 36449, 27615, 62330, 30238, 38470, 55891, 16981, 40664, 26925, 5952, 67263, 14016, 1598, 29276, 27554, 2669, 30114, 30115, 42528, 13913, 39883, 31794, 3978, 17788, 54506, 35425, 39272, 36089, 66829, 72470, 11534, 669, 29242, 68882, 48372, 29611, 72709, 24615, 18937, 59954, 30705, 18993, 25001, 73142, 9819, 67085, 58473, 33424, 31018, 52517, 32451, 74727, 74171, 45870, 71284, 20802, 1437, 13493, 73148, 52405, 40981, 62300, 29647, 65234, 40190, 19766, 54819, 51195, 61434, 50575, 65478, 3270, 69848, 8520, 55332, 68411, 5377, 1400, 33573, 15319, 51473, 48451, 44245, 69945, 6416, 45275, 66765, 49187, 45331, 57697, 64806, 40964, 16983, 15420, 26864, 31783, 73479, 51161, 45046, 67889, 10663, 48897, 45216, 42463, 14675, 48697, 17630, 62550, 8943, 20164, 43700, 30120, 48742, 7837, 3178, 11858, 26619, 15684, 3479, 29256, 67321, 40709, 14234, 61425, 50501, 68770, 23289, 52309, 73871, 5771, 235, 35015, 73128, 50027, 30962, 11438, 58189, 18906, 57497, 19941, 70253, 22671, 70305, 68362, 31256, 61120, 67147, 32026, 15305, 42212, 49312, 43315, 46052, 69716, 5523, 11867, 2420, 11886, 1172, 39023, 11545, 13328, 6230, 67999, 21121, 58222, 15051, 52924, 51331, 13327, 64849, 25681, 12194, 49140, 47925, 12827, 69004, 40251, 38932, 42563, 4552, 48743, 66509, 3346, 22440, 54547, 59671, 13668, 10766, 32683, 59869, 66573, 16613, 1275, 64544, 28138, 42023, 532, 12531, 21231, 57656, 75562, 36667, 4509, 37714, 4589, 30386, 10815, 24844, 34040, 13495, 17710, 50889, 5054, 49371, 53957, 20841, 36705, 63426, 19624, 21188, 33065, 8291, 36374, 3225, 5455, 62901, 15322, 7689, 63982, 53568, 26947, 53642, 4468, 34354, 16946, 73561, 36232, 28259, 27252, 11189, 38123, 51700, 30269, 38714, 61660, 17191, 19877, 55540, 68982, 6308, 58986, 74716, 75030, 62329, 11127, 65972, 14085, 43778, 55409, 76176, 61151, 55596, 65410, 33635, 49771, 57816, 71494, 22541, 41500, 32313, 52179, 17747, 60070, 59866, 66143, 61532, 30287, 34023, 56179, 63847, 56766, 30249, 7546, 14454, 69387, 53108, 14551, 73661, 34015, 49694, 24133, 67386, 67462, 44017, 41913, 30599, 40968, 58024, 74555, 17849, 34776, 47883, 39355, 53946, 39299, 17600, 27650, 3434, 58632, 31642, 51606, 67766, 11511, 71845, 35105, 26982, 46214, 3202, 46890, 16651, 20495, 39211, 67266, 6982, 65239, 38934, 47009, 14039, 5914, 74339, 56118, 67609, 57882, 76308, 41738, 40655, 75086, 19601, 42930, 9080, 28306, 56593, 67327, 24759, 6306, 56263, 7395, 72171, 26920, 61856, 10424, 68755, 692, 52875, 23012, 30260, 69685, 54466, 46988, 27805, 66897, 27237, 63027, 28595, 31834, 68963, 22556, 20037, 73089, 21122, 1635, 13408, 43141, 70694, 70917, 46156, 51695, 44635, 62200, 58955, 58036, 36439, 20482, 22878, 61394, 51971, 44226, 43031, 60, 46325, 13689, 37828, 45330, 71036, 3057, 22284, 47229, 18235, 31332, 11285, 16788, 5314, 40381, 8612, 45937, 57943, 32262, 8190, 32529, 70463, 75987, 26917, 50815, 8732, 22790, 45238, 46665, 63563, 42258, 36844, 38247, 65322, 45603, 3961, 63145, 6044, 35419, 38568, 28492, 52929, 13411, 40536, 53780, 2384, 59113, 71930, 54514, 58803, 2898, 72427, 46739, 31426, 15591, 38458, 55201, 27761, 65620, 52852, 32166, 39878, 13787, 69844, 62460, 65259, 50399, 18003, 22517, 42109, 64626, 41880, 18967, 35502, 33013, 22031, 43166, 57265, 67358, 8532, 51179, 26767, 51703, 12988, 30949, 68860, 9212, 40362, 61059, 69181, 29706, 61903, 2742, 58961, 68848, 51470, 54370, 73659, 49278, 6929, 18613, 19135, 6130, 46780, 267, 28130, 55049, 31590, 45939, 2517, 33490, 56174, 23155, 62400, 39491, 50136, 34177, 34272, 51716, 8004, 37970, 12014, 33669, 19647, 73552, 51444, 49716, 67643, 17222, 58756, 14390, 33685, 65340, 69089, 27155, 23545, 35454, 41394, 24976, 2668, 38161, 61954, 31693, 2308, 37416, 27777, 38004, 66675, 37245, 36474, 65563, 73708, 30508, 25937, 16293, 37709, 40983, 9810, 60292, 16767, 68068, 71461, 70541, 13866, 11462, 48281, 35959, 32655, 17886, 28098, 38539, 25511, 13113, 73827, 2666, 9364, 59561, 69416, 25823, 59860, 61330, 15976, 2665, 15903, 26594, 65643, 21255, 74282, 56856, 43223, 61658, 19820, 44939, 63726, 70152, 33042, 17962, 12313, 60459, 36949, 71521, 44459, 67712, 60267, 20200, 23215, 13087, 72562, 47115, 13754, 23469, 51965, 41148, 47235, 32410, 12822, 5957, 62484, 63021, 21264, 14915, 6867, 18687, 27857, 28468, 22251, 10107, 60086, 37745, 53718, 61135, 74023, 60442, 18411, 11810, 26683, 40742, 20982, 47828, 9511, 11296, 37248, 35646, 3095, 32453, 65220, 63799, 22453, 3110, 8716, 18792, 62951, 51240, 54180, 28629, 75443, 16377, 34342, 36101, 26538, 41469, 51027, 682, 21511, 61764, 18509, 45696, 8155, 34756, 8341, 44967, 19824, 15044, 26113, 30240, 14600, 16336, 57262, 49162, 36815, 38342, 5819, 42607, 51092, 54892, 58600, 29948, 58287, 43889, 11973, 10466, 67150, 39735, 12912, 46935, 41372, 42320, 33011, 15016, 13748, 6781, 56072, 32392, 29927, 16644, 54822, 13180, 14516, 34521, 61832, 42720, 26116, 51143, 24752, 25723, 47759, 57919, 55606, 29678, 68692, 38705, 8583, 3494, 47630, 21895, 10698, 21823, 17466, 32455, 74469, 64016, 35162, 74442, 55315, 58301, 64739, 365, 38226, 22690, 50683, 31508, 54255, 5321, 66387, 68395, 57814, 34883, 55421, 27664, 47606, 56745, 66649, 64185, 13826, 25143, 18968, 72010, 61795, 14634, 13803, 35636, 53792, 39898, 1245, 52830, 650, 73878, 18459, 48387, 42516, 74458, 45888, 61509, 49128, 62502, 26189, 73953, 57772, 70849, 8712, 25589, 28359, 45077, 44417, 47600, 9037, 46008, 48265, 34335, 20946, 16288, 51229, 62127, 45221, 19992, 16449, 32904, 5069, 11913, 8534, 23664, 17756, 12043, 55447, 55560, 59042, 60822, 49976, 37274, 66960, 16921, 14152, 16395, 63651, 31921, 71967, 14101, 30897, 15947, 22955, 28216, 20498, 33029, 21024, 12866, 20768, 23659, 42913, 70453, 31023, 14937, 71151, 30059, 60863, 20997, 73079, 6114, 25195, 8129, 35942, 42916, 28151, 48578, 59043, 43608, 21719, 14980, 57942, 28355, 27614, 14173, 51491, 59791, 34784, 23593, 797, 31631, 4779, 36178, 66221, 38837, 60240, 25520, 29668, 60121, 55530, 25550, 1574, 50254, 28437, 36156, 73570, 27272, 36739, 41205, 22933, 63313, 4796, 7739, 63545, 71317, 4773, 11615, 69393, 33858, 51494, 15017, 33377, 68693, 28625, 71530, 19091, 27723, 67265, 54158, 1250, 16826, 47470, 19367, 55141, 44874, 74971, 8781, 34165, 50129, 9702, 52570, 68197, 38108, 45920, 12256, 26462, 67401, 22099, 1415, 73969, 126, 16041, 12208, 55547, 8881, 47495, 49097, 65836, 36588, 65030, 35494, 56761, 11295, 69686, 51056, 39493, 64347, 16150, 67794, 20248, 68219, 75033, 54663, 2586, 13406, 17674, 66545, 19064, 44118, 27246, 39357, 67469, 38833, 544, 11703, 35824, 27348, 75425, 17048, 62773, 38802, 9843, 5380, 39616, 31665, 73737, 69520, 38281, 8055, 2048, 57280, 27461, 49305, 65677, 59415, 19201, 64778, 52503, 66638, 37054, 22626, 27022, 61196, 62489, 40659, 60488, 32202, 14562, 62542, 31249, 48860, 7803, 22365, 17780, 44676, 49344, 28424, 49445, 46504, 53608, 35522, 26626, 4882, 46787, 11220, 618, 19365, 57592, 38839, 74152, 74424, 4338, 56060, 13594, 55454, 69732, 50758, 52576, 51981, 50979, 8705, 24220, 39512, 8163, 45062, 10295, 46206, 29627, 35669, 73125, 61060, 6932, 8097, 9335, 23361, 47804, 4268, 23711, 13519, 42502, 26621, 590, 29042, 14180, 24508, 624, 42826, 63503, 52210, 56832, 5942, 44148, 72032, 16495, 28277, 25860, 7809, 68265, 65224, 62742, 34087, 72446, 26788, 52209, 28951, 57481, 31798, 11217, 3372, 44432, 75687, 71859, 68058, 9483, 54389, 5430, 75842, 63412, 74196, 53847, 5211, 64963, 54107, 28195, 30946, 11222, 43340, 17454, 18801, 55354, 17054, 46130, 50599, 11660, 64590]\n"
          ]
        }
      ]
    },
    {
      "cell_type": "code",
      "source": [
        "df_final[df_final['user_id']=='56522']"
      ],
      "metadata": {
        "colab": {
          "base_uri": "https://localhost:8080/",
          "height": 49
        },
        "id": "N_weRzSuAxM2",
        "outputId": "77f3c9f0-62d5-4c93-820f-286a6adbbcfb"
      },
      "execution_count": null,
      "outputs": [
        {
          "output_type": "execute_result",
          "data": {
            "text/plain": [
              "Empty DataFrame\n",
              "Columns: [user_id, song_id, play_count, title, release, artist_name, year]\n",
              "Index: []"
            ],
            "text/html": [
              "\n",
              "  <div id=\"df-13477779-ad9c-43a9-b7bb-571cb5e2cc2b\">\n",
              "    <div class=\"colab-df-container\">\n",
              "      <div>\n",
              "<style scoped>\n",
              "    .dataframe tbody tr th:only-of-type {\n",
              "        vertical-align: middle;\n",
              "    }\n",
              "\n",
              "    .dataframe tbody tr th {\n",
              "        vertical-align: top;\n",
              "    }\n",
              "\n",
              "    .dataframe thead th {\n",
              "        text-align: right;\n",
              "    }\n",
              "</style>\n",
              "<table border=\"1\" class=\"dataframe\">\n",
              "  <thead>\n",
              "    <tr style=\"text-align: right;\">\n",
              "      <th></th>\n",
              "      <th>user_id</th>\n",
              "      <th>song_id</th>\n",
              "      <th>play_count</th>\n",
              "      <th>title</th>\n",
              "      <th>release</th>\n",
              "      <th>artist_name</th>\n",
              "      <th>year</th>\n",
              "    </tr>\n",
              "  </thead>\n",
              "  <tbody>\n",
              "  </tbody>\n",
              "</table>\n",
              "</div>\n",
              "      <button class=\"colab-df-convert\" onclick=\"convertToInteractive('df-13477779-ad9c-43a9-b7bb-571cb5e2cc2b')\"\n",
              "              title=\"Convert this dataframe to an interactive table.\"\n",
              "              style=\"display:none;\">\n",
              "        \n",
              "  <svg xmlns=\"http://www.w3.org/2000/svg\" height=\"24px\"viewBox=\"0 0 24 24\"\n",
              "       width=\"24px\">\n",
              "    <path d=\"M0 0h24v24H0V0z\" fill=\"none\"/>\n",
              "    <path d=\"M18.56 5.44l.94 2.06.94-2.06 2.06-.94-2.06-.94-.94-2.06-.94 2.06-2.06.94zm-11 1L8.5 8.5l.94-2.06 2.06-.94-2.06-.94L8.5 2.5l-.94 2.06-2.06.94zm10 10l.94 2.06.94-2.06 2.06-.94-2.06-.94-.94-2.06-.94 2.06-2.06.94z\"/><path d=\"M17.41 7.96l-1.37-1.37c-.4-.4-.92-.59-1.43-.59-.52 0-1.04.2-1.43.59L10.3 9.45l-7.72 7.72c-.78.78-.78 2.05 0 2.83L4 21.41c.39.39.9.59 1.41.59.51 0 1.02-.2 1.41-.59l7.78-7.78 2.81-2.81c.8-.78.8-2.07 0-2.86zM5.41 20L4 18.59l7.72-7.72 1.47 1.35L5.41 20z\"/>\n",
              "  </svg>\n",
              "      </button>\n",
              "      \n",
              "  <style>\n",
              "    .colab-df-container {\n",
              "      display:flex;\n",
              "      flex-wrap:wrap;\n",
              "      gap: 12px;\n",
              "    }\n",
              "\n",
              "    .colab-df-convert {\n",
              "      background-color: #E8F0FE;\n",
              "      border: none;\n",
              "      border-radius: 50%;\n",
              "      cursor: pointer;\n",
              "      display: none;\n",
              "      fill: #1967D2;\n",
              "      height: 32px;\n",
              "      padding: 0 0 0 0;\n",
              "      width: 32px;\n",
              "    }\n",
              "\n",
              "    .colab-df-convert:hover {\n",
              "      background-color: #E2EBFA;\n",
              "      box-shadow: 0px 1px 2px rgba(60, 64, 67, 0.3), 0px 1px 3px 1px rgba(60, 64, 67, 0.15);\n",
              "      fill: #174EA6;\n",
              "    }\n",
              "\n",
              "    [theme=dark] .colab-df-convert {\n",
              "      background-color: #3B4455;\n",
              "      fill: #D2E3FC;\n",
              "    }\n",
              "\n",
              "    [theme=dark] .colab-df-convert:hover {\n",
              "      background-color: #434B5C;\n",
              "      box-shadow: 0px 1px 3px 1px rgba(0, 0, 0, 0.15);\n",
              "      filter: drop-shadow(0px 1px 2px rgba(0, 0, 0, 0.3));\n",
              "      fill: #FFFFFF;\n",
              "    }\n",
              "  </style>\n",
              "\n",
              "      <script>\n",
              "        const buttonEl =\n",
              "          document.querySelector('#df-13477779-ad9c-43a9-b7bb-571cb5e2cc2b button.colab-df-convert');\n",
              "        buttonEl.style.display =\n",
              "          google.colab.kernel.accessAllowed ? 'block' : 'none';\n",
              "\n",
              "        async function convertToInteractive(key) {\n",
              "          const element = document.querySelector('#df-13477779-ad9c-43a9-b7bb-571cb5e2cc2b');\n",
              "          const dataTable =\n",
              "            await google.colab.kernel.invokeFunction('convertToInteractive',\n",
              "                                                     [key], {});\n",
              "          if (!dataTable) return;\n",
              "\n",
              "          const docLinkHtml = 'Like what you see? Visit the ' +\n",
              "            '<a target=\"_blank\" href=https://colab.research.google.com/notebooks/data_table.ipynb>data table notebook</a>'\n",
              "            + ' to learn more about interactive tables.';\n",
              "          element.innerHTML = '';\n",
              "          dataTable['output_type'] = 'display_data';\n",
              "          await google.colab.output.renderOutput(dataTable, element);\n",
              "          const docLink = document.createElement('div');\n",
              "          docLink.innerHTML = docLinkHtml;\n",
              "          element.appendChild(docLink);\n",
              "        }\n",
              "      </script>\n",
              "    </div>\n",
              "  </div>\n",
              "  "
            ]
          },
          "metadata": {},
          "execution_count": 20
        }
      ]
    },
    {
      "cell_type": "markdown",
      "metadata": {
        "id": "uZcr1Eke2T9W"
      },
      "source": [
        "## **Exploratory Data Analysis**"
      ]
    },
    {
      "cell_type": "markdown",
      "metadata": {
        "id": "ByuHmvWDeBJI"
      },
      "source": [
        "### **Let's check the total number of unique users, songs, artists in the data**"
      ]
    },
    {
      "cell_type": "markdown",
      "metadata": {
        "id": "DE_gukSJ2T9W"
      },
      "source": [
        "Total number of unique user id"
      ]
    },
    {
      "cell_type": "code",
      "execution_count": null,
      "metadata": {
        "id": "n5E24_Ec2T9W",
        "colab": {
          "base_uri": "https://localhost:8080/"
        },
        "outputId": "1baa0b78-a7f5-4156-aca1-a8de1020e361"
      },
      "outputs": [
        {
          "output_type": "execute_result",
          "data": {
            "text/plain": [
              "3155"
            ]
          },
          "metadata": {},
          "execution_count": 21
        }
      ],
      "source": [
        "# Display total number of unique user_id\n",
        "df_final['user_id'].nunique()"
      ]
    },
    {
      "cell_type": "markdown",
      "metadata": {
        "id": "wV3BOTdJII-t"
      },
      "source": [
        "Total number of unique song id"
      ]
    },
    {
      "cell_type": "code",
      "execution_count": null,
      "metadata": {
        "id": "5SlpPkIE2T9W",
        "colab": {
          "base_uri": "https://localhost:8080/"
        },
        "outputId": "ed6d476c-1b20-429a-8690-1db153e8010b"
      },
      "outputs": [
        {
          "output_type": "execute_result",
          "data": {
            "text/plain": [
              "563"
            ]
          },
          "metadata": {},
          "execution_count": 22
        }
      ],
      "source": [
        "# Display total number of unique song_id\n",
        "df_final['song_id'].nunique()"
      ]
    },
    {
      "cell_type": "markdown",
      "metadata": {
        "id": "eGXPsCjXVpUW"
      },
      "source": [
        "Total number of unique artists"
      ]
    },
    {
      "cell_type": "code",
      "source": [
        "df_final.head()"
      ],
      "metadata": {
        "colab": {
          "base_uri": "https://localhost:8080/",
          "height": 250
        },
        "id": "fvRWSyOyiZ_e",
        "outputId": "c610cc8c-14ed-445a-ec8b-338f4f61cae4"
      },
      "execution_count": null,
      "outputs": [
        {
          "output_type": "execute_result",
          "data": {
            "text/plain": [
              "     user_id  song_id  play_count                            title  \\\n",
              "200     6958      447           1               Daisy And Prudence   \n",
              "202     6958      512           1  The Ballad of Michael Valentine   \n",
              "203     6958      549           1        I Stand Corrected (Album)   \n",
              "204     6958      703           1            They Might Follow You   \n",
              "205     6958      719           1                       Monkey Man   \n",
              "\n",
              "                  release      artist_name  year  \n",
              "200          Distillation     Erin McKeown  2000  \n",
              "202               Sawdust      The Killers  2004  \n",
              "203       Vampire Weekend  Vampire Weekend  2007  \n",
              "204           Tiny Vipers      Tiny Vipers  2007  \n",
              "205  You Know I'm No Good    Amy Winehouse  2007  "
            ],
            "text/html": [
              "\n",
              "  <div id=\"df-1aa8ab06-2b9f-4599-8a60-7b45c2acf977\">\n",
              "    <div class=\"colab-df-container\">\n",
              "      <div>\n",
              "<style scoped>\n",
              "    .dataframe tbody tr th:only-of-type {\n",
              "        vertical-align: middle;\n",
              "    }\n",
              "\n",
              "    .dataframe tbody tr th {\n",
              "        vertical-align: top;\n",
              "    }\n",
              "\n",
              "    .dataframe thead th {\n",
              "        text-align: right;\n",
              "    }\n",
              "</style>\n",
              "<table border=\"1\" class=\"dataframe\">\n",
              "  <thead>\n",
              "    <tr style=\"text-align: right;\">\n",
              "      <th></th>\n",
              "      <th>user_id</th>\n",
              "      <th>song_id</th>\n",
              "      <th>play_count</th>\n",
              "      <th>title</th>\n",
              "      <th>release</th>\n",
              "      <th>artist_name</th>\n",
              "      <th>year</th>\n",
              "    </tr>\n",
              "  </thead>\n",
              "  <tbody>\n",
              "    <tr>\n",
              "      <th>200</th>\n",
              "      <td>6958</td>\n",
              "      <td>447</td>\n",
              "      <td>1</td>\n",
              "      <td>Daisy And Prudence</td>\n",
              "      <td>Distillation</td>\n",
              "      <td>Erin McKeown</td>\n",
              "      <td>2000</td>\n",
              "    </tr>\n",
              "    <tr>\n",
              "      <th>202</th>\n",
              "      <td>6958</td>\n",
              "      <td>512</td>\n",
              "      <td>1</td>\n",
              "      <td>The Ballad of Michael Valentine</td>\n",
              "      <td>Sawdust</td>\n",
              "      <td>The Killers</td>\n",
              "      <td>2004</td>\n",
              "    </tr>\n",
              "    <tr>\n",
              "      <th>203</th>\n",
              "      <td>6958</td>\n",
              "      <td>549</td>\n",
              "      <td>1</td>\n",
              "      <td>I Stand Corrected (Album)</td>\n",
              "      <td>Vampire Weekend</td>\n",
              "      <td>Vampire Weekend</td>\n",
              "      <td>2007</td>\n",
              "    </tr>\n",
              "    <tr>\n",
              "      <th>204</th>\n",
              "      <td>6958</td>\n",
              "      <td>703</td>\n",
              "      <td>1</td>\n",
              "      <td>They Might Follow You</td>\n",
              "      <td>Tiny Vipers</td>\n",
              "      <td>Tiny Vipers</td>\n",
              "      <td>2007</td>\n",
              "    </tr>\n",
              "    <tr>\n",
              "      <th>205</th>\n",
              "      <td>6958</td>\n",
              "      <td>719</td>\n",
              "      <td>1</td>\n",
              "      <td>Monkey Man</td>\n",
              "      <td>You Know I'm No Good</td>\n",
              "      <td>Amy Winehouse</td>\n",
              "      <td>2007</td>\n",
              "    </tr>\n",
              "  </tbody>\n",
              "</table>\n",
              "</div>\n",
              "      <button class=\"colab-df-convert\" onclick=\"convertToInteractive('df-1aa8ab06-2b9f-4599-8a60-7b45c2acf977')\"\n",
              "              title=\"Convert this dataframe to an interactive table.\"\n",
              "              style=\"display:none;\">\n",
              "        \n",
              "  <svg xmlns=\"http://www.w3.org/2000/svg\" height=\"24px\"viewBox=\"0 0 24 24\"\n",
              "       width=\"24px\">\n",
              "    <path d=\"M0 0h24v24H0V0z\" fill=\"none\"/>\n",
              "    <path d=\"M18.56 5.44l.94 2.06.94-2.06 2.06-.94-2.06-.94-.94-2.06-.94 2.06-2.06.94zm-11 1L8.5 8.5l.94-2.06 2.06-.94-2.06-.94L8.5 2.5l-.94 2.06-2.06.94zm10 10l.94 2.06.94-2.06 2.06-.94-2.06-.94-.94-2.06-.94 2.06-2.06.94z\"/><path d=\"M17.41 7.96l-1.37-1.37c-.4-.4-.92-.59-1.43-.59-.52 0-1.04.2-1.43.59L10.3 9.45l-7.72 7.72c-.78.78-.78 2.05 0 2.83L4 21.41c.39.39.9.59 1.41.59.51 0 1.02-.2 1.41-.59l7.78-7.78 2.81-2.81c.8-.78.8-2.07 0-2.86zM5.41 20L4 18.59l7.72-7.72 1.47 1.35L5.41 20z\"/>\n",
              "  </svg>\n",
              "      </button>\n",
              "      \n",
              "  <style>\n",
              "    .colab-df-container {\n",
              "      display:flex;\n",
              "      flex-wrap:wrap;\n",
              "      gap: 12px;\n",
              "    }\n",
              "\n",
              "    .colab-df-convert {\n",
              "      background-color: #E8F0FE;\n",
              "      border: none;\n",
              "      border-radius: 50%;\n",
              "      cursor: pointer;\n",
              "      display: none;\n",
              "      fill: #1967D2;\n",
              "      height: 32px;\n",
              "      padding: 0 0 0 0;\n",
              "      width: 32px;\n",
              "    }\n",
              "\n",
              "    .colab-df-convert:hover {\n",
              "      background-color: #E2EBFA;\n",
              "      box-shadow: 0px 1px 2px rgba(60, 64, 67, 0.3), 0px 1px 3px 1px rgba(60, 64, 67, 0.15);\n",
              "      fill: #174EA6;\n",
              "    }\n",
              "\n",
              "    [theme=dark] .colab-df-convert {\n",
              "      background-color: #3B4455;\n",
              "      fill: #D2E3FC;\n",
              "    }\n",
              "\n",
              "    [theme=dark] .colab-df-convert:hover {\n",
              "      background-color: #434B5C;\n",
              "      box-shadow: 0px 1px 3px 1px rgba(0, 0, 0, 0.15);\n",
              "      filter: drop-shadow(0px 1px 2px rgba(0, 0, 0, 0.3));\n",
              "      fill: #FFFFFF;\n",
              "    }\n",
              "  </style>\n",
              "\n",
              "      <script>\n",
              "        const buttonEl =\n",
              "          document.querySelector('#df-1aa8ab06-2b9f-4599-8a60-7b45c2acf977 button.colab-df-convert');\n",
              "        buttonEl.style.display =\n",
              "          google.colab.kernel.accessAllowed ? 'block' : 'none';\n",
              "\n",
              "        async function convertToInteractive(key) {\n",
              "          const element = document.querySelector('#df-1aa8ab06-2b9f-4599-8a60-7b45c2acf977');\n",
              "          const dataTable =\n",
              "            await google.colab.kernel.invokeFunction('convertToInteractive',\n",
              "                                                     [key], {});\n",
              "          if (!dataTable) return;\n",
              "\n",
              "          const docLinkHtml = 'Like what you see? Visit the ' +\n",
              "            '<a target=\"_blank\" href=https://colab.research.google.com/notebooks/data_table.ipynb>data table notebook</a>'\n",
              "            + ' to learn more about interactive tables.';\n",
              "          element.innerHTML = '';\n",
              "          dataTable['output_type'] = 'display_data';\n",
              "          await google.colab.output.renderOutput(dataTable, element);\n",
              "          const docLink = document.createElement('div');\n",
              "          docLink.innerHTML = docLinkHtml;\n",
              "          element.appendChild(docLink);\n",
              "        }\n",
              "      </script>\n",
              "    </div>\n",
              "  </div>\n",
              "  "
            ]
          },
          "metadata": {},
          "execution_count": 23
        }
      ]
    },
    {
      "cell_type": "code",
      "execution_count": null,
      "metadata": {
        "id": "qSVUwb8h2T9X",
        "colab": {
          "base_uri": "https://localhost:8080/",
          "height": 456
        },
        "outputId": "6a35e621-d09f-445f-cef4-b2eb0f7c355b"
      },
      "outputs": [
        {
          "output_type": "execute_result",
          "data": {
            "text/plain": [
              "              user_id        song_id     play_count         title  \\\n",
              "count   117876.000000  117876.000000  117876.000000        117876   \n",
              "unique            NaN            NaN            NaN           561   \n",
              "top               NaN            NaN            NaN  Use Somebody   \n",
              "freq              NaN            NaN            NaN           751   \n",
              "mean     37986.496954    4896.602608       1.700058           NaN   \n",
              "std      22041.887894    2916.276544       1.089517           NaN   \n",
              "min         11.000000      21.000000       1.000000           NaN   \n",
              "25%      19275.000000    2220.000000       1.000000           NaN   \n",
              "50%      37049.000000    5023.000000       1.000000           NaN   \n",
              "75%      57152.000000    7522.000000       2.000000           NaN   \n",
              "max      76347.000000    9989.000000       5.000000           NaN   \n",
              "\n",
              "                                 release artist_name           year  \n",
              "count                             117876      117876  117876.000000  \n",
              "unique                               369         232            NaN  \n",
              "top     Ray Guns Are Not Just The Future    Coldplay            NaN  \n",
              "freq                                1843        5317            NaN  \n",
              "mean                                 NaN         NaN    1652.819683  \n",
              "std                                  NaN         NaN     761.726035  \n",
              "min                                  NaN         NaN       0.000000  \n",
              "25%                                  NaN         NaN    1994.000000  \n",
              "50%                                  NaN         NaN    2005.000000  \n",
              "75%                                  NaN         NaN    2008.000000  \n",
              "max                                  NaN         NaN    2010.000000  "
            ],
            "text/html": [
              "\n",
              "  <div id=\"df-84c91513-6f87-4397-8c7b-6923cb5a381f\">\n",
              "    <div class=\"colab-df-container\">\n",
              "      <div>\n",
              "<style scoped>\n",
              "    .dataframe tbody tr th:only-of-type {\n",
              "        vertical-align: middle;\n",
              "    }\n",
              "\n",
              "    .dataframe tbody tr th {\n",
              "        vertical-align: top;\n",
              "    }\n",
              "\n",
              "    .dataframe thead th {\n",
              "        text-align: right;\n",
              "    }\n",
              "</style>\n",
              "<table border=\"1\" class=\"dataframe\">\n",
              "  <thead>\n",
              "    <tr style=\"text-align: right;\">\n",
              "      <th></th>\n",
              "      <th>user_id</th>\n",
              "      <th>song_id</th>\n",
              "      <th>play_count</th>\n",
              "      <th>title</th>\n",
              "      <th>release</th>\n",
              "      <th>artist_name</th>\n",
              "      <th>year</th>\n",
              "    </tr>\n",
              "  </thead>\n",
              "  <tbody>\n",
              "    <tr>\n",
              "      <th>count</th>\n",
              "      <td>117876.000000</td>\n",
              "      <td>117876.000000</td>\n",
              "      <td>117876.000000</td>\n",
              "      <td>117876</td>\n",
              "      <td>117876</td>\n",
              "      <td>117876</td>\n",
              "      <td>117876.000000</td>\n",
              "    </tr>\n",
              "    <tr>\n",
              "      <th>unique</th>\n",
              "      <td>NaN</td>\n",
              "      <td>NaN</td>\n",
              "      <td>NaN</td>\n",
              "      <td>561</td>\n",
              "      <td>369</td>\n",
              "      <td>232</td>\n",
              "      <td>NaN</td>\n",
              "    </tr>\n",
              "    <tr>\n",
              "      <th>top</th>\n",
              "      <td>NaN</td>\n",
              "      <td>NaN</td>\n",
              "      <td>NaN</td>\n",
              "      <td>Use Somebody</td>\n",
              "      <td>Ray Guns Are Not Just The Future</td>\n",
              "      <td>Coldplay</td>\n",
              "      <td>NaN</td>\n",
              "    </tr>\n",
              "    <tr>\n",
              "      <th>freq</th>\n",
              "      <td>NaN</td>\n",
              "      <td>NaN</td>\n",
              "      <td>NaN</td>\n",
              "      <td>751</td>\n",
              "      <td>1843</td>\n",
              "      <td>5317</td>\n",
              "      <td>NaN</td>\n",
              "    </tr>\n",
              "    <tr>\n",
              "      <th>mean</th>\n",
              "      <td>37986.496954</td>\n",
              "      <td>4896.602608</td>\n",
              "      <td>1.700058</td>\n",
              "      <td>NaN</td>\n",
              "      <td>NaN</td>\n",
              "      <td>NaN</td>\n",
              "      <td>1652.819683</td>\n",
              "    </tr>\n",
              "    <tr>\n",
              "      <th>std</th>\n",
              "      <td>22041.887894</td>\n",
              "      <td>2916.276544</td>\n",
              "      <td>1.089517</td>\n",
              "      <td>NaN</td>\n",
              "      <td>NaN</td>\n",
              "      <td>NaN</td>\n",
              "      <td>761.726035</td>\n",
              "    </tr>\n",
              "    <tr>\n",
              "      <th>min</th>\n",
              "      <td>11.000000</td>\n",
              "      <td>21.000000</td>\n",
              "      <td>1.000000</td>\n",
              "      <td>NaN</td>\n",
              "      <td>NaN</td>\n",
              "      <td>NaN</td>\n",
              "      <td>0.000000</td>\n",
              "    </tr>\n",
              "    <tr>\n",
              "      <th>25%</th>\n",
              "      <td>19275.000000</td>\n",
              "      <td>2220.000000</td>\n",
              "      <td>1.000000</td>\n",
              "      <td>NaN</td>\n",
              "      <td>NaN</td>\n",
              "      <td>NaN</td>\n",
              "      <td>1994.000000</td>\n",
              "    </tr>\n",
              "    <tr>\n",
              "      <th>50%</th>\n",
              "      <td>37049.000000</td>\n",
              "      <td>5023.000000</td>\n",
              "      <td>1.000000</td>\n",
              "      <td>NaN</td>\n",
              "      <td>NaN</td>\n",
              "      <td>NaN</td>\n",
              "      <td>2005.000000</td>\n",
              "    </tr>\n",
              "    <tr>\n",
              "      <th>75%</th>\n",
              "      <td>57152.000000</td>\n",
              "      <td>7522.000000</td>\n",
              "      <td>2.000000</td>\n",
              "      <td>NaN</td>\n",
              "      <td>NaN</td>\n",
              "      <td>NaN</td>\n",
              "      <td>2008.000000</td>\n",
              "    </tr>\n",
              "    <tr>\n",
              "      <th>max</th>\n",
              "      <td>76347.000000</td>\n",
              "      <td>9989.000000</td>\n",
              "      <td>5.000000</td>\n",
              "      <td>NaN</td>\n",
              "      <td>NaN</td>\n",
              "      <td>NaN</td>\n",
              "      <td>2010.000000</td>\n",
              "    </tr>\n",
              "  </tbody>\n",
              "</table>\n",
              "</div>\n",
              "      <button class=\"colab-df-convert\" onclick=\"convertToInteractive('df-84c91513-6f87-4397-8c7b-6923cb5a381f')\"\n",
              "              title=\"Convert this dataframe to an interactive table.\"\n",
              "              style=\"display:none;\">\n",
              "        \n",
              "  <svg xmlns=\"http://www.w3.org/2000/svg\" height=\"24px\"viewBox=\"0 0 24 24\"\n",
              "       width=\"24px\">\n",
              "    <path d=\"M0 0h24v24H0V0z\" fill=\"none\"/>\n",
              "    <path d=\"M18.56 5.44l.94 2.06.94-2.06 2.06-.94-2.06-.94-.94-2.06-.94 2.06-2.06.94zm-11 1L8.5 8.5l.94-2.06 2.06-.94-2.06-.94L8.5 2.5l-.94 2.06-2.06.94zm10 10l.94 2.06.94-2.06 2.06-.94-2.06-.94-.94-2.06-.94 2.06-2.06.94z\"/><path d=\"M17.41 7.96l-1.37-1.37c-.4-.4-.92-.59-1.43-.59-.52 0-1.04.2-1.43.59L10.3 9.45l-7.72 7.72c-.78.78-.78 2.05 0 2.83L4 21.41c.39.39.9.59 1.41.59.51 0 1.02-.2 1.41-.59l7.78-7.78 2.81-2.81c.8-.78.8-2.07 0-2.86zM5.41 20L4 18.59l7.72-7.72 1.47 1.35L5.41 20z\"/>\n",
              "  </svg>\n",
              "      </button>\n",
              "      \n",
              "  <style>\n",
              "    .colab-df-container {\n",
              "      display:flex;\n",
              "      flex-wrap:wrap;\n",
              "      gap: 12px;\n",
              "    }\n",
              "\n",
              "    .colab-df-convert {\n",
              "      background-color: #E8F0FE;\n",
              "      border: none;\n",
              "      border-radius: 50%;\n",
              "      cursor: pointer;\n",
              "      display: none;\n",
              "      fill: #1967D2;\n",
              "      height: 32px;\n",
              "      padding: 0 0 0 0;\n",
              "      width: 32px;\n",
              "    }\n",
              "\n",
              "    .colab-df-convert:hover {\n",
              "      background-color: #E2EBFA;\n",
              "      box-shadow: 0px 1px 2px rgba(60, 64, 67, 0.3), 0px 1px 3px 1px rgba(60, 64, 67, 0.15);\n",
              "      fill: #174EA6;\n",
              "    }\n",
              "\n",
              "    [theme=dark] .colab-df-convert {\n",
              "      background-color: #3B4455;\n",
              "      fill: #D2E3FC;\n",
              "    }\n",
              "\n",
              "    [theme=dark] .colab-df-convert:hover {\n",
              "      background-color: #434B5C;\n",
              "      box-shadow: 0px 1px 3px 1px rgba(0, 0, 0, 0.15);\n",
              "      filter: drop-shadow(0px 1px 2px rgba(0, 0, 0, 0.3));\n",
              "      fill: #FFFFFF;\n",
              "    }\n",
              "  </style>\n",
              "\n",
              "      <script>\n",
              "        const buttonEl =\n",
              "          document.querySelector('#df-84c91513-6f87-4397-8c7b-6923cb5a381f button.colab-df-convert');\n",
              "        buttonEl.style.display =\n",
              "          google.colab.kernel.accessAllowed ? 'block' : 'none';\n",
              "\n",
              "        async function convertToInteractive(key) {\n",
              "          const element = document.querySelector('#df-84c91513-6f87-4397-8c7b-6923cb5a381f');\n",
              "          const dataTable =\n",
              "            await google.colab.kernel.invokeFunction('convertToInteractive',\n",
              "                                                     [key], {});\n",
              "          if (!dataTable) return;\n",
              "\n",
              "          const docLinkHtml = 'Like what you see? Visit the ' +\n",
              "            '<a target=\"_blank\" href=https://colab.research.google.com/notebooks/data_table.ipynb>data table notebook</a>'\n",
              "            + ' to learn more about interactive tables.';\n",
              "          element.innerHTML = '';\n",
              "          dataTable['output_type'] = 'display_data';\n",
              "          await google.colab.output.renderOutput(dataTable, element);\n",
              "          const docLink = document.createElement('div');\n",
              "          docLink.innerHTML = docLinkHtml;\n",
              "          element.appendChild(docLink);\n",
              "        }\n",
              "      </script>\n",
              "    </div>\n",
              "  </div>\n",
              "  "
            ]
          },
          "metadata": {},
          "execution_count": 24
        }
      ],
      "source": [
        "# Display total number of unique artists\n",
        "df_final.describe(include='all')"
      ]
    },
    {
      "cell_type": "markdown",
      "metadata": {
        "id": "bvk-YAo-eGGW"
      },
      "source": [
        "#### **Observations and Insights:**\n",
        "\n",
        "* There are 3155 __users__\n",
        "* There are 563 __songs__\n",
        "* There are 232 __artists__\n",
        "* This means there is a possible 3,155*563 = __1,776,265 interactions__. In the dataset we only have __117,876 of user-song interactions.__ "
      ]
    },
    {
      "cell_type": "markdown",
      "metadata": {
        "id": "rLdIfv22ISBK"
      },
      "source": [
        "### **Let's find out about the most interacted songs and interacted users**"
      ]
    },
    {
      "cell_type": "markdown",
      "metadata": {
        "id": "W3DyN_8atsCx"
      },
      "source": [
        "Most interacted songs"
      ]
    },
    {
      "cell_type": "code",
      "execution_count": null,
      "metadata": {
        "id": "qWDrvIFF2T9X",
        "colab": {
          "base_uri": "https://localhost:8080/",
          "height": 394
        },
        "outputId": "ef39dfee-32a9-43eb-a2c3-98acca74ecb1"
      },
      "outputs": [
        {
          "output_type": "execute_result",
          "data": {
            "text/plain": [
              "           0\n",
              "song_id     \n",
              "8582     751\n",
              "352      748\n",
              "2220     713\n",
              "1118     662\n",
              "4152     652\n",
              "5531     618\n",
              "4448     609\n",
              "6189     606\n",
              "6293     583\n",
              "1334     570"
            ],
            "text/html": [
              "\n",
              "  <div id=\"df-2e7ca2b2-2448-4e80-abf5-79128e403771\">\n",
              "    <div class=\"colab-df-container\">\n",
              "      <div>\n",
              "<style scoped>\n",
              "    .dataframe tbody tr th:only-of-type {\n",
              "        vertical-align: middle;\n",
              "    }\n",
              "\n",
              "    .dataframe tbody tr th {\n",
              "        vertical-align: top;\n",
              "    }\n",
              "\n",
              "    .dataframe thead th {\n",
              "        text-align: right;\n",
              "    }\n",
              "</style>\n",
              "<table border=\"1\" class=\"dataframe\">\n",
              "  <thead>\n",
              "    <tr style=\"text-align: right;\">\n",
              "      <th></th>\n",
              "      <th>0</th>\n",
              "    </tr>\n",
              "    <tr>\n",
              "      <th>song_id</th>\n",
              "      <th></th>\n",
              "    </tr>\n",
              "  </thead>\n",
              "  <tbody>\n",
              "    <tr>\n",
              "      <th>8582</th>\n",
              "      <td>751</td>\n",
              "    </tr>\n",
              "    <tr>\n",
              "      <th>352</th>\n",
              "      <td>748</td>\n",
              "    </tr>\n",
              "    <tr>\n",
              "      <th>2220</th>\n",
              "      <td>713</td>\n",
              "    </tr>\n",
              "    <tr>\n",
              "      <th>1118</th>\n",
              "      <td>662</td>\n",
              "    </tr>\n",
              "    <tr>\n",
              "      <th>4152</th>\n",
              "      <td>652</td>\n",
              "    </tr>\n",
              "    <tr>\n",
              "      <th>5531</th>\n",
              "      <td>618</td>\n",
              "    </tr>\n",
              "    <tr>\n",
              "      <th>4448</th>\n",
              "      <td>609</td>\n",
              "    </tr>\n",
              "    <tr>\n",
              "      <th>6189</th>\n",
              "      <td>606</td>\n",
              "    </tr>\n",
              "    <tr>\n",
              "      <th>6293</th>\n",
              "      <td>583</td>\n",
              "    </tr>\n",
              "    <tr>\n",
              "      <th>1334</th>\n",
              "      <td>570</td>\n",
              "    </tr>\n",
              "  </tbody>\n",
              "</table>\n",
              "</div>\n",
              "      <button class=\"colab-df-convert\" onclick=\"convertToInteractive('df-2e7ca2b2-2448-4e80-abf5-79128e403771')\"\n",
              "              title=\"Convert this dataframe to an interactive table.\"\n",
              "              style=\"display:none;\">\n",
              "        \n",
              "  <svg xmlns=\"http://www.w3.org/2000/svg\" height=\"24px\"viewBox=\"0 0 24 24\"\n",
              "       width=\"24px\">\n",
              "    <path d=\"M0 0h24v24H0V0z\" fill=\"none\"/>\n",
              "    <path d=\"M18.56 5.44l.94 2.06.94-2.06 2.06-.94-2.06-.94-.94-2.06-.94 2.06-2.06.94zm-11 1L8.5 8.5l.94-2.06 2.06-.94-2.06-.94L8.5 2.5l-.94 2.06-2.06.94zm10 10l.94 2.06.94-2.06 2.06-.94-2.06-.94-.94-2.06-.94 2.06-2.06.94z\"/><path d=\"M17.41 7.96l-1.37-1.37c-.4-.4-.92-.59-1.43-.59-.52 0-1.04.2-1.43.59L10.3 9.45l-7.72 7.72c-.78.78-.78 2.05 0 2.83L4 21.41c.39.39.9.59 1.41.59.51 0 1.02-.2 1.41-.59l7.78-7.78 2.81-2.81c.8-.78.8-2.07 0-2.86zM5.41 20L4 18.59l7.72-7.72 1.47 1.35L5.41 20z\"/>\n",
              "  </svg>\n",
              "      </button>\n",
              "      \n",
              "  <style>\n",
              "    .colab-df-container {\n",
              "      display:flex;\n",
              "      flex-wrap:wrap;\n",
              "      gap: 12px;\n",
              "    }\n",
              "\n",
              "    .colab-df-convert {\n",
              "      background-color: #E8F0FE;\n",
              "      border: none;\n",
              "      border-radius: 50%;\n",
              "      cursor: pointer;\n",
              "      display: none;\n",
              "      fill: #1967D2;\n",
              "      height: 32px;\n",
              "      padding: 0 0 0 0;\n",
              "      width: 32px;\n",
              "    }\n",
              "\n",
              "    .colab-df-convert:hover {\n",
              "      background-color: #E2EBFA;\n",
              "      box-shadow: 0px 1px 2px rgba(60, 64, 67, 0.3), 0px 1px 3px 1px rgba(60, 64, 67, 0.15);\n",
              "      fill: #174EA6;\n",
              "    }\n",
              "\n",
              "    [theme=dark] .colab-df-convert {\n",
              "      background-color: #3B4455;\n",
              "      fill: #D2E3FC;\n",
              "    }\n",
              "\n",
              "    [theme=dark] .colab-df-convert:hover {\n",
              "      background-color: #434B5C;\n",
              "      box-shadow: 0px 1px 3px 1px rgba(0, 0, 0, 0.15);\n",
              "      filter: drop-shadow(0px 1px 2px rgba(0, 0, 0, 0.3));\n",
              "      fill: #FFFFFF;\n",
              "    }\n",
              "  </style>\n",
              "\n",
              "      <script>\n",
              "        const buttonEl =\n",
              "          document.querySelector('#df-2e7ca2b2-2448-4e80-abf5-79128e403771 button.colab-df-convert');\n",
              "        buttonEl.style.display =\n",
              "          google.colab.kernel.accessAllowed ? 'block' : 'none';\n",
              "\n",
              "        async function convertToInteractive(key) {\n",
              "          const element = document.querySelector('#df-2e7ca2b2-2448-4e80-abf5-79128e403771');\n",
              "          const dataTable =\n",
              "            await google.colab.kernel.invokeFunction('convertToInteractive',\n",
              "                                                     [key], {});\n",
              "          if (!dataTable) return;\n",
              "\n",
              "          const docLinkHtml = 'Like what you see? Visit the ' +\n",
              "            '<a target=\"_blank\" href=https://colab.research.google.com/notebooks/data_table.ipynb>data table notebook</a>'\n",
              "            + ' to learn more about interactive tables.';\n",
              "          element.innerHTML = '';\n",
              "          dataTable['output_type'] = 'display_data';\n",
              "          await google.colab.output.renderOutput(dataTable, element);\n",
              "          const docLink = document.createElement('div');\n",
              "          docLink.innerHTML = docLinkHtml;\n",
              "          element.appendChild(docLink);\n",
              "        }\n",
              "      </script>\n",
              "    </div>\n",
              "  </div>\n",
              "  "
            ]
          },
          "metadata": {},
          "execution_count": 25
        }
      ],
      "source": [
        "highest_song = pd.DataFrame(df_final.groupby(['song_id']).size().sort_values(ascending = False))\n",
        "highest_song.head(10)"
      ]
    },
    {
      "cell_type": "markdown",
      "metadata": {
        "id": "nnoXCc9zIV45"
      },
      "source": [
        "Most interacted users"
      ]
    },
    {
      "cell_type": "code",
      "execution_count": null,
      "metadata": {
        "id": "971EiBdf2T9X",
        "colab": {
          "base_uri": "https://localhost:8080/",
          "height": 394
        },
        "outputId": "6ea3a7c2-4416-497f-9fa7-7593fa50991d"
      },
      "outputs": [
        {
          "output_type": "execute_result",
          "data": {
            "text/plain": [
              "           0\n",
              "user_id     \n",
              "61472    243\n",
              "15733    227\n",
              "37049    202\n",
              "9570     184\n",
              "23337    177\n",
              "10763    176\n",
              "9097     175\n",
              "26616    175\n",
              "43041    174\n",
              "65994    171"
            ],
            "text/html": [
              "\n",
              "  <div id=\"df-daeb1257-2cf7-4bca-b364-8026cb561347\">\n",
              "    <div class=\"colab-df-container\">\n",
              "      <div>\n",
              "<style scoped>\n",
              "    .dataframe tbody tr th:only-of-type {\n",
              "        vertical-align: middle;\n",
              "    }\n",
              "\n",
              "    .dataframe tbody tr th {\n",
              "        vertical-align: top;\n",
              "    }\n",
              "\n",
              "    .dataframe thead th {\n",
              "        text-align: right;\n",
              "    }\n",
              "</style>\n",
              "<table border=\"1\" class=\"dataframe\">\n",
              "  <thead>\n",
              "    <tr style=\"text-align: right;\">\n",
              "      <th></th>\n",
              "      <th>0</th>\n",
              "    </tr>\n",
              "    <tr>\n",
              "      <th>user_id</th>\n",
              "      <th></th>\n",
              "    </tr>\n",
              "  </thead>\n",
              "  <tbody>\n",
              "    <tr>\n",
              "      <th>61472</th>\n",
              "      <td>243</td>\n",
              "    </tr>\n",
              "    <tr>\n",
              "      <th>15733</th>\n",
              "      <td>227</td>\n",
              "    </tr>\n",
              "    <tr>\n",
              "      <th>37049</th>\n",
              "      <td>202</td>\n",
              "    </tr>\n",
              "    <tr>\n",
              "      <th>9570</th>\n",
              "      <td>184</td>\n",
              "    </tr>\n",
              "    <tr>\n",
              "      <th>23337</th>\n",
              "      <td>177</td>\n",
              "    </tr>\n",
              "    <tr>\n",
              "      <th>10763</th>\n",
              "      <td>176</td>\n",
              "    </tr>\n",
              "    <tr>\n",
              "      <th>9097</th>\n",
              "      <td>175</td>\n",
              "    </tr>\n",
              "    <tr>\n",
              "      <th>26616</th>\n",
              "      <td>175</td>\n",
              "    </tr>\n",
              "    <tr>\n",
              "      <th>43041</th>\n",
              "      <td>174</td>\n",
              "    </tr>\n",
              "    <tr>\n",
              "      <th>65994</th>\n",
              "      <td>171</td>\n",
              "    </tr>\n",
              "  </tbody>\n",
              "</table>\n",
              "</div>\n",
              "      <button class=\"colab-df-convert\" onclick=\"convertToInteractive('df-daeb1257-2cf7-4bca-b364-8026cb561347')\"\n",
              "              title=\"Convert this dataframe to an interactive table.\"\n",
              "              style=\"display:none;\">\n",
              "        \n",
              "  <svg xmlns=\"http://www.w3.org/2000/svg\" height=\"24px\"viewBox=\"0 0 24 24\"\n",
              "       width=\"24px\">\n",
              "    <path d=\"M0 0h24v24H0V0z\" fill=\"none\"/>\n",
              "    <path d=\"M18.56 5.44l.94 2.06.94-2.06 2.06-.94-2.06-.94-.94-2.06-.94 2.06-2.06.94zm-11 1L8.5 8.5l.94-2.06 2.06-.94-2.06-.94L8.5 2.5l-.94 2.06-2.06.94zm10 10l.94 2.06.94-2.06 2.06-.94-2.06-.94-.94-2.06-.94 2.06-2.06.94z\"/><path d=\"M17.41 7.96l-1.37-1.37c-.4-.4-.92-.59-1.43-.59-.52 0-1.04.2-1.43.59L10.3 9.45l-7.72 7.72c-.78.78-.78 2.05 0 2.83L4 21.41c.39.39.9.59 1.41.59.51 0 1.02-.2 1.41-.59l7.78-7.78 2.81-2.81c.8-.78.8-2.07 0-2.86zM5.41 20L4 18.59l7.72-7.72 1.47 1.35L5.41 20z\"/>\n",
              "  </svg>\n",
              "      </button>\n",
              "      \n",
              "  <style>\n",
              "    .colab-df-container {\n",
              "      display:flex;\n",
              "      flex-wrap:wrap;\n",
              "      gap: 12px;\n",
              "    }\n",
              "\n",
              "    .colab-df-convert {\n",
              "      background-color: #E8F0FE;\n",
              "      border: none;\n",
              "      border-radius: 50%;\n",
              "      cursor: pointer;\n",
              "      display: none;\n",
              "      fill: #1967D2;\n",
              "      height: 32px;\n",
              "      padding: 0 0 0 0;\n",
              "      width: 32px;\n",
              "    }\n",
              "\n",
              "    .colab-df-convert:hover {\n",
              "      background-color: #E2EBFA;\n",
              "      box-shadow: 0px 1px 2px rgba(60, 64, 67, 0.3), 0px 1px 3px 1px rgba(60, 64, 67, 0.15);\n",
              "      fill: #174EA6;\n",
              "    }\n",
              "\n",
              "    [theme=dark] .colab-df-convert {\n",
              "      background-color: #3B4455;\n",
              "      fill: #D2E3FC;\n",
              "    }\n",
              "\n",
              "    [theme=dark] .colab-df-convert:hover {\n",
              "      background-color: #434B5C;\n",
              "      box-shadow: 0px 1px 3px 1px rgba(0, 0, 0, 0.15);\n",
              "      filter: drop-shadow(0px 1px 2px rgba(0, 0, 0, 0.3));\n",
              "      fill: #FFFFFF;\n",
              "    }\n",
              "  </style>\n",
              "\n",
              "      <script>\n",
              "        const buttonEl =\n",
              "          document.querySelector('#df-daeb1257-2cf7-4bca-b364-8026cb561347 button.colab-df-convert');\n",
              "        buttonEl.style.display =\n",
              "          google.colab.kernel.accessAllowed ? 'block' : 'none';\n",
              "\n",
              "        async function convertToInteractive(key) {\n",
              "          const element = document.querySelector('#df-daeb1257-2cf7-4bca-b364-8026cb561347');\n",
              "          const dataTable =\n",
              "            await google.colab.kernel.invokeFunction('convertToInteractive',\n",
              "                                                     [key], {});\n",
              "          if (!dataTable) return;\n",
              "\n",
              "          const docLinkHtml = 'Like what you see? Visit the ' +\n",
              "            '<a target=\"_blank\" href=https://colab.research.google.com/notebooks/data_table.ipynb>data table notebook</a>'\n",
              "            + ' to learn more about interactive tables.';\n",
              "          element.innerHTML = '';\n",
              "          dataTable['output_type'] = 'display_data';\n",
              "          await google.colab.output.renderOutput(dataTable, element);\n",
              "          const docLink = document.createElement('div');\n",
              "          docLink.innerHTML = docLinkHtml;\n",
              "          element.appendChild(docLink);\n",
              "        }\n",
              "      </script>\n",
              "    </div>\n",
              "  </div>\n",
              "  "
            ]
          },
          "metadata": {},
          "execution_count": 26
        }
      ],
      "source": [
        "highest_users = pd.DataFrame(df_final.groupby(['user_id']).size().sort_values(ascending = False))\n",
        "highest_users.head(10)"
      ]
    },
    {
      "cell_type": "markdown",
      "metadata": {
        "id": "tPZRc1e-eyyO"
      },
      "source": [
        "#### **Observations and Insights:**\n",
        "\n",
        "* The song most interacted with by users has value __751__\n",
        "* The user that has interacted with the most songs with value __234__\n"
      ]
    },
    {
      "cell_type": "markdown",
      "metadata": {
        "id": "joFF5zndX1Dk"
      },
      "source": [
        "Songs played in a year"
      ]
    },
    {
      "cell_type": "code",
      "source": [
        "df_final.head()"
      ],
      "metadata": {
        "colab": {
          "base_uri": "https://localhost:8080/",
          "height": 250
        },
        "id": "jxsbt4E9j0H-",
        "outputId": "9f088d40-eda8-4616-eb27-460f65542717"
      },
      "execution_count": null,
      "outputs": [
        {
          "output_type": "execute_result",
          "data": {
            "text/plain": [
              "     user_id  song_id  play_count                            title  \\\n",
              "200     6958      447           1               Daisy And Prudence   \n",
              "202     6958      512           1  The Ballad of Michael Valentine   \n",
              "203     6958      549           1        I Stand Corrected (Album)   \n",
              "204     6958      703           1            They Might Follow You   \n",
              "205     6958      719           1                       Monkey Man   \n",
              "\n",
              "                  release      artist_name  year  \n",
              "200          Distillation     Erin McKeown  2000  \n",
              "202               Sawdust      The Killers  2004  \n",
              "203       Vampire Weekend  Vampire Weekend  2007  \n",
              "204           Tiny Vipers      Tiny Vipers  2007  \n",
              "205  You Know I'm No Good    Amy Winehouse  2007  "
            ],
            "text/html": [
              "\n",
              "  <div id=\"df-d7a3a699-5da7-4973-9a54-70ea17172abd\">\n",
              "    <div class=\"colab-df-container\">\n",
              "      <div>\n",
              "<style scoped>\n",
              "    .dataframe tbody tr th:only-of-type {\n",
              "        vertical-align: middle;\n",
              "    }\n",
              "\n",
              "    .dataframe tbody tr th {\n",
              "        vertical-align: top;\n",
              "    }\n",
              "\n",
              "    .dataframe thead th {\n",
              "        text-align: right;\n",
              "    }\n",
              "</style>\n",
              "<table border=\"1\" class=\"dataframe\">\n",
              "  <thead>\n",
              "    <tr style=\"text-align: right;\">\n",
              "      <th></th>\n",
              "      <th>user_id</th>\n",
              "      <th>song_id</th>\n",
              "      <th>play_count</th>\n",
              "      <th>title</th>\n",
              "      <th>release</th>\n",
              "      <th>artist_name</th>\n",
              "      <th>year</th>\n",
              "    </tr>\n",
              "  </thead>\n",
              "  <tbody>\n",
              "    <tr>\n",
              "      <th>200</th>\n",
              "      <td>6958</td>\n",
              "      <td>447</td>\n",
              "      <td>1</td>\n",
              "      <td>Daisy And Prudence</td>\n",
              "      <td>Distillation</td>\n",
              "      <td>Erin McKeown</td>\n",
              "      <td>2000</td>\n",
              "    </tr>\n",
              "    <tr>\n",
              "      <th>202</th>\n",
              "      <td>6958</td>\n",
              "      <td>512</td>\n",
              "      <td>1</td>\n",
              "      <td>The Ballad of Michael Valentine</td>\n",
              "      <td>Sawdust</td>\n",
              "      <td>The Killers</td>\n",
              "      <td>2004</td>\n",
              "    </tr>\n",
              "    <tr>\n",
              "      <th>203</th>\n",
              "      <td>6958</td>\n",
              "      <td>549</td>\n",
              "      <td>1</td>\n",
              "      <td>I Stand Corrected (Album)</td>\n",
              "      <td>Vampire Weekend</td>\n",
              "      <td>Vampire Weekend</td>\n",
              "      <td>2007</td>\n",
              "    </tr>\n",
              "    <tr>\n",
              "      <th>204</th>\n",
              "      <td>6958</td>\n",
              "      <td>703</td>\n",
              "      <td>1</td>\n",
              "      <td>They Might Follow You</td>\n",
              "      <td>Tiny Vipers</td>\n",
              "      <td>Tiny Vipers</td>\n",
              "      <td>2007</td>\n",
              "    </tr>\n",
              "    <tr>\n",
              "      <th>205</th>\n",
              "      <td>6958</td>\n",
              "      <td>719</td>\n",
              "      <td>1</td>\n",
              "      <td>Monkey Man</td>\n",
              "      <td>You Know I'm No Good</td>\n",
              "      <td>Amy Winehouse</td>\n",
              "      <td>2007</td>\n",
              "    </tr>\n",
              "  </tbody>\n",
              "</table>\n",
              "</div>\n",
              "      <button class=\"colab-df-convert\" onclick=\"convertToInteractive('df-d7a3a699-5da7-4973-9a54-70ea17172abd')\"\n",
              "              title=\"Convert this dataframe to an interactive table.\"\n",
              "              style=\"display:none;\">\n",
              "        \n",
              "  <svg xmlns=\"http://www.w3.org/2000/svg\" height=\"24px\"viewBox=\"0 0 24 24\"\n",
              "       width=\"24px\">\n",
              "    <path d=\"M0 0h24v24H0V0z\" fill=\"none\"/>\n",
              "    <path d=\"M18.56 5.44l.94 2.06.94-2.06 2.06-.94-2.06-.94-.94-2.06-.94 2.06-2.06.94zm-11 1L8.5 8.5l.94-2.06 2.06-.94-2.06-.94L8.5 2.5l-.94 2.06-2.06.94zm10 10l.94 2.06.94-2.06 2.06-.94-2.06-.94-.94-2.06-.94 2.06-2.06.94z\"/><path d=\"M17.41 7.96l-1.37-1.37c-.4-.4-.92-.59-1.43-.59-.52 0-1.04.2-1.43.59L10.3 9.45l-7.72 7.72c-.78.78-.78 2.05 0 2.83L4 21.41c.39.39.9.59 1.41.59.51 0 1.02-.2 1.41-.59l7.78-7.78 2.81-2.81c.8-.78.8-2.07 0-2.86zM5.41 20L4 18.59l7.72-7.72 1.47 1.35L5.41 20z\"/>\n",
              "  </svg>\n",
              "      </button>\n",
              "      \n",
              "  <style>\n",
              "    .colab-df-container {\n",
              "      display:flex;\n",
              "      flex-wrap:wrap;\n",
              "      gap: 12px;\n",
              "    }\n",
              "\n",
              "    .colab-df-convert {\n",
              "      background-color: #E8F0FE;\n",
              "      border: none;\n",
              "      border-radius: 50%;\n",
              "      cursor: pointer;\n",
              "      display: none;\n",
              "      fill: #1967D2;\n",
              "      height: 32px;\n",
              "      padding: 0 0 0 0;\n",
              "      width: 32px;\n",
              "    }\n",
              "\n",
              "    .colab-df-convert:hover {\n",
              "      background-color: #E2EBFA;\n",
              "      box-shadow: 0px 1px 2px rgba(60, 64, 67, 0.3), 0px 1px 3px 1px rgba(60, 64, 67, 0.15);\n",
              "      fill: #174EA6;\n",
              "    }\n",
              "\n",
              "    [theme=dark] .colab-df-convert {\n",
              "      background-color: #3B4455;\n",
              "      fill: #D2E3FC;\n",
              "    }\n",
              "\n",
              "    [theme=dark] .colab-df-convert:hover {\n",
              "      background-color: #434B5C;\n",
              "      box-shadow: 0px 1px 3px 1px rgba(0, 0, 0, 0.15);\n",
              "      filter: drop-shadow(0px 1px 2px rgba(0, 0, 0, 0.3));\n",
              "      fill: #FFFFFF;\n",
              "    }\n",
              "  </style>\n",
              "\n",
              "      <script>\n",
              "        const buttonEl =\n",
              "          document.querySelector('#df-d7a3a699-5da7-4973-9a54-70ea17172abd button.colab-df-convert');\n",
              "        buttonEl.style.display =\n",
              "          google.colab.kernel.accessAllowed ? 'block' : 'none';\n",
              "\n",
              "        async function convertToInteractive(key) {\n",
              "          const element = document.querySelector('#df-d7a3a699-5da7-4973-9a54-70ea17172abd');\n",
              "          const dataTable =\n",
              "            await google.colab.kernel.invokeFunction('convertToInteractive',\n",
              "                                                     [key], {});\n",
              "          if (!dataTable) return;\n",
              "\n",
              "          const docLinkHtml = 'Like what you see? Visit the ' +\n",
              "            '<a target=\"_blank\" href=https://colab.research.google.com/notebooks/data_table.ipynb>data table notebook</a>'\n",
              "            + ' to learn more about interactive tables.';\n",
              "          element.innerHTML = '';\n",
              "          dataTable['output_type'] = 'display_data';\n",
              "          await google.colab.output.renderOutput(dataTable, element);\n",
              "          const docLink = document.createElement('div');\n",
              "          docLink.innerHTML = docLinkHtml;\n",
              "          element.appendChild(docLink);\n",
              "        }\n",
              "      </script>\n",
              "    </div>\n",
              "  </div>\n",
              "  "
            ]
          },
          "metadata": {},
          "execution_count": 27
        }
      ]
    },
    {
      "cell_type": "code",
      "execution_count": null,
      "metadata": {
        "id": "bQp2iVMC2T9Y"
      },
      "outputs": [],
      "source": [
        "# Find out the number of songs played in a year\n",
        "# Hint: # Hint: Use groupby function on the 'year' column\n",
        "\n",
        "count_songs = pd.DataFrame(df_final.groupby('year').size())\n",
        "count_songs = count_songs.reset_index()\n",
        "count_songs.columns = ['year', 'count']\n",
        "count_songs = count_songs.iloc[1:]"
      ]
    },
    {
      "cell_type": "code",
      "execution_count": null,
      "metadata": {
        "id": "bZCkOiAB2T9Y",
        "colab": {
          "base_uri": "https://localhost:8080/",
          "height": 361
        },
        "outputId": "07de7871-27b7-479c-a30c-adfc279b6d12"
      },
      "outputs": [
        {
          "output_type": "display_data",
          "data": {
            "text/plain": [
              "<Figure size 5000x2000 with 1 Axes>"
            ],
            "image/png": "[encoded data removed]"
          },
          "metadata": {}
        }
      ],
      "source": [
        "# Create a barplot plot with y label as \"number of titles played\" and x -axis year\n",
        "\n",
        "# Set the figure size\n",
        "plt.figure(figsize = (50, 20))\n",
        "\n",
        "sns.barplot(data = count_songs,\n",
        "            x = 'year',\n",
        "            y = 'count',\n",
        "            estimator = np.median)\n",
        "\n",
        "# Set the x label of the plot\n",
        "plt.xlabel('year', fontsize=40)\n",
        "\n",
        "# Set the y label of the plot\n",
        "plt.ylabel('number of titles', fontsize=40)\n",
        "\n",
        "# Show the plot\n",
        "plt.show()"
      ]
    },
    {
      "cell_type": "markdown",
      "metadata": {
        "id": "VUcXc7ZYfaGl"
      },
      "source": [
        "#### **Observations and Insights:** # \n",
        "\n",
        "* We do have a large amount of data that has essentially missing data with year 0.\n",
        "\n",
        "* Also there is an increasing trend over time with number of songs, with largest recording in 2009. There is a drop of in 2010 may not have the complete releases for this year. \n",
        "\n",
        "* The data spans from release year 1969 to 2010"
      ]
    },
    {
      "cell_type": "markdown",
      "metadata": {
        "id": "RtAjyDMioHCp"
      },
      "source": [
        "**Think About It:** What other insights can be drawn using exploratory data analysis?\n",
        "\n",
        "\n",
        "__Exploratory Analysis__ we can also look into the __distrubtion of play_count__ this will be important to understanding how the songs were rate rated by users.  "
      ]
    },
    {
      "cell_type": "code",
      "source": [
        "plt.figure(figsize = (12, 6))\n",
        "\n",
        "df_final['play_count'].value_counts(1).plot(kind = 'barh')\n",
        "\n",
        "plt.show()"
      ],
      "metadata": {
        "colab": {
          "base_uri": "https://localhost:8080/",
          "height": 454
        },
        "id": "GVw4HW4Y93LM",
        "outputId": "2d44873d-a4bf-43fe-d081-2d4d7b8cf535"
      },
      "execution_count": null,
      "outputs": [
        {
          "output_type": "display_data",
          "data": {
            "text/plain": [
              "<Figure size 1200x600 with 1 Axes>"
            ],
            "image/png": "[encoded data removed]"
          },
          "metadata": {}
        }
      ]
    },
    {
      "cell_type": "markdown",
      "source": [
        "__Oberservations and Insights__\n",
        "\n",
        "* Here we can see that ratings are tend to be rated very low, highest rating is 1 taking up over 60% of the ratings. \n",
        "\n",
        "* It is important to keep in mind that the ratings tend to be on the lower end of the 5 scale rating"
      ],
      "metadata": {
        "id": "MX-mFqNe-I07"
      }
    },
    {
      "cell_type": "markdown",
      "metadata": {
        "id": "OWO4C8KsK_5e"
      },
      "source": [
        "Now that we have explored the data, let's apply different algorithms to build recommendation systems.\n",
        "\n",
        "**Note:** Use the shorter version of the data, i.e., the data after the cutoffs as used in Milestone 1."
      ]
    },
    {
      "cell_type": "markdown",
      "metadata": {
        "id": "9VThYg7voGIz"
      },
      "source": [
        "## Building various models"
      ]
    },
    {
      "cell_type": "markdown",
      "metadata": {
        "id": "Ituk9wA4Idib"
      },
      "source": [
        "### **Popularity-Based Recommendation Systems**"
      ]
    },
    {
      "cell_type": "markdown",
      "metadata": {
        "id": "462hsbxaI1ED"
      },
      "source": [
        "Let's take the count and sum of play counts of the songs and build the popularity recommendation systems based on the sum of play counts."
      ]
    },
    {
      "cell_type": "code",
      "source": [
        "df_final.head()"
      ],
      "metadata": {
        "colab": {
          "base_uri": "https://localhost:8080/",
          "height": 250
        },
        "id": "0sdSjqwd7S0F",
        "outputId": "c31730d0-76b1-4cb8-f829-040c6b909626"
      },
      "execution_count": null,
      "outputs": [
        {
          "output_type": "execute_result",
          "data": {
            "text/plain": [
              "     user_id  song_id  play_count                            title  \\\n",
              "200     6958      447           1               Daisy And Prudence   \n",
              "202     6958      512           1  The Ballad of Michael Valentine   \n",
              "203     6958      549           1        I Stand Corrected (Album)   \n",
              "204     6958      703           1            They Might Follow You   \n",
              "205     6958      719           1                       Monkey Man   \n",
              "\n",
              "                  release      artist_name  year  \n",
              "200          Distillation     Erin McKeown  2000  \n",
              "202               Sawdust      The Killers  2004  \n",
              "203       Vampire Weekend  Vampire Weekend  2007  \n",
              "204           Tiny Vipers      Tiny Vipers  2007  \n",
              "205  You Know I'm No Good    Amy Winehouse  2007  "
            ],
            "text/html": [
              "\n",
              "  <div id=\"df-40340f17-474e-4c84-9dab-651312ad9fee\">\n",
              "    <div class=\"colab-df-container\">\n",
              "      <div>\n",
              "<style scoped>\n",
              "    .dataframe tbody tr th:only-of-type {\n",
              "        vertical-align: middle;\n",
              "    }\n",
              "\n",
              "    .dataframe tbody tr th {\n",
              "        vertical-align: top;\n",
              "    }\n",
              "\n",
              "    .dataframe thead th {\n",
              "        text-align: right;\n",
              "    }\n",
              "</style>\n",
              "<table border=\"1\" class=\"dataframe\">\n",
              "  <thead>\n",
              "    <tr style=\"text-align: right;\">\n",
              "      <th></th>\n",
              "      <th>user_id</th>\n",
              "      <th>song_id</th>\n",
              "      <th>play_count</th>\n",
              "      <th>title</th>\n",
              "      <th>release</th>\n",
              "      <th>artist_name</th>\n",
              "      <th>year</th>\n",
              "    </tr>\n",
              "  </thead>\n",
              "  <tbody>\n",
              "    <tr>\n",
              "      <th>200</th>\n",
              "      <td>6958</td>\n",
              "      <td>447</td>\n",
              "      <td>1</td>\n",
              "      <td>Daisy And Prudence</td>\n",
              "      <td>Distillation</td>\n",
              "      <td>Erin McKeown</td>\n",
              "      <td>2000</td>\n",
              "    </tr>\n",
              "    <tr>\n",
              "      <th>202</th>\n",
              "      <td>6958</td>\n",
              "      <td>512</td>\n",
              "      <td>1</td>\n",
              "      <td>The Ballad of Michael Valentine</td>\n",
              "      <td>Sawdust</td>\n",
              "      <td>The Killers</td>\n",
              "      <td>2004</td>\n",
              "    </tr>\n",
              "    <tr>\n",
              "      <th>203</th>\n",
              "      <td>6958</td>\n",
              "      <td>549</td>\n",
              "      <td>1</td>\n",
              "      <td>I Stand Corrected (Album)</td>\n",
              "      <td>Vampire Weekend</td>\n",
              "      <td>Vampire Weekend</td>\n",
              "      <td>2007</td>\n",
              "    </tr>\n",
              "    <tr>\n",
              "      <th>204</th>\n",
              "      <td>6958</td>\n",
              "      <td>703</td>\n",
              "      <td>1</td>\n",
              "      <td>They Might Follow You</td>\n",
              "      <td>Tiny Vipers</td>\n",
              "      <td>Tiny Vipers</td>\n",
              "      <td>2007</td>\n",
              "    </tr>\n",
              "    <tr>\n",
              "      <th>205</th>\n",
              "      <td>6958</td>\n",
              "      <td>719</td>\n",
              "      <td>1</td>\n",
              "      <td>Monkey Man</td>\n",
              "      <td>You Know I'm No Good</td>\n",
              "      <td>Amy Winehouse</td>\n",
              "      <td>2007</td>\n",
              "    </tr>\n",
              "  </tbody>\n",
              "</table>\n",
              "</div>\n",
              "      <button class=\"colab-df-convert\" onclick=\"convertToInteractive('df-40340f17-474e-4c84-9dab-651312ad9fee')\"\n",
              "              title=\"Convert this dataframe to an interactive table.\"\n",
              "              style=\"display:none;\">\n",
              "        \n",
              "  <svg xmlns=\"http://www.w3.org/2000/svg\" height=\"24px\"viewBox=\"0 0 24 24\"\n",
              "       width=\"24px\">\n",
              "    <path d=\"M0 0h24v24H0V0z\" fill=\"none\"/>\n",
              "    <path d=\"M18.56 5.44l.94 2.06.94-2.06 2.06-.94-2.06-.94-.94-2.06-.94 2.06-2.06.94zm-11 1L8.5 8.5l.94-2.06 2.06-.94-2.06-.94L8.5 2.5l-.94 2.06-2.06.94zm10 10l.94 2.06.94-2.06 2.06-.94-2.06-.94-.94-2.06-.94 2.06-2.06.94z\"/><path d=\"M17.41 7.96l-1.37-1.37c-.4-.4-.92-.59-1.43-.59-.52 0-1.04.2-1.43.59L10.3 9.45l-7.72 7.72c-.78.78-.78 2.05 0 2.83L4 21.41c.39.39.9.59 1.41.59.51 0 1.02-.2 1.41-.59l7.78-7.78 2.81-2.81c.8-.78.8-2.07 0-2.86zM5.41 20L4 18.59l7.72-7.72 1.47 1.35L5.41 20z\"/>\n",
              "  </svg>\n",
              "      </button>\n",
              "      \n",
              "  <style>\n",
              "    .colab-df-container {\n",
              "      display:flex;\n",
              "      flex-wrap:wrap;\n",
              "      gap: 12px;\n",
              "    }\n",
              "\n",
              "    .colab-df-convert {\n",
              "      background-color: #E8F0FE;\n",
              "      border: none;\n",
              "      border-radius: 50%;\n",
              "      cursor: pointer;\n",
              "      display: none;\n",
              "      fill: #1967D2;\n",
              "      height: 32px;\n",
              "      padding: 0 0 0 0;\n",
              "      width: 32px;\n",
              "    }\n",
              "\n",
              "    .colab-df-convert:hover {\n",
              "      background-color: #E2EBFA;\n",
              "      box-shadow: 0px 1px 2px rgba(60, 64, 67, 0.3), 0px 1px 3px 1px rgba(60, 64, 67, 0.15);\n",
              "      fill: #174EA6;\n",
              "    }\n",
              "\n",
              "    [theme=dark] .colab-df-convert {\n",
              "      background-color: #3B4455;\n",
              "      fill: #D2E3FC;\n",
              "    }\n",
              "\n",
              "    [theme=dark] .colab-df-convert:hover {\n",
              "      background-color: #434B5C;\n",
              "      box-shadow: 0px 1px 3px 1px rgba(0, 0, 0, 0.15);\n",
              "      filter: drop-shadow(0px 1px 2px rgba(0, 0, 0, 0.3));\n",
              "      fill: #FFFFFF;\n",
              "    }\n",
              "  </style>\n",
              "\n",
              "      <script>\n",
              "        const buttonEl =\n",
              "          document.querySelector('#df-40340f17-474e-4c84-9dab-651312ad9fee button.colab-df-convert');\n",
              "        buttonEl.style.display =\n",
              "          google.colab.kernel.accessAllowed ? 'block' : 'none';\n",
              "\n",
              "        async function convertToInteractive(key) {\n",
              "          const element = document.querySelector('#df-40340f17-474e-4c84-9dab-651312ad9fee');\n",
              "          const dataTable =\n",
              "            await google.colab.kernel.invokeFunction('convertToInteractive',\n",
              "                                                     [key], {});\n",
              "          if (!dataTable) return;\n",
              "\n",
              "          const docLinkHtml = 'Like what you see? Visit the ' +\n",
              "            '<a target=\"_blank\" href=https://colab.research.google.com/notebooks/data_table.ipynb>data table notebook</a>'\n",
              "            + ' to learn more about interactive tables.';\n",
              "          element.innerHTML = '';\n",
              "          dataTable['output_type'] = 'display_data';\n",
              "          await google.colab.output.renderOutput(dataTable, element);\n",
              "          const docLink = document.createElement('div');\n",
              "          docLink.innerHTML = docLinkHtml;\n",
              "          element.appendChild(docLink);\n",
              "        }\n",
              "      </script>\n",
              "    </div>\n",
              "  </div>\n",
              "  "
            ]
          },
          "metadata": {},
          "execution_count": 31
        }
      ]
    },
    {
      "cell_type": "code",
      "execution_count": null,
      "metadata": {
        "id": "UXhBZlDE-jEu"
      },
      "outputs": [],
      "source": [
        "# Calculating average play_count\n",
        "# Hint: Use groupby function on the song_id column\n",
        "avg_play_count_df = df_final.groupby(['song_id']).agg({'play_count': 'mean'})\n",
        "\n",
        "# Calculating the frequency a song is played\n",
        "# Hint: Use groupby function on the song_id column\n",
        "\n",
        "freq_song_df = df_final.groupby(['song_id']).agg({'play_count': 'sum'})"
      ]
    },
    {
      "cell_type": "code",
      "execution_count": null,
      "metadata": {
        "id": "v2XYdXvWdyys",
        "colab": {
          "base_uri": "https://localhost:8080/",
          "height": 238
        },
        "outputId": "cae43c57-32eb-4ccd-a5ec-3b719ab4a4ad"
      },
      "outputs": [
        {
          "output_type": "execute_result",
          "data": {
            "text/plain": [
              "         avg_play_count  number_play_count\n",
              "song_id                                   \n",
              "21             1.622642                265\n",
              "22             1.492424                132\n",
              "52             1.729216                421\n",
              "62             1.728070                114\n",
              "93             1.452174                115"
            ],
            "text/html": [
              "\n",
              "  <div id=\"df-76395819-2853-4787-8451-ba8160dac9dc\">\n",
              "    <div class=\"colab-df-container\">\n",
              "      <div>\n",
              "<style scoped>\n",
              "    .dataframe tbody tr th:only-of-type {\n",
              "        vertical-align: middle;\n",
              "    }\n",
              "\n",
              "    .dataframe tbody tr th {\n",
              "        vertical-align: top;\n",
              "    }\n",
              "\n",
              "    .dataframe thead th {\n",
              "        text-align: right;\n",
              "    }\n",
              "</style>\n",
              "<table border=\"1\" class=\"dataframe\">\n",
              "  <thead>\n",
              "    <tr style=\"text-align: right;\">\n",
              "      <th></th>\n",
              "      <th>avg_play_count</th>\n",
              "      <th>number_play_count</th>\n",
              "    </tr>\n",
              "    <tr>\n",
              "      <th>song_id</th>\n",
              "      <th></th>\n",
              "      <th></th>\n",
              "    </tr>\n",
              "  </thead>\n",
              "  <tbody>\n",
              "    <tr>\n",
              "      <th>21</th>\n",
              "      <td>1.622642</td>\n",
              "      <td>265</td>\n",
              "    </tr>\n",
              "    <tr>\n",
              "      <th>22</th>\n",
              "      <td>1.492424</td>\n",
              "      <td>132</td>\n",
              "    </tr>\n",
              "    <tr>\n",
              "      <th>52</th>\n",
              "      <td>1.729216</td>\n",
              "      <td>421</td>\n",
              "    </tr>\n",
              "    <tr>\n",
              "      <th>62</th>\n",
              "      <td>1.728070</td>\n",
              "      <td>114</td>\n",
              "    </tr>\n",
              "    <tr>\n",
              "      <th>93</th>\n",
              "      <td>1.452174</td>\n",
              "      <td>115</td>\n",
              "    </tr>\n",
              "  </tbody>\n",
              "</table>\n",
              "</div>\n",
              "      <button class=\"colab-df-convert\" onclick=\"convertToInteractive('df-76395819-2853-4787-8451-ba8160dac9dc')\"\n",
              "              title=\"Convert this dataframe to an interactive table.\"\n",
              "              style=\"display:none;\">\n",
              "        \n",
              "  <svg xmlns=\"http://www.w3.org/2000/svg\" height=\"24px\"viewBox=\"0 0 24 24\"\n",
              "       width=\"24px\">\n",
              "    <path d=\"M0 0h24v24H0V0z\" fill=\"none\"/>\n",
              "    <path d=\"M18.56 5.44l.94 2.06.94-2.06 2.06-.94-2.06-.94-.94-2.06-.94 2.06-2.06.94zm-11 1L8.5 8.5l.94-2.06 2.06-.94-2.06-.94L8.5 2.5l-.94 2.06-2.06.94zm10 10l.94 2.06.94-2.06 2.06-.94-2.06-.94-.94-2.06-.94 2.06-2.06.94z\"/><path d=\"M17.41 7.96l-1.37-1.37c-.4-.4-.92-.59-1.43-.59-.52 0-1.04.2-1.43.59L10.3 9.45l-7.72 7.72c-.78.78-.78 2.05 0 2.83L4 21.41c.39.39.9.59 1.41.59.51 0 1.02-.2 1.41-.59l7.78-7.78 2.81-2.81c.8-.78.8-2.07 0-2.86zM5.41 20L4 18.59l7.72-7.72 1.47 1.35L5.41 20z\"/>\n",
              "  </svg>\n",
              "      </button>\n",
              "      \n",
              "  <style>\n",
              "    .colab-df-container {\n",
              "      display:flex;\n",
              "      flex-wrap:wrap;\n",
              "      gap: 12px;\n",
              "    }\n",
              "\n",
              "    .colab-df-convert {\n",
              "      background-color: #E8F0FE;\n",
              "      border: none;\n",
              "      border-radius: 50%;\n",
              "      cursor: pointer;\n",
              "      display: none;\n",
              "      fill: #1967D2;\n",
              "      height: 32px;\n",
              "      padding: 0 0 0 0;\n",
              "      width: 32px;\n",
              "    }\n",
              "\n",
              "    .colab-df-convert:hover {\n",
              "      background-color: #E2EBFA;\n",
              "      box-shadow: 0px 1px 2px rgba(60, 64, 67, 0.3), 0px 1px 3px 1px rgba(60, 64, 67, 0.15);\n",
              "      fill: #174EA6;\n",
              "    }\n",
              "\n",
              "    [theme=dark] .colab-df-convert {\n",
              "      background-color: #3B4455;\n",
              "      fill: #D2E3FC;\n",
              "    }\n",
              "\n",
              "    [theme=dark] .colab-df-convert:hover {\n",
              "      background-color: #434B5C;\n",
              "      box-shadow: 0px 1px 3px 1px rgba(0, 0, 0, 0.15);\n",
              "      filter: drop-shadow(0px 1px 2px rgba(0, 0, 0, 0.3));\n",
              "      fill: #FFFFFF;\n",
              "    }\n",
              "  </style>\n",
              "\n",
              "      <script>\n",
              "        const buttonEl =\n",
              "          document.querySelector('#df-76395819-2853-4787-8451-ba8160dac9dc button.colab-df-convert');\n",
              "        buttonEl.style.display =\n",
              "          google.colab.kernel.accessAllowed ? 'block' : 'none';\n",
              "\n",
              "        async function convertToInteractive(key) {\n",
              "          const element = document.querySelector('#df-76395819-2853-4787-8451-ba8160dac9dc');\n",
              "          const dataTable =\n",
              "            await google.colab.kernel.invokeFunction('convertToInteractive',\n",
              "                                                     [key], {});\n",
              "          if (!dataTable) return;\n",
              "\n",
              "          const docLinkHtml = 'Like what you see? Visit the ' +\n",
              "            '<a target=\"_blank\" href=https://colab.research.google.com/notebooks/data_table.ipynb>data table notebook</a>'\n",
              "            + ' to learn more about interactive tables.';\n",
              "          element.innerHTML = '';\n",
              "          dataTable['output_type'] = 'display_data';\n",
              "          await google.colab.output.renderOutput(dataTable, element);\n",
              "          const docLink = document.createElement('div');\n",
              "          docLink.innerHTML = docLinkHtml;\n",
              "          element.appendChild(docLink);\n",
              "        }\n",
              "      </script>\n",
              "    </div>\n",
              "  </div>\n",
              "  "
            ]
          },
          "metadata": {},
          "execution_count": 33
        }
      ],
      "source": [
        "# Making a dataframe with the average_count and play_freq\n",
        "final_rating = df_final.groupby(['song_id']).agg({'play_count': ['mean','count']})\n",
        "final_rating.columns = ['avg_play_count', 'number_play_count']\n",
        "\n",
        "# Let us see the first five records of the final_play dataset\n",
        "final_rating.head()"
      ]
    },
    {
      "cell_type": "markdown",
      "metadata": {
        "id": "WnCT-A7RK_5g"
      },
      "source": [
        "Now, let's create a function to find the top n songs for a recommendation based on the average play count of song. We can also add a threshold for a minimum number of playcounts for a song to be considered for recommendation."
      ]
    },
    {
      "cell_type": "code",
      "execution_count": null,
      "metadata": {
        "id": "QiT9FV3GNCrb"
      },
      "outputs": [],
      "source": [
        "# Build the function to find top n songs\n",
        "\n",
        "def top_n_songs(input_df, n, play_count_threshold):\n",
        "  # restict the df to only songs that meet the minimum number of playcounts\n",
        "  recommendations = input_df[input_df['number_play_count']>play_count_threshold]\n",
        "\n",
        "  # the question also asks to sort by average play count\n",
        "  recommendations =  recommendations.sort_values(by=['avg_play_count'], ascending = False)\n",
        "\n",
        "  return recommendations[:n].index"
      ]
    },
    {
      "cell_type": "code",
      "execution_count": null,
      "metadata": {
        "id": "GpZt_BeXgz4F",
        "colab": {
          "base_uri": "https://localhost:8080/"
        },
        "outputId": "634adced-e31c-4ef3-de88-ddfb3e0939f8"
      },
      "outputs": [
        {
          "output_type": "execute_result",
          "data": {
            "text/plain": [
              "[5531, 2220, 614, 352, 1664]"
            ]
          },
          "metadata": {},
          "execution_count": 35
        }
      ],
      "source": [
        "# Recommend top 10 songs using the function defined above\n",
        "# this is the top 10 songs that have a minimum play count of 300 songs\n",
        "\n",
        "list(top_n_songs(final_rating, 5, 200))"
      ]
    },
    {
      "cell_type": "code",
      "source": [],
      "metadata": {
        "id": "wkyJgWoo-6Ni"
      },
      "execution_count": null,
      "outputs": []
    },
    {
      "cell_type": "markdown",
      "metadata": {
        "id": "gf13HrPPJeWT"
      },
      "source": [
        "### **User User Similarity-Based Collaborative Filtering**"
      ]
    },
    {
      "cell_type": "markdown",
      "metadata": {
        "id": "ROcEpduohdua"
      },
      "source": [
        "To build the user-user-similarity-based and subsequent models we will use the \"surprise\" library."
      ]
    },
    {
      "cell_type": "code",
      "execution_count": null,
      "metadata": {
        "id": "aKLrKn8IfGjk",
        "colab": {
          "base_uri": "https://localhost:8080/"
        },
        "outputId": "bb864677-af26-4724-e3b9-9150ff219dda"
      },
      "outputs": [
        {
          "output_type": "stream",
          "name": "stdout",
          "text": [
            "Looking in indexes: https://pypi.org/simple, https://us-python.pkg.dev/colab-wheels/public/simple/\n",
            "Collecting surprise\n",
            "  Downloading surprise-0.1-py2.py3-none-any.whl (1.8 kB)\n",
            "Collecting scikit-surprise\n",
            "  Downloading scikit-surprise-1.1.3.tar.gz (771 kB)\n",
            "\u001b[2K     \u001b[90m━━━━━━━━━━━━━━━━━━━━━━━━━━━━━━━━━━━━━━\u001b[0m \u001b[32m772.0/772.0 kB\u001b[0m \u001b[31m15.4 MB/s\u001b[0m eta \u001b[36m0:00:00\u001b[0m\n",
            "\u001b[?25h  Preparing metadata (setup.py) ... \u001b[?25l\u001b[?25hdone\n",
            "Requirement already satisfied: joblib>=1.0.0 in /usr/local/lib/python3.9/dist-packages (from scikit-surprise->surprise) (1.2.0)\n",
            "Requirement already satisfied: numpy>=1.17.3 in /usr/local/lib/python3.9/dist-packages (from scikit-surprise->surprise) (1.22.4)\n",
            "Requirement already satisfied: scipy>=1.3.2 in /usr/local/lib/python3.9/dist-packages (from scikit-surprise->surprise) (1.10.1)\n",
            "Building wheels for collected packages: scikit-surprise\n",
            "  Building wheel for scikit-surprise (setup.py) ... \u001b[?25l\u001b[?25hdone\n",
            "  Created wheel for scikit-surprise: filename=scikit_surprise-1.1.3-cp39-cp39-linux_x86_64.whl size=3195793 sha256=542f00f51ee78e9a9ccaeb5f32b5eb9b5a48f5d00d3168980b1175a20a06a6bb\n",
            "  Stored in directory: /root/.cache/pip/wheels/c6/3a/46/9b17b3512bdf283c6cb84f59929cdd5199d4e754d596d22784\n",
            "Successfully built scikit-surprise\n",
            "Installing collected packages: scikit-surprise, surprise\n",
            "Successfully installed scikit-surprise-1.1.3 surprise-0.1\n"
          ]
        }
      ],
      "source": [
        "# Install the surprise package using pip. Uncomment and run the below code to do the same\n",
        "\n",
        "!pip install surprise "
      ]
    },
    {
      "cell_type": "code",
      "execution_count": null,
      "metadata": {
        "id": "UJ1wEylUpexj"
      },
      "outputs": [],
      "source": [
        "# Import necessary libraries\n",
        "\n",
        "# To compute the accuracy of models\n",
        "from surprise import accuracy\n",
        "\n",
        "# This class is used to parse a file containing play_counts, data should be in structure - user; item; play_count\n",
        "from surprise.reader import Reader\n",
        "\n",
        "# Class for loading datasets\n",
        "from surprise.dataset import Dataset\n",
        "\n",
        "# For tuning model hyperparameters\n",
        "from surprise.model_selection import GridSearchCV\n",
        "\n",
        "# For splitting the data in train and test dataset\n",
        "from surprise.model_selection import train_test_split\n",
        "\n",
        "# For implementing similarity-based recommendation system\n",
        "from surprise.prediction_algorithms.knns import KNNBasic\n",
        "\n",
        "# For implementing matrix factorization based recommendation system\n",
        "from surprise.prediction_algorithms.matrix_factorization import SVD\n",
        "\n",
        "# For implementing KFold cross-validation\n",
        "from surprise.model_selection import KFold\n",
        "\n",
        "# For implementing clustering-based recommendation system\n",
        "from surprise import CoClustering"
      ]
    },
    {
      "cell_type": "markdown",
      "metadata": {
        "id": "jBW4BUhWTsnm"
      },
      "source": [
        "### Some useful functions"
      ]
    },
    {
      "cell_type": "markdown",
      "metadata": {
        "id": "ZhFa_4aHHchr"
      },
      "source": [
        "Below is the function to calculate precision@k and recall@k, RMSE, and F1_Score@k to evaluate the model performance."
      ]
    },
    {
      "cell_type": "markdown",
      "metadata": {
        "id": "ZOvOgjGWrMVV"
      },
      "source": [
        "**Think About It:** Which metric should be used for this problem to compare different models?\n",
        "\n",
        "__Precision__ is a measure of how relevant the recommendations are to the users iterests. Meaning a high precision would consistently give relevant and accurate suggestions. This could mean user will miss out on more interesting songs. \n",
        "\n",
        "\n",
        "__Recall__ is a measure of the coverage of all relevant songs the user might enjoy. High recall means that able to suggest a large number of potentially relevant songs. However, it may suggest songs that are not relvant or interesting to the user. \n",
        "\n",
        "__Hence, both are measures are important, so the correct model peformance measure is F_1__ \n"
      ]
    },
    {
      "cell_type": "code",
      "execution_count": null,
      "metadata": {
        "id": "Rxn-GahOTsnm"
      },
      "outputs": [],
      "source": [
        "# The function to calulate the RMSE, precision@k, recall@k, and F_1 score\n",
        "def precision_recall_at_k(model, k = 30, threshold = 1.5):\n",
        "    \"\"\"Return precision and recall at k metrics for each user\"\"\"\n",
        "\n",
        "    # First map the predictions to each user.\n",
        "    user_est_true = defaultdict(list)\n",
        "    \n",
        "    # Making predictions on the test data\n",
        "    predictions=model.test(testset)\n",
        "    \n",
        "    for uid, _, true_r, est, _ in predictions:\n",
        "        user_est_true[uid].append((est, true_r))\n",
        "\n",
        "    precisions = dict()\n",
        "    recalls = dict()\n",
        "    for uid, user_ratings in user_est_true.items():\n",
        "\n",
        "        # Sort user ratings by estimated value\n",
        "        user_ratings.sort(key = lambda x : x[0], reverse = True)\n",
        "\n",
        "        # Number of relevant items\n",
        "        n_rel = sum((true_r >= threshold) for (_, true_r) in user_ratings)\n",
        "\n",
        "        # Number of recommended items in top k\n",
        "        n_rec_k = sum((est >= threshold) for (est, _) in user_ratings[ : k])\n",
        "\n",
        "        # Number of relevant and recommended items in top k\n",
        "        n_rel_and_rec_k = sum(((true_r >= threshold) and (est >= threshold))\n",
        "                              for (est, true_r) in user_ratings[ : k])\n",
        "\n",
        "        # Precision@K: Proportion of recommended items that are relevant\n",
        "        # When n_rec_k is 0, Precision is undefined. We here set Precision to 0 when n_rec_k is 0\n",
        "\n",
        "        precisions[uid] = n_rel_and_rec_k / n_rec_k if n_rec_k != 0 else 0\n",
        "\n",
        "        # Recall@K: Proportion of relevant items that are recommended\n",
        "        # When n_rel is 0, Recall is undefined. We here set Recall to 0 when n_rel is 0\n",
        "\n",
        "        recalls[uid] = n_rel_and_rec_k / n_rel if n_rel != 0 else 0\n",
        "    \n",
        "    # Mean of all the predicted precisions are calculated\n",
        "    precision = round((sum(prec for prec in precisions.values()) / len(precisions)), 3)\n",
        "\n",
        "    # Mean of all the predicted recalls are calculated\n",
        "    recall = round((sum(rec for rec in recalls.values()) / len(recalls)), 3)\n",
        "    \n",
        "    accuracy.rmse(predictions)\n",
        "\n",
        "    # Command to print the overall precision\n",
        "    print('Precision: ', precision)\n",
        "\n",
        "    # Command to print the overall recall\n",
        "    print('Recall: ', recall)\n",
        "    \n",
        "    # Formula to compute the F-1 score\n",
        "    print('F_1 score: ', round((2 * precision * recall) / (precision + recall), 3))"
      ]
    },
    {
      "cell_type": "markdown",
      "metadata": {
        "id": "PcmLRxH4IjfG"
      },
      "source": [
        "**Think About It:** In the function precision_recall_at_k above the threshold value used is 1.5. How precision and recall are affected by changing the threshold? What is the intuition behind using the threshold value of 1.5? \n",
        "\n",
        "\n",
        "* To compute __precision and recall__ a threshold of __1.5__ and a __k value of 30__ is used. \n",
        "\n",
        "* The __threshold 1.5__ is used to define the minimum rating value for a song to be considered __relevant__. A song is __relevant__ if it is __actually rated higher than the threshold__.\n",
        "\n",
        "* The __threshold 1.5__ is also used to define the minimum rating value for a song to be a __recommended__ song. A song is __recommended__ if __predicted rating is higher than the threshold__\n",
        "\n",
        "* __Recall__ is the fraction of __actually relevant songs that are recommended__\n",
        "\n",
        "* __Precision__ is the fraction of __recommended songs that are in fact relevant__\n",
        "\n",
        "* Given the distribution of the song ratings, note that 75% of the actual rating are between 1 and 2, choosing a threshold above 2 will likely be too limiting on the songs we can consider to be relevant and recommended. Also, a threshold of 1 doesn't actually apply any treshold since range is from 1 to 5. The threshold value is somewhat of a subjective measure, a slightly lower rating of 1.25 does increase the performance of the next model slightly, but will leave the threshold at __1.5__.  \n",
        "\n",
        "* The __k value of 30__, is the size of the recommendation list that that is used to calculate precision and recall.  "
      ]
    },
    {
      "cell_type": "code",
      "execution_count": null,
      "metadata": {
        "id": "rGfYDiOCpe4X"
      },
      "outputs": [],
      "source": [
        "# Instantiating Reader scale with expected rating scale \n",
        "# use rating scale (0, 5)\n",
        "reader = Reader(rating_scale = (0,5))\n",
        "\n",
        "# Loading the dataset\n",
        "# Take only \"user_id\",\"song_id\", and \"play_count\"\n",
        "data = Dataset.load_from_df(df_final[['user_id', 'song_id', 'play_count']], reader)\n",
        "\n",
        "# Splitting the data into train and test dataset\n",
        "# Take test_size = 0.4, random_state = 42\n",
        "trainset, testset = train_test_split(data, test_size=0.4, random_state = 42)"
      ]
    },
    {
      "cell_type": "markdown",
      "metadata": {
        "id": "CuTmLjUP1aED"
      },
      "source": [
        "**Think About It:** How changing the test size would change the results and outputs?\n",
        "\n",
        "* We need to split our data into a training set and test set, and it's important to strike a balance between tainset and testset.\n",
        "\n",
        "* The __trainset__ is used train the model, we need sufficient data in the training set in order to learn patterns in the data, however, we don't want to overfit to the training data. \n",
        "\n",
        "* The __testset__ is used to assess models performance on unseen data. The test set is important to reduce the chance of overfitting. \n",
        "\n"
      ]
    },
    {
      "cell_type": "code",
      "execution_count": null,
      "metadata": {
        "id": "vO3FL7iape8A",
        "scrolled": false,
        "colab": {
          "base_uri": "https://localhost:8080/"
        },
        "outputId": "74f7f00e-ef6e-417b-e0b5-15e3372af9ae"
      },
      "outputs": [
        {
          "output_type": "stream",
          "name": "stdout",
          "text": [
            "RMSE: 1.0878\n",
            "Precision:  0.396\n",
            "Recall:  0.692\n",
            "F_1 score:  0.504\n"
          ]
        }
      ],
      "source": [
        "# Build the default user-user-similarity model\n",
        "sim_options = {'name': 'cosine',\n",
        "               'user_based': True}\n",
        "\n",
        "# KNN algorithm is used to find desired similar items\n",
        "# Use random_state = 1 \n",
        "sim_user_user = KNNBasic(sim_options = sim_options, verbose = False, random_state = 1)\n",
        "\n",
        "# Train the algorithm on the trainset, and predict play_count for the testset\n",
        "sim_user_user.fit(trainset)\n",
        "\n",
        "# Let us compute precision@k, recall@k, and f_1 score with k = 30\n",
        "# Use sim_user_user model\n",
        "precision_recall_at_k(sim_user_user)"
      ]
    },
    {
      "cell_type": "markdown",
      "metadata": {
        "id": "mzcdlWmer6GA"
      },
      "source": [
        "**Observations and Insights:**\n",
        "\n",
        "* We have a RMSE to check how far the overall precitions are from the actual ratings\n",
        "\n",
        "* __Precision approx. 0.396__ which means out of all the recommendations ~40%  are relevant\n",
        "\n",
        "* __Recall approx. 0.692__ which means out of all the relevant songs ~70% are recommended\n",
        "\n",
        "* __F_1 score__ considers both the recall and precision resulting in __0.504__"
      ]
    },
    {
      "cell_type": "code",
      "source": [
        "df_final.head()"
      ],
      "metadata": {
        "colab": {
          "base_uri": "https://localhost:8080/",
          "height": 250
        },
        "id": "aeqoM0itabYE",
        "outputId": "386e5227-f0c1-4d32-fe7a-ee8ba5b81834"
      },
      "execution_count": null,
      "outputs": [
        {
          "output_type": "execute_result",
          "data": {
            "text/plain": [
              "     user_id  song_id  play_count                            title  \\\n",
              "200     6958      447           1               Daisy And Prudence   \n",
              "202     6958      512           1  The Ballad of Michael Valentine   \n",
              "203     6958      549           1        I Stand Corrected (Album)   \n",
              "204     6958      703           1            They Might Follow You   \n",
              "205     6958      719           1                       Monkey Man   \n",
              "\n",
              "                  release      artist_name  year  \n",
              "200          Distillation     Erin McKeown  2000  \n",
              "202               Sawdust      The Killers  2004  \n",
              "203       Vampire Weekend  Vampire Weekend  2007  \n",
              "204           Tiny Vipers      Tiny Vipers  2007  \n",
              "205  You Know I'm No Good    Amy Winehouse  2007  "
            ],
            "text/html": [
              "\n",
              "  <div id=\"df-c040867c-475c-47a6-a71d-c532b340aa35\">\n",
              "    <div class=\"colab-df-container\">\n",
              "      <div>\n",
              "<style scoped>\n",
              "    .dataframe tbody tr th:only-of-type {\n",
              "        vertical-align: middle;\n",
              "    }\n",
              "\n",
              "    .dataframe tbody tr th {\n",
              "        vertical-align: top;\n",
              "    }\n",
              "\n",
              "    .dataframe thead th {\n",
              "        text-align: right;\n",
              "    }\n",
              "</style>\n",
              "<table border=\"1\" class=\"dataframe\">\n",
              "  <thead>\n",
              "    <tr style=\"text-align: right;\">\n",
              "      <th></th>\n",
              "      <th>user_id</th>\n",
              "      <th>song_id</th>\n",
              "      <th>play_count</th>\n",
              "      <th>title</th>\n",
              "      <th>release</th>\n",
              "      <th>artist_name</th>\n",
              "      <th>year</th>\n",
              "    </tr>\n",
              "  </thead>\n",
              "  <tbody>\n",
              "    <tr>\n",
              "      <th>200</th>\n",
              "      <td>6958</td>\n",
              "      <td>447</td>\n",
              "      <td>1</td>\n",
              "      <td>Daisy And Prudence</td>\n",
              "      <td>Distillation</td>\n",
              "      <td>Erin McKeown</td>\n",
              "      <td>2000</td>\n",
              "    </tr>\n",
              "    <tr>\n",
              "      <th>202</th>\n",
              "      <td>6958</td>\n",
              "      <td>512</td>\n",
              "      <td>1</td>\n",
              "      <td>The Ballad of Michael Valentine</td>\n",
              "      <td>Sawdust</td>\n",
              "      <td>The Killers</td>\n",
              "      <td>2004</td>\n",
              "    </tr>\n",
              "    <tr>\n",
              "      <th>203</th>\n",
              "      <td>6958</td>\n",
              "      <td>549</td>\n",
              "      <td>1</td>\n",
              "      <td>I Stand Corrected (Album)</td>\n",
              "      <td>Vampire Weekend</td>\n",
              "      <td>Vampire Weekend</td>\n",
              "      <td>2007</td>\n",
              "    </tr>\n",
              "    <tr>\n",
              "      <th>204</th>\n",
              "      <td>6958</td>\n",
              "      <td>703</td>\n",
              "      <td>1</td>\n",
              "      <td>They Might Follow You</td>\n",
              "      <td>Tiny Vipers</td>\n",
              "      <td>Tiny Vipers</td>\n",
              "      <td>2007</td>\n",
              "    </tr>\n",
              "    <tr>\n",
              "      <th>205</th>\n",
              "      <td>6958</td>\n",
              "      <td>719</td>\n",
              "      <td>1</td>\n",
              "      <td>Monkey Man</td>\n",
              "      <td>You Know I'm No Good</td>\n",
              "      <td>Amy Winehouse</td>\n",
              "      <td>2007</td>\n",
              "    </tr>\n",
              "  </tbody>\n",
              "</table>\n",
              "</div>\n",
              "      <button class=\"colab-df-convert\" onclick=\"convertToInteractive('df-c040867c-475c-47a6-a71d-c532b340aa35')\"\n",
              "              title=\"Convert this dataframe to an interactive table.\"\n",
              "              style=\"display:none;\">\n",
              "        \n",
              "  <svg xmlns=\"http://www.w3.org/2000/svg\" height=\"24px\"viewBox=\"0 0 24 24\"\n",
              "       width=\"24px\">\n",
              "    <path d=\"M0 0h24v24H0V0z\" fill=\"none\"/>\n",
              "    <path d=\"M18.56 5.44l.94 2.06.94-2.06 2.06-.94-2.06-.94-.94-2.06-.94 2.06-2.06.94zm-11 1L8.5 8.5l.94-2.06 2.06-.94-2.06-.94L8.5 2.5l-.94 2.06-2.06.94zm10 10l.94 2.06.94-2.06 2.06-.94-2.06-.94-.94-2.06-.94 2.06-2.06.94z\"/><path d=\"M17.41 7.96l-1.37-1.37c-.4-.4-.92-.59-1.43-.59-.52 0-1.04.2-1.43.59L10.3 9.45l-7.72 7.72c-.78.78-.78 2.05 0 2.83L4 21.41c.39.39.9.59 1.41.59.51 0 1.02-.2 1.41-.59l7.78-7.78 2.81-2.81c.8-.78.8-2.07 0-2.86zM5.41 20L4 18.59l7.72-7.72 1.47 1.35L5.41 20z\"/>\n",
              "  </svg>\n",
              "      </button>\n",
              "      \n",
              "  <style>\n",
              "    .colab-df-container {\n",
              "      display:flex;\n",
              "      flex-wrap:wrap;\n",
              "      gap: 12px;\n",
              "    }\n",
              "\n",
              "    .colab-df-convert {\n",
              "      background-color: #E8F0FE;\n",
              "      border: none;\n",
              "      border-radius: 50%;\n",
              "      cursor: pointer;\n",
              "      display: none;\n",
              "      fill: #1967D2;\n",
              "      height: 32px;\n",
              "      padding: 0 0 0 0;\n",
              "      width: 32px;\n",
              "    }\n",
              "\n",
              "    .colab-df-convert:hover {\n",
              "      background-color: #E2EBFA;\n",
              "      box-shadow: 0px 1px 2px rgba(60, 64, 67, 0.3), 0px 1px 3px 1px rgba(60, 64, 67, 0.15);\n",
              "      fill: #174EA6;\n",
              "    }\n",
              "\n",
              "    [theme=dark] .colab-df-convert {\n",
              "      background-color: #3B4455;\n",
              "      fill: #D2E3FC;\n",
              "    }\n",
              "\n",
              "    [theme=dark] .colab-df-convert:hover {\n",
              "      background-color: #434B5C;\n",
              "      box-shadow: 0px 1px 3px 1px rgba(0, 0, 0, 0.15);\n",
              "      filter: drop-shadow(0px 1px 2px rgba(0, 0, 0, 0.3));\n",
              "      fill: #FFFFFF;\n",
              "    }\n",
              "  </style>\n",
              "\n",
              "      <script>\n",
              "        const buttonEl =\n",
              "          document.querySelector('#df-c040867c-475c-47a6-a71d-c532b340aa35 button.colab-df-convert');\n",
              "        buttonEl.style.display =\n",
              "          google.colab.kernel.accessAllowed ? 'block' : 'none';\n",
              "\n",
              "        async function convertToInteractive(key) {\n",
              "          const element = document.querySelector('#df-c040867c-475c-47a6-a71d-c532b340aa35');\n",
              "          const dataTable =\n",
              "            await google.colab.kernel.invokeFunction('convertToInteractive',\n",
              "                                                     [key], {});\n",
              "          if (!dataTable) return;\n",
              "\n",
              "          const docLinkHtml = 'Like what you see? Visit the ' +\n",
              "            '<a target=\"_blank\" href=https://colab.research.google.com/notebooks/data_table.ipynb>data table notebook</a>'\n",
              "            + ' to learn more about interactive tables.';\n",
              "          element.innerHTML = '';\n",
              "          dataTable['output_type'] = 'display_data';\n",
              "          await google.colab.output.renderOutput(dataTable, element);\n",
              "          const docLink = document.createElement('div');\n",
              "          docLink.innerHTML = docLinkHtml;\n",
              "          element.appendChild(docLink);\n",
              "        }\n",
              "      </script>\n",
              "    </div>\n",
              "  </div>\n",
              "  "
            ]
          },
          "metadata": {},
          "execution_count": 41
        }
      ]
    },
    {
      "cell_type": "code",
      "execution_count": null,
      "metadata": {
        "id": "Sxd23bZ9pe_x",
        "colab": {
          "base_uri": "https://localhost:8080/"
        },
        "outputId": "d47e22f8-2a82-4373-d67f-9b330c1f4ad2"
      },
      "outputs": [
        {
          "output_type": "stream",
          "name": "stdout",
          "text": [
            "user: 6958       item: 1671       r_ui = 2.00   est = 1.80   {'actual_k': 40, 'was_impossible': False}\n"
          ]
        },
        {
          "output_type": "execute_result",
          "data": {
            "text/plain": [
              "Prediction(uid=6958, iid=1671, r_ui=2, est=1.8009387435128914, details={'actual_k': 40, 'was_impossible': False})"
            ]
          },
          "metadata": {},
          "execution_count": 42
        }
      ],
      "source": [
        "# Predicting play_count for a sample user with a listened song\n",
        "# Use any user id  and song_id\n",
        "\n",
        "sim_user_user.predict(6958, 1671, r_ui = 2, verbose= True)"
      ]
    },
    {
      "cell_type": "code",
      "execution_count": null,
      "metadata": {
        "id": "PbFcBj1PpfEV",
        "colab": {
          "base_uri": "https://localhost:8080/"
        },
        "outputId": "1179e47c-334b-4b4d-89a8-44c71368d6f9"
      },
      "outputs": [
        {
          "output_type": "stream",
          "name": "stdout",
          "text": [
            "user: 6958       item: 900972     r_ui = None   est = 1.70   {'was_impossible': True, 'reason': 'User and/or item is unknown.'}\n"
          ]
        },
        {
          "output_type": "execute_result",
          "data": {
            "text/plain": [
              "Prediction(uid=6958, iid=900972, r_ui=None, est=1.6989607635206787, details={'was_impossible': True, 'reason': 'User and/or item is unknown.'})"
            ]
          },
          "metadata": {},
          "execution_count": 43
        }
      ],
      "source": [
        "# Predicting play_count for a sample user with a song not-listened by the user\n",
        "# predict play_count for any sample user\n",
        "# set(df_final['song_id'])-set(df_final[df_final['user_id']==6958]['song_id'])\n",
        "# print('actual play count', df_final[(df_final['user_id']==6958) & (df_final['song_id']==900972)]['play_count'])\n",
        "\n",
        "sim_user_user.predict(6958, 900972, verbose= True)"
      ]
    },
    {
      "cell_type": "markdown",
      "metadata": {
        "id": "P9EVM7DysC47"
      },
      "source": [
        "**Observations and Insights:**\n",
        "\n",
        "* We have that actual rating for user-song pair 6958-1671, is 2 and the predicted is 1.70\n",
        "\n",
        "* We also have the predicted rating for the user-song pair 6958-900972, is also 1.70"
      ]
    },
    {
      "cell_type": "markdown",
      "metadata": {
        "id": "Lt1QBiylsIOm"
      },
      "source": [
        "Now, let's try to tune the model and see if we can improve the model performance."
      ]
    },
    {
      "cell_type": "code",
      "execution_count": null,
      "metadata": {
        "id": "T3diJPL7-tVw",
        "colab": {
          "base_uri": "https://localhost:8080/",
          "height": 380
        },
        "outputId": "4729899c-2b67-4a64-adc3-da150b0dbac6"
      },
      "outputs": [
        {
          "output_type": "error",
          "ename": "KeyboardInterrupt",
          "evalue": "ignored",
          "traceback": [
            "\u001b[0;31m---------------------------------------------------------------------------\u001b[0m",
            "\u001b[0;31mKeyboardInterrupt\u001b[0m                         Traceback (most recent call last)",
            "\u001b[0;32m<ipython-input-44-7d51bdf18997>\u001b[0m in \u001b[0;36m<cell line: 12>\u001b[0;34m()\u001b[0m\n\u001b[1;32m     10\u001b[0m \u001b[0;31m# Fitting the data\u001b[0m\u001b[0;34m\u001b[0m\u001b[0;34m\u001b[0m\u001b[0m\n\u001b[1;32m     11\u001b[0m \u001b[0;31m# Use entire data for GridSearch\u001b[0m\u001b[0;34m\u001b[0m\u001b[0;34m\u001b[0m\u001b[0m\n\u001b[0;32m---> 12\u001b[0;31m \u001b[0mgs\u001b[0m\u001b[0;34m.\u001b[0m\u001b[0mfit\u001b[0m\u001b[0;34m(\u001b[0m\u001b[0mdata\u001b[0m\u001b[0;34m)\u001b[0m\u001b[0;34m\u001b[0m\u001b[0;34m\u001b[0m\u001b[0m\n\u001b[0m\u001b[1;32m     13\u001b[0m \u001b[0;34m\u001b[0m\u001b[0m\n\u001b[1;32m     14\u001b[0m \u001b[0;31m# Best RMSE score\u001b[0m\u001b[0;34m\u001b[0m\u001b[0;34m\u001b[0m\u001b[0m\n",
            "\u001b[0;32m/usr/local/lib/python3.9/dist-packages/surprise/model_selection/search.py\u001b[0m in \u001b[0;36mfit\u001b[0;34m(self, data)\u001b[0m\n\u001b[1;32m    102\u001b[0m             )\n\u001b[1;32m    103\u001b[0m         )\n\u001b[0;32m--> 104\u001b[0;31m         out = Parallel(\n\u001b[0m\u001b[1;32m    105\u001b[0m             \u001b[0mn_jobs\u001b[0m\u001b[0;34m=\u001b[0m\u001b[0mself\u001b[0m\u001b[0;34m.\u001b[0m\u001b[0mn_jobs\u001b[0m\u001b[0;34m,\u001b[0m\u001b[0;34m\u001b[0m\u001b[0;34m\u001b[0m\u001b[0m\n\u001b[1;32m    106\u001b[0m             \u001b[0mpre_dispatch\u001b[0m\u001b[0;34m=\u001b[0m\u001b[0mself\u001b[0m\u001b[0;34m.\u001b[0m\u001b[0mpre_dispatch\u001b[0m\u001b[0;34m,\u001b[0m\u001b[0;34m\u001b[0m\u001b[0;34m\u001b[0m\u001b[0m\n",
            "\u001b[0;32m/usr/local/lib/python3.9/dist-packages/joblib/parallel.py\u001b[0m in \u001b[0;36m__call__\u001b[0;34m(self, iterable)\u001b[0m\n\u001b[1;32m   1096\u001b[0m \u001b[0;34m\u001b[0m\u001b[0m\n\u001b[1;32m   1097\u001b[0m             \u001b[0;32mwith\u001b[0m \u001b[0mself\u001b[0m\u001b[0;34m.\u001b[0m\u001b[0m_backend\u001b[0m\u001b[0;34m.\u001b[0m\u001b[0mretrieval_context\u001b[0m\u001b[0;34m(\u001b[0m\u001b[0;34m)\u001b[0m\u001b[0;34m:\u001b[0m\u001b[0;34m\u001b[0m\u001b[0;34m\u001b[0m\u001b[0m\n\u001b[0;32m-> 1098\u001b[0;31m                 \u001b[0mself\u001b[0m\u001b[0;34m.\u001b[0m\u001b[0mretrieve\u001b[0m\u001b[0;34m(\u001b[0m\u001b[0;34m)\u001b[0m\u001b[0;34m\u001b[0m\u001b[0;34m\u001b[0m\u001b[0m\n\u001b[0m\u001b[1;32m   1099\u001b[0m             \u001b[0;31m# Make sure that we get a last message telling us we are done\u001b[0m\u001b[0;34m\u001b[0m\u001b[0;34m\u001b[0m\u001b[0m\n\u001b[1;32m   1100\u001b[0m             \u001b[0melapsed_time\u001b[0m \u001b[0;34m=\u001b[0m \u001b[0mtime\u001b[0m\u001b[0;34m.\u001b[0m\u001b[0mtime\u001b[0m\u001b[0;34m(\u001b[0m\u001b[0;34m)\u001b[0m \u001b[0;34m-\u001b[0m \u001b[0mself\u001b[0m\u001b[0;34m.\u001b[0m\u001b[0m_start_time\u001b[0m\u001b[0;34m\u001b[0m\u001b[0;34m\u001b[0m\u001b[0m\n",
            "\u001b[0;32m/usr/local/lib/python3.9/dist-packages/joblib/parallel.py\u001b[0m in \u001b[0;36mretrieve\u001b[0;34m(self)\u001b[0m\n\u001b[1;32m    973\u001b[0m             \u001b[0;32mtry\u001b[0m\u001b[0;34m:\u001b[0m\u001b[0;34m\u001b[0m\u001b[0;34m\u001b[0m\u001b[0m\n\u001b[1;32m    974\u001b[0m                 \u001b[0;32mif\u001b[0m \u001b[0mgetattr\u001b[0m\u001b[0;34m(\u001b[0m\u001b[0mself\u001b[0m\u001b[0;34m.\u001b[0m\u001b[0m_backend\u001b[0m\u001b[0;34m,\u001b[0m \u001b[0;34m'supports_timeout'\u001b[0m\u001b[0;34m,\u001b[0m \u001b[0;32mFalse\u001b[0m\u001b[0;34m)\u001b[0m\u001b[0;34m:\u001b[0m\u001b[0;34m\u001b[0m\u001b[0;34m\u001b[0m\u001b[0m\n\u001b[0;32m--> 975\u001b[0;31m                     \u001b[0mself\u001b[0m\u001b[0;34m.\u001b[0m\u001b[0m_output\u001b[0m\u001b[0;34m.\u001b[0m\u001b[0mextend\u001b[0m\u001b[0;34m(\u001b[0m\u001b[0mjob\u001b[0m\u001b[0;34m.\u001b[0m\u001b[0mget\u001b[0m\u001b[0;34m(\u001b[0m\u001b[0mtimeout\u001b[0m\u001b[0;34m=\u001b[0m\u001b[0mself\u001b[0m\u001b[0;34m.\u001b[0m\u001b[0mtimeout\u001b[0m\u001b[0;34m)\u001b[0m\u001b[0;34m)\u001b[0m\u001b[0;34m\u001b[0m\u001b[0;34m\u001b[0m\u001b[0m\n\u001b[0m\u001b[1;32m    976\u001b[0m                 \u001b[0;32melse\u001b[0m\u001b[0;34m:\u001b[0m\u001b[0;34m\u001b[0m\u001b[0;34m\u001b[0m\u001b[0m\n\u001b[1;32m    977\u001b[0m                     \u001b[0mself\u001b[0m\u001b[0;34m.\u001b[0m\u001b[0m_output\u001b[0m\u001b[0;34m.\u001b[0m\u001b[0mextend\u001b[0m\u001b[0;34m(\u001b[0m\u001b[0mjob\u001b[0m\u001b[0;34m.\u001b[0m\u001b[0mget\u001b[0m\u001b[0;34m(\u001b[0m\u001b[0;34m)\u001b[0m\u001b[0;34m)\u001b[0m\u001b[0;34m\u001b[0m\u001b[0;34m\u001b[0m\u001b[0m\n",
            "\u001b[0;32m/usr/local/lib/python3.9/dist-packages/joblib/_parallel_backends.py\u001b[0m in \u001b[0;36mwrap_future_result\u001b[0;34m(future, timeout)\u001b[0m\n\u001b[1;32m    565\u001b[0m         AsyncResults.get from multiprocessing.\"\"\"\n\u001b[1;32m    566\u001b[0m         \u001b[0;32mtry\u001b[0m\u001b[0;34m:\u001b[0m\u001b[0;34m\u001b[0m\u001b[0;34m\u001b[0m\u001b[0m\n\u001b[0;32m--> 567\u001b[0;31m             \u001b[0;32mreturn\u001b[0m \u001b[0mfuture\u001b[0m\u001b[0;34m.\u001b[0m\u001b[0mresult\u001b[0m\u001b[0;34m(\u001b[0m\u001b[0mtimeout\u001b[0m\u001b[0;34m=\u001b[0m\u001b[0mtimeout\u001b[0m\u001b[0;34m)\u001b[0m\u001b[0;34m\u001b[0m\u001b[0;34m\u001b[0m\u001b[0m\n\u001b[0m\u001b[1;32m    568\u001b[0m         \u001b[0;32mexcept\u001b[0m \u001b[0mCfTimeoutError\u001b[0m \u001b[0;32mas\u001b[0m \u001b[0me\u001b[0m\u001b[0;34m:\u001b[0m\u001b[0;34m\u001b[0m\u001b[0;34m\u001b[0m\u001b[0m\n\u001b[1;32m    569\u001b[0m             \u001b[0;32mraise\u001b[0m \u001b[0mTimeoutError\u001b[0m \u001b[0;32mfrom\u001b[0m \u001b[0me\u001b[0m\u001b[0;34m\u001b[0m\u001b[0;34m\u001b[0m\u001b[0m\n",
            "\u001b[0;32m/usr/lib/python3.9/concurrent/futures/_base.py\u001b[0m in \u001b[0;36mresult\u001b[0;34m(self, timeout)\u001b[0m\n\u001b[1;32m    439\u001b[0m                     \u001b[0;32mreturn\u001b[0m \u001b[0mself\u001b[0m\u001b[0;34m.\u001b[0m\u001b[0m__get_result\u001b[0m\u001b[0;34m(\u001b[0m\u001b[0;34m)\u001b[0m\u001b[0;34m\u001b[0m\u001b[0;34m\u001b[0m\u001b[0m\n\u001b[1;32m    440\u001b[0m \u001b[0;34m\u001b[0m\u001b[0m\n\u001b[0;32m--> 441\u001b[0;31m                 \u001b[0mself\u001b[0m\u001b[0;34m.\u001b[0m\u001b[0m_condition\u001b[0m\u001b[0;34m.\u001b[0m\u001b[0mwait\u001b[0m\u001b[0;34m(\u001b[0m\u001b[0mtimeout\u001b[0m\u001b[0;34m)\u001b[0m\u001b[0;34m\u001b[0m\u001b[0;34m\u001b[0m\u001b[0m\n\u001b[0m\u001b[1;32m    442\u001b[0m \u001b[0;34m\u001b[0m\u001b[0m\n\u001b[1;32m    443\u001b[0m                 \u001b[0;32mif\u001b[0m \u001b[0mself\u001b[0m\u001b[0;34m.\u001b[0m\u001b[0m_state\u001b[0m \u001b[0;32min\u001b[0m \u001b[0;34m[\u001b[0m\u001b[0mCANCELLED\u001b[0m\u001b[0;34m,\u001b[0m \u001b[0mCANCELLED_AND_NOTIFIED\u001b[0m\u001b[0;34m]\u001b[0m\u001b[0;34m:\u001b[0m\u001b[0;34m\u001b[0m\u001b[0;34m\u001b[0m\u001b[0m\n",
            "\u001b[0;32m/usr/lib/python3.9/threading.py\u001b[0m in \u001b[0;36mwait\u001b[0;34m(self, timeout)\u001b[0m\n\u001b[1;32m    310\u001b[0m         \u001b[0;32mtry\u001b[0m\u001b[0;34m:\u001b[0m    \u001b[0;31m# restore state no matter what (e.g., KeyboardInterrupt)\u001b[0m\u001b[0;34m\u001b[0m\u001b[0;34m\u001b[0m\u001b[0m\n\u001b[1;32m    311\u001b[0m             \u001b[0;32mif\u001b[0m \u001b[0mtimeout\u001b[0m \u001b[0;32mis\u001b[0m \u001b[0;32mNone\u001b[0m\u001b[0;34m:\u001b[0m\u001b[0;34m\u001b[0m\u001b[0;34m\u001b[0m\u001b[0m\n\u001b[0;32m--> 312\u001b[0;31m                 \u001b[0mwaiter\u001b[0m\u001b[0;34m.\u001b[0m\u001b[0macquire\u001b[0m\u001b[0;34m(\u001b[0m\u001b[0;34m)\u001b[0m\u001b[0;34m\u001b[0m\u001b[0;34m\u001b[0m\u001b[0m\n\u001b[0m\u001b[1;32m    313\u001b[0m                 \u001b[0mgotit\u001b[0m \u001b[0;34m=\u001b[0m \u001b[0;32mTrue\u001b[0m\u001b[0;34m\u001b[0m\u001b[0;34m\u001b[0m\u001b[0m\n\u001b[1;32m    314\u001b[0m             \u001b[0;32melse\u001b[0m\u001b[0;34m:\u001b[0m\u001b[0;34m\u001b[0m\u001b[0;34m\u001b[0m\u001b[0m\n",
            "\u001b[0;31mKeyboardInterrupt\u001b[0m: "
          ]
        }
      ],
      "source": [
        "# Setting up parameter grid to tune the hyperparameters\n",
        "param_grid = {'k': [10, 20, 30], 'min_k': [3, 6, 9],\n",
        "              'sim_options': {'name': [\"cosine\", 'pearson', \"pearson_baseline\"],\n",
        "                              'user_based': [True], \"min_support\": [2, 4]}\n",
        "              }\n",
        "\n",
        "# Performing 3-fold cross-validation to tune the hyperparameters\n",
        "gs = GridSearchCV(KNNBasic, param_grid, measures = ['rmse'], cv = 3, n_jobs = -1)\n",
        "\n",
        "# Fitting the data\n",
        "# Use entire data for GridSearch\n",
        "gs.fit(data)\n",
        "\n",
        "# Best RMSE score\n",
        "print(gs.best_score['rmse'])\n",
        "\n",
        "# Combination of parameters that gave the best RMSE score\n",
        "print(gs.best_params['rmse'])\n"
      ]
    },
    {
      "cell_type": "code",
      "execution_count": null,
      "metadata": {
        "id": "PujRJA8X_JEJ",
        "colab": {
          "base_uri": "https://localhost:8080/"
        },
        "outputId": "1d32cfdd-8514-451c-cb1c-6a27ef86a6b5"
      },
      "outputs": [
        {
          "output_type": "stream",
          "name": "stdout",
          "text": [
            "RMSE: 1.0521\n",
            "Precision:  0.413\n",
            "Recall:  0.721\n",
            "F_1 score:  0.525\n"
          ]
        }
      ],
      "source": [
        "# Train the best model found in above gridsearch\n",
        "\n",
        "# Using the optimal similarity measure for user-user based collaborative filtering\n",
        "sim_options = {'name': 'pearson_baseline',\n",
        "               'user_based': True,\n",
        "               'min_support': 2}\n",
        "\n",
        "# Creating an instance of KNNBasic with optimal hyperparameter values\n",
        "sim_user_user_optimized = KNNBasic(sim_options = sim_options, k = 30, min_k = 9, random_state = 1, verbose = False)\n",
        "\n",
        "# Training the algorithm on the train set\n",
        "sim_user_user_optimized.fit(trainset)\n",
        "\n",
        "# Let us compute precision@k and recall@k also with k =10\n",
        "precision_recall_at_k(sim_user_user_optimized)"
      ]
    },
    {
      "cell_type": "markdown",
      "source": [],
      "metadata": {
        "id": "Ch_yVdUrwUTC"
      }
    },
    {
      "cell_type": "markdown",
      "metadata": {
        "id": "MH5OBZ7Nse6m"
      },
      "source": [
        "**Observations and Insights:**\n",
        "\n",
        "* We observe that the __RMSE__ goes from 1.0878 to 1.0521 descreasing after parameter tuning.  \n",
        "* Also, see an improvement in the F_1 score going from 0.504 to 0.525, slightly better than the baseline model. \n",
        "* __Hence, model performance has improved after parameter tuning__"
      ]
    },
    {
      "cell_type": "code",
      "execution_count": null,
      "metadata": {
        "id": "FgV63lHiq1TV",
        "colab": {
          "base_uri": "https://localhost:8080/"
        },
        "outputId": "d4bf6954-bb18-498e-ad31-092bab732bd4"
      },
      "outputs": [
        {
          "output_type": "stream",
          "name": "stdout",
          "text": [
            "user: 6958       item: 1671       r_ui = 2.00   est = 1.96   {'actual_k': 24, 'was_impossible': False}\n"
          ]
        },
        {
          "output_type": "execute_result",
          "data": {
            "text/plain": [
              "Prediction(uid=6958, iid=1671, r_ui=2, est=1.962926073914969, details={'actual_k': 24, 'was_impossible': False})"
            ]
          },
          "metadata": {},
          "execution_count": 50
        }
      ],
      "source": [
        "# Predict the play count for a user who has listened to the song. Take user_id 6958, song_id 1671 and r_ui = 2\n",
        "\n",
        "sim_user_user_optimized.predict(6958, 1671, r_ui=2, verbose = True)"
      ]
    },
    {
      "cell_type": "code",
      "execution_count": null,
      "metadata": {
        "id": "HXO2Ztjhq1bN",
        "colab": {
          "base_uri": "https://localhost:8080/"
        },
        "outputId": "b9870d48-33b9-4f32-ab15-831072d7972f"
      },
      "outputs": [
        {
          "output_type": "stream",
          "name": "stdout",
          "text": [
            "user: 6958       item: 900972     r_ui = None   est = 1.70   {'was_impossible': True, 'reason': 'User and/or item is unknown.'}\n"
          ]
        },
        {
          "output_type": "execute_result",
          "data": {
            "text/plain": [
              "Prediction(uid=6958, iid=900972, r_ui=None, est=1.6989607635206787, details={'was_impossible': True, 'reason': 'User and/or item is unknown.'})"
            ]
          },
          "metadata": {},
          "execution_count": 51
        }
      ],
      "source": [
        "# Predict the play count for a song that is not listened to by the user (with user_id 6958)\n",
        "# set(df_final['song_id'])-set(df_final[df_final['user_id']==6958]['song_id'])\n",
        "\n",
        "sim_user_user_optimized.predict(6958, 900972, verbose = True)"
      ]
    },
    {
      "cell_type": "markdown",
      "metadata": {
        "id": "SdpJ--8QWuzz"
      },
      "source": [
        "**Observations and Insights:**\n",
        "\n",
        "* If we compare the predicted with the actual rating for the user-song pair 6958-1671, we see that the optimised model is closer to the actual with __1.96__"
      ]
    },
    {
      "cell_type": "markdown",
      "metadata": {
        "id": "SQ9M4pplNbWS"
      },
      "source": [
        "**Think About It:** Along with making predictions on listened and unknown songs can we get 5 nearest neighbors (most similar) to a certain song?\n",
        "\n",
        "We can also find out **similar users to a given user** or its **nearest neighbors** based on this KNNBasic algorithm. Below, we are finding the 5 most similar users to the first user in the list with internal id 0."
      ]
    },
    {
      "cell_type": "code",
      "execution_count": null,
      "metadata": {
        "id": "TbFle7cKmBJG",
        "colab": {
          "base_uri": "https://localhost:8080/"
        },
        "outputId": "8eccb25d-9dc5-4c39-fbe5-ee448cf765cd"
      },
      "outputs": [
        {
          "output_type": "execute_result",
          "data": {
            "text/plain": [
              "[42, 1131, 17, 186, 249]"
            ]
          },
          "metadata": {},
          "execution_count": 52
        }
      ],
      "source": [
        "# Use inner id 0\n",
        "sim_user_user_optimized.get_neighbors(0,5)"
      ]
    },
    {
      "cell_type": "markdown",
      "metadata": {
        "id": "U3ESobDynVNI"
      },
      "source": [
        "Below we will be implementing a function where the input parameters are:\n",
        "\n",
        "- data: A **song** dataset\n",
        "- user_id: A user-id **against which we want the recommendations**\n",
        "- top_n: The **number of songs we want to recommend**\n",
        "- algo: The algorithm we want to use **for predicting the play_count**\n",
        "- The output of the function is a **set of top_n items** recommended for the given user_id based on the given algorithm"
      ]
    },
    {
      "cell_type": "code",
      "execution_count": null,
      "metadata": {
        "id": "vW9V1Tk65HlY"
      },
      "outputs": [],
      "source": [
        "def get_recommendations(data, user_id, top_n, algo):\n",
        "    \n",
        "    # Creating an empty list to store the recommended product ids\n",
        "    recommendations = []\n",
        "    \n",
        "    # Creating an user item interactions matrix \n",
        "    user_item_interaction_matrix = data.pivot_table(index='user_id', columns = 'song_id', values = 'play_count', aggfunc=np.mean)\n",
        "    \n",
        "    # Extracting those business ids which the user_id has not visited yet\n",
        "    non_interacting_songs = user_item_interaction_matrix.loc[user_id][user_item_interaction_matrix.loc[user_id].isnull()].index.tolist()\n",
        "    \n",
        "    # Looping through each of the business ids which user_id has not interacted yet\n",
        "    for item_id in non_interacting_songs:\n",
        "        \n",
        "        # Predicting the ratings for those non visited restaurant ids by this user\n",
        "        est = algo.predict(user_id, item_id).est\n",
        "        \n",
        "        # Appending the predicted ratings\n",
        "        recommendations.append((item_id, est))\n",
        "        \n",
        "    # Sorting the predicted ratings in descending order\n",
        "    recommendations.sort(key= lambda x: x[1], reverse = True)\n",
        "\n",
        "    return recommendations[:top_n] # Returing top n highest predicted rating products for this user"
      ]
    },
    {
      "cell_type": "code",
      "execution_count": null,
      "metadata": {
        "id": "qWbR85mI5Hrk",
        "colab": {
          "base_uri": "https://localhost:8080/"
        },
        "outputId": "2ff3e4a6-029e-4b01-c093-e7b11e5e14a8"
      },
      "outputs": [
        {
          "output_type": "execute_result",
          "data": {
            "text/plain": [
              "[(5531, 2.5533349782058683),\n",
              " (317, 2.518269003610337),\n",
              " (4954, 2.4067760718565427),\n",
              " (8635, 2.396605826987296),\n",
              " (5943, 2.39072300364337)]"
            ]
          },
          "metadata": {},
          "execution_count": 54
        }
      ],
      "source": [
        "# Make top 5 recommendations for any user_id with a similarity-based recommendation engine\n",
        "recommendations = get_recommendations(df_final, 6958, 5, sim_user_user_optimized)\n",
        "recommendations"
      ]
    },
    {
      "cell_type": "code",
      "execution_count": null,
      "metadata": {
        "id": "b5WfIX0Z6_q2",
        "colab": {
          "base_uri": "https://localhost:8080/",
          "height": 206
        },
        "outputId": "14a3f9c0-f5cf-40af-e87e-2d9b7b31471d"
      },
      "outputs": [
        {
          "output_type": "execute_result",
          "data": {
            "text/plain": [
              "   song_id  predicted_play_count\n",
              "0     5531              2.553335\n",
              "1      317              2.518269\n",
              "2     4954              2.406776\n",
              "3     8635              2.396606\n",
              "4     5943              2.390723"
            ],
            "text/html": [
              "\n",
              "  <div id=\"df-def189d6-d839-4741-830a-49bc329d9105\">\n",
              "    <div class=\"colab-df-container\">\n",
              "      <div>\n",
              "<style scoped>\n",
              "    .dataframe tbody tr th:only-of-type {\n",
              "        vertical-align: middle;\n",
              "    }\n",
              "\n",
              "    .dataframe tbody tr th {\n",
              "        vertical-align: top;\n",
              "    }\n",
              "\n",
              "    .dataframe thead th {\n",
              "        text-align: right;\n",
              "    }\n",
              "</style>\n",
              "<table border=\"1\" class=\"dataframe\">\n",
              "  <thead>\n",
              "    <tr style=\"text-align: right;\">\n",
              "      <th></th>\n",
              "      <th>song_id</th>\n",
              "      <th>predicted_play_count</th>\n",
              "    </tr>\n",
              "  </thead>\n",
              "  <tbody>\n",
              "    <tr>\n",
              "      <th>0</th>\n",
              "      <td>5531</td>\n",
              "      <td>2.553335</td>\n",
              "    </tr>\n",
              "    <tr>\n",
              "      <th>1</th>\n",
              "      <td>317</td>\n",
              "      <td>2.518269</td>\n",
              "    </tr>\n",
              "    <tr>\n",
              "      <th>2</th>\n",
              "      <td>4954</td>\n",
              "      <td>2.406776</td>\n",
              "    </tr>\n",
              "    <tr>\n",
              "      <th>3</th>\n",
              "      <td>8635</td>\n",
              "      <td>2.396606</td>\n",
              "    </tr>\n",
              "    <tr>\n",
              "      <th>4</th>\n",
              "      <td>5943</td>\n",
              "      <td>2.390723</td>\n",
              "    </tr>\n",
              "  </tbody>\n",
              "</table>\n",
              "</div>\n",
              "      <button class=\"colab-df-convert\" onclick=\"convertToInteractive('df-def189d6-d839-4741-830a-49bc329d9105')\"\n",
              "              title=\"Convert this dataframe to an interactive table.\"\n",
              "              style=\"display:none;\">\n",
              "        \n",
              "  <svg xmlns=\"http://www.w3.org/2000/svg\" height=\"24px\"viewBox=\"0 0 24 24\"\n",
              "       width=\"24px\">\n",
              "    <path d=\"M0 0h24v24H0V0z\" fill=\"none\"/>\n",
              "    <path d=\"M18.56 5.44l.94 2.06.94-2.06 2.06-.94-2.06-.94-.94-2.06-.94 2.06-2.06.94zm-11 1L8.5 8.5l.94-2.06 2.06-.94-2.06-.94L8.5 2.5l-.94 2.06-2.06.94zm10 10l.94 2.06.94-2.06 2.06-.94-2.06-.94-.94-2.06-.94 2.06-2.06.94z\"/><path d=\"M17.41 7.96l-1.37-1.37c-.4-.4-.92-.59-1.43-.59-.52 0-1.04.2-1.43.59L10.3 9.45l-7.72 7.72c-.78.78-.78 2.05 0 2.83L4 21.41c.39.39.9.59 1.41.59.51 0 1.02-.2 1.41-.59l7.78-7.78 2.81-2.81c.8-.78.8-2.07 0-2.86zM5.41 20L4 18.59l7.72-7.72 1.47 1.35L5.41 20z\"/>\n",
              "  </svg>\n",
              "      </button>\n",
              "      \n",
              "  <style>\n",
              "    .colab-df-container {\n",
              "      display:flex;\n",
              "      flex-wrap:wrap;\n",
              "      gap: 12px;\n",
              "    }\n",
              "\n",
              "    .colab-df-convert {\n",
              "      background-color: #E8F0FE;\n",
              "      border: none;\n",
              "      border-radius: 50%;\n",
              "      cursor: pointer;\n",
              "      display: none;\n",
              "      fill: #1967D2;\n",
              "      height: 32px;\n",
              "      padding: 0 0 0 0;\n",
              "      width: 32px;\n",
              "    }\n",
              "\n",
              "    .colab-df-convert:hover {\n",
              "      background-color: #E2EBFA;\n",
              "      box-shadow: 0px 1px 2px rgba(60, 64, 67, 0.3), 0px 1px 3px 1px rgba(60, 64, 67, 0.15);\n",
              "      fill: #174EA6;\n",
              "    }\n",
              "\n",
              "    [theme=dark] .colab-df-convert {\n",
              "      background-color: #3B4455;\n",
              "      fill: #D2E3FC;\n",
              "    }\n",
              "\n",
              "    [theme=dark] .colab-df-convert:hover {\n",
              "      background-color: #434B5C;\n",
              "      box-shadow: 0px 1px 3px 1px rgba(0, 0, 0, 0.15);\n",
              "      filter: drop-shadow(0px 1px 2px rgba(0, 0, 0, 0.3));\n",
              "      fill: #FFFFFF;\n",
              "    }\n",
              "  </style>\n",
              "\n",
              "      <script>\n",
              "        const buttonEl =\n",
              "          document.querySelector('#df-def189d6-d839-4741-830a-49bc329d9105 button.colab-df-convert');\n",
              "        buttonEl.style.display =\n",
              "          google.colab.kernel.accessAllowed ? 'block' : 'none';\n",
              "\n",
              "        async function convertToInteractive(key) {\n",
              "          const element = document.querySelector('#df-def189d6-d839-4741-830a-49bc329d9105');\n",
              "          const dataTable =\n",
              "            await google.colab.kernel.invokeFunction('convertToInteractive',\n",
              "                                                     [key], {});\n",
              "          if (!dataTable) return;\n",
              "\n",
              "          const docLinkHtml = 'Like what you see? Visit the ' +\n",
              "            '<a target=\"_blank\" href=https://colab.research.google.com/notebooks/data_table.ipynb>data table notebook</a>'\n",
              "            + ' to learn more about interactive tables.';\n",
              "          element.innerHTML = '';\n",
              "          dataTable['output_type'] = 'display_data';\n",
              "          await google.colab.output.renderOutput(dataTable, element);\n",
              "          const docLink = document.createElement('div');\n",
              "          docLink.innerHTML = docLinkHtml;\n",
              "          element.appendChild(docLink);\n",
              "        }\n",
              "      </script>\n",
              "    </div>\n",
              "  </div>\n",
              "  "
            ]
          },
          "metadata": {},
          "execution_count": 55
        }
      ],
      "source": [
        "# Building the dataframe for above recommendations with columns \"song_id\" and \"predicted_ratings\"\n",
        "pd.DataFrame(recommendations, columns = ['song_id', 'predicted_play_count'])"
      ]
    },
    {
      "cell_type": "markdown",
      "metadata": {
        "id": "kyhThMOttWjj"
      },
      "source": [
        "**Observations and Insights:**\n",
        "\n",
        "* While comparing the ratings on songs we may also want to consider the number of users who have rated that song. Meaning if a song was rated 4 with a rating by 3 users this may be less liked than a song rated 3 by 50 users. \n",
        "\n",
        "* It has been empirically found that the likelihood of the product is directly proportional to the inverse of the square root of the rating_count of the product."
      ]
    },
    {
      "cell_type": "markdown",
      "metadata": {
        "id": "ghwEJY2e7INB"
      },
      "source": [
        "### Correcting the play_counts and Ranking the above songs"
      ]
    },
    {
      "cell_type": "code",
      "execution_count": null,
      "metadata": {
        "id": "39Hs7ZbO9v3O"
      },
      "outputs": [],
      "source": [
        "def ranking_songs(recommendations, final_rating):\n",
        "  # Sort the songs based on play counts\n",
        "  ranked_songs = final_rating.loc[[item[0] for item in recommendations]].sort_values('number_play_count', ascending = False)[['number_play_count']].reset_index()\n",
        "\n",
        "  # Merge with the recommended songs to get predicted play_count\n",
        "  ranked_songs = ranked_songs.merge(pd.DataFrame(recommendations, columns = ['song_id', 'predicted_play_count']), on = ['song_id'], how = 'inner')\n",
        "\n",
        "  # Rank the songs based on corrected play_counts\n",
        "  ranked_songs['corrected_play_count'] = ranked_songs['predicted_play_count'] -1/ np.sqrt(ranked_songs['number_play_count'])\n",
        "\n",
        "  # Sort the songs based on corrected play_counts\n",
        "  ranked_songs = ranked_songs.sort_values('corrected_play_count', ascending = False)\n",
        " \n",
        "  return ranked_songs"
      ]
    },
    {
      "cell_type": "markdown",
      "metadata": {
        "id": "zQvst41lOoMX"
      },
      "source": [
        "**Think About It:** In the above function to correct the predicted play_count a quantity 1/np.sqrt(n) is subtracted. What is the intuition behind it? Is it also possible to add this quantity instead of subtracting?\n",
        "\n",
        "\n",
        "__We can add the quantity__ 1/np.sqrt(n) instead of subtracting it to get __more optimistic predictions__. But here we are subtracting this quantity, as there are some products with ratings 5 and __we can't have a rating more than 5 for a product.__"
      ]
    },
    {
      "cell_type": "code",
      "execution_count": null,
      "metadata": {
        "id": "xoiAL_vH8miC",
        "colab": {
          "base_uri": "https://localhost:8080/",
          "height": 206
        },
        "outputId": "26ef9847-d244-4273-fa6e-acd14875a9e5"
      },
      "outputs": [
        {
          "output_type": "execute_result",
          "data": {
            "text/plain": [
              "   song_id  number_play_count  predicted_play_count  corrected_play_count\n",
              "0     5531                618              2.553335              2.513109\n",
              "2      317                411              2.518269              2.468943\n",
              "1     5943                423              2.390723              2.342101\n",
              "3     4954                183              2.406776              2.332854\n",
              "4     8635                155              2.396606              2.316284"
            ],
            "text/html": [
              "\n",
              "  <div id=\"df-364d17e7-db1f-4cc7-9299-65448e1ee66b\">\n",
              "    <div class=\"colab-df-container\">\n",
              "      <div>\n",
              "<style scoped>\n",
              "    .dataframe tbody tr th:only-of-type {\n",
              "        vertical-align: middle;\n",
              "    }\n",
              "\n",
              "    .dataframe tbody tr th {\n",
              "        vertical-align: top;\n",
              "    }\n",
              "\n",
              "    .dataframe thead th {\n",
              "        text-align: right;\n",
              "    }\n",
              "</style>\n",
              "<table border=\"1\" class=\"dataframe\">\n",
              "  <thead>\n",
              "    <tr style=\"text-align: right;\">\n",
              "      <th></th>\n",
              "      <th>song_id</th>\n",
              "      <th>number_play_count</th>\n",
              "      <th>predicted_play_count</th>\n",
              "      <th>corrected_play_count</th>\n",
              "    </tr>\n",
              "  </thead>\n",
              "  <tbody>\n",
              "    <tr>\n",
              "      <th>0</th>\n",
              "      <td>5531</td>\n",
              "      <td>618</td>\n",
              "      <td>2.553335</td>\n",
              "      <td>2.513109</td>\n",
              "    </tr>\n",
              "    <tr>\n",
              "      <th>2</th>\n",
              "      <td>317</td>\n",
              "      <td>411</td>\n",
              "      <td>2.518269</td>\n",
              "      <td>2.468943</td>\n",
              "    </tr>\n",
              "    <tr>\n",
              "      <th>1</th>\n",
              "      <td>5943</td>\n",
              "      <td>423</td>\n",
              "      <td>2.390723</td>\n",
              "      <td>2.342101</td>\n",
              "    </tr>\n",
              "    <tr>\n",
              "      <th>3</th>\n",
              "      <td>4954</td>\n",
              "      <td>183</td>\n",
              "      <td>2.406776</td>\n",
              "      <td>2.332854</td>\n",
              "    </tr>\n",
              "    <tr>\n",
              "      <th>4</th>\n",
              "      <td>8635</td>\n",
              "      <td>155</td>\n",
              "      <td>2.396606</td>\n",
              "      <td>2.316284</td>\n",
              "    </tr>\n",
              "  </tbody>\n",
              "</table>\n",
              "</div>\n",
              "      <button class=\"colab-df-convert\" onclick=\"convertToInteractive('df-364d17e7-db1f-4cc7-9299-65448e1ee66b')\"\n",
              "              title=\"Convert this dataframe to an interactive table.\"\n",
              "              style=\"display:none;\">\n",
              "        \n",
              "  <svg xmlns=\"http://www.w3.org/2000/svg\" height=\"24px\"viewBox=\"0 0 24 24\"\n",
              "       width=\"24px\">\n",
              "    <path d=\"M0 0h24v24H0V0z\" fill=\"none\"/>\n",
              "    <path d=\"M18.56 5.44l.94 2.06.94-2.06 2.06-.94-2.06-.94-.94-2.06-.94 2.06-2.06.94zm-11 1L8.5 8.5l.94-2.06 2.06-.94-2.06-.94L8.5 2.5l-.94 2.06-2.06.94zm10 10l.94 2.06.94-2.06 2.06-.94-2.06-.94-.94-2.06-.94 2.06-2.06.94z\"/><path d=\"M17.41 7.96l-1.37-1.37c-.4-.4-.92-.59-1.43-.59-.52 0-1.04.2-1.43.59L10.3 9.45l-7.72 7.72c-.78.78-.78 2.05 0 2.83L4 21.41c.39.39.9.59 1.41.59.51 0 1.02-.2 1.41-.59l7.78-7.78 2.81-2.81c.8-.78.8-2.07 0-2.86zM5.41 20L4 18.59l7.72-7.72 1.47 1.35L5.41 20z\"/>\n",
              "  </svg>\n",
              "      </button>\n",
              "      \n",
              "  <style>\n",
              "    .colab-df-container {\n",
              "      display:flex;\n",
              "      flex-wrap:wrap;\n",
              "      gap: 12px;\n",
              "    }\n",
              "\n",
              "    .colab-df-convert {\n",
              "      background-color: #E8F0FE;\n",
              "      border: none;\n",
              "      border-radius: 50%;\n",
              "      cursor: pointer;\n",
              "      display: none;\n",
              "      fill: #1967D2;\n",
              "      height: 32px;\n",
              "      padding: 0 0 0 0;\n",
              "      width: 32px;\n",
              "    }\n",
              "\n",
              "    .colab-df-convert:hover {\n",
              "      background-color: #E2EBFA;\n",
              "      box-shadow: 0px 1px 2px rgba(60, 64, 67, 0.3), 0px 1px 3px 1px rgba(60, 64, 67, 0.15);\n",
              "      fill: #174EA6;\n",
              "    }\n",
              "\n",
              "    [theme=dark] .colab-df-convert {\n",
              "      background-color: #3B4455;\n",
              "      fill: #D2E3FC;\n",
              "    }\n",
              "\n",
              "    [theme=dark] .colab-df-convert:hover {\n",
              "      background-color: #434B5C;\n",
              "      box-shadow: 0px 1px 3px 1px rgba(0, 0, 0, 0.15);\n",
              "      filter: drop-shadow(0px 1px 2px rgba(0, 0, 0, 0.3));\n",
              "      fill: #FFFFFF;\n",
              "    }\n",
              "  </style>\n",
              "\n",
              "      <script>\n",
              "        const buttonEl =\n",
              "          document.querySelector('#df-364d17e7-db1f-4cc7-9299-65448e1ee66b button.colab-df-convert');\n",
              "        buttonEl.style.display =\n",
              "          google.colab.kernel.accessAllowed ? 'block' : 'none';\n",
              "\n",
              "        async function convertToInteractive(key) {\n",
              "          const element = document.querySelector('#df-364d17e7-db1f-4cc7-9299-65448e1ee66b');\n",
              "          const dataTable =\n",
              "            await google.colab.kernel.invokeFunction('convertToInteractive',\n",
              "                                                     [key], {});\n",
              "          if (!dataTable) return;\n",
              "\n",
              "          const docLinkHtml = 'Like what you see? Visit the ' +\n",
              "            '<a target=\"_blank\" href=https://colab.research.google.com/notebooks/data_table.ipynb>data table notebook</a>'\n",
              "            + ' to learn more about interactive tables.';\n",
              "          element.innerHTML = '';\n",
              "          dataTable['output_type'] = 'display_data';\n",
              "          await google.colab.output.renderOutput(dataTable, element);\n",
              "          const docLink = document.createElement('div');\n",
              "          docLink.innerHTML = docLinkHtml;\n",
              "          element.appendChild(docLink);\n",
              "        }\n",
              "      </script>\n",
              "    </div>\n",
              "  </div>\n",
              "  "
            ]
          },
          "metadata": {},
          "execution_count": 57
        }
      ],
      "source": [
        "# Applying the ranking_songs function on the final_play data\n",
        "ranking_songs(recommendations, final_rating)"
      ]
    },
    {
      "cell_type": "code",
      "source": [
        "df_final[df_final['song_id'].isin([5531, 317, 5943, 4954, 8635])][['song_id', 'title', 'release', 'artist_name', 'year']].drop_duplicates()"
      ],
      "metadata": {
        "id": "VMuqRtDVBW8N",
        "outputId": "7d69faa6-4160-486b-df69-17992d29804a",
        "colab": {
          "base_uri": "https://localhost:8080/",
          "height": 206
        }
      },
      "execution_count": null,
      "outputs": [
        {
          "output_type": "execute_result",
          "data": {
            "text/plain": [
              "       song_id                title          release             artist_name  \\\n",
              "539       4954          The Maestro  Check Your Head            Beastie Boys   \n",
              "1262      5943  You've Got The Love            Lungs  Florence + The Machine   \n",
              "2016       317                 Undo  Vespertine Live                   Björk   \n",
              "8756      5531              Secrets        Waking Up             OneRepublic   \n",
              "54385     8635        Una Confusion       All Access                      LU   \n",
              "\n",
              "       year  \n",
              "539    1992  \n",
              "1262   2009  \n",
              "2016   2001  \n",
              "8756   2009  \n",
              "54385  2006  "
            ],
            "text/html": [
              "\n",
              "  <div id=\"df-f2893355-1f34-4c58-b4a6-ff3155b820c4\">\n",
              "    <div class=\"colab-df-container\">\n",
              "      <div>\n",
              "<style scoped>\n",
              "    .dataframe tbody tr th:only-of-type {\n",
              "        vertical-align: middle;\n",
              "    }\n",
              "\n",
              "    .dataframe tbody tr th {\n",
              "        vertical-align: top;\n",
              "    }\n",
              "\n",
              "    .dataframe thead th {\n",
              "        text-align: right;\n",
              "    }\n",
              "</style>\n",
              "<table border=\"1\" class=\"dataframe\">\n",
              "  <thead>\n",
              "    <tr style=\"text-align: right;\">\n",
              "      <th></th>\n",
              "      <th>song_id</th>\n",
              "      <th>title</th>\n",
              "      <th>release</th>\n",
              "      <th>artist_name</th>\n",
              "      <th>year</th>\n",
              "    </tr>\n",
              "  </thead>\n",
              "  <tbody>\n",
              "    <tr>\n",
              "      <th>539</th>\n",
              "      <td>4954</td>\n",
              "      <td>The Maestro</td>\n",
              "      <td>Check Your Head</td>\n",
              "      <td>Beastie Boys</td>\n",
              "      <td>1992</td>\n",
              "    </tr>\n",
              "    <tr>\n",
              "      <th>1262</th>\n",
              "      <td>5943</td>\n",
              "      <td>You've Got The Love</td>\n",
              "      <td>Lungs</td>\n",
              "      <td>Florence + The Machine</td>\n",
              "      <td>2009</td>\n",
              "    </tr>\n",
              "    <tr>\n",
              "      <th>2016</th>\n",
              "      <td>317</td>\n",
              "      <td>Undo</td>\n",
              "      <td>Vespertine Live</td>\n",
              "      <td>Björk</td>\n",
              "      <td>2001</td>\n",
              "    </tr>\n",
              "    <tr>\n",
              "      <th>8756</th>\n",
              "      <td>5531</td>\n",
              "      <td>Secrets</td>\n",
              "      <td>Waking Up</td>\n",
              "      <td>OneRepublic</td>\n",
              "      <td>2009</td>\n",
              "    </tr>\n",
              "    <tr>\n",
              "      <th>54385</th>\n",
              "      <td>8635</td>\n",
              "      <td>Una Confusion</td>\n",
              "      <td>All Access</td>\n",
              "      <td>LU</td>\n",
              "      <td>2006</td>\n",
              "    </tr>\n",
              "  </tbody>\n",
              "</table>\n",
              "</div>\n",
              "      <button class=\"colab-df-convert\" onclick=\"convertToInteractive('df-f2893355-1f34-4c58-b4a6-ff3155b820c4')\"\n",
              "              title=\"Convert this dataframe to an interactive table.\"\n",
              "              style=\"display:none;\">\n",
              "        \n",
              "  <svg xmlns=\"http://www.w3.org/2000/svg\" height=\"24px\"viewBox=\"0 0 24 24\"\n",
              "       width=\"24px\">\n",
              "    <path d=\"M0 0h24v24H0V0z\" fill=\"none\"/>\n",
              "    <path d=\"M18.56 5.44l.94 2.06.94-2.06 2.06-.94-2.06-.94-.94-2.06-.94 2.06-2.06.94zm-11 1L8.5 8.5l.94-2.06 2.06-.94-2.06-.94L8.5 2.5l-.94 2.06-2.06.94zm10 10l.94 2.06.94-2.06 2.06-.94-2.06-.94-.94-2.06-.94 2.06-2.06.94z\"/><path d=\"M17.41 7.96l-1.37-1.37c-.4-.4-.92-.59-1.43-.59-.52 0-1.04.2-1.43.59L10.3 9.45l-7.72 7.72c-.78.78-.78 2.05 0 2.83L4 21.41c.39.39.9.59 1.41.59.51 0 1.02-.2 1.41-.59l7.78-7.78 2.81-2.81c.8-.78.8-2.07 0-2.86zM5.41 20L4 18.59l7.72-7.72 1.47 1.35L5.41 20z\"/>\n",
              "  </svg>\n",
              "      </button>\n",
              "      \n",
              "  <style>\n",
              "    .colab-df-container {\n",
              "      display:flex;\n",
              "      flex-wrap:wrap;\n",
              "      gap: 12px;\n",
              "    }\n",
              "\n",
              "    .colab-df-convert {\n",
              "      background-color: #E8F0FE;\n",
              "      border: none;\n",
              "      border-radius: 50%;\n",
              "      cursor: pointer;\n",
              "      display: none;\n",
              "      fill: #1967D2;\n",
              "      height: 32px;\n",
              "      padding: 0 0 0 0;\n",
              "      width: 32px;\n",
              "    }\n",
              "\n",
              "    .colab-df-convert:hover {\n",
              "      background-color: #E2EBFA;\n",
              "      box-shadow: 0px 1px 2px rgba(60, 64, 67, 0.3), 0px 1px 3px 1px rgba(60, 64, 67, 0.15);\n",
              "      fill: #174EA6;\n",
              "    }\n",
              "\n",
              "    [theme=dark] .colab-df-convert {\n",
              "      background-color: #3B4455;\n",
              "      fill: #D2E3FC;\n",
              "    }\n",
              "\n",
              "    [theme=dark] .colab-df-convert:hover {\n",
              "      background-color: #434B5C;\n",
              "      box-shadow: 0px 1px 3px 1px rgba(0, 0, 0, 0.15);\n",
              "      filter: drop-shadow(0px 1px 2px rgba(0, 0, 0, 0.3));\n",
              "      fill: #FFFFFF;\n",
              "    }\n",
              "  </style>\n",
              "\n",
              "      <script>\n",
              "        const buttonEl =\n",
              "          document.querySelector('#df-f2893355-1f34-4c58-b4a6-ff3155b820c4 button.colab-df-convert');\n",
              "        buttonEl.style.display =\n",
              "          google.colab.kernel.accessAllowed ? 'block' : 'none';\n",
              "\n",
              "        async function convertToInteractive(key) {\n",
              "          const element = document.querySelector('#df-f2893355-1f34-4c58-b4a6-ff3155b820c4');\n",
              "          const dataTable =\n",
              "            await google.colab.kernel.invokeFunction('convertToInteractive',\n",
              "                                                     [key], {});\n",
              "          if (!dataTable) return;\n",
              "\n",
              "          const docLinkHtml = 'Like what you see? Visit the ' +\n",
              "            '<a target=\"_blank\" href=https://colab.research.google.com/notebooks/data_table.ipynb>data table notebook</a>'\n",
              "            + ' to learn more about interactive tables.';\n",
              "          element.innerHTML = '';\n",
              "          dataTable['output_type'] = 'display_data';\n",
              "          await google.colab.output.renderOutput(dataTable, element);\n",
              "          const docLink = document.createElement('div');\n",
              "          docLink.innerHTML = docLinkHtml;\n",
              "          element.appendChild(docLink);\n",
              "        }\n",
              "      </script>\n",
              "    </div>\n",
              "  </div>\n",
              "  "
            ]
          },
          "metadata": {},
          "execution_count": 58
        }
      ]
    },
    {
      "cell_type": "markdown",
      "metadata": {
        "id": "KOwwGsH8toLG"
      },
      "source": [
        "**Observations and Insights:**\n",
        "\n",
        "* We can see that the __corrected_play_count__ will now take into consideration the __number_play_count__"
      ]
    },
    {
      "cell_type": "markdown",
      "metadata": {
        "id": "QgbzJKk7Tsnr"
      },
      "source": [
        "### Item Item Similarity-based collaborative filtering recommendation systems "
      ]
    },
    {
      "cell_type": "code",
      "execution_count": null,
      "metadata": {
        "id": "W5RMcdzjTsns",
        "scrolled": false,
        "colab": {
          "base_uri": "https://localhost:8080/"
        },
        "outputId": "f1a3057a-a8e5-4cd8-c992-e58e25ce299e"
      },
      "outputs": [
        {
          "output_type": "stream",
          "name": "stdout",
          "text": [
            "RMSE: 1.0394\n",
            "Precision:  0.307\n",
            "Recall:  0.562\n",
            "F_1 score:  0.397\n"
          ]
        }
      ],
      "source": [
        "# Apply the item-item similarity collaborative filtering model with random_state = 1 and evaluate the model performance\n",
        "sim_options = {'name': 'cosine',\n",
        "               'user_based': False}\n",
        "\n",
        "# KNN algorithm is used to find desired similar items\n",
        "sim_item_item = KNNBasic(sim_options = sim_options, random_state = 1, verbose = False)\n",
        "\n",
        "# Train the algorithm on the train set, and predict ratings for the test set\n",
        "sim_item_item.fit(trainset)\n",
        "\n",
        "# Let us compute precision@k, recall@k, and f_1 score with k = 10\n",
        "precision_recall_at_k(sim_item_item)"
      ]
    },
    {
      "cell_type": "markdown",
      "metadata": {
        "id": "JfdIJ6XWunx0"
      },
      "source": [
        "**Observations and Insights:**\n",
        "\n",
        "* The baseline model is giving an __F_1__ score of ~40%. We can try imporve this with __GridSerchCV__  by tuning different hyperparameters of this algorithm. "
      ]
    },
    {
      "cell_type": "code",
      "execution_count": null,
      "metadata": {
        "id": "5yILOxXRTsns",
        "colab": {
          "base_uri": "https://localhost:8080/"
        },
        "outputId": "11b998cf-0dd4-492a-cf76-b2aea633e40b"
      },
      "outputs": [
        {
          "output_type": "stream",
          "name": "stdout",
          "text": [
            "user: 6958       item: 1671       r_ui = 2.00   est = 1.36   {'actual_k': 20, 'was_impossible': False}\n"
          ]
        },
        {
          "output_type": "execute_result",
          "data": {
            "text/plain": [
              "Prediction(uid=6958, iid=1671, r_ui=2, est=1.3614157231762556, details={'actual_k': 20, 'was_impossible': False})"
            ]
          },
          "metadata": {},
          "execution_count": 60
        }
      ],
      "source": [
        "# Predicting play count for a sample user_id 6958 and song (with song_id 1671) heard by the user\n",
        "\n",
        "sim_item_item.predict(6958, 1671, r_ui =2, verbose = True)"
      ]
    },
    {
      "cell_type": "code",
      "execution_count": null,
      "metadata": {
        "id": "jSn8oK3JZsTc",
        "colab": {
          "base_uri": "https://localhost:8080/"
        },
        "outputId": "41c88462-04f7-4ebd-c0bd-9cbf3d67b99c"
      },
      "outputs": [
        {
          "output_type": "stream",
          "name": "stdout",
          "text": [
            "user: 6958       item: 900972     r_ui = None   est = 1.70   {'was_impossible': True, 'reason': 'User and/or item is unknown.'}\n"
          ]
        },
        {
          "output_type": "execute_result",
          "data": {
            "text/plain": [
              "Prediction(uid=6958, iid=900972, r_ui=None, est=1.6989607635206787, details={'was_impossible': True, 'reason': 'User and/or item is unknown.'})"
            ]
          },
          "metadata": {},
          "execution_count": 61
        }
      ],
      "source": [
        "# Predict the play count for a user that has not listened to the song (with song_id 1671)\n",
        "\n",
        "sim_item_item.predict(6958, 900972, verbose = True)"
      ]
    },
    {
      "cell_type": "markdown",
      "metadata": {
        "id": "dxE9fJ8Dupby"
      },
      "source": [
        "**Observations and Insights:**\n",
        "\n",
        "* The above output shows that the actual rating for this user-item pair is 2 and the predicted rating is 1.36 by this item-item-similarity-based baseline model.\n",
        "\n",
        "* The predicted rating for unknown song in this user-item pair is 1.70 based on this item-item similarity-based baseline model."
      ]
    },
    {
      "cell_type": "code",
      "execution_count": null,
      "metadata": {
        "id": "f5bcZ3HgTsnt",
        "colab": {
          "base_uri": "https://localhost:8080/"
        },
        "outputId": "47cbd40b-7e2e-4edc-de73-45e3af313077"
      },
      "outputs": [
        {
          "output_type": "stream",
          "name": "stdout",
          "text": [
            "1.0235093196455327\n",
            "{'k': 30, 'min_k': 6, 'sim_options': {'name': 'pearson_baseline', 'user_based': False, 'min_support': 2}}\n"
          ]
        }
      ],
      "source": [
        "# Apply grid search for enhancing model performance\n",
        "\n",
        "# Setting up parameter grid to tune the hyperparameters\n",
        "param_grid = {'k': [10, 20, 30], 'min_k': [3, 6, 9],\n",
        "              'sim_options': {'name': [\"cosine\", 'pearson', \"pearson_baseline\"],\n",
        "                              'user_based': [False], \"min_support\": [2, 4]}\n",
        "              }\n",
        "\n",
        "# Performing 3-fold cross-validation to tune the hyperparameters\n",
        "gs = GridSearchCV(KNNBasic, param_grid, measures = ['rmse'], cv = 3, n_jobs = -1)\n",
        "\n",
        "# Fitting the data\n",
        "gs.fit(data)\n",
        "\n",
        "# Find the best RMSE score\n",
        "print(gs.best_score['rmse'])\n",
        "\n",
        "# Extract the combination of parameters that gave the best RMSE score\n",
        "print(gs.best_params['rmse'])"
      ]
    },
    {
      "cell_type": "markdown",
      "metadata": {
        "id": "SXLxjLEQYvWk"
      },
      "source": [
        "**Think About It:** How do the parameters affect the performance of the model? Can we improve the performance of the model further? Check the list of hyperparameters [here](https://surprise.readthedocs.io/en/stable/knn_inspired.html).\n",
        "\n",
        "* __Choice of k__ The max number of neighbors to take into account.\n",
        "* __Choice of min_k__ The minimum number of neighbors to take into account.\n",
        "* This choice of __k__ has the following impact larger values of __k__ result in more stable model with less variance and smaller __k__ will result in more accurate predictions but have higher variance. \n",
        "* __Choice of sim_options__ this is the option for the similarity measure, and computes the distance between items. There are several options such as cosine similarity, Pearson correlation, and Mean Squared Difference"
      ]
    },
    {
      "cell_type": "code",
      "execution_count": null,
      "metadata": {
        "id": "dSeiM1qeTsnt",
        "colab": {
          "base_uri": "https://localhost:8080/"
        },
        "outputId": "2f0303f1-d16b-4be8-84e1-e72a3f6ac62c"
      },
      "outputs": [
        {
          "output_type": "stream",
          "name": "stdout",
          "text": [
            "RMSE: 1.0328\n",
            "Precision:  0.408\n",
            "Recall:  0.665\n",
            "F_1 score:  0.506\n"
          ]
        }
      ],
      "source": [
        "# Apply the best modle found in the grid search\n",
        "sim_options = {'name': 'pearson_baseline',\n",
        "               'user_based': False,\n",
        "                'min_support': 2}\n",
        "\n",
        "# Creating an instance of KNNBasic with optimal hyperparameter values\n",
        "sim_item_item_optimized = KNNBasic(sim_options = sim_options, k = 30, min_k = 6, random_state = 1, verbose = False)\n",
        "\n",
        "# Training the algorithm on the train set\n",
        "sim_item_item_optimized.fit(trainset)\n",
        "\n",
        "# Let us compute precision@k and recall@k, f1_score and RMSE\n",
        "precision_recall_at_k(sim_item_item_optimized)\n"
      ]
    },
    {
      "cell_type": "markdown",
      "metadata": {
        "id": "XxXelRIluvfh"
      },
      "source": [
        "**Observations and Insights:**\n",
        "\n",
        "* We can observe that after tuning hyperparameters, F_1 score of the model is better than the baseline model. Along with this, the RMSE of the model has gone down in comparison to the model with default hyperparameters. Hence, we can say that the model performance has improved after hyperparameter tuning."
      ]
    },
    {
      "cell_type": "code",
      "execution_count": null,
      "metadata": {
        "id": "gIBRRvdoTsnt",
        "colab": {
          "base_uri": "https://localhost:8080/"
        },
        "outputId": "5ba2ed92-a135-48d3-e411-8ff295ece115"
      },
      "outputs": [
        {
          "output_type": "stream",
          "name": "stdout",
          "text": [
            "user: 6958       item: 1671       r_ui = 2.00   est = 1.96   {'actual_k': 10, 'was_impossible': False}\n"
          ]
        },
        {
          "output_type": "execute_result",
          "data": {
            "text/plain": [
              "Prediction(uid=6958, iid=1671, r_ui=2, est=1.9634957386781853, details={'actual_k': 10, 'was_impossible': False})"
            ]
          },
          "metadata": {},
          "execution_count": 64
        }
      ],
      "source": [
        "# Predict the play_count by a user(user_id 6958) for the song (song_id 1671)\n",
        "\n",
        "sim_item_item_optimized.predict(6958, 1671, r_ui =2, verbose = True)"
      ]
    },
    {
      "cell_type": "code",
      "execution_count": null,
      "metadata": {
        "id": "LNEgcI9PTsnu",
        "colab": {
          "base_uri": "https://localhost:8080/"
        },
        "outputId": "ae262328-a002-49a8-c413-1722d8fb6699"
      },
      "outputs": [
        {
          "output_type": "stream",
          "name": "stdout",
          "text": [
            "user: 6958       item: 900972     r_ui = None   est = 1.70   {'was_impossible': True, 'reason': 'User and/or item is unknown.'}\n"
          ]
        },
        {
          "output_type": "execute_result",
          "data": {
            "text/plain": [
              "Prediction(uid=6958, iid=900972, r_ui=None, est=1.6989607635206787, details={'was_impossible': True, 'reason': 'User and/or item is unknown.'})"
            ]
          },
          "metadata": {},
          "execution_count": 65
        }
      ],
      "source": [
        "# Predicting play count for a sample user_id 6958 with song_id 3232 which is not heard by the user\n",
        "\n",
        "sim_item_item_optimized.predict(6958, 900972, verbose = True)"
      ]
    },
    {
      "cell_type": "markdown",
      "metadata": {
        "id": "yf3kDSepuwcw"
      },
      "source": [
        "**Observations and Insights:**\n",
        "\n",
        "* The above output shows that the actual rating for this user-song pair 6958-1671 is 2 and the predicted rating is 1.96 by this optimized item-item-similarity-based baseline model. A improved prediction when compared to the baseline model. "
      ]
    },
    {
      "cell_type": "code",
      "execution_count": null,
      "metadata": {
        "id": "ZRJS4oDFTsnu",
        "colab": {
          "base_uri": "https://localhost:8080/"
        },
        "outputId": "815a8619-1ee2-46cf-d788-5ab75cb36ed4"
      },
      "outputs": [
        {
          "output_type": "execute_result",
          "data": {
            "text/plain": [
              "[124, 523, 173, 205, 65]"
            ]
          },
          "metadata": {},
          "execution_count": 66
        }
      ],
      "source": [
        "# Find five most similar items to the item with inner id 0\n",
        "\n",
        "sim_item_item_optimized.get_neighbors(0, k = 5)"
      ]
    },
    {
      "cell_type": "code",
      "execution_count": null,
      "metadata": {
        "id": "rzoEbuZFTsnu",
        "colab": {
          "base_uri": "https://localhost:8080/"
        },
        "outputId": "27c9ab8f-3e33-4eca-9342-f165a922e274"
      },
      "outputs": [
        {
          "output_type": "execute_result",
          "data": {
            "text/plain": [
              "[(2342, 2.653903109477311),\n",
              " (5101, 2.386577162060947),\n",
              " (139, 2.3137269182649587),\n",
              " (7519, 2.2708636509919065),\n",
              " (8099, 2.2127017409877365)]"
            ]
          },
          "metadata": {},
          "execution_count": 67
        }
      ],
      "source": [
        "# Making top 5 recommendations for any user_id  with item_item_similarity-based recommendation engine\n",
        "\n",
        "recommendations = get_recommendations(df_final, 6958, 5, sim_item_item_optimized)\n",
        "recommendations"
      ]
    },
    {
      "cell_type": "code",
      "execution_count": null,
      "metadata": {
        "id": "_kXVTiysTsnv",
        "colab": {
          "base_uri": "https://localhost:8080/"
        },
        "outputId": "a12be755-3659-487c-f76b-38424530da6e"
      },
      "outputs": [
        {
          "output_type": "execute_result",
          "data": {
            "text/plain": [
              "   song_id  predicted_play_count\n",
              "0     2342              2.653903\n",
              "1     5101              2.386577\n",
              "2      139              2.313727\n",
              "3     7519              2.270864\n",
              "4     8099              2.212702"
            ],
            "text/html": [
              "\n",
              "  <div id=\"df-828699ef-5af8-4d69-9d5f-ab56a00a3153\">\n",
              "    <div class=\"colab-df-container\">\n",
              "      <div>\n",
              "<style scoped>\n",
              "    .dataframe tbody tr th:only-of-type {\n",
              "        vertical-align: middle;\n",
              "    }\n",
              "\n",
              "    .dataframe tbody tr th {\n",
              "        vertical-align: top;\n",
              "    }\n",
              "\n",
              "    .dataframe thead th {\n",
              "        text-align: right;\n",
              "    }\n",
              "</style>\n",
              "<table border=\"1\" class=\"dataframe\">\n",
              "  <thead>\n",
              "    <tr style=\"text-align: right;\">\n",
              "      <th></th>\n",
              "      <th>song_id</th>\n",
              "      <th>predicted_play_count</th>\n",
              "    </tr>\n",
              "  </thead>\n",
              "  <tbody>\n",
              "    <tr>\n",
              "      <th>0</th>\n",
              "      <td>2342</td>\n",
              "      <td>2.653903</td>\n",
              "    </tr>\n",
              "    <tr>\n",
              "      <th>1</th>\n",
              "      <td>5101</td>\n",
              "      <td>2.386577</td>\n",
              "    </tr>\n",
              "    <tr>\n",
              "      <th>2</th>\n",
              "      <td>139</td>\n",
              "      <td>2.313727</td>\n",
              "    </tr>\n",
              "    <tr>\n",
              "      <th>3</th>\n",
              "      <td>7519</td>\n",
              "      <td>2.270864</td>\n",
              "    </tr>\n",
              "    <tr>\n",
              "      <th>4</th>\n",
              "      <td>8099</td>\n",
              "      <td>2.212702</td>\n",
              "    </tr>\n",
              "  </tbody>\n",
              "</table>\n",
              "</div>\n",
              "      <button class=\"colab-df-convert\" onclick=\"convertToInteractive('df-828699ef-5af8-4d69-9d5f-ab56a00a3153')\"\n",
              "              title=\"Convert this dataframe to an interactive table.\"\n",
              "              style=\"display:none;\">\n",
              "        \n",
              "  <svg xmlns=\"http://www.w3.org/2000/svg\" height=\"24px\"viewBox=\"0 0 24 24\"\n",
              "       width=\"24px\">\n",
              "    <path d=\"M0 0h24v24H0V0z\" fill=\"none\"/>\n",
              "    <path d=\"M18.56 5.44l.94 2.06.94-2.06 2.06-.94-2.06-.94-.94-2.06-.94 2.06-2.06.94zm-11 1L8.5 8.5l.94-2.06 2.06-.94-2.06-.94L8.5 2.5l-.94 2.06-2.06.94zm10 10l.94 2.06.94-2.06 2.06-.94-2.06-.94-.94-2.06-.94 2.06-2.06.94z\"/><path d=\"M17.41 7.96l-1.37-1.37c-.4-.4-.92-.59-1.43-.59-.52 0-1.04.2-1.43.59L10.3 9.45l-7.72 7.72c-.78.78-.78 2.05 0 2.83L4 21.41c.39.39.9.59 1.41.59.51 0 1.02-.2 1.41-.59l7.78-7.78 2.81-2.81c.8-.78.8-2.07 0-2.86zM5.41 20L4 18.59l7.72-7.72 1.47 1.35L5.41 20z\"/>\n",
              "  </svg>\n",
              "      </button>\n",
              "      \n",
              "  <style>\n",
              "    .colab-df-container {\n",
              "      display:flex;\n",
              "      flex-wrap:wrap;\n",
              "      gap: 12px;\n",
              "    }\n",
              "\n",
              "    .colab-df-convert {\n",
              "      background-color: #E8F0FE;\n",
              "      border: none;\n",
              "      border-radius: 50%;\n",
              "      cursor: pointer;\n",
              "      display: none;\n",
              "      fill: #1967D2;\n",
              "      height: 32px;\n",
              "      padding: 0 0 0 0;\n",
              "      width: 32px;\n",
              "    }\n",
              "\n",
              "    .colab-df-convert:hover {\n",
              "      background-color: #E2EBFA;\n",
              "      box-shadow: 0px 1px 2px rgba(60, 64, 67, 0.3), 0px 1px 3px 1px rgba(60, 64, 67, 0.15);\n",
              "      fill: #174EA6;\n",
              "    }\n",
              "\n",
              "    [theme=dark] .colab-df-convert {\n",
              "      background-color: #3B4455;\n",
              "      fill: #D2E3FC;\n",
              "    }\n",
              "\n",
              "    [theme=dark] .colab-df-convert:hover {\n",
              "      background-color: #434B5C;\n",
              "      box-shadow: 0px 1px 3px 1px rgba(0, 0, 0, 0.15);\n",
              "      filter: drop-shadow(0px 1px 2px rgba(0, 0, 0, 0.3));\n",
              "      fill: #FFFFFF;\n",
              "    }\n",
              "  </style>\n",
              "\n",
              "      <script>\n",
              "        const buttonEl =\n",
              "          document.querySelector('#df-828699ef-5af8-4d69-9d5f-ab56a00a3153 button.colab-df-convert');\n",
              "        buttonEl.style.display =\n",
              "          google.colab.kernel.accessAllowed ? 'block' : 'none';\n",
              "\n",
              "        async function convertToInteractive(key) {\n",
              "          const element = document.querySelector('#df-828699ef-5af8-4d69-9d5f-ab56a00a3153');\n",
              "          const dataTable =\n",
              "            await google.colab.kernel.invokeFunction('convertToInteractive',\n",
              "                                                     [key], {});\n",
              "          if (!dataTable) return;\n",
              "\n",
              "          const docLinkHtml = 'Like what you see? Visit the ' +\n",
              "            '<a target=\"_blank\" href=https://colab.research.google.com/notebooks/data_table.ipynb>data table notebook</a>'\n",
              "            + ' to learn more about interactive tables.';\n",
              "          element.innerHTML = '';\n",
              "          dataTable['output_type'] = 'display_data';\n",
              "          await google.colab.output.renderOutput(dataTable, element);\n",
              "          const docLink = document.createElement('div');\n",
              "          docLink.innerHTML = docLinkHtml;\n",
              "          element.appendChild(docLink);\n",
              "        }\n",
              "      </script>\n",
              "    </div>\n",
              "  </div>\n",
              "  "
            ]
          },
          "metadata": {},
          "execution_count": 68
        }
      ],
      "source": [
        "# Building the dataframe for above recommendations with columns \"song_id\" and \"predicted_play_count\"\n",
        "pd.DataFrame(recommendations, columns = ['song_id', 'predicted_play_count'])"
      ]
    },
    {
      "cell_type": "code",
      "execution_count": null,
      "metadata": {
        "id": "7gewfmTATsnv",
        "colab": {
          "base_uri": "https://localhost:8080/"
        },
        "outputId": "04b75647-15b4-4c77-d450-42d5fe86cf43"
      },
      "outputs": [
        {
          "output_type": "execute_result",
          "data": {
            "text/plain": [
              "   song_id  number_play_count  predicted_play_count  corrected_play_count\n",
              "4     2342                111              2.653903              2.558987\n",
              "2     5101                130              2.386577              2.298871\n",
              "3      139                119              2.313727              2.222057\n",
              "1     7519                168              2.270864              2.193712\n",
              "0     8099                275              2.212702              2.152399"
            ],
            "text/html": [
              "\n",
              "  <div id=\"df-0d1d27fe-8309-4e48-b99c-77b19bd8071a\">\n",
              "    <div class=\"colab-df-container\">\n",
              "      <div>\n",
              "<style scoped>\n",
              "    .dataframe tbody tr th:only-of-type {\n",
              "        vertical-align: middle;\n",
              "    }\n",
              "\n",
              "    .dataframe tbody tr th {\n",
              "        vertical-align: top;\n",
              "    }\n",
              "\n",
              "    .dataframe thead th {\n",
              "        text-align: right;\n",
              "    }\n",
              "</style>\n",
              "<table border=\"1\" class=\"dataframe\">\n",
              "  <thead>\n",
              "    <tr style=\"text-align: right;\">\n",
              "      <th></th>\n",
              "      <th>song_id</th>\n",
              "      <th>number_play_count</th>\n",
              "      <th>predicted_play_count</th>\n",
              "      <th>corrected_play_count</th>\n",
              "    </tr>\n",
              "  </thead>\n",
              "  <tbody>\n",
              "    <tr>\n",
              "      <th>4</th>\n",
              "      <td>2342</td>\n",
              "      <td>111</td>\n",
              "      <td>2.653903</td>\n",
              "      <td>2.558987</td>\n",
              "    </tr>\n",
              "    <tr>\n",
              "      <th>2</th>\n",
              "      <td>5101</td>\n",
              "      <td>130</td>\n",
              "      <td>2.386577</td>\n",
              "      <td>2.298871</td>\n",
              "    </tr>\n",
              "    <tr>\n",
              "      <th>3</th>\n",
              "      <td>139</td>\n",
              "      <td>119</td>\n",
              "      <td>2.313727</td>\n",
              "      <td>2.222057</td>\n",
              "    </tr>\n",
              "    <tr>\n",
              "      <th>1</th>\n",
              "      <td>7519</td>\n",
              "      <td>168</td>\n",
              "      <td>2.270864</td>\n",
              "      <td>2.193712</td>\n",
              "    </tr>\n",
              "    <tr>\n",
              "      <th>0</th>\n",
              "      <td>8099</td>\n",
              "      <td>275</td>\n",
              "      <td>2.212702</td>\n",
              "      <td>2.152399</td>\n",
              "    </tr>\n",
              "  </tbody>\n",
              "</table>\n",
              "</div>\n",
              "      <button class=\"colab-df-convert\" onclick=\"convertToInteractive('df-0d1d27fe-8309-4e48-b99c-77b19bd8071a')\"\n",
              "              title=\"Convert this dataframe to an interactive table.\"\n",
              "              style=\"display:none;\">\n",
              "        \n",
              "  <svg xmlns=\"http://www.w3.org/2000/svg\" height=\"24px\"viewBox=\"0 0 24 24\"\n",
              "       width=\"24px\">\n",
              "    <path d=\"M0 0h24v24H0V0z\" fill=\"none\"/>\n",
              "    <path d=\"M18.56 5.44l.94 2.06.94-2.06 2.06-.94-2.06-.94-.94-2.06-.94 2.06-2.06.94zm-11 1L8.5 8.5l.94-2.06 2.06-.94-2.06-.94L8.5 2.5l-.94 2.06-2.06.94zm10 10l.94 2.06.94-2.06 2.06-.94-2.06-.94-.94-2.06-.94 2.06-2.06.94z\"/><path d=\"M17.41 7.96l-1.37-1.37c-.4-.4-.92-.59-1.43-.59-.52 0-1.04.2-1.43.59L10.3 9.45l-7.72 7.72c-.78.78-.78 2.05 0 2.83L4 21.41c.39.39.9.59 1.41.59.51 0 1.02-.2 1.41-.59l7.78-7.78 2.81-2.81c.8-.78.8-2.07 0-2.86zM5.41 20L4 18.59l7.72-7.72 1.47 1.35L5.41 20z\"/>\n",
              "  </svg>\n",
              "      </button>\n",
              "      \n",
              "  <style>\n",
              "    .colab-df-container {\n",
              "      display:flex;\n",
              "      flex-wrap:wrap;\n",
              "      gap: 12px;\n",
              "    }\n",
              "\n",
              "    .colab-df-convert {\n",
              "      background-color: #E8F0FE;\n",
              "      border: none;\n",
              "      border-radius: 50%;\n",
              "      cursor: pointer;\n",
              "      display: none;\n",
              "      fill: #1967D2;\n",
              "      height: 32px;\n",
              "      padding: 0 0 0 0;\n",
              "      width: 32px;\n",
              "    }\n",
              "\n",
              "    .colab-df-convert:hover {\n",
              "      background-color: #E2EBFA;\n",
              "      box-shadow: 0px 1px 2px rgba(60, 64, 67, 0.3), 0px 1px 3px 1px rgba(60, 64, 67, 0.15);\n",
              "      fill: #174EA6;\n",
              "    }\n",
              "\n",
              "    [theme=dark] .colab-df-convert {\n",
              "      background-color: #3B4455;\n",
              "      fill: #D2E3FC;\n",
              "    }\n",
              "\n",
              "    [theme=dark] .colab-df-convert:hover {\n",
              "      background-color: #434B5C;\n",
              "      box-shadow: 0px 1px 3px 1px rgba(0, 0, 0, 0.15);\n",
              "      filter: drop-shadow(0px 1px 2px rgba(0, 0, 0, 0.3));\n",
              "      fill: #FFFFFF;\n",
              "    }\n",
              "  </style>\n",
              "\n",
              "      <script>\n",
              "        const buttonEl =\n",
              "          document.querySelector('#df-0d1d27fe-8309-4e48-b99c-77b19bd8071a button.colab-df-convert');\n",
              "        buttonEl.style.display =\n",
              "          google.colab.kernel.accessAllowed ? 'block' : 'none';\n",
              "\n",
              "        async function convertToInteractive(key) {\n",
              "          const element = document.querySelector('#df-0d1d27fe-8309-4e48-b99c-77b19bd8071a');\n",
              "          const dataTable =\n",
              "            await google.colab.kernel.invokeFunction('convertToInteractive',\n",
              "                                                     [key], {});\n",
              "          if (!dataTable) return;\n",
              "\n",
              "          const docLinkHtml = 'Like what you see? Visit the ' +\n",
              "            '<a target=\"_blank\" href=https://colab.research.google.com/notebooks/data_table.ipynb>data table notebook</a>'\n",
              "            + ' to learn more about interactive tables.';\n",
              "          element.innerHTML = '';\n",
              "          dataTable['output_type'] = 'display_data';\n",
              "          await google.colab.output.renderOutput(dataTable, element);\n",
              "          const docLink = document.createElement('div');\n",
              "          docLink.innerHTML = docLinkHtml;\n",
              "          element.appendChild(docLink);\n",
              "        }\n",
              "      </script>\n",
              "    </div>\n",
              "  </div>\n",
              "  "
            ]
          },
          "metadata": {},
          "execution_count": 69
        }
      ],
      "source": [
        "# Applying the ranking_songs function\n",
        "ranking_songs(recommendations, final_rating)"
      ]
    },
    {
      "cell_type": "markdown",
      "metadata": {
        "id": "Ore9XTFgv5Np"
      },
      "source": [
        "**Observations and Insights:**\n",
        "\n",
        "* We can see that we get a completely different song list when compared to the user-user optimised model. Again all the correct values have been adjusted."
      ]
    },
    {
      "cell_type": "markdown",
      "metadata": {
        "id": "rKgJpSA9vOOL"
      },
      "source": [
        "### Model Based Collaborative Filtering - Matrix Factorization"
      ]
    },
    {
      "cell_type": "markdown",
      "metadata": {
        "id": "hJynidJCw-ti"
      },
      "source": [
        "Model-based Collaborative Filtering is a **personalized recommendation system**, the recommendations are based on the past behavior of the user and it is not dependent on any additional information. We use **latent features** to find recommendations for each user."
      ]
    },
    {
      "cell_type": "code",
      "execution_count": null,
      "metadata": {
        "id": "07-2PT5Ssjqm",
        "colab": {
          "base_uri": "https://localhost:8080/"
        },
        "outputId": "6b32f247-0137-4f58-f9c7-fb6685526d62"
      },
      "outputs": [
        {
          "output_type": "stream",
          "name": "stdout",
          "text": [
            "RMSE: 1.0252\n",
            "Precision:  0.41\n",
            "Recall:  0.633\n",
            "F_1 score:  0.498\n"
          ]
        }
      ],
      "source": [
        "# Build baseline model using svd\n",
        "svd = SVD(random_state = 1)\n",
        "\n",
        "# Training the algorithm on the train set\n",
        "svd.fit(trainset)\n",
        "\n",
        "# Use the function precision_recall_at_k to compute precision@k, recall@k, F1-Score, and RMSE\n",
        "precision_recall_at_k(svd)"
      ]
    },
    {
      "cell_type": "code",
      "execution_count": null,
      "metadata": {
        "id": "yWIhfdxXsjqm",
        "colab": {
          "base_uri": "https://localhost:8080/"
        },
        "outputId": "16010797-6f34-4946-9499-238fe38ea24d"
      },
      "outputs": [
        {
          "output_type": "stream",
          "name": "stdout",
          "text": [
            "user: 6958       item: 1671       r_ui = 2.00   est = 1.27   {'was_impossible': False}\n"
          ]
        },
        {
          "output_type": "execute_result",
          "data": {
            "text/plain": [
              "Prediction(uid=6958, iid=1671, r_ui=2, est=1.267473397214638, details={'was_impossible': False})"
            ]
          },
          "metadata": {},
          "execution_count": 71
        }
      ],
      "source": [
        "# Making prediction for user (with user_id 6958) to song (with song_id 1671), take r_ui = 2\n",
        "\n",
        "svd.predict(6958, 1671, r_ui = 2, verbose= True)"
      ]
    },
    {
      "cell_type": "code",
      "execution_count": null,
      "metadata": {
        "id": "APm-uMSvcAMf",
        "colab": {
          "base_uri": "https://localhost:8080/"
        },
        "outputId": "85b29d4d-cf48-44e8-e330-7938f68c5275"
      },
      "outputs": [
        {
          "output_type": "stream",
          "name": "stdout",
          "text": [
            "user: 6958       item: 900972     r_ui = None   est = 1.49   {'was_impossible': False}\n"
          ]
        },
        {
          "output_type": "execute_result",
          "data": {
            "text/plain": [
              "Prediction(uid=6958, iid=900972, r_ui=None, est=1.491980511454218, details={'was_impossible': False})"
            ]
          },
          "metadata": {},
          "execution_count": 72
        }
      ],
      "source": [
        "# Making a prediction for the user who has not listened to the song (song_id 3232)\n",
        "\n",
        "svd.predict(6958, 900972, verbose = True)"
      ]
    },
    {
      "cell_type": "markdown",
      "metadata": {
        "id": "23tnRUJJxWTR"
      },
      "source": [
        "#### Improving matrix factorization based recommendation system by tuning its hyperparameters"
      ]
    },
    {
      "cell_type": "code",
      "execution_count": null,
      "metadata": {
        "id": "4bM81V_hvtwv",
        "colab": {
          "base_uri": "https://localhost:8080/"
        },
        "outputId": "5919ab26-548d-4cec-f853-e8b839524344"
      },
      "outputs": [
        {
          "output_type": "stream",
          "name": "stdout",
          "text": [
            "1.0130032073300514\n",
            "{'n_epochs': 30, 'lr_all': 0.01, 'reg_all': 0.2}\n"
          ]
        }
      ],
      "source": [
        "# Set the parameter space to tune\n",
        "param_grid = {'n_epochs': [10, 20, 30], 'lr_all': [0.001, 0.005, 0.01],\n",
        "              'reg_all': [0.2, 0.4, 0.6]}\n",
        "\n",
        "# Performe 3-fold grid-search cross-validation\n",
        "gs_ = GridSearchCV(SVD, param_grid, measures = ['rmse'], cv = 3, n_jobs = -1)\n",
        "\n",
        "# Fitting data\n",
        "gs_.fit(data)\n",
        "\n",
        "# Best RMSE score\n",
        "print(gs_.best_score['rmse'])\n",
        "\n",
        "# Combination of parameters that gave the best RMSE score\n",
        "print(gs_.best_params['rmse'])"
      ]
    },
    {
      "cell_type": "markdown",
      "metadata": {
        "id": "aSgBRcL1xnVC"
      },
      "source": [
        "**Think About It**: How do the parameters affect the performance of the model? Can we improve the performance of the model further? Check the available hyperparameters [here](https://surprise.readthedocs.io/en/stable/matrix_factorization.html).\n",
        "\n",
        "\n",
        "\n",
        "* __n_ephocs__: specifies the number of iterations used for the stochastic gradient descent optimization algorithm. Increasing the number of epochs can improve the model's accuracy but can also increase the risk of overfitting the training data\n",
        "* __lr_all__: specifies the learning rate used for the stochastic gradient descent optimization algorithm. The learning rate controls the step size used to update the model's parameters during each iteration. Choosing an appropriate learning rate is critical for achieving good convergence and avoiding instability during training\n",
        "* __reg_all__: specifies the regularization strength used for the model's parameters. Regularization is used to prevent overfitting by adding a penalty term to the optimization objective that encourages the model's parameters to stay close to zero."
      ]
    },
    {
      "cell_type": "code",
      "execution_count": null,
      "metadata": {
        "id": "TA_7xe-nnhuu",
        "colab": {
          "base_uri": "https://localhost:8080/"
        },
        "outputId": "e77462eb-d9ed-4c87-f52e-93055973c211"
      },
      "outputs": [
        {
          "output_type": "stream",
          "name": "stdout",
          "text": [
            "RMSE: 1.0141\n",
            "Precision:  0.415\n",
            "Recall:  0.635\n",
            "F_1 score:  0.502\n"
          ]
        }
      ],
      "source": [
        "# Building the optimized SVD model using optimal hyperparameters\n",
        "svd_optimized = SVD(n_epochs= 30, lr_all= 0.01, reg_all= 0.2, random_state = 1)\n",
        "\n",
        "# Train the algorithm on the train set\n",
        "svd_optimized = svd_optimized.fit(trainset)\n",
        "\n",
        "# Use the function precision_recall_at_k to compute precision@k, recall@k, F1-Score, and RMSE\n",
        "precision_recall_at_k(svd_optimized)"
      ]
    },
    {
      "cell_type": "markdown",
      "metadata": {
        "id": "l3t5JdBmxz8l"
      },
      "source": [
        "**Observations and Insights:**\n",
        "\n",
        "* We notice that the RMSE has gone down compare to the baseline verion and the and increase in the F_1 score, meaning the performance of the model has improved after hyperparameter tuning.\n",
        "\n",
        "* When compared to the other optimised models the SVD has the lowest overall F_1 score of 0.502."
      ]
    },
    {
      "cell_type": "code",
      "execution_count": null,
      "metadata": {
        "id": "s6C1PAfboM8_",
        "colab": {
          "base_uri": "https://localhost:8080/"
        },
        "outputId": "118fca0f-00f5-4edd-bfc9-dde087d2ac48"
      },
      "outputs": [
        {
          "output_type": "stream",
          "name": "stdout",
          "text": [
            "user: 6958       item: 1671       r_ui = 2.00   est = 1.34   {'was_impossible': False}\n"
          ]
        },
        {
          "output_type": "execute_result",
          "data": {
            "text/plain": [
              "Prediction(uid=6958, iid=1671, r_ui=2, est=1.3432395286125098, details={'was_impossible': False})"
            ]
          },
          "metadata": {},
          "execution_count": 75
        }
      ],
      "source": [
        "# Using svd_algo_optimized model to recommend for userId 6958 and song_id 1671\n",
        "\n",
        "svd_optimized.predict(6958, 1671, r_ui = 2, verbose= True)"
      ]
    },
    {
      "cell_type": "code",
      "execution_count": null,
      "metadata": {
        "id": "k1xjn3kOoQyg",
        "colab": {
          "base_uri": "https://localhost:8080/"
        },
        "outputId": "419ecee7-f2e0-4d76-f906-40786fe49684"
      },
      "outputs": [
        {
          "output_type": "stream",
          "name": "stdout",
          "text": [
            "user: 6958       item: 900972     r_ui = None   est = 1.47   {'was_impossible': False}\n"
          ]
        },
        {
          "output_type": "execute_result",
          "data": {
            "text/plain": [
              "Prediction(uid=6958, iid=900972, r_ui=None, est=1.4700063635133478, details={'was_impossible': False})"
            ]
          },
          "metadata": {},
          "execution_count": 76
        }
      ],
      "source": [
        "# Using svd_algo_optimized model to recommend for userId 6958 and song_id 3232 with unknown baseline rating\n",
        "\n",
        "svd_optimized.predict(6958, 900972, verbose = True)"
      ]
    },
    {
      "cell_type": "markdown",
      "metadata": {
        "id": "Qm732Wuvy76R"
      },
      "source": [
        "**Observations and Insights:**\n",
        "\n",
        "* For the user-song pair 6958-1671, the prediction has increased from the baseline model to __1.34__ but still a difference from the actual of __2__.\n",
        "\n",
        "* For the unseen song we see a predicted value of __1.47__, this is only slightly lower than the baseline model. "
      ]
    },
    {
      "cell_type": "code",
      "execution_count": null,
      "metadata": {
        "id": "1LGeE2EB_n90"
      },
      "outputs": [],
      "source": [
        "# Getting top 5 recommendations for user_id 6958 using \"svd_optimized\" algorithm\n",
        "\n",
        "recommendations = get_recommendations(df_final, 6958, 5, svd_optimized)"
      ]
    },
    {
      "cell_type": "code",
      "execution_count": null,
      "metadata": {
        "id": "6ngiGSJU818M",
        "colab": {
          "base_uri": "https://localhost:8080/"
        },
        "outputId": "3059cd6f-b4fd-4def-beee-0f1ad3ab962f"
      },
      "outputs": [
        {
          "output_type": "execute_result",
          "data": {
            "text/plain": [
              "   song_id  predicted_play_count\n",
              "0     7224              2.601899\n",
              "1     5653              2.108728\n",
              "2     8324              2.014091\n",
              "3     6450              1.952493\n",
              "4     9942              1.940115"
            ],
            "text/html": [
              "\n",
              "  <div id=\"df-c966edaf-9cb7-43c5-a252-201487ba3a96\">\n",
              "    <div class=\"colab-df-container\">\n",
              "      <div>\n",
              "<style scoped>\n",
              "    .dataframe tbody tr th:only-of-type {\n",
              "        vertical-align: middle;\n",
              "    }\n",
              "\n",
              "    .dataframe tbody tr th {\n",
              "        vertical-align: top;\n",
              "    }\n",
              "\n",
              "    .dataframe thead th {\n",
              "        text-align: right;\n",
              "    }\n",
              "</style>\n",
              "<table border=\"1\" class=\"dataframe\">\n",
              "  <thead>\n",
              "    <tr style=\"text-align: right;\">\n",
              "      <th></th>\n",
              "      <th>song_id</th>\n",
              "      <th>predicted_play_count</th>\n",
              "    </tr>\n",
              "  </thead>\n",
              "  <tbody>\n",
              "    <tr>\n",
              "      <th>0</th>\n",
              "      <td>7224</td>\n",
              "      <td>2.601899</td>\n",
              "    </tr>\n",
              "    <tr>\n",
              "      <th>1</th>\n",
              "      <td>5653</td>\n",
              "      <td>2.108728</td>\n",
              "    </tr>\n",
              "    <tr>\n",
              "      <th>2</th>\n",
              "      <td>8324</td>\n",
              "      <td>2.014091</td>\n",
              "    </tr>\n",
              "    <tr>\n",
              "      <th>3</th>\n",
              "      <td>6450</td>\n",
              "      <td>1.952493</td>\n",
              "    </tr>\n",
              "    <tr>\n",
              "      <th>4</th>\n",
              "      <td>9942</td>\n",
              "      <td>1.940115</td>\n",
              "    </tr>\n",
              "  </tbody>\n",
              "</table>\n",
              "</div>\n",
              "      <button class=\"colab-df-convert\" onclick=\"convertToInteractive('df-c966edaf-9cb7-43c5-a252-201487ba3a96')\"\n",
              "              title=\"Convert this dataframe to an interactive table.\"\n",
              "              style=\"display:none;\">\n",
              "        \n",
              "  <svg xmlns=\"http://www.w3.org/2000/svg\" height=\"24px\"viewBox=\"0 0 24 24\"\n",
              "       width=\"24px\">\n",
              "    <path d=\"M0 0h24v24H0V0z\" fill=\"none\"/>\n",
              "    <path d=\"M18.56 5.44l.94 2.06.94-2.06 2.06-.94-2.06-.94-.94-2.06-.94 2.06-2.06.94zm-11 1L8.5 8.5l.94-2.06 2.06-.94-2.06-.94L8.5 2.5l-.94 2.06-2.06.94zm10 10l.94 2.06.94-2.06 2.06-.94-2.06-.94-.94-2.06-.94 2.06-2.06.94z\"/><path d=\"M17.41 7.96l-1.37-1.37c-.4-.4-.92-.59-1.43-.59-.52 0-1.04.2-1.43.59L10.3 9.45l-7.72 7.72c-.78.78-.78 2.05 0 2.83L4 21.41c.39.39.9.59 1.41.59.51 0 1.02-.2 1.41-.59l7.78-7.78 2.81-2.81c.8-.78.8-2.07 0-2.86zM5.41 20L4 18.59l7.72-7.72 1.47 1.35L5.41 20z\"/>\n",
              "  </svg>\n",
              "      </button>\n",
              "      \n",
              "  <style>\n",
              "    .colab-df-container {\n",
              "      display:flex;\n",
              "      flex-wrap:wrap;\n",
              "      gap: 12px;\n",
              "    }\n",
              "\n",
              "    .colab-df-convert {\n",
              "      background-color: #E8F0FE;\n",
              "      border: none;\n",
              "      border-radius: 50%;\n",
              "      cursor: pointer;\n",
              "      display: none;\n",
              "      fill: #1967D2;\n",
              "      height: 32px;\n",
              "      padding: 0 0 0 0;\n",
              "      width: 32px;\n",
              "    }\n",
              "\n",
              "    .colab-df-convert:hover {\n",
              "      background-color: #E2EBFA;\n",
              "      box-shadow: 0px 1px 2px rgba(60, 64, 67, 0.3), 0px 1px 3px 1px rgba(60, 64, 67, 0.15);\n",
              "      fill: #174EA6;\n",
              "    }\n",
              "\n",
              "    [theme=dark] .colab-df-convert {\n",
              "      background-color: #3B4455;\n",
              "      fill: #D2E3FC;\n",
              "    }\n",
              "\n",
              "    [theme=dark] .colab-df-convert:hover {\n",
              "      background-color: #434B5C;\n",
              "      box-shadow: 0px 1px 3px 1px rgba(0, 0, 0, 0.15);\n",
              "      filter: drop-shadow(0px 1px 2px rgba(0, 0, 0, 0.3));\n",
              "      fill: #FFFFFF;\n",
              "    }\n",
              "  </style>\n",
              "\n",
              "      <script>\n",
              "        const buttonEl =\n",
              "          document.querySelector('#df-c966edaf-9cb7-43c5-a252-201487ba3a96 button.colab-df-convert');\n",
              "        buttonEl.style.display =\n",
              "          google.colab.kernel.accessAllowed ? 'block' : 'none';\n",
              "\n",
              "        async function convertToInteractive(key) {\n",
              "          const element = document.querySelector('#df-c966edaf-9cb7-43c5-a252-201487ba3a96');\n",
              "          const dataTable =\n",
              "            await google.colab.kernel.invokeFunction('convertToInteractive',\n",
              "                                                     [key], {});\n",
              "          if (!dataTable) return;\n",
              "\n",
              "          const docLinkHtml = 'Like what you see? Visit the ' +\n",
              "            '<a target=\"_blank\" href=https://colab.research.google.com/notebooks/data_table.ipynb>data table notebook</a>'\n",
              "            + ' to learn more about interactive tables.';\n",
              "          element.innerHTML = '';\n",
              "          dataTable['output_type'] = 'display_data';\n",
              "          await google.colab.output.renderOutput(dataTable, element);\n",
              "          const docLink = document.createElement('div');\n",
              "          docLink.innerHTML = docLinkHtml;\n",
              "          element.appendChild(docLink);\n",
              "        }\n",
              "      </script>\n",
              "    </div>\n",
              "  </div>\n",
              "  "
            ]
          },
          "metadata": {},
          "execution_count": 78
        }
      ],
      "source": [
        "# Ranking songs based on above recommendations\n",
        "\n",
        "pd.DataFrame(recommendations, columns = ['song_id', 'predicted_play_count'])"
      ]
    },
    {
      "cell_type": "markdown",
      "metadata": {
        "id": "SepUU1Efy_9Z"
      },
      "source": [
        "**Observations and Insights:**\n",
        "\n",
        "* Again we get a different list of recommended song when compare to the other optimised models. The predicted play count has rating below 2 which the other recommendation lists did not have. "
      ]
    },
    {
      "cell_type": "markdown",
      "metadata": {
        "id": "57b31de5"
      },
      "source": [
        "### Cluster Based Recommendation System"
      ]
    },
    {
      "cell_type": "markdown",
      "metadata": {
        "id": "9Xv2AZCszCdN"
      },
      "source": [
        "In **clustering-based recommendation systems**, we explore the **similarities and differences** in people's tastes in songs based on how they rate different songs. We cluster similar users together and recommend songs to a user based on play_counts from other users in the same cluster."
      ]
    },
    {
      "cell_type": "code",
      "execution_count": null,
      "metadata": {
        "id": "0c4b20e4",
        "colab": {
          "base_uri": "https://localhost:8080/"
        },
        "outputId": "292aa7e3-8aa8-46ca-f305-fa0d54f4d5f1"
      },
      "outputs": [
        {
          "output_type": "stream",
          "name": "stdout",
          "text": [
            "RMSE: 1.0487\n",
            "Precision:  0.397\n",
            "Recall:  0.582\n",
            "F_1 score:  0.472\n"
          ]
        }
      ],
      "source": [
        "# Make baseline clustering model\n",
        "coclustering = CoClustering(verbose = False, random_state = 1)\n",
        "\n",
        "# Training the algorithm on the train set\n",
        "coclustering.fit(trainset)\n",
        "\n",
        "# Use the function precision_recall_at_k to compute precision@k, recall@k, F1-Score, and RMSE\n",
        "precision_recall_at_k(coclustering)"
      ]
    },
    {
      "cell_type": "code",
      "execution_count": null,
      "metadata": {
        "id": "11dbdc0f",
        "colab": {
          "base_uri": "https://localhost:8080/"
        },
        "outputId": "73b9da76-6690-4fc2-e43b-86c860c35401"
      },
      "outputs": [
        {
          "output_type": "stream",
          "name": "stdout",
          "text": [
            "user: 6958       item: 1671       r_ui = 2.00   est = 1.29   {'was_impossible': False}\n"
          ]
        },
        {
          "output_type": "execute_result",
          "data": {
            "text/plain": [
              "Prediction(uid=6958, iid=1671, r_ui=2, est=1.2941824757363074, details={'was_impossible': False})"
            ]
          },
          "metadata": {},
          "execution_count": 80
        }
      ],
      "source": [
        "# Making prediction for user_id 6958 and song_id 1671\n",
        "\n",
        "coclustering.predict(6958, 1671, r_ui=2, verbose = True)"
      ]
    },
    {
      "cell_type": "code",
      "execution_count": null,
      "metadata": {
        "id": "dab1aaed",
        "colab": {
          "base_uri": "https://localhost:8080/"
        },
        "outputId": "9145d750-5d5a-4e92-bbca-73c00e3d5495"
      },
      "outputs": [
        {
          "output_type": "stream",
          "name": "stdout",
          "text": [
            "user: 6958       item: 3232       r_ui = None   est = 1.48   {'was_impossible': False}\n"
          ]
        },
        {
          "output_type": "execute_result",
          "data": {
            "text/plain": [
              "Prediction(uid=6958, iid=3232, r_ui=None, est=1.4785259100797417, details={'was_impossible': False})"
            ]
          },
          "metadata": {},
          "execution_count": 81
        }
      ],
      "source": [
        "# Making prediction for user (userid 6958) for a song(song_id 3232) not heard by the user\n",
        "\n",
        "coclustering.predict(6958, 3232, verbose = True)"
      ]
    },
    {
      "cell_type": "markdown",
      "metadata": {
        "id": "c2fd66f5"
      },
      "source": [
        "#### Improving clustering-based recommendation system by tuning its hyper-parameters"
      ]
    },
    {
      "cell_type": "code",
      "execution_count": null,
      "metadata": {
        "id": "efe7d8e6",
        "colab": {
          "base_uri": "https://localhost:8080/"
        },
        "outputId": "fd4d579e-7855-4b4c-a5fb-aedd14a5e4e8"
      },
      "outputs": [
        {
          "output_type": "stream",
          "name": "stdout",
          "text": [
            "1.046732967534532\n",
            "{'n_cltr_u': 3, 'n_cltr_i': 6, 'n_epochs': 20}\n"
          ]
        }
      ],
      "source": [
        "# Set the parameter space to tune\n",
        "param_grid = {'n_cltr_u': [3, 4, 5, 6], # number of user cluster\n",
        "              'n_cltr_i': [3, 4, 5, 6], # number of item clusters\n",
        "              'n_epochs': [20, 30, 40]}\n",
        "\n",
        "# Performing 3-fold grid search cross-validation\n",
        "gs_ = GridSearchCV(CoClustering, param_grid, measures = ['rmse'], cv = 3, n_jobs = -1)\n",
        "\n",
        "# Fitting data\n",
        "gs_.fit(data)\n",
        "\n",
        "# Best RMSE score\n",
        "print(gs_.best_score['rmse'])\n",
        "\n",
        "# Combination of parameters that gave the best RMSE score\n",
        "print(gs_.best_params['rmse'])"
      ]
    },
    {
      "cell_type": "markdown",
      "metadata": {
        "id": "CS6aMVJLyj21"
      },
      "source": [
        "**Think About It**: How do the parameters affect the performance of the model? Can we improve the performance of the model further? Check the available hyperparameters [here](https://surprise.readthedocs.io/en/stable/co_clustering.html).\n",
        "\n",
        "\n",
        "* __n_cltr_u and n_cltr_i__: These parameters specify the number of user and item clusters used by the algorithm. Increasing the number of clusters can improve the model's accuracy but can also increase the model's complexity and training time. \n",
        "* __n_ephocs__: specifies the number of iterations used for the alternating least squares optimization algorithm. Increasing the number of epochs can improve the model's accuracy but can also increase the risk of overfitting the training data.\n"
      ]
    },
    {
      "cell_type": "code",
      "execution_count": null,
      "metadata": {
        "id": "5a7a8a30",
        "colab": {
          "base_uri": "https://localhost:8080/"
        },
        "outputId": "f5e62ab6-ad9d-4e99-96b8-04d915dac3b1"
      },
      "outputs": [
        {
          "output_type": "stream",
          "name": "stdout",
          "text": [
            "RMSE: 1.0487\n",
            "Precision:  0.397\n",
            "Recall:  0.582\n",
            "F_1 score:  0.472\n"
          ]
        }
      ],
      "source": [
        "# Train the tuned Coclustering algorithm\n",
        "coclustering_optimized = CoClustering(n_epochs= 20, n_cltr_i= 3, n_cltr_u= 3, verbose = False, random_state = 1)\n",
        "\n",
        "# Train the algorithm \n",
        "coclustering_optimized = coclustering_optimized.fit(trainset)\n",
        "\n",
        "# Use the function precision_at_k to compute the precision@k, recall@k, f1_score and RMSE\n",
        "precision_recall_at_k(coclustering_optimized)"
      ]
    },
    {
      "cell_type": "markdown",
      "metadata": {
        "id": "l-Jvce1gznKa"
      },
      "source": [
        "**Observations and Insights:**\n",
        "\n",
        "* We notice that the default values ran is the baseline verion are in fact the optimised paramters given the GridSearch parameters. "
      ]
    },
    {
      "cell_type": "code",
      "execution_count": null,
      "metadata": {
        "id": "6ba5b26b",
        "colab": {
          "base_uri": "https://localhost:8080/"
        },
        "outputId": "6cfc0779-6e9d-4f4c-de9f-e032bdc6415c"
      },
      "outputs": [
        {
          "output_type": "stream",
          "name": "stdout",
          "text": [
            "user: 6958       item: 1671       r_ui = 2.00   est = 1.29   {'was_impossible': False}\n"
          ]
        },
        {
          "output_type": "execute_result",
          "data": {
            "text/plain": [
              "Prediction(uid=6958, iid=1671, r_ui=2, est=1.2941824757363074, details={'was_impossible': False})"
            ]
          },
          "metadata": {},
          "execution_count": 84
        }
      ],
      "source": [
        "# Using co_clustering_optimized model to recommend for userId 6958 and song_id 1671\n",
        "\n",
        "coclustering_optimized.predict(6958, 1671, r_ui=2, verbose=True)"
      ]
    },
    {
      "cell_type": "code",
      "execution_count": null,
      "metadata": {
        "id": "ec582940",
        "colab": {
          "base_uri": "https://localhost:8080/"
        },
        "outputId": "883999ff-3917-4470-bb5c-fd90a4e7d6d3"
      },
      "outputs": [
        {
          "output_type": "stream",
          "name": "stdout",
          "text": [
            "user: 6958       item: 3232       r_ui = None   est = 1.48   {'was_impossible': False}\n"
          ]
        },
        {
          "output_type": "execute_result",
          "data": {
            "text/plain": [
              "Prediction(uid=6958, iid=3232, r_ui=None, est=1.4785259100797417, details={'was_impossible': False})"
            ]
          },
          "metadata": {},
          "execution_count": 85
        }
      ],
      "source": [
        "# Use Co_clustering based optimized model to recommend for userId 6958 and song_id 3232 with unknown baseline rating\n",
        "\n",
        "coclustering.predict(6958, 3232, verbose = True)"
      ]
    },
    {
      "cell_type": "markdown",
      "metadata": {
        "id": "rjGUSMqrzoDH"
      },
      "source": [
        "**Observations and Insights:**\n",
        "\n",
        "* We get the same results as before, since it is the same as baseline version"
      ]
    },
    {
      "cell_type": "markdown",
      "metadata": {
        "id": "df9e28ba"
      },
      "source": [
        "#### Implementing the recommendation algorithm based on optimized CoClustering model"
      ]
    },
    {
      "cell_type": "code",
      "execution_count": null,
      "metadata": {
        "id": "e0f36e15"
      },
      "outputs": [],
      "source": [
        "# Getting top 5 recommendations for user_id 6958 using \"Co-clustering based optimized\" algorithm\n",
        "recommendations = get_recommendations(df_final, 6958, 5, coclustering)"
      ]
    },
    {
      "cell_type": "markdown",
      "metadata": {
        "id": "f1696941"
      },
      "source": [
        "### Correcting the play_count and Ranking the above songs"
      ]
    },
    {
      "cell_type": "code",
      "execution_count": null,
      "metadata": {
        "id": "c186f13b",
        "scrolled": true,
        "colab": {
          "base_uri": "https://localhost:8080/"
        },
        "outputId": "7f50b5bb-5eba-4c9f-a2eb-6b651520d71b"
      },
      "outputs": [
        {
          "output_type": "execute_result",
          "data": {
            "text/plain": [
              "   song_id  number_play_count  predicted_play_count  corrected_play_count\n",
              "2     7224                107              3.094797              2.998124\n",
              "4     8324                 96              2.311498              2.209436\n",
              "1     9942                150              2.215039              2.133390\n",
              "0     5531                618              2.124563              2.084337\n",
              "3     4831                 97              2.123783              2.022248"
            ],
            "text/html": [
              "\n",
              "  <div id=\"df-7714ff56-c40c-475f-a8eb-32aa9f0821de\">\n",
              "    <div class=\"colab-df-container\">\n",
              "      <div>\n",
              "<style scoped>\n",
              "    .dataframe tbody tr th:only-of-type {\n",
              "        vertical-align: middle;\n",
              "    }\n",
              "\n",
              "    .dataframe tbody tr th {\n",
              "        vertical-align: top;\n",
              "    }\n",
              "\n",
              "    .dataframe thead th {\n",
              "        text-align: right;\n",
              "    }\n",
              "</style>\n",
              "<table border=\"1\" class=\"dataframe\">\n",
              "  <thead>\n",
              "    <tr style=\"text-align: right;\">\n",
              "      <th></th>\n",
              "      <th>song_id</th>\n",
              "      <th>number_play_count</th>\n",
              "      <th>predicted_play_count</th>\n",
              "      <th>corrected_play_count</th>\n",
              "    </tr>\n",
              "  </thead>\n",
              "  <tbody>\n",
              "    <tr>\n",
              "      <th>2</th>\n",
              "      <td>7224</td>\n",
              "      <td>107</td>\n",
              "      <td>3.094797</td>\n",
              "      <td>2.998124</td>\n",
              "    </tr>\n",
              "    <tr>\n",
              "      <th>4</th>\n",
              "      <td>8324</td>\n",
              "      <td>96</td>\n",
              "      <td>2.311498</td>\n",
              "      <td>2.209436</td>\n",
              "    </tr>\n",
              "    <tr>\n",
              "      <th>1</th>\n",
              "      <td>9942</td>\n",
              "      <td>150</td>\n",
              "      <td>2.215039</td>\n",
              "      <td>2.133390</td>\n",
              "    </tr>\n",
              "    <tr>\n",
              "      <th>0</th>\n",
              "      <td>5531</td>\n",
              "      <td>618</td>\n",
              "      <td>2.124563</td>\n",
              "      <td>2.084337</td>\n",
              "    </tr>\n",
              "    <tr>\n",
              "      <th>3</th>\n",
              "      <td>4831</td>\n",
              "      <td>97</td>\n",
              "      <td>2.123783</td>\n",
              "      <td>2.022248</td>\n",
              "    </tr>\n",
              "  </tbody>\n",
              "</table>\n",
              "</div>\n",
              "      <button class=\"colab-df-convert\" onclick=\"convertToInteractive('df-7714ff56-c40c-475f-a8eb-32aa9f0821de')\"\n",
              "              title=\"Convert this dataframe to an interactive table.\"\n",
              "              style=\"display:none;\">\n",
              "        \n",
              "  <svg xmlns=\"http://www.w3.org/2000/svg\" height=\"24px\"viewBox=\"0 0 24 24\"\n",
              "       width=\"24px\">\n",
              "    <path d=\"M0 0h24v24H0V0z\" fill=\"none\"/>\n",
              "    <path d=\"M18.56 5.44l.94 2.06.94-2.06 2.06-.94-2.06-.94-.94-2.06-.94 2.06-2.06.94zm-11 1L8.5 8.5l.94-2.06 2.06-.94-2.06-.94L8.5 2.5l-.94 2.06-2.06.94zm10 10l.94 2.06.94-2.06 2.06-.94-2.06-.94-.94-2.06-.94 2.06-2.06.94z\"/><path d=\"M17.41 7.96l-1.37-1.37c-.4-.4-.92-.59-1.43-.59-.52 0-1.04.2-1.43.59L10.3 9.45l-7.72 7.72c-.78.78-.78 2.05 0 2.83L4 21.41c.39.39.9.59 1.41.59.51 0 1.02-.2 1.41-.59l7.78-7.78 2.81-2.81c.8-.78.8-2.07 0-2.86zM5.41 20L4 18.59l7.72-7.72 1.47 1.35L5.41 20z\"/>\n",
              "  </svg>\n",
              "      </button>\n",
              "      \n",
              "  <style>\n",
              "    .colab-df-container {\n",
              "      display:flex;\n",
              "      flex-wrap:wrap;\n",
              "      gap: 12px;\n",
              "    }\n",
              "\n",
              "    .colab-df-convert {\n",
              "      background-color: #E8F0FE;\n",
              "      border: none;\n",
              "      border-radius: 50%;\n",
              "      cursor: pointer;\n",
              "      display: none;\n",
              "      fill: #1967D2;\n",
              "      height: 32px;\n",
              "      padding: 0 0 0 0;\n",
              "      width: 32px;\n",
              "    }\n",
              "\n",
              "    .colab-df-convert:hover {\n",
              "      background-color: #E2EBFA;\n",
              "      box-shadow: 0px 1px 2px rgba(60, 64, 67, 0.3), 0px 1px 3px 1px rgba(60, 64, 67, 0.15);\n",
              "      fill: #174EA6;\n",
              "    }\n",
              "\n",
              "    [theme=dark] .colab-df-convert {\n",
              "      background-color: #3B4455;\n",
              "      fill: #D2E3FC;\n",
              "    }\n",
              "\n",
              "    [theme=dark] .colab-df-convert:hover {\n",
              "      background-color: #434B5C;\n",
              "      box-shadow: 0px 1px 3px 1px rgba(0, 0, 0, 0.15);\n",
              "      filter: drop-shadow(0px 1px 2px rgba(0, 0, 0, 0.3));\n",
              "      fill: #FFFFFF;\n",
              "    }\n",
              "  </style>\n",
              "\n",
              "      <script>\n",
              "        const buttonEl =\n",
              "          document.querySelector('#df-7714ff56-c40c-475f-a8eb-32aa9f0821de button.colab-df-convert');\n",
              "        buttonEl.style.display =\n",
              "          google.colab.kernel.accessAllowed ? 'block' : 'none';\n",
              "\n",
              "        async function convertToInteractive(key) {\n",
              "          const element = document.querySelector('#df-7714ff56-c40c-475f-a8eb-32aa9f0821de');\n",
              "          const dataTable =\n",
              "            await google.colab.kernel.invokeFunction('convertToInteractive',\n",
              "                                                     [key], {});\n",
              "          if (!dataTable) return;\n",
              "\n",
              "          const docLinkHtml = 'Like what you see? Visit the ' +\n",
              "            '<a target=\"_blank\" href=https://colab.research.google.com/notebooks/data_table.ipynb>data table notebook</a>'\n",
              "            + ' to learn more about interactive tables.';\n",
              "          element.innerHTML = '';\n",
              "          dataTable['output_type'] = 'display_data';\n",
              "          await google.colab.output.renderOutput(dataTable, element);\n",
              "          const docLink = document.createElement('div');\n",
              "          docLink.innerHTML = docLinkHtml;\n",
              "          element.appendChild(docLink);\n",
              "        }\n",
              "      </script>\n",
              "    </div>\n",
              "  </div>\n",
              "  "
            ]
          },
          "metadata": {},
          "execution_count": 87
        }
      ],
      "source": [
        "# Ranking songs based on the above recommendations\n",
        "ranking_songs(recommendations, final_rating)"
      ]
    },
    {
      "cell_type": "markdown",
      "metadata": {
        "id": "_uJ_nZjBzvKH"
      },
      "source": [
        "**Observations and Insights:**\n",
        "\n",
        "* All of the recommended songs, except for __4831__, appear in the lists from other optimised models. "
      ]
    },
    {
      "cell_type": "markdown",
      "metadata": {
        "id": "5U56oSNsR-F2"
      },
      "source": [
        "### Content Based Recommendation Systems"
      ]
    },
    {
      "cell_type": "markdown",
      "metadata": {
        "id": "9aTEqaOjhoEg"
      },
      "source": [
        "**Think About It:** So far we have only used the play_count of songs to find recommendations but we have other information/features on songs as well. Can we take those song features into account?\n",
        "\n",
        "__Content-based approach__\n",
        "\n",
        "* We can represent each song as a set of features, and then we make suggestions to users based on features that they have previously liked."
      ]
    },
    {
      "cell_type": "code",
      "execution_count": null,
      "metadata": {
        "id": "UX826CsjR-F3",
        "colab": {
          "base_uri": "https://localhost:8080/"
        },
        "outputId": "3200b5cf-3050-4430-86b9-82a008e9e6ef"
      },
      "outputs": [
        {
          "output_type": "execute_result",
          "data": {
            "text/plain": [
              "     user_id  song_id  play_count                            title  \\\n",
              "200     6958      447           1               Daisy And Prudence   \n",
              "202     6958      512           1  The Ballad of Michael Valentine   \n",
              "203     6958      549           1        I Stand Corrected (Album)   \n",
              "204     6958      703           1            They Might Follow You   \n",
              "205     6958      719           1                       Monkey Man   \n",
              "\n",
              "                  release      artist_name  year  \\\n",
              "200          Distillation     Erin McKeown  2000   \n",
              "202               Sawdust      The Killers  2004   \n",
              "203       Vampire Weekend  Vampire Weekend  2007   \n",
              "204           Tiny Vipers      Tiny Vipers  2007   \n",
              "205  You Know I'm No Good    Amy Winehouse  2007   \n",
              "\n",
              "                                                  text  \n",
              "200       Daisy And Prudence Distillation Erin McKeown  \n",
              "202  The Ballad of Michael Valentine Sawdust The Ki...  \n",
              "203  I Stand Corrected (Album) Vampire Weekend Vamp...  \n",
              "204      They Might Follow You Tiny Vipers Tiny Vipers  \n",
              "205      Monkey Man You Know I'm No Good Amy Winehouse  "
            ],
            "text/html": [
              "\n",
              "  <div id=\"df-c02ba69e-cf16-4c55-9cbf-e515aaac523c\">\n",
              "    <div class=\"colab-df-container\">\n",
              "      <div>\n",
              "<style scoped>\n",
              "    .dataframe tbody tr th:only-of-type {\n",
              "        vertical-align: middle;\n",
              "    }\n",
              "\n",
              "    .dataframe tbody tr th {\n",
              "        vertical-align: top;\n",
              "    }\n",
              "\n",
              "    .dataframe thead th {\n",
              "        text-align: right;\n",
              "    }\n",
              "</style>\n",
              "<table border=\"1\" class=\"dataframe\">\n",
              "  <thead>\n",
              "    <tr style=\"text-align: right;\">\n",
              "      <th></th>\n",
              "      <th>user_id</th>\n",
              "      <th>song_id</th>\n",
              "      <th>play_count</th>\n",
              "      <th>title</th>\n",
              "      <th>release</th>\n",
              "      <th>artist_name</th>\n",
              "      <th>year</th>\n",
              "      <th>text</th>\n",
              "    </tr>\n",
              "  </thead>\n",
              "  <tbody>\n",
              "    <tr>\n",
              "      <th>200</th>\n",
              "      <td>6958</td>\n",
              "      <td>447</td>\n",
              "      <td>1</td>\n",
              "      <td>Daisy And Prudence</td>\n",
              "      <td>Distillation</td>\n",
              "      <td>Erin McKeown</td>\n",
              "      <td>2000</td>\n",
              "      <td>Daisy And Prudence Distillation Erin McKeown</td>\n",
              "    </tr>\n",
              "    <tr>\n",
              "      <th>202</th>\n",
              "      <td>6958</td>\n",
              "      <td>512</td>\n",
              "      <td>1</td>\n",
              "      <td>The Ballad of Michael Valentine</td>\n",
              "      <td>Sawdust</td>\n",
              "      <td>The Killers</td>\n",
              "      <td>2004</td>\n",
              "      <td>The Ballad of Michael Valentine Sawdust The Ki...</td>\n",
              "    </tr>\n",
              "    <tr>\n",
              "      <th>203</th>\n",
              "      <td>6958</td>\n",
              "      <td>549</td>\n",
              "      <td>1</td>\n",
              "      <td>I Stand Corrected (Album)</td>\n",
              "      <td>Vampire Weekend</td>\n",
              "      <td>Vampire Weekend</td>\n",
              "      <td>2007</td>\n",
              "      <td>I Stand Corrected (Album) Vampire Weekend Vamp...</td>\n",
              "    </tr>\n",
              "    <tr>\n",
              "      <th>204</th>\n",
              "      <td>6958</td>\n",
              "      <td>703</td>\n",
              "      <td>1</td>\n",
              "      <td>They Might Follow You</td>\n",
              "      <td>Tiny Vipers</td>\n",
              "      <td>Tiny Vipers</td>\n",
              "      <td>2007</td>\n",
              "      <td>They Might Follow You Tiny Vipers Tiny Vipers</td>\n",
              "    </tr>\n",
              "    <tr>\n",
              "      <th>205</th>\n",
              "      <td>6958</td>\n",
              "      <td>719</td>\n",
              "      <td>1</td>\n",
              "      <td>Monkey Man</td>\n",
              "      <td>You Know I'm No Good</td>\n",
              "      <td>Amy Winehouse</td>\n",
              "      <td>2007</td>\n",
              "      <td>Monkey Man You Know I'm No Good Amy Winehouse</td>\n",
              "    </tr>\n",
              "  </tbody>\n",
              "</table>\n",
              "</div>\n",
              "      <button class=\"colab-df-convert\" onclick=\"convertToInteractive('df-c02ba69e-cf16-4c55-9cbf-e515aaac523c')\"\n",
              "              title=\"Convert this dataframe to an interactive table.\"\n",
              "              style=\"display:none;\">\n",
              "        \n",
              "  <svg xmlns=\"http://www.w3.org/2000/svg\" height=\"24px\"viewBox=\"0 0 24 24\"\n",
              "       width=\"24px\">\n",
              "    <path d=\"M0 0h24v24H0V0z\" fill=\"none\"/>\n",
              "    <path d=\"M18.56 5.44l.94 2.06.94-2.06 2.06-.94-2.06-.94-.94-2.06-.94 2.06-2.06.94zm-11 1L8.5 8.5l.94-2.06 2.06-.94-2.06-.94L8.5 2.5l-.94 2.06-2.06.94zm10 10l.94 2.06.94-2.06 2.06-.94-2.06-.94-.94-2.06-.94 2.06-2.06.94z\"/><path d=\"M17.41 7.96l-1.37-1.37c-.4-.4-.92-.59-1.43-.59-.52 0-1.04.2-1.43.59L10.3 9.45l-7.72 7.72c-.78.78-.78 2.05 0 2.83L4 21.41c.39.39.9.59 1.41.59.51 0 1.02-.2 1.41-.59l7.78-7.78 2.81-2.81c.8-.78.8-2.07 0-2.86zM5.41 20L4 18.59l7.72-7.72 1.47 1.35L5.41 20z\"/>\n",
              "  </svg>\n",
              "      </button>\n",
              "      \n",
              "  <style>\n",
              "    .colab-df-container {\n",
              "      display:flex;\n",
              "      flex-wrap:wrap;\n",
              "      gap: 12px;\n",
              "    }\n",
              "\n",
              "    .colab-df-convert {\n",
              "      background-color: #E8F0FE;\n",
              "      border: none;\n",
              "      border-radius: 50%;\n",
              "      cursor: pointer;\n",
              "      display: none;\n",
              "      fill: #1967D2;\n",
              "      height: 32px;\n",
              "      padding: 0 0 0 0;\n",
              "      width: 32px;\n",
              "    }\n",
              "\n",
              "    .colab-df-convert:hover {\n",
              "      background-color: #E2EBFA;\n",
              "      box-shadow: 0px 1px 2px rgba(60, 64, 67, 0.3), 0px 1px 3px 1px rgba(60, 64, 67, 0.15);\n",
              "      fill: #174EA6;\n",
              "    }\n",
              "\n",
              "    [theme=dark] .colab-df-convert {\n",
              "      background-color: #3B4455;\n",
              "      fill: #D2E3FC;\n",
              "    }\n",
              "\n",
              "    [theme=dark] .colab-df-convert:hover {\n",
              "      background-color: #434B5C;\n",
              "      box-shadow: 0px 1px 3px 1px rgba(0, 0, 0, 0.15);\n",
              "      filter: drop-shadow(0px 1px 2px rgba(0, 0, 0, 0.3));\n",
              "      fill: #FFFFFF;\n",
              "    }\n",
              "  </style>\n",
              "\n",
              "      <script>\n",
              "        const buttonEl =\n",
              "          document.querySelector('#df-c02ba69e-cf16-4c55-9cbf-e515aaac523c button.colab-df-convert');\n",
              "        buttonEl.style.display =\n",
              "          google.colab.kernel.accessAllowed ? 'block' : 'none';\n",
              "\n",
              "        async function convertToInteractive(key) {\n",
              "          const element = document.querySelector('#df-c02ba69e-cf16-4c55-9cbf-e515aaac523c');\n",
              "          const dataTable =\n",
              "            await google.colab.kernel.invokeFunction('convertToInteractive',\n",
              "                                                     [key], {});\n",
              "          if (!dataTable) return;\n",
              "\n",
              "          const docLinkHtml = 'Like what you see? Visit the ' +\n",
              "            '<a target=\"_blank\" href=https://colab.research.google.com/notebooks/data_table.ipynb>data table notebook</a>'\n",
              "            + ' to learn more about interactive tables.';\n",
              "          element.innerHTML = '';\n",
              "          dataTable['output_type'] = 'display_data';\n",
              "          await google.colab.output.renderOutput(dataTable, element);\n",
              "          const docLink = document.createElement('div');\n",
              "          docLink.innerHTML = docLinkHtml;\n",
              "          element.appendChild(docLink);\n",
              "        }\n",
              "      </script>\n",
              "    </div>\n",
              "  </div>\n",
              "  "
            ]
          },
          "metadata": {},
          "execution_count": 88
        }
      ],
      "source": [
        "# Concatenate the \"title\", \"release\", \"artist_name\" columns to create a different column named \"text\"\n",
        "\n",
        "df_final['text'] = df_final['title'] + ' ' + df_final['release'] + ' ' + df_final['artist_name']\n",
        "\n",
        "df_final.head()"
      ]
    },
    {
      "cell_type": "code",
      "execution_count": null,
      "metadata": {
        "id": "WdXw4U-wR-F4",
        "colab": {
          "base_uri": "https://localhost:8080/"
        },
        "outputId": "3f9bc29c-b95b-4782-a0c8-853f98398762"
      },
      "outputs": [
        {
          "output_type": "execute_result",
          "data": {
            "text/plain": [
              "                                 user_id  song_id  play_count  \\\n",
              "title                                                           \n",
              "Daisy And Prudence                  6958      447           1   \n",
              "The Ballad of Michael Valentine     6958      512           1   \n",
              "I Stand Corrected (Album)           6958      549           1   \n",
              "They Might Follow You               6958      703           1   \n",
              "Monkey Man                          6958      719           1   \n",
              "\n",
              "                                                                              text  \n",
              "title                                                                               \n",
              "Daisy And Prudence                    Daisy And Prudence Distillation Erin McKeown  \n",
              "The Ballad of Michael Valentine  The Ballad of Michael Valentine Sawdust The Ki...  \n",
              "I Stand Corrected (Album)        I Stand Corrected (Album) Vampire Weekend Vamp...  \n",
              "They Might Follow You                They Might Follow You Tiny Vipers Tiny Vipers  \n",
              "Monkey Man                           Monkey Man You Know I'm No Good Amy Winehouse  "
            ],
            "text/html": [
              "\n",
              "  <div id=\"df-7ba4db0b-5fea-4071-bf05-44f98e9af332\">\n",
              "    <div class=\"colab-df-container\">\n",
              "      <div>\n",
              "<style scoped>\n",
              "    .dataframe tbody tr th:only-of-type {\n",
              "        vertical-align: middle;\n",
              "    }\n",
              "\n",
              "    .dataframe tbody tr th {\n",
              "        vertical-align: top;\n",
              "    }\n",
              "\n",
              "    .dataframe thead th {\n",
              "        text-align: right;\n",
              "    }\n",
              "</style>\n",
              "<table border=\"1\" class=\"dataframe\">\n",
              "  <thead>\n",
              "    <tr style=\"text-align: right;\">\n",
              "      <th></th>\n",
              "      <th>user_id</th>\n",
              "      <th>song_id</th>\n",
              "      <th>play_count</th>\n",
              "      <th>text</th>\n",
              "    </tr>\n",
              "    <tr>\n",
              "      <th>title</th>\n",
              "      <th></th>\n",
              "      <th></th>\n",
              "      <th></th>\n",
              "      <th></th>\n",
              "    </tr>\n",
              "  </thead>\n",
              "  <tbody>\n",
              "    <tr>\n",
              "      <th>Daisy And Prudence</th>\n",
              "      <td>6958</td>\n",
              "      <td>447</td>\n",
              "      <td>1</td>\n",
              "      <td>Daisy And Prudence Distillation Erin McKeown</td>\n",
              "    </tr>\n",
              "    <tr>\n",
              "      <th>The Ballad of Michael Valentine</th>\n",
              "      <td>6958</td>\n",
              "      <td>512</td>\n",
              "      <td>1</td>\n",
              "      <td>The Ballad of Michael Valentine Sawdust The Ki...</td>\n",
              "    </tr>\n",
              "    <tr>\n",
              "      <th>I Stand Corrected (Album)</th>\n",
              "      <td>6958</td>\n",
              "      <td>549</td>\n",
              "      <td>1</td>\n",
              "      <td>I Stand Corrected (Album) Vampire Weekend Vamp...</td>\n",
              "    </tr>\n",
              "    <tr>\n",
              "      <th>They Might Follow You</th>\n",
              "      <td>6958</td>\n",
              "      <td>703</td>\n",
              "      <td>1</td>\n",
              "      <td>They Might Follow You Tiny Vipers Tiny Vipers</td>\n",
              "    </tr>\n",
              "    <tr>\n",
              "      <th>Monkey Man</th>\n",
              "      <td>6958</td>\n",
              "      <td>719</td>\n",
              "      <td>1</td>\n",
              "      <td>Monkey Man You Know I'm No Good Amy Winehouse</td>\n",
              "    </tr>\n",
              "  </tbody>\n",
              "</table>\n",
              "</div>\n",
              "      <button class=\"colab-df-convert\" onclick=\"convertToInteractive('df-7ba4db0b-5fea-4071-bf05-44f98e9af332')\"\n",
              "              title=\"Convert this dataframe to an interactive table.\"\n",
              "              style=\"display:none;\">\n",
              "        \n",
              "  <svg xmlns=\"http://www.w3.org/2000/svg\" height=\"24px\"viewBox=\"0 0 24 24\"\n",
              "       width=\"24px\">\n",
              "    <path d=\"M0 0h24v24H0V0z\" fill=\"none\"/>\n",
              "    <path d=\"M18.56 5.44l.94 2.06.94-2.06 2.06-.94-2.06-.94-.94-2.06-.94 2.06-2.06.94zm-11 1L8.5 8.5l.94-2.06 2.06-.94-2.06-.94L8.5 2.5l-.94 2.06-2.06.94zm10 10l.94 2.06.94-2.06 2.06-.94-2.06-.94-.94-2.06-.94 2.06-2.06.94z\"/><path d=\"M17.41 7.96l-1.37-1.37c-.4-.4-.92-.59-1.43-.59-.52 0-1.04.2-1.43.59L10.3 9.45l-7.72 7.72c-.78.78-.78 2.05 0 2.83L4 21.41c.39.39.9.59 1.41.59.51 0 1.02-.2 1.41-.59l7.78-7.78 2.81-2.81c.8-.78.8-2.07 0-2.86zM5.41 20L4 18.59l7.72-7.72 1.47 1.35L5.41 20z\"/>\n",
              "  </svg>\n",
              "      </button>\n",
              "      \n",
              "  <style>\n",
              "    .colab-df-container {\n",
              "      display:flex;\n",
              "      flex-wrap:wrap;\n",
              "      gap: 12px;\n",
              "    }\n",
              "\n",
              "    .colab-df-convert {\n",
              "      background-color: #E8F0FE;\n",
              "      border: none;\n",
              "      border-radius: 50%;\n",
              "      cursor: pointer;\n",
              "      display: none;\n",
              "      fill: #1967D2;\n",
              "      height: 32px;\n",
              "      padding: 0 0 0 0;\n",
              "      width: 32px;\n",
              "    }\n",
              "\n",
              "    .colab-df-convert:hover {\n",
              "      background-color: #E2EBFA;\n",
              "      box-shadow: 0px 1px 2px rgba(60, 64, 67, 0.3), 0px 1px 3px 1px rgba(60, 64, 67, 0.15);\n",
              "      fill: #174EA6;\n",
              "    }\n",
              "\n",
              "    [theme=dark] .colab-df-convert {\n",
              "      background-color: #3B4455;\n",
              "      fill: #D2E3FC;\n",
              "    }\n",
              "\n",
              "    [theme=dark] .colab-df-convert:hover {\n",
              "      background-color: #434B5C;\n",
              "      box-shadow: 0px 1px 3px 1px rgba(0, 0, 0, 0.15);\n",
              "      filter: drop-shadow(0px 1px 2px rgba(0, 0, 0, 0.3));\n",
              "      fill: #FFFFFF;\n",
              "    }\n",
              "  </style>\n",
              "\n",
              "      <script>\n",
              "        const buttonEl =\n",
              "          document.querySelector('#df-7ba4db0b-5fea-4071-bf05-44f98e9af332 button.colab-df-convert');\n",
              "        buttonEl.style.display =\n",
              "          google.colab.kernel.accessAllowed ? 'block' : 'none';\n",
              "\n",
              "        async function convertToInteractive(key) {\n",
              "          const element = document.querySelector('#df-7ba4db0b-5fea-4071-bf05-44f98e9af332');\n",
              "          const dataTable =\n",
              "            await google.colab.kernel.invokeFunction('convertToInteractive',\n",
              "                                                     [key], {});\n",
              "          if (!dataTable) return;\n",
              "\n",
              "          const docLinkHtml = 'Like what you see? Visit the ' +\n",
              "            '<a target=\"_blank\" href=https://colab.research.google.com/notebooks/data_table.ipynb>data table notebook</a>'\n",
              "            + ' to learn more about interactive tables.';\n",
              "          element.innerHTML = '';\n",
              "          dataTable['output_type'] = 'display_data';\n",
              "          await google.colab.output.renderOutput(dataTable, element);\n",
              "          const docLink = document.createElement('div');\n",
              "          docLink.innerHTML = docLinkHtml;\n",
              "          element.appendChild(docLink);\n",
              "        }\n",
              "      </script>\n",
              "    </div>\n",
              "  </div>\n",
              "  "
            ]
          },
          "metadata": {},
          "execution_count": 89
        }
      ],
      "source": [
        "# Select the columns 'user_id', 'song_id', 'play_count', 'title', 'text' from df_small data\n",
        "df_small = df_final[['user_id', 'song_id', 'play_count', 'title', 'text' ]].copy()\n",
        "\n",
        "# Drop the duplicates from the title column\n",
        "df_small.drop_duplicates(subset=\"title\", inplace=True)\n",
        "\n",
        "# Set the title column as the index\n",
        "df_small.set_index(\"title\", inplace = True)\n",
        "\n",
        "# See the first 5 records of the df_small dataset\n",
        "df_small.head()"
      ]
    },
    {
      "cell_type": "code",
      "execution_count": null,
      "metadata": {
        "id": "qDcYHwZTR-F5"
      },
      "outputs": [],
      "source": [
        "# Create the series of indices from the data\n",
        "indices = pd.Series(df_small.index)"
      ]
    },
    {
      "cell_type": "code",
      "execution_count": null,
      "metadata": {
        "id": "9UINF3Nwvwfr",
        "colab": {
          "base_uri": "https://localhost:8080/"
        },
        "outputId": "2160fae3-7cb7-4fdb-ad06-920a3b9c2cd0"
      },
      "outputs": [
        {
          "output_type": "stream",
          "name": "stderr",
          "text": [
            "[nltk_data] Downloading package punkt to /root/nltk_data...\n",
            "[nltk_data]   Unzipping tokenizers/punkt.zip.\n",
            "[nltk_data] Downloading package stopwords to /root/nltk_data...\n",
            "[nltk_data]   Unzipping corpora/stopwords.zip.\n",
            "[nltk_data] Downloading package wordnet to /root/nltk_data...\n"
          ]
        }
      ],
      "source": [
        "# Importing necessary packages to work with text data\n",
        "import nltk\n",
        "\n",
        "# Download punkt library\n",
        "nltk.download('punkt')\n",
        "\n",
        "# Download stopwords library\n",
        "nltk.download('stopwords')\n",
        "\n",
        "# Download wordnet \n",
        "nltk.download('wordnet')\n",
        "\n",
        "# Import regular expression\n",
        "import re\n",
        "\n",
        "# Import word_tokenizer\n",
        "from nltk.tokenize import word_tokenize\n",
        "\n",
        "# Import WordNetLemmatizer\n",
        "from nltk.stem import WordNetLemmatizer\n",
        "\n",
        "# Import stopwords\n",
        "from nltk.corpus import stopwords\n",
        "\n",
        "# Import CountVectorizer and TfidfVectorizer\n",
        "from sklearn.feature_extraction.text import CountVectorizer, TfidfVectorizer\n"
      ]
    },
    {
      "cell_type": "markdown",
      "metadata": {
        "id": "Jt2vitlnhoEg"
      },
      "source": [
        "We will create a **function to pre-process the text data:**"
      ]
    },
    {
      "cell_type": "code",
      "source": [
        "df_small.head()"
      ],
      "metadata": {
        "id": "2BBDTU3ppxj7",
        "colab": {
          "base_uri": "https://localhost:8080/"
        },
        "outputId": "25ee3f1c-09a3-434f-8643-90cb6d1ec84b"
      },
      "execution_count": null,
      "outputs": [
        {
          "output_type": "execute_result",
          "data": {
            "text/plain": [
              "                                 user_id  song_id  play_count  \\\n",
              "title                                                           \n",
              "Daisy And Prudence                  6958      447           1   \n",
              "The Ballad of Michael Valentine     6958      512           1   \n",
              "I Stand Corrected (Album)           6958      549           1   \n",
              "They Might Follow You               6958      703           1   \n",
              "Monkey Man                          6958      719           1   \n",
              "\n",
              "                                                                              text  \n",
              "title                                                                               \n",
              "Daisy And Prudence                    Daisy And Prudence Distillation Erin McKeown  \n",
              "The Ballad of Michael Valentine  The Ballad of Michael Valentine Sawdust The Ki...  \n",
              "I Stand Corrected (Album)        I Stand Corrected (Album) Vampire Weekend Vamp...  \n",
              "They Might Follow You                They Might Follow You Tiny Vipers Tiny Vipers  \n",
              "Monkey Man                           Monkey Man You Know I'm No Good Amy Winehouse  "
            ],
            "text/html": [
              "\n",
              "  <div id=\"df-a40dd097-959a-42d5-80fc-0b1692cda5f1\">\n",
              "    <div class=\"colab-df-container\">\n",
              "      <div>\n",
              "<style scoped>\n",
              "    .dataframe tbody tr th:only-of-type {\n",
              "        vertical-align: middle;\n",
              "    }\n",
              "\n",
              "    .dataframe tbody tr th {\n",
              "        vertical-align: top;\n",
              "    }\n",
              "\n",
              "    .dataframe thead th {\n",
              "        text-align: right;\n",
              "    }\n",
              "</style>\n",
              "<table border=\"1\" class=\"dataframe\">\n",
              "  <thead>\n",
              "    <tr style=\"text-align: right;\">\n",
              "      <th></th>\n",
              "      <th>user_id</th>\n",
              "      <th>song_id</th>\n",
              "      <th>play_count</th>\n",
              "      <th>text</th>\n",
              "    </tr>\n",
              "    <tr>\n",
              "      <th>title</th>\n",
              "      <th></th>\n",
              "      <th></th>\n",
              "      <th></th>\n",
              "      <th></th>\n",
              "    </tr>\n",
              "  </thead>\n",
              "  <tbody>\n",
              "    <tr>\n",
              "      <th>Daisy And Prudence</th>\n",
              "      <td>6958</td>\n",
              "      <td>447</td>\n",
              "      <td>1</td>\n",
              "      <td>Daisy And Prudence Distillation Erin McKeown</td>\n",
              "    </tr>\n",
              "    <tr>\n",
              "      <th>The Ballad of Michael Valentine</th>\n",
              "      <td>6958</td>\n",
              "      <td>512</td>\n",
              "      <td>1</td>\n",
              "      <td>The Ballad of Michael Valentine Sawdust The Ki...</td>\n",
              "    </tr>\n",
              "    <tr>\n",
              "      <th>I Stand Corrected (Album)</th>\n",
              "      <td>6958</td>\n",
              "      <td>549</td>\n",
              "      <td>1</td>\n",
              "      <td>I Stand Corrected (Album) Vampire Weekend Vamp...</td>\n",
              "    </tr>\n",
              "    <tr>\n",
              "      <th>They Might Follow You</th>\n",
              "      <td>6958</td>\n",
              "      <td>703</td>\n",
              "      <td>1</td>\n",
              "      <td>They Might Follow You Tiny Vipers Tiny Vipers</td>\n",
              "    </tr>\n",
              "    <tr>\n",
              "      <th>Monkey Man</th>\n",
              "      <td>6958</td>\n",
              "      <td>719</td>\n",
              "      <td>1</td>\n",
              "      <td>Monkey Man You Know I'm No Good Amy Winehouse</td>\n",
              "    </tr>\n",
              "  </tbody>\n",
              "</table>\n",
              "</div>\n",
              "      <button class=\"colab-df-convert\" onclick=\"convertToInteractive('df-a40dd097-959a-42d5-80fc-0b1692cda5f1')\"\n",
              "              title=\"Convert this dataframe to an interactive table.\"\n",
              "              style=\"display:none;\">\n",
              "        \n",
              "  <svg xmlns=\"http://www.w3.org/2000/svg\" height=\"24px\"viewBox=\"0 0 24 24\"\n",
              "       width=\"24px\">\n",
              "    <path d=\"M0 0h24v24H0V0z\" fill=\"none\"/>\n",
              "    <path d=\"M18.56 5.44l.94 2.06.94-2.06 2.06-.94-2.06-.94-.94-2.06-.94 2.06-2.06.94zm-11 1L8.5 8.5l.94-2.06 2.06-.94-2.06-.94L8.5 2.5l-.94 2.06-2.06.94zm10 10l.94 2.06.94-2.06 2.06-.94-2.06-.94-.94-2.06-.94 2.06-2.06.94z\"/><path d=\"M17.41 7.96l-1.37-1.37c-.4-.4-.92-.59-1.43-.59-.52 0-1.04.2-1.43.59L10.3 9.45l-7.72 7.72c-.78.78-.78 2.05 0 2.83L4 21.41c.39.39.9.59 1.41.59.51 0 1.02-.2 1.41-.59l7.78-7.78 2.81-2.81c.8-.78.8-2.07 0-2.86zM5.41 20L4 18.59l7.72-7.72 1.47 1.35L5.41 20z\"/>\n",
              "  </svg>\n",
              "      </button>\n",
              "      \n",
              "  <style>\n",
              "    .colab-df-container {\n",
              "      display:flex;\n",
              "      flex-wrap:wrap;\n",
              "      gap: 12px;\n",
              "    }\n",
              "\n",
              "    .colab-df-convert {\n",
              "      background-color: #E8F0FE;\n",
              "      border: none;\n",
              "      border-radius: 50%;\n",
              "      cursor: pointer;\n",
              "      display: none;\n",
              "      fill: #1967D2;\n",
              "      height: 32px;\n",
              "      padding: 0 0 0 0;\n",
              "      width: 32px;\n",
              "    }\n",
              "\n",
              "    .colab-df-convert:hover {\n",
              "      background-color: #E2EBFA;\n",
              "      box-shadow: 0px 1px 2px rgba(60, 64, 67, 0.3), 0px 1px 3px 1px rgba(60, 64, 67, 0.15);\n",
              "      fill: #174EA6;\n",
              "    }\n",
              "\n",
              "    [theme=dark] .colab-df-convert {\n",
              "      background-color: #3B4455;\n",
              "      fill: #D2E3FC;\n",
              "    }\n",
              "\n",
              "    [theme=dark] .colab-df-convert:hover {\n",
              "      background-color: #434B5C;\n",
              "      box-shadow: 0px 1px 3px 1px rgba(0, 0, 0, 0.15);\n",
              "      filter: drop-shadow(0px 1px 2px rgba(0, 0, 0, 0.3));\n",
              "      fill: #FFFFFF;\n",
              "    }\n",
              "  </style>\n",
              "\n",
              "      <script>\n",
              "        const buttonEl =\n",
              "          document.querySelector('#df-a40dd097-959a-42d5-80fc-0b1692cda5f1 button.colab-df-convert');\n",
              "        buttonEl.style.display =\n",
              "          google.colab.kernel.accessAllowed ? 'block' : 'none';\n",
              "\n",
              "        async function convertToInteractive(key) {\n",
              "          const element = document.querySelector('#df-a40dd097-959a-42d5-80fc-0b1692cda5f1');\n",
              "          const dataTable =\n",
              "            await google.colab.kernel.invokeFunction('convertToInteractive',\n",
              "                                                     [key], {});\n",
              "          if (!dataTable) return;\n",
              "\n",
              "          const docLinkHtml = 'Like what you see? Visit the ' +\n",
              "            '<a target=\"_blank\" href=https://colab.research.google.com/notebooks/data_table.ipynb>data table notebook</a>'\n",
              "            + ' to learn more about interactive tables.';\n",
              "          element.innerHTML = '';\n",
              "          dataTable['output_type'] = 'display_data';\n",
              "          await google.colab.output.renderOutput(dataTable, element);\n",
              "          const docLink = document.createElement('div');\n",
              "          docLink.innerHTML = docLinkHtml;\n",
              "          element.appendChild(docLink);\n",
              "        }\n",
              "      </script>\n",
              "    </div>\n",
              "  </div>\n",
              "  "
            ]
          },
          "metadata": {},
          "execution_count": 92
        }
      ]
    },
    {
      "cell_type": "code",
      "execution_count": null,
      "metadata": {
        "id": "j5QSSeUvR-F6"
      },
      "outputs": [],
      "source": [
        "# Create a function to tokenize the text\n",
        "\n",
        "def tokenize(text):\n",
        "\n",
        "  text = re.sub(r\"[^a-zA-Z]\", \" \", text.lower())\n",
        "  tokens = word_tokenize(text)  \n",
        "  words = [word for word in tokens if word not in stopwords.words('english')]\n",
        "  text_lems = [WordNetLemmatizer().lemmatize(lem).strip() for lem in words]\n",
        "\n",
        "  return text_lems"
      ]
    },
    {
      "cell_type": "code",
      "execution_count": null,
      "metadata": {
        "id": "RI_onIGdR-F6"
      },
      "outputs": [],
      "source": [
        "# Create tfidf vectorizer \n",
        "vectorizer = TfidfVectorizer(tokenizer = tokenize)\n",
        "\n",
        "# Fit_transfrom the above vectorizer on the text column and then convert the output into an array\n",
        "tfidf_array = vectorizer.fit_transform(df_small['text']).toarray()"
      ]
    },
    {
      "cell_type": "code",
      "execution_count": null,
      "metadata": {
        "id": "Beak6ODRR-F7"
      },
      "outputs": [],
      "source": [
        "# Compute the cosine similarity for the tfidf above output\n",
        "from sklearn.metrics.pairwise import cosine_similarity\n",
        "\n",
        "similar_songs = cosine_similarity(tfidf_array)"
      ]
    },
    {
      "cell_type": "markdown",
      "metadata": {
        "id": "3Jjo3UHKhoEh"
      },
      "source": [
        " Finally, let's create a function to find most similar songs to recommend for a given song."
      ]
    },
    {
      "cell_type": "code",
      "execution_count": null,
      "metadata": {
        "id": "upANOISkR-F8"
      },
      "outputs": [],
      "source": [
        "# Function that takes in song title as input and returns the top 10 recommended songs\n",
        "def recommendations(title, similar_songs):  \n",
        "    \n",
        "    recommended_songs = []\n",
        "    # Getting the index of the song that matches the title\n",
        "    idx = indices[indices == title].index[0]\n",
        "\n",
        "    # Creating a Series with the similarity scores in descending order\n",
        "    score_series = pd.Series(similar_songs[idx]).sort_values(ascending = False)\n",
        "\n",
        "    # Getting the indexes of the 10 most similar songs\n",
        "    top_10_indexes = list(score_series.iloc[1 : 11].index)\n",
        "    print(top_10_indexes)\n",
        "    \n",
        "    # Populating the list with the titles of the best 10 matching songs\n",
        "    for i in top_10_indexes:\n",
        "        recommended_songs.append(list(df_small.index)[i])\n",
        "        \n",
        "    return recommended_songs"
      ]
    },
    {
      "cell_type": "markdown",
      "metadata": {
        "id": "o4EINBmkR-F8"
      },
      "source": [
        "Recommending 10 songs similar to Learn to Fly"
      ]
    },
    {
      "cell_type": "code",
      "execution_count": null,
      "metadata": {
        "id": "ohEK5dkVR-F8",
        "colab": {
          "base_uri": "https://localhost:8080/"
        },
        "outputId": "82ff9f73-e1b1-4c96-cb14-129fa1180555"
      },
      "outputs": [
        {
          "output_type": "stream",
          "name": "stdout",
          "text": [
            "[509, 234, 423, 345, 394, 370, 371, 372, 373, 375]\n"
          ]
        },
        {
          "output_type": "execute_result",
          "data": {
            "text/plain": [
              "['Everlong',\n",
              " 'The Pretender',\n",
              " 'Nothing Better (Album)',\n",
              " 'From Left To Right',\n",
              " 'Lifespan Of A Fly',\n",
              " 'Under The Gun',\n",
              " 'I Need A Dollar',\n",
              " 'Feel The Love',\n",
              " 'All The Pretty Faces',\n",
              " 'Bones']"
            ]
          },
          "metadata": {},
          "execution_count": 97
        }
      ],
      "source": [
        "# Make the recommendation for the song with title 'Learn To Fly'\n",
        "\n",
        "recommendations('Learn To Fly', similar_songs)"
      ]
    },
    {
      "cell_type": "code",
      "source": [
        "df_final[df_final['title'].isin(['Everlong',\n",
        " 'The Pretender',\n",
        " 'Nothing Better (Album)',\n",
        " 'From Left To Right',\n",
        " 'Lifespan Of A Fly',\n",
        " 'Under The Gun',\n",
        " 'I Need A Dollar',\n",
        " 'Feel The Love',\n",
        " 'All The Pretty Faces',\n",
        " 'Bones'])][['song_id', 'title']].drop_duplicates()"
      ],
      "metadata": {
        "id": "aez1ykOVRym0",
        "colab": {
          "base_uri": "https://localhost:8080/"
        },
        "outputId": "8d9d57b5-7fa6-447c-a237-ebebe909a89d"
      },
      "execution_count": null,
      "outputs": [
        {
          "output_type": "execute_result",
          "data": {
            "text/plain": [
              "       song_id                   title\n",
              "1272      6525           The Pretender\n",
              "4278      4739      From Left To Right\n",
              "4916       771           Under The Gun\n",
              "4924      1674         I Need A Dollar\n",
              "4931      1936           Feel The Love\n",
              "4944      2716    All The Pretty Faces\n",
              "4973      5095                   Bones\n",
              "6680      3101       Lifespan Of A Fly\n",
              "9355      1994  Nothing Better (Album)\n",
              "20010     9249                Everlong"
            ],
            "text/html": [
              "\n",
              "  <div id=\"df-81db66a6-d684-42ea-9d8f-fc0c11f53757\">\n",
              "    <div class=\"colab-df-container\">\n",
              "      <div>\n",
              "<style scoped>\n",
              "    .dataframe tbody tr th:only-of-type {\n",
              "        vertical-align: middle;\n",
              "    }\n",
              "\n",
              "    .dataframe tbody tr th {\n",
              "        vertical-align: top;\n",
              "    }\n",
              "\n",
              "    .dataframe thead th {\n",
              "        text-align: right;\n",
              "    }\n",
              "</style>\n",
              "<table border=\"1\" class=\"dataframe\">\n",
              "  <thead>\n",
              "    <tr style=\"text-align: right;\">\n",
              "      <th></th>\n",
              "      <th>song_id</th>\n",
              "      <th>title</th>\n",
              "    </tr>\n",
              "  </thead>\n",
              "  <tbody>\n",
              "    <tr>\n",
              "      <th>1272</th>\n",
              "      <td>6525</td>\n",
              "      <td>The Pretender</td>\n",
              "    </tr>\n",
              "    <tr>\n",
              "      <th>4278</th>\n",
              "      <td>4739</td>\n",
              "      <td>From Left To Right</td>\n",
              "    </tr>\n",
              "    <tr>\n",
              "      <th>4916</th>\n",
              "      <td>771</td>\n",
              "      <td>Under The Gun</td>\n",
              "    </tr>\n",
              "    <tr>\n",
              "      <th>4924</th>\n",
              "      <td>1674</td>\n",
              "      <td>I Need A Dollar</td>\n",
              "    </tr>\n",
              "    <tr>\n",
              "      <th>4931</th>\n",
              "      <td>1936</td>\n",
              "      <td>Feel The Love</td>\n",
              "    </tr>\n",
              "    <tr>\n",
              "      <th>4944</th>\n",
              "      <td>2716</td>\n",
              "      <td>All The Pretty Faces</td>\n",
              "    </tr>\n",
              "    <tr>\n",
              "      <th>4973</th>\n",
              "      <td>5095</td>\n",
              "      <td>Bones</td>\n",
              "    </tr>\n",
              "    <tr>\n",
              "      <th>6680</th>\n",
              "      <td>3101</td>\n",
              "      <td>Lifespan Of A Fly</td>\n",
              "    </tr>\n",
              "    <tr>\n",
              "      <th>9355</th>\n",
              "      <td>1994</td>\n",
              "      <td>Nothing Better (Album)</td>\n",
              "    </tr>\n",
              "    <tr>\n",
              "      <th>20010</th>\n",
              "      <td>9249</td>\n",
              "      <td>Everlong</td>\n",
              "    </tr>\n",
              "  </tbody>\n",
              "</table>\n",
              "</div>\n",
              "      <button class=\"colab-df-convert\" onclick=\"convertToInteractive('df-81db66a6-d684-42ea-9d8f-fc0c11f53757')\"\n",
              "              title=\"Convert this dataframe to an interactive table.\"\n",
              "              style=\"display:none;\">\n",
              "        \n",
              "  <svg xmlns=\"http://www.w3.org/2000/svg\" height=\"24px\"viewBox=\"0 0 24 24\"\n",
              "       width=\"24px\">\n",
              "    <path d=\"M0 0h24v24H0V0z\" fill=\"none\"/>\n",
              "    <path d=\"M18.56 5.44l.94 2.06.94-2.06 2.06-.94-2.06-.94-.94-2.06-.94 2.06-2.06.94zm-11 1L8.5 8.5l.94-2.06 2.06-.94-2.06-.94L8.5 2.5l-.94 2.06-2.06.94zm10 10l.94 2.06.94-2.06 2.06-.94-2.06-.94-.94-2.06-.94 2.06-2.06.94z\"/><path d=\"M17.41 7.96l-1.37-1.37c-.4-.4-.92-.59-1.43-.59-.52 0-1.04.2-1.43.59L10.3 9.45l-7.72 7.72c-.78.78-.78 2.05 0 2.83L4 21.41c.39.39.9.59 1.41.59.51 0 1.02-.2 1.41-.59l7.78-7.78 2.81-2.81c.8-.78.8-2.07 0-2.86zM5.41 20L4 18.59l7.72-7.72 1.47 1.35L5.41 20z\"/>\n",
              "  </svg>\n",
              "      </button>\n",
              "      \n",
              "  <style>\n",
              "    .colab-df-container {\n",
              "      display:flex;\n",
              "      flex-wrap:wrap;\n",
              "      gap: 12px;\n",
              "    }\n",
              "\n",
              "    .colab-df-convert {\n",
              "      background-color: #E8F0FE;\n",
              "      border: none;\n",
              "      border-radius: 50%;\n",
              "      cursor: pointer;\n",
              "      display: none;\n",
              "      fill: #1967D2;\n",
              "      height: 32px;\n",
              "      padding: 0 0 0 0;\n",
              "      width: 32px;\n",
              "    }\n",
              "\n",
              "    .colab-df-convert:hover {\n",
              "      background-color: #E2EBFA;\n",
              "      box-shadow: 0px 1px 2px rgba(60, 64, 67, 0.3), 0px 1px 3px 1px rgba(60, 64, 67, 0.15);\n",
              "      fill: #174EA6;\n",
              "    }\n",
              "\n",
              "    [theme=dark] .colab-df-convert {\n",
              "      background-color: #3B4455;\n",
              "      fill: #D2E3FC;\n",
              "    }\n",
              "\n",
              "    [theme=dark] .colab-df-convert:hover {\n",
              "      background-color: #434B5C;\n",
              "      box-shadow: 0px 1px 3px 1px rgba(0, 0, 0, 0.15);\n",
              "      filter: drop-shadow(0px 1px 2px rgba(0, 0, 0, 0.3));\n",
              "      fill: #FFFFFF;\n",
              "    }\n",
              "  </style>\n",
              "\n",
              "      <script>\n",
              "        const buttonEl =\n",
              "          document.querySelector('#df-81db66a6-d684-42ea-9d8f-fc0c11f53757 button.colab-df-convert');\n",
              "        buttonEl.style.display =\n",
              "          google.colab.kernel.accessAllowed ? 'block' : 'none';\n",
              "\n",
              "        async function convertToInteractive(key) {\n",
              "          const element = document.querySelector('#df-81db66a6-d684-42ea-9d8f-fc0c11f53757');\n",
              "          const dataTable =\n",
              "            await google.colab.kernel.invokeFunction('convertToInteractive',\n",
              "                                                     [key], {});\n",
              "          if (!dataTable) return;\n",
              "\n",
              "          const docLinkHtml = 'Like what you see? Visit the ' +\n",
              "            '<a target=\"_blank\" href=https://colab.research.google.com/notebooks/data_table.ipynb>data table notebook</a>'\n",
              "            + ' to learn more about interactive tables.';\n",
              "          element.innerHTML = '';\n",
              "          dataTable['output_type'] = 'display_data';\n",
              "          await google.colab.output.renderOutput(dataTable, element);\n",
              "          const docLink = document.createElement('div');\n",
              "          docLink.innerHTML = docLinkHtml;\n",
              "          element.appendChild(docLink);\n",
              "        }\n",
              "      </script>\n",
              "    </div>\n",
              "  </div>\n",
              "  "
            ]
          },
          "metadata": {},
          "execution_count": 98
        }
      ]
    },
    {
      "cell_type": "markdown",
      "metadata": {
        "id": "UQ7iI5QJ0oem"
      },
      "source": [
        "**Observations and Insights:**\n",
        "\n",
        "* This method again produces a different recommendation list to all other optimised models."
      ]
    },
    {
      "cell_type": "markdown",
      "metadata": {
        "id": "73367782"
      },
      "source": [
        "## **Conclusion and Recommendations**"
      ]
    },
    {
      "cell_type": "markdown",
      "source": [
        "**1. Comparison of various techniques and their relative performance based on chosen Metric (Measure of success)**:\n",
        "- How do different techniques perform? Which one is performing relatively better? Is there scope to improve the performance further?\n",
        "\n",
        "|Model|Measure|Result|\n",
        "|---|---|---|\n",
        "|sim_user_user_optimized|RMSE|1.0521\n",
        "|sim_user_user_optimized|Precision|0.413\n",
        "|sim_user_user_optimized|Recall|0.721\n",
        "|sim_user_user_optimized|F_1 score|__0.525__\n",
        "|sim_item_item_optimized|RMSE|1.0328\n",
        "|sim_item_item_optimized|Precision|0.408\n",
        "|sim_item_item_optimized|Recall|0.665\n",
        "|sim_item_item_optimized|F_1 score|__0.506__\n",
        "|svd_optimized|RMSE|1.0141\n",
        "|svd_optimized|Precision|0.415\n",
        "|svd_optimized|Recall|0.635\n",
        "|svd_optimized|F_1 score|__0.502__\n",
        "|coclustering_optimized|RMSE|1.0487\n",
        "|coclustering_optimized|Precision|0.397\n",
        "|coclustering_optimized|Recall|0.582\n",
        "|coclustering_optimized|F_1 score|__0.472__\n",
        "\n",
        "* The model that has the __highest F_1__ score was the optimised __user-user similarity model__, the model that has the weakest __F_1__ was the __coclustering model__. \n",
        "\n",
        "* The Content Based Recommendation Systems, based similarity off the title, realse and artist name. This may not be enough features to recommend songs to a user for example, information such as genre or artist nationality could be considered.\n",
        "\n",
        "* There is scope to further parameter tune the models, this can improve performance but requires more investment in processing. "
      ],
      "metadata": {
        "id": "N5BT7Ocwqf5x"
      }
    },
    {
      "cell_type": "markdown",
      "source": [
        "**2. Refined insights**:\n",
        "- What are the most meaningful insights from the data relevant to the problem?\n",
        "\n",
        "* Taking note that this data set of 3155 __users__, 563 __songs__ with __117,876 of user-song interactions.__ The models considered were all able to generate a recommendation list for any given user provided the had some baseline interaction level. \n",
        "\n",
        "* To generate any recommendation system it is imporant to consider each approach namely user-user, item-item similarity and clustering approaches. "
      ],
      "metadata": {
        "id": "wjc6vTcoqp6v"
      }
    },
    {
      "cell_type": "markdown",
      "metadata": {
        "id": "hK6PMGUtoxVx"
      },
      "source": [
        "**3. Proposal for the final solution design:** \n",
        "- What model do you propose to be adopted? Why is this the best solution to adopt?\n",
        "\n",
        "* In a real world application a combination of each approach could be used to generate recommendations, it's also important to consider peoples preferences over time and adjust.\n",
        "\n",
        "* Even, the simple ranking of the most interacted songs can be used to users who are new and we do not have the data to make personalised recommendations. \n",
        "\n",
        "* When, we consider a platform like Spotify it doesn't just recommend songs to it's users. It also has to consider podcasts, albums and playlists this may be better suited to item-item smilarity models rather than user-user similariy models. \n",
        "\n",
        "* __However__ from this analysis, a user-user similary model can be used to generate personalised song lists for it's users.  "
      ]
    }
  ],
  "metadata": {
    "colab": {
      "provenance": [],
      "include_colab_link": true
    },
    "kernelspec": {
      "display_name": "Python 3 (ipykernel)",
      "language": "python",
      "name": "python3"
    },
    "language_info": {
      "codemirror_mode": {
        "name": "ipython",
        "version": 3
      },
      "file_extension": ".py",
      "mimetype": "text/x-python",
      "name": "python",
      "nbconvert_exporter": "python",
      "pygments_lexer": "ipython3",
      "version": "3.9.13"
    }
  },
  "nbformat": 4,
  "nbformat_minor": 0
}